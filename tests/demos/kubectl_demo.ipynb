{
 "cells": [
  {
   "cell_type": "markdown",
   "metadata": {},
   "source": [
    "# Deploying Machine Learning Models using kubectl\n",
    "This demo shows how you can interact directly with kubernetes using kubectl to create and manage runtime machine learning models.\n",
    "<img src=\"images/deploy-graph.png\" alt=\"predictor with canary\" title=\"ml graph\"/>"
   ]
  },
  {
   "cell_type": "code",
   "execution_count": 3,
   "metadata": {
    "collapsed": false
   },
   "outputs": [
    {
     "name": "stdout",
     "output_type": "stream",
     "text": [
      "node \"apiserver-crd\" not labeled\r\n"
     ]
    }
   ],
   "source": [
    "!kubectl label nodes apiserver-crd role=locust --overwrite"
   ]
  },
  {
   "cell_type": "markdown",
   "metadata": {},
   "source": [
    "## Start seldon-core"
   ]
  },
  {
   "cell_type": "code",
   "execution_count": 2,
   "metadata": {
    "collapsed": false
   },
   "outputs": [
    {
     "name": "stdout",
     "output_type": "stream",
     "text": [
      "NAME:   seldon-core\n",
      "LAST DEPLOYED: Tue Nov 28 11:21:42 2017\n",
      "NAMESPACE: default\n",
      "STATUS: DEPLOYED\n",
      "\n",
      "RESOURCES:\n",
      "==> v1/Service\n",
      "NAME                      TYPE       CLUSTER-IP  EXTERNAL-IP  PORT(S)                     AGE\n",
      "alertmanager              ClusterIP  10.0.0.82   <none>       80/TCP                      6s\n",
      "seldon-apiserver          NodePort   10.0.0.27   <none>       8080:30032/TCP              6s\n",
      "seldon-cluster-manager    NodePort   10.0.0.106  <none>       8080:30030/TCP              6s\n",
      "grafana-prom              NodePort   10.0.0.135  <none>       80:30034/TCP                6s\n",
      "kafka                     NodePort   10.0.0.115  <none>       9092:30010/TCP              6s\n",
      "prometheus-node-exporter  ClusterIP  None        <none>       9100/TCP                    5s\n",
      "prometheus-seldon         ClusterIP  10.0.0.69   <none>       80/TCP                      5s\n",
      "redis                     ClusterIP  10.0.0.190  <none>       6379/TCP                    5s\n",
      "zookeeper-1               ClusterIP  10.0.0.246  <none>       2181/TCP,2888/TCP,3888/TCP  5s\n",
      "zookeeper-2               ClusterIP  10.0.0.151  <none>       2181/TCP,2888/TCP,3888/TCP  5s\n",
      "zookeeper-3               ClusterIP  10.0.0.191  <none>       2181/TCP,2888/TCP,3888/TCP  5s\n",
      "\n",
      "==> v1/Pod\n",
      "NAME         READY  STATUS   RESTARTS  AGE\n",
      "zookeeper-1  0/1    Pending  0         5s\n",
      "zookeeper-2  0/1    Pending  0         5s\n",
      "zookeeper-3  0/1    Pending  0         5s\n",
      "\n",
      "==> v1/Pod(related)\n",
      "grafana-prom-import-dashboards-cnndm      0/1  ContainerCreating  0  6s\n",
      "alertmanager-deployment-8d76d45f-kjdf4    0/1  ContainerCreating  0  6s\n",
      "seldon-apiserver-7954f94449-gbfzh         0/1  ContainerCreating  0  6s\n",
      "seldon-cluster-manager-84cd789b9-spksv    0/1  ContainerCreating  0  6s\n",
      "grafana-prom-deployment-586bc9b9c5-b8tm7  0/1  ContainerCreating  0  6s\n",
      "kafka-6b57cb69f8-4g562                    0/1  ContainerCreating  0  5s\n",
      "prometheus-node-exporter-ngzvr            0/1  ContainerCreating  0  5s\n",
      "prometheus-deployment-6666b95955-ktgk8    0/1  Pending            0  5s\n",
      "redis-6668b544f4-qj2c4                    0/1  Pending            0  5s\n",
      "\n",
      "==> v1/Secret\n",
      "NAME                           TYPE    DATA  AGE\n",
      "cluster-manager-client-secret  Opaque  1     6s\n",
      "grafana-prom-secret            Opaque  1     6s\n",
      "\n",
      "==> v1/ConfigMap\n",
      "NAME                       DATA  AGE\n",
      "alertmanager-server-conf   1     6s\n",
      "grafana-import-dashboards  5     6s\n",
      "prometheus-rules           4     6s\n",
      "prometheus-server-conf     1     6s\n",
      "\n",
      "==> v1beta1/CustomResourceDefinition\n",
      "NAME                                         AGE\n",
      "seldondeployments.machinelearning.seldon.io  6s\n",
      "\n",
      "==> v1/Job\n",
      "NAME                            DESIRED  SUCCESSFUL  AGE\n",
      "grafana-prom-import-dashboards  1        0           6s\n",
      "\n",
      "==> v1beta1/Deployment\n",
      "NAME                     DESIRED  CURRENT  UP-TO-DATE  AVAILABLE  AGE\n",
      "alertmanager-deployment  1        1        1           0          6s\n",
      "seldon-apiserver         1        1        1           0          6s\n",
      "seldon-cluster-manager   1        1        1           0          6s\n",
      "grafana-prom-deployment  1        1        1           0          6s\n",
      "kafka                    1        1        1           0          5s\n",
      "prometheus-deployment    1        1        1           0          5s\n",
      "redis                    1        1        1           0          5s\n",
      "\n",
      "==> v1beta1/DaemonSet\n",
      "NAME                      DESIRED  CURRENT  READY  UP-TO-DATE  AVAILABLE  NODE SELECTOR  AGE\n",
      "prometheus-node-exporter  1        1        0      1           0          <none>         5s\n",
      "\n",
      "\n",
      "NOTES:\n",
      "NOTES: TODO\n",
      "\n",
      "\n"
     ]
    }
   ],
   "source": [
    "!helm install ../../helm-charts/seldon-core --name seldon-core --set grafana_prom_admin_password=password --set persistence.enabled=false --set cluster_manager.image.tag=0.3-SNAPSHOT --set apife.image.tag=0.1-SNAPSHOT --set engine.image.tag=0.2-SNAPSHOT"
   ]
  },
  {
   "cell_type": "code",
   "execution_count": 3,
   "metadata": {
    "collapsed": false
   },
   "outputs": [
    {
     "name": "stdout",
     "output_type": "stream",
     "text": [
      "NAME                      DESIRED   CURRENT   UP-TO-DATE   AVAILABLE   AGE\r\n",
      "alertmanager-deployment   1         1         1            1           26s\r\n",
      "grafana-prom-deployment   1         1         1            1           26s\r\n",
      "kafka                     1         1         1            1           25s\r\n",
      "prometheus-deployment     1         1         1            1           25s\r\n",
      "redis                     1         1         1            1           25s\r\n",
      "seldon-apiserver          1         1         1            1           26s\r\n",
      "seldon-cluster-manager    1         1         1            1           26s\r\n"
     ]
    }
   ],
   "source": [
    "!kubectl get deployments"
   ]
  },
  {
   "cell_type": "markdown",
   "metadata": {},
   "source": [
    "# Integrating with Kubernetes API"
   ]
  },
  {
   "cell_type": "code",
   "execution_count": 4,
   "metadata": {
    "collapsed": false
   },
   "outputs": [
    {
     "name": "stdout",
     "output_type": "stream",
     "text": [
      "{\r\n",
      "    \"apiVersion\": \"machinelearning.seldon.io/v1alpha1\",\r\n",
      "    \"kind\": \"SeldonDeployment\",\r\n",
      "    \"metadata\": {\r\n",
      "        \"labels\": {\r\n",
      "            \"app\": \"seldon\"\r\n",
      "        },\r\n",
      "        \"name\": \"seldon-deployment-example\"\r\n",
      "    },\r\n",
      "    \"spec\": {\r\n",
      "        \"annotations\": {\r\n",
      "            \"project_name\": \"FX Market Prediction\"\r\n",
      "        },\r\n",
      "        \"name\": \"test-deployment\",\r\n",
      "        \"oauth_key\": \"oauth-key\",\r\n",
      "        \"oauth_secret\": \"oauth-secret\",\r\n",
      "        \"predictors\": [\r\n",
      "            {\r\n",
      "                \"componentSpec\": {\r\n",
      "                    \"spec\": {\r\n",
      "                        \"containers\": [\r\n",
      "                            {\r\n",
      "                                \"image\": \"seldonio/mean_classifier:0.5\",\r\n",
      "                                \"imagePullPolicy\": \"IfNotPresent\",\r\n",
      "                                \"name\": \"mean-classifier\",\r\n",
      "                                \"resources\": {\r\n",
      "                                    \"requests\": {\r\n",
      "                                        \"memory\": \"1Mi\"\r\n",
      "                                    }\r\n",
      "                                }\r\n",
      "                            }\r\n",
      "                        ],\r\n",
      "                        \"terminationGracePeriodSeconds\": 0\r\n",
      "                    }\r\n",
      "                },\r\n",
      "                \"graph\": {\r\n",
      "                    \"children\": [],\r\n",
      "                    \"name\": \"mean-classifier\",\r\n",
      "                    \"endpoint\": {\r\n",
      "\t\t\t\"type\" : \"REST\"\r\n",
      "\t\t    },\r\n",
      "                    \"subtype\": \"SIMPLE_MODEL\",\r\n",
      "                    \"type\": \"MODEL\"\r\n",
      "                },\r\n",
      "                \"name\": \"fx-market-predictor\",\r\n",
      "                \"replicas\": 1\r\n",
      "            }\r\n",
      "        ]\r\n",
      "    }\r\n",
      "}\r\n"
     ]
    }
   ],
   "source": [
    "!cat resources/model.json"
   ]
  },
  {
   "cell_type": "markdown",
   "metadata": {},
   "source": [
    "## Create Seldon Deployment"
   ]
  },
  {
   "cell_type": "code",
   "execution_count": 5,
   "metadata": {
    "collapsed": false
   },
   "outputs": [
    {
     "name": "stdout",
     "output_type": "stream",
     "text": [
      "seldondeployment \"seldon-deployment-example\" created\r\n"
     ]
    }
   ],
   "source": [
    "!kubectl apply -f resources/model.json"
   ]
  },
  {
   "cell_type": "code",
   "execution_count": 6,
   "metadata": {
    "collapsed": false
   },
   "outputs": [
    {
     "name": "stdout",
     "output_type": "stream",
     "text": [
      "NAME                        AGE\r\n",
      "seldon-deployment-example   3s\r\n"
     ]
    }
   ],
   "source": [
    "!kubectl get seldondeployments"
   ]
  },
  {
   "cell_type": "code",
   "execution_count": 7,
   "metadata": {
    "collapsed": false
   },
   "outputs": [
    {
     "name": "stdout",
     "output_type": "stream",
     "text": [
      "Name:         seldon-deployment-example\r\n",
      "Namespace:    default\r\n",
      "Labels:       app=seldon\r\n",
      "Annotations:  kubectl.kubernetes.io/last-applied-configuration={\"apiVersion\":\"machinelearning.seldon.io/v1alpha1\",\"kind\":\"SeldonDeployment\",\"metadata\":{\"name\":\"seldon-deployment-example\",\"namespace\":\"default\",\"self...\r\n",
      "API Version:  machinelearning.seldon.io/v1alpha1\r\n",
      "Kind:         SeldonDeployment\r\n",
      "Metadata:\r\n",
      "  Cluster Name:        \r\n",
      "  Creation Timestamp:  2017-11-28T11:23:39Z\r\n",
      "  Generation:          0\r\n",
      "  Initializers:        <nil>\r\n",
      "  Resource Version:    1221485\r\n",
      "  Self Link:           /apis/machinelearning.seldon.io/v1alpha1/namespaces/default/seldondeployments/seldon-deployment-example\r\n",
      "  UID:                 95102f7e-d42e-11e7-9b11-08002751d93c\r\n",
      "Spec:\r\n",
      "  Annotations:\r\n",
      "    Project _ Name:  FX Market Prediction\r\n",
      "  Endpoint:\r\n",
      "    Service _ Host:  test-deployment\r\n",
      "    Service _ Port:  8000\r\n",
      "    Type:            REST\r\n",
      "  Name:              test-deployment\r\n",
      "  Oauth _ Key:       oauth-key\r\n",
      "  Oauth _ Secret:    oauth-secret\r\n",
      "  Predictors:\r\n",
      "    Component Spec:\r\n",
      "      Metadata:\r\n",
      "        Labels:\r\n",
      "          Seldon - App:  test-deployment\r\n",
      "      Spec:\r\n",
      "        Containers:\r\n",
      "          Env:\r\n",
      "            Name:             PREDICTIVE_UNIT_SERVICE_PORT\r\n",
      "            Value:            9000\r\n",
      "            Name:             PREDICTIVE_UNIT_PARAMETERS\r\n",
      "            Value:            []\r\n",
      "          Image:              seldonio/mean_classifier:0.5\r\n",
      "          Image Pull Policy:  IfNotPresent\r\n",
      "          Lifecycle:\r\n",
      "            Pre Stop:\r\n",
      "              Exec:\r\n",
      "                Command:\r\n",
      "                  /bin/bash\r\n",
      "                  -c\r\n",
      "                  /bin/sleep 20\r\n",
      "          Liveness Probe:\r\n",
      "            Handler:\r\n",
      "              Tcp Socket:\r\n",
      "                Port:               http\r\n",
      "            Initial Delay Seconds:  10\r\n",
      "            Period Seconds:         5\r\n",
      "          Name:                     mean-classifier\r\n",
      "          Ports:\r\n",
      "            Container Port:  9000\r\n",
      "            Name:            http\r\n",
      "          Readiness Probe:\r\n",
      "            Handler:\r\n",
      "              Tcp Socket:\r\n",
      "                Port:               http\r\n",
      "            Initial Delay Seconds:  10\r\n",
      "            Period Seconds:         5\r\n",
      "          Resources:\r\n",
      "            Requests:\r\n",
      "              Memory:                      1Mi\r\n",
      "        Termination Grace Period Seconds:  0\r\n",
      "    Graph:\r\n",
      "      Endpoint:\r\n",
      "        Service _ Port:  9000\r\n",
      "        Type:            REST\r\n",
      "      Name:              mean-classifier\r\n",
      "      Subtype:           SIMPLE_MODEL\r\n",
      "      Type:              MODEL\r\n",
      "    Name:                fx-market-predictor\r\n",
      "    Replicas:            1\r\n",
      "Events:                  <none>\r\n"
     ]
    }
   ],
   "source": [
    "!kubectl describe seldondeployments seldon-deployment-example "
   ]
  },
  {
   "cell_type": "code",
   "execution_count": 8,
   "metadata": {
    "collapsed": false
   },
   "outputs": [
    {
     "name": "stdout",
     "output_type": "stream",
     "text": [
      "map[predictorStatus:[map[replicasAvailable:1 name:test-deployment-fx-market-predictor replicas:1]]]"
     ]
    }
   ],
   "source": [
    "!kubectl get seldondeployments seldon-deployment-example -o jsonpath='{.status}'"
   ]
  },
  {
   "cell_type": "markdown",
   "metadata": {},
   "source": [
    "## Get predictions"
   ]
  },
  {
   "cell_type": "code",
   "execution_count": 9,
   "metadata": {
    "collapsed": false
   },
   "outputs": [
    {
     "name": "stdout",
     "output_type": "stream",
     "text": [
      "192.168.99.100:30032\n",
      "{\n",
      "  \"status\": {\n",
      "    \"code\": 0,\n",
      "    \"info\": \"\",\n",
      "    \"reason\": \"\",\n",
      "    \"status\": \"SUCCESS\"\n",
      "  },\n",
      "  \"meta\": {\n",
      "    \"puid\": \"jfgf1nr41vmjqlg4f4r312s8n3\",\n",
      "    \"tags\": {\n",
      "    },\n",
      "    \"routing\": {\n",
      "    }\n",
      "  },\n",
      "  \"data\": {\n",
      "    \"names\": [\"class0\", \"class1\", \"class2\"],\n",
      "    \"tensor\": {\n",
      "      \"shape\": [1, 3],\n",
      "      \"values\": [0.1, 0.9, 0.5]\n",
      "    }\n",
      "  }\n",
      "}"
     ]
    }
   ],
   "source": [
    "%%bash\n",
    "API_SERVER=35.195.94.148:8080\n",
    "MINIKUBE_SERVER=192.168.99.100:30032\n",
    "SERVER=$API_SERVER\n",
    "SERVER=$MINIKUBE_SERVER\n",
    "#SERVER=0.0.0.0:8080\n",
    "echo \"$SERVER\"\n",
    "TOKEN=`curl -s -H \"Accept: application/json\" oauth-key:oauth-secret@${SERVER}/oauth/token -d grant_type=client_credentials | jq -r '.access_token'`\n",
    "curl -s -H \"Content-Type:application/json\" -H \"Accept: application/json\" -H \"Authorization: Bearer $TOKEN\" \\\n",
    "    ${SERVER}/api/v0.1/predictions \\\n",
    "    -d '{\"request\":{\"features\":[\"a\"],\"ndarray\":[[1.0],[2.0]]}}'"
   ]
  },
  {
   "cell_type": "markdown",
   "metadata": {},
   "source": [
    "## Update deployment with canary"
   ]
  },
  {
   "cell_type": "code",
   "execution_count": 10,
   "metadata": {
    "collapsed": false
   },
   "outputs": [
    {
     "name": "stdout",
     "output_type": "stream",
     "text": [
      "{\r\n",
      "    \"apiVersion\": \"machinelearning.seldon.io/v1alpha1\",\r\n",
      "    \"kind\": \"SeldonDeployment\",\r\n",
      "    \"metadata\": {\r\n",
      "        \"labels\": {\r\n",
      "            \"app\": \"seldon\"\r\n",
      "        },\r\n",
      "        \"name\": \"seldon-deployment-example\"\r\n",
      "    },\r\n",
      "    \"spec\": {\r\n",
      "        \"annotations\": {\r\n",
      "            \"project_name\": \"FX Market Prediction\"\r\n",
      "        },\r\n",
      "        \"name\": \"test-deployment\",\r\n",
      "        \"oauth_key\": \"oauth-key\",\r\n",
      "        \"oauth_secret\": \"oauth-secret\",\r\n",
      "        \"predictors\": [\r\n",
      "            {\r\n",
      "                \"componentSpec\": {\r\n",
      "                    \"spec\": {\r\n",
      "                        \"containers\": [\r\n",
      "                            {\r\n",
      "                                \"image\": \"seldonio/mean_classifier:0.5\",\r\n",
      "                                \"imagePullPolicy\": \"IfNotPresent\",\r\n",
      "                                \"name\": \"mean-classifier\",\r\n",
      "                                \"resources\": {\r\n",
      "                                    \"requests\": {\r\n",
      "                                        \"memory\": \"1Mi\"\r\n",
      "                                    }\r\n",
      "                                }\r\n",
      "                            }\r\n",
      "                        ],\r\n",
      "                        \"terminationGracePeriodSeconds\": 0\r\n",
      "                    }\r\n",
      "                },\r\n",
      "                \"graph\": {\r\n",
      "                    \"children\": [],\r\n",
      "                    \"name\": \"mean-classifier\",\r\n",
      "                    \"endpoint\": {\r\n",
      "\t\t\t\"type\" : \"REST\"\r\n",
      "\t\t    },\r\n",
      "                    \"subtype\": \"SIMPLE_MODEL\",\r\n",
      "                    \"type\": \"MODEL\"\r\n",
      "                },\r\n",
      "                \"name\": \"fx-market-predictor\",\r\n",
      "                \"replicas\": 1\r\n",
      "            },\r\n",
      "            {\r\n",
      "                \"componentSpec\": {\r\n",
      "                    \"spec\": {\r\n",
      "                        \"containers\": [\r\n",
      "                            {\r\n",
      "                                \"image\": \"seldonio/mean_classifier:0.5\",\r\n",
      "                                \"imagePullPolicy\": \"IfNotPresent\",\r\n",
      "                                \"name\": \"mean-classifier\",\r\n",
      "                                \"resources\": {\r\n",
      "                                    \"requests\": {\r\n",
      "                                        \"memory\": \"1Mi\"\r\n",
      "                                    }\r\n",
      "                                }\r\n",
      "                            }\r\n",
      "                        ],\r\n",
      "                        \"terminationGracePeriodSeconds\": 0\r\n",
      "                    }\r\n",
      "                },\r\n",
      "                \"graph\": {\r\n",
      "                    \"children\": [],\r\n",
      "                    \"name\": \"mean-classifier\",\r\n",
      "                    \"endpoint\": {\r\n",
      "\t\t\t\"type\" : \"REST\"\r\n",
      "\t\t    },\r\n",
      "                    \"subtype\": \"SIMPLE_MODEL\",\r\n",
      "                    \"type\": \"MODEL\"\r\n",
      "                },\r\n",
      "                \"name\": \"fx-market-predictor-canary\",\r\n",
      "                \"replicas\": 1\r\n",
      "            }\r\n",
      "        ]\r\n",
      "    }\r\n",
      "}\r\n"
     ]
    }
   ],
   "source": [
    "!cat resources/model_with_canary.json"
   ]
  },
  {
   "cell_type": "code",
   "execution_count": 11,
   "metadata": {
    "collapsed": false
   },
   "outputs": [
    {
     "name": "stdout",
     "output_type": "stream",
     "text": [
      "seldondeployment \"seldon-deployment-example\" configured\r\n"
     ]
    }
   ],
   "source": [
    "!kubectl apply -f resources/model_with_canary.json"
   ]
  },
  {
   "cell_type": "code",
   "execution_count": 13,
   "metadata": {
    "collapsed": false
   },
   "outputs": [
    {
     "name": "stdout",
     "output_type": "stream",
     "text": [
      "Error from server (NotFound): seldondeployments.machinelearning.seldon.io \"mldeployment-example\" not found\r\n"
     ]
    }
   ],
   "source": [
    "!kubectl get seldondeployments mldeployment-example -o jsonpath='{.status}'"
   ]
  },
  {
   "cell_type": "code",
   "execution_count": 14,
   "metadata": {
    "collapsed": false
   },
   "outputs": [
    {
     "name": "stdout",
     "output_type": "stream",
     "text": [
      "{\n",
      "  \"status\": {\n",
      "    \"code\": 0,\n",
      "    \"info\": \"\",\n",
      "    \"reason\": \"\",\n",
      "    \"status\": \"SUCCESS\"\n",
      "  },\n",
      "  \"meta\": {\n",
      "    \"puid\": \"f0lnnvujc729jf9ggln9qrc82p\",\n",
      "    \"tags\": {\n",
      "    },\n",
      "    \"routing\": {\n",
      "    }\n",
      "  },\n",
      "  \"data\": {\n",
      "    \"names\": [\"class0\", \"class1\", \"class2\"],\n",
      "    \"tensor\": {\n",
      "      \"shape\": [1, 3],\n",
      "      \"values\": [0.1, 0.9, 0.5]\n",
      "    }\n",
      "  }\n",
      "}"
     ]
    }
   ],
   "source": [
    "%%bash\n",
    "API_SERVER=35.189.249.200:8080\n",
    "MINIKUBE_SERVER=192.168.99.100:30032\n",
    "SERVER=$API_SERVER\n",
    "SERVER=$MINIKUBE_SERVER\n",
    "TOKEN=`curl -s -H \"Accept: application/json\" oauth-key:oauth-secret@${SERVER}/oauth/token -d grant_type=client_credentials | jq -r '.access_token'`\n",
    "curl -s -H \"Content-Type:application/json\" -H \"Accept: application/json\" -H \"Authorization: Bearer $TOKEN\" \\\n",
    "    ${SERVER}/api/v0.1/predictions \\\n",
    "    -d '{\"request\":{\"features\":[\"a\"],\"ndarray\":[[1.0],[2.0]]}}'"
   ]
  },
  {
   "cell_type": "markdown",
   "metadata": {},
   "source": [
    "## Load test"
   ]
  },
  {
   "cell_type": "code",
   "execution_count": 20,
   "metadata": {
    "collapsed": false
   },
   "outputs": [
    {
     "name": "stdout",
     "output_type": "stream",
     "text": [
      "NAME:   loadtest\n",
      "LAST DEPLOYED: Sun Nov  5 14:49:42 2017\n",
      "NAMESPACE: default\n",
      "STATUS: DEPLOYED\n",
      "\n",
      "RESOURCES:\n",
      "==> v1/ReplicationController\n",
      "NAME             DESIRED  CURRENT  READY  AGE\n",
      "locust-slave-1   1        1        0      0s\n",
      "locust-master-1  1        1        0      0s\n",
      "\n",
      "==> v1/Service\n",
      "NAME             TYPE      CLUSTER-IP  EXTERNAL-IP  PORT(S)                                       AGE\n",
      "locust-master-1  NodePort  10.0.0.26   <none>       5557:30376/TCP,5558:30483/TCP,8089:30169/TCP  0s\n",
      "\n",
      "==> v1/Pod(related)\n",
      "NAME                   READY  STATUS             RESTARTS  AGE\n",
      "locust-slave-1-2sd7k   0/1    ContainerCreating  0         0s\n",
      "locust-master-1-6gf8s  0/1    ContainerCreating  0         0s\n",
      "\n",
      "\n"
     ]
    }
   ],
   "source": [
    "!helm install --set oauth.key=oauth-key --set oauth.secret=oauth-secret --name loadtest ../../helm-charts/seldon-core-loadtesting"
   ]
  },
  {
   "cell_type": "markdown",
   "metadata": {},
   "source": [
    "# Tear down"
   ]
  },
  {
   "cell_type": "code",
   "execution_count": 13,
   "metadata": {
    "collapsed": false
   },
   "outputs": [
    {
     "name": "stdout",
     "output_type": "stream",
     "text": [
      "seldondeployment \"seldon-deployment-example\" deleted\r\n"
     ]
    }
   ],
   "source": [
    "!kubectl delete -f resources/model_with_canary.json"
   ]
  },
  {
   "cell_type": "code",
   "execution_count": 17,
   "metadata": {
    "collapsed": false
   },
   "outputs": [
    {
     "name": "stdout",
     "output_type": "stream",
     "text": [
      "Error: release: \"loadtest\" not found\r\n"
     ]
    }
   ],
   "source": [
    "!helm delete loadtest --purge"
   ]
  },
  {
   "cell_type": "code",
   "execution_count": 1,
   "metadata": {
    "collapsed": false
   },
   "outputs": [
    {
     "name": "stdout",
     "output_type": "stream",
     "text": [
      "release \"seldon-core\" deleted\r\n"
     ]
    }
   ],
   "source": [
    "!helm delete seldon-core --purge"
   ]
  },
  {
   "cell_type": "code",
   "execution_count": null,
   "metadata": {
    "collapsed": true
   },
   "outputs": [],
   "source": []
  }
 ],
 "metadata": {
  "kernelspec": {
   "display_name": "Python 2",
   "language": "python",
   "name": "python2"
  },
  "language_info": {
   "codemirror_mode": {
    "name": "ipython",
    "version": 2
   },
   "file_extension": ".py",
   "mimetype": "text/x-python",
   "name": "python",
   "nbconvert_exporter": "python",
   "pygments_lexer": "ipython2",
   "version": "2.7.11"
  }
 },
 "nbformat": 4,
 "nbformat_minor": 1
}
