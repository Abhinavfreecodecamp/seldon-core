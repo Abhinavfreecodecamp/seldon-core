{
 "cells": [
  {
   "cell_type": "markdown",
   "metadata": {},
   "source": [
    "# Deploying Machine Learning Model using kubectl\n",
    "This demo shows how you can interact directly with kubernetes using kubectl to create and manage runtime machine learning models."
   ]
  },
  {
   "cell_type": "code",
   "execution_count": 32,
   "metadata": {
    "collapsed": false
   },
   "outputs": [
    {
     "name": "stdout",
     "output_type": "stream",
     "text": [
      "node \"apiserver-crd\" not labeled\r\n"
     ]
    }
   ],
   "source": [
    "!kubectl label nodes apiserver-crd role=locust --overwrite"
   ]
  },
  {
   "cell_type": "markdown",
   "metadata": {},
   "source": [
    "## Start seldon-core"
   ]
  },
  {
   "cell_type": "code",
   "execution_count": 33,
   "metadata": {
    "collapsed": false
   },
   "outputs": [
    {
     "name": "stdout",
     "output_type": "stream",
     "text": [
      "NAME:   seldon-core\n",
      "LAST DEPLOYED: Tue Oct 31 18:43:11 2017\n",
      "NAMESPACE: default\n",
      "STATUS: DEPLOYED\n",
      "\n",
      "RESOURCES:\n",
      "==> v1/Secret\n",
      "NAME                           TYPE    DATA  AGE\n",
      "cluster-manager-client-secret  Opaque  1     8s\n",
      "grafana-prom-secret            Opaque  1     8s\n",
      "\n",
      "==> v1/Job\n",
      "NAME                            DESIRED  SUCCESSFUL  AGE\n",
      "grafana-prom-import-dashboards  1        0           8s\n",
      "\n",
      "==> v1/Pod\n",
      "NAME         READY  STATUS             RESTARTS  AGE\n",
      "zookeeper-1  0/1    ContainerCreating  0         7s\n",
      "zookeeper-2  0/1    Pending            0         6s\n",
      "zookeeper-3  0/1    Pending            0         6s\n",
      "\n",
      "==> v1/Pod(related)\n",
      "grafana-prom-import-dashboards-nw6c8      0/1  ContainerCreating  0  8s\n",
      "alertmanager-deployment-779f586d4d-jcfxt  0/1  ContainerCreating  0  8s\n",
      "seldon-apiserver-55c4558dcd-7tl6r         0/1  ContainerCreating  0  8s\n",
      "seldon-cluster-manager-85846c959d-qf2nx   0/1  ContainerCreating  0  8s\n",
      "grafana-prom-deployment-586bc9b9c5-gbmmm  0/1  ContainerCreating  0  7s\n",
      "kafka-6b57cb69f8-tq744                    0/1  ContainerCreating  0  7s\n",
      "prometheus-node-exporter-tjkj5            0/1  ContainerCreating  0  7s\n",
      "prometheus-deployment-6666b95955-8rhdt    0/1  ContainerCreating  0  7s\n",
      "redis-6668b544f4-9dcpm                    0/1  ContainerCreating  0  7s\n",
      "\n",
      "==> v1/ConfigMap\n",
      "NAME                       DATA  AGE\n",
      "alertmanager-server-conf   1     8s\n",
      "grafana-import-dashboards  5     8s\n",
      "prometheus-rules           4     8s\n",
      "prometheus-server-conf     1     8s\n",
      "\n",
      "==> v1beta1/CustomResourceDefinition\n",
      "NAME                                     AGE\n",
      "mldeployments.machinelearning.seldon.io  8s\n",
      "\n",
      "==> v1beta1/Deployment\n",
      "NAME                     DESIRED  CURRENT  UP-TO-DATE  AVAILABLE  AGE\n",
      "alertmanager-deployment  1        1        1           0          8s\n",
      "seldon-apiserver         1        1        1           0          8s\n",
      "seldon-cluster-manager   1        1        1           0          8s\n",
      "grafana-prom-deployment  1        1        1           0          8s\n",
      "kafka                    1        1        1           0          7s\n",
      "prometheus-deployment    1        1        1           0          7s\n",
      "redis                    1        1        1           0          7s\n",
      "\n",
      "==> v1/Service\n",
      "NAME                      TYPE       CLUSTER-IP  EXTERNAL-IP  PORT(S)                     AGE\n",
      "alertmanager              ClusterIP  10.0.0.152  <none>       80/TCP                      8s\n",
      "seldon-apiserver          NodePort   10.0.0.43   <none>       8080:30032/TCP              8s\n",
      "seldon-cluster-manager    NodePort   10.0.0.173  <none>       8080:30030/TCP              8s\n",
      "grafana-prom              NodePort   10.0.0.36   <none>       80:30034/TCP                7s\n",
      "kafka                     NodePort   10.0.0.246  <none>       9092:30010/TCP              7s\n",
      "prometheus-node-exporter  ClusterIP  None        <none>       9100/TCP                    7s\n",
      "prometheus-seldon         ClusterIP  10.0.0.81   <none>       80/TCP                      7s\n",
      "redis                     ClusterIP  10.0.0.80   <none>       6379/TCP                    7s\n",
      "zookeeper-1               ClusterIP  10.0.0.180  <none>       2181/TCP,2888/TCP,3888/TCP  7s\n",
      "zookeeper-2               ClusterIP  10.0.0.192  <none>       2181/TCP,2888/TCP,3888/TCP  7s\n",
      "zookeeper-3               ClusterIP  10.0.0.157  <none>       2181/TCP,2888/TCP,3888/TCP  7s\n",
      "\n",
      "==> v1beta1/DaemonSet\n",
      "NAME                      DESIRED  CURRENT  READY  UP-TO-DATE  AVAILABLE  NODE SELECTOR  AGE\n",
      "prometheus-node-exporter  1        1        0      1           0          <none>         7s\n",
      "\n",
      "\n",
      "NOTES:\n",
      "NOTES: TODO\n",
      "\n",
      "\n"
     ]
    }
   ],
   "source": [
    "!helm install ../../helm-charts/seldon-core --name seldon-core --set grafana_prom_admin_password=password --set persistence.enabled=false --set cluster_manager.image.tag=0.2.16_kubeapi --set apife.image.tag=0.0.7_kubeapi"
   ]
  },
  {
   "cell_type": "code",
   "execution_count": 34,
   "metadata": {
    "collapsed": false
   },
   "outputs": [
    {
     "name": "stdout",
     "output_type": "stream",
     "text": [
      "NAME                      DESIRED   CURRENT   UP-TO-DATE   AVAILABLE   AGE\r\n",
      "alertmanager-deployment   1         1         1            1           50s\r\n",
      "grafana-prom-deployment   1         1         1            1           50s\r\n",
      "kafka                     1         1         1            1           49s\r\n",
      "prometheus-deployment     1         1         1            1           49s\r\n",
      "redis                     1         1         1            1           49s\r\n",
      "seldon-apiserver          1         1         1            1           50s\r\n",
      "seldon-cluster-manager    1         1         1            1           50s\r\n"
     ]
    }
   ],
   "source": [
    "!kubectl get deployments"
   ]
  },
  {
   "cell_type": "markdown",
   "metadata": {},
   "source": [
    "# Integrating with Kubernetes API"
   ]
  },
  {
   "cell_type": "code",
   "execution_count": 35,
   "metadata": {
    "collapsed": false
   },
   "outputs": [
    {
     "name": "stdout",
     "output_type": "stream",
     "text": [
      "{\r\n",
      "    \"apiVersion\": \"machinelearning.seldon.io/v1alpha1\",\r\n",
      "    \"kind\": \"MLDeployment\",\r\n",
      "    \"metadata\": {\r\n",
      "        \"labels\": {\r\n",
      "            \"app\": \"seldon\"\r\n",
      "        },\r\n",
      "        \"name\": \"mldeployment-example\"\r\n",
      "    },\r\n",
      "    \"spec\": {\r\n",
      "        \"annotations\": {\r\n",
      "            \"project_name\": \"FX Market Prediction\"\r\n",
      "        },\r\n",
      "        \"cluster\": {},\r\n",
      "        \"id\": \"1\",\r\n",
      "        \"name\": \"test deployment\",\r\n",
      "        \"oauth_key\": \"oauth-key\",\r\n",
      "        \"oauth_secret\": \"oauth-secret\",\r\n",
      "        \"predictor\": {\r\n",
      "            \"annotations\": {\r\n",
      "                \"project_name\": \"FX Market Prediction\"\r\n",
      "            },\r\n",
      "            \"enabled\": true,\r\n",
      "            \"id\": \"0\",\r\n",
      "            \"imagePullSecrets\": [],\r\n",
      "            \"name\": \"FX Market Predictor\",\r\n",
      "            \"predictiveUnits\": [\r\n",
      "                {\r\n",
      "                    \"children\": [],\r\n",
      "                    \"cluster_resources\": {\r\n",
      "                        \"cpu\": \"\",\r\n",
      "                        \"gpu\": \"\",\r\n",
      "                        \"id\": \"2\",\r\n",
      "                        \"image\": \"seldonio/mean_classifier\",\r\n",
      "                        \"memory\": \"\",\r\n",
      "                        \"version\": \"0.5\"\r\n",
      "                    },\r\n",
      "                    \"endpoint\": {\r\n",
      "                        \"service_host\": \"-\",\r\n",
      "                        \"service_port\": 0,\r\n",
      "                        \"type\": \"REST\"\r\n",
      "                    },\r\n",
      "                    \"id\": \"0\",\r\n",
      "                    \"name\": \"Simple FX Model\",\r\n",
      "                    \"parameters\": [],\r\n",
      "                    \"subtype\": \"MICROSERVICE\",\r\n",
      "                    \"type\": \"MODEL\"\r\n",
      "                }\r\n",
      "            ],\r\n",
      "            \"replicas\": 1,\r\n",
      "            \"root\": \"0\",\r\n",
      "            \"version\": \"v1\"\r\n",
      "        }\r\n",
      "\r\n",
      "}\r\n",
      "}\r\n"
     ]
    }
   ],
   "source": [
    "!cat resources/model.json"
   ]
  },
  {
   "cell_type": "markdown",
   "metadata": {},
   "source": [
    "## Create ML Deployment"
   ]
  },
  {
   "cell_type": "code",
   "execution_count": 36,
   "metadata": {
    "collapsed": false
   },
   "outputs": [
    {
     "name": "stdout",
     "output_type": "stream",
     "text": [
      "mldeployment \"mldeployment-example\" created\r\n"
     ]
    }
   ],
   "source": [
    "!kubectl apply -f resources/model.json"
   ]
  },
  {
   "cell_type": "code",
   "execution_count": 37,
   "metadata": {
    "collapsed": false
   },
   "outputs": [
    {
     "name": "stdout",
     "output_type": "stream",
     "text": [
      "NAME                   AGE\r\n",
      "mldeployment-example   2s\r\n"
     ]
    }
   ],
   "source": [
    "!kubectl get mldeployments"
   ]
  },
  {
   "cell_type": "code",
   "execution_count": 38,
   "metadata": {
    "collapsed": false
   },
   "outputs": [
    {
     "name": "stdout",
     "output_type": "stream",
     "text": [
      "Name:         mldeployment-example\r\n",
      "Namespace:    default\r\n",
      "Labels:       app=seldon\r\n",
      "Annotations:  kubectl.kubernetes.io/last-applied-configuration={\"apiVersion\":\"machinelearning.seldon.io/v1alpha1\",\"kind\":\"MLDeployment\",\"metadata\":{\"annotations\":{},\"labels\":{\"app\":\"seldon\"},\"name\":\"mldeployment-ex...\r\n",
      "API Version:  machinelearning.seldon.io/v1alpha1\r\n",
      "Kind:         MLDeployment\r\n",
      "Metadata:\r\n",
      "  Cluster Name:                   \r\n",
      "  Creation Timestamp:             2017-10-31T18:44:15Z\r\n",
      "  Deletion Grace Period Seconds:  <nil>\r\n",
      "  Deletion Timestamp:             <nil>\r\n",
      "  Initializers:                   <nil>\r\n",
      "  Resource Version:               7420\r\n",
      "  Self Link:                      /apis/machinelearning.seldon.io/v1alpha1/namespaces/default/mldeployments/mldeployment-example\r\n",
      "  UID:                            7ee3ff6c-be6b-11e7-97cc-08002751d93c\r\n",
      "Spec:\r\n",
      "  Annotations:\r\n",
      "    Project _ Name:  FX Market Prediction\r\n",
      "  Cluster:\r\n",
      "  Id:              1\r\n",
      "  Name:            test deployment\r\n",
      "  Oauth _ Key:     oauth-key\r\n",
      "  Oauth _ Secret:  oauth-secret\r\n",
      "  Predictor:\r\n",
      "    Annotations:\r\n",
      "      Project _ Name:  FX Market Prediction\r\n",
      "    Enabled:           true\r\n",
      "    Id:                0\r\n",
      "    Image Pull Secrets:\r\n",
      "    Name:  FX Market Predictor\r\n",
      "    Predictive Units:\r\n",
      "      Children:\r\n",
      "      Cluster _ Resources:\r\n",
      "        Cpu:      \r\n",
      "        Gpu:      \r\n",
      "        Id:       2\r\n",
      "        Image:    seldonio/mean_classifier\r\n",
      "        Memory:   \r\n",
      "        Version:  0.5\r\n",
      "      Endpoint:\r\n",
      "        Service _ Host:  -\r\n",
      "        Service _ Port:  0\r\n",
      "        Type:            REST\r\n",
      "      Id:                0\r\n",
      "      Name:              Simple FX Model\r\n",
      "      Parameters:\r\n",
      "      Subtype:  MICROSERVICE\r\n",
      "      Type:     MODEL\r\n",
      "    Replicas:   1\r\n",
      "    Root:       0\r\n",
      "    Version:    v1\r\n",
      "Events:         <none>\r\n"
     ]
    }
   ],
   "source": [
    "!kubectl describe mldeployments mldeployment-example "
   ]
  },
  {
   "cell_type": "code",
   "execution_count": 41,
   "metadata": {
    "collapsed": false
   },
   "outputs": [
    {
     "name": "stdout",
     "output_type": "stream",
     "text": [
      "NAME               DESIRED   CURRENT   READY     AGE\r\n",
      "sd-1-p-c78c8f77f   1         1         1         23s\r\n"
     ]
    }
   ],
   "source": [
    "!kubectl get rs --selector=app=sd-1-p"
   ]
  },
  {
   "cell_type": "markdown",
   "metadata": {},
   "source": [
    "## Get predictions"
   ]
  },
  {
   "cell_type": "code",
   "execution_count": 42,
   "metadata": {
    "collapsed": false
   },
   "outputs": [
    {
     "name": "stdout",
     "output_type": "stream",
     "text": [
      "192.168.99.100:30032\n",
      "{\n",
      "  \"meta\": {\n",
      "    \"puid\": \"7ofokc7o2k7cn4maat14ocau6u\",\n",
      "    \"routing\": {\n",
      "    }\n",
      "  },\n",
      "  \"response\": {\n",
      "    \"features\": [\"proba\"],\n",
      "    \"ndarray\": [[0.12823373759251927], [0.2856375705089441]]\n",
      "  }\n",
      "}"
     ]
    }
   ],
   "source": [
    "%%bash\n",
    "API_SERVER=35.195.94.148:8080\n",
    "MINIKUBE_SERVER=192.168.99.100:30032\n",
    "SERVER=$API_SERVER\n",
    "SERVER=$MINIKUBE_SERVER\n",
    "#SERVER=0.0.0.0:8080\n",
    "echo \"$SERVER\"\n",
    "TOKEN=`curl -s -H \"Accept: application/json\" oauth-key:oauth-secret@${SERVER}/oauth/token -d grant_type=client_credentials | jq -r '.access_token'`\n",
    "curl -s -H \"Content-Type:application/json\" -H \"Accept: application/json\" -H \"Authorization: Bearer $TOKEN\" \\\n",
    "    ${SERVER}/api/v0.1/predictions \\\n",
    "    -d '{\"request\":{\"features\":[\"a\"],\"ndarray\":[[1.0],[2.0]]}}'"
   ]
  },
  {
   "cell_type": "markdown",
   "metadata": {},
   "source": [
    "## Update deployment with canary"
   ]
  },
  {
   "cell_type": "code",
   "execution_count": 43,
   "metadata": {
    "collapsed": false
   },
   "outputs": [
    {
     "name": "stdout",
     "output_type": "stream",
     "text": [
      "{\r\n",
      "    \"apiVersion\": \"machinelearning.seldon.io/v1alpha1\",\r\n",
      "    \"kind\": \"MLDeployment\",\r\n",
      "    \"metadata\": {\r\n",
      "        \"labels\": {\r\n",
      "            \"app\": \"seldon\"\r\n",
      "        },\r\n",
      "        \"name\": \"mldeployment-example\"\r\n",
      "    },\r\n",
      "    \"spec\": {\r\n",
      "        \"annotations\": {\r\n",
      "            \"project_name\": \"FX Market Prediction\"\r\n",
      "        },\r\n",
      "        \"cluster\": {},\r\n",
      "        \"id\": \"1\",\r\n",
      "        \"name\": \"test deployment\",\r\n",
      "        \"oauth_key\": \"oauth-key\",\r\n",
      "        \"oauth_secret\": \"oauth-secret\",\r\n",
      "        \"predictor\": {\r\n",
      "            \"annotations\": {\r\n",
      "                \"project_name\": \"FX Market Prediction\"\r\n",
      "            },\r\n",
      "            \"enabled\": true,\r\n",
      "            \"id\": \"0\",\r\n",
      "            \"imagePullSecrets\": [],\r\n",
      "            \"name\": \"FX Market Predictor\",\r\n",
      "            \"predictiveUnits\": [\r\n",
      "                {\r\n",
      "                    \"children\": [],\r\n",
      "                    \"cluster_resources\": {\r\n",
      "                        \"cpu\": \"\",\r\n",
      "                        \"gpu\": \"\",\r\n",
      "                        \"id\": \"2\",\r\n",
      "                        \"image\": \"seldonio/mean_classifier\",\r\n",
      "                        \"memory\": \"\",\r\n",
      "                        \"version\": \"0.5\"\r\n",
      "                    },\r\n",
      "                    \"endpoint\": {\r\n",
      "                        \"service_host\": \"-\",\r\n",
      "                        \"service_port\": 0,\r\n",
      "                        \"type\": \"REST\"\r\n",
      "                    },\r\n",
      "                    \"id\": \"0\",\r\n",
      "                    \"name\": \"Simple FX Model\",\r\n",
      "                    \"parameters\": [],\r\n",
      "                    \"subtype\": \"MICROSERVICE\",\r\n",
      "                    \"type\": \"MODEL\"\r\n",
      "                }\r\n",
      "            ],\r\n",
      "            \"replicas\": 1,\r\n",
      "            \"root\": \"0\",\r\n",
      "            \"version\": \"v1\"\r\n",
      "        },\r\n",
      "        \"predictor_canary\": {\r\n",
      "            \"annotations\": {\r\n",
      "                \"project_name\": \"FX Market Prediction\"\r\n",
      "            },\r\n",
      "            \"enabled\": true,\r\n",
      "            \"id\": \"0\",\r\n",
      "            \"imagePullSecrets\": [],\r\n",
      "            \"name\": \"FX Market Predictor - canary\",\r\n",
      "            \"predictiveUnits\": [\r\n",
      "                {\r\n",
      "                    \"children\": [],\r\n",
      "                    \"cluster_resources\": {\r\n",
      "                        \"cpu\": \"\",\r\n",
      "                        \"gpu\": \"\",\r\n",
      "                        \"id\": \"2\",\r\n",
      "                        \"image\": \"seldonio/mean_classifier\",\r\n",
      "                        \"memory\": \"\",\r\n",
      "                        \"version\": \"0.5\"\r\n",
      "                    },\r\n",
      "                    \"endpoint\": {\r\n",
      "                        \"service_host\": \"-\",\r\n",
      "                        \"service_port\": 0,\r\n",
      "                        \"type\": \"REST\"\r\n",
      "                    },\r\n",
      "                    \"id\": \"0\",\r\n",
      "                    \"name\": \"Simple FX Model - canary\",\r\n",
      "                    \"parameters\": [],\r\n",
      "                    \"subtype\": \"MICROSERVICE\",\r\n",
      "                    \"type\": \"MODEL\"\r\n",
      "                }\r\n",
      "            ],\r\n",
      "            \"replicas\": 1,\r\n",
      "            \"root\": \"0\",\r\n",
      "            \"version\": \"v1\"\r\n",
      "        }\r\n",
      "\r\n",
      "    }\r\n",
      "}\r\n"
     ]
    }
   ],
   "source": [
    "!cat resources/model_with_canary.json"
   ]
  },
  {
   "cell_type": "code",
   "execution_count": 44,
   "metadata": {
    "collapsed": false
   },
   "outputs": [
    {
     "name": "stdout",
     "output_type": "stream",
     "text": [
      "mldeployment \"mldeployment-example\" configured\r\n"
     ]
    }
   ],
   "source": [
    "!kubectl apply -f resources/model_with_canary.json"
   ]
  },
  {
   "cell_type": "code",
   "execution_count": 59,
   "metadata": {
    "collapsed": false
   },
   "outputs": [
    {
     "name": "stdout",
     "output_type": "stream",
     "text": [
      "NAME                DESIRED   CURRENT   READY     AGE\r\n",
      "sd-1-c-54f5db79cd   1         1         1         49s\r\n",
      "sd-1-p-c78c8f77f    1         1         1         1m\r\n"
     ]
    }
   ],
   "source": [
    "!kubectl get rs --selector=app=sd-1-p"
   ]
  },
  {
   "cell_type": "code",
   "execution_count": 60,
   "metadata": {
    "collapsed": false
   },
   "outputs": [
    {
     "name": "stdout",
     "output_type": "stream",
     "text": [
      "{\n",
      "  \"meta\": {\n",
      "    \"puid\": \"q7hkhb00ojgrqsopgui0i80hf\",\n",
      "    \"routing\": {\n",
      "    }\n",
      "  },\n",
      "  \"response\": {\n",
      "    \"features\": [\"proba\"],\n",
      "    \"ndarray\": [[0.12823373759251927], [0.2856375705089441]]\n",
      "  }\n",
      "}"
     ]
    }
   ],
   "source": [
    "%%bash\n",
    "API_SERVER=35.189.249.200:8080\n",
    "MINIKUBE_SERVER=192.168.99.100:30032\n",
    "SERVER=$API_SERVER\n",
    "SERVER=$MINIKUBE_SERVER\n",
    "TOKEN=`curl -s -H \"Accept: application/json\" oauth-key:oauth-secret@${SERVER}/oauth/token -d grant_type=client_credentials | jq -r '.access_token'`\n",
    "curl -s -H \"Content-Type:application/json\" -H \"Accept: application/json\" -H \"Authorization: Bearer $TOKEN\" \\\n",
    "    ${SERVER}/api/v0.1/predictions \\\n",
    "    -d '{\"request\":{\"features\":[\"a\"],\"ndarray\":[[1.0],[2.0]]}}'"
   ]
  },
  {
   "cell_type": "markdown",
   "metadata": {},
   "source": [
    "## Load test"
   ]
  },
  {
   "cell_type": "code",
   "execution_count": 61,
   "metadata": {
    "collapsed": false
   },
   "outputs": [
    {
     "name": "stdout",
     "output_type": "stream",
     "text": [
      "NAME:   loadtest\n",
      "LAST DEPLOYED: Tue Oct 31 18:46:08 2017\n",
      "NAMESPACE: default\n",
      "STATUS: DEPLOYED\n",
      "\n",
      "RESOURCES:\n",
      "==> v1/ReplicationController\n",
      "NAME             DESIRED  CURRENT  READY  AGE\n",
      "locust-slave-1   1        1        0      0s\n",
      "locust-master-1  1        1        0      0s\n",
      "\n",
      "==> v1/Service\n",
      "NAME             TYPE      CLUSTER-IP  EXTERNAL-IP  PORT(S)                                       AGE\n",
      "locust-master-1  NodePort  10.0.0.49   <none>       5557:31707/TCP,5558:31154/TCP,8089:30199/TCP  0s\n",
      "\n",
      "==> v1/Pod(related)\n",
      "NAME                   READY  STATUS             RESTARTS  AGE\n",
      "locust-slave-1-sqdml   0/1    ContainerCreating  0         0s\n",
      "locust-master-1-wzb5d  0/1    ContainerCreating  0         0s\n",
      "\n",
      "\n"
     ]
    }
   ],
   "source": [
    "!helm install --set oauth.key=oauth-key --set oauth.secret=oauth-secret --name loadtest ../../helm-charts/seldon-core-loadtesting"
   ]
  },
  {
   "cell_type": "markdown",
   "metadata": {},
   "source": [
    "# Tear down"
   ]
  },
  {
   "cell_type": "code",
   "execution_count": 62,
   "metadata": {
    "collapsed": false
   },
   "outputs": [
    {
     "name": "stdout",
     "output_type": "stream",
     "text": [
      "mldeployment \"mldeployment-example\" deleted\r\n"
     ]
    }
   ],
   "source": [
    "!kubectl delete -f resources/model_with_canary.json"
   ]
  },
  {
   "cell_type": "code",
   "execution_count": 63,
   "metadata": {
    "collapsed": false
   },
   "outputs": [
    {
     "name": "stdout",
     "output_type": "stream",
     "text": [
      "release \"loadtest\" deleted\r\n"
     ]
    }
   ],
   "source": [
    "!helm delete loadtest --purge"
   ]
  },
  {
   "cell_type": "code",
   "execution_count": 64,
   "metadata": {
    "collapsed": false
   },
   "outputs": [
    {
     "name": "stdout",
     "output_type": "stream",
     "text": [
      "release \"seldon-core\" deleted\r\n"
     ]
    }
   ],
   "source": [
    "!helm delete seldon-core --purge"
   ]
  },
  {
   "cell_type": "code",
   "execution_count": null,
   "metadata": {
    "collapsed": true
   },
   "outputs": [],
   "source": []
  }
 ],
 "metadata": {
  "kernelspec": {
   "display_name": "Python 2",
   "language": "python",
   "name": "python2"
  },
  "language_info": {
   "codemirror_mode": {
    "name": "ipython",
    "version": 2
   },
   "file_extension": ".py",
   "mimetype": "text/x-python",
   "name": "python",
   "nbconvert_exporter": "python",
   "pygments_lexer": "ipython2",
   "version": "2.7.11"
  }
 },
 "nbformat": 4,
 "nbformat_minor": 0
}
