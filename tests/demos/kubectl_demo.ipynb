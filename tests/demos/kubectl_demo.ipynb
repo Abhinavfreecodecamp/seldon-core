{
 "cells": [
  {
   "cell_type": "code",
   "execution_count": null,
   "metadata": {
    "collapsed": true
   },
   "outputs": [],
   "source": [
    "!kubectl label nodes apiserver-crd role=locust"
   ]
  },
  {
   "cell_type": "markdown",
   "metadata": {},
   "source": [
    "# Start seldon-core"
   ]
  },
  {
   "cell_type": "code",
   "execution_count": 17,
   "metadata": {
    "collapsed": false
   },
   "outputs": [
    {
     "name": "stdout",
     "output_type": "stream",
     "text": [
      "NAME:   seldon-core\n",
      "LAST DEPLOYED: Tue Oct 31 18:09:12 2017\n",
      "NAMESPACE: default\n",
      "STATUS: DEPLOYED\n",
      "\n",
      "RESOURCES:\n",
      "==> v1/ConfigMap\n",
      "NAME                       DATA  AGE\n",
      "alertmanager-server-conf   1     6s\n",
      "grafana-import-dashboards  5     6s\n",
      "prometheus-rules           4     6s\n",
      "prometheus-server-conf     1     6s\n",
      "\n",
      "==> v1beta1/CustomResourceDefinition\n",
      "NAME                                     AGE\n",
      "mldeployments.machinelearning.seldon.io  6s\n",
      "\n",
      "==> v1/Job\n",
      "NAME                            DESIRED  SUCCESSFUL  AGE\n",
      "grafana-prom-import-dashboards  1        0           6s\n",
      "\n",
      "==> v1/Pod\n",
      "NAME         READY  STATUS             RESTARTS  AGE\n",
      "zookeeper-1  0/1    Pending            0         4s\n",
      "zookeeper-2  0/1    Pending            0         4s\n",
      "zookeeper-3  0/1    ContainerCreating  0         4s\n",
      "\n",
      "==> v1/Pod(related)\n",
      "grafana-prom-import-dashboards-l4r66      0/1  ContainerCreating  0  6s\n",
      "alertmanager-deployment-779f586d4d-vvwfp  0/1  ContainerCreating  0  6s\n",
      "seldon-apiserver-55c4558dcd-rcc6g         0/1  ContainerCreating  0  6s\n",
      "seldon-cluster-manager-85846c959d-6v2pn   0/1  ContainerCreating  0  6s\n",
      "grafana-prom-deployment-586bc9b9c5-9zv2q  0/1  ContainerCreating  0  6s\n",
      "kafka-6b57cb69f8-sr7fj                    0/1  ContainerCreating  0  5s\n",
      "prometheus-node-exporter-sdls7            0/1  ContainerCreating  0  5s\n",
      "prometheus-deployment-6666b95955-jplpl    0/1  Pending            0  5s\n",
      "redis-6668b544f4-bjjgz                    0/1  Pending            0  4s\n",
      "\n",
      "==> v1/Secret\n",
      "NAME                           TYPE    DATA  AGE\n",
      "cluster-manager-client-secret  Opaque  1     6s\n",
      "grafana-prom-secret            Opaque  1     6s\n",
      "\n",
      "==> v1beta1/Deployment\n",
      "NAME                     DESIRED  CURRENT  UP-TO-DATE  AVAILABLE  AGE\n",
      "alertmanager-deployment  1        1        1           0          6s\n",
      "seldon-apiserver         1        1        1           0          6s\n",
      "seldon-cluster-manager   1        1        1           0          6s\n",
      "grafana-prom-deployment  1        1        1           0          6s\n",
      "kafka                    1        1        1           0          6s\n",
      "prometheus-deployment    1        1        1           0          5s\n",
      "redis                    1        1        1           0          5s\n",
      "\n",
      "==> v1/Service\n",
      "NAME                      TYPE       CLUSTER-IP  EXTERNAL-IP  PORT(S)                     AGE\n",
      "alertmanager              ClusterIP  10.0.0.26   <none>       80/TCP                      6s\n",
      "seldon-apiserver          NodePort   10.0.0.11   <none>       8080:30032/TCP              6s\n",
      "seldon-cluster-manager    NodePort   10.0.0.116  <none>       8080:30030/TCP              6s\n",
      "grafana-prom              NodePort   10.0.0.166  <none>       80:30034/TCP                6s\n",
      "kafka                     NodePort   10.0.0.250  <none>       9092:30010/TCP              6s\n",
      "prometheus-node-exporter  ClusterIP  None        <none>       9100/TCP                    5s\n",
      "prometheus-seldon         ClusterIP  10.0.0.169  <none>       80/TCP                      5s\n",
      "redis                     ClusterIP  10.0.0.104  <none>       6379/TCP                    4s\n",
      "zookeeper-1               ClusterIP  10.0.0.129  <none>       2181/TCP,2888/TCP,3888/TCP  4s\n",
      "zookeeper-2               ClusterIP  10.0.0.175  <none>       2181/TCP,2888/TCP,3888/TCP  4s\n",
      "zookeeper-3               ClusterIP  10.0.0.69   <none>       2181/TCP,2888/TCP,3888/TCP  4s\n",
      "\n",
      "==> v1beta1/DaemonSet\n",
      "NAME                      DESIRED  CURRENT  READY  UP-TO-DATE  AVAILABLE  NODE SELECTOR  AGE\n",
      "prometheus-node-exporter  1        1        0      1           0          <none>         5s\n",
      "\n",
      "\n",
      "NOTES:\n",
      "NOTES: TODO\n",
      "\n",
      "\n"
     ]
    }
   ],
   "source": [
    "!helm install ../../helm-charts/seldon-core --name seldon-core --set grafana_prom_admin_password=password --set persistence.enabled=false --set cluster_manager.image.tag=0.2.16_kubeapi --set apife.image.tag=0.0.7_kubeapi"
   ]
  },
  {
   "cell_type": "markdown",
   "metadata": {},
   "source": [
    "# Integrating with Kubernetes API"
   ]
  },
  {
   "cell_type": "code",
   "execution_count": 30,
   "metadata": {
    "collapsed": false
   },
   "outputs": [
    {
     "name": "stdout",
     "output_type": "stream",
     "text": [
      "{\r\n",
      "    \"apiVersion\": \"machinelearning.seldon.io/v1alpha1\",\r\n",
      "    \"kind\": \"MLDeployment\",\r\n",
      "    \"metadata\": {\r\n",
      "        \"labels\": {\r\n",
      "            \"app\": \"seldon\"\r\n",
      "        },\r\n",
      "        \"name\": \"mldeployment-example\"\r\n",
      "    },\r\n",
      "    \"spec\": {\r\n",
      "        \"annotations\": {\r\n",
      "            \"project_name\": \"FX Market Prediction\"\r\n",
      "        },\r\n",
      "        \"cluster\": {},\r\n",
      "        \"id\": \"1\",\r\n",
      "        \"name\": \"test deployment\",\r\n",
      "        \"oauth_key\": \"oauth-key\",\r\n",
      "        \"oauth_secret\": \"oauth-secret\",\r\n",
      "        \"predictor\": {\r\n",
      "            \"annotations\": {\r\n",
      "                \"project_name\": \"FX Market Prediction\"\r\n",
      "            },\r\n",
      "            \"enabled\": true,\r\n",
      "            \"id\": \"0\",\r\n",
      "            \"imagePullSecrets\": [],\r\n",
      "            \"name\": \"FX Market Predictor\",\r\n",
      "            \"predictiveUnits\": [\r\n",
      "                {\r\n",
      "                    \"children\": [],\r\n",
      "                    \"cluster_resources\": {\r\n",
      "                        \"cpu\": \"\",\r\n",
      "                        \"gpu\": \"\",\r\n",
      "                        \"id\": \"2\",\r\n",
      "                        \"image\": \"seldonio/mean_classifier\",\r\n",
      "                        \"memory\": \"\",\r\n",
      "                        \"version\": \"0.5\"\r\n",
      "                    },\r\n",
      "                    \"endpoint\": {\r\n",
      "                        \"service_host\": \"-\",\r\n",
      "                        \"service_port\": 0,\r\n",
      "                        \"type\": \"REST\"\r\n",
      "                    },\r\n",
      "                    \"id\": \"0\",\r\n",
      "                    \"name\": \"Simple FX Model\",\r\n",
      "                    \"parameters\": [],\r\n",
      "                    \"subtype\": \"MICROSERVICE\",\r\n",
      "                    \"type\": \"MODEL\"\r\n",
      "                }\r\n",
      "            ],\r\n",
      "            \"replicas\": 1,\r\n",
      "            \"root\": \"0\",\r\n",
      "            \"version\": \"v1\"\r\n",
      "        }\r\n",
      "\r\n",
      "}\r\n",
      "}\r\n"
     ]
    }
   ],
   "source": [
    "!cat resources/model.json"
   ]
  },
  {
   "cell_type": "markdown",
   "metadata": {},
   "source": [
    "## Create ML Deployment"
   ]
  },
  {
   "cell_type": "code",
   "execution_count": 18,
   "metadata": {
    "collapsed": false
   },
   "outputs": [
    {
     "name": "stdout",
     "output_type": "stream",
     "text": [
      "mldeployment \"mldeployment-example\" created\r\n"
     ]
    }
   ],
   "source": [
    "!kubectl apply -f resources/model.json"
   ]
  },
  {
   "cell_type": "code",
   "execution_count": 19,
   "metadata": {
    "collapsed": false
   },
   "outputs": [
    {
     "name": "stdout",
     "output_type": "stream",
     "text": [
      "NAME                   AGE\r\n",
      "mldeployment-example   5s\r\n"
     ]
    }
   ],
   "source": [
    "!kubectl get mldeployments"
   ]
  },
  {
   "cell_type": "code",
   "execution_count": 20,
   "metadata": {
    "collapsed": false
   },
   "outputs": [
    {
     "name": "stdout",
     "output_type": "stream",
     "text": [
      "Name:         mldeployment-example\r\n",
      "Namespace:    default\r\n",
      "Labels:       app=seldon\r\n",
      "Annotations:  kubectl.kubernetes.io/last-applied-configuration={\"apiVersion\":\"machinelearning.seldon.io/v1alpha1\",\"kind\":\"MLDeployment\",\"metadata\":{\"name\":\"mldeployment-example\",\"namespace\":\"default\",\"selfLink\":\"/a...\r\n",
      "API Version:  machinelearning.seldon.io/v1alpha1\r\n",
      "Kind:         MLDeployment\r\n",
      "Metadata:\r\n",
      "  Cluster Name:                   \r\n",
      "  Creation Timestamp:             2017-10-31T18:11:26Z\r\n",
      "  Deletion Grace Period Seconds:  0\r\n",
      "  Finalizers:\r\n",
      "  Generate Name:  \r\n",
      "  Generation:     0\r\n",
      "  Initializers:   <nil>\r\n",
      "  Owner References:\r\n",
      "  Resource Version:  4502\r\n",
      "  Self Link:         /apis/machinelearning.seldon.io/v1alpha1/namespaces/default/mldeployments/mldeployment-example\r\n",
      "  UID:               e90be763-be66-11e7-97cc-08002751d93c\r\n",
      "Spec:\r\n",
      "  Annotations:\r\n",
      "    Project _ Name:  FX Market Prediction\r\n",
      "  Cluster:\r\n",
      "  Id:              1\r\n",
      "  Name:            test deployment\r\n",
      "  Oauth _ Key:     oauth-key\r\n",
      "  Oauth _ Secret:  oauth-secret\r\n",
      "  Predictor:\r\n",
      "    Annotations:\r\n",
      "      Project _ Name:  FX Market Prediction\r\n",
      "    Enabled:           true\r\n",
      "    Endpoint:\r\n",
      "      Service _ Host:  sd-1-p\r\n",
      "      Service _ Port:  8000\r\n",
      "      Type:            REST\r\n",
      "    Id:                0\r\n",
      "    Image Pull Secrets:\r\n",
      "    Name:  FX Market Predictor\r\n",
      "    Predictive Units:\r\n",
      "      Children:\r\n",
      "      Cluster _ Resources:\r\n",
      "        Cpu:      \r\n",
      "        Gpu:      \r\n",
      "        Id:       2\r\n",
      "        Image:    seldonio/mean_classifier\r\n",
      "        Memory:   \r\n",
      "        Version:  0.5\r\n",
      "      Endpoint:\r\n",
      "        Service _ Host:  localhost\r\n",
      "        Service _ Port:  9000\r\n",
      "        Type:            REST\r\n",
      "      Id:                0\r\n",
      "      Name:              Simple FX Model\r\n",
      "      Parameters:\r\n",
      "      Subtype:       MICROSERVICE\r\n",
      "      Type:          MODEL\r\n",
      "    Replicas:        1\r\n",
      "    Replicas Ready:  0\r\n",
      "    Root:            0\r\n",
      "    Version:         v1\r\n",
      "  Unique Name:       \r\n",
      "Events:              <none>\r\n"
     ]
    }
   ],
   "source": [
    "!kubectl describe mldeployments mldeployment-example "
   ]
  },
  {
   "cell_type": "code",
   "execution_count": 25,
   "metadata": {
    "collapsed": false
   },
   "outputs": [
    {
     "name": "stdout",
     "output_type": "stream",
     "text": [
      "NAME                DESIRED   CURRENT   READY     AGE\r\n",
      "sd-1-c-54f5db79cd   1         1         1         2m\r\n",
      "sd-1-p-c78c8f77f    1         1         1         21m\r\n"
     ]
    }
   ],
   "source": [
    "!kubectl get rs --selector=app=sd-1-p"
   ]
  },
  {
   "cell_type": "markdown",
   "metadata": {},
   "source": [
    "## Get predictions"
   ]
  },
  {
   "cell_type": "code",
   "execution_count": 7,
   "metadata": {
    "collapsed": false
   },
   "outputs": [
    {
     "name": "stdout",
     "output_type": "stream",
     "text": [
      "192.168.99.100:30032\n",
      "{\n",
      "  \"meta\": {\n",
      "    \"puid\": \"72v15lv0fj5leidrkucpa86ref\",\n",
      "    \"routing\": {\n",
      "    }\n",
      "  },\n",
      "  \"response\": {\n",
      "    \"features\": [\"proba\"],\n",
      "    \"ndarray\": [[0.12823373759251927], [0.2856375705089441]]\n",
      "  }\n",
      "}"
     ]
    }
   ],
   "source": [
    "%%bash\n",
    "API_SERVER=35.195.94.148:8080\n",
    "MINIKUBE_SERVER=192.168.99.100:30032\n",
    "SERVER=$API_SERVER\n",
    "SERVER=$MINIKUBE_SERVER\n",
    "#SERVER=0.0.0.0:8080\n",
    "echo \"$SERVER\"\n",
    "TOKEN=`curl -s -H \"Accept: application/json\" oauth-key:oauth-secret@${SERVER}/oauth/token -d grant_type=client_credentials | jq -r '.access_token'`\n",
    "curl -s -H \"Content-Type:application/json\" -H \"Accept: application/json\" -H \"Authorization: Bearer $TOKEN\" \\\n",
    "    ${SERVER}/api/v0.1/predictions \\\n",
    "    -d '{\"request\":{\"features\":[\"a\"],\"ndarray\":[[1.0],[2.0]]}}'"
   ]
  },
  {
   "cell_type": "markdown",
   "metadata": {},
   "source": [
    "## Update deployment with canary"
   ]
  },
  {
   "cell_type": "code",
   "execution_count": 22,
   "metadata": {
    "collapsed": false
   },
   "outputs": [
    {
     "name": "stdout",
     "output_type": "stream",
     "text": [
      "{\r\n",
      "    \"apiVersion\": \"machinelearning.seldon.io/v1alpha1\",\r\n",
      "    \"kind\": \"MLDeployment\",\r\n",
      "    \"metadata\": {\r\n",
      "        \"labels\": {\r\n",
      "            \"app\": \"seldon\"\r\n",
      "        },\r\n",
      "        \"name\": \"mldeployment-example\"\r\n",
      "    },\r\n",
      "    \"spec\": {\r\n",
      "        \"annotations\": {\r\n",
      "            \"project_name\": \"FX Market Prediction\"\r\n",
      "        },\r\n",
      "        \"cluster\": {},\r\n",
      "        \"id\": \"1\",\r\n",
      "        \"name\": \"test deployment\",\r\n",
      "        \"oauth_key\": \"oauth-key\",\r\n",
      "        \"oauth_secret\": \"oauth-secret\",\r\n",
      "        \"predictor\": {\r\n",
      "            \"annotations\": {\r\n",
      "                \"project_name\": \"FX Market Prediction\"\r\n",
      "            },\r\n",
      "            \"enabled\": true,\r\n",
      "            \"id\": \"0\",\r\n",
      "            \"imagePullSecrets\": [],\r\n",
      "            \"name\": \"FX Market Predictor\",\r\n",
      "            \"predictiveUnits\": [\r\n",
      "                {\r\n",
      "                    \"children\": [],\r\n",
      "                    \"cluster_resources\": {\r\n",
      "                        \"cpu\": \"\",\r\n",
      "                        \"gpu\": \"\",\r\n",
      "                        \"id\": \"2\",\r\n",
      "                        \"image\": \"seldonio/mean_classifier\",\r\n",
      "                        \"memory\": \"\",\r\n",
      "                        \"version\": \"0.5\"\r\n",
      "                    },\r\n",
      "                    \"endpoint\": {\r\n",
      "                        \"service_host\": \"-\",\r\n",
      "                        \"service_port\": 0,\r\n",
      "                        \"type\": \"REST\"\r\n",
      "                    },\r\n",
      "                    \"id\": \"0\",\r\n",
      "                    \"name\": \"Simple FX Model\",\r\n",
      "                    \"parameters\": [],\r\n",
      "                    \"subtype\": \"MICROSERVICE\",\r\n",
      "                    \"type\": \"MODEL\"\r\n",
      "                }\r\n",
      "            ],\r\n",
      "            \"replicas\": 1,\r\n",
      "            \"root\": \"0\",\r\n",
      "            \"version\": \"v1\"\r\n",
      "        },\r\n",
      "        \"predictor_canary\": {\r\n",
      "            \"annotations\": {\r\n",
      "                \"project_name\": \"FX Market Prediction\"\r\n",
      "            },\r\n",
      "            \"enabled\": true,\r\n",
      "            \"id\": \"0\",\r\n",
      "            \"imagePullSecrets\": [],\r\n",
      "            \"name\": \"FX Market Predictor - canary\",\r\n",
      "            \"predictiveUnits\": [\r\n",
      "                {\r\n",
      "                    \"children\": [],\r\n",
      "                    \"cluster_resources\": {\r\n",
      "                        \"cpu\": \"\",\r\n",
      "                        \"gpu\": \"\",\r\n",
      "                        \"id\": \"2\",\r\n",
      "                        \"image\": \"seldonio/mean_classifier\",\r\n",
      "                        \"memory\": \"\",\r\n",
      "                        \"version\": \"0.5\"\r\n",
      "                    },\r\n",
      "                    \"endpoint\": {\r\n",
      "                        \"service_host\": \"-\",\r\n",
      "                        \"service_port\": 0,\r\n",
      "                        \"type\": \"REST\"\r\n",
      "                    },\r\n",
      "                    \"id\": \"0\",\r\n",
      "                    \"name\": \"Simple FX Model - canary\",\r\n",
      "                    \"parameters\": [],\r\n",
      "                    \"subtype\": \"MICROSERVICE\",\r\n",
      "                    \"type\": \"MODEL\"\r\n",
      "                }\r\n",
      "            ],\r\n",
      "            \"replicas\": 1,\r\n",
      "            \"root\": \"0\",\r\n",
      "            \"version\": \"v1\"\r\n",
      "        }\r\n",
      "\r\n",
      "    }\r\n",
      "}\r\n"
     ]
    }
   ],
   "source": [
    "!cat resources/model_with_canary.json"
   ]
  },
  {
   "cell_type": "code",
   "execution_count": 23,
   "metadata": {
    "collapsed": false
   },
   "outputs": [
    {
     "name": "stdout",
     "output_type": "stream",
     "text": [
      "mldeployment \"mldeployment-example\" configured\r\n"
     ]
    }
   ],
   "source": [
    "!kubectl apply -f resources/model_with_canary.json"
   ]
  },
  {
   "cell_type": "code",
   "execution_count": 24,
   "metadata": {
    "collapsed": false
   },
   "outputs": [
    {
     "name": "stdout",
     "output_type": "stream",
     "text": [
      "NAME                DESIRED   CURRENT   READY     AGE\r\n",
      "sd-1-c-54f5db79cd   1         1         1         1m\r\n",
      "sd-1-p-c78c8f77f    1         1         1         21m\r\n"
     ]
    }
   ],
   "source": [
    "!kubectl get rs --selector=app=sd-1-p"
   ]
  },
  {
   "cell_type": "code",
   "execution_count": 26,
   "metadata": {
    "collapsed": false
   },
   "outputs": [
    {
     "name": "stdout",
     "output_type": "stream",
     "text": [
      "{\n",
      "  \"meta\": {\n",
      "    \"puid\": \"al91o30dcasj7mmaf8imnvt9mn\",\n",
      "    \"routing\": {\n",
      "    }\n",
      "  },\n",
      "  \"response\": {\n",
      "    \"features\": [\"proba\"],\n",
      "    \"ndarray\": [[0.12823373759251927], [0.2856375705089441]]\n",
      "  }\n",
      "}"
     ]
    }
   ],
   "source": [
    "%%bash\n",
    "API_SERVER=35.189.249.200:8080\n",
    "MINIKUBE_SERVER=192.168.99.100:30032\n",
    "SERVER=$API_SERVER\n",
    "SERVER=$MINIKUBE_SERVER\n",
    "TOKEN=`curl -s -H \"Accept: application/json\" oauth-key:oauth-secret@${SERVER}/oauth/token -d grant_type=client_credentials | jq -r '.access_token'`\n",
    "curl -s -H \"Content-Type:application/json\" -H \"Accept: application/json\" -H \"Authorization: Bearer $TOKEN\" \\\n",
    "    ${SERVER}/api/v0.1/predictions \\\n",
    "    -d '{\"request\":{\"features\":[\"a\"],\"ndarray\":[[1.0],[2.0]]}}'"
   ]
  },
  {
   "cell_type": "markdown",
   "metadata": {},
   "source": [
    "## Load test"
   ]
  },
  {
   "cell_type": "code",
   "execution_count": null,
   "metadata": {
    "collapsed": true
   },
   "outputs": [],
   "source": [
    "!helm install --set oauth.key=oauth-key --set oauth.secret=oauth-secret --name loadtest ../../helm-charts/seldon-core-loadtesting"
   ]
  },
  {
   "cell_type": "markdown",
   "metadata": {},
   "source": [
    "# Tear down"
   ]
  },
  {
   "cell_type": "code",
   "execution_count": 27,
   "metadata": {
    "collapsed": false
   },
   "outputs": [
    {
     "name": "stdout",
     "output_type": "stream",
     "text": [
      "mldeployment \"mldeployment-example\" deleted\r\n"
     ]
    }
   ],
   "source": [
    "!kubectl delete -f resources/model_with_canary.json"
   ]
  },
  {
   "cell_type": "code",
   "execution_count": 28,
   "metadata": {
    "collapsed": false
   },
   "outputs": [
    {
     "name": "stdout",
     "output_type": "stream",
     "text": [
      "Error: release: \"loadtest\" not found\r\n"
     ]
    }
   ],
   "source": [
    "!helm delete loadtest --purge"
   ]
  },
  {
   "cell_type": "code",
   "execution_count": 29,
   "metadata": {
    "collapsed": false
   },
   "outputs": [
    {
     "name": "stdout",
     "output_type": "stream",
     "text": [
      "release \"seldon-core\" deleted\r\n"
     ]
    }
   ],
   "source": [
    "!helm delete seldon-core --purge"
   ]
  },
  {
   "cell_type": "code",
   "execution_count": null,
   "metadata": {
    "collapsed": true
   },
   "outputs": [],
   "source": []
  }
 ],
 "metadata": {
  "kernelspec": {
   "display_name": "Python 2",
   "language": "python",
   "name": "python2"
  },
  "language_info": {
   "codemirror_mode": {
    "name": "ipython",
    "version": 2
   },
   "file_extension": ".py",
   "mimetype": "text/x-python",
   "name": "python",
   "nbconvert_exporter": "python",
   "pygments_lexer": "ipython2",
   "version": "2.7.11"
  }
 },
 "nbformat": 4,
 "nbformat_minor": 0
}
