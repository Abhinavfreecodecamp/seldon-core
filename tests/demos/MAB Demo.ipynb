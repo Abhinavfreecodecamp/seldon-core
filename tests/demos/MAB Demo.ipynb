{
 "cells": [
  {
   "cell_type": "code",
   "execution_count": 2,
   "metadata": {
    "collapsed": false
   },
   "outputs": [
    {
     "data": {
      "text/html": [
       "\n",
       "    <div class=\"bk-root\">\n",
       "        <a href=\"https://bokeh.pydata.org\" target=\"_blank\" class=\"bk-logo bk-logo-small bk-logo-notebook\"></a>\n",
       "        <span id=\"9aabc1c2-fb27-4dc7-ae7f-49f53de22b7a\">Loading BokehJS ...</span>\n",
       "    </div>"
      ]
     },
     "metadata": {},
     "output_type": "display_data"
    },
    {
     "data": {
      "application/javascript": [
       "\n",
       "(function(root) {\n",
       "  function now() {\n",
       "    return new Date();\n",
       "  }\n",
       "\n",
       "  var force = true;\n",
       "\n",
       "  if (typeof (root._bokeh_onload_callbacks) === \"undefined\" || force === true) {\n",
       "    root._bokeh_onload_callbacks = [];\n",
       "    root._bokeh_is_loading = undefined;\n",
       "  }\n",
       "\n",
       "\n",
       "  \n",
       "  if (typeof (root._bokeh_timeout) === \"undefined\" || force === true) {\n",
       "    root._bokeh_timeout = Date.now() + 5000;\n",
       "    root._bokeh_failed_load = false;\n",
       "  }\n",
       "\n",
       "  var NB_LOAD_WARNING = {'data': {'text/html':\n",
       "     \"<div style='background-color: #fdd'>\\n\"+\n",
       "     \"<p>\\n\"+\n",
       "     \"BokehJS does not appear to have successfully loaded. If loading BokehJS from CDN, this \\n\"+\n",
       "     \"may be due to a slow or bad network connection. Possible fixes:\\n\"+\n",
       "     \"</p>\\n\"+\n",
       "     \"<ul>\\n\"+\n",
       "     \"<li>re-rerun `output_notebook()` to attempt to load from CDN again, or</li>\\n\"+\n",
       "     \"<li>use INLINE resources instead, as so:</li>\\n\"+\n",
       "     \"</ul>\\n\"+\n",
       "     \"<code>\\n\"+\n",
       "     \"from bokeh.resources import INLINE\\n\"+\n",
       "     \"output_notebook(resources=INLINE)\\n\"+\n",
       "     \"</code>\\n\"+\n",
       "     \"</div>\"}};\n",
       "\n",
       "  function display_loaded() {\n",
       "    if (root.Bokeh !== undefined) {\n",
       "      var el = document.getElementById(\"9aabc1c2-fb27-4dc7-ae7f-49f53de22b7a\");\n",
       "      if (el != null) {\n",
       "        el.textContent = \"BokehJS \" + Bokeh.version + \" successfully loaded.\";\n",
       "      }\n",
       "    } else if (Date.now() < root._bokeh_timeout) {\n",
       "      setTimeout(display_loaded, 100)\n",
       "    }\n",
       "  }\n",
       "\n",
       "\n",
       "  function run_callbacks() {\n",
       "    try {\n",
       "      root._bokeh_onload_callbacks.forEach(function(callback) { callback() });\n",
       "    }\n",
       "    finally {\n",
       "      delete root._bokeh_onload_callbacks\n",
       "    }\n",
       "    console.info(\"Bokeh: all callbacks have finished\");\n",
       "  }\n",
       "\n",
       "  function load_libs(js_urls, callback) {\n",
       "    root._bokeh_onload_callbacks.push(callback);\n",
       "    if (root._bokeh_is_loading > 0) {\n",
       "      console.log(\"Bokeh: BokehJS is being loaded, scheduling callback at\", now());\n",
       "      return null;\n",
       "    }\n",
       "    if (js_urls == null || js_urls.length === 0) {\n",
       "      run_callbacks();\n",
       "      return null;\n",
       "    }\n",
       "    console.log(\"Bokeh: BokehJS not loaded, scheduling load and callback at\", now());\n",
       "    root._bokeh_is_loading = js_urls.length;\n",
       "    for (var i = 0; i < js_urls.length; i++) {\n",
       "      var url = js_urls[i];\n",
       "      var s = document.createElement('script');\n",
       "      s.src = url;\n",
       "      s.async = false;\n",
       "      s.onreadystatechange = s.onload = function() {\n",
       "        root._bokeh_is_loading--;\n",
       "        if (root._bokeh_is_loading === 0) {\n",
       "          console.log(\"Bokeh: all BokehJS libraries loaded\");\n",
       "          run_callbacks()\n",
       "        }\n",
       "      };\n",
       "      s.onerror = function() {\n",
       "        console.warn(\"failed to load library \" + url);\n",
       "      };\n",
       "      console.log(\"Bokeh: injecting script tag for BokehJS library: \", url);\n",
       "      document.getElementsByTagName(\"head\")[0].appendChild(s);\n",
       "    }\n",
       "  };var element = document.getElementById(\"9aabc1c2-fb27-4dc7-ae7f-49f53de22b7a\");\n",
       "  if (element == null) {\n",
       "    console.log(\"Bokeh: ERROR: autoload.js configured with elementid '9aabc1c2-fb27-4dc7-ae7f-49f53de22b7a' but no matching script tag was found. \")\n",
       "    return false;\n",
       "  }\n",
       "\n",
       "  var js_urls = [\"https://cdn.pydata.org/bokeh/release/bokeh-0.12.7.min.js\", \"https://cdn.pydata.org/bokeh/release/bokeh-widgets-0.12.7.min.js\", \"https://cdn.pydata.org/bokeh/release/bokeh-tables-0.12.7.min.js\", \"https://cdn.pydata.org/bokeh/release/bokeh-gl-0.12.7.min.js\"];\n",
       "\n",
       "  var inline_js = [\n",
       "    function(Bokeh) {\n",
       "      Bokeh.set_log_level(\"info\");\n",
       "    },\n",
       "    \n",
       "    function(Bokeh) {\n",
       "      \n",
       "    },\n",
       "    \n",
       "    function(Bokeh) {\n",
       "      \n",
       "      document.getElementById(\"9aabc1c2-fb27-4dc7-ae7f-49f53de22b7a\").textContent = \"BokehJS is loading...\";\n",
       "    },\n",
       "    function(Bokeh) {\n",
       "      console.log(\"Bokeh: injecting CSS: https://cdn.pydata.org/bokeh/release/bokeh-0.12.7.min.css\");\n",
       "      Bokeh.embed.inject_css(\"https://cdn.pydata.org/bokeh/release/bokeh-0.12.7.min.css\");\n",
       "      console.log(\"Bokeh: injecting CSS: https://cdn.pydata.org/bokeh/release/bokeh-widgets-0.12.7.min.css\");\n",
       "      Bokeh.embed.inject_css(\"https://cdn.pydata.org/bokeh/release/bokeh-widgets-0.12.7.min.css\");\n",
       "      console.log(\"Bokeh: injecting CSS: https://cdn.pydata.org/bokeh/release/bokeh-tables-0.12.7.min.css\");\n",
       "      Bokeh.embed.inject_css(\"https://cdn.pydata.org/bokeh/release/bokeh-tables-0.12.7.min.css\");\n",
       "    }\n",
       "  ];\n",
       "\n",
       "  function run_inline_js() {\n",
       "    \n",
       "    if ((root.Bokeh !== undefined) || (force === true)) {\n",
       "      for (var i = 0; i < inline_js.length; i++) {\n",
       "        inline_js[i].call(root, root.Bokeh);\n",
       "      }if (force === true) {\n",
       "        display_loaded();\n",
       "      }} else if (Date.now() < root._bokeh_timeout) {\n",
       "      setTimeout(run_inline_js, 100);\n",
       "    } else if (!root._bokeh_failed_load) {\n",
       "      console.log(\"Bokeh: BokehJS failed to load within specified timeout.\");\n",
       "      root._bokeh_failed_load = true;\n",
       "    } else if (force !== true) {\n",
       "      var cell = $(document.getElementById(\"9aabc1c2-fb27-4dc7-ae7f-49f53de22b7a\")).parents('.cell').data().cell;\n",
       "      cell.output_area.append_execute_result(NB_LOAD_WARNING)\n",
       "    }\n",
       "\n",
       "  }\n",
       "\n",
       "  if (root._bokeh_is_loading === 0) {\n",
       "    console.log(\"Bokeh: BokehJS loaded, going straight to plotting\");\n",
       "    run_inline_js();\n",
       "  } else {\n",
       "    load_libs(js_urls, function() {\n",
       "      console.log(\"Bokeh: BokehJS plotting callback run at\", now());\n",
       "      run_inline_js();\n",
       "    });\n",
       "  }\n",
       "}(window));"
      ]
     },
     "metadata": {},
     "output_type": "display_data"
    }
   ],
   "source": [
    "from bokeh.io import push_notebook, show, output_notebook\n",
    "from bokeh.layouts import row, column, widgetbox, layout\n",
    "from bokeh.models.widgets import Dropdown, Button, Select\n",
    "from bokeh.plotting import figure, ColumnDataSource\n",
    "from bokeh import palettes\n",
    "from bokeh.models import GraphRenderer, Oval, StaticLayoutProvider\n",
    "from bokeh.application.handlers import FunctionHandler\n",
    "from bokeh.application import Application\n",
    "from bokeh.models.widgets import PreText\n",
    "from bokeh.models.widgets import Slider\n",
    "\n",
    "output_notebook()"
   ]
  },
  {
   "cell_type": "code",
   "execution_count": 3,
   "metadata": {
    "collapsed": false
   },
   "outputs": [],
   "source": [
    "import json\n",
    "import threading\n",
    "import numpy as np\n",
    "import time\n",
    "\n",
    "import logging\n",
    "logging.basicConfig()\n",
    "\n",
    "import demo"
   ]
  },
  {
   "cell_type": "code",
   "execution_count": 4,
   "metadata": {
    "collapsed": false
   },
   "outputs": [
    {
     "data": {
      "text/plain": [
       "u'authpong'"
      ]
     },
     "execution_count": 4,
     "metadata": {},
     "output_type": "execute_result"
    }
   ],
   "source": [
    "config = demo.get_config()\n",
    "\n",
    "cm_client = demo.ClusterManagerClient(config[\"cm_endpoint\"],\"client\",config[\"cm_client_secret\"])\n",
    "\n",
    "cm_client.authping()"
   ]
  },
  {
   "cell_type": "code",
   "execution_count": 5,
   "metadata": {
    "collapsed": false
   },
   "outputs": [
    {
     "name": "stderr",
     "output_type": "stream",
     "text": [
      "WARNING:/home/maximux/anaconda2/lib/python2.7/site-packages/bokeh/core/validation/check.pyc:W-1001 (NO_DATA_RENDERERS): Plot has no data renderers: Figure(id='f7600ad6-55a5-4524-9314-05063f5d15a7', ...)\n",
      "WARNING:/home/maximux/anaconda2/lib/python2.7/site-packages/bokeh/core/validation/check.pyc:W-1002 (EMPTY_LAYOUT): Layout has no children: Column(id='d461a250-fd5c-4c8e-8715-b7c0c9762fcf', ...)\n",
      "WARNING:/home/maximux/anaconda2/lib/python2.7/site-packages/bokeh/core/validation/check.pyc:W-1001 (NO_DATA_RENDERERS): Plot has no data renderers: Figure(id='30856a90-48a5-46de-98b3-aa871a5c9c6f', ...)\n",
      "WARNING:/home/maximux/anaconda2/lib/python2.7/site-packages/bokeh/core/validation/check.pyc:W-1002 (EMPTY_LAYOUT): Layout has no children: Column(id='c6885fe5-a6a5-4559-aba8-a83fc4893692', ...)\n"
     ]
    }
   ],
   "source": [
    "TEMPLATE_URL = \"./deployment_template.json\"\n",
    "\n",
    "def generate_deployment(mab,models,template_url = TEMPLATE_URL,id=\"1\"):\n",
    "    deployment_template = json.load(open(template_url,'r'))\n",
    "    deployment_template[\"id\"] = id\n",
    "    deployment_template[\"oauth_key\"] = \"key\"+str(id)\n",
    "    deployment_template[\"oauth_secret\"] = \"secret\"+str(id)\n",
    "    deployment_template['predictor'][\"name\"] = \"predictor_\"+str(id)\n",
    "    deployment_template['predictor']['predictiveUnits'][0]['cluster_resources']['image'] = mab.split(':')[0]\n",
    "    deployment_template['predictor']['predictiveUnits'][0]['cluster_resources']['version'] = mab.split(':')[1]\n",
    "    \n",
    "    for i,model in enumerate(models):\n",
    "        deployment_template['predictor']['predictiveUnits'][i+1]['cluster_resources']['image'] = model.split(':')[0]\n",
    "        deployment_template['predictor']['predictiveUnits'][i+1]['cluster_resources']['version'] = model.split(':')[1]\n",
    "    \n",
    "    return deployment_template\n",
    "\n",
    "n_models = 3\n",
    "\n",
    "mabs_options = [\n",
    "    (\"-\",None),\n",
    "    (\"seldonio/mab_epsilon_greedy:0.6\",\"Epsilon Greedy\"), \n",
    "    (\"seldonio/mab_thomson_sampling:0.6\",\"Thomson Sampling\"), \n",
    "    (\"seldonio/mab_contextual_ts:0.6\",\"Contextual Linear\"), \n",
    "    (\"seldonio/mab_contextual_gbnb:0.6\",\"Contextual Binary\")]\n",
    "\n",
    "model_options = [\n",
    "    (\"-\",None),\n",
    "    (\"\",\"Simple\"),\n",
    "    (\"seldonio/mean_classifier:0.5\",\"Average\")]\n",
    "\n",
    "deployment_options = [\"1\",\"2\",\"3\",\"4\",\"5\"]\n",
    "\n",
    "xy_generators_dict = {\n",
    "    \"Normal2D\":demo.Dummy2DXY()\n",
    "}\n",
    "\n",
    "reward_models_dict = {\n",
    "    \"Bernouilli\":demo.BernouilliRouting([0.2,0.8,0.4])\n",
    "}\n",
    "\n",
    "xy_gen_options = xy_generators_dict.keys()\n",
    "reward_models_options = reward_models_dict.keys()\n",
    "\n",
    "def modify_doc_deployments(doc):\n",
    "    \n",
    "    globs = dict(deployments_counter = 1)\n",
    "    \n",
    "    def gen_delete_button_update(deployment_id, button):\n",
    "        def inner():\n",
    "            index = deployments_map.index(deployment_id)\n",
    "            button.disabled = True\n",
    "            \n",
    "            cm_client.delete_deployment(deployment_id)\n",
    "            \n",
    "            deployments_map.pop(index)\n",
    "            deployments.children.pop(index)\n",
    "        return inner\n",
    "    \n",
    "    def click_deploy():\n",
    "        mab = dropdown_mab.value\n",
    "        models = [dm.value for dm in dropdown_models]\n",
    "        \n",
    "        button_deploy.disabled = True\n",
    "        dropdown_mab.disabled = True\n",
    "        for dm in dropdown_models:\n",
    "            dm.disabled = True\n",
    "            \n",
    "        d_id = globs[\"deployments_counter\"]\n",
    "        \n",
    "        deployment_string = generate_deployment(mab,models,id=str(d_id))\n",
    "        cm_client.create_deployment(deployment_string)\n",
    "\n",
    "    \n",
    "        delete_button = Button(label=\"Delete\", button_type=\"danger\")\n",
    "        delete_button.on_click(gen_delete_button_update(d_id, delete_button))\n",
    "        \n",
    "        deployments_map.append(d_id)\n",
    "        deployments.children.append(\n",
    "            widgetbox([PreText(text=\"Deployment \"+str(d_id)),\n",
    "                    delete_button]))\n",
    "        \n",
    "        globs[\"deployments_counter\"] += 1\n",
    "        \n",
    "        button_deploy.disabled = False\n",
    "        dropdown_mab.disabled = False\n",
    "        for dm in dropdown_models:\n",
    "            dm.disabled = False\n",
    "        \n",
    "    \n",
    "    # Controls\n",
    "    dropdown_mab = Select(title=\"MAB\", options=mabs_options)\n",
    "    dropdown_models = [Select(title=\"Model \"+str(i), options=model_options) for i in range(n_models)]\n",
    "    \n",
    "    button_deploy = Button(label=\"Deploy\", button_type=\"success\")\n",
    "\n",
    "    button_deploy.on_click(click_deploy)\n",
    "    \n",
    "    all_widgets = [dropdown_mab] + dropdown_models + [button_deploy]\n",
    "    controls = widgetbox(all_widgets)\n",
    "    \n",
    "    deployments_map = []\n",
    "    deployments = column([])\n",
    "    \n",
    "    p1 = figure(tools=\"\", toolbar_location=None,plot_width = 11,plot_height=500)\n",
    "    \n",
    "    layout = row(controls, p1, deployments)\n",
    "    doc.add_root(layout)\n",
    "\n",
    "# Set up the Application \n",
    "handler_deployments = FunctionHandler(modify_doc_deployments)\n",
    "app_deployments = Application(handler_deployments)\n",
    "\n",
    "doc_deployments = app_deployments.create_document()\n",
    "\n",
    "\n",
    "\n",
    "def modify_doc_clients(doc):\n",
    "    \n",
    "    globs = dict(clients_counter = 1)\n",
    "\n",
    "        \n",
    "    def gen_start_button_update(client,button_start,button_stop,button_delete):\n",
    "        def inner():\n",
    "            if client.isAlive():\n",
    "                client.restart()\n",
    "            else:\n",
    "                client.start()\n",
    "            button_start.disabled = True\n",
    "            button_stop.disabled = False\n",
    "            button_delete.disabled = True\n",
    "        return inner\n",
    "            \n",
    "    def gen_stop_button_update(client,button_start,button_stop,button_delete):\n",
    "        def inner():\n",
    "            client.stop()\n",
    "            button_start.disabled = False\n",
    "            button_stop.disabled = True\n",
    "            button_delete.disabled = False\n",
    "        return inner\n",
    "\n",
    "    def gen_delete_button_update(client_id, client, button):\n",
    "        def inner():\n",
    "            index = clients_map.index(client_id)\n",
    "            button.disabled = True\n",
    "            \n",
    "            client.kill()\n",
    "            clients_map.pop(index)\n",
    "            clients.children.pop(index)\n",
    "            \n",
    "        return inner\n",
    "            \n",
    "    def gen_update_param(kw,params):\n",
    "        def inner(attr,old,new):\n",
    "            params[kw] = new\n",
    "        return inner\n",
    "    \n",
    "            \n",
    "    def click_create():\n",
    "        \n",
    "        deployment_id = dropdown_deployment.value\n",
    "        xy_generator = xy_generators_dict[dropdown_generator.value]\n",
    "        reward_model = reward_models_dict[dropdown_reward.value]\n",
    "        \n",
    "        button_create.disabled = True\n",
    "            \n",
    "        c_id = globs[\"clients_counter\"]\n",
    "        \n",
    "        api_client = demo.APIFrontEndClient(config[\"api_endpoint\"],\"key\"+deployment_id,\"secret\"+deployment_id)\n",
    "        \n",
    "        client = demo.Client(api_client,xy_generator,reward_model)\n",
    "    \n",
    "        start_button = Button(label=\"Start\", button_type=\"success\")\n",
    "        stop_button = Button(label=\"Stop\", button_type=\"warning\", disabled=True)\n",
    "        delete_button = Button(label=\"Delete\", button_type=\"danger\")\n",
    "        \n",
    "        sliders = {kw:Slider(start=0,end=1,value=reward_model.params[kw],step=0.01,title=kw) for kw in reward_model.params}\n",
    "        for kw,slider in sliders.items():\n",
    "            slider.on_change('value',gen_update_param(kw,reward_model.params))\n",
    "        \n",
    "        start_button.on_click(gen_start_button_update(client, start_button, stop_button, delete_button))\n",
    "        stop_button.on_click(gen_stop_button_update(client, start_button, stop_button, delete_button))\n",
    "        delete_button.on_click(gen_delete_button_update(c_id, client, delete_button))\n",
    "        \n",
    "        \n",
    "        clients_map.append(c_id)\n",
    "        clients.children.append(\n",
    "            widgetbox([PreText(text=\"Client \"+str(c_id)),\n",
    "                        start_button,\n",
    "                        stop_button,\n",
    "                        delete_button]+sliders.values()))\n",
    "        \n",
    "        globs[\"clients_counter\"] += 1\n",
    "        \n",
    "        button_create.disabled = False\n",
    "        \n",
    "            \n",
    "    # Controls\n",
    "    dropdown_deployment = Select(title=\"Deployment\", options=deployment_options, value=deployment_options[0][0])\n",
    "    dropdown_generator = Select(title=\"Features Generator\", options=xy_gen_options, value= xy_gen_options[0])\n",
    "    dropdown_reward = Select(title=\"Reward Generator\", options=reward_models_options, value=reward_models_options[0])\n",
    "    \n",
    "    button_create = Button(label=\"Create Client\", button_type=\"success\")\n",
    "    \n",
    "    button_create.on_click(click_create)\n",
    "    \n",
    "    all_widgets = [dropdown_deployment, dropdown_generator, dropdown_reward, button_create]\n",
    "    controls = widgetbox(all_widgets)\n",
    "    \n",
    "    clients_map = []\n",
    "    clients = column([],responsive=True)\n",
    "    \n",
    "    \n",
    "    p1 = figure(tools=\"\", toolbar_location=None,plot_width = 11,plot_height=1000)\n",
    "    layout = row(controls, p1, clients)\n",
    "    doc.add_root(layout)\n",
    "\n",
    "# Set up the Application \n",
    "handler_clients = FunctionHandler(modify_doc_clients)\n",
    "app_clients = Application(handler_clients)\n",
    "\n",
    "doc_clients = app_clients.create_document()\n",
    "\n"
   ]
  },
  {
   "cell_type": "code",
   "execution_count": null,
   "metadata": {
    "collapsed": true
   },
   "outputs": [],
   "source": []
  },
  {
   "cell_type": "code",
   "execution_count": 6,
   "metadata": {
    "collapsed": false
   },
   "outputs": [
    {
     "data": {
      "text/html": [
       "<script type='text/javascript'>\n",
       "\n",
       "var target = document.getElementById('notebook-container');\n",
       "\n",
       "var observer = new MutationObserver(function(mutations) {\n",
       "\n",
       "   for (var i = 0; i < mutations.length; i++) {\n",
       "      for (var j=0; j < mutations[i].removedNodes.length; j++) {\n",
       "        for (var k=0; k < mutations[i].removedNodes[j].childNodes.length; k++)\n",
       "          var bokeh_selector = $(mutations[i].removedNodes[j].childNodes[k]).find(\".bokeh_class\");\n",
       "          if (bokeh_selector) {\n",
       "            if (bokeh_selector.length > 0) {\n",
       "               var destroyed_id = bokeh_selector[0].id;\n",
       "                \n",
       "var cmd = \"from bokeh import io; io._destroy_server('<%= destroyed_id %>')\";\n",
       "var command = _.template(cmd)({destroyed_id:destroyed_id});\n",
       "Jupyter.notebook.kernel.execute(command);\n",
       "\n",
       "            }\n",
       "          }\n",
       "      }\n",
       "   }\n",
       "});\n",
       "observer.observe(target, { childList: true, subtree:true });</script>"
      ]
     },
     "metadata": {},
     "output_type": "display_data"
    },
    {
     "data": {
      "text/html": [
       "<div class='bokeh_class' id='873263f5c07249e2a41b627fdf55d1bc'>\n",
       "<script\n",
       "    src=\"http://localhost:39711/autoload.js?bokeh-autoload-element=069fe8f6-7533-47c9-8eec-1f5e0b261710&bokeh-app-path=/&bokeh-absolute-url=http://localhost:39711\"\n",
       "    id=\"069fe8f6-7533-47c9-8eec-1f5e0b261710\"\n",
       "    data-bokeh-model-id=\"\"\n",
       "    data-bokeh-doc-id=\"\"\n",
       "></script></div>"
      ],
      "text/plain": [
       "<IPython.core.display.HTML object>"
      ]
     },
     "metadata": {},
     "output_type": "display_data"
    },
    {
     "data": {
      "text/html": [
       "<div class='bokeh_class' id='46cc380906f54ca99ee59b63c932f9d4'>\n",
       "<script\n",
       "    src=\"http://localhost:33311/autoload.js?bokeh-autoload-element=485f6db2-a101-4747-bfaf-09ad85536b59&bokeh-app-path=/&bokeh-absolute-url=http://localhost:33311\"\n",
       "    id=\"485f6db2-a101-4747-bfaf-09ad85536b59\"\n",
       "    data-bokeh-model-id=\"\"\n",
       "    data-bokeh-doc-id=\"\"\n",
       "></script></div>"
      ],
      "text/plain": [
       "<IPython.core.display.HTML object>"
      ]
     },
     "metadata": {},
     "output_type": "display_data"
    },
    {
     "name": "stderr",
     "output_type": "stream",
     "text": [
      "WARNING:/home/maximux/anaconda2/lib/python2.7/site-packages/bokeh/core/validation/check.pyc:W-1001 (NO_DATA_RENDERERS): Plot has no data renderers: Figure(id='c7a23569-8ac6-4230-9e30-12f931aea06d', ...)\n",
      "WARNING:/home/maximux/anaconda2/lib/python2.7/site-packages/bokeh/core/validation/check.pyc:W-1002 (EMPTY_LAYOUT): Layout has no children: Column(id='ae9c2961-1995-42d8-8efb-022ebe275da3', ...)\n"
     ]
    }
   ],
   "source": [
    "show(app_deployments, notebook_url=\"localhost:8888\")\n",
    "show(app_clients, notebook_url=\"localhost:8888\")"
   ]
  },
  {
   "cell_type": "code",
   "execution_count": 9,
   "metadata": {
    "collapsed": false
   },
   "outputs": [
    {
     "data": {
      "text/plain": [
       "2"
      ]
     },
     "execution_count": 9,
     "metadata": {},
     "output_type": "execute_result"
    },
    {
     "name": "stderr",
     "output_type": "stream",
     "text": [
      "Exception in thread Thread-9:\n",
      "Traceback (most recent call last):\n",
      "  File \"/home/maximux/anaconda2/lib/python2.7/threading.py\", line 801, in __bootstrap_inner\n",
      "    self.run()\n",
      "  File \"demo.py\", line 182, in run\n",
      "    response = self.api_client.predictions(request)\n",
      "  File \"demo.py\", line 102, in predictions\n",
      "    response = self._post(\"/api/v0.1/predictions\",data=request)\n",
      "  File \"demo.py\", line 74, in _post\n",
      "    return self._request(\"POST\",url,data)\n",
      "  File \"demo.py\", line 64, in _request\n",
      "    raise ClientException(response.text)\n",
      "ClientException: {\n",
      "  \"code\": 103,\n",
      "  \"info\": \"Status code: 500 Reason: \",\n",
      "  \"reason\": \"Microservice error\",\n",
      "  \"status\": \"FAILURE\"\n",
      "}\n",
      "\n"
     ]
    }
   ],
   "source": [
    "2"
   ]
  },
  {
   "cell_type": "code",
   "execution_count": null,
   "metadata": {
    "collapsed": true
   },
   "outputs": [],
   "source": []
  },
  {
   "cell_type": "code",
   "execution_count": 44,
   "metadata": {
    "collapsed": false
   },
   "outputs": [
    {
     "data": {
      "image/png": "[encoded data removed]",
      "text/plain": [
       "<matplotlib.figure.Figure at 0x7f28b7ad7f50>"
      ]
     },
     "metadata": {},
     "output_type": "display_data"
    }
   ],
   "source": [
    "import numpy as np\n",
    "from mpl_toolkits.mplot3d import Axes3D\n",
    "import matplotlib.pyplot as plt\n",
    "import random\n",
    "\n",
    "def fun(x, y):\n",
    "    return x**2 + y\n",
    "\n",
    "fig = plt.figure()\n",
    "ax = fig.add_subplot(111, projection='3d')\n",
    "x = y = np.arange(-3.0, 3.0, 0.05)\n",
    "X, Y = np.meshgrid(x, y)\n",
    "zs = np.array([fun(x,y) for x,y in zip(np.ravel(X), np.ravel(Y))])\n",
    "Z = zs.reshape(X.shape)\n",
    "\n",
    "ax.plot_surface(X, Y, Z)\n",
    "\n",
    "ax.set_xlabel('X Label')\n",
    "ax.set_ylabel('Y Label')\n",
    "ax.set_zlabel('Z Label')\n",
    "\n",
    "plt.show()"
   ]
  },
  {
   "cell_type": "code",
   "execution_count": null,
   "metadata": {
    "collapsed": true
   },
   "outputs": [],
   "source": []
  },
  {
   "cell_type": "code",
   "execution_count": 49,
   "metadata": {
    "collapsed": false
   },
   "outputs": [
    {
     "data": {
      "text/html": [
       "<div class='bokeh_class' id='336fbfd9bd8b4d0f914ede3a0b60bdff'>\n",
       "<script\n",
       "    src=\"http://localhost:36888/autoload.js?bokeh-autoload-element=92c83008-035d-4e96-8752-26b76189b48d&bokeh-app-path=/&bokeh-absolute-url=http://localhost:36888\"\n",
       "    id=\"92c83008-035d-4e96-8752-26b76189b48d\"\n",
       "    data-bokeh-model-id=\"\"\n",
       "    data-bokeh-doc-id=\"\"\n",
       "></script></div>"
      ],
      "text/plain": [
       "<IPython.core.display.HTML object>"
      ]
     },
     "metadata": {},
     "output_type": "display_data"
    }
   ],
   "source": [
    "def modify_doc(doc):\n",
    "    \n",
    "    # Create the main plot\n",
    "    def create_figure():\n",
    "        p = figure(plot_width=600, plot_height=600)\n",
    "        return p\n",
    "\n",
    "    # Update the plot\n",
    "    def update(attr, old, new):\n",
    "        pass\n",
    "#         print dropdown_mab.value\n",
    "        \n",
    "    def click_deploy():\n",
    "        mab = dropdown_mab.value\n",
    "        models = [dm.value for dm in dropdown_models]\n",
    "        \n",
    "        button_deploy.disabled = True\n",
    "        dropdown_mab.disabled = True\n",
    "        for dm in dropdown_models:\n",
    "            dm.disabled = True\n",
    "        \n",
    "        deployment_string = generate_deployment(mab,models)\n",
    "        cm_client.create_deployment(deployment_string)\n",
    "        \n",
    "        circles.glyph.fill_color = \"green\"\n",
    "        button_delete.disabled=False\n",
    "        \n",
    "    def click_delete():\n",
    "        button_delete.disabled = True\n",
    "        \n",
    "        cm_client.delete_deployment(1)\n",
    "        \n",
    "        circles.glyph.fill_color = \"yellow\"\n",
    "        button_deploy.disabled = False\n",
    "        dropdown_mab.disabled = False\n",
    "        for dm in dropdown_models:\n",
    "            dm.disabled = False\n",
    "            \n",
    "    p = figure(tools=\"\", toolbar_location=None, x_range=(-1.5,1.5), y_range=(-1.5,0.5))\n",
    "    p.axis.visible = False\n",
    "    p.xgrid.grid_line_color = None\n",
    "    p.ygrid.grid_line_color = None\n",
    "    \n",
    "    N = 4 \n",
    "    \n",
    "    x = [0,-1,0,1]\n",
    "    y = [0,-1,-1,-1]\n",
    "    texts = [\"MAB\",\"Model 1\", \"Model 2\", \"Model 3\"]\n",
    "    \n",
    "    text = ColumnDataSource(dict(x=x,y=y,text=texts))\n",
    "    vertices = ColumnDataSource(dict(x=x,y=y))\n",
    "    edges = ColumnDataSource(dict(x0=x[0:1]*(N-1),y0=y[0:1]*(N-1),x1=x[1:],y1=y[1:]))\n",
    "    \n",
    "    p.segment('x0','y0','x1','y1',source=edges,line_color=\"black\")\n",
    "    circles = p.circle('x','y',radius=0.3,source=vertices,line_color=\"black\",fill_color=\"yellow\")\n",
    "    p.text('x','y','text',source=text, text_align=\"center\", text_baseline=\"middle\")\n",
    "    \n",
    "    # Controls\n",
    "    dropdown_mab = Select(title=\"MAB\", options=mabs_options)\n",
    "    dropdown_models = [Select(title=\"Model \"+str(i), options=model_options) for i in range(n_models)]\n",
    "    \n",
    "    button_deploy = Button(label=\"Deploy\", button_type=\"success\")\n",
    "    button_delete = Button(label=\"Delete\", button_type=\"danger\",disabled=True)\n",
    "    \n",
    "    dropdown_mab.on_change('value', update)\n",
    "    for dm in dropdown_models:\n",
    "        dm.on_change('value', update)\n",
    "    button_deploy.on_click(click_deploy)\n",
    "    button_delete.on_click(click_delete)\n",
    "    \n",
    "    all_widgets = [dropdown_mab] + dropdown_models + [button_deploy,button_delete]\n",
    "    controls = widgetbox(all_widgets)\n",
    "    \n",
    "    layout = row(controls, p)\n",
    "    doc.add_root(layout)\n",
    "\n",
    "# Set up the Application \n",
    "handler = FunctionHandler(modify_doc)\n",
    "app = Application(handler)\n",
    "\n",
    "doc = app.create_document()\n",
    "\n",
    "show(app, notebook_url=\"localhost:8888\")"
   ]
  },
  {
   "cell_type": "code",
   "execution_count": null,
   "metadata": {
    "collapsed": true
   },
   "outputs": [],
   "source": []
  },
  {
   "cell_type": "code",
   "execution_count": null,
   "metadata": {
    "collapsed": true
   },
   "outputs": [],
   "source": []
  },
  {
   "cell_type": "code",
   "execution_count": null,
   "metadata": {
    "collapsed": true
   },
   "outputs": [],
   "source": []
  },
  {
   "cell_type": "code",
   "execution_count": 15,
   "metadata": {
    "collapsed": true
   },
   "outputs": [],
   "source": [
    "def track_kwargs(func):\n",
    "    def inner(self,*args,**kwargs):\n",
    "        self.kwargs = kwargs.keys()\n",
    "        return func(self,*args,**kwargs)\n",
    "    return inner"
   ]
  },
  {
   "cell_type": "code",
   "execution_count": 19,
   "metadata": {
    "collapsed": true
   },
   "outputs": [],
   "source": [
    "class Test(object):\n",
    "    @track_kwargs\n",
    "    def __init__(self,a=3):\n",
    "        self.a = 3"
   ]
  },
  {
   "cell_type": "code",
   "execution_count": 20,
   "metadata": {
    "collapsed": true
   },
   "outputs": [],
   "source": [
    "t = Test(a=5)"
   ]
  },
  {
   "cell_type": "code",
   "execution_count": 21,
   "metadata": {
    "collapsed": false
   },
   "outputs": [
    {
     "data": {
      "text/plain": [
       "['a']"
      ]
     },
     "execution_count": 21,
     "metadata": {},
     "output_type": "execute_result"
    }
   ],
   "source": [
    "t.kwargs"
   ]
  },
  {
   "cell_type": "code",
   "execution_count": null,
   "metadata": {
    "collapsed": true
   },
   "outputs": [],
   "source": []
  }
 ],
 "metadata": {
  "anaconda-cloud": {},
  "kernelspec": {
   "display_name": "Python [default]",
   "language": "python",
   "name": "python2"
  },
  "language_info": {
   "codemirror_mode": {
    "name": "ipython",
    "version": 2
   },
   "file_extension": ".py",
   "mimetype": "text/x-python",
   "name": "python",
   "nbconvert_exporter": "python",
   "pygments_lexer": "ipython2",
   "version": "2.7.12"
  }
 },
 "nbformat": 4,
 "nbformat_minor": 2
}
