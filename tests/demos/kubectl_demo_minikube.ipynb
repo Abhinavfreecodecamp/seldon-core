{
 "cells": [
  {
   "cell_type": "markdown",
   "metadata": {},
   "source": [
    "# Deploying Machine Learning Models using kubectl\n",
    "This demo shows how you can interact directly with kubernetes using kubectl to create and manage runtime machine learning models.\n",
    "<img src=\"images/deploy-graph.png\" alt=\"predictor with canary\" title=\"ml graph\"/>"
   ]
  },
  {
   "cell_type": "markdown",
   "metadata": {},
   "source": [
    "Ensure custom resource validation is activated"
   ]
  },
  {
   "cell_type": "code",
   "execution_count": 68,
   "metadata": {
    "collapsed": false
   },
   "outputs": [
    {
     "name": "stdout",
     "output_type": "stream",
     "text": [
      "Starting local Kubernetes v1.8.0 cluster...\n",
      "Starting VM...\n",
      "Getting VM IP address...\n",
      "Moving files into cluster...\n",
      "Setting up certs...\n",
      "Connecting to cluster...\n",
      "Setting up kubeconfig...\n",
      "Starting cluster components...\n",
      "Kubectl is now configured to use the cluster.\n",
      "Loading cached images from config file.\n"
     ]
    }
   ],
   "source": [
    "!minikube start --feature-gates=CustomResourceValidation=true"
   ]
  },
  {
   "cell_type": "markdown",
   "metadata": {},
   "source": [
    "Install Helm"
   ]
  },
  {
   "cell_type": "code",
   "execution_count": 77,
   "metadata": {
    "collapsed": false
   },
   "outputs": [
    {
     "name": "stdout",
     "output_type": "stream",
     "text": [
      "$HELM_HOME has been configured at /home/clive/.helm.\n",
      "\n",
      "Tiller (the Helm server-side component) has been installed into your Kubernetes Cluster.\n",
      "Happy Helming!\n"
     ]
    }
   ],
   "source": [
    "!helm init"
   ]
  },
  {
   "cell_type": "markdown",
   "metadata": {},
   "source": [
    "Label the node to allow load testing to run on it"
   ]
  },
  {
   "cell_type": "code",
   "execution_count": 78,
   "metadata": {
    "collapsed": false
   },
   "outputs": [
    {
     "name": "stdout",
     "output_type": "stream",
     "text": [
      "node \"validation\" labeled\r\n"
     ]
    }
   ],
   "source": [
    "!kubectl label nodes `kubectl get nodes -o jsonpath='{.items[0].metadata.name}'` role=locust --overwrite"
   ]
  },
  {
   "cell_type": "markdown",
   "metadata": {},
   "source": [
    "## Start seldon-core"
   ]
  },
  {
   "cell_type": "code",
   "execution_count": 79,
   "metadata": {
    "collapsed": false
   },
   "outputs": [
    {
     "name": "stdout",
     "output_type": "stream",
     "text": [
      "NAME:   seldon-core\n",
      "LAST DEPLOYED: Wed Dec  6 19:48:11 2017\n",
      "NAMESPACE: default\n",
      "STATUS: DEPLOYED\n",
      "\n",
      "RESOURCES:\n",
      "==> v1beta1/DaemonSet\n",
      "NAME                      DESIRED  CURRENT  READY  UP-TO-DATE  AVAILABLE  NODE SELECTOR  AGE\n",
      "prometheus-node-exporter  1        1        0      1           0          <none>         3s\n",
      "\n",
      "==> v1/Pod(related)\n",
      "NAME                                      READY  STATUS             RESTARTS  AGE\n",
      "grafana-prom-import-dashboards-s5zj6      0/1    ContainerCreating  0         3s\n",
      "alertmanager-deployment-6f5c9c5f58-7xmkv  0/1    ContainerCreating  0         3s\n",
      "seldon-apiserver-69cdfcb4bf-jnb4s         0/1    ContainerCreating  0         3s\n",
      "seldon-cluster-manager-59fc6c966f-bppqf   0/1    ContainerCreating  0         3s\n",
      "grafana-prom-deployment-bf46c5988-6g2bl   0/1    ContainerCreating  0         3s\n",
      "kafka-68cc697c5-l4788                     0/1    Pending            0         2s\n",
      "prometheus-node-exporter-44th9            0/1    ContainerCreating  0         2s\n",
      "prometheus-deployment-6b7f9fcbc6-6j9zv    0/1    Pending            0         2s\n",
      "redis-5767447797-6t6mm                    0/1    Pending            0         2s\n",
      "\n",
      "==> v1/Secret\n",
      "NAME                           TYPE    DATA  AGE\n",
      "cluster-manager-client-secret  Opaque  1     3s\n",
      "grafana-prom-secret            Opaque  1     3s\n",
      "\n",
      "==> v1/ConfigMap\n",
      "NAME                       DATA  AGE\n",
      "alertmanager-server-conf   1     3s\n",
      "grafana-import-dashboards  5     3s\n",
      "prometheus-rules           4     3s\n",
      "prometheus-server-conf     1     3s\n",
      "\n",
      "==> v1beta1/Deployment\n",
      "NAME                     DESIRED  CURRENT  UP-TO-DATE  AVAILABLE  AGE\n",
      "alertmanager-deployment  1        1        1           0          3s\n",
      "seldon-apiserver         1        1        1           0          3s\n",
      "seldon-cluster-manager   1        1        1           0          3s\n",
      "grafana-prom-deployment  1        1        1           0          3s\n",
      "kafka                    1        1        1           0          3s\n",
      "prometheus-deployment    1        1        1           0          2s\n",
      "redis                    1        1        1           0          2s\n",
      "\n",
      "==> v1/Pod\n",
      "NAME         READY  STATUS   RESTARTS  AGE\n",
      "zookeeper-1  0/1    Pending  0         2s\n",
      "zookeeper-2  0/1    Pending  0         2s\n",
      "zookeeper-3  0/1    Pending  0         2s\n",
      "\n",
      "==> v1beta1/CustomResourceDefinition\n",
      "NAME                                         AGE\n",
      "seldondeployments.machinelearning.seldon.io  3s\n",
      "\n",
      "==> v1/Job\n",
      "NAME                            DESIRED  SUCCESSFUL  AGE\n",
      "grafana-prom-import-dashboards  1        0           3s\n",
      "\n",
      "==> v1/Service\n",
      "NAME                      TYPE       CLUSTER-IP      EXTERNAL-IP  PORT(S)                     AGE\n",
      "alertmanager              ClusterIP  10.107.166.121  <none>       80/TCP                      3s\n",
      "seldon-apiserver          NodePort   10.100.157.193  <none>       8080:30032/TCP              3s\n",
      "grafana-prom              NodePort   10.104.179.125  <none>       80:30034/TCP                3s\n",
      "kafka                     NodePort   10.103.39.46    <none>       9092:30010/TCP              3s\n",
      "prometheus-node-exporter  ClusterIP  None            <none>       9100/TCP                    2s\n",
      "prometheus-seldon         ClusterIP  10.101.199.199  <none>       80/TCP                      2s\n",
      "redis                     ClusterIP  10.102.119.55   <none>       6379/TCP                    2s\n",
      "zookeeper-1               ClusterIP  10.102.198.67   <none>       2181/TCP,2888/TCP,3888/TCP  2s\n",
      "zookeeper-2               ClusterIP  10.107.206.30   <none>       2181/TCP,2888/TCP,3888/TCP  2s\n",
      "zookeeper-3               ClusterIP  10.96.235.210   <none>       2181/TCP,2888/TCP,3888/TCP  2s\n",
      "\n",
      "\n",
      "NOTES:\n",
      "NOTES: TODO\n",
      "\n",
      "\n"
     ]
    }
   ],
   "source": [
    "!helm install ../../helm-charts/seldon-core --name seldon-core \\\n",
    "    --set grafana_prom_admin_password=password \\\n",
    "    --set persistence.enabled=false \\\n",
    "    --set cluster_manager.image.tag=0.3-SNAPSHOT \\\n",
    "    --set apife.image.tag=0.1-SNAPSHOT \\\n",
    "    --set engine.image.tag=0.2-SNAPSHOT"
   ]
  },
  {
   "cell_type": "code",
   "execution_count": 66,
   "metadata": {
    "collapsed": false
   },
   "outputs": [
    {
     "name": "stdout",
     "output_type": "stream",
     "text": [
      "LAST DEPLOYED: Wed Dec  6 10:46:16 2017\r\n",
      "NAMESPACE: default\r\n",
      "STATUS: DEPLOYED\r\n",
      "\r\n",
      "RESOURCES:\r\n",
      "==> v1/Secret\r\n",
      "NAME                           TYPE    DATA  AGE\r\n",
      "cluster-manager-client-secret  Opaque  1     11s\r\n",
      "grafana-prom-secret            Opaque  1     11s\r\n",
      "\r\n",
      "==> v1/ConfigMap\r\n",
      "NAME                       DATA  AGE\r\n",
      "alertmanager-server-conf   1     11s\r\n",
      "grafana-import-dashboards  5     11s\r\n",
      "prometheus-rules           4     11s\r\n",
      "prometheus-server-conf     1     11s\r\n",
      "\r\n",
      "==> v1/Pod\r\n",
      "NAME         READY  STATUS   RESTARTS  AGE\r\n",
      "zookeeper-1  0/1    Pending  0         11s\r\n",
      "zookeeper-2  0/1    Pending  0         11s\r\n",
      "zookeeper-3  0/1    Pending  0         11s\r\n",
      "\r\n",
      "==> v1/Pod(related)\r\n",
      "grafana-prom-import-dashboards-kx25g      1/1  Running            0  11s\r\n",
      "alertmanager-deployment-6f5c9c5f58-5rb55  0/1  ContainerCreating  0  11s\r\n",
      "seldon-apiserver-69cdfcb4bf-zdshw         0/1  ContainerCreating  0  11s\r\n",
      "seldon-cluster-manager-59fc6c966f-cnk8m   0/1  ContainerCreating  0  11s\r\n",
      "grafana-prom-deployment-bf46c5988-tm6d7   0/1  ContainerCreating  0  11s\r\n",
      "kafka-68cc697c5-w4rbh                     0/1  ContainerCreating  0  11s\r\n",
      "prometheus-node-exporter-7xh9m            0/1  ContainerCreating  0  11s\r\n",
      "prometheus-deployment-6b7f9fcbc6-pvfvk    1/1  Running            0  11s\r\n",
      "redis-5767447797-vbdsh                    0/1  ContainerCreating  0  11s\r\n",
      "\r\n",
      "==> v1beta1/DaemonSet\r\n",
      "NAME                      DESIRED  CURRENT  READY  UP-TO-DATE  AVAILABLE  NODE SELECTOR  AGE\r\n",
      "prometheus-node-exporter  1        1        0      1           0          <none>         11s\r\n",
      "\r\n",
      "==> v1beta1/CustomResourceDefinition\r\n",
      "NAME                                         AGE\r\n",
      "seldondeployments.machinelearning.seldon.io  11s\r\n",
      "\r\n",
      "==> v1/Job\r\n",
      "NAME                            DESIRED  SUCCESSFUL  AGE\r\n",
      "grafana-prom-import-dashboards  1        0           11s\r\n",
      "\r\n",
      "==> v1beta1/Deployment\r\n",
      "NAME                     DESIRED  CURRENT  UP-TO-DATE  AVAILABLE  AGE\r\n",
      "alertmanager-deployment  1        1        1           0          11s\r\n",
      "seldon-apiserver         1        1        1           0          11s\r\n",
      "seldon-cluster-manager   1        1        1           0          11s\r\n",
      "grafana-prom-deployment  1        1        1           0          11s\r\n",
      "kafka                    1        1        1           0          11s\r\n",
      "prometheus-deployment    1        1        1           1          11s\r\n",
      "redis                    1        1        1           0          11s\r\n",
      "\r\n",
      "==> v1/Service\r\n",
      "NAME                      TYPE       CLUSTER-IP      EXTERNAL-IP  PORT(S)                     AGE\r\n",
      "alertmanager              ClusterIP  10.107.57.195   <none>       80/TCP                      11s\r\n",
      "seldon-apiserver          NodePort   10.106.229.197  <none>       8080:30032/TCP              11s\r\n",
      "grafana-prom              NodePort   10.102.93.120   <none>       80:30034/TCP                11s\r\n",
      "kafka                     NodePort   10.100.48.240   <none>       9092:30010/TCP              11s\r\n",
      "prometheus-node-exporter  ClusterIP  None            <none>       9100/TCP                    11s\r\n",
      "prometheus-seldon         ClusterIP  10.109.230.215  <none>       80/TCP                      11s\r\n",
      "redis                     ClusterIP  10.105.22.91    <none>       6379/TCP                    11s\r\n",
      "zookeeper-1               ClusterIP  10.108.162.166  <none>       2181/TCP,2888/TCP,3888/TCP  11s\r\n",
      "zookeeper-2               ClusterIP  10.111.125.154  <none>       2181/TCP,2888/TCP,3888/TCP  11s\r\n",
      "zookeeper-3               ClusterIP  10.109.137.84   <none>       2181/TCP,2888/TCP,3888/TCP  11s\r\n",
      "\r\n",
      "\r\n",
      "NOTES:\r\n",
      "NOTES: TODO\r\n",
      "\r\n",
      "\r\n"
     ]
    }
   ],
   "source": [
    "!helm status seldon-core"
   ]
  },
  {
   "cell_type": "markdown",
   "metadata": {},
   "source": [
    "# Integrating with Kubernetes API"
   ]
  },
  {
   "cell_type": "markdown",
   "metadata": {},
   "source": [
    "## Validation"
   ]
  },
  {
   "cell_type": "markdown",
   "metadata": {},
   "source": [
    "Using OpenAPI Schema certain basic validation can be done before the custom resource is accepted."
   ]
  },
  {
   "cell_type": "code",
   "execution_count": 80,
   "metadata": {
    "collapsed": false
   },
   "outputs": [
    {
     "name": "stdout",
     "output_type": "stream",
     "text": [
      "The SeldonDeployment \"seldon-deployment-example\" is invalid: []: Invalid value: map[string]interface {}{\"apiVersion\":\"machinelearning.seldon.io/v1alpha1\", \"kind\":\"SeldonDeployment\", \"metadata\":map[string]interface {}{\"clusterName\":\"\", \"namespace\":\"default\", \"deletionTimestamp\":interface {}(nil), \"deletionGracePeriodSeconds\":(*int64)(nil), \"uid\":\"cfc66f28-dabe-11e7-adc9-080027a3a01a\", \"selfLink\":\"\", \"initializers\":interface {}(nil), \"labels\":map[string]interface {}{\"app\":\"seldon\"}, \"name\":\"seldon-deployment-example\", \"creationTimestamp\":\"2017-12-06T19:51:12Z\"}, \"spec\":map[string]interface {}{\"annotations\":map[string]interface {}{\"deployment_version\":\"v1\", \"project_name\":\"FX Market Prediction\"}, \"name\":\"test-deployment\", \"oauth_key\":1234, \"oauth_secret\":\"oauth-secret\", \"predictors\":[]interface {}{map[string]interface {}{\"annotations\":map[string]interface {}{\"predictor_version\":\"v1\"}, \"componentSpec\":map[string]interface {}{\"spec\":map[string]interface {}{\"containers\":[]interface {}{map[string]interface {}{\"image\":\"seldonio/mean_classifier:0.6\", \"imagePullPolicy\":22, \"name\":\"mean-classifier\", \"resources\":map[string]interface {}{\"requests\":map[string]interface {}{\"memory\":\"1Mi\"}}}}, \"terminationGracePeriodSeconds\":20}}, \"graph\":map[string]interface {}{\"children\":[]interface {}{}, \"endpoint\":map[string]interface {}{\"type\":\"REST\"}, \"name\":\"mean-classifier\", \"subtype\":\"MICROSERVICE\", \"type\":\"MODEL\"}, \"name\":\"fx-market-predictor\", \"replicas\":1}}}}: validation failure list:\r\n",
      "spec.oauth_key in body must be of type string: \"integer\"\r\n"
     ]
    }
   ],
   "source": [
    "!kubectl create -f resources/model_invalid1.json"
   ]
  },
  {
   "cell_type": "markdown",
   "metadata": {},
   "source": [
    "For the more complex cases, e.g. checking if the graph predictive unit names for models each have an associated container in the pod spec, we need to check inside the custom resource operator and add a FAILED status."
   ]
  },
  {
   "cell_type": "code",
   "execution_count": 81,
   "metadata": {
    "collapsed": false
   },
   "outputs": [
    {
     "name": "stdout",
     "output_type": "stream",
     "text": [
      "seldondeployment \"seldon-deployment-example\" created\r\n"
     ]
    }
   ],
   "source": [
    "!kubectl create -f resources/model_invalid2.json"
   ]
  },
  {
   "cell_type": "code",
   "execution_count": 82,
   "metadata": {
    "collapsed": false
   },
   "outputs": [
    {
     "name": "stdout",
     "output_type": "stream",
     "text": [
      "map[description:Can't find container for predictive unit with name mean-classifier_ state:FAILED]"
     ]
    }
   ],
   "source": [
    "!kubectl get seldondeployments seldon-deployment-example -o jsonpath='{.status}'"
   ]
  },
  {
   "cell_type": "code",
   "execution_count": 83,
   "metadata": {
    "collapsed": false
   },
   "outputs": [
    {
     "name": "stdout",
     "output_type": "stream",
     "text": [
      "seldondeployment \"seldon-deployment-example\" deleted\r\n"
     ]
    }
   ],
   "source": [
    "!kubectl delete -f resources/model_invalid2.json"
   ]
  },
  {
   "cell_type": "markdown",
   "metadata": {},
   "source": [
    "## Normal Operation"
   ]
  },
  {
   "cell_type": "code",
   "execution_count": 84,
   "metadata": {
    "collapsed": false
   },
   "outputs": [
    {
     "name": "stdout",
     "output_type": "stream",
     "text": [
      "{\r\n",
      "    \"apiVersion\": \"machinelearning.seldon.io/v1alpha1\",\r\n",
      "    \"kind\": \"SeldonDeployment\",\r\n",
      "    \"metadata\": {\r\n",
      "        \"labels\": {\r\n",
      "            \"app\": \"seldon\"\r\n",
      "        },\r\n",
      "        \"name\": \"seldon-deployment-example\"\r\n",
      "    },\r\n",
      "    \"spec\": {\r\n",
      "        \"annotations\": {\r\n",
      "            \"project_name\": \"FX Market Prediction\",\r\n",
      "            \"deployment_version\": \"v1\"\r\n",
      "        },\r\n",
      "        \"name\": \"test-deployment\",\r\n",
      "        \"oauth_key\": \"oauth-key\",\r\n",
      "        \"oauth_secret\": \"oauth-secret\",\r\n",
      "        \"predictors\": [\r\n",
      "            {\r\n",
      "                \"componentSpec\": {\r\n",
      "                    \"spec\": {\r\n",
      "                        \"containers\": [\r\n",
      "                            {\r\n",
      "                                \"image\": \"seldonio/mean_classifier:0.6\",\r\n",
      "                                \"imagePullPolicy\": \"IfNotPresent\",\r\n",
      "                                \"name\": \"mean-classifier\",\r\n",
      "                                \"resources\": {\r\n",
      "                                    \"requests\": {\r\n",
      "                                        \"memory\": \"1Mi\"\r\n",
      "                                    }\r\n",
      "                                }\r\n",
      "                            }\r\n",
      "                        ],\r\n",
      "                        \"terminationGracePeriodSeconds\": 20\r\n",
      "                    }\r\n",
      "                },\r\n",
      "                \"graph\": {\r\n",
      "                    \"children\": [],\r\n",
      "                    \"name\": \"mean-classifier\",\r\n",
      "                    \"endpoint\": {\r\n",
      "\t\t\t\"type\" : \"REST\"\r\n",
      "\t\t    },\r\n",
      "                    \"subtype\": \"MICROSERVICE\",\r\n",
      "                    \"type\": \"MODEL\"\r\n",
      "                },\r\n",
      "                \"name\": \"fx-market-predictor\",\r\n",
      "                \"replicas\": 1,\r\n",
      "\t\t\"annotations\": {\r\n",
      "\t\t    \"predictor_version\" : \"v1\"\r\n",
      "\t\t}\r\n",
      "            }\r\n",
      "        ]\r\n",
      "    }\r\n",
      "}\r\n"
     ]
    }
   ],
   "source": [
    "!cat resources/model.json"
   ]
  },
  {
   "cell_type": "markdown",
   "metadata": {},
   "source": [
    "## Create Seldon Deployment"
   ]
  },
  {
   "cell_type": "code",
   "execution_count": 85,
   "metadata": {
    "collapsed": false
   },
   "outputs": [
    {
     "name": "stdout",
     "output_type": "stream",
     "text": [
      "seldondeployment \"seldon-deployment-example\" created\r\n"
     ]
    }
   ],
   "source": [
    "!kubectl apply -f resources/model.json"
   ]
  },
  {
   "cell_type": "code",
   "execution_count": 86,
   "metadata": {
    "collapsed": false
   },
   "outputs": [
    {
     "name": "stdout",
     "output_type": "stream",
     "text": [
      "NAME                        AGE\r\n",
      "seldon-deployment-example   0s\r\n"
     ]
    }
   ],
   "source": [
    "!kubectl get seldondeployments"
   ]
  },
  {
   "cell_type": "code",
   "execution_count": 87,
   "metadata": {
    "collapsed": false
   },
   "outputs": [
    {
     "name": "stdout",
     "output_type": "stream",
     "text": [
      "Name:         seldon-deployment-example\r\n",
      "Namespace:    default\r\n",
      "Labels:       app=seldon\r\n",
      "Annotations:  kubectl.kubernetes.io/last-applied-configuration={\"apiVersion\":\"machinelearning.seldon.io/v1alpha1\",\"kind\":\"SeldonDeployment\",\"metadata\":{\"name\":\"seldon-deployment-example\",\"namespace\":\"default\",\"self...\r\n",
      "API Version:  machinelearning.seldon.io/v1alpha1\r\n",
      "Kind:         SeldonDeployment\r\n",
      "Metadata:\r\n",
      "  Cluster Name:        \r\n",
      "  Creation Timestamp:  2017-12-06T19:52:01Z\r\n",
      "  Generation:          0\r\n",
      "  Initializers:        <nil>\r\n",
      "  Resource Version:    3942\r\n",
      "  Self Link:           /apis/machinelearning.seldon.io/v1alpha1/namespaces/default/seldondeployments/seldon-deployment-example\r\n",
      "  UID:                 ed32c33e-dabe-11e7-adc9-080027a3a01a\r\n",
      "Spec:\r\n",
      "  Annotations:\r\n",
      "    Deployment _ Version:  v1\r\n",
      "    Project _ Name:        FX Market Prediction\r\n",
      "  Endpoint:\r\n",
      "    Service _ Host:  test-deployment\r\n",
      "    Service _ Port:  8000\r\n",
      "    Type:            REST\r\n",
      "  Name:              test-deployment\r\n",
      "  Oauth _ Key:       oauth-key\r\n",
      "  Oauth _ Secret:    oauth-secret\r\n",
      "  Predictors:\r\n",
      "    Annotations:\r\n",
      "      Predictor _ Version:  v1\r\n",
      "    Component Spec:\r\n",
      "      Metadata:\r\n",
      "        Labels:\r\n",
      "          Seldon - App:  test-deployment\r\n",
      "      Spec:\r\n",
      "        Containers:\r\n",
      "          Env:\r\n",
      "            Name:             PREDICTIVE_UNIT_SERVICE_PORT\r\n",
      "            Value:            9000\r\n",
      "            Name:             PREDICTIVE_UNIT_PARAMETERS\r\n",
      "            Value:            []\r\n",
      "          Image:              seldonio/mean_classifier:0.6\r\n",
      "          Image Pull Policy:  IfNotPresent\r\n",
      "          Lifecycle:\r\n",
      "            Pre Stop:\r\n",
      "              Exec:\r\n",
      "                Command:\r\n",
      "                  /bin/sh\r\n",
      "                  -c\r\n",
      "                  /bin/sleep 5\r\n",
      "          Liveness Probe:\r\n",
      "            Handler:\r\n",
      "              Tcp Socket:\r\n",
      "                Port:               http\r\n",
      "            Initial Delay Seconds:  10\r\n",
      "            Period Seconds:         5\r\n",
      "          Name:                     mean-classifier\r\n",
      "          Ports:\r\n",
      "            Container Port:  9000\r\n",
      "            Name:            http\r\n",
      "          Readiness Probe:\r\n",
      "            Handler:\r\n",
      "              Tcp Socket:\r\n",
      "                Port:               http\r\n",
      "            Initial Delay Seconds:  10\r\n",
      "            Period Seconds:         5\r\n",
      "          Resources:\r\n",
      "            Requests:\r\n",
      "              Memory:                      1Mi\r\n",
      "        Termination Grace Period Seconds:  20\r\n",
      "    Graph:\r\n",
      "      Endpoint:\r\n",
      "        Service _ Host:  0.0.0.0\r\n",
      "        Service _ Port:  9000\r\n",
      "        Type:            REST\r\n",
      "      Name:              mean-classifier\r\n",
      "      Subtype:           MICROSERVICE\r\n",
      "      Type:              MODEL\r\n",
      "    Name:                fx-market-predictor\r\n",
      "    Replicas:            1\r\n",
      "Events:                  <none>\r\n"
     ]
    }
   ],
   "source": [
    "!kubectl describe seldondeployments seldon-deployment-example "
   ]
  },
  {
   "cell_type": "code",
   "execution_count": 89,
   "metadata": {
    "collapsed": false
   },
   "outputs": [
    {
     "name": "stdout",
     "output_type": "stream",
     "text": [
      "map[predictorStatus:[map[name:test-deployment-fx-market-predictor replicas:1 replicasAvailable:1]]]"
     ]
    }
   ],
   "source": [
    "!kubectl get seldondeployments seldon-deployment-example -o jsonpath='{.status}'"
   ]
  },
  {
   "cell_type": "markdown",
   "metadata": {},
   "source": [
    "## Get predictions"
   ]
  },
  {
   "cell_type": "code",
   "execution_count": 90,
   "metadata": {
    "collapsed": false
   },
   "outputs": [
    {
     "name": "stdout",
     "output_type": "stream",
     "text": [
      "{\n",
      "  \"meta\": {\n",
      "    \"puid\": \"b189c5r53idkq4lk26ekmh98qf\",\n",
      "    \"tags\": {\n",
      "    },\n",
      "    \"routing\": {\n",
      "    }\n",
      "  },\n",
      "  \"data\": {\n",
      "    \"names\": [\"proba\"],\n",
      "    \"tensor\": {\n",
      "      \"shape\": [1, 1],\n",
      "      \"values\": [0.05133579311531625]\n",
      "    }\n",
      "  }\n",
      "}"
     ]
    }
   ],
   "source": [
    "%%bash\n",
    "SERVER=192.168.99.100:30032\n",
    "TOKEN=`curl -s -H \"Accept: application/json\" oauth-key:oauth-secret@${SERVER}/oauth/token -d grant_type=client_credentials | jq -r '.access_token'`\n",
    "curl -s -H \"Content-Type:application/json\" -H \"Accept: application/json\" -H \"Authorization: Bearer $TOKEN\" \\\n",
    "    ${SERVER}/api/v0.1/predictions \\\n",
    "    -d '{\"data\":{\"names\":[\"a\",\"b\"],\"tensor\":{\"shape\":[1,2],\"values\":[0,0]}}}'"
   ]
  },
  {
   "cell_type": "markdown",
   "metadata": {},
   "source": [
    "## Update deployment with canary"
   ]
  },
  {
   "cell_type": "code",
   "execution_count": 91,
   "metadata": {
    "collapsed": false
   },
   "outputs": [
    {
     "name": "stdout",
     "output_type": "stream",
     "text": [
      "{\r\n",
      "    \"apiVersion\": \"machinelearning.seldon.io/v1alpha1\",\r\n",
      "    \"kind\": \"SeldonDeployment\",\r\n",
      "    \"metadata\": {\r\n",
      "        \"labels\": {\r\n",
      "            \"app\": \"seldon\"\r\n",
      "        },\r\n",
      "        \"name\": \"seldon-deployment-example\"\r\n",
      "    },\r\n",
      "    \"spec\": {\r\n",
      "        \"annotations\": {\r\n",
      "            \"project_name\": \"FX Market Prediction\"\r\n",
      "        },\r\n",
      "        \"name\": \"test-deployment\",\r\n",
      "        \"oauth_key\": \"oauth-key\",\r\n",
      "        \"oauth_secret\": \"oauth-secret\",\r\n",
      "        \"predictors\": [\r\n",
      "            {\r\n",
      "                \"componentSpec\": {\r\n",
      "                    \"spec\": {\r\n",
      "                        \"containers\": [\r\n",
      "                            {\r\n",
      "                                \"image\": \"seldonio/mean_classifier:0.6\",\r\n",
      "                                \"imagePullPolicy\": \"IfNotPresent\",\r\n",
      "                                \"name\": \"mean-classifier\",\r\n",
      "                                \"resources\": {\r\n",
      "                                    \"requests\": {\r\n",
      "                                        \"memory\": \"1Mi\"\r\n",
      "                                    }\r\n",
      "                                }\r\n",
      "                            }\r\n",
      "                        ]\r\n",
      "                    }\r\n",
      "                },\r\n",
      "                \"graph\": {\r\n",
      "                    \"children\": [],\r\n",
      "                    \"name\": \"mean-classifier\",\r\n",
      "                    \"endpoint\": {\r\n",
      "\t\t\t\"type\" : \"REST\"\r\n",
      "\t\t    },\r\n",
      "                    \"subtype\": \"MICROSERVICE\",\r\n",
      "                    \"type\": \"MODEL\"\r\n",
      "                },\r\n",
      "                \"name\": \"fx-market-predictor\",\r\n",
      "                \"replicas\": 1\r\n",
      "            },\r\n",
      "            {\r\n",
      "                \"componentSpec\": {\r\n",
      "                    \"spec\": {\r\n",
      "                        \"containers\": [\r\n",
      "                            {\r\n",
      "                                \"image\": \"seldonio/mean_classifier:0.6\",\r\n",
      "                                \"imagePullPolicy\": \"IfNotPresent\",\r\n",
      "                                \"name\": \"mean-classifier\",\r\n",
      "                                \"resources\": {\r\n",
      "                                    \"requests\": {\r\n",
      "                                        \"memory\": \"1Mi\"\r\n",
      "                                    }\r\n",
      "                                }\r\n",
      "                            }\r\n",
      "                        ]\r\n",
      "                    }\r\n",
      "                },\r\n",
      "                \"graph\": {\r\n",
      "                    \"children\": [],\r\n",
      "                    \"name\": \"mean-classifier\",\r\n",
      "                    \"endpoint\": {\r\n",
      "\t\t\t\"type\" : \"REST\"\r\n",
      "\t\t    },\r\n",
      "                    \"subtype\": \"MICROSERVICE\",\r\n",
      "                    \"type\": \"MODEL\"\r\n",
      "                },\r\n",
      "                \"name\": \"fx-market-predictor-canary\",\r\n",
      "                \"replicas\": 1\r\n",
      "            }\r\n",
      "        ]\r\n",
      "    }\r\n",
      "}\r\n"
     ]
    }
   ],
   "source": [
    "!cat resources/model_with_canary.json"
   ]
  },
  {
   "cell_type": "code",
   "execution_count": 92,
   "metadata": {
    "collapsed": false
   },
   "outputs": [
    {
     "name": "stdout",
     "output_type": "stream",
     "text": [
      "seldondeployment \"seldon-deployment-example\" configured\r\n"
     ]
    }
   ],
   "source": [
    "!kubectl apply -f resources/model_with_canary.json"
   ]
  },
  {
   "cell_type": "code",
   "execution_count": 94,
   "metadata": {
    "collapsed": false
   },
   "outputs": [
    {
     "name": "stdout",
     "output_type": "stream",
     "text": [
      "map[predictorStatus:[map[name:test-deployment-fx-market-predictor replicas:1 replicasAvailable:1] map[name:test-deployment-fx-market-predictor-canary replicas:1 replicasAvailable:1]]]"
     ]
    }
   ],
   "source": [
    "!kubectl get seldondeployments seldon-deployment-example -o jsonpath='{.status}'"
   ]
  },
  {
   "cell_type": "code",
   "execution_count": 95,
   "metadata": {
    "collapsed": false
   },
   "outputs": [
    {
     "name": "stdout",
     "output_type": "stream",
     "text": [
      "{\n",
      "  \"meta\": {\n",
      "    \"puid\": \"1dsmpd8q98s85phqtf47rbp4hn\",\n",
      "    \"tags\": {\n",
      "    },\n",
      "    \"routing\": {\n",
      "    }\n",
      "  },\n",
      "  \"data\": {\n",
      "    \"names\": [\"proba\"],\n",
      "    \"tensor\": {\n",
      "      \"shape\": [1, 1],\n",
      "      \"values\": [0.05133579311531625]\n",
      "    }\n",
      "  }\n",
      "}"
     ]
    }
   ],
   "source": [
    "%%bash\n",
    "SERVER=192.168.99.100:30032\n",
    "TOKEN=`curl -s -H \"Accept: application/json\" oauth-key:oauth-secret@${SERVER}/oauth/token -d grant_type=client_credentials | jq -r '.access_token'`\n",
    "curl -s -H \"Content-Type:application/json\" -H \"Accept: application/json\" -H \"Authorization: Bearer $TOKEN\" \\\n",
    "    ${SERVER}/api/v0.1/predictions \\\n",
    "    -d '{\"data\":{\"names\":[\"a\",\"b\"],\"tensor\":{\"shape\":[1,2],\"values\":[0,0]}}}'"
   ]
  },
  {
   "cell_type": "markdown",
   "metadata": {},
   "source": [
    "## Load test"
   ]
  },
  {
   "cell_type": "code",
   "execution_count": 98,
   "metadata": {
    "collapsed": false
   },
   "outputs": [
    {
     "name": "stdout",
     "output_type": "stream",
     "text": [
      "NAME:   loadtest\n",
      "LAST DEPLOYED: Wed Dec  6 20:51:59 2017\n",
      "NAMESPACE: default\n",
      "STATUS: DEPLOYED\n",
      "\n",
      "RESOURCES:\n",
      "==> v1/ReplicationController\n",
      "NAME             DESIRED  CURRENT  READY  AGE\n",
      "locust-slave-1   1        1        0      0s\n",
      "locust-master-1  1        1        0      0s\n",
      "\n",
      "==> v1/Service\n",
      "NAME             TYPE      CLUSTER-IP     EXTERNAL-IP  PORT(S)                                       AGE\n",
      "locust-master-1  NodePort  10.98.156.223  <none>       5557:31903/TCP,5558:31975/TCP,8089:31839/TCP  0s\n",
      "\n",
      "==> v1/Pod(related)\n",
      "NAME                   READY  STATUS             RESTARTS  AGE\n",
      "locust-slave-1-pg47v   0/1    ContainerCreating  0         0s\n",
      "locust-master-1-dxrcp  0/1    ContainerCreating  0         0s\n",
      "locust-master-1-pzhzj  0/1    Terminating        0         55m\n",
      "\n",
      "\n"
     ]
    }
   ],
   "source": [
    "!helm install ../../helm-charts/seldon-core-loadtesting --name loadtest  \\\n",
    "    --set oauth.key=oauth-key \\\n",
    "    --set oauth.secret=oauth-secret "
   ]
  },
  {
   "cell_type": "markdown",
   "metadata": {},
   "source": [
    "# Tear down"
   ]
  },
  {
   "cell_type": "code",
   "execution_count": 99,
   "metadata": {
    "collapsed": false
   },
   "outputs": [
    {
     "name": "stdout",
     "output_type": "stream",
     "text": [
      "release \"loadtest\" deleted\r\n"
     ]
    }
   ],
   "source": [
    "!helm delete loadtest --purge"
   ]
  },
  {
   "cell_type": "code",
   "execution_count": 100,
   "metadata": {
    "collapsed": false
   },
   "outputs": [
    {
     "name": "stdout",
     "output_type": "stream",
     "text": [
      "seldondeployment \"seldon-deployment-example\" deleted\r\n"
     ]
    }
   ],
   "source": [
    "!kubectl delete -f resources/model_with_canary.json"
   ]
  },
  {
   "cell_type": "code",
   "execution_count": 101,
   "metadata": {
    "collapsed": false
   },
   "outputs": [
    {
     "name": "stdout",
     "output_type": "stream",
     "text": [
      "release \"seldon-core\" deleted\r\n"
     ]
    }
   ],
   "source": [
    "!helm delete seldon-core --purge"
   ]
  },
  {
   "cell_type": "code",
   "execution_count": null,
   "metadata": {
    "collapsed": true
   },
   "outputs": [],
   "source": []
  }
 ],
 "metadata": {
  "kernelspec": {
   "display_name": "Python 2",
   "language": "python",
   "name": "python2"
  },
  "language_info": {
   "codemirror_mode": {
    "name": "ipython",
    "version": 2
   },
   "file_extension": ".py",
   "mimetype": "text/x-python",
   "name": "python",
   "nbconvert_exporter": "python",
   "pygments_lexer": "ipython2",
   "version": "2.7.11"
  }
 },
 "nbformat": 4,
 "nbformat_minor": 1
}
