{
 "cells": [
  {
   "cell_type": "markdown",
   "metadata": {},
   "source": [
    "# Deploying Machine Learning Models using kubectl\n",
    "This demo shows how you can interact directly with kubernetes using kubectl to create and manage runtime machine learning models.\n",
    "<img src=\"images/deploy-graph.png\" alt=\"predictor with canary\" title=\"ml graph\"/>"
   ]
  },
  {
   "cell_type": "code",
   "execution_count": 34,
   "metadata": {
    "collapsed": false
   },
   "outputs": [
    {
     "name": "stdout",
     "output_type": "stream",
     "text": [
      "node \"apiserver-crd\" labeled\r\n"
     ]
    }
   ],
   "source": [
    "!kubectl label nodes apiserver-crd role=locust --overwrite"
   ]
  },
  {
   "cell_type": "markdown",
   "metadata": {},
   "source": [
    "## Start seldon-core"
   ]
  },
  {
   "cell_type": "code",
   "execution_count": 21,
   "metadata": {
    "collapsed": false
   },
   "outputs": [
    {
     "name": "stdout",
     "output_type": "stream",
     "text": [
      "NAME:   seldon-core\n",
      "LAST DEPLOYED: Fri Dec  1 18:46:21 2017\n",
      "NAMESPACE: default\n",
      "STATUS: DEPLOYED\n",
      "\n",
      "RESOURCES:\n",
      "==> v1/ConfigMap\n",
      "NAME                       DATA  AGE\n",
      "alertmanager-server-conf   1     9s\n",
      "grafana-import-dashboards  5     9s\n",
      "prometheus-rules           4     9s\n",
      "prometheus-server-conf     1     9s\n",
      "\n",
      "==> v1/Job\n",
      "NAME                            DESIRED  SUCCESSFUL  AGE\n",
      "grafana-prom-import-dashboards  1        0           9s\n",
      "\n",
      "==> v1beta1/Deployment\n",
      "NAME                     DESIRED  CURRENT  UP-TO-DATE  AVAILABLE  AGE\n",
      "alertmanager-deployment  1        1        1           0          9s\n",
      "seldon-apiserver         1        1        1           0          9s\n",
      "seldon-cluster-manager   1        1        1           0          9s\n",
      "grafana-prom-deployment  1        1        1           0          9s\n",
      "kafka                    1        1        1           0          9s\n",
      "prometheus-deployment    1        1        1           0          9s\n",
      "redis                    1        1        1           0          8s\n",
      "\n",
      "==> v1/Service\n",
      "NAME                      TYPE       CLUSTER-IP  EXTERNAL-IP  PORT(S)                     AGE\n",
      "alertmanager              ClusterIP  10.0.0.144  <none>       80/TCP                      9s\n",
      "seldon-apiserver          NodePort   10.0.0.14   <none>       8080:30032/TCP              9s\n",
      "grafana-prom              NodePort   10.0.0.195  <none>       80:30034/TCP                9s\n",
      "kafka                     NodePort   10.0.0.76   <none>       9092:30010/TCP              9s\n",
      "prometheus-node-exporter  ClusterIP  None        <none>       9100/TCP                    9s\n",
      "prometheus-seldon         ClusterIP  10.0.0.164  <none>       80/TCP                      9s\n",
      "redis                     ClusterIP  10.0.0.156  <none>       6379/TCP                    8s\n",
      "zookeeper-1               ClusterIP  10.0.0.213  <none>       2181/TCP,2888/TCP,3888/TCP  8s\n",
      "zookeeper-2               ClusterIP  10.0.0.104  <none>       2181/TCP,2888/TCP,3888/TCP  8s\n",
      "zookeeper-3               ClusterIP  10.0.0.161  <none>       2181/TCP,2888/TCP,3888/TCP  8s\n",
      "\n",
      "==> v1/Secret\n",
      "NAME                           TYPE    DATA  AGE\n",
      "cluster-manager-client-secret  Opaque  1     9s\n",
      "grafana-prom-secret            Opaque  1     9s\n",
      "\n",
      "==> v1beta1/DaemonSet\n",
      "NAME                      DESIRED  CURRENT  READY  UP-TO-DATE  AVAILABLE  NODE SELECTOR  AGE\n",
      "prometheus-node-exporter  1        1        0      1           0          <none>         9s\n",
      "\n",
      "==> v1/Pod\n",
      "NAME         READY  STATUS             RESTARTS  AGE\n",
      "zookeeper-1  0/1    ContainerCreating  0         8s\n",
      "zookeeper-2  0/1    ContainerCreating  0         8s\n",
      "zookeeper-3  0/1    ContainerCreating  0         7s\n",
      "\n",
      "==> v1/Pod(related)\n",
      "grafana-prom-import-dashboards-kklkb      0/1  ContainerCreating  0  9s\n",
      "alertmanager-deployment-8d76d45f-rmtbh    0/1  ContainerCreating  0  9s\n",
      "seldon-apiserver-6bbf5cdbb-glmtc          0/1  ContainerCreating  0  9s\n",
      "seldon-cluster-manager-689c55c6b8-xspb2   0/1  ContainerCreating  0  9s\n",
      "grafana-prom-deployment-586bc9b9c5-8js94  0/1  ContainerCreating  0  9s\n",
      "kafka-6b57cb69f8-ccd8d                    0/1  ContainerCreating  0  8s\n",
      "prometheus-node-exporter-62p7f            0/1  ContainerCreating  0  8s\n",
      "prometheus-deployment-6666b95955-qrh75    0/1  ContainerCreating  0  8s\n",
      "redis-6668b544f4-bnh4x                    0/1  ContainerCreating  0  8s\n",
      "\n",
      "==> v1beta1/CustomResourceDefinition\n",
      "NAME                                         AGE\n",
      "seldondeployments.machinelearning.seldon.io  9s\n",
      "\n",
      "\n",
      "NOTES:\n",
      "NOTES: TODO\n",
      "\n",
      "\n"
     ]
    }
   ],
   "source": [
    "!helm install ../../helm-charts/seldon-core --name seldon-core \\\n",
    "    --set grafana_prom_admin_password=password \\\n",
    "    --set persistence.enabled=false \\\n",
    "    --set cluster_manager.image.tag=0.3-SNAPSHOT \\\n",
    "    --set apife.image.tag=0.1-SNAPSHOT \\\n",
    "    --set engine.image.tag=0.2-SNAPSHOT"
   ]
  },
  {
   "cell_type": "code",
   "execution_count": 22,
   "metadata": {
    "collapsed": false
   },
   "outputs": [
    {
     "name": "stdout",
     "output_type": "stream",
     "text": [
      "LAST DEPLOYED: Fri Dec  1 18:46:21 2017\r\n",
      "NAMESPACE: default\r\n",
      "STATUS: DEPLOYED\r\n",
      "\r\n",
      "RESOURCES:\r\n",
      "==> v1/ConfigMap\r\n",
      "NAME                       DATA  AGE\r\n",
      "alertmanager-server-conf   1     17s\r\n",
      "grafana-import-dashboards  5     17s\r\n",
      "prometheus-rules           4     17s\r\n",
      "prometheus-server-conf     1     17s\r\n",
      "\r\n",
      "==> v1beta1/CustomResourceDefinition\r\n",
      "NAME                                         AGE\r\n",
      "seldondeployments.machinelearning.seldon.io  17s\r\n",
      "\r\n",
      "==> v1/Service\r\n",
      "NAME                      TYPE       CLUSTER-IP  EXTERNAL-IP  PORT(S)                     AGE\r\n",
      "alertmanager              ClusterIP  10.0.0.144  <none>       80/TCP                      17s\r\n",
      "seldon-apiserver          NodePort   10.0.0.14   <none>       8080:30032/TCP              17s\r\n",
      "grafana-prom              NodePort   10.0.0.195  <none>       80:30034/TCP                17s\r\n",
      "kafka                     NodePort   10.0.0.76   <none>       9092:30010/TCP              17s\r\n",
      "prometheus-node-exporter  ClusterIP  None        <none>       9100/TCP                    17s\r\n",
      "prometheus-seldon         ClusterIP  10.0.0.164  <none>       80/TCP                      17s\r\n",
      "redis                     ClusterIP  10.0.0.156  <none>       6379/TCP                    16s\r\n",
      "zookeeper-1               ClusterIP  10.0.0.213  <none>       2181/TCP,2888/TCP,3888/TCP  16s\r\n",
      "zookeeper-2               ClusterIP  10.0.0.104  <none>       2181/TCP,2888/TCP,3888/TCP  16s\r\n",
      "zookeeper-3               ClusterIP  10.0.0.161  <none>       2181/TCP,2888/TCP,3888/TCP  16s\r\n",
      "\r\n",
      "==> v1beta1/DaemonSet\r\n",
      "NAME                      DESIRED  CURRENT  READY  UP-TO-DATE  AVAILABLE  NODE SELECTOR  AGE\r\n",
      "prometheus-node-exporter  1        1        1      1           1          <none>         17s\r\n",
      "\r\n",
      "==> v1/Pod(related)\r\n",
      "NAME                                      READY  STATUS   RESTARTS  AGE\r\n",
      "grafana-prom-import-dashboards-kklkb      1/1    Running  0         17s\r\n",
      "alertmanager-deployment-8d76d45f-rmtbh    1/1    Running  0         17s\r\n",
      "seldon-apiserver-6bbf5cdbb-glmtc          1/1    Running  0         17s\r\n",
      "seldon-cluster-manager-689c55c6b8-xspb2   1/1    Running  0         17s\r\n",
      "grafana-prom-deployment-586bc9b9c5-8js94  1/1    Running  0         17s\r\n",
      "kafka-6b57cb69f8-ccd8d                    1/1    Running  0         16s\r\n",
      "prometheus-node-exporter-62p7f            1/1    Running  0         16s\r\n",
      "prometheus-deployment-6666b95955-qrh75    1/1    Running  0         16s\r\n",
      "redis-6668b544f4-bnh4x                    1/1    Running  0         16s\r\n",
      "\r\n",
      "==> v1/Secret\r\n",
      "NAME                           TYPE    DATA  AGE\r\n",
      "cluster-manager-client-secret  Opaque  1     17s\r\n",
      "grafana-prom-secret            Opaque  1     17s\r\n",
      "\r\n",
      "==> v1/Job\r\n",
      "NAME                            DESIRED  SUCCESSFUL  AGE\r\n",
      "grafana-prom-import-dashboards  1        0           17s\r\n",
      "\r\n",
      "==> v1beta1/Deployment\r\n",
      "NAME                     DESIRED  CURRENT  UP-TO-DATE  AVAILABLE  AGE\r\n",
      "alertmanager-deployment  1        1        1           1          17s\r\n",
      "seldon-apiserver         1        1        1           1          17s\r\n",
      "seldon-cluster-manager   1        1        1           1          18s\r\n",
      "grafana-prom-deployment  1        1        1           1          18s\r\n",
      "kafka                    1        1        1           1          18s\r\n",
      "prometheus-deployment    1        1        1           1          18s\r\n",
      "redis                    1        1        1           1          17s\r\n",
      "\r\n",
      "==> v1/Pod\r\n",
      "NAME         READY  STATUS   RESTARTS  AGE\r\n",
      "zookeeper-1  1/1    Running  0         17s\r\n",
      "zookeeper-2  1/1    Running  0         17s\r\n",
      "zookeeper-3  1/1    Running  0         16s\r\n",
      "\r\n",
      "\r\n",
      "NOTES:\r\n",
      "NOTES: TODO\r\n",
      "\r\n",
      "\r\n"
     ]
    }
   ],
   "source": [
    "!helm status seldon-core"
   ]
  },
  {
   "cell_type": "markdown",
   "metadata": {},
   "source": [
    "# Integrating with Kubernetes API"
   ]
  },
  {
   "cell_type": "code",
   "execution_count": 23,
   "metadata": {
    "collapsed": false
   },
   "outputs": [
    {
     "name": "stdout",
     "output_type": "stream",
     "text": [
      "{\r\n",
      "    \"apiVersion\": \"machinelearning.seldon.io/v1alpha1\",\r\n",
      "    \"kind\": \"SeldonDeployment\",\r\n",
      "    \"metadata\": {\r\n",
      "        \"labels\": {\r\n",
      "            \"app\": \"seldon\"\r\n",
      "        },\r\n",
      "        \"name\": \"seldon-deployment-example\"\r\n",
      "    },\r\n",
      "    \"spec\": {\r\n",
      "        \"annotations\": {\r\n",
      "            \"project_name\": \"FX Market Prediction\"\r\n",
      "        },\r\n",
      "        \"name\": \"test-deployment\",\r\n",
      "        \"oauth_key\": \"oauth-key\",\r\n",
      "        \"oauth_secret\": \"oauth-secret\",\r\n",
      "        \"predictors\": [\r\n",
      "            {\r\n",
      "                \"componentSpec\": {\r\n",
      "                    \"spec\": {\r\n",
      "                        \"containers\": [\r\n",
      "                            {\r\n",
      "                                \"image\": \"seldonio/mean_classifier:0.6\",\r\n",
      "                                \"imagePullPolicy\": \"IfNotPresent\",\r\n",
      "                                \"name\": \"mean-classifier\",\r\n",
      "                                \"resources\": {\r\n",
      "                                    \"requests\": {\r\n",
      "                                        \"memory\": \"1Mi\"\r\n",
      "                                    }\r\n",
      "                                }\r\n",
      "                            }\r\n",
      "                        ],\r\n",
      "                        \"terminationGracePeriodSeconds\": 20\r\n",
      "                    }\r\n",
      "                },\r\n",
      "                \"graph\": {\r\n",
      "                    \"children\": [],\r\n",
      "                    \"name\": \"mean-classifier\",\r\n",
      "                    \"endpoint\": {\r\n",
      "\t\t\t\"type\" : \"REST\"\r\n",
      "\t\t    },\r\n",
      "                    \"subtype\": \"MICROSERVICE\",\r\n",
      "                    \"type\": \"MODEL\"\r\n",
      "                },\r\n",
      "                \"name\": \"fx-market-predictor\",\r\n",
      "                \"replicas\": 1\r\n",
      "            }\r\n",
      "        ]\r\n",
      "    }\r\n",
      "}\r\n"
     ]
    }
   ],
   "source": [
    "!cat resources/model.json"
   ]
  },
  {
   "cell_type": "markdown",
   "metadata": {},
   "source": [
    "## Create Seldon Deployment"
   ]
  },
  {
   "cell_type": "code",
   "execution_count": 24,
   "metadata": {
    "collapsed": false
   },
   "outputs": [
    {
     "name": "stdout",
     "output_type": "stream",
     "text": [
      "seldondeployment \"seldon-deployment-example\" created\r\n"
     ]
    }
   ],
   "source": [
    "!kubectl apply -f resources/model.json"
   ]
  },
  {
   "cell_type": "code",
   "execution_count": 25,
   "metadata": {
    "collapsed": false
   },
   "outputs": [
    {
     "name": "stdout",
     "output_type": "stream",
     "text": [
      "NAME                        AGE\r\n",
      "seldon-deployment-example   1s\r\n"
     ]
    }
   ],
   "source": [
    "!kubectl get seldondeployments"
   ]
  },
  {
   "cell_type": "code",
   "execution_count": 26,
   "metadata": {
    "collapsed": false
   },
   "outputs": [
    {
     "name": "stdout",
     "output_type": "stream",
     "text": [
      "Name:         seldon-deployment-example\r\n",
      "Namespace:    default\r\n",
      "Labels:       app=seldon\r\n",
      "Annotations:  kubectl.kubernetes.io/last-applied-configuration={\"apiVersion\":\"machinelearning.seldon.io/v1alpha1\",\"kind\":\"SeldonDeployment\",\"metadata\":{\"annotations\":{},\"labels\":{\"app\":\"seldon\"},\"name\":\"seldon-depl...\r\n",
      "API Version:  machinelearning.seldon.io/v1alpha1\r\n",
      "Kind:         SeldonDeployment\r\n",
      "Metadata:\r\n",
      "  Cluster Name:                   \r\n",
      "  Creation Timestamp:             2017-12-01T18:47:08Z\r\n",
      "  Deletion Grace Period Seconds:  <nil>\r\n",
      "  Deletion Timestamp:             <nil>\r\n",
      "  Initializers:                   <nil>\r\n",
      "  Resource Version:               72521\r\n",
      "  Self Link:                      /apis/machinelearning.seldon.io/v1alpha1/namespaces/default/seldondeployments/seldon-deployment-example\r\n",
      "  UID:                            087ad66f-d6c8-11e7-af35-080027b241c6\r\n",
      "Spec:\r\n",
      "  Annotations:\r\n",
      "    Project _ Name:  FX Market Prediction\r\n",
      "  Name:              test-deployment\r\n",
      "  Oauth _ Key:       oauth-key\r\n",
      "  Oauth _ Secret:    oauth-secret\r\n",
      "  Predictors:\r\n",
      "    Component Spec:\r\n",
      "      Spec:\r\n",
      "        Containers:\r\n",
      "          Image:              seldonio/mean_classifier:0.6\r\n",
      "          Image Pull Policy:  IfNotPresent\r\n",
      "          Name:               mean-classifier\r\n",
      "          Resources:\r\n",
      "            Requests:\r\n",
      "              Memory:                      1Mi\r\n",
      "        Termination Grace Period Seconds:  20\r\n",
      "    Graph:\r\n",
      "      Children:\r\n",
      "      Endpoint:\r\n",
      "        Type:   REST\r\n",
      "      Name:     mean-classifier\r\n",
      "      Subtype:  MICROSERVICE\r\n",
      "      Type:     MODEL\r\n",
      "    Name:       fx-market-predictor\r\n",
      "    Replicas:   1\r\n",
      "Events:         <none>\r\n"
     ]
    }
   ],
   "source": [
    "!kubectl describe seldondeployments seldon-deployment-example "
   ]
  },
  {
   "cell_type": "code",
   "execution_count": 27,
   "metadata": {
    "collapsed": false
   },
   "outputs": [
    {
     "name": "stdout",
     "output_type": "stream",
     "text": [
      "map[predictorStatus:[map[name:test-deployment-fx-market-predictor replicas:1 replicasAvailable:1]]]"
     ]
    }
   ],
   "source": [
    "!kubectl get seldondeployments seldon-deployment-example -o jsonpath='{.status}'"
   ]
  },
  {
   "cell_type": "markdown",
   "metadata": {},
   "source": [
    "## Get predictions"
   ]
  },
  {
   "cell_type": "code",
   "execution_count": 28,
   "metadata": {
    "collapsed": false
   },
   "outputs": [
    {
     "name": "stdout",
     "output_type": "stream",
     "text": [
      "{\n",
      "  \"meta\": {\n",
      "    \"puid\": \"gkcs3nlbecv5fa9ojpajub8fcr\",\n",
      "    \"tags\": {\n",
      "    },\n",
      "    \"routing\": {\n",
      "    }\n",
      "  },\n",
      "  \"data\": {\n",
      "    \"names\": [\"proba\"],\n",
      "    \"tensor\": {\n",
      "      \"shape\": [1, 1],\n",
      "      \"values\": [0.05133579311531625]\n",
      "    }\n",
      "  }\n",
      "}"
     ]
    }
   ],
   "source": [
    "%%bash\n",
    "SERVER=192.168.99.100:30032\n",
    "TOKEN=`curl -s -H \"Accept: application/json\" oauth-key:oauth-secret@${SERVER}/oauth/token -d grant_type=client_credentials | jq -r '.access_token'`\n",
    "curl -s -H \"Content-Type:application/json\" -H \"Accept: application/json\" -H \"Authorization: Bearer $TOKEN\" \\\n",
    "    ${SERVER}/api/v0.1/predictions \\\n",
    "    -d '{\"data\":{\"names\":[\"a\",\"b\"],\"tensor\":{\"shape\":[1,2],\"values\":[0,0]}}}'"
   ]
  },
  {
   "cell_type": "markdown",
   "metadata": {},
   "source": [
    "## Update deployment with canary"
   ]
  },
  {
   "cell_type": "code",
   "execution_count": 29,
   "metadata": {
    "collapsed": false
   },
   "outputs": [
    {
     "name": "stdout",
     "output_type": "stream",
     "text": [
      "{\r\n",
      "    \"apiVersion\": \"machinelearning.seldon.io/v1alpha1\",\r\n",
      "    \"kind\": \"SeldonDeployment\",\r\n",
      "    \"metadata\": {\r\n",
      "        \"labels\": {\r\n",
      "            \"app\": \"seldon\"\r\n",
      "        },\r\n",
      "        \"name\": \"seldon-deployment-example\"\r\n",
      "    },\r\n",
      "    \"spec\": {\r\n",
      "        \"annotations\": {\r\n",
      "            \"project_name\": \"FX Market Prediction\"\r\n",
      "        },\r\n",
      "        \"name\": \"test-deployment\",\r\n",
      "        \"oauth_key\": \"oauth-key\",\r\n",
      "        \"oauth_secret\": \"oauth-secret\",\r\n",
      "        \"predictors\": [\r\n",
      "            {\r\n",
      "                \"componentSpec\": {\r\n",
      "                    \"spec\": {\r\n",
      "                        \"containers\": [\r\n",
      "                            {\r\n",
      "                                \"image\": \"seldonio/mean_classifier:0.6\",\r\n",
      "                                \"imagePullPolicy\": \"IfNotPresent\",\r\n",
      "                                \"name\": \"mean-classifier\",\r\n",
      "                                \"resources\": {\r\n",
      "                                    \"requests\": {\r\n",
      "                                        \"memory\": \"1Mi\"\r\n",
      "                                    }\r\n",
      "                                }\r\n",
      "                            }\r\n",
      "                        ]\r\n",
      "                    }\r\n",
      "                },\r\n",
      "                \"graph\": {\r\n",
      "                    \"children\": [],\r\n",
      "                    \"name\": \"mean-classifier\",\r\n",
      "                    \"endpoint\": {\r\n",
      "\t\t\t\"type\" : \"REST\"\r\n",
      "\t\t    },\r\n",
      "                    \"subtype\": \"MICROSERVICE\",\r\n",
      "                    \"type\": \"MODEL\"\r\n",
      "                },\r\n",
      "                \"name\": \"fx-market-predictor\",\r\n",
      "                \"replicas\": 1\r\n",
      "            },\r\n",
      "            {\r\n",
      "                \"componentSpec\": {\r\n",
      "                    \"spec\": {\r\n",
      "                        \"containers\": [\r\n",
      "                            {\r\n",
      "                                \"image\": \"seldonio/mean_classifier:0.6\",\r\n",
      "                                \"imagePullPolicy\": \"IfNotPresent\",\r\n",
      "                                \"name\": \"mean-classifier\",\r\n",
      "                                \"resources\": {\r\n",
      "                                    \"requests\": {\r\n",
      "                                        \"memory\": \"1Mi\"\r\n",
      "                                    }\r\n",
      "                                }\r\n",
      "                            }\r\n",
      "                        ]\r\n",
      "                    }\r\n",
      "                },\r\n",
      "                \"graph\": {\r\n",
      "                    \"children\": [],\r\n",
      "                    \"name\": \"mean-classifier\",\r\n",
      "                    \"endpoint\": {\r\n",
      "\t\t\t\"type\" : \"REST\"\r\n",
      "\t\t    },\r\n",
      "                    \"subtype\": \"MICROSERVICE\",\r\n",
      "                    \"type\": \"MODEL\"\r\n",
      "                },\r\n",
      "                \"name\": \"fx-market-predictor-canary\",\r\n",
      "                \"replicas\": 1\r\n",
      "            }\r\n",
      "        ]\r\n",
      "    }\r\n",
      "}\r\n"
     ]
    }
   ],
   "source": [
    "!cat resources/model_with_canary.json"
   ]
  },
  {
   "cell_type": "code",
   "execution_count": 30,
   "metadata": {
    "collapsed": false
   },
   "outputs": [
    {
     "name": "stdout",
     "output_type": "stream",
     "text": [
      "seldondeployment \"seldon-deployment-example\" configured\r\n"
     ]
    }
   ],
   "source": [
    "!kubectl apply -f resources/model_with_canary.json"
   ]
  },
  {
   "cell_type": "code",
   "execution_count": 31,
   "metadata": {
    "collapsed": false
   },
   "outputs": [
    {
     "name": "stdout",
     "output_type": "stream",
     "text": [
      "map[predictorStatus:[map[name:test-deployment-fx-market-predictor replicas:1 replicasAvailable:1] map[replicas:1 replicasAvailable:1 name:test-deployment-fx-market-predictor-canary]]]"
     ]
    }
   ],
   "source": [
    "!kubectl get seldondeployments seldon-deployment-example -o jsonpath='{.status}'"
   ]
  },
  {
   "cell_type": "code",
   "execution_count": 32,
   "metadata": {
    "collapsed": false
   },
   "outputs": [
    {
     "name": "stdout",
     "output_type": "stream",
     "text": [
      "{\n",
      "  \"meta\": {\n",
      "    \"puid\": \"80enhjvh07uso0pcuaa940t2e8\",\n",
      "    \"tags\": {\n",
      "    },\n",
      "    \"routing\": {\n",
      "    }\n",
      "  },\n",
      "  \"data\": {\n",
      "    \"names\": [\"proba\"],\n",
      "    \"tensor\": {\n",
      "      \"shape\": [1, 1],\n",
      "      \"values\": [0.05133579311531625]\n",
      "    }\n",
      "  }\n",
      "}"
     ]
    }
   ],
   "source": [
    "%%bash\n",
    "SERVER=192.168.99.100:30032\n",
    "TOKEN=`curl -s -H \"Accept: application/json\" oauth-key:oauth-secret@${SERVER}/oauth/token -d grant_type=client_credentials | jq -r '.access_token'`\n",
    "curl -s -H \"Content-Type:application/json\" -H \"Accept: application/json\" -H \"Authorization: Bearer $TOKEN\" \\\n",
    "    ${SERVER}/api/v0.1/predictions \\\n",
    "    -d '{\"data\":{\"names\":[\"a\",\"b\"],\"tensor\":{\"shape\":[1,2],\"values\":[0,0]}}}'"
   ]
  },
  {
   "cell_type": "markdown",
   "metadata": {},
   "source": [
    "## Load test"
   ]
  },
  {
   "cell_type": "code",
   "execution_count": 33,
   "metadata": {
    "collapsed": false
   },
   "outputs": [
    {
     "name": "stdout",
     "output_type": "stream",
     "text": [
      "NAME:   loadtest\n",
      "LAST DEPLOYED: Fri Dec  1 18:52:25 2017\n",
      "NAMESPACE: default\n",
      "STATUS: DEPLOYED\n",
      "\n",
      "RESOURCES:\n",
      "==> v1/Pod(related)\n",
      "NAME                   READY  STATUS   RESTARTS  AGE\n",
      "locust-slave-1-4rb42   0/1    Pending  0         0s\n",
      "locust-master-1-tzhl6  0/1    Pending  0         0s\n",
      "\n",
      "==> v1/ReplicationController\n",
      "NAME             DESIRED  CURRENT  READY  AGE\n",
      "locust-slave-1   1        1        0      0s\n",
      "locust-master-1  1        1        0      0s\n",
      "\n",
      "==> v1/Service\n",
      "NAME             TYPE      CLUSTER-IP  EXTERNAL-IP  PORT(S)                                       AGE\n",
      "locust-master-1  NodePort  10.0.0.2    <none>       5557:32519/TCP,5558:30586/TCP,8089:31118/TCP  0s\n",
      "\n",
      "\n"
     ]
    }
   ],
   "source": [
    "!helm install ../../helm-charts/seldon-core-loadtesting --name loadtest  \\\n",
    "    --set oauth.key=oauth-key \\\n",
    "    --set oauth.secret=oauth-secret "
   ]
  },
  {
   "cell_type": "markdown",
   "metadata": {},
   "source": [
    "# Tear down"
   ]
  },
  {
   "cell_type": "code",
   "execution_count": 35,
   "metadata": {
    "collapsed": false
   },
   "outputs": [
    {
     "name": "stdout",
     "output_type": "stream",
     "text": [
      "release \"loadtest\" deleted\r\n"
     ]
    }
   ],
   "source": [
    "!helm delete loadtest --purge"
   ]
  },
  {
   "cell_type": "code",
   "execution_count": 36,
   "metadata": {
    "collapsed": false
   },
   "outputs": [
    {
     "name": "stdout",
     "output_type": "stream",
     "text": [
      "seldondeployment \"seldon-deployment-example\" deleted\r\n"
     ]
    }
   ],
   "source": [
    "!kubectl delete -f resources/model_with_canary.json"
   ]
  },
  {
   "cell_type": "code",
   "execution_count": 37,
   "metadata": {
    "collapsed": false
   },
   "outputs": [
    {
     "name": "stdout",
     "output_type": "stream",
     "text": [
      "release \"seldon-core\" deleted\r\n"
     ]
    }
   ],
   "source": [
    "!helm delete seldon-core --purge"
   ]
  },
  {
   "cell_type": "code",
   "execution_count": null,
   "metadata": {
    "collapsed": true
   },
   "outputs": [],
   "source": []
  }
 ],
 "metadata": {
  "kernelspec": {
   "display_name": "Python 2",
   "language": "python",
   "name": "python2"
  },
  "language_info": {
   "codemirror_mode": {
    "name": "ipython",
    "version": 2
   },
   "file_extension": ".py",
   "mimetype": "text/x-python",
   "name": "python",
   "nbconvert_exporter": "python",
   "pygments_lexer": "ipython2",
   "version": "2.7.11"
  }
 },
 "nbformat": 4,
 "nbformat_minor": 1
}
