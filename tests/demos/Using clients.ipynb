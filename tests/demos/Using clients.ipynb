{
 "cells": [
  {
   "cell_type": "code",
   "execution_count": null,
   "metadata": {
    "collapsed": true
   },
   "outputs": [],
   "source": [
    "import demo"
   ]
  },
  {
   "cell_type": "code",
   "execution_count": null,
   "metadata": {
    "collapsed": true
   },
   "outputs": [],
   "source": [
    "class NoAuthClient(demo.APIFrontEndClient):\n",
    "    def __init__(self,endpoint):\n",
    "        self.endpoint = endpoint\n",
    "        self.token=''"
   ]
  },
  {
   "cell_type": "code",
   "execution_count": null,
   "metadata": {
    "collapsed": true
   },
   "outputs": [],
   "source": [
    "client = NoAuthClient(\"localhost:8081\")\n",
    "print client.ping()"
   ]
  },
  {
   "cell_type": "code",
   "execution_count": null,
   "metadata": {
    "collapsed": false
   },
   "outputs": [],
   "source": [
    "request = {\n",
    "    \"data\":{\n",
    "        \"names\":[\"a\",\"b\"],\n",
    "        \"tensor\":{\n",
    "            \"shape\":[1,2],\n",
    "            \"values\":[0,0]\n",
    "        }\n",
    "    }\n",
    "}\n",
    "\n",
    "response = client.predictions(request)\n",
    "print response"
   ]
  },
  {
   "cell_type": "code",
   "execution_count": null,
   "metadata": {
    "collapsed": false
   },
   "outputs": [],
   "source": [
    "feedback = {\n",
    "    \"request\":request,\n",
    "    \"response\":response,\n",
    "    \"reward\":1\n",
    "}\n",
    "\n",
    "client.feedback(feedback)"
   ]
  }
 ],
 "metadata": {
  "anaconda-cloud": {},
  "kernelspec": {
   "display_name": "Python [default]",
   "language": "python",
   "name": "python2"
  },
  "language_info": {
   "codemirror_mode": {
    "name": "ipython",
    "version": 2
   },
   "file_extension": ".py",
   "mimetype": "text/x-python",
   "name": "python",
   "nbconvert_exporter": "python",
   "pygments_lexer": "ipython2",
   "version": "2.7.12"
  }
 },
 "nbformat": 4,
 "nbformat_minor": 0
}
