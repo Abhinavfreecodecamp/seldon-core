{
 "cells": [
  {
   "cell_type": "code",
   "execution_count": 1,
   "metadata": {
    "collapsed": true
   },
   "outputs": [],
   "source": [
    "import demo"
   ]
  },
  {
   "cell_type": "code",
   "execution_count": 2,
   "metadata": {
    "collapsed": true
   },
   "outputs": [],
   "source": [
    "class NoAuthClient(demo.APIFrontEndClient):\n",
    "    def __init__(self,endpoint):\n",
    "        self.endpoint = endpoint\n",
    "        self.token=''"
   ]
  },
  {
   "cell_type": "code",
   "execution_count": 3,
   "metadata": {
    "collapsed": false
   },
   "outputs": [
    {
     "name": "stdout",
     "output_type": "stream",
     "text": [
      "pong\n"
     ]
    }
   ],
   "source": [
    "client = NoAuthClient(\"localhost:8081\")\n",
    "print client.ping()"
   ]
  },
  {
   "cell_type": "code",
   "execution_count": 4,
   "metadata": {
    "collapsed": false
   },
   "outputs": [
    {
     "name": "stdout",
     "output_type": "stream",
     "text": [
      "{u'meta': {u'puid': u'dfo1o2su6he2bj3jah644h441f', u'routing': {}, u'tags': {}}, u'data': {u'names': [u'proba'], u'tensor': {u'shape': [1, 1], u'values': [0.05133579311531625]}}}\n"
     ]
    }
   ],
   "source": [
    "request = {\n",
    "    \"data\":{\n",
    "        \"names\":[\"a\",\"b\"],\n",
    "        \"tensor\":{\n",
    "            \"shape\":[1,2],\n",
    "            \"values\":[0,0]\n",
    "        }\n",
    "    }\n",
    "}\n",
    "\n",
    "'{\"request\":{\"features\":[\"a\"],\"ndarray\":[[1.0],[2.0]]}}'\n",
    "\n",
    "response = client.predictions(request)\n",
    "print response"
   ]
  },
  {
   "cell_type": "code",
   "execution_count": 7,
   "metadata": {
    "collapsed": false
   },
   "outputs": [
    {
     "data": {
      "text/plain": [
       "{}"
      ]
     },
     "execution_count": 7,
     "metadata": {},
     "output_type": "execute_result"
    }
   ],
   "source": [
    "feedback = {\n",
    "    \"request\":request,\n",
    "    \"response\":response,\n",
    "    \"reward\":1\n",
    "}\n",
    "\n",
    "client.feedback(feedback)"
   ]
  },
  {
   "cell_type": "code",
   "execution_count": null,
   "metadata": {
    "collapsed": true
   },
   "outputs": [],
   "source": []
  }
 ],
 "metadata": {
  "anaconda-cloud": {},
  "kernelspec": {
   "display_name": "Python 2",
   "language": "python",
   "name": "python2"
  },
  "language_info": {
   "codemirror_mode": {
    "name": "ipython",
    "version": 2
   },
   "file_extension": ".py",
   "mimetype": "text/x-python",
   "name": "python",
   "nbconvert_exporter": "python",
   "pygments_lexer": "ipython2",
   "version": "2.7.11"
  }
 },
 "nbformat": 4,
 "nbformat_minor": 0
}
