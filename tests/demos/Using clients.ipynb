{
 "cells": [
  {
   "cell_type": "code",
   "execution_count": null,
   "metadata": {
    "collapsed": true
   },
   "outputs": [],
   "source": [
    "import demo"
   ]
  },
  {
   "cell_type": "code",
   "execution_count": null,
   "metadata": {
    "collapsed": true
   },
   "outputs": [],
   "source": [
    "class NoAuthClient(demo.APIFrontEndClient):\n",
    "    def __init__(self,endpoint):\n",
    "        self.endpoint = endpoint\n",
    "        self.token=''"
   ]
  },
  {
   "cell_type": "code",
   "execution_count": null,
   "metadata": {
    "collapsed": false
   },
   "outputs": [],
   "source": [
    "client = NoAuthClient(\"localhost:8081\")\n",
    "print client.ping()"
   ]
  },
  {
   "cell_type": "code",
   "execution_count": null,
   "metadata": {
    "collapsed": false
   },
   "outputs": [],
   "source": [
    "request = {\n",
    "    \"data\":{\n",
    "        \"names\":[\"a\",\"b\"],\n",
    "        \"tensor\":{\n",
    "            \"shape\":[1,2],\n",
    "            \"values\":[0,0]\n",
    "        }\n",
    "    }\n",
    "}\n",
    "\n",
    "'{\"request\":{\"features\":[\"a\"],\"ndarray\":[[1.0],[2.0]]}}'\n",
    "\n",
    "response = client.predictions(request)\n",
    "print response"
   ]
  },
  {
   "cell_type": "code",
   "execution_count": null,
   "metadata": {
    "collapsed": false
   },
   "outputs": [],
   "source": [
    "feedback = {\n",
    "    \"request\":request,\n",
    "    \"response\":response,\n",
    "    \"reward\":1\n",
    "}\n",
    "\n",
    "client.feedback(feedback)"
   ]
  },
  {
   "cell_type": "code",
   "execution_count": null,
   "metadata": {
    "collapsed": true
   },
   "outputs": [],
   "source": [
    "from grpc_python import prediction_pb2\n",
    "from grpc_python import prediction_pb2_grpc\n",
    "import grpc\n",
    "\n",
    "def grpc_request():\n",
    "    datadef = prediction_pb2.DefaultData(\n",
    "            names = [\"a\",\"b\"],\n",
    "            tensor = prediction_pb2.Tensor(\n",
    "                shape = [3,2],\n",
    "                values = [1.0,1.0,2.0,3.0,4.0,5.0]\n",
    "                )\n",
    "            )\n",
    "    request = prediction_pb2.SeldonMessage(data = datadef)\n",
    "    channel = grpc.insecure_channel(\"localhost:5000\")\n",
    "    stub = prediction_pb2_grpc.SeldonStub(channel)\n",
    "    response = stub.Predict(request=request)\n",
    "    print response"
   ]
  },
  {
   "cell_type": "code",
   "execution_count": null,
   "metadata": {
    "collapsed": false
   },
   "outputs": [],
   "source": [
    "grpc_request()"
   ]
  },
  {
   "cell_type": "code",
   "execution_count": null,
   "metadata": {
    "collapsed": true
   },
   "outputs": [],
   "source": []
  }
 ],
 "metadata": {
  "anaconda-cloud": {},
  "kernelspec": {
   "display_name": "Python 2",
   "language": "python",
   "name": "python2"
  },
  "language_info": {
   "codemirror_mode": {
    "name": "ipython",
    "version": 2
   },
   "file_extension": ".py",
   "mimetype": "text/x-python",
   "name": "python",
   "nbconvert_exporter": "python",
   "pygments_lexer": "ipython2",
   "version": "2.7.6"
  }
 },
 "nbformat": 4,
 "nbformat_minor": 0
}
