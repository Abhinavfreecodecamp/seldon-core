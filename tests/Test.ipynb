{
 "cells": [
  {
   "cell_type": "code",
   "execution_count": 1,
   "metadata": {
    "collapsed": true
   },
   "outputs": [],
   "source": [
    "import matplotlib.pyplot as plt\n",
    "import seaborn as sns\n",
    "%matplotlib inline"
   ]
  },
  {
   "cell_type": "code",
   "execution_count": 2,
   "metadata": {
    "collapsed": true
   },
   "outputs": [],
   "source": [
    "import requests\n",
    "import json\n",
    "from requests.auth import HTTPBasicAuth\n",
    "import numpy as np"
   ]
  },
  {
   "cell_type": "code",
   "execution_count": 3,
   "metadata": {
    "collapsed": true
   },
   "outputs": [],
   "source": [
    "def feedback_to_tensor(feedback):\n",
    "    ndarray = np.array(feedback[\"response\"][\"response\"][\"ndarray\"])\n",
    "    feedback[\"response\"][\"response\"][\"tensor\"] = {\"shape\":ndarray.shape,\"values\":list(ndarray.ravel())}\n",
    "    del feedback[\"response\"][\"response\"][\"ndarray\"]\n",
    "\n",
    "class ClientException(Exception):\n",
    "    pass\n",
    "    \n",
    "class OAuthClient(object):\n",
    "    def __init__(self,endpoint,client_key,client_secret):\n",
    "        self.endpoint = endpoint\n",
    "        self.token = requests.post(\n",
    "            \"http://{}:{}@{}/oauth/token\".format(client_key,client_secret,endpoint),\n",
    "            headers={\"type\":\"application/json\"},\n",
    "            data={\"grant_type\": \"client_credentials\"}).json()['access_token']\n",
    "    \n",
    "    def _request(self,method,url,data=None):\n",
    "        if data is None:\n",
    "            data = {}\n",
    "        request = {\n",
    "            'GET':requests.get,\n",
    "            'POST':requests.post,\n",
    "            'DELETE':requests.delete,\n",
    "            'PUT':requests.put\n",
    "        }\n",
    "        response = request[method](\n",
    "            \"http://\"+self.endpoint+url, \n",
    "            headers={\n",
    "                \"Content-Type\":\"application/json\",\n",
    "                \"Authorization\":\"Bearer {}\".format(self.token)},\n",
    "            data=json.dumps(data))\n",
    "        if response.status_code/100!=2:\n",
    "            raise ClientException(response.text)\n",
    "        try:\n",
    "            return response.json()\n",
    "        except ValueError:\n",
    "            return response.text\n",
    "    \n",
    "    def _get(self,url,data=None):\n",
    "        return self._request(\"GET\",url,data)\n",
    "    \n",
    "    def _post(self,url,data=None):\n",
    "        return self._request(\"POST\",url,data)\n",
    "    \n",
    "    def _delete(self,url,data=None):\n",
    "        return self._request(\"DELETE\",url,data)\n",
    "    \n",
    "    def _put(self,url,data=None):\n",
    "        return self._request(\"PUT\",url,data)\n",
    "\n",
    "class ClusterManagerClient(OAuthClient):\n",
    "    def ping(self):\n",
    "        return self._get(\"/ping\")\n",
    "    \n",
    "    def authping(self):\n",
    "        return self._get(\"/api/v1/authping\")\n",
    "    \n",
    "    def create_deployment(self,deployment):\n",
    "        response = self._post(\"/api/v1/deployments\",data=deployment)\n",
    "        return response\n",
    "    \n",
    "    def delete_deployment(self,deployment_id):\n",
    "        response= self._delete(\"/api/v1/deployments/{}\".format(deployment_id))\n",
    "        return response\n",
    "\n",
    "class APIFrontEndClient(OAuthClient):\n",
    "    def ping(self):\n",
    "        return self._get(\"/ping\")\n",
    "    \n",
    "    def predictions(self,request):\n",
    "        response = self._post(\"/api/v0.1/predictions\",data=request)\n",
    "        return response\n",
    "    \n",
    "    def feedback(self,feedback):\n",
    "        response = self._post(\"/api/v0.1/feedback\",data=feedback)\n",
    "        return response"
   ]
  },
  {
   "cell_type": "code",
   "execution_count": 4,
   "metadata": {
    "collapsed": true
   },
   "outputs": [],
   "source": [
    "probabilities = {\n",
    "        0:0.75,\n",
    "        1:0.89,\n",
    "        2:0.53\n",
    "    }\n",
    "def compute_reward(response,probabilities):\n",
    "    routing = response['meta']['routing']['0']\n",
    "    \n",
    "    return int(np.random.rand()<probabilities[routing])\n",
    "\n",
    "def test(client,probabilities,n_queries = 1000):\n",
    "    errors = []\n",
    "    rewards = []\n",
    "    routings = []\n",
    "    for i in range(n_queries):\n",
    "        if i%100==0:\n",
    "            print i\n",
    "        try:\n",
    "            response = client.predictions(request)\n",
    "            reward = compute_reward(response,probabilities)\n",
    "            feedback = {\n",
    "                \"request\":request,\n",
    "                \"response\":response,\n",
    "                \"reward\":reward\n",
    "            }\n",
    "            feedback_to_tensor(feedback)\n",
    "        \n",
    "            client.feedback(feedback)\n",
    "            \n",
    "            rewards.append(reward)\n",
    "            routings.append(response['meta']['routing']['0'])\n",
    "            errors.append(False)\n",
    "        except ClientException:\n",
    "            rewards.append(np.nan)\n",
    "            routings.append(np.nan)\n",
    "            errors.append(True)\n",
    "    print \"There was {} errors\".format(np.sum(errors))\n",
    "    return np.array(rewards),np.array(routings),np.array(errors)"
   ]
  },
  {
   "cell_type": "code",
   "execution_count": 5,
   "metadata": {
    "collapsed": true
   },
   "outputs": [],
   "source": [
    "def compute_regret(routings,probabilities):\n",
    "    max_proba = max(probabilities.values())\n",
    "    regret_dict = {k:max_proba-proba for k,proba in  probabilities.items()}\n",
    "    regret = np.apply_along_axis(lambda x:regret_dict[x[0]],1,routings[:,None])\n",
    "    return regret"
   ]
  },
  {
   "cell_type": "code",
   "execution_count": 6,
   "metadata": {
    "collapsed": true
   },
   "outputs": [],
   "source": [
    "def plot_results(routings,rewards,N):\n",
    "    colors = ['g' if rew else 'r' for rew in rewards]\n",
    "\n",
    "    plt.figure(figsize=(8,15))\n",
    "    plt.scatter(routings[:N],N-np.arange(N),linewidth=0,marker='.',c=colors[:N])"
   ]
  },
  {
   "cell_type": "code",
   "execution_count": 7,
   "metadata": {
    "collapsed": false
   },
   "outputs": [],
   "source": [
    "with open(\"./CLUSTER_MANAGER_ENDPOINT\",'r') as f:\n",
    "    cm_endpoint = f.read()[:-1]\n",
    "\n",
    "with open(\"../cluster-manager/cluster-manager-client-secret.txt\",'r') as f:\n",
    "    cm_client_secret = f.readline()[:-1]\n",
    "\n",
    "with open(\"./API_ENDPOINT\",'r') as f:\n",
    "    api_endpoint  = f.read()[:-1]\n",
    "\n",
    "with open(\"./config/deployment_ts.json\",'r') as f:\n",
    "    deployment_ts = json.loads(f.read())\n",
    "        \n",
    "with open(\"./config/deployment_eg.json\",'r') as f:\n",
    "    deployment_eg = json.loads(f.read())\n",
    "    \n",
    "with open(\"./config/deployment_contextual_ts.json\",'r') as f:\n",
    "    deployment_cts = json.loads(f.read())\n",
    "\n",
    "api_ts_client_key = deployment_ts[\"oauth_key\"]\n",
    "api_ts_client_secret = deployment_ts[\"oauth_secret\"]\n",
    "\n",
    "api_eg_client_key = deployment_eg[\"oauth_key\"]\n",
    "api_eg_client_secret = deployment_eg[\"oauth_secret\"]\n",
    "\n",
    "api_cts_client_key = deployment_cts[\"oauth_key\"]\n",
    "api_cts_client_secret = deployment_cts[\"oauth_secret\"]\n"
   ]
  },
  {
   "cell_type": "code",
   "execution_count": 8,
   "metadata": {
    "collapsed": false
   },
   "outputs": [],
   "source": [
    "cmc = ClusterManagerClient(cm_endpoint,\"client\",cm_client_secret)"
   ]
  },
  {
   "cell_type": "code",
   "execution_count": 9,
   "metadata": {
    "collapsed": false,
    "scrolled": true
   },
   "outputs": [
    {
     "data": {
      "text/plain": [
       "u'authpong'"
      ]
     },
     "execution_count": 9,
     "metadata": {},
     "output_type": "execute_result"
    }
   ],
   "source": [
    "cmc.authping()"
   ]
  },
  {
   "cell_type": "code",
   "execution_count": 304,
   "metadata": {
    "collapsed": true
   },
   "outputs": [],
   "source": [
    "created_deployment_ts = cmc.create_deployment(deployment_ts)"
   ]
  },
  {
   "cell_type": "code",
   "execution_count": 305,
   "metadata": {
    "collapsed": true
   },
   "outputs": [],
   "source": [
    "created_deployment_eg = cmc.create_deployment(deployment_eg)"
   ]
  },
  {
   "cell_type": "code",
   "execution_count": 306,
   "metadata": {
    "collapsed": true
   },
   "outputs": [],
   "source": [
    "created_deployment_cts = cmc.create_deployment(deployment_cts)"
   ]
  },
  {
   "cell_type": "code",
   "execution_count": 295,
   "metadata": {
    "collapsed": false
   },
   "outputs": [
    {
     "data": {
      "text/plain": [
       "{u'cmstatus': {u'code': 200,\n",
       "  u'info': u'',\n",
       "  u'reason': u'',\n",
       "  u'status': u'SUCCESS'}}"
      ]
     },
     "execution_count": 295,
     "metadata": {},
     "output_type": "execute_result"
    }
   ],
   "source": [
    "cmc.delete_deployment(1)\n",
    "cmc.delete_deployment(2)"
   ]
  },
  {
   "cell_type": "code",
   "execution_count": 296,
   "metadata": {
    "collapsed": false
   },
   "outputs": [
    {
     "data": {
      "text/plain": [
       "{u'cmstatus': {u'code': 200,\n",
       "  u'info': u'',\n",
       "  u'reason': u'',\n",
       "  u'status': u'SUCCESS'}}"
      ]
     },
     "execution_count": 296,
     "metadata": {},
     "output_type": "execute_result"
    }
   ],
   "source": [
    "cmc.delete_deployment(3)"
   ]
  },
  {
   "cell_type": "code",
   "execution_count": 10,
   "metadata": {
    "collapsed": false
   },
   "outputs": [],
   "source": [
    "client_ts = APIFrontEndClient(api_endpoint,api_ts_client_key,api_ts_client_secret)"
   ]
  },
  {
   "cell_type": "code",
   "execution_count": 11,
   "metadata": {
    "collapsed": false
   },
   "outputs": [
    {
     "data": {
      "text/plain": [
       "u'pong'"
      ]
     },
     "execution_count": 11,
     "metadata": {},
     "output_type": "execute_result"
    }
   ],
   "source": [
    "client_ts.ping()"
   ]
  },
  {
   "cell_type": "code",
   "execution_count": 12,
   "metadata": {
    "collapsed": true
   },
   "outputs": [],
   "source": [
    "client_eg = APIFrontEndClient(api_endpoint,api_eg_client_key,api_eg_client_secret)"
   ]
  },
  {
   "cell_type": "code",
   "execution_count": 13,
   "metadata": {
    "collapsed": true
   },
   "outputs": [],
   "source": [
    "client_cts = APIFrontEndClient(api_endpoint,api_cts_client_key,api_cts_client_secret)"
   ]
  },
  {
   "cell_type": "code",
   "execution_count": 14,
   "metadata": {
    "collapsed": false
   },
   "outputs": [
    {
     "name": "stdout",
     "output_type": "stream",
     "text": [
      "pong\n",
      "pong\n",
      "pong\n",
      "pong\n"
     ]
    }
   ],
   "source": [
    "print cmc.ping()\n",
    "print client_ts.ping()\n",
    "print client_cts.ping()\n",
    "print client_eg.ping()"
   ]
  },
  {
   "cell_type": "code",
   "execution_count": null,
   "metadata": {
    "collapsed": false
   },
   "outputs": [],
   "source": []
  },
  {
   "cell_type": "code",
   "execution_count": 15,
   "metadata": {
    "collapsed": true
   },
   "outputs": [],
   "source": [
    "request = {\n",
    "    'request':{\n",
    "        'features':['a','b'],\n",
    "        'ndarray':[[6,3]]\n",
    "    },\n",
    "    'meta':{\n",
    "        'puid':'0',\n",
    "        'tags':{}\n",
    "    }\n",
    "}"
   ]
  },
  {
   "cell_type": "code",
   "execution_count": 16,
   "metadata": {
    "collapsed": false
   },
   "outputs": [
    {
     "data": {
      "text/plain": [
       "{u'meta': {u'puid': u'0', u'routing': {u'0': 1}},\n",
       " u'response': {u'features': [u'proba'], u'ndarray': [[0.8296760813561542]]}}"
      ]
     },
     "execution_count": 16,
     "metadata": {},
     "output_type": "execute_result"
    }
   ],
   "source": [
    "client_ts.predictions(request)"
   ]
  },
  {
   "cell_type": "code",
   "execution_count": 17,
   "metadata": {
    "collapsed": false,
    "scrolled": false
   },
   "outputs": [
    {
     "data": {
      "text/plain": [
       "{u'meta': {u'puid': u'0', u'routing': {u'0': 0}},\n",
       " u'response': {u'features': [u'proba'], u'ndarray': [[0.8296760813561542]]}}"
      ]
     },
     "execution_count": 17,
     "metadata": {},
     "output_type": "execute_result"
    }
   ],
   "source": [
    "client_eg.predictions(request)"
   ]
  },
  {
   "cell_type": "code",
   "execution_count": 18,
   "metadata": {
    "collapsed": false
   },
   "outputs": [
    {
     "name": "stdout",
     "output_type": "stream",
     "text": [
      "{u'meta': {u'puid': u'0', u'routing': {u'0': 1}}, u'response': {u'features': [u'proba'], u'ndarray': [[0.8296760813561542]]}}\n"
     ]
    }
   ],
   "source": [
    "response = client_cts.predictions(request)\n",
    "print response"
   ]
  },
  {
   "cell_type": "code",
   "execution_count": null,
   "metadata": {
    "collapsed": false
   },
   "outputs": [],
   "source": []
  },
  {
   "cell_type": "code",
   "execution_count": 256,
   "metadata": {
    "collapsed": true
   },
   "outputs": [],
   "source": [
    "feedback = {\n",
    "    \"request\":request,\n",
    "    \"response\":response,\n",
    "    \"reward\":1\n",
    "}\n",
    "feedback_to_tensor(feedback)"
   ]
  },
  {
   "cell_type": "code",
   "execution_count": 280,
   "metadata": {
    "collapsed": false
   },
   "outputs": [
    {
     "data": {
      "text/plain": [
       "u''"
      ]
     },
     "execution_count": 280,
     "metadata": {},
     "output_type": "execute_result"
    }
   ],
   "source": [
    "client_cts.feedback(feedback)"
   ]
  },
  {
   "cell_type": "code",
   "execution_count": 19,
   "metadata": {
    "collapsed": true
   },
   "outputs": [],
   "source": [
    "import redis\n",
    "import cPickle as pickle"
   ]
  },
  {
   "cell_type": "code",
   "execution_count": 20,
   "metadata": {
    "collapsed": true
   },
   "outputs": [],
   "source": [
    "client = redis.StrictRedis(host=\"localhost\")"
   ]
  },
  {
   "cell_type": "code",
   "execution_count": 21,
   "metadata": {
    "collapsed": false
   },
   "outputs": [
    {
     "data": {
      "text/plain": [
       "['client_id_to_access:client',\n",
       " 'ts_test2_0',\n",
       " 'auth_to_access:b28100e27b4eb22eac98fc9908934891',\n",
       " 'access:f6a5f294-fbc3-4841-b8d9-e59b74155a87',\n",
       " 'auth:f6a5f294-fbc3-4841-b8d9-e59b74155a87',\n",
       " 'ts_test3_0',\n",
       " 'auth:d2c03160-0284-4461-814b-afb676254641',\n",
       " '0_0',\n",
       " 'client_id_to_access:key2',\n",
       " 'auth:fb7f9398-db36-4e63-93be-80fbf497f03e',\n",
       " 'access:d2c03160-0284-4461-814b-afb676254641',\n",
       " 'client_id_to_access:key1',\n",
       " 'auth_to_access:fac38d18e76754989f6248004dc851ce',\n",
       " 'access:b7364c3a-148c-460f-bffe-5d79c3b82a33',\n",
       " 'auth:b7364c3a-148c-460f-bffe-5d79c3b82a33',\n",
       " 'auth_to_access:ee16db94e195840785e8cd7b3456eff4',\n",
       " 'ts_test1_0',\n",
       " 'client_id_to_access:key3',\n",
       " 'access:fb7f9398-db36-4e63-93be-80fbf497f03e',\n",
       " 'auth_to_access:70f17159d1eb538b6a9717a10ded2fcb']"
      ]
     },
     "execution_count": 21,
     "metadata": {},
     "output_type": "execute_result"
    }
   ],
   "source": [
    "client.keys()"
   ]
  },
  {
   "cell_type": "code",
   "execution_count": 33,
   "metadata": {
    "collapsed": false,
    "scrolled": false
   },
   "outputs": [
    {
     "data": {
      "text/plain": [
       "{'B': [array([[  1343.,   8052.,   4026.],\n",
       "         [  8052.,  48313.,  24156.],\n",
       "         [  4026.,  24156.,  12079.]]), array([[   4742.,   28446.,   14223.],\n",
       "         [  28446.,  170677.,   85338.],\n",
       "         [  14223.,   85338.,   42670.]]), array([[   451.,   2700.,   1350.],\n",
       "         [  2700.,  16201.,   8100.],\n",
       "         [  1350.,   8100.,   4051.]])],\n",
       " 'B1': [array([[ 0.97826122, -0.13043267, -0.06521633],\n",
       "         [-0.13043267,  0.21740398, -0.39129801],\n",
       "         [-0.06521633, -0.39129801,  0.804351  ]]),\n",
       "  array([[ 0.97826097, -0.13043418, -0.06521709],\n",
       "         [-0.13043418,  0.21739489, -0.39130255],\n",
       "         [-0.06521709, -0.39130255,  0.80434872]]),\n",
       "  array([[ 0.97826192, -0.13042848, -0.06521424],\n",
       "         [-0.13042848,  0.21742911, -0.39128545],\n",
       "         [-0.06521424, -0.39128545,  0.80435728]])],\n",
       " 'R': 1,\n",
       " 'br': [array([ 1022.,  6132.,  3066.]),\n",
       "  array([  4227.,  25362.,  12681.]),\n",
       "  array([  234.,  1404.,   702.])],\n",
       " 'delta': 0.05,\n",
       " 'p': 3,\n",
       " 'setup': True,\n",
       " 't': [1342, 4741, 450],\n",
       " 'u': [array([ 0.01655516,  0.09933099,  0.04966549]),\n",
       "  array([ 0.01938217,  0.11629304,  0.05814652]),\n",
       "  array([ 0.0113038 ,  0.06782281,  0.03391141])]}"
      ]
     },
     "execution_count": 33,
     "metadata": {},
     "output_type": "execute_result"
    }
   ],
   "source": [
    "pickle.loads(client.get(\"ts_test3_0\"))"
   ]
  },
  {
   "cell_type": "code",
   "execution_count": 23,
   "metadata": {
    "collapsed": false
   },
   "outputs": [
    {
     "data": {
      "text/plain": [
       "{'best_branch': 0,\n",
       " 'branches_success': [0, 0, 0],\n",
       " 'branches_tries': [0, 0, 0],\n",
       " 'epsilon': 0.05}"
      ]
     },
     "execution_count": 23,
     "metadata": {},
     "output_type": "execute_result"
    }
   ],
   "source": [
    "pickle.loads(client.get(\"ts_test2_0\"))"
   ]
  },
  {
   "cell_type": "code",
   "execution_count": 24,
   "metadata": {
    "collapsed": false
   },
   "outputs": [
    {
     "data": {
      "text/plain": [
       "{'models_beta_params': [[1, 1], [3, 1], [1, 1]]}"
      ]
     },
     "execution_count": 24,
     "metadata": {},
     "output_type": "execute_result"
    }
   ],
   "source": [
    "pickle.loads(client.get(\"ts_test1_0\"))"
   ]
  },
  {
   "cell_type": "code",
   "execution_count": 301,
   "metadata": {
    "collapsed": false
   },
   "outputs": [
    {
     "data": {
      "text/plain": [
       "1"
      ]
     },
     "execution_count": 301,
     "metadata": {},
     "output_type": "execute_result"
    }
   ],
   "source": [
    "client.delete(\"ts_test3_0\")"
   ]
  },
  {
   "cell_type": "code",
   "execution_count": 302,
   "metadata": {
    "collapsed": false
   },
   "outputs": [
    {
     "data": {
      "text/plain": [
       "1"
      ]
     },
     "execution_count": 302,
     "metadata": {},
     "output_type": "execute_result"
    }
   ],
   "source": [
    "client.delete(\"ts_test2_0\")"
   ]
  },
  {
   "cell_type": "code",
   "execution_count": 303,
   "metadata": {
    "collapsed": false
   },
   "outputs": [
    {
     "data": {
      "text/plain": [
       "1"
      ]
     },
     "execution_count": 303,
     "metadata": {},
     "output_type": "execute_result"
    }
   ],
   "source": [
    "client.delete(\"ts_test1_0\")"
   ]
  },
  {
   "cell_type": "code",
   "execution_count": 25,
   "metadata": {
    "collapsed": true
   },
   "outputs": [],
   "source": [
    "import threading\n",
    "\n",
    "from ipywidgets import widgets\n",
    "\n",
    "from IPython import display\n",
    "import time"
   ]
  },
  {
   "cell_type": "code",
   "execution_count": 26,
   "metadata": {
    "collapsed": false
   },
   "outputs": [],
   "source": [
    "def get_routing_and_reward(client,probabilities):\n",
    "    prediction = client.predictions(request)\n",
    "    routing = prediction['meta']['routing']['0']\n",
    "    reward = int(np.random.rand()<probabilities[routing])\n",
    "    return routing,reward,prediction\n",
    "\n",
    "def send_feedback(client,prediction,reward):\n",
    "    feedback = {\n",
    "        \"request\":request,\n",
    "        \"response\":prediction,\n",
    "        \"reward\":reward\n",
    "    }\n",
    "    feedback_to_tensor(feedback)\n",
    "    client.feedback(feedback)\n",
    "    \n",
    "def plot_all(routings1,routings2,rewards1,rewards2,regrets1,regrets2,N):\n",
    "    colors1 = ['g' if rew else 'r' for rew in rewards1]\n",
    "    colors2 = ['g' if rew else 'r' for rew in rewards2]\n",
    "\n",
    "    fig,(ax1,ax2,ax3) = plt.subplots(3,1,figsize=(10,8),sharex=True)\n",
    "\n",
    "    x_range = np.arange(max(len(routings1)-N,0),len(routings1))\n",
    "    \n",
    "    ax1.plot(x_range,np.cumsum(regrets1)[-N:],label='Thomson Sampling')\n",
    "    ax1.plot(x_range,np.cumsum(regrets2)[-N:],label='Epsilon Greedy')\n",
    "    ax2.scatter(x_range,routings1[-N:],linewidth=0,c=colors1[-N:])\n",
    "    ax3.scatter(x_range,routings2[-N:],linewidth=0,c=colors2[-N:])\n",
    "    ax1.legend()\n",
    "    ax1.set_xlim(x_range[0],x_range[-1])\n",
    "    ax2.set_ylim(-1,3)\n",
    "    ax3.set_ylim(-1,3)\n",
    "    \n",
    "    yTickMarks = [\"A\",\"B\",\"C\"]\n",
    "    ax2.set_yticks(xrange(len(yTickMarks)))\n",
    "    ax2.set_yticklabels(yTickMarks)\n",
    "    \n",
    "    ax3.set_yticks(xrange(len(yTickMarks)))\n",
    "    ax3.set_yticklabels(yTickMarks)\n",
    "    \n",
    "    ax1.set_title(\"Cumulative Regret\")\n",
    "    ax2.set_title(\"Thomson Sampling Routing\")\n",
    "    ax3.set_title(\"Epsilon Greedy Routing\")"
   ]
  },
  {
   "cell_type": "code",
   "execution_count": 27,
   "metadata": {
    "collapsed": false,
    "scrolled": false
   },
   "outputs": [],
   "source": [
    "class PlotThread(threading.Thread):\n",
    "    def run(self):\n",
    "        routings_eg = []\n",
    "        rewards_eg = []\n",
    "        regrets_eg = []\n",
    "        predictions_eg = []\n",
    "\n",
    "        routings_ts = []\n",
    "        rewards_ts = []\n",
    "        regrets_ts = []\n",
    "        predictions_ts = []\n",
    "\n",
    "        while True:\n",
    "            if parameters['kill']:\n",
    "                break\n",
    "#             print parameters['started']\n",
    "            probabilities = parameters['probabilities']\n",
    "\n",
    "            max_proba = max(probabilities.values())\n",
    "            regret_dict = {k:max_proba-proba for k,proba in  probabilities.items()}\n",
    "\n",
    "            if parameters['started']:\n",
    "                routing_eg,reward_eg,prediction_eg = get_routing_and_reward(client_cts,probabilities)\n",
    "                routing_ts,reward_ts,prediction_ts = get_routing_and_reward(client_ts,probabilities)\n",
    "\n",
    "                regret_ts = regret_dict[routing_ts]\n",
    "                regret_eg = regret_dict[routing_eg]\n",
    "\n",
    "                routings_eg.append(routing_eg)\n",
    "                rewards_eg.append(reward_eg)\n",
    "                regrets_eg.append(regret_eg)\n",
    "                predictions_eg.append(prediction_eg)\n",
    "\n",
    "                routings_ts.append(routing_ts)\n",
    "                rewards_ts.append(reward_ts)\n",
    "                regrets_ts.append(regret_ts)\n",
    "                predictions_ts.append(prediction_ts)\n",
    "\n",
    "                if len(routings_eg)>parameters[\"delay_feedback\"]:\n",
    "                    send_feedback(client_ts,predictions_ts[-parameters[\"delay_feedback\"]],rewards_ts[-parameters[\"delay_feedback\"]])\n",
    "                    send_feedback(client_cts,predictions_eg[-parameters[\"delay_feedback\"]],rewards_eg[-parameters[\"delay_feedback\"]])\n",
    "\n",
    "                display.clear_output(wait=True)\n",
    "                plot_all(routings_ts,routings_eg,rewards_ts,rewards_eg,regrets_ts,regrets_eg,N=100)\n",
    "                plt.show()\n",
    "#                 print i\n",
    "            time.sleep(parameters['time_sleep'])\n",
    "        print 'Ended'\n"
   ]
  },
  {
   "cell_type": "code",
   "execution_count": 28,
   "metadata": {
    "collapsed": false,
    "scrolled": false
   },
   "outputs": [
    {
     "data": {
      "image/png": "[encoded data removed]",
      "text/plain": [
       "<matplotlib.figure.Figure at 0x7f588fe19cd0>"
      ]
     },
     "metadata": {},
     "output_type": "display_data"
    },
    {
     "data": {
      "image/png": "[encoded data removed]",
      "text/plain": [
       "<matplotlib.figure.Figure at 0x7f588fe19cd0>"
      ]
     },
     "metadata": {},
     "output_type": "display_data"
    },
    {
     "name": "stdout",
     "output_type": "stream",
     "text": [
      "Ended\n"
     ]
    }
   ],
   "source": [
    "parameters = {\n",
    "    'probabilities':{\n",
    "        0:0.75,\n",
    "        1:0.89,\n",
    "        2:0.51\n",
    "    },\n",
    "    'delay_feedback':5,\n",
    "    'time_sleep':0.1,\n",
    "    'started':False,\n",
    "    'kill':False\n",
    "}\n",
    "\n",
    "button_start = widgets.Button(description=\"STOP\" if parameters[\"started\"] else \"START\")\n",
    "button_kill = widgets.Button(description=\"KILL\")\n",
    "slider_A = widgets.FloatSlider(\n",
    "    value=parameters['probabilities'][0],\n",
    "    min=0,\n",
    "    max=1,\n",
    "    step=0.05,\n",
    "    description=\"Model A\",\n",
    "    continuous_update=False)\n",
    "slider_B = widgets.FloatSlider(\n",
    "    value=parameters['probabilities'][1],\n",
    "    min=0,\n",
    "    max=1,\n",
    "    step=0.05,\n",
    "    description=\"Model B\",\n",
    "    continuous_update=False)\n",
    "slider_C = widgets.FloatSlider(\n",
    "    value=parameters['probabilities'][2],\n",
    "    min=0,\n",
    "    max=1,\n",
    "    step=0.05,\n",
    "    description=\"Model C\",\n",
    "    continuous_update=False)\n",
    "\n",
    "def on_click_start(b):\n",
    "    parameters['started']=parameters['started']==False\n",
    "    b.description=\"STOP\" if parameters[\"started\"] else \"START\"\n",
    "    \n",
    "def on_click_kill(b):\n",
    "    parameters['kill']=True\n",
    "    \n",
    "def on_update_slider_A(s):\n",
    "    parameters['probabilities'][0] = slider_A.value\n",
    "\n",
    "def on_update_slider_B(s):\n",
    "    parameters['probabilities'][1] = slider_B.value\n",
    "\n",
    "def on_update_slider_C(s):\n",
    "    parameters['probabilities'][2] = slider_C.value\n",
    "    \n",
    "button_start.on_click(on_click_start)\n",
    "button_kill.on_click(on_click_kill)\n",
    "\n",
    "slider_A.observe(on_update_slider_A)\n",
    "slider_B.observe(on_update_slider_B)\n",
    "slider_C.observe(on_update_slider_C)\n",
    "\n",
    "display.display(button_start)\n",
    "display.display(button_kill)\n",
    "\n",
    "display.display(slider_A)\n",
    "display.display(slider_B)\n",
    "display.display(slider_C)\n",
    "\n",
    "plot_thread = PlotThread()\n",
    "_ = plot_thread.start()"
   ]
  },
  {
   "cell_type": "code",
   "execution_count": 257,
   "metadata": {
    "collapsed": false
   },
   "outputs": [
    {
     "data": {
      "text/plain": [
       "{'delay_feedback': 5,\n",
       " 'probabilities': {0: 0.75, 1: 0.89, 2: 0.51},\n",
       " 'started': True,\n",
       " 'time_sleep': 0.2}"
      ]
     },
     "execution_count": 257,
     "metadata": {},
     "output_type": "execute_result"
    }
   ],
   "source": [
    "parameters"
   ]
  },
  {
   "cell_type": "code",
   "execution_count": null,
   "metadata": {
    "collapsed": true
   },
   "outputs": [],
   "source": []
  },
  {
   "cell_type": "code",
   "execution_count": null,
   "metadata": {
    "collapsed": true
   },
   "outputs": [],
   "source": []
  },
  {
   "cell_type": "code",
   "execution_count": 240,
   "metadata": {
    "collapsed": false
   },
   "outputs": [
    {
     "data": {
      "text/plain": [
       "[[], [], [], [], [], [], [], [], [], []]"
      ]
     },
     "execution_count": 240,
     "metadata": {},
     "output_type": "execute_result"
    }
   ],
   "source": [
    "regrets_ts"
   ]
  },
  {
   "cell_type": "code",
   "execution_count": 241,
   "metadata": {
    "collapsed": false
   },
   "outputs": [
    {
     "data": {
      "text/plain": [
       "[1, 1, 1, 1, 1, 1, 1, 1, 1, 1]"
      ]
     },
     "execution_count": 241,
     "metadata": {},
     "output_type": "execute_result"
    }
   ],
   "source": [
    "routings_ts"
   ]
  },
  {
   "cell_type": "code",
   "execution_count": null,
   "metadata": {
    "collapsed": true
   },
   "outputs": [],
   "source": []
  }
 ],
 "metadata": {
  "anaconda-cloud": {},
  "kernelspec": {
   "display_name": "Python [default]",
   "language": "python",
   "name": "python2"
  },
  "language_info": {
   "codemirror_mode": {
    "name": "ipython",
    "version": 2
   },
   "file_extension": ".py",
   "mimetype": "text/x-python",
   "name": "python",
   "nbconvert_exporter": "python",
   "pygments_lexer": "ipython2",
   "version": "2.7.12"
  },
  "widgets": {
   "state": {
    "00f957c8335241c48809e908b0049185": {
     "views": [
      {
       "cell_index": 36
      }
     ]
    },
    "0395d501f25a4a43b4b72a6971b9dfd3": {
     "views": [
      {
       "cell_index": 48
      }
     ]
    },
    "06d17c708b174d1995a4c8a5226a9194": {
     "views": [
      {
       "cell_index": 46
      }
     ]
    },
    "09247feacc58441d83fd064b688375e4": {
     "views": [
      {
       "cell_index": 45
      }
     ]
    },
    "09c6d112e1fb44498dbabf859d1a0d14": {
     "views": [
      {
       "cell_index": 40
      }
     ]
    },
    "0a5f77af752046fbb39aa8d5455a6c53": {
     "views": [
      {
       "cell_index": 39
      }
     ]
    },
    "0d52512e296040f0b3f227746921c603": {
     "views": [
      {
       "cell_index": 48
      }
     ]
    },
    "0eb789449e144a99abf7fa4e75fbcfb3": {
     "views": [
      {
       "cell_index": 36
      }
     ]
    },
    "14e5adaddec54298beff344b7ff65d00": {
     "views": [
      {
       "cell_index": 39
      }
     ]
    },
    "15aef8d115c14e1fa5897ac271a826e3": {
     "views": [
      {
       "cell_index": 52
      }
     ]
    },
    "16e1f44535494e5a9963a56cb4367b07": {
     "views": [
      {
       "cell_index": 48
      }
     ]
    },
    "17604e5ed7d640a692c33c44b1829072": {
     "views": [
      {
       "cell_index": 39
      }
     ]
    },
    "182010f511a4470b80acff13f920c385": {
     "views": [
      {
       "cell_index": 40
      }
     ]
    },
    "1d7b142170444cfc8cb8a01e23676b19": {
     "views": [
      {
       "cell_index": 36
      }
     ]
    },
    "22dffb3e49aa4a1aa6c7db514fe0e005": {
     "views": [
      {
       "cell_index": 52
      }
     ]
    },
    "25e4fac06631441c92f348ed1d895ad9": {
     "views": [
      {
       "cell_index": 48
      }
     ]
    },
    "295bc9b11b934095b9e9cda5908d0c95": {
     "views": [
      {
       "cell_index": 36
      }
     ]
    },
    "29fb16a8d40f4f9daef2b66b664e4582": {
     "views": [
      {
       "cell_index": 52
      }
     ]
    },
    "2a29fc16a1604e86a047845c30ad3aea": {
     "views": [
      {
       "cell_index": 36
      }
     ]
    },
    "2b3b65b047fe45dbb89a14a2077259f9": {
     "views": [
      {
       "cell_index": 48
      }
     ]
    },
    "31e7be2cb6a143d39d3ba543552a9ae3": {
     "views": [
      {
       "cell_index": 52
      }
     ]
    },
    "337510dc759041d0b36c98b8446f8e64": {
     "views": [
      {
       "cell_index": 52
      }
     ]
    },
    "3a00ba6bb85b446bbed92555ea0621fc": {
     "views": [
      {
       "cell_index": 48
      }
     ]
    },
    "3aa451ca6d7f4c12a590abadfabcef61": {
     "views": [
      {
       "cell_index": 52
      }
     ]
    },
    "3aa64aeac79248b5bef7d7e03a5eaad5": {
     "views": [
      {
       "cell_index": 36
      }
     ]
    },
    "3d0de5edaf6a4f38a847af3d4f08c6fc": {
     "views": [
      {
       "cell_index": 39
      }
     ]
    },
    "3dab0d1336584181946cdbbc6abe1d23": {
     "views": [
      {
       "cell_index": 39
      }
     ]
    },
    "3fd82a994421496f86040b68f0fbc364": {
     "views": [
      {
       "cell_index": 48
      }
     ]
    },
    "3ff0a9e5877046abb3768c4b9e5cfa86": {
     "views": [
      {
       "cell_index": 52
      }
     ]
    },
    "408ae57d4da04a7ab6332797fb6d9540": {
     "views": [
      {
       "cell_index": 48
      }
     ]
    },
    "414b5e09988a4b5db127e6710bb5d292": {
     "views": [
      {
       "cell_index": 39
      }
     ]
    },
    "4271559a4a8745a79e975191f078dc0e": {
     "views": [
      {
       "cell_index": 52
      }
     ]
    },
    "42fab0050cd34c2ea23b396eb9456edf": {
     "views": [
      {
       "cell_index": 36
      }
     ]
    },
    "4b604c03f22d45f2ae80c95eb4c72548": {
     "views": [
      {
       "cell_index": 46
      }
     ]
    },
    "4bbe86c1b9c8455c8a59ba77a4e53e23": {
     "views": [
      {
       "cell_index": 52
      }
     ]
    },
    "4c21ac019b8f4a70bf631756f080c556": {
     "views": [
      {
       "cell_index": 38
      }
     ]
    },
    "4c5fa7bd82f345e6ab5d39e221e899a8": {
     "views": [
      {
       "cell_index": 46
      }
     ]
    },
    "4e4ca3072599432788d7f64ae430a4cb": {
     "views": [
      {
       "cell_index": 45
      }
     ]
    },
    "5045cd42da8a4980a36986ba7d88fc83": {
     "views": [
      {
       "cell_index": 38
      }
     ]
    },
    "52dbebc3e76e4b1e9c083867fa606208": {
     "views": [
      {
       "cell_index": 39
      }
     ]
    },
    "556f0a87ba664acd9d0aed006218e2c8": {
     "views": [
      {
       "cell_index": 48
      }
     ]
    },
    "609c2ab777a446128ce7359e5f844e28": {
     "views": [
      {
       "cell_index": 46
      }
     ]
    },
    "60e6299f011343ddb8314d251ee6ccd1": {
     "views": [
      {
       "cell_index": 39
      }
     ]
    },
    "6135dcf886114205aa3c3ba56c297179": {
     "views": [
      {
       "cell_index": 39
      }
     ]
    },
    "61f3312d796243a68b2e01c88bf5d62c": {
     "views": [
      {
       "cell_index": 48
      }
     ]
    },
    "64a8d28d4623437f8862f95a041d0836": {
     "views": [
      {
       "cell_index": 36
      }
     ]
    },
    "65eb992a68514413bf9a3698df8c504d": {
     "views": [
      {
       "cell_index": 48
      }
     ]
    },
    "67ca9c8da8154f8e9f0cf9ded854313b": {
     "views": [
      {
       "cell_index": 52
      }
     ]
    },
    "6f51004ea4684ac7bab7c8465b775a2a": {
     "views": [
      {
       "cell_index": 52
      }
     ]
    },
    "701f39c523d14319aa04dfc37bd0233c": {
     "views": [
      {
       "cell_index": 48
      }
     ]
    },
    "7674824c6e02476b8e479b13da9a2e01": {
     "views": [
      {
       "cell_index": 52
      }
     ]
    },
    "76f5bfe35e06419098f6d0e09d9bd245": {
     "views": [
      {
       "cell_index": 46
      }
     ]
    },
    "776f1cd431c041398a717f7e2024ab65": {
     "views": [
      {
       "cell_index": 45
      }
     ]
    },
    "7b78c51e50904727987b8fc608a5d857": {
     "views": [
      {
       "cell_index": 48
      }
     ]
    },
    "8211d3d957b14252a24f640bcf700f17": {
     "views": [
      {
       "cell_index": 52
      }
     ]
    },
    "848e939e72bc439faa8e0ec08ce7f8c0": {
     "views": [
      {
       "cell_index": 52
      }
     ]
    },
    "85a9ce3ea3314fb2b86337ee77175d39": {
     "views": [
      {
       "cell_index": 52
      }
     ]
    },
    "869fa31769484c71be372b23004b0780": {
     "views": [
      {
       "cell_index": 48
      }
     ]
    },
    "86e6cbab67bf4a849820d3c5b161eb81": {
     "views": [
      {
       "cell_index": 48
      }
     ]
    },
    "88fe0a277525491992ab8deb950bd598": {
     "views": [
      {
       "cell_index": 40
      }
     ]
    },
    "898ec9eee76347cb9ed154fe32152f03": {
     "views": [
      {
       "cell_index": 39
      }
     ]
    },
    "8e77d7b6bdcc4b0f9368c5b64812610e": {
     "views": [
      {
       "cell_index": 36
      }
     ]
    },
    "92905f9ed2b94e958f79cd0ba816cd3f": {
     "views": [
      {
       "cell_index": 38
      }
     ]
    },
    "95d89d20c494437196b75b3693410c56": {
     "views": [
      {
       "cell_index": 48
      }
     ]
    },
    "988a4d5c60a04989b46897031c96ce8e": {
     "views": [
      {
       "cell_index": 48
      }
     ]
    },
    "9a14ce39df4d4ffeacdc49c5b33381af": {
     "views": [
      {
       "cell_index": 48
      }
     ]
    },
    "9a832b97a51f479cac507425bf3816e8": {
     "views": [
      {
       "cell_index": 52
      }
     ]
    },
    "9e2ffd577c1f409ea48028d87409dc94": {
     "views": [
      {
       "cell_index": 36
      }
     ]
    },
    "9f6288da1ca64f8d9ab139cbb5a9924c": {
     "views": [
      {
       "cell_index": 48
      }
     ]
    },
    "a49a6c56bc8b4dc69ba648340e9d37cf": {
     "views": [
      {
       "cell_index": 48
      }
     ]
    },
    "a4e68c0e816049a79d64095b72604d7f": {
     "views": [
      {
       "cell_index": 36
      }
     ]
    },
    "a501b7ced14e4349882ecde0019828db": {
     "views": [
      {
       "cell_index": 48
      }
     ]
    },
    "aa22d7700651447886bddfa5dd6299b3": {
     "views": [
      {
       "cell_index": 46
      }
     ]
    },
    "ad7f379bedab4a6482c0f146f8959cef": {
     "views": [
      {
       "cell_index": 48
      }
     ]
    },
    "b666a35a03e94e0fb161c1f005454aa7": {
     "views": [
      {
       "cell_index": 48
      }
     ]
    },
    "b79d21ab7bf14b0d9d76aa114a02700b": {
     "views": [
      {
       "cell_index": 48
      }
     ]
    },
    "b804fc30ec5c4331a7f5bdadbe590858": {
     "views": [
      {
       "cell_index": 46
      }
     ]
    },
    "b85e2514994b430f92b18afeb741474a": {
     "views": [
      {
       "cell_index": 52
      }
     ]
    },
    "b9e146afad0e41c187e4227abd7cee27": {
     "views": [
      {
       "cell_index": 38
      }
     ]
    },
    "bc65fe2994d040229ed45308364e1a64": {
     "views": [
      {
       "cell_index": 46
      }
     ]
    },
    "c00c6beb966a439581287c1aa3db6241": {
     "views": [
      {
       "cell_index": 39
      }
     ]
    },
    "c54da6be54bf4aabb2720039a3213e98": {
     "views": [
      {
       "cell_index": 39
      }
     ]
    },
    "c5976fc3d9164bc7b5ef041a423d524f": {
     "views": [
      {
       "cell_index": 38
      }
     ]
    },
    "ca0a09f32de548beb2c2bd30840064b2": {
     "views": [
      {
       "cell_index": 52
      }
     ]
    },
    "ca2440052050437caad0e0b0b6c12151": {
     "views": [
      {
       "cell_index": 46
      }
     ]
    },
    "ca4f45cfadda454f8453717141c3eaca": {
     "views": [
      {
       "cell_index": 40
      }
     ]
    },
    "ca88768cbabf4389bdeff97eaa2c5934": {
     "views": [
      {
       "cell_index": 52
      }
     ]
    },
    "cd2121941f9e4c78abb7f1390622db08": {
     "views": [
      {
       "cell_index": 52
      }
     ]
    },
    "ce16a9f72cd5448881bd4e1cdbdf5f9d": {
     "views": [
      {
       "cell_index": 47
      }
     ]
    },
    "cedd7ab9ad464ca89b8c04393d545aa6": {
     "views": [
      {
       "cell_index": 38
      }
     ]
    },
    "d338cfc60c254783b87fff1c90940e48": {
     "views": [
      {
       "cell_index": 48
      }
     ]
    },
    "d7006b4afaf6460a8260a8382c9ea55f": {
     "views": [
      {
       "cell_index": 52
      }
     ]
    },
    "d881cb24e8a0440080ab2ab25934b244": {
     "views": [
      {
       "cell_index": 39
      }
     ]
    },
    "dbc1384e7b2645fc93824047d431ed12": {
     "views": [
      {
       "cell_index": 46
      }
     ]
    },
    "e293fb895d394b51b6c3d3977b87f18c": {
     "views": [
      {
       "cell_index": 39
      }
     ]
    },
    "ed471fcdb17a4443832f9f3820ce916b": {
     "views": [
      {
       "cell_index": 46
      }
     ]
    },
    "edf96177f3a6479f8ac3cad7e26f4a60": {
     "views": [
      {
       "cell_index": 46
      }
     ]
    },
    "ee023638f9864690b3b9518ddef6a340": {
     "views": [
      {
       "cell_index": 52
      }
     ]
    },
    "f51d8fd9f541488b96ff2cfc6830697a": {
     "views": [
      {
       "cell_index": 46
      }
     ]
    },
    "f6484bde917243ea8b12a7fb19403963": {
     "views": [
      {
       "cell_index": 48
      }
     ]
    },
    "f8e5704343d64e91a57839a3cf92f691": {
     "views": [
      {
       "cell_index": 39
      }
     ]
    },
    "f9d05c244d7542da97c2258a1d1f7004": {
     "views": [
      {
       "cell_index": 36
      }
     ]
    },
    "fa7ab2df962d48a398820a8ad7460f5b": {
     "views": [
      {
       "cell_index": 45
      }
     ]
    }
   },
   "version": "1.2.0"
  }
 },
 "nbformat": 4,
 "nbformat_minor": 1
}
