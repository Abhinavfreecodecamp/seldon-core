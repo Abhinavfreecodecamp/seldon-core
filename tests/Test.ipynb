{
 "cells": [
  {
   "cell_type": "code",
   "execution_count": 305,
   "metadata": {
    "collapsed": true
   },
   "outputs": [],
   "source": [
    "import requests\n",
    "import json\n",
    "from requests.auth import HTTPBasicAuth\n",
    "import numpy as np"
   ]
  },
  {
   "cell_type": "code",
   "execution_count": 428,
   "metadata": {
    "collapsed": true
   },
   "outputs": [],
   "source": [
    "def feedback_to_tensor(feedback):\n",
    "    ndarray = np.array(feedback[\"response\"][\"response\"][\"ndarray\"])\n",
    "    feedback[\"response\"][\"response\"][\"tensor\"] = {\"shape\":ndarray.shape,\"values\":list(ndarray.ravel())}\n",
    "    del feedback[\"response\"][\"response\"][\"ndarray\"]\n",
    "\n",
    "class ClientException(Exception):\n",
    "    pass\n",
    "    \n",
    "class OAuthClient(object):\n",
    "    def __init__(self,endpoint,client_key,client_secret):\n",
    "        self.endpoint = endpoint\n",
    "        self.token = requests.post(\n",
    "            \"http://{}:{}@{}/oauth/token\".format(client_key,client_secret,endpoint),\n",
    "            headers={\"type\":\"application/json\"},\n",
    "            data={\"grant_type\": \"client_credentials\"}).json()['access_token']\n",
    "    \n",
    "    def _request(self,method,url,data=None):\n",
    "        if data is None:\n",
    "            data = {}\n",
    "        request = {\n",
    "            'GET':requests.get,\n",
    "            'POST':requests.post,\n",
    "            'DELETE':requests.delete,\n",
    "            'PUT':requests.put\n",
    "        }\n",
    "        response = request[method](\n",
    "            \"http://\"+self.endpoint+url, \n",
    "            headers={\n",
    "                \"Content-Type\":\"application/json\",\n",
    "                \"Authorization\":\"Bearer {}\".format(self.token)},\n",
    "            data=json.dumps(data))\n",
    "        if response.status_code/100!=2:\n",
    "            raise ClientException(response.text)\n",
    "        try:\n",
    "            return response.json()\n",
    "        except ValueError:\n",
    "            return response.text\n",
    "    \n",
    "    def _get(self,url,data=None):\n",
    "        return self._request(\"GET\",url,data)\n",
    "    \n",
    "    def _post(self,url,data=None):\n",
    "        return self._request(\"POST\",url,data)\n",
    "    \n",
    "    def _delete(self,url,data=None):\n",
    "        return self._request(\"DELETE\",url,data)\n",
    "    \n",
    "    def _put(self,url,data=None):\n",
    "        return self._request(\"PUT\",url,data)\n",
    "\n",
    "class ClusterManagerClient(OAuthClient):\n",
    "    def ping(self):\n",
    "        return self._get(\"/ping\")\n",
    "    \n",
    "    def authping(self):\n",
    "        return self._get(\"/api/v1/authping\")\n",
    "    \n",
    "    def create_deployment(self,deployment):\n",
    "        response = self._post(\"/api/v1/deployments\",data=deployment)\n",
    "        return response\n",
    "    \n",
    "    def delete_deployment(self,deployment_id):\n",
    "        response= self._delete(\"/api/v1/deployments/{}\".format(deployment_id))\n",
    "        return response\n",
    "\n",
    "class APIFrontEndClient(OAuthClient):\n",
    "    def ping(self):\n",
    "        return self._get(\"/ping\")\n",
    "    \n",
    "    def predictions(self,request):\n",
    "        response = self._post(\"/api/v0.1/predictions\",data=request)\n",
    "        return response\n",
    "    \n",
    "    def feedback(self,feedback):\n",
    "        response = self._post(\"/api/v0.1/feedback\",data=feedback)\n",
    "        return response"
   ]
  },
  {
   "cell_type": "code",
   "execution_count": 475,
   "metadata": {
    "collapsed": false
   },
   "outputs": [],
   "source": [
    "with open(\"./CLUSTER_MANAGER_ENDPOINT\",'r') as f:\n",
    "    cm_endpoint = f.read()[:-1]\n",
    "\n",
    "with open(\"../cluster-manager/cluster-manager-client-secret.txt\",'r') as f:\n",
    "    cm_client_secret = f.readline()[:-1]\n",
    "\n",
    "with open(\"./API_ENDPOINT\",'r') as f:\n",
    "    api_endpoint  = f.read()[:-1]\n",
    "\n",
    "with open(filepath,'r') as f:\n",
    "    deployment = json.loads(f.read())\n",
    "        \n",
    "api_client_key = deployment[\"oauth_key\"]\n",
    "api_client_secret = deployment[\"oauth_secret\"]"
   ]
  },
  {
   "cell_type": "code",
   "execution_count": 525,
   "metadata": {
    "collapsed": false
   },
   "outputs": [],
   "source": [
    "cmc = ClusterManagerClient(cm_endpoint,\"client\",cm_client_secret)"
   ]
  },
  {
   "cell_type": "code",
   "execution_count": 526,
   "metadata": {
    "collapsed": false
   },
   "outputs": [
    {
     "data": {
      "text/plain": [
       "u'pong'"
      ]
     },
     "execution_count": 526,
     "metadata": {},
     "output_type": "execute_result"
    }
   ],
   "source": [
    "cmc.ping()"
   ]
  },
  {
   "cell_type": "code",
   "execution_count": 527,
   "metadata": {
    "collapsed": false
   },
   "outputs": [
    {
     "data": {
      "text/plain": [
       "u'authpong'"
      ]
     },
     "execution_count": 527,
     "metadata": {},
     "output_type": "execute_result"
    }
   ],
   "source": [
    "cmc.authping()"
   ]
  },
  {
   "cell_type": "code",
   "execution_count": 503,
   "metadata": {
    "collapsed": false
   },
   "outputs": [
    {
     "data": {
      "text/plain": [
       "{u'cmstatus': {u'code': 200,\n",
       "  u'info': u'',\n",
       "  u'reason': u'',\n",
       "  u'status': u'SUCCESS'}}"
      ]
     },
     "execution_count": 503,
     "metadata": {},
     "output_type": "execute_result"
    }
   ],
   "source": [
    "cmc.delete_deployment(1)"
   ]
  },
  {
   "cell_type": "code",
   "execution_count": 528,
   "metadata": {
    "collapsed": false
   },
   "outputs": [],
   "source": [
    "created_deployment = cmc.create_deployment(deployment)"
   ]
  },
  {
   "cell_type": "code",
   "execution_count": 529,
   "metadata": {
    "collapsed": true
   },
   "outputs": [],
   "source": [
    "apic = APIFrontEndClient(api_endpoint,api_client_key,api_client_secret)"
   ]
  },
  {
   "cell_type": "code",
   "execution_count": 530,
   "metadata": {
    "collapsed": false
   },
   "outputs": [
    {
     "data": {
      "text/plain": [
       "u'pong'"
      ]
     },
     "execution_count": 530,
     "metadata": {},
     "output_type": "execute_result"
    }
   ],
   "source": [
    "apic.ping()"
   ]
  },
  {
   "cell_type": "code",
   "execution_count": 453,
   "metadata": {
    "collapsed": true
   },
   "outputs": [],
   "source": [
    "request = {\n",
    "    'request':{\n",
    "        'features':['a','b'],\n",
    "        'ndarray':[[6,3]]\n",
    "    },\n",
    "    'meta':{\n",
    "        'puid':'0',\n",
    "        'tags':{}\n",
    "    }\n",
    "}"
   ]
  },
  {
   "cell_type": "code",
   "execution_count": 454,
   "metadata": {
    "collapsed": false
   },
   "outputs": [],
   "source": [
    "response = apic.predictions(request)"
   ]
  },
  {
   "cell_type": "code",
   "execution_count": 455,
   "metadata": {
    "collapsed": false
   },
   "outputs": [
    {
     "data": {
      "text/plain": [
       "{u'meta': {u'puid': u'0', u'routing': {u'0': 2}},\n",
       " u'response': {u'features': [u'proba'], u'ndarray': [[0.8296760813561542]]}}"
      ]
     },
     "execution_count": 455,
     "metadata": {},
     "output_type": "execute_result"
    }
   ],
   "source": [
    "response"
   ]
  },
  {
   "cell_type": "code",
   "execution_count": 456,
   "metadata": {
    "collapsed": true
   },
   "outputs": [],
   "source": [
    "feedback = {\n",
    "    \"request\":request,\n",
    "    \"response\":response,\n",
    "    \"reward\":1\n",
    "}\n",
    "\n",
    "feedback_to_tensor(feedback)"
   ]
  },
  {
   "cell_type": "code",
   "execution_count": 458,
   "metadata": {
    "collapsed": false
   },
   "outputs": [
    {
     "data": {
      "text/plain": [
       "u''"
      ]
     },
     "execution_count": 458,
     "metadata": {},
     "output_type": "execute_result"
    }
   ],
   "source": [
    "apic.feedback(feedback)"
   ]
  },
  {
   "cell_type": "code",
   "execution_count": 459,
   "metadata": {
    "collapsed": true
   },
   "outputs": [],
   "source": [
    "def compute_reward(response):\n",
    "    routing = response['meta']['routing']['0']\n",
    "    probabilities = {\n",
    "        0:0.75,\n",
    "        1:0.89,\n",
    "        2:0.53\n",
    "    }\n",
    "    return int(np.random.rand()<probabilities[routing])"
   ]
  },
  {
   "cell_type": "code",
   "execution_count": 461,
   "metadata": {
    "collapsed": true
   },
   "outputs": [],
   "source": [
    "def test(n_queries = 1000):\n",
    "    errors = []\n",
    "    rewards = []\n",
    "    routings = []\n",
    "    for i in range(n_queries):\n",
    "        if i%100==0:\n",
    "            print i\n",
    "        try:\n",
    "            response = apic.predictions(request)\n",
    "            reward = compute_reward(response)\n",
    "            feedback = {\n",
    "                \"request\":request,\n",
    "                \"response\":response,\n",
    "                \"reward\":reward\n",
    "            }\n",
    "            feedback_to_tensor(feedback)\n",
    "        \n",
    "            apic.feedback(feedback)\n",
    "            \n",
    "            rewards.append(reward)\n",
    "            routings.append(response['meta']['routing']['0'])\n",
    "            errors.append(False)\n",
    "        except ClientException:\n",
    "            rewards.append(np.nan)\n",
    "            routings.append(np.nan)\n",
    "            errors.append(True)\n",
    "    print \"There was {} errors\".format(np.sum(errors))\n",
    "    return np.array(rewards),np.array(routings),np.array(errors)"
   ]
  },
  {
   "cell_type": "code",
   "execution_count": 537,
   "metadata": {
    "collapsed": false
   },
   "outputs": [
    {
     "name": "stdout",
     "output_type": "stream",
     "text": [
      "0\n",
      "100\n",
      "200\n",
      "300\n",
      "400\n",
      "500\n",
      "600\n",
      "700\n",
      "800\n",
      "900\n",
      "There was 0 errors\n"
     ]
    }
   ],
   "source": [
    "rewards, routings, errors = test(n_queries=1000)"
   ]
  },
  {
   "cell_type": "code",
   "execution_count": 538,
   "metadata": {
    "collapsed": false
   },
   "outputs": [
    {
     "data": {
      "text/plain": [
       "array([1, 0, 0, 0, 0, 2, 0, 0, 0, 0, 0, 0, 0, 0, 0, 0, 1, 0, 0, 1, 2, 1, 1,\n",
       "       2, 0, 1, 0, 0, 1, 0, 0, 1, 1, 1, 1, 0, 2, 1, 0, 1, 2, 0, 0, 0, 0, 0,\n",
       "       1, 0, 1, 1, 1, 1, 1, 1, 0, 1, 1, 1, 1, 1, 1, 1, 1, 1, 1, 0, 1, 1, 0,\n",
       "       1, 1, 0, 1, 1, 1, 1, 0, 1, 1, 1, 1, 0, 1, 1, 1, 1, 1, 1, 1, 1, 1, 1,\n",
       "       1, 1, 0, 1, 1, 1, 1, 1, 1, 1, 1, 1, 1, 1, 1, 1, 1, 1, 1, 1, 1, 0, 1,\n",
       "       1, 1, 1, 1, 1, 1, 1, 1, 1, 1, 1, 1, 1, 1, 1, 1, 1, 1, 0, 1, 1, 1, 1,\n",
       "       1, 1, 1, 1, 1, 1, 1, 1, 1, 1, 1, 1, 1, 1, 1, 1, 1, 1, 0, 1, 1, 1, 1,\n",
       "       1, 1, 1, 0, 1, 1, 1, 1, 0, 1, 1, 1, 1, 1, 1, 1, 0, 1, 1, 1, 1, 1, 1,\n",
       "       1, 1, 1, 1, 1, 1, 1, 1, 1, 1, 1, 1, 1, 1, 1, 1, 1, 1, 1, 1, 1, 1, 1,\n",
       "       1, 1, 1, 0, 1, 1, 1, 1, 1, 1, 1, 1, 1, 1, 1, 1, 1, 1, 1, 1, 1, 1, 1,\n",
       "       1, 1, 1, 1, 1, 1, 1, 1, 1, 1, 1, 1, 1, 1, 1, 1, 1, 1, 1, 1, 1, 1, 1,\n",
       "       1, 1, 1, 1, 1, 1, 1, 1, 1, 1, 1, 1, 1, 1, 1, 1, 1, 1, 1, 1, 1, 1, 1,\n",
       "       1, 1, 1, 1, 1, 1, 1, 1, 1, 1, 1, 1, 1, 1, 1, 1, 1, 1, 1, 1, 1, 1, 1,\n",
       "       1, 1, 1, 1, 1, 1, 1, 1, 1, 1, 1, 1, 1, 1, 1, 1, 0, 0, 0, 1, 1, 1, 1,\n",
       "       0, 1, 1, 1, 1, 1, 1, 1, 1, 1, 1, 1, 1, 1, 1, 1, 1, 1, 1, 1, 1, 1, 1,\n",
       "       1, 1, 1, 1, 1, 1, 1, 1, 1, 1, 0, 1, 1, 1, 1, 1, 1, 1, 1, 1, 1, 1, 1,\n",
       "       1, 1, 1, 1, 1, 1, 1, 0, 1, 1, 1, 1, 1, 1, 1, 1, 1, 1, 1, 1, 1, 1, 1,\n",
       "       1, 1, 1, 1, 1, 1, 1, 1, 1, 1, 1, 1, 1, 1, 0, 1, 1, 1, 1, 1, 1, 1, 1,\n",
       "       0, 1, 1, 1, 0, 1, 0, 1, 1, 1, 1, 1, 1, 1, 1, 1, 1, 1, 1, 1, 1, 1, 1,\n",
       "       1, 1, 1, 1, 1, 1, 1, 1, 1, 1, 1, 1, 1, 1, 1, 1, 2, 1, 1, 1, 1, 1, 1,\n",
       "       1, 1, 1, 1, 1, 0, 0, 1, 1, 1, 1, 1, 1, 1, 1, 1, 1, 1, 0, 1, 1, 1, 1,\n",
       "       1, 1, 1, 1, 1, 1, 1, 1, 1, 1, 1, 1, 1, 1, 1, 1, 1, 1, 1, 1, 1, 1, 1,\n",
       "       1, 1, 1, 1, 1, 1, 1, 1, 1, 1, 1, 0, 1, 1, 1, 1, 0, 1, 1, 1, 1, 1, 1,\n",
       "       1, 1, 0, 1, 1, 1, 1, 1, 1, 1, 1, 1, 1, 1, 1, 1, 1, 1, 1, 1, 1, 1, 1,\n",
       "       1, 0, 1, 1, 1, 1, 1, 1, 1, 0, 1, 1, 1, 1, 1, 1, 1, 1, 1, 1, 1, 1, 1,\n",
       "       1, 1, 1, 1, 1, 1, 1, 1, 1, 1, 1, 1, 1, 1, 1, 1, 1, 1, 1, 0, 1, 1, 1,\n",
       "       1, 1, 1, 1, 1, 1, 1, 1, 1, 1, 1, 1, 1, 1, 1, 1, 1, 1, 1, 1, 1, 1, 1,\n",
       "       1, 0, 1, 1, 1, 1, 1, 1, 1, 1, 1, 1, 1, 1, 1, 1, 1, 1, 1, 1, 0, 1, 1,\n",
       "       1, 1, 1, 1, 1, 1, 1, 1, 1, 1, 1, 1, 1, 1, 1, 1, 1, 1, 1, 1, 1, 1, 1,\n",
       "       1, 1, 1, 1, 1, 1, 1, 0, 1, 1, 1, 1, 1, 1, 1, 1, 1, 1, 1, 1, 1, 1, 1,\n",
       "       1, 1, 1, 1, 1, 1, 1, 1, 1, 1, 1, 1, 1, 1, 1, 1, 1, 1, 1, 1, 1, 1, 1,\n",
       "       1, 1, 1, 1, 1, 1, 1, 1, 1, 1, 1, 1, 0, 1, 1, 1, 1, 1, 1, 1, 1, 1, 1,\n",
       "       1, 1, 1, 1, 1, 1, 1, 1, 1, 1, 1, 1, 1, 1, 1, 1, 1, 1, 1, 1, 1, 1, 1,\n",
       "       1, 1, 1, 1, 1, 1, 1, 1, 1, 1, 1, 0, 1, 1, 1, 1, 1, 1, 1, 1, 1, 1, 1,\n",
       "       1, 1, 1, 1, 1, 1, 1, 1, 1, 1, 1, 1, 1, 1, 1, 1, 1, 1, 1, 1, 1, 1, 1,\n",
       "       1, 1, 1, 1, 1, 1, 1, 1, 1, 1, 1, 1, 1, 1, 1, 1, 1, 1, 1, 1, 1, 1, 1,\n",
       "       1, 1, 1, 1, 1, 1, 1, 1, 1, 1, 1, 1, 1, 1, 1, 1, 1, 1, 1, 1, 1, 1, 1,\n",
       "       1, 1, 1, 0, 1, 1, 1, 1, 1, 1, 1, 1, 1, 1, 1, 0, 1, 1, 1, 1, 1, 1, 1,\n",
       "       1, 1, 1, 1, 1, 1, 1, 1, 1, 1, 1, 1, 1, 1, 1, 1, 1, 1, 1, 1, 1, 0, 1,\n",
       "       1, 1, 1, 1, 1, 1, 1, 1, 1, 1, 1, 1, 1, 1, 1, 1, 1, 1, 1, 1, 1, 0, 1,\n",
       "       1, 1, 1, 1, 1, 1, 1, 1, 1, 1, 1, 1, 1, 1, 1, 1, 1, 1, 1, 1, 1, 1, 1,\n",
       "       1, 1, 1, 1, 1, 1, 1, 1, 1, 1, 1, 1, 1, 1, 1, 1, 1, 1, 1, 1, 0, 1, 1,\n",
       "       1, 1, 1, 1, 1, 1, 1, 1, 1, 0, 1, 1, 1, 1, 1, 1, 1, 1, 1, 1, 1, 1, 1,\n",
       "       1, 1, 1, 1, 1, 1, 1, 1, 1, 1, 1])"
      ]
     },
     "execution_count": 538,
     "metadata": {},
     "output_type": "execute_result"
    }
   ],
   "source": [
    "routings"
   ]
  },
  {
   "cell_type": "code",
   "execution_count": 539,
   "metadata": {
    "collapsed": false
   },
   "outputs": [
    {
     "data": {
      "text/plain": [
       "73"
      ]
     },
     "execution_count": 539,
     "metadata": {},
     "output_type": "execute_result"
    }
   ],
   "source": [
    "(routings==0).sum()"
   ]
  },
  {
   "cell_type": "code",
   "execution_count": 540,
   "metadata": {
    "collapsed": false
   },
   "outputs": [
    {
     "data": {
      "text/plain": [
       "921"
      ]
     },
     "execution_count": 540,
     "metadata": {},
     "output_type": "execute_result"
    }
   ],
   "source": [
    "(routings==1).sum()"
   ]
  },
  {
   "cell_type": "code",
   "execution_count": 541,
   "metadata": {
    "collapsed": false
   },
   "outputs": [
    {
     "data": {
      "text/plain": [
       "6"
      ]
     },
     "execution_count": 541,
     "metadata": {},
     "output_type": "execute_result"
    }
   ],
   "source": [
    "(routings==2).sum()"
   ]
  },
  {
   "cell_type": "code",
   "execution_count": 542,
   "metadata": {
    "collapsed": true
   },
   "outputs": [],
   "source": [
    "import redis\n",
    "import cPickle as pickle"
   ]
  },
  {
   "cell_type": "code",
   "execution_count": 505,
   "metadata": {
    "collapsed": true
   },
   "outputs": [],
   "source": [
    "client = redis.StrictRedis(host=\"localhost\")"
   ]
  },
  {
   "cell_type": "code",
   "execution_count": 543,
   "metadata": {
    "collapsed": false
   },
   "outputs": [
    {
     "data": {
      "text/plain": [
       "['auth:a39059ce-d297-4fea-8f4e-b48477980baa',\n",
       " 'client_id_to_access:key',\n",
       " 'access:97ad2793-73ec-407d-9e12-8cccc00a3542',\n",
       " 'auth_to_access:a7b7ee6b56e8fcf90c36545d897ea9b9',\n",
       " 'access:a39059ce-d297-4fea-8f4e-b48477980baa',\n",
       " 'ts_test0_0',\n",
       " 'auth_to_access:ee16db94e195840785e8cd7b3456eff4',\n",
       " 'auth:97ad2793-73ec-407d-9e12-8cccc00a3542',\n",
       " 'client_id_to_access:client']"
      ]
     },
     "execution_count": 543,
     "metadata": {},
     "output_type": "execute_result"
    }
   ],
   "source": [
    "client.keys()"
   ]
  },
  {
   "cell_type": "code",
   "execution_count": 544,
   "metadata": {
    "collapsed": false
   },
   "outputs": [
    {
     "data": {
      "text/plain": [
       "{'models_beta_params': [[55, 14], [688, 80], [3, 5]]}"
      ]
     },
     "execution_count": 544,
     "metadata": {},
     "output_type": "execute_result"
    }
   ],
   "source": [
    "pickle.loads(client.get(\"ts_test0_0\"))"
   ]
  },
  {
   "cell_type": "code",
   "execution_count": null,
   "metadata": {
    "collapsed": true
   },
   "outputs": [],
   "source": []
  }
 ],
 "metadata": {
  "anaconda-cloud": {},
  "kernelspec": {
   "display_name": "Python [default]",
   "language": "python",
   "name": "python2"
  },
  "language_info": {
   "codemirror_mode": {
    "name": "ipython",
    "version": 2
   },
   "file_extension": ".py",
   "mimetype": "text/x-python",
   "name": "python",
   "nbconvert_exporter": "python",
   "pygments_lexer": "ipython2",
   "version": "2.7.12"
  }
 },
 "nbformat": 4,
 "nbformat_minor": 1
}
