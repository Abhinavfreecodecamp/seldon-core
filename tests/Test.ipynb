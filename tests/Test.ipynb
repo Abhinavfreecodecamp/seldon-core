{
 "cells": [
  {
   "cell_type": "code",
   "execution_count": 1,
   "metadata": {
    "collapsed": true
   },
   "outputs": [],
   "source": [
    "import matplotlib.pyplot as plt\n",
    "import seaborn as sns\n",
    "%matplotlib inline"
   ]
  },
  {
   "cell_type": "code",
   "execution_count": 2,
   "metadata": {
    "collapsed": true
   },
   "outputs": [],
   "source": [
    "import requests\n",
    "import json\n",
    "from requests.auth import HTTPBasicAuth\n",
    "import numpy as np"
   ]
  },
  {
   "cell_type": "code",
   "execution_count": 3,
   "metadata": {
    "collapsed": true
   },
   "outputs": [],
   "source": [
    "def feedback_to_tensor(feedback):\n",
    "    ndarray = np.array(feedback[\"response\"][\"response\"][\"ndarray\"])\n",
    "    feedback[\"response\"][\"response\"][\"tensor\"] = {\"shape\":ndarray.shape,\"values\":list(ndarray.ravel())}\n",
    "    del feedback[\"response\"][\"response\"][\"ndarray\"]\n",
    "\n",
    "class ClientException(Exception):\n",
    "    pass\n",
    "    \n",
    "class OAuthClient(object):\n",
    "    def __init__(self,endpoint,client_key,client_secret):\n",
    "        self.endpoint = endpoint\n",
    "        self.token = requests.post(\n",
    "            \"http://{}:{}@{}/oauth/token\".format(client_key,client_secret,endpoint),\n",
    "            headers={\"type\":\"application/json\"},\n",
    "            data={\"grant_type\": \"client_credentials\"}).json()['access_token']\n",
    "    \n",
    "    def _request(self,method,url,data=None):\n",
    "        if data is None:\n",
    "            data = {}\n",
    "        request = {\n",
    "            'GET':requests.get,\n",
    "            'POST':requests.post,\n",
    "            'DELETE':requests.delete,\n",
    "            'PUT':requests.put\n",
    "        }\n",
    "        response = request[method](\n",
    "            \"http://\"+self.endpoint+url, \n",
    "            headers={\n",
    "                \"Content-Type\":\"application/json\",\n",
    "                \"Authorization\":\"Bearer {}\".format(self.token)},\n",
    "            data=json.dumps(data))\n",
    "        if response.status_code/100!=2:\n",
    "            raise ClientException(response.text)\n",
    "        try:\n",
    "            return response.json()\n",
    "        except ValueError:\n",
    "            return response.text\n",
    "    \n",
    "    def _get(self,url,data=None):\n",
    "        return self._request(\"GET\",url,data)\n",
    "    \n",
    "    def _post(self,url,data=None):\n",
    "        return self._request(\"POST\",url,data)\n",
    "    \n",
    "    def _delete(self,url,data=None):\n",
    "        return self._request(\"DELETE\",url,data)\n",
    "    \n",
    "    def _put(self,url,data=None):\n",
    "        return self._request(\"PUT\",url,data)\n",
    "\n",
    "class ClusterManagerClient(OAuthClient):\n",
    "    def ping(self):\n",
    "        return self._get(\"/ping\")\n",
    "    \n",
    "    def authping(self):\n",
    "        return self._get(\"/api/v1/authping\")\n",
    "    \n",
    "    def create_deployment(self,deployment):\n",
    "        response = self._post(\"/api/v1/deployments\",data=deployment)\n",
    "        return response\n",
    "    \n",
    "    def delete_deployment(self,deployment_id):\n",
    "        response= self._delete(\"/api/v1/deployments/{}\".format(deployment_id))\n",
    "        return response\n",
    "\n",
    "class APIFrontEndClient(OAuthClient):\n",
    "    def ping(self):\n",
    "        return self._get(\"/ping\")\n",
    "    \n",
    "    def predictions(self,request):\n",
    "        response = self._post(\"/api/v0.1/predictions\",data=request)\n",
    "        return response\n",
    "    \n",
    "    def feedback(self,feedback):\n",
    "        response = self._post(\"/api/v0.1/feedback\",data=feedback)\n",
    "        return response"
   ]
  },
  {
   "cell_type": "code",
   "execution_count": 4,
   "metadata": {
    "collapsed": true
   },
   "outputs": [],
   "source": [
    "probabilities = {\n",
    "        0:0.75,\n",
    "        1:0.89,\n",
    "        2:0.53\n",
    "    }\n",
    "def compute_reward(response,probabilities):\n",
    "    routing = response['meta']['routing']['0']\n",
    "    \n",
    "    return int(np.random.rand()<probabilities[routing])\n",
    "\n",
    "def test(client,probabilities,n_queries = 1000):\n",
    "    errors = []\n",
    "    rewards = []\n",
    "    routings = []\n",
    "    for i in range(n_queries):\n",
    "        if i%100==0:\n",
    "            print i\n",
    "        try:\n",
    "            response = client.predictions(request)\n",
    "            reward = compute_reward(response,probabilities)\n",
    "            feedback = {\n",
    "                \"request\":request,\n",
    "                \"response\":response,\n",
    "                \"reward\":reward\n",
    "            }\n",
    "            feedback_to_tensor(feedback)\n",
    "        \n",
    "            client.feedback(feedback)\n",
    "            \n",
    "            rewards.append(reward)\n",
    "            routings.append(response['meta']['routing']['0'])\n",
    "            errors.append(False)\n",
    "        except ClientException:\n",
    "            rewards.append(np.nan)\n",
    "            routings.append(np.nan)\n",
    "            errors.append(True)\n",
    "    print \"There was {} errors\".format(np.sum(errors))\n",
    "    return np.array(rewards),np.array(routings),np.array(errors)"
   ]
  },
  {
   "cell_type": "code",
   "execution_count": 5,
   "metadata": {
    "collapsed": true
   },
   "outputs": [],
   "source": [
    "def compute_regret(routings,probabilities):\n",
    "    max_proba = max(probabilities.values())\n",
    "    regret_dict = {k:max_proba-proba for k,proba in  probabilities.items()}\n",
    "    regret = np.apply_along_axis(lambda x:regret_dict[x[0]],1,routings[:,None])\n",
    "    return regret"
   ]
  },
  {
   "cell_type": "code",
   "execution_count": 6,
   "metadata": {
    "collapsed": true
   },
   "outputs": [],
   "source": [
    "def plot_results(routings,rewards,N):\n",
    "    colors = ['g' if rew else 'r' for rew in rewards]\n",
    "\n",
    "    plt.figure(figsize=(8,15))\n",
    "    plt.scatter(routings[:N],N-np.arange(N),linewidth=0,marker='.',c=colors[:N])"
   ]
  },
  {
   "cell_type": "code",
   "execution_count": 7,
   "metadata": {
    "collapsed": false
   },
   "outputs": [],
   "source": [
    "with open(\"./CLUSTER_MANAGER_ENDPOINT\",'r') as f:\n",
    "    cm_endpoint = f.read()[:-1]\n",
    "\n",
    "with open(\"../cluster-manager/cluster-manager-client-secret.txt\",'r') as f:\n",
    "    cm_client_secret = f.readline()[:-1]\n",
    "\n",
    "with open(\"./API_ENDPOINT\",'r') as f:\n",
    "    api_endpoint  = f.read()[:-1]\n",
    "\n",
    "with open(\"./config/deployment_ts.json\",'r') as f:\n",
    "    deployment_ts = json.loads(f.read())\n",
    "        \n",
    "with open(\"./config/deployment_eg.json\",'r') as f:\n",
    "    deployment_eg = json.loads(f.read())\n",
    "    \n",
    "with open(\"./config/deployment_contextual_ts.json\",'r') as f:\n",
    "    deployment_cts = json.loads(f.read())\n",
    "\n",
    "api_ts_client_key = deployment_ts[\"oauth_key\"]\n",
    "api_ts_client_secret = deployment_ts[\"oauth_secret\"]\n",
    "\n",
    "api_eg_client_key = deployment_eg[\"oauth_key\"]\n",
    "api_eg_client_secret = deployment_eg[\"oauth_secret\"]\n",
    "\n",
    "api_cts_client_key = deployment_cts[\"oauth_key\"]\n",
    "api_cts_client_secret = deployment_cts[\"oauth_secret\"]\n"
   ]
  },
  {
   "cell_type": "code",
   "execution_count": 8,
   "metadata": {
    "collapsed": false
   },
   "outputs": [],
   "source": [
    "cmc = ClusterManagerClient(cm_endpoint,\"client\",cm_client_secret)"
   ]
  },
  {
   "cell_type": "code",
   "execution_count": 9,
   "metadata": {
    "collapsed": false,
    "scrolled": true
   },
   "outputs": [
    {
     "data": {
      "text/plain": [
       "u'authpong'"
      ]
     },
     "execution_count": 9,
     "metadata": {},
     "output_type": "execute_result"
    }
   ],
   "source": [
    "cmc.authping()"
   ]
  },
  {
   "cell_type": "code",
   "execution_count": 10,
   "metadata": {
    "collapsed": true
   },
   "outputs": [],
   "source": [
    "created_deployment_ts = cmc.create_deployment(deployment_ts)"
   ]
  },
  {
   "cell_type": "code",
   "execution_count": 11,
   "metadata": {
    "collapsed": true
   },
   "outputs": [],
   "source": [
    "created_deployment_eg = cmc.create_deployment(deployment_eg)"
   ]
  },
  {
   "cell_type": "code",
   "execution_count": 12,
   "metadata": {
    "collapsed": true
   },
   "outputs": [],
   "source": [
    "created_deployment_cts = cmc.create_deployment(deployment_cts)"
   ]
  },
  {
   "cell_type": "code",
   "execution_count": 28,
   "metadata": {
    "collapsed": false
   },
   "outputs": [
    {
     "data": {
      "text/plain": [
       "{u'cmstatus': {u'code': 200,\n",
       "  u'info': u'',\n",
       "  u'reason': u'',\n",
       "  u'status': u'SUCCESS'}}"
      ]
     },
     "execution_count": 28,
     "metadata": {},
     "output_type": "execute_result"
    }
   ],
   "source": [
    "cmc.delete_deployment(1)\n",
    "cmc.delete_deployment(2)"
   ]
  },
  {
   "cell_type": "code",
   "execution_count": 29,
   "metadata": {
    "collapsed": false
   },
   "outputs": [
    {
     "data": {
      "text/plain": [
       "{u'cmstatus': {u'code': 200,\n",
       "  u'info': u'',\n",
       "  u'reason': u'',\n",
       "  u'status': u'SUCCESS'}}"
      ]
     },
     "execution_count": 29,
     "metadata": {},
     "output_type": "execute_result"
    }
   ],
   "source": [
    "cmc.delete_deployment(3)"
   ]
  },
  {
   "cell_type": "code",
   "execution_count": 13,
   "metadata": {
    "collapsed": false
   },
   "outputs": [],
   "source": [
    "client_ts = APIFrontEndClient(api_endpoint,api_ts_client_key,api_ts_client_secret)\n",
    "\n",
    "client_eg = APIFrontEndClient(api_endpoint,api_eg_client_key,api_eg_client_secret)\n",
    "\n",
    "client_cts = APIFrontEndClient(api_endpoint,api_cts_client_key,api_cts_client_secret)"
   ]
  },
  {
   "cell_type": "code",
   "execution_count": 14,
   "metadata": {
    "collapsed": false
   },
   "outputs": [
    {
     "name": "stdout",
     "output_type": "stream",
     "text": [
      "pong\n",
      "pong\n",
      "pong\n",
      "pong\n"
     ]
    }
   ],
   "source": [
    "print cmc.ping()\n",
    "print client_ts.ping()\n",
    "print client_cts.ping()\n",
    "print client_eg.ping()"
   ]
  },
  {
   "cell_type": "code",
   "execution_count": null,
   "metadata": {
    "collapsed": false
   },
   "outputs": [],
   "source": []
  },
  {
   "cell_type": "code",
   "execution_count": 15,
   "metadata": {
    "collapsed": true
   },
   "outputs": [],
   "source": [
    "request = {\n",
    "    'request':{\n",
    "        'features':['a','b'],\n",
    "        'ndarray':[[6,3]]\n",
    "    },\n",
    "    'meta':{\n",
    "        'puid':'0',\n",
    "        'tags':{}\n",
    "    }\n",
    "}"
   ]
  },
  {
   "cell_type": "code",
   "execution_count": 16,
   "metadata": {
    "collapsed": false
   },
   "outputs": [
    {
     "data": {
      "text/plain": [
       "{u'meta': {u'puid': u'0', u'routing': {u'0': 0}},\n",
       " u'response': {u'features': [u'proba'], u'ndarray': [[0.8296760813561542]]}}"
      ]
     },
     "execution_count": 16,
     "metadata": {},
     "output_type": "execute_result"
    }
   ],
   "source": [
    "client_ts.predictions(request)"
   ]
  },
  {
   "cell_type": "code",
   "execution_count": 17,
   "metadata": {
    "collapsed": false,
    "scrolled": false
   },
   "outputs": [
    {
     "data": {
      "text/plain": [
       "{u'meta': {u'puid': u'0', u'routing': {u'0': 0}},\n",
       " u'response': {u'features': [u'proba'], u'ndarray': [[0.8296760813561542]]}}"
      ]
     },
     "execution_count": 17,
     "metadata": {},
     "output_type": "execute_result"
    }
   ],
   "source": [
    "client_eg.predictions(request)"
   ]
  },
  {
   "cell_type": "code",
   "execution_count": 19,
   "metadata": {
    "collapsed": false
   },
   "outputs": [
    {
     "name": "stdout",
     "output_type": "stream",
     "text": [
      "{u'meta': {u'puid': u'0', u'routing': {u'0': 0}}, u'response': {u'features': [u'proba'], u'ndarray': [[0.8296760813561542]]}}\n"
     ]
    }
   ],
   "source": [
    "response = client_cts.predictions(request)\n",
    "print response"
   ]
  },
  {
   "cell_type": "code",
   "execution_count": null,
   "metadata": {
    "collapsed": false
   },
   "outputs": [],
   "source": []
  },
  {
   "cell_type": "code",
   "execution_count": 256,
   "metadata": {
    "collapsed": true
   },
   "outputs": [],
   "source": [
    "feedback = {\n",
    "    \"request\":request,\n",
    "    \"response\":response,\n",
    "    \"reward\":1\n",
    "}\n",
    "feedback_to_tensor(feedback)"
   ]
  },
  {
   "cell_type": "code",
   "execution_count": 280,
   "metadata": {
    "collapsed": false
   },
   "outputs": [
    {
     "data": {
      "text/plain": [
       "u''"
      ]
     },
     "execution_count": 280,
     "metadata": {},
     "output_type": "execute_result"
    }
   ],
   "source": [
    "client_cts.feedback(feedback)"
   ]
  },
  {
   "cell_type": "code",
   "execution_count": 19,
   "metadata": {
    "collapsed": true
   },
   "outputs": [],
   "source": [
    "import redis\n",
    "import cPickle as pickle"
   ]
  },
  {
   "cell_type": "code",
   "execution_count": 20,
   "metadata": {
    "collapsed": true
   },
   "outputs": [],
   "source": [
    "client = redis.StrictRedis(host=\"localhost\")"
   ]
  },
  {
   "cell_type": "code",
   "execution_count": 21,
   "metadata": {
    "collapsed": false
   },
   "outputs": [
    {
     "data": {
      "text/plain": [
       "['client_id_to_access:client',\n",
       " 'ts_test2_0',\n",
       " 'auth_to_access:b28100e27b4eb22eac98fc9908934891',\n",
       " 'access:f6a5f294-fbc3-4841-b8d9-e59b74155a87',\n",
       " 'auth:f6a5f294-fbc3-4841-b8d9-e59b74155a87',\n",
       " 'ts_test3_0',\n",
       " 'auth:d2c03160-0284-4461-814b-afb676254641',\n",
       " '0_0',\n",
       " 'client_id_to_access:key2',\n",
       " 'auth:fb7f9398-db36-4e63-93be-80fbf497f03e',\n",
       " 'access:d2c03160-0284-4461-814b-afb676254641',\n",
       " 'client_id_to_access:key1',\n",
       " 'auth_to_access:fac38d18e76754989f6248004dc851ce',\n",
       " 'access:b7364c3a-148c-460f-bffe-5d79c3b82a33',\n",
       " 'auth:b7364c3a-148c-460f-bffe-5d79c3b82a33',\n",
       " 'auth_to_access:ee16db94e195840785e8cd7b3456eff4',\n",
       " 'ts_test1_0',\n",
       " 'client_id_to_access:key3',\n",
       " 'access:fb7f9398-db36-4e63-93be-80fbf497f03e',\n",
       " 'auth_to_access:70f17159d1eb538b6a9717a10ded2fcb']"
      ]
     },
     "execution_count": 21,
     "metadata": {},
     "output_type": "execute_result"
    }
   ],
   "source": [
    "client.keys()"
   ]
  },
  {
   "cell_type": "code",
   "execution_count": 33,
   "metadata": {
    "collapsed": false,
    "scrolled": false
   },
   "outputs": [
    {
     "data": {
      "text/plain": [
       "{'B': [array([[  1343.,   8052.,   4026.],\n",
       "         [  8052.,  48313.,  24156.],\n",
       "         [  4026.,  24156.,  12079.]]), array([[   4742.,   28446.,   14223.],\n",
       "         [  28446.,  170677.,   85338.],\n",
       "         [  14223.,   85338.,   42670.]]), array([[   451.,   2700.,   1350.],\n",
       "         [  2700.,  16201.,   8100.],\n",
       "         [  1350.,   8100.,   4051.]])],\n",
       " 'B1': [array([[ 0.97826122, -0.13043267, -0.06521633],\n",
       "         [-0.13043267,  0.21740398, -0.39129801],\n",
       "         [-0.06521633, -0.39129801,  0.804351  ]]),\n",
       "  array([[ 0.97826097, -0.13043418, -0.06521709],\n",
       "         [-0.13043418,  0.21739489, -0.39130255],\n",
       "         [-0.06521709, -0.39130255,  0.80434872]]),\n",
       "  array([[ 0.97826192, -0.13042848, -0.06521424],\n",
       "         [-0.13042848,  0.21742911, -0.39128545],\n",
       "         [-0.06521424, -0.39128545,  0.80435728]])],\n",
       " 'R': 1,\n",
       " 'br': [array([ 1022.,  6132.,  3066.]),\n",
       "  array([  4227.,  25362.,  12681.]),\n",
       "  array([  234.,  1404.,   702.])],\n",
       " 'delta': 0.05,\n",
       " 'p': 3,\n",
       " 'setup': True,\n",
       " 't': [1342, 4741, 450],\n",
       " 'u': [array([ 0.01655516,  0.09933099,  0.04966549]),\n",
       "  array([ 0.01938217,  0.11629304,  0.05814652]),\n",
       "  array([ 0.0113038 ,  0.06782281,  0.03391141])]}"
      ]
     },
     "execution_count": 33,
     "metadata": {},
     "output_type": "execute_result"
    }
   ],
   "source": [
    "pickle.loads(client.get(\"ts_test3_0\"))"
   ]
  },
  {
   "cell_type": "code",
   "execution_count": 23,
   "metadata": {
    "collapsed": false
   },
   "outputs": [
    {
     "data": {
      "text/plain": [
       "{'best_branch': 0,\n",
       " 'branches_success': [0, 0, 0],\n",
       " 'branches_tries': [0, 0, 0],\n",
       " 'epsilon': 0.05}"
      ]
     },
     "execution_count": 23,
     "metadata": {},
     "output_type": "execute_result"
    }
   ],
   "source": [
    "pickle.loads(client.get(\"ts_test2_0\"))"
   ]
  },
  {
   "cell_type": "code",
   "execution_count": 24,
   "metadata": {
    "collapsed": false
   },
   "outputs": [
    {
     "data": {
      "text/plain": [
       "{'models_beta_params': [[1, 1], [3, 1], [1, 1]]}"
      ]
     },
     "execution_count": 24,
     "metadata": {},
     "output_type": "execute_result"
    }
   ],
   "source": [
    "pickle.loads(client.get(\"ts_test1_0\"))"
   ]
  },
  {
   "cell_type": "code",
   "execution_count": 301,
   "metadata": {
    "collapsed": false
   },
   "outputs": [
    {
     "data": {
      "text/plain": [
       "1"
      ]
     },
     "execution_count": 301,
     "metadata": {},
     "output_type": "execute_result"
    }
   ],
   "source": [
    "client.delete(\"ts_test3_0\")"
   ]
  },
  {
   "cell_type": "code",
   "execution_count": 302,
   "metadata": {
    "collapsed": false
   },
   "outputs": [
    {
     "data": {
      "text/plain": [
       "1"
      ]
     },
     "execution_count": 302,
     "metadata": {},
     "output_type": "execute_result"
    }
   ],
   "source": [
    "client.delete(\"ts_test2_0\")"
   ]
  },
  {
   "cell_type": "code",
   "execution_count": 303,
   "metadata": {
    "collapsed": false
   },
   "outputs": [
    {
     "data": {
      "text/plain": [
       "1"
      ]
     },
     "execution_count": 303,
     "metadata": {},
     "output_type": "execute_result"
    }
   ],
   "source": [
    "client.delete(\"ts_test1_0\")"
   ]
  },
  {
   "cell_type": "code",
   "execution_count": 20,
   "metadata": {
    "collapsed": true
   },
   "outputs": [],
   "source": [
    "import threading\n",
    "\n",
    "from ipywidgets import widgets\n",
    "\n",
    "from IPython import display\n",
    "import time"
   ]
  },
  {
   "cell_type": "code",
   "execution_count": 21,
   "metadata": {
    "collapsed": false
   },
   "outputs": [],
   "source": [
    "def get_routing_and_reward(client,probabilities):\n",
    "    prediction = client.predictions(request)\n",
    "    routing = prediction['meta']['routing']['0']\n",
    "    reward = int(np.random.rand()<probabilities[routing])\n",
    "    return routing,reward,prediction\n",
    "\n",
    "def send_feedback(client,prediction,reward):\n",
    "    feedback = {\n",
    "        \"request\":request,\n",
    "        \"response\":prediction,\n",
    "        \"reward\":reward\n",
    "    }\n",
    "    feedback_to_tensor(feedback)\n",
    "    client.feedback(feedback)\n",
    "    \n",
    "def plot_all(routings1,routings2,rewards1,rewards2,regrets1,regrets2,N):\n",
    "    colors1 = ['g' if rew else 'r' for rew in rewards1]\n",
    "    colors2 = ['g' if rew else 'r' for rew in rewards2]\n",
    "\n",
    "    fig,(ax1,ax2,ax3) = plt.subplots(3,1,figsize=(10,8),sharex=True)\n",
    "\n",
    "    x_range = np.arange(max(len(routings1)-N,0),len(routings1))\n",
    "    \n",
    "    ax1.plot(x_range,np.cumsum(regrets1)[-N:],label='Thomson Sampling')\n",
    "    ax1.plot(x_range,np.cumsum(regrets2)[-N:],label='Epsilon Greedy')\n",
    "    ax2.scatter(x_range,routings1[-N:],linewidth=0,c=colors1[-N:])\n",
    "    ax3.scatter(x_range,routings2[-N:],linewidth=0,c=colors2[-N:])\n",
    "    ax1.legend()\n",
    "    ax1.set_xlim(x_range[0],x_range[-1])\n",
    "    ax2.set_ylim(-1,3)\n",
    "    ax3.set_ylim(-1,3)\n",
    "    \n",
    "    yTickMarks = [\"A\",\"B\",\"C\"]\n",
    "    ax2.set_yticks(xrange(len(yTickMarks)))\n",
    "    ax2.set_yticklabels(yTickMarks)\n",
    "    \n",
    "    ax3.set_yticks(xrange(len(yTickMarks)))\n",
    "    ax3.set_yticklabels(yTickMarks)\n",
    "    \n",
    "    ax1.set_title(\"Cumulative Regret\")\n",
    "    ax2.set_title(\"Thomson Sampling Routing\")\n",
    "    ax3.set_title(\"Epsilon Greedy Routing\")"
   ]
  },
  {
   "cell_type": "code",
   "execution_count": 26,
   "metadata": {
    "collapsed": false,
    "scrolled": false
   },
   "outputs": [],
   "source": [
    "class PlotThread(threading.Thread):\n",
    "    def run(self):\n",
    "        routings_eg = []\n",
    "        rewards_eg = []\n",
    "        regrets_eg = []\n",
    "        predictions_eg = []\n",
    "\n",
    "        routings_ts = []\n",
    "        rewards_ts = []\n",
    "        regrets_ts = []\n",
    "        predictions_ts = []\n",
    "\n",
    "        while True:\n",
    "            if parameters['kill']:\n",
    "                break\n",
    "#             print parameters['started']\n",
    "            probabilities = parameters['probabilities']\n",
    "\n",
    "            max_proba = max(probabilities.values())\n",
    "            regret_dict = {k:max_proba-proba for k,proba in  probabilities.items()}\n",
    "\n",
    "            if parameters['started']:\n",
    "                routing_eg,reward_eg,prediction_eg = get_routing_and_reward(client_eg,probabilities)\n",
    "                routing_ts,reward_ts,prediction_ts = get_routing_and_reward(client_ts,probabilities)\n",
    "\n",
    "                regret_ts = regret_dict[routing_ts]\n",
    "                regret_eg = regret_dict[routing_eg]\n",
    "\n",
    "                routings_eg.append(routing_eg)\n",
    "                rewards_eg.append(reward_eg)\n",
    "                regrets_eg.append(regret_eg)\n",
    "                predictions_eg.append(prediction_eg)\n",
    "\n",
    "                routings_ts.append(routing_ts)\n",
    "                rewards_ts.append(reward_ts)\n",
    "                regrets_ts.append(regret_ts)\n",
    "                predictions_ts.append(prediction_ts)\n",
    "\n",
    "                if len(routings_eg)>parameters[\"delay_feedback\"]:\n",
    "                    send_feedback(client_ts,predictions_ts[-parameters[\"delay_feedback\"]],rewards_ts[-parameters[\"delay_feedback\"]])\n",
    "                    send_feedback(client_eg,predictions_eg[-parameters[\"delay_feedback\"]],rewards_eg[-parameters[\"delay_feedback\"]])\n",
    "\n",
    "                display.clear_output(wait=True)\n",
    "                plot_all(routings_ts,routings_eg,rewards_ts,rewards_eg,regrets_ts,regrets_eg,N=100)\n",
    "                plt.show()\n",
    "#                 print i\n",
    "            time.sleep(parameters['time_sleep'])\n",
    "        print 'Ended'\n"
   ]
  },
  {
   "cell_type": "code",
   "execution_count": 27,
   "metadata": {
    "collapsed": false,
    "scrolled": false
   },
   "outputs": [
    {
     "data": {
      "image/png": "[encoded data removed]",
      "text/plain": [
       "<matplotlib.figure.Figure at 0x7f0fa3920b50>"
      ]
     },
     "metadata": {},
     "output_type": "display_data"
    },
    {
     "data": {
      "image/png": "[encoded data removed]",
      "text/plain": [
       "<matplotlib.figure.Figure at 0x7f0fa3920b50>"
      ]
     },
     "metadata": {},
     "output_type": "display_data"
    }
   ],
   "source": [
    "parameters = {\n",
    "    'probabilities':{\n",
    "        0:0.75,\n",
    "        1:0.89,\n",
    "        2:0.51\n",
    "    },\n",
    "    'delay_feedback':5,\n",
    "    'time_sleep':0.1,\n",
    "    'started':False,\n",
    "    'kill':False\n",
    "}\n",
    "\n",
    "button_start = widgets.Button(description=\"STOP\" if parameters[\"started\"] else \"START\")\n",
    "button_kill = widgets.Button(description=\"KILL\")\n",
    "slider_A = widgets.FloatSlider(\n",
    "    value=parameters['probabilities'][0],\n",
    "    min=0,\n",
    "    max=1,\n",
    "    step=0.05,\n",
    "    description=\"Model A\",\n",
    "    continuous_update=False)\n",
    "slider_B = widgets.FloatSlider(\n",
    "    value=parameters['probabilities'][1],\n",
    "    min=0,\n",
    "    max=1,\n",
    "    step=0.05,\n",
    "    description=\"Model B\",\n",
    "    continuous_update=False)\n",
    "slider_C = widgets.FloatSlider(\n",
    "    value=parameters['probabilities'][2],\n",
    "    min=0,\n",
    "    max=1,\n",
    "    step=0.05,\n",
    "    description=\"Model C\",\n",
    "    continuous_update=False)\n",
    "\n",
    "def on_click_start(b):\n",
    "    parameters['started']=parameters['started']==False\n",
    "    b.description=\"STOP\" if parameters[\"started\"] else \"START\"\n",
    "    \n",
    "def on_click_kill(b):\n",
    "    parameters['kill']=True\n",
    "    \n",
    "def on_update_slider_A(s):\n",
    "    parameters['probabilities'][0] = slider_A.value\n",
    "\n",
    "def on_update_slider_B(s):\n",
    "    parameters['probabilities'][1] = slider_B.value\n",
    "\n",
    "def on_update_slider_C(s):\n",
    "    parameters['probabilities'][2] = slider_C.value\n",
    "    \n",
    "button_start.on_click(on_click_start)\n",
    "button_kill.on_click(on_click_kill)\n",
    "\n",
    "slider_A.observe(on_update_slider_A)\n",
    "slider_B.observe(on_update_slider_B)\n",
    "slider_C.observe(on_update_slider_C)\n",
    "\n",
    "display.display(button_start)\n",
    "display.display(button_kill)\n",
    "\n",
    "display.display(slider_A)\n",
    "display.display(slider_B)\n",
    "display.display(slider_C)\n",
    "\n",
    "plot_thread = PlotThread()\n",
    "_ = plot_thread.start()"
   ]
  },
  {
   "cell_type": "code",
   "execution_count": null,
   "metadata": {
    "collapsed": true
   },
   "outputs": [],
   "source": []
  },
  {
   "cell_type": "code",
   "execution_count": null,
   "metadata": {
    "collapsed": true
   },
   "outputs": [],
   "source": []
  }
 ],
 "metadata": {
  "anaconda-cloud": {},
  "kernelspec": {
   "display_name": "Python [default]",
   "language": "python",
   "name": "python2"
  },
  "language_info": {
   "codemirror_mode": {
    "name": "ipython",
    "version": 2
   },
   "file_extension": ".py",
   "mimetype": "text/x-python",
   "name": "python",
   "nbconvert_exporter": "python",
   "pygments_lexer": "ipython2",
   "version": "2.7.12"
  },
  "widgets": {
   "state": {
    "262c76ca9b8b4faca5f896a507d1c4fa": {
     "views": [
      {
       "cell_index": 36
      }
     ]
    },
    "3f1f6bf9fa5c44afb0675dd7796970be": {
     "views": [
      {
       "cell_index": 36
      }
     ]
    },
    "48110e22bf064ff4a56c5bbab14fb834": {
     "views": [
      {
       "cell_index": 36
      }
     ]
    },
    "5d103622f200473491c2623b16c4694d": {
     "views": [
      {
       "cell_index": 36
      }
     ]
    },
    "697c498bb41e4f2a98dc0d5692321c45": {
     "views": [
      {
       "cell_index": 36
      }
     ]
    },
    "8b196a2275ca4a0da11a03416d244995": {
     "views": [
      {
       "cell_index": 36
      }
     ]
    },
    "9abca42b0d9a484c8bdadd7d6da3c67c": {
     "views": [
      {
       "cell_index": 36
      }
     ]
    },
    "ae069912050f46b5b6cc23d778fbbca6": {
     "views": [
      {
       "cell_index": 36
      }
     ]
    },
    "c32da160a5cf4b7bbfb079e5e2b7b4ff": {
     "views": [
      {
       "cell_index": 36
      }
     ]
    },
    "d417a41ab7e8439380fe433d37fe0c2a": {
     "views": [
      {
       "cell_index": 36
      }
     ]
    },
    "e812255da6224e7cbf374cced704788a": {
     "views": [
      {
       "cell_index": 36
      }
     ]
    }
   },
   "version": "1.2.0"
  }
 },
 "nbformat": 4,
 "nbformat_minor": 1
}
