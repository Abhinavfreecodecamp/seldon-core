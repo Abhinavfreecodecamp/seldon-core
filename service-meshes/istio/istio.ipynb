{
 "cells": [
  {
   "cell_type": "markdown",
   "id": "ignored-upper",
   "metadata": {},
   "source": [
    "# Istio Examples\n",
    "\n",
    "Assumes\n",
    "\n",
    " * You have installed istio as per their docs\n",
    " * You have exposed the ingressgateway as an external loadbalancer"
   ]
  },
  {
   "cell_type": "code",
   "execution_count": 76,
   "id": "arabic-april",
   "metadata": {},
   "outputs": [
    {
     "data": {
      "text/plain": [
       "'172.18.255.1'"
      ]
     },
     "execution_count": 76,
     "metadata": {},
     "output_type": "execute_result"
    }
   ],
   "source": [
    "INGRESS_IP=!kubectl get svc istio-ingressgateway -n istio-system -o jsonpath='{.status.loadBalancer.ingress[0].ip}'\n",
    "INGRESS_IP=INGRESS_IP[0]\n",
    "import os\n",
    "os.environ['INGRESS_IP'] = INGRESS_IP\n",
    "INGRESS_IP"
   ]
  },
  {
   "cell_type": "markdown",
   "id": "excessive-garlic",
   "metadata": {},
   "source": [
    "## Istio Single Model Example"
   ]
  },
  {
   "cell_type": "code",
   "execution_count": 77,
   "id": "present-lightning",
   "metadata": {
    "scrolled": true
   },
   "outputs": [
    {
     "name": "stdout",
     "output_type": "stream",
     "text": [
      "apiVersion: mlops.seldon.io/v1alpha1\r\n",
      "kind: Model\r\n",
      "metadata:\r\n",
      "  name: iris\r\n",
      "  namespace: seldon-mesh\r\n",
      "spec:\r\n",
      "  requirements:\r\n",
      "  - sklearn\r\n",
      "  storageUri: gs://seldon-models/mlserver/iris\r\n",
      "---\r\n",
      "apiVersion: networking.istio.io/v1beta1\r\n",
      "kind: Gateway\r\n",
      "metadata:\r\n",
      "  name: seldon-gateway\r\n",
      "  namespace: seldon-mesh\r\n",
      "spec:\r\n",
      "  selector:\r\n",
      "    app: istio-ingressgateway\r\n",
      "    istio: ingressgateway\r\n",
      "  servers:\r\n",
      "  - hosts:\r\n",
      "    - '*'\r\n",
      "    port:\r\n",
      "      name: http\r\n",
      "      number: 80\r\n",
      "      protocol: HTTP\r\n",
      "  - hosts:\r\n",
      "    - '*'\r\n",
      "    port:\r\n",
      "      name: https\r\n",
      "      number: 443\r\n",
      "      protocol: HTTPS\r\n",
      "    tls:\r\n",
      "      mode: SIMPLE\r\n",
      "      privateKey: /etc/istio/ingressgateway-certs/tls.key\r\n",
      "      serverCertificate: /etc/istio/ingressgateway-certs/tls.crt\r\n",
      "---\r\n",
      "apiVersion: networking.istio.io/v1beta1\r\n",
      "kind: VirtualService\r\n",
      "metadata:\r\n",
      "  name: iris-route\r\n",
      "  namespace: seldon-mesh\r\n",
      "spec:\r\n",
      "  gateways:\r\n",
      "  - istio-system/seldon-gateway\r\n",
      "  hosts:\r\n",
      "  - '*'\r\n",
      "  http:\r\n",
      "  - match:\r\n",
      "    - uri:\r\n",
      "        prefix: /v2\r\n",
      "    name: iris-http\r\n",
      "    route:\r\n",
      "    - destination:\r\n",
      "        host: seldon-mesh.seldon-mesh.svc.cluster.local\r\n",
      "      headers:\r\n",
      "        request:\r\n",
      "          set:\r\n",
      "            seldon-model: iris\r\n",
      "  - match:\r\n",
      "    - uri:\r\n",
      "        prefix: /inference.GRPCInferenceService\r\n",
      "    name: iris-grpc\r\n",
      "    route:\r\n",
      "    - destination:\r\n",
      "        host: seldon-mesh.seldon-mesh.svc.cluster.local\r\n",
      "      headers:\r\n",
      "        request:\r\n",
      "          set:\r\n",
      "            seldon-model: iris\r\n"
     ]
    }
   ],
   "source": [
    "!kustomize build config/single-model"
   ]
  },
  {
   "cell_type": "code",
   "execution_count": 106,
   "id": "satellite-canadian",
   "metadata": {
    "scrolled": true
   },
   "outputs": [
    {
     "name": "stdout",
     "output_type": "stream",
     "text": [
      "model.mlops.seldon.io/iris unchanged\r\n",
      "gateway.networking.istio.io/seldon-gateway unchanged\r\n",
      "virtualservice.networking.istio.io/iris-route configured\r\n"
     ]
    }
   ],
   "source": [
    "!kustomize build config/single-model | kubectl apply -f -"
   ]
  },
  {
   "cell_type": "code",
   "execution_count": 107,
   "id": "silent-objective",
   "metadata": {},
   "outputs": [
    {
     "name": "stdout",
     "output_type": "stream",
     "text": [
      "model.mlops.seldon.io/iris condition met\r\n"
     ]
    }
   ],
   "source": [
    "!kubectl wait --for condition=ready --timeout=300s model --all -n seldon-mesh"
   ]
  },
  {
   "cell_type": "code",
   "execution_count": 108,
   "id": "clean-primary",
   "metadata": {},
   "outputs": [
    {
     "name": "stdout",
     "output_type": "stream",
     "text": [
      "* Expire in 0 ms for 6 (transfer 0x55ecde2244f0)\r\n",
      "*   Trying 172.18.255.1...\r\n",
      "* TCP_NODELAY set\r\n",
      "* Expire in 200 ms for 4 (transfer 0x55ecde2244f0)\r\n",
      "* Connected to 172.18.255.1 (172.18.255.1) port 80 (#0)\r\n",
      "> POST /v2/models/iris/infer HTTP/1.1\r",
      "\r\n",
      "> Host: 172.18.255.1\r",
      "\r\n",
      "> User-Agent: curl/7.64.0\r",
      "\r\n",
      "> Accept: */*\r",
      "\r\n",
      "> Content-Type: application/json\r",
      "\r\n",
      "> Content-Length: 94\r",
      "\r\n",
      "> \r",
      "\r\n",
      "* upload completely sent off: 94 out of 94 bytes\r\n",
      "< HTTP/1.1 200 OK\r",
      "\r\n",
      "< date: Mon, 24 Jan 2022 17:59:11 GMT\r",
      "\r\n",
      "< server: istio-envoy\r",
      "\r\n",
      "< content-length: 194\r",
      "\r\n",
      "< content-type: application/json\r",
      "\r\n",
      "< x-envoy-upstream-service-time: 5\r",
      "\r\n",
      "< \r",
      "\r\n",
      "* Connection #0 to host 172.18.255.1 left intact\r\n",
      "{\"model_name\":\"iris\",\"model_version\":\"1\",\"id\":\"9079b231-6467-45fe-9c1d-47734b81ec98\",\"parameters\":null,\"outputs\":[{\"name\":\"predict\",\"shape\":[1],\"datatype\":\"INT64\",\"parameters\":null,\"data\":[2]}]}"
     ]
    }
   ],
   "source": [
    "!curl -v http://${INGRESS_IP}/v2/models/iris/infer -H \"Content-Type: application/json\" \\\n",
    "        -d '{\"inputs\": [{\"name\": \"predict\", \"shape\": [1, 4], \"datatype\": \"FP32\", \"data\": [[1, 2, 3, 4]]}]}'"
   ]
  },
  {
   "cell_type": "code",
   "execution_count": 110,
   "id": "greek-penny",
   "metadata": {},
   "outputs": [
    {
     "name": "stdout",
     "output_type": "stream",
     "text": [
      "{\r\n",
      "  \"modelName\": \"iris\",\r\n",
      "  \"modelVersion\": \"1\",\r\n",
      "  \"outputs\": [\r\n",
      "    {\r\n",
      "      \"name\": \"predict\",\r\n",
      "      \"datatype\": \"INT64\",\r\n",
      "      \"shape\": [\r\n",
      "        \"1\"\r\n",
      "      ],\r\n",
      "      \"contents\": {\r\n",
      "        \"int64Contents\": [\r\n",
      "          \"2\"\r\n",
      "        ]\r\n",
      "      }\r\n",
      "    }\r\n",
      "  ]\r\n",
      "}\r\n"
     ]
    }
   ],
   "source": [
    "!cd ../../scheduler/v2/ && \\\n",
    "    grpcurl -d '{\"model_name\":\"iris\",\"inputs\":[{\"name\":\"input\",\"contents\":{\"fp32_contents\":[1,2,3,4]},\"datatype\":\"FP32\",\"shape\":[1,4]}]}' \\\n",
    "        -plaintext \\\n",
    "        -proto grpc_service.proto \\\n",
    "       ${INGRESS_IP}:80 inference.GRPCInferenceService/ModelInfer"
   ]
  },
  {
   "cell_type": "code",
   "execution_count": 111,
   "id": "durable-profession",
   "metadata": {},
   "outputs": [
    {
     "name": "stdout",
     "output_type": "stream",
     "text": [
      "model.mlops.seldon.io \"iris\" deleted\r\n",
      "gateway.networking.istio.io \"seldon-gateway\" deleted\r\n",
      "virtualservice.networking.istio.io \"iris-route\" deleted\r\n"
     ]
    }
   ],
   "source": [
    "!kustomize build config/single-model | kubectl delete -f -"
   ]
  },
  {
   "cell_type": "markdown",
   "id": "vulnerable-enterprise",
   "metadata": {},
   "source": [
    "## Traffic Split Two Models"
   ]
  },
  {
   "cell_type": "code",
   "execution_count": 112,
   "id": "practical-russia",
   "metadata": {
    "scrolled": true
   },
   "outputs": [
    {
     "name": "stdout",
     "output_type": "stream",
     "text": [
      "apiVersion: mlops.seldon.io/v1alpha1\r\n",
      "kind: Model\r\n",
      "metadata:\r\n",
      "  name: iris1\r\n",
      "  namespace: seldon-mesh\r\n",
      "spec:\r\n",
      "  requirements:\r\n",
      "  - sklearn\r\n",
      "  storageUri: gs://seldon-models/mlserver/iris\r\n",
      "---\r\n",
      "apiVersion: mlops.seldon.io/v1alpha1\r\n",
      "kind: Model\r\n",
      "metadata:\r\n",
      "  name: iris2\r\n",
      "  namespace: seldon-mesh\r\n",
      "spec:\r\n",
      "  requirements:\r\n",
      "  - sklearn\r\n",
      "  storageUri: gs://seldon-models/mlserver/iris\r\n",
      "---\r\n",
      "apiVersion: networking.istio.io/v1beta1\r\n",
      "kind: Gateway\r\n",
      "metadata:\r\n",
      "  name: seldon-gateway\r\n",
      "  namespace: seldon-mesh\r\n",
      "spec:\r\n",
      "  selector:\r\n",
      "    app: istio-ingressgateway\r\n",
      "    istio: ingressgateway\r\n",
      "  servers:\r\n",
      "  - hosts:\r\n",
      "    - '*'\r\n",
      "    port:\r\n",
      "      name: http\r\n",
      "      number: 80\r\n",
      "      protocol: HTTP\r\n",
      "  - hosts:\r\n",
      "    - '*'\r\n",
      "    port:\r\n",
      "      name: https\r\n",
      "      number: 443\r\n",
      "      protocol: HTTPS\r\n",
      "    tls:\r\n",
      "      mode: SIMPLE\r\n",
      "      privateKey: /etc/istio/ingressgateway-certs/tls.key\r\n",
      "      serverCertificate: /etc/istio/ingressgateway-certs/tls.crt\r\n",
      "---\r\n",
      "apiVersion: networking.istio.io/v1beta1\r\n",
      "kind: VirtualService\r\n",
      "metadata:\r\n",
      "  name: iris-route\r\n",
      "  namespace: seldon-mesh\r\n",
      "spec:\r\n",
      "  gateways:\r\n",
      "  - istio-system/seldon-gateway\r\n",
      "  hosts:\r\n",
      "  - '*'\r\n",
      "  http:\r\n",
      "  - match:\r\n",
      "    - uri:\r\n",
      "        prefix: /v2/models/iris\r\n",
      "    name: iris-http\r\n",
      "    route:\r\n",
      "    - destination:\r\n",
      "        host: seldon-mesh.seldon-mesh.svc.cluster.local\r\n",
      "      headers:\r\n",
      "        request:\r\n",
      "          set:\r\n",
      "            seldon-model: iris1\r\n",
      "      weight: 50\r\n",
      "    - destination:\r\n",
      "        host: seldon-mesh.seldon-mesh.svc.cluster.local\r\n",
      "      headers:\r\n",
      "        request:\r\n",
      "          set:\r\n",
      "            seldon-model: iris2\r\n",
      "      weight: 50\r\n",
      "  - match:\r\n",
      "    - uri:\r\n",
      "        prefix: /inference.GRPCInferenceService\r\n",
      "    name: iris-grpc\r\n",
      "    route:\r\n",
      "    - destination:\r\n",
      "        host: seldon-mesh.seldon-mesh.svc.cluster.local\r\n",
      "      headers:\r\n",
      "        request:\r\n",
      "          set:\r\n",
      "            seldon-model: iris1\r\n",
      "      weight: 50\r\n",
      "    - destination:\r\n",
      "        host: seldon-mesh.seldon-mesh.svc.cluster.local\r\n",
      "      headers:\r\n",
      "        request:\r\n",
      "          set:\r\n",
      "            seldon-model: iris2\r\n",
      "      weight: 50\r\n"
     ]
    }
   ],
   "source": [
    "!kustomize build config/traffic-split"
   ]
  },
  {
   "cell_type": "code",
   "execution_count": 113,
   "id": "meaningful-toilet",
   "metadata": {
    "scrolled": true
   },
   "outputs": [
    {
     "name": "stdout",
     "output_type": "stream",
     "text": [
      "model.mlops.seldon.io/iris1 created\n",
      "model.mlops.seldon.io/iris2 created\n",
      "gateway.networking.istio.io/seldon-gateway created\n",
      "virtualservice.networking.istio.io/iris-route created\n"
     ]
    }
   ],
   "source": [
    "!kustomize build config/traffic-split | kubectl apply -f -"
   ]
  },
  {
   "cell_type": "code",
   "execution_count": 114,
   "id": "sophisticated-junior",
   "metadata": {},
   "outputs": [
    {
     "name": "stdout",
     "output_type": "stream",
     "text": [
      "model.mlops.seldon.io/iris1 condition met\r\n",
      "model.mlops.seldon.io/iris2 condition met\r\n"
     ]
    }
   ],
   "source": [
    "!kubectl wait --for condition=ready --timeout=300s model --all -n seldon-mesh"
   ]
  },
  {
   "cell_type": "code",
   "execution_count": 122,
   "id": "worthy-donna",
   "metadata": {},
   "outputs": [
    {
     "name": "stdout",
     "output_type": "stream",
     "text": [
      "* Expire in 0 ms for 6 (transfer 0x5577b596a4f0)\r\n",
      "*   Trying 172.18.255.1...\r\n",
      "* TCP_NODELAY set\r\n",
      "* Expire in 200 ms for 4 (transfer 0x5577b596a4f0)\r\n",
      "* Connected to 172.18.255.1 (172.18.255.1) port 80 (#0)\r\n",
      "> POST /v2/models/iris/infer HTTP/1.1\r",
      "\r\n",
      "> Host: 172.18.255.1\r",
      "\r\n",
      "> User-Agent: curl/7.64.0\r",
      "\r\n",
      "> Accept: */*\r",
      "\r\n",
      "> Content-Type: application/json\r",
      "\r\n",
      "> Content-Length: 94\r",
      "\r\n",
      "> \r",
      "\r\n",
      "* upload completely sent off: 94 out of 94 bytes\r\n",
      "< HTTP/1.1 200 OK\r",
      "\r\n",
      "< date: Mon, 24 Jan 2022 18:01:40 GMT\r",
      "\r\n",
      "< server: istio-envoy\r",
      "\r\n",
      "< content-length: 195\r",
      "\r\n",
      "< content-type: application/json\r",
      "\r\n",
      "< x-envoy-upstream-service-time: 5\r",
      "\r\n",
      "< \r",
      "\r\n",
      "* Connection #0 to host 172.18.255.1 left intact\r\n",
      "{\"model_name\":\"iris1\",\"model_version\":\"1\",\"id\":\"67f7735e-6e5a-486f-8743-229b84f05a49\",\"parameters\":null,\"outputs\":[{\"name\":\"predict\",\"shape\":[1],\"datatype\":\"INT64\",\"parameters\":null,\"data\":[2]}]}"
     ]
    }
   ],
   "source": [
    "!curl -v http://${INGRESS_IP}/v2/models/iris/infer -H \"Content-Type: application/json\" \\\n",
    "        -d '{\"inputs\": [{\"name\": \"predict\", \"shape\": [1, 4], \"datatype\": \"FP32\", \"data\": [[1, 2, 3, 4]]}]}'"
   ]
  },
  {
   "cell_type": "markdown",
   "id": "interesting-jaguar",
   "metadata": {},
   "source": [
    "### TODO model_name needs fixing"
   ]
  },
  {
   "cell_type": "code",
   "execution_count": 125,
   "id": "extensive-importance",
   "metadata": {},
   "outputs": [
    {
     "name": "stdout",
     "output_type": "stream",
     "text": [
      "{\r\n",
      "  \"modelName\": \"iris1\",\r\n",
      "  \"modelVersion\": \"1\",\r\n",
      "  \"outputs\": [\r\n",
      "    {\r\n",
      "      \"name\": \"predict\",\r\n",
      "      \"datatype\": \"INT64\",\r\n",
      "      \"shape\": [\r\n",
      "        \"1\"\r\n",
      "      ],\r\n",
      "      \"contents\": {\r\n",
      "        \"int64Contents\": [\r\n",
      "          \"2\"\r\n",
      "        ]\r\n",
      "      }\r\n",
      "    }\r\n",
      "  ]\r\n",
      "}\r\n"
     ]
    }
   ],
   "source": [
    "!cd ../../scheduler/v2/ && \\\n",
    "    grpcurl -d '{\"model_name\":\"iris1\",\"inputs\":[{\"name\":\"input\",\"contents\":{\"fp32_contents\":[1,2,3,4]},\"datatype\":\"FP32\",\"shape\":[1,4]}]}' \\\n",
    "        -plaintext \\\n",
    "        -proto grpc_service.proto \\\n",
    "       ${INGRESS_IP}:80 inference.GRPCInferenceService/ModelInfer"
   ]
  },
  {
   "cell_type": "code",
   "execution_count": 126,
   "id": "specific-american",
   "metadata": {},
   "outputs": [
    {
     "name": "stdout",
     "output_type": "stream",
     "text": [
      "model.mlops.seldon.io \"iris1\" deleted\n",
      "model.mlops.seldon.io \"iris2\" deleted\n",
      "gateway.networking.istio.io \"seldon-gateway\" deleted\n",
      "virtualservice.networking.istio.io \"iris-route\" deleted\n"
     ]
    }
   ],
   "source": [
    "!kustomize build config/traffic-split | kubectl delete -f -"
   ]
  },
  {
   "cell_type": "code",
   "execution_count": null,
   "id": "entitled-butter",
   "metadata": {},
   "outputs": [],
   "source": []
  }
 ],
 "metadata": {
  "kernelspec": {
   "display_name": "Python 3",
   "language": "python",
   "name": "python3"
  },
  "language_info": {
   "codemirror_mode": {
    "name": "ipython",
    "version": 3
   },
   "file_extension": ".py",
   "mimetype": "text/x-python",
   "name": "python",
   "nbconvert_exporter": "python",
   "pygments_lexer": "ipython3",
   "version": "3.7.4"
  }
 },
 "nbformat": 4,
 "nbformat_minor": 5
}
