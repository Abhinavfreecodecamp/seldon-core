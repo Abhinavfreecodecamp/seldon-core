{
 "cells": [
  {
   "cell_type": "markdown",
   "id": "fallen-score",
   "metadata": {},
   "source": [
    "# Ambassador Examples\n",
    "\n",
    "Assumes\n",
    "\n",
    " * You have installed emissary as per their docs"
   ]
  },
  {
   "cell_type": "code",
   "execution_count": 54,
   "id": "imperial-playing",
   "metadata": {},
   "outputs": [
    {
     "data": {
      "text/plain": [
       "'172.18.255.7'"
      ]
     },
     "execution_count": 54,
     "metadata": {},
     "output_type": "execute_result"
    }
   ],
   "source": [
    "INGRESS_IP=!kubectl get svc emissary-ingress -n emissary -o jsonpath='{.status.loadBalancer.ingress[0].ip}'\n",
    "INGRESS_IP=INGRESS_IP[0]\n",
    "import os\n",
    "os.environ['INGRESS_IP'] = INGRESS_IP\n",
    "INGRESS_IP"
   ]
  },
  {
   "cell_type": "markdown",
   "id": "lesser-equity",
   "metadata": {},
   "source": [
    "## Ambassador Single Model Example"
   ]
  },
  {
   "cell_type": "code",
   "execution_count": 64,
   "id": "typical-billy",
   "metadata": {
    "scrolled": true
   },
   "outputs": [
    {
     "name": "stdout",
     "output_type": "stream",
     "text": [
      "apiVersion: getambassador.io/v3alpha1\r\n",
      "kind: Host\r\n",
      "metadata:\r\n",
      "  name: wildcard\r\n",
      "  namespace: seldon-mesh\r\n",
      "spec:\r\n",
      "  hostname: '*'\r\n",
      "  requestPolicy:\r\n",
      "    insecure:\r\n",
      "      action: Route\r\n",
      "---\r\n",
      "apiVersion: getambassador.io/v3alpha1\r\n",
      "kind: Listener\r\n",
      "metadata:\r\n",
      "  name: emissary-ingress-listener-8080\r\n",
      "  namespace: seldon-mesh\r\n",
      "spec:\r\n",
      "  hostBinding:\r\n",
      "    namespace:\r\n",
      "      from: ALL\r\n",
      "  port: 8080\r\n",
      "  protocol: HTTP\r\n",
      "  securityModel: INSECURE\r\n",
      "---\r\n",
      "apiVersion: getambassador.io/v3alpha1\r\n",
      "kind: Mapping\r\n",
      "metadata:\r\n",
      "  name: iris\r\n",
      "  namespace: seldon-mesh\r\n",
      "spec:\r\n",
      "  add_request_headers:\r\n",
      "    seldon-model:\r\n",
      "      value: iris\r\n",
      "  hostname: '*'\r\n",
      "  prefix: /v2/\r\n",
      "  service: seldon-mesh:80\r\n",
      "---\r\n",
      "apiVersion: mlops.seldon.io/v1alpha1\r\n",
      "kind: Model\r\n",
      "metadata:\r\n",
      "  name: iris\r\n",
      "  namespace: seldon-mesh\r\n",
      "spec:\r\n",
      "  requirements:\r\n",
      "  - sklearn\r\n",
      "  storageUri: gs://seldon-models/mlserver/iris\r\n"
     ]
    }
   ],
   "source": [
    "!kustomize build config/single-model"
   ]
  },
  {
   "cell_type": "code",
   "execution_count": 79,
   "id": "welsh-tribune",
   "metadata": {
    "scrolled": true
   },
   "outputs": [
    {
     "name": "stdout",
     "output_type": "stream",
     "text": [
      "host.getambassador.io/wildcard unchanged\r\n",
      "listener.getambassador.io/emissary-ingress-listener-8080 unchanged\r\n",
      "mapping.getambassador.io/iris-grpc configured\r\n",
      "mapping.getambassador.io/iris-http unchanged\r\n",
      "model.mlops.seldon.io/iris unchanged\r\n"
     ]
    }
   ],
   "source": [
    "!kustomize build config/single-model | kubectl apply --validate=false -f -"
   ]
  },
  {
   "cell_type": "code",
   "execution_count": 80,
   "id": "reverse-pantyhose",
   "metadata": {},
   "outputs": [
    {
     "name": "stdout",
     "output_type": "stream",
     "text": [
      "model.mlops.seldon.io/iris condition met\r\n"
     ]
    }
   ],
   "source": [
    "!kubectl wait --for condition=ready --timeout=300s model --all -n seldon-mesh"
   ]
  },
  {
   "cell_type": "code",
   "execution_count": 81,
   "id": "aquatic-suspect",
   "metadata": {},
   "outputs": [
    {
     "name": "stdout",
     "output_type": "stream",
     "text": [
      "* Expire in 0 ms for 6 (transfer 0x55933dec34f0)\r\n",
      "*   Trying 172.18.255.7...\r\n",
      "* TCP_NODELAY set\r\n",
      "* Expire in 200 ms for 4 (transfer 0x55933dec34f0)\r\n",
      "* Connected to 172.18.255.7 (172.18.255.7) port 80 (#0)\r\n",
      "> POST /v2/models/iris/infer HTTP/1.1\r",
      "\r\n",
      "> Host: 172.18.255.7\r",
      "\r\n",
      "> User-Agent: curl/7.64.0\r",
      "\r\n",
      "> Accept: */*\r",
      "\r\n",
      "> Content-Type: application/json\r",
      "\r\n",
      "> Content-Length: 94\r",
      "\r\n",
      "> \r",
      "\r\n",
      "* upload completely sent off: 94 out of 94 bytes\r\n",
      "< HTTP/1.1 200 OK\r",
      "\r\n",
      "< date: Sat, 29 Jan 2022 18:09:21 GMT\r",
      "\r\n",
      "< server: envoy\r",
      "\r\n",
      "< content-length: 194\r",
      "\r\n",
      "< content-type: application/json\r",
      "\r\n",
      "< x-envoy-upstream-service-time: 3\r",
      "\r\n",
      "< \r",
      "\r\n",
      "* Connection #0 to host 172.18.255.7 left intact\r\n",
      "{\"model_name\":\"iris\",\"model_version\":\"1\",\"id\":\"7ffc8aca-4c5c-47cd-ab63-0347ab5fe959\",\"parameters\":null,\"outputs\":[{\"name\":\"predict\",\"shape\":[1],\"datatype\":\"INT64\",\"parameters\":null,\"data\":[2]}]}"
     ]
    }
   ],
   "source": [
    "!curl -v http://${INGRESS_IP}/v2/models/iris/infer -H \"Content-Type: application/json\"\\\n",
    "        -d '{\"inputs\": [{\"name\": \"predict\", \"shape\": [1, 4], \"datatype\": \"FP32\", \"data\": [[1, 2, 3, 4]]}]}'"
   ]
  },
  {
   "cell_type": "code",
   "execution_count": 82,
   "id": "consecutive-active",
   "metadata": {},
   "outputs": [
    {
     "name": "stdout",
     "output_type": "stream",
     "text": [
      "{\r\n",
      "  \"modelName\": \"iris\",\r\n",
      "  \"modelVersion\": \"1\",\r\n",
      "  \"outputs\": [\r\n",
      "    {\r\n",
      "      \"name\": \"predict\",\r\n",
      "      \"datatype\": \"INT64\",\r\n",
      "      \"shape\": [\r\n",
      "        \"1\"\r\n",
      "      ],\r\n",
      "      \"contents\": {\r\n",
      "        \"int64Contents\": [\r\n",
      "          \"2\"\r\n",
      "        ]\r\n",
      "      }\r\n",
      "    }\r\n",
      "  ]\r\n",
      "}\r\n"
     ]
    }
   ],
   "source": [
    "!cd ../../scheduler/v2/ && \\\n",
    "    grpcurl -d '{\"model_name\":\"iris\",\"inputs\":[{\"name\":\"input\",\"contents\":{\"fp32_contents\":[1,2,3,4]},\"datatype\":\"FP32\",\"shape\":[1,4]}]}' \\\n",
    "        -plaintext \\\n",
    "        -proto grpc_service.proto \\\n",
    "       ${INGRESS_IP}:80 inference.GRPCInferenceService/ModelInfer"
   ]
  },
  {
   "cell_type": "code",
   "execution_count": 83,
   "id": "compound-steel",
   "metadata": {},
   "outputs": [
    {
     "name": "stdout",
     "output_type": "stream",
     "text": [
      "host.getambassador.io \"wildcard\" deleted\n",
      "listener.getambassador.io \"emissary-ingress-listener-8080\" deleted\n",
      "mapping.getambassador.io \"iris-grpc\" deleted\n",
      "mapping.getambassador.io \"iris-http\" deleted\n",
      "model.mlops.seldon.io \"iris\" deleted\n"
     ]
    }
   ],
   "source": [
    "!kustomize build config/single-model | kubectl delete -f -"
   ]
  },
  {
   "cell_type": "markdown",
   "id": "attended-storm",
   "metadata": {},
   "source": [
    "## Traffic Split Two Models"
   ]
  },
  {
   "cell_type": "code",
   "execution_count": 85,
   "id": "ahead-samoa",
   "metadata": {
    "scrolled": true
   },
   "outputs": [
    {
     "name": "stdout",
     "output_type": "stream",
     "text": [
      "apiVersion: getambassador.io/v3alpha1\r\n",
      "kind: Host\r\n",
      "metadata:\r\n",
      "  name: wildcard\r\n",
      "  namespace: seldon-mesh\r\n",
      "spec:\r\n",
      "  hostname: '*'\r\n",
      "  requestPolicy:\r\n",
      "    insecure:\r\n",
      "      action: Route\r\n",
      "---\r\n",
      "apiVersion: getambassador.io/v3alpha1\r\n",
      "kind: Listener\r\n",
      "metadata:\r\n",
      "  name: emissary-ingress-listener-8080\r\n",
      "  namespace: seldon-mesh\r\n",
      "spec:\r\n",
      "  hostBinding:\r\n",
      "    namespace:\r\n",
      "      from: ALL\r\n",
      "  port: 8080\r\n",
      "  protocol: HTTP\r\n",
      "  securityModel: INSECUREx\r\n",
      "---\r\n",
      "apiVersion: getambassador.io/v3alpha1\r\n",
      "kind: Mapping\r\n",
      "metadata:\r\n",
      "  name: iris1-grpc\r\n",
      "  namespace: seldon-mesh\r\n",
      "spec:\r\n",
      "  add_request_headers:\r\n",
      "    seldon-model:\r\n",
      "      value: iris1\r\n",
      "  grpc: true\r\n",
      "  hostname: '*'\r\n",
      "  prefix: /inference.GRPCInferenceService\r\n",
      "  rewrite: \"\"\r\n",
      "  service: seldon-mesh:80\r\n",
      "---\r\n",
      "apiVersion: getambassador.io/v3alpha1\r\n",
      "kind: Mapping\r\n",
      "metadata:\r\n",
      "  name: iris1-http\r\n",
      "  namespace: seldon-mesh\r\n",
      "spec:\r\n",
      "  add_request_headers:\r\n",
      "    seldon-model:\r\n",
      "      value: iris1\r\n",
      "  hostname: '*'\r\n",
      "  prefix: /v2/\r\n",
      "  rewrite: \"\"\r\n",
      "  service: seldon-mesh:80\r\n",
      "---\r\n",
      "apiVersion: getambassador.io/v3alpha1\r\n",
      "kind: Mapping\r\n",
      "metadata:\r\n",
      "  name: iris2-grpc\r\n",
      "  namespace: seldon-mesh\r\n",
      "spec:\r\n",
      "  add_request_headers:\r\n",
      "    seldon-model:\r\n",
      "      value: iris2\r\n",
      "  grpc: true\r\n",
      "  hostname: '*'\r\n",
      "  prefix: /inference.GRPCInferenceService\r\n",
      "  rewrite: \"\"\r\n",
      "  service: seldon-mesh:80\r\n",
      "  weight: 50\r\n",
      "---\r\n",
      "apiVersion: getambassador.io/v3alpha1\r\n",
      "kind: Mapping\r\n",
      "metadata:\r\n",
      "  name: iris2-http\r\n",
      "  namespace: seldon-mesh\r\n",
      "spec:\r\n",
      "  add_request_headers:\r\n",
      "    seldon-model:\r\n",
      "      value: iris2\r\n",
      "  hostname: '*'\r\n",
      "  prefix: /v2/\r\n",
      "  rewrite: \"\"\r\n",
      "  service: seldon-mesh:80\r\n",
      "  weight: 50\r\n",
      "---\r\n",
      "apiVersion: mlops.seldon.io/v1alpha1\r\n",
      "kind: Model\r\n",
      "metadata:\r\n",
      "  name: iris1\r\n",
      "  namespace: seldon-mesh\r\n",
      "spec:\r\n",
      "  requirements:\r\n",
      "  - sklearn\r\n",
      "  storageUri: gs://seldon-models/mlserver/iris\r\n",
      "---\r\n",
      "apiVersion: mlops.seldon.io/v1alpha1\r\n",
      "kind: Model\r\n",
      "metadata:\r\n",
      "  name: iris2\r\n",
      "  namespace: seldon-mesh\r\n",
      "spec:\r\n",
      "  requirements:\r\n",
      "  - sklearn\r\n",
      "  storageUri: gs://seldon-models/mlserver/iris\r\n"
     ]
    }
   ],
   "source": [
    "!kustomize build config/traffic-split"
   ]
  },
  {
   "cell_type": "code",
   "execution_count": 223,
   "id": "comprehensive-guide",
   "metadata": {
    "scrolled": true
   },
   "outputs": [
    {
     "name": "stdout",
     "output_type": "stream",
     "text": [
      "host.getambassador.io/wildcard unchanged\n",
      "listener.getambassador.io/emissary-ingress-listener-8080 unchanged\n",
      "mapping.getambassador.io/iris1-grpc unchanged\n",
      "mapping.getambassador.io/iris1-http configured\n",
      "mapping.getambassador.io/iris2-grpc unchanged\n",
      "mapping.getambassador.io/iris2-http configured\n",
      "model.mlops.seldon.io/iris1 unchanged\n",
      "model.mlops.seldon.io/iris2 unchanged\n"
     ]
    }
   ],
   "source": [
    "!kustomize build config/traffic-split | kubectl apply -f -"
   ]
  },
  {
   "cell_type": "code",
   "execution_count": 224,
   "id": "explicit-plasma",
   "metadata": {},
   "outputs": [
    {
     "name": "stdout",
     "output_type": "stream",
     "text": [
      "model.mlops.seldon.io/iris1 condition met\r\n",
      "model.mlops.seldon.io/iris2 condition met\r\n"
     ]
    }
   ],
   "source": [
    "!kubectl wait --for condition=ready --timeout=300s model --all -n seldon-mesh"
   ]
  },
  {
   "cell_type": "code",
   "execution_count": 233,
   "id": "organizational-spokesman",
   "metadata": {},
   "outputs": [
    {
     "name": "stdout",
     "output_type": "stream",
     "text": [
      "* Expire in 0 ms for 6 (transfer 0x556a4d6254f0)\r\n",
      "*   Trying 172.18.255.7...\r\n",
      "* TCP_NODELAY set\r\n",
      "* Expire in 200 ms for 4 (transfer 0x556a4d6254f0)\r\n",
      "* Connected to 172.18.255.7 (172.18.255.7) port 80 (#0)\r\n",
      "> POST /v2/models/iris/infer HTTP/1.1\r",
      "\r\n",
      "> Host: 172.18.255.7\r",
      "\r\n",
      "> User-Agent: curl/7.64.0\r",
      "\r\n",
      "> Accept: */*\r",
      "\r\n",
      "> Content-Type: application/json\r",
      "\r\n",
      "> Content-Length: 94\r",
      "\r\n",
      "> \r",
      "\r\n",
      "* upload completely sent off: 94 out of 94 bytes\r\n",
      "< HTTP/1.1 200 OK\r",
      "\r\n",
      "< date: Sat, 29 Jan 2022 19:52:41 GMT\r",
      "\r\n",
      "< server: envoy\r",
      "\r\n",
      "< content-length: 195\r",
      "\r\n",
      "< content-type: application/json\r",
      "\r\n",
      "< x-envoy-upstream-service-time: 4\r",
      "\r\n",
      "< seldon_model: iris2\r",
      "\r\n",
      "< \r",
      "\r\n",
      "* Connection #0 to host 172.18.255.7 left intact\r\n",
      "{\"model_name\":\"iris2\",\"model_version\":\"1\",\"id\":\"ca0282a6-3e54-4034-8dd7-6ebb25fd14be\",\"parameters\":null,\"outputs\":[{\"name\":\"predict\",\"shape\":[1],\"datatype\":\"INT64\",\"parameters\":null,\"data\":[2]}]}"
     ]
    }
   ],
   "source": [
    "!curl -v http://${INGRESS_IP}/v2/models/iris/infer -H \"Content-Type: application/json\" \\\n",
    "        -d '{\"inputs\": [{\"name\": \"predict\", \"shape\": [1, 4], \"datatype\": \"FP32\", \"data\": [[1, 2, 3, 4]]}]}'"
   ]
  },
  {
   "cell_type": "markdown",
   "id": "motivated-server",
   "metadata": {},
   "source": [
    "### TODO model_name needs fixing"
   ]
  },
  {
   "cell_type": "code",
   "execution_count": 118,
   "id": "thorough-surgery",
   "metadata": {},
   "outputs": [
    {
     "name": "stdout",
     "output_type": "stream",
     "text": [
      "{\r\n",
      "  \"modelName\": \"iris1\",\r\n",
      "  \"modelVersion\": \"1\",\r\n",
      "  \"outputs\": [\r\n",
      "    {\r\n",
      "      \"name\": \"predict\",\r\n",
      "      \"datatype\": \"INT64\",\r\n",
      "      \"shape\": [\r\n",
      "        \"1\"\r\n",
      "      ],\r\n",
      "      \"contents\": {\r\n",
      "        \"int64Contents\": [\r\n",
      "          \"2\"\r\n",
      "        ]\r\n",
      "      }\r\n",
      "    }\r\n",
      "  ]\r\n",
      "}\r\n"
     ]
    }
   ],
   "source": [
    "!cd ../../scheduler/v2/ && \\\n",
    "    grpcurl -d '{\"model_name\":\"iris1\",\"inputs\":[{\"name\":\"input\",\"contents\":{\"fp32_contents\":[1,2,3,4]},\"datatype\":\"FP32\",\"shape\":[1,4]}]}' \\\n",
    "        -plaintext \\\n",
    "        -proto grpc_service.proto \\\n",
    "       ${INGRESS_IP}:80 inference.GRPCInferenceService/ModelInfer"
   ]
  },
  {
   "cell_type": "code",
   "execution_count": 126,
   "id": "mechanical-diagnosis",
   "metadata": {},
   "outputs": [
    {
     "name": "stdout",
     "output_type": "stream",
     "text": [
      "model.mlops.seldon.io \"iris1\" deleted\n",
      "model.mlops.seldon.io \"iris2\" deleted\n",
      "gateway.networking.istio.io \"seldon-gateway\" deleted\n",
      "virtualservice.networking.istio.io \"iris-route\" deleted\n"
     ]
    }
   ],
   "source": [
    "!kustomize build config/traffic-split | kubectl delete -f -"
   ]
  },
  {
   "cell_type": "code",
   "execution_count": null,
   "id": "documented-compact",
   "metadata": {},
   "outputs": [],
   "source": []
  }
 ],
 "metadata": {
  "kernelspec": {
   "display_name": "Python 3",
   "language": "python",
   "name": "python3"
  },
  "language_info": {
   "codemirror_mode": {
    "name": "ipython",
    "version": 3
   },
   "file_extension": ".py",
   "mimetype": "text/x-python",
   "name": "python",
   "nbconvert_exporter": "python",
   "pygments_lexer": "ipython3",
   "version": "3.7.4"
  }
 },
 "nbformat": 4,
 "nbformat_minor": 5
}
