{
 "cells": [
  {
   "cell_type": "markdown",
   "id": "fallen-score",
   "metadata": {},
   "source": [
    "# Ambassador Examples\n",
    "\n",
    "Assumes\n",
    "\n",
    " * You have installed emissary as per their docs"
   ]
  },
  {
   "cell_type": "code",
   "execution_count": null,
   "id": "imperial-playing",
   "metadata": {},
   "outputs": [],
   "source": [
    "INGRESS_IP=!kubectl get svc emissary-ingress -n emissary -o jsonpath='{.status.loadBalancer.ingress[0].ip}'\n",
    "INGRESS_IP=INGRESS_IP[0]\n",
    "import os\n",
    "os.environ['INGRESS_IP'] = INGRESS_IP\n",
    "INGRESS_IP"
   ]
  },
  {
   "cell_type": "markdown",
   "id": "lesser-equity",
   "metadata": {},
   "source": [
    "## Ambassador Single Model Example"
   ]
  },
  {
   "cell_type": "code",
   "execution_count": null,
   "id": "typical-billy",
   "metadata": {
    "scrolled": true
   },
   "outputs": [],
   "source": [
    "!kustomize build config/single-model"
   ]
  },
  {
   "cell_type": "code",
   "execution_count": null,
   "id": "welsh-tribune",
   "metadata": {
    "scrolled": true
   },
   "outputs": [],
   "source": [
    "!kustomize build config/single-model | kubectl apply --validate=false -f -"
   ]
  },
  {
   "cell_type": "code",
   "execution_count": null,
   "id": "reverse-pantyhose",
   "metadata": {},
   "outputs": [],
   "source": [
    "!kubectl wait --for condition=ready --timeout=300s model --all -n seldon-mesh"
   ]
  },
  {
   "cell_type": "code",
   "execution_count": null,
   "id": "aquatic-suspect",
   "metadata": {},
   "outputs": [],
   "source": [
    "!curl -v http://${INGRESS_IP}/v2/models/iris/infer -H \"Content-Type: application/json\"\\\n",
    "        -d '{\"inputs\": [{\"name\": \"predict\", \"shape\": [1, 4], \"datatype\": \"FP32\", \"data\": [[1, 2, 3, 4]]}]}'"
   ]
  },
  {
   "cell_type": "code",
   "execution_count": null,
   "id": "consecutive-active",
   "metadata": {},
   "outputs": [],
   "source": [
    "!grpcurl -d '{\"model_name\":\"iris\",\"inputs\":[{\"name\":\"input\",\"contents\":{\"fp32_contents\":[1,2,3,4]},\"datatype\":\"FP32\",\"shape\":[1,4]}]}' \\\n",
    "    -plaintext \\\n",
    "    -import-path ../../apis \\\n",
    "    -proto ../../apis/mlops/v2_dataplane/v2_dataplane.proto \\\n",
    "    ${INGRESS_IP}:80 inference.GRPCInferenceService/ModelInfer"
   ]
  },
  {
   "cell_type": "code",
   "execution_count": null,
   "id": "compound-steel",
   "metadata": {},
   "outputs": [],
   "source": [
    "!kustomize build config/single-model | kubectl delete -f -"
   ]
  },
  {
   "cell_type": "markdown",
   "id": "attended-storm",
   "metadata": {},
   "source": [
    "## Traffic Split Two Models"
   ]
  },
  {
   "cell_type": "code",
   "execution_count": null,
   "id": "ahead-samoa",
   "metadata": {
    "scrolled": true
   },
   "outputs": [],
   "source": [
    "!kustomize build config/traffic-split"
   ]
  },
  {
   "cell_type": "code",
   "execution_count": null,
   "id": "comprehensive-guide",
   "metadata": {
    "scrolled": true
   },
   "outputs": [],
   "source": [
    "!kustomize build config/traffic-split | kubectl apply -f -"
   ]
  },
  {
   "cell_type": "code",
   "execution_count": null,
   "id": "explicit-plasma",
   "metadata": {},
   "outputs": [],
   "source": [
    "!kubectl wait --for condition=ready --timeout=300s model --all -n seldon-mesh"
   ]
  },
  {
   "cell_type": "code",
   "execution_count": null,
   "id": "organizational-spokesman",
   "metadata": {},
   "outputs": [],
   "source": [
    "!curl -v http://${INGRESS_IP}/v2/models/iris/infer -H \"Content-Type: application/json\" \\\n",
    "        -d '{\"inputs\": [{\"name\": \"predict\", \"shape\": [1, 4], \"datatype\": \"FP32\", \"data\": [[1, 2, 3, 4]]}]}'"
   ]
  },
  {
   "cell_type": "markdown",
   "id": "motivated-server",
   "metadata": {},
   "source": [
    "### TODO model_name needs fixing"
   ]
  },
  {
   "cell_type": "code",
   "execution_count": null,
   "id": "thorough-surgery",
   "metadata": {},
   "outputs": [],
   "source": [
    "!grpcurl -d '{\"model_name\":\"iris1\",\"inputs\":[{\"name\":\"input\",\"contents\":{\"fp32_contents\":[1,2,3,4]},\"datatype\":\"FP32\",\"shape\":[1,4]}]}' \\\n",
    "    -plaintext \\\n",
    "    -import-path ../../apis \\\n",
    "    -proto ../../apis/mlops/v2_dataplane/v2_dataplane.proto \\\n",
    "    ${INGRESS_IP}:80 inference.GRPCInferenceService/ModelInfer"
   ]
  },
  {
   "cell_type": "code",
   "execution_count": null,
   "id": "mechanical-diagnosis",
   "metadata": {},
   "outputs": [],
   "source": [
    "!kustomize build config/traffic-split | kubectl delete -f -"
   ]
  },
  {
   "cell_type": "code",
   "execution_count": null,
   "id": "documented-compact",
   "metadata": {},
   "outputs": [],
   "source": []
  }
 ],
 "metadata": {
  "kernelspec": {
   "display_name": "Python 3",
   "language": "python",
   "name": "python3"
  },
  "language_info": {
   "codemirror_mode": {
    "name": "ipython",
    "version": 3
   },
   "file_extension": ".py",
   "mimetype": "text/x-python",
   "name": "python",
   "nbconvert_exporter": "python",
   "pygments_lexer": "ipython3",
   "version": "3.7.4"
  }
 },
 "nbformat": 4,
 "nbformat_minor": 5
}
