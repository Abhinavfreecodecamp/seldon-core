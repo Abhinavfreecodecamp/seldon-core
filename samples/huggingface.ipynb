{
 "cells": [
  {
   "cell_type": "markdown",
   "id": "lesbian-springer",
   "metadata": {},
   "source": [
    "## Huggingface Examples\n"
   ]
  },
  {
   "cell_type": "markdown",
   "id": "5b1925df",
   "metadata": {},
   "source": [
    "### Text Generation Model\n"
   ]
  },
  {
   "cell_type": "code",
   "execution_count": 1,
   "id": "8b4be911",
   "metadata": {},
   "outputs": [
    {
     "name": "stdout",
     "output_type": "stream",
     "text": [
      "apiVersion: mlops.seldon.io/v1alpha1\r\n",
      "kind: Model\r\n",
      "metadata:\r\n",
      "  name: text-gen\r\n",
      "spec:\r\n",
      "  storageUri: \"gs://seldon-models/mlserver/huggingface/text-generation\"\r\n",
      "  requirements:\r\n",
      "  - huggingface\r\n"
     ]
    }
   ],
   "source": [
    "!cat ./models/hf-text-gen.yaml"
   ]
  },
  {
   "cell_type": "markdown",
   "id": "26c11833",
   "metadata": {},
   "source": [
    "Load the model"
   ]
  },
  {
   "cell_type": "code",
   "execution_count": 2,
   "id": "checked-cream",
   "metadata": {},
   "outputs": [
    {
     "name": "stdout",
     "output_type": "stream",
     "text": [
      "{}\r\n"
     ]
    }
   ],
   "source": [
    "!seldon model load -f ./models/hf-text-gen.yaml"
   ]
  },
  {
   "cell_type": "code",
   "execution_count": 3,
   "id": "interracial-secret",
   "metadata": {},
   "outputs": [
    {
     "name": "stdout",
     "output_type": "stream",
     "text": [
      "{}\r\n"
     ]
    }
   ],
   "source": [
    "!seldon model status text-gen -w ModelAvailable | jq -M ."
   ]
  },
  {
   "cell_type": "code",
   "execution_count": 5,
   "id": "upper-cholesterol",
   "metadata": {},
   "outputs": [
    {
     "name": "stdout",
     "output_type": "stream",
     "text": [
      "{\r\n",
      "\t\"model_name\": \"text-gen_1\",\r\n",
      "\t\"model_version\": \"1\",\r\n",
      "\t\"id\": \"5412f8b0-f440-4e33-851c-ac3ff754b9c0\",\r\n",
      "\t\"parameters\": {\r\n",
      "\t\t\"content_type\": null,\r\n",
      "\t\t\"headers\": null\r\n",
      "\t},\r\n",
      "\t\"outputs\": [\r\n",
      "\t\t{\r\n",
      "\t\t\t\"name\": \"output\",\r\n",
      "\t\t\t\"shape\": [\r\n",
      "\t\t\t\t1\r\n",
      "\t\t\t],\r\n",
      "\t\t\t\"datatype\": \"BYTES\",\r\n",
      "\t\t\t\"parameters\": {\r\n",
      "\t\t\t\t\"content_type\": \"str\",\r\n",
      "\t\t\t\t\"headers\": null\r\n",
      "\t\t\t},\r\n",
      "\t\t\t\"data\": [\r\n",
      "\t\t\t\t\"[{\\\"generated_text\\\": \\\"Once upon a time in a galaxy far away, the Human Race was destroyed at the hands of an evil machine. But in a galaxy far away, the Human Race was destroyed at the hands of an evil machine. But in a galaxy far away,\\\"}]\"\r\n",
      "\t\t\t]\r\n",
      "\t\t}\r\n",
      "\t]\r\n",
      "}\r\n"
     ]
    }
   ],
   "source": [
    "!seldon model infer text-gen \\\n",
    "  '{\"inputs\": [{\"name\": \"args\",\"shape\": [1],\"datatype\": \"BYTES\",\"data\": [\"Once upon a time in a galaxy far away\"]}]}' "
   ]
  },
  {
   "cell_type": "code",
   "execution_count": 6,
   "id": "right-talent",
   "metadata": {},
   "outputs": [
    {
     "name": "stdout",
     "output_type": "stream",
     "text": [
      "{\"modelName\":\"text-gen_1\", \"modelVersion\":\"1\", \"outputs\":[{\"name\":\"output\", \"datatype\":\"BYTES\", \"shape\":[\"1\"], \"parameters\":{\"content_type\":{\"stringParam\":\"str\"}}, \"contents\":{\"bytesContents\":[\"W3siZ2VuZXJhdGVkX3RleHQiOiAiT25jZSB1cG9uIGEgdGltZVxuXG5Zb3UgaGF2ZSB0YWtlbiBhIGJpZyB0dW1ibGUgaW50byB5b3VyIGxpdmluZyByb29tIGFuZCBJIGNhbiBzZWUgdGhhdCB5b3UgYXJlIGxvb2tpbmcgYXQgaGltXG5Zb3Ugd2FudCB0byBzdG9wP1xuWW91IHNlZSBhbiBleWU/XG5Zb3Uga25vdyB3aGF0P1xuU29tZXRoaW5nJ3MgYmVlbiBoYXBwZW5pbmcgaW4geW91ciJ9XQ==\"]}}]}\r\n"
     ]
    }
   ],
   "source": [
    "!seldon model infer text-gen --inference-mode grpc \\\n",
    "   '{\"inputs\":[{\"name\":\"args\",\"contents\":{\"bytes_contents\":[\"T25jZSB1cG9uIGEgdGltZQo=\"]},\"datatype\":\"BYTES\",\"shape\":[1]}]}' "
   ]
  },
  {
   "cell_type": "markdown",
   "id": "d95a5f03",
   "metadata": {},
   "source": [
    "Unload the model"
   ]
  },
  {
   "cell_type": "code",
   "execution_count": 7,
   "id": "ceramic-illness",
   "metadata": {},
   "outputs": [
    {
     "name": "stdout",
     "output_type": "stream",
     "text": [
      "{}\r\n"
     ]
    }
   ],
   "source": [
    "!seldon model unload text-gen"
   ]
  },
  {
   "cell_type": "code",
   "execution_count": null,
   "id": "3a29f9cb",
   "metadata": {},
   "outputs": [],
   "source": []
  }
 ],
 "metadata": {
  "kernelspec": {
   "display_name": "Python 3 (ipykernel)",
   "language": "python",
   "name": "python3"
  },
  "language_info": {
   "codemirror_mode": {
    "name": "ipython",
    "version": 3
   },
   "file_extension": ".py",
   "mimetype": "text/x-python",
   "name": "python",
   "nbconvert_exporter": "python",
   "pygments_lexer": "ipython3",
   "version": "3.9.13"
  }
 },
 "nbformat": 4,
 "nbformat_minor": 5
}
