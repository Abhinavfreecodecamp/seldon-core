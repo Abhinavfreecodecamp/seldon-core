{
 "cells": [
  {
   "cell_type": "markdown",
   "id": "lesbian-springer",
   "metadata": {},
   "source": [
    "# Seldon V2 Non Kubernetes Local Examples\n",
    "\n",
    "\n",
    " * Build if needed and place `seldon` binary in your path\n",
    " * Install seldon locally "
   ]
  },
  {
   "cell_type": "code",
   "execution_count": null,
   "id": "modular-digest",
   "metadata": {},
   "outputs": [],
   "source": [
    "!which seldon"
   ]
  },
  {
   "cell_type": "markdown",
   "id": "baking-farmer",
   "metadata": {},
   "source": [
    "## Model"
   ]
  },
  {
   "cell_type": "code",
   "execution_count": null,
   "id": "8b4be911",
   "metadata": {},
   "outputs": [],
   "source": [
    "!cat ./models/sklearn-iris-gs.yaml"
   ]
  },
  {
   "cell_type": "code",
   "execution_count": null,
   "id": "checked-cream",
   "metadata": {},
   "outputs": [],
   "source": [
    "!seldon model load -f ./models/sklearn-iris-gs.yaml"
   ]
  },
  {
   "cell_type": "code",
   "execution_count": null,
   "id": "interracial-secret",
   "metadata": {},
   "outputs": [],
   "source": [
    "!seldon model status --model-name iris -w ModelAvailable | jq ."
   ]
  },
  {
   "cell_type": "code",
   "execution_count": null,
   "id": "upper-cholesterol",
   "metadata": {},
   "outputs": [],
   "source": [
    "!seldon model infer --model-name iris \\\n",
    "  '{\"inputs\": [{\"name\": \"predict\", \"shape\": [1, 4], \"datatype\": \"FP32\", \"data\": [[1, 2, 3, 4]]}]}' "
   ]
  },
  {
   "cell_type": "code",
   "execution_count": null,
   "id": "right-talent",
   "metadata": {},
   "outputs": [],
   "source": [
    "!seldon model infer --model-name iris --inference-mode grpc \\\n",
    "   '{\"model_name\":\"iris\",\"inputs\":[{\"name\":\"input\",\"contents\":{\"fp32_contents\":[1,2,3,4]},\"datatype\":\"FP32\",\"shape\":[1,4]}]}' | jq ."
   ]
  },
  {
   "cell_type": "code",
   "execution_count": null,
   "id": "ceramic-illness",
   "metadata": {},
   "outputs": [],
   "source": [
    "!seldon model unload --model-name iris"
   ]
  },
  {
   "cell_type": "markdown",
   "id": "amber-inclusion",
   "metadata": {},
   "source": [
    "## Experiment"
   ]
  },
  {
   "cell_type": "code",
   "execution_count": null,
   "id": "dfc5a4fd",
   "metadata": {},
   "outputs": [],
   "source": [
    "!cat ./experiments/sklearn1.yaml"
   ]
  },
  {
   "cell_type": "code",
   "execution_count": null,
   "id": "8837f315",
   "metadata": {},
   "outputs": [],
   "source": [
    "!cat ./experiments/sklearn2.yaml"
   ]
  },
  {
   "cell_type": "code",
   "execution_count": null,
   "id": "elect-samba",
   "metadata": {},
   "outputs": [],
   "source": [
    "!seldon model load -f ./experiments/sklearn1.yaml\n",
    "!seldon model load -f ./experiments/sklearn2.yaml"
   ]
  },
  {
   "cell_type": "code",
   "execution_count": null,
   "id": "floral-moisture",
   "metadata": {},
   "outputs": [],
   "source": [
    "!seldon model status --model-name iris | jq .\n",
    "!seldon model status --model-name iris2 | jq ."
   ]
  },
  {
   "cell_type": "code",
   "execution_count": null,
   "id": "10fe4447",
   "metadata": {},
   "outputs": [],
   "source": [
    "!cat ./experiments/ab-default-model.yaml "
   ]
  },
  {
   "cell_type": "code",
   "execution_count": null,
   "id": "differential-array",
   "metadata": {},
   "outputs": [],
   "source": [
    "!seldon experiment start -f ./experiments/ab-default-model.yaml "
   ]
  },
  {
   "cell_type": "code",
   "execution_count": null,
   "id": "overhead-banks",
   "metadata": {},
   "outputs": [],
   "source": [
    "!seldon experiment status -e experiment-sample -w | jq ."
   ]
  },
  {
   "cell_type": "code",
   "execution_count": null,
   "id": "finite-significance",
   "metadata": {},
   "outputs": [],
   "source": [
    "!seldon model infer --model-name iris -i 50 \\\n",
    "  '{\"inputs\": [{\"name\": \"predict\", \"shape\": [1, 4], \"datatype\": \"FP32\", \"data\": [[1, 2, 3, 4]]}]}' "
   ]
  },
  {
   "cell_type": "code",
   "execution_count": null,
   "id": "downtown-construction",
   "metadata": {},
   "outputs": [],
   "source": [
    "!seldon experiment stop -e experiment-sample"
   ]
  },
  {
   "cell_type": "code",
   "execution_count": null,
   "id": "077bbce8",
   "metadata": {},
   "outputs": [],
   "source": [
    "!seldon model unload --model-name iris\n",
    "!seldon model unload --model-name iris2"
   ]
  },
  {
   "cell_type": "markdown",
   "id": "running-antarctica",
   "metadata": {},
   "source": [
    "## Pipeline"
   ]
  },
  {
   "cell_type": "code",
   "execution_count": 1,
   "id": "0f2ab2a3",
   "metadata": {},
   "outputs": [
    {
     "name": "stdout",
     "output_type": "stream",
     "text": [
      "apiVersion: mlops.seldon.io/v1alpha1\r\n",
      "kind: Model\r\n",
      "metadata:\r\n",
      "  name: iris\r\n",
      "  namespace: seldon-mesh\r\n",
      "spec:\r\n",
      "  storageUri: \"gs://seldon-models/mlserver/iris\"\r\n",
      "  requirements:\r\n",
      "  - sklearn\r\n"
     ]
    }
   ],
   "source": [
    "!cat ./models/sklearn-iris-gs.yaml"
   ]
  },
  {
   "cell_type": "code",
   "execution_count": null,
   "id": "f9e073d7",
   "metadata": {},
   "outputs": [],
   "source": [
    "!seldon model load -f ./models/sklearn-iris-gs.yaml "
   ]
  },
  {
   "cell_type": "code",
   "execution_count": null,
   "id": "997b4028",
   "metadata": {},
   "outputs": [],
   "source": [
    "!seldon model status --model-name iris -w ModelAvailable | jq ."
   ]
  },
  {
   "cell_type": "code",
   "execution_count": null,
   "id": "908764f2",
   "metadata": {},
   "outputs": [],
   "source": [
    "!seldon model infer --model-name iris \\\n",
    "  '{\"inputs\": [{\"name\": \"predict\", \"shape\": [1, 4], \"datatype\": \"FP32\", \"data\": [[1, 2, 3, 4]]}]}' "
   ]
  },
  {
   "cell_type": "code",
   "execution_count": null,
   "id": "3d017ede",
   "metadata": {},
   "outputs": [],
   "source": [
    "!cat ./pipelines/iris.yaml"
   ]
  },
  {
   "cell_type": "code",
   "execution_count": null,
   "id": "following-winning",
   "metadata": {},
   "outputs": [],
   "source": [
    "!seldon pipeline load -f ./pipelines/iris.yaml"
   ]
  },
  {
   "cell_type": "code",
   "execution_count": null,
   "id": "artistic-kentucky",
   "metadata": {},
   "outputs": [],
   "source": [
    "!seldon pipeline status -p iris -w PipelineReady | jq ."
   ]
  },
  {
   "cell_type": "code",
   "execution_count": null,
   "id": "1f5fb4bd",
   "metadata": {},
   "outputs": [],
   "source": [
    "!seldon pipeline infer -p iris \\\n",
    "   '{\"inputs\": [{\"name\": \"predict\", \"shape\": [1, 4], \"datatype\": \"FP32\", \"data\": [[1, 2, 3, 4]]}]}' "
   ]
  },
  {
   "cell_type": "code",
   "execution_count": null,
   "id": "dimensional-hours",
   "metadata": {},
   "outputs": [],
   "source": [
    "!seldon pipeline unload -p iris"
   ]
  },
  {
   "cell_type": "code",
   "execution_count": null,
   "id": "b6bf07a6",
   "metadata": {},
   "outputs": [],
   "source": [
    "!seldon pipeline status -p iris| jq ."
   ]
  },
  {
   "cell_type": "code",
   "execution_count": null,
   "id": "outside-inspiration",
   "metadata": {},
   "outputs": [],
   "source": [
    "!seldon model unload --model-name iris"
   ]
  },
  {
   "cell_type": "code",
   "execution_count": null,
   "id": "d623a246",
   "metadata": {},
   "outputs": [],
   "source": []
  }
 ],
 "metadata": {
  "kernelspec": {
   "display_name": "Python 3 (ipykernel)",
   "language": "python",
   "name": "python3"
  },
  "language_info": {
   "codemirror_mode": {
    "name": "ipython",
    "version": 3
   },
   "file_extension": ".py",
   "mimetype": "text/x-python",
   "name": "python",
   "nbconvert_exporter": "python",
   "pygments_lexer": "ipython3",
   "version": "3.9.10"
  }
 },
 "nbformat": 4,
 "nbformat_minor": 5
}
