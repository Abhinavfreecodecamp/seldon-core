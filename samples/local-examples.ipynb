{
 "cells": [
  {
   "cell_type": "markdown",
   "id": "lesbian-springer",
   "metadata": {},
   "source": [
    "# Seldon V2 Non Kubernetes Local Examples\n",
    "\n",
    "\n",
    " * Build if needed and place `seldon` binary in your path\n",
    " * Install seldon locally "
   ]
  },
  {
   "cell_type": "code",
   "execution_count": null,
   "id": "modular-digest",
   "metadata": {},
   "outputs": [],
   "source": [
    "!which seldon"
   ]
  },
  {
   "cell_type": "code",
   "execution_count": null,
   "id": "traditional-techno",
   "metadata": {},
   "outputs": [],
   "source": [
    "%env VERBOSE=false"
   ]
  },
  {
   "cell_type": "markdown",
   "id": "baking-farmer",
   "metadata": {},
   "source": [
    "## Model"
   ]
  },
  {
   "cell_type": "code",
   "execution_count": null,
   "id": "checked-cream",
   "metadata": {},
   "outputs": [],
   "source": [
    "!seldon model load -f ./models/sklearn-iris-gs.yaml -v=${VERBOSE}"
   ]
  },
  {
   "cell_type": "code",
   "execution_count": null,
   "id": "interracial-secret",
   "metadata": {},
   "outputs": [],
   "source": [
    "!seldon model status --model-name iris -w ModelAvailable -v=${VERBOSE}"
   ]
  },
  {
   "cell_type": "code",
   "execution_count": null,
   "id": "upper-cholesterol",
   "metadata": {},
   "outputs": [],
   "source": [
    "!seldon model infer --model-name iris -v=${VERBOSE} \\\n",
    "  '{\"inputs\": [{\"name\": \"predict\", \"shape\": [1, 4], \"datatype\": \"FP32\", \"data\": [[1, 2, 3, 4]]}]}' "
   ]
  },
  {
   "cell_type": "code",
   "execution_count": null,
   "id": "right-talent",
   "metadata": {},
   "outputs": [],
   "source": [
    "!seldon model infer --model-name iris --inference-mode grpc -v=${VERBOSE} \\\n",
    "   '{\"model_name\":\"iris\",\"inputs\":[{\"name\":\"input\",\"contents\":{\"fp32_contents\":[1,2,3,4]},\"datatype\":\"FP32\",\"shape\":[1,4]}]}'"
   ]
  },
  {
   "cell_type": "code",
   "execution_count": null,
   "id": "ceramic-illness",
   "metadata": {},
   "outputs": [],
   "source": [
    "!seldon model unload --model-name iris -v=${VERBOSE}"
   ]
  },
  {
   "cell_type": "markdown",
   "id": "amber-inclusion",
   "metadata": {},
   "source": [
    "## Experiment"
   ]
  },
  {
   "cell_type": "code",
   "execution_count": null,
   "id": "elect-samba",
   "metadata": {},
   "outputs": [],
   "source": [
    "!seldon model load -f ./experiments/sklearn1.yaml -v=${VERBOSE}\n",
    "!seldon model load -f ./experiments/sklearn2.yaml -v=${VERBOSE}"
   ]
  },
  {
   "cell_type": "code",
   "execution_count": null,
   "id": "floral-moisture",
   "metadata": {},
   "outputs": [],
   "source": [
    "!seldon model status --model-name iris -v=${VERBOSE}\n",
    "!seldon model status --model-name iris2 -v=${VERBOSE}"
   ]
  },
  {
   "cell_type": "code",
   "execution_count": null,
   "id": "differential-array",
   "metadata": {},
   "outputs": [],
   "source": [
    "!seldon experiment start -f ./experiments/ab-default-model.yaml -v=${VERBOSE}"
   ]
  },
  {
   "cell_type": "code",
   "execution_count": null,
   "id": "overhead-banks",
   "metadata": {},
   "outputs": [],
   "source": [
    "!seldon experiment status -e experiment-sample -w -v=${VERBOSE}"
   ]
  },
  {
   "cell_type": "code",
   "execution_count": null,
   "id": "finite-significance",
   "metadata": {},
   "outputs": [],
   "source": [
    "!seldon model infer --model-name iris -i 50 -v=${VERBOSE} \\\n",
    "  '{\"inputs\": [{\"name\": \"predict\", \"shape\": [1, 4], \"datatype\": \"FP32\", \"data\": [[1, 2, 3, 4]]}]}' "
   ]
  },
  {
   "cell_type": "code",
   "execution_count": null,
   "id": "downtown-construction",
   "metadata": {},
   "outputs": [],
   "source": [
    "!seldon experiment stop -e experiment-sample -v=${VERBOSE}"
   ]
  },
  {
   "cell_type": "markdown",
   "id": "running-antarctica",
   "metadata": {},
   "source": [
    "## Pipeline (WIP)"
   ]
  },
  {
   "cell_type": "code",
   "execution_count": null,
   "id": "following-winning",
   "metadata": {},
   "outputs": [],
   "source": [
    "!seldon pipeline load -f ./pipelines/example.yaml -v=${VERBOSE}"
   ]
  },
  {
   "cell_type": "code",
   "execution_count": null,
   "id": "artistic-kentucky",
   "metadata": {},
   "outputs": [],
   "source": [
    "!seldon pipeline status -p example -v=${VERBOSE}"
   ]
  },
  {
   "cell_type": "code",
   "execution_count": null,
   "id": "dimensional-hours",
   "metadata": {},
   "outputs": [],
   "source": [
    "!seldon pipeline unload -p example -v=${VERBOSE}"
   ]
  },
  {
   "cell_type": "code",
   "execution_count": null,
   "id": "outside-inspiration",
   "metadata": {},
   "outputs": [],
   "source": []
  }
 ],
 "metadata": {
  "kernelspec": {
   "display_name": "Python 3",
   "language": "python",
   "name": "python3"
  },
  "language_info": {
   "codemirror_mode": {
    "name": "ipython",
    "version": 3
   },
   "file_extension": ".py",
   "mimetype": "text/x-python",
   "name": "python",
   "nbconvert_exporter": "python",
   "pygments_lexer": "ipython3",
   "version": "3.7.4"
  }
 },
 "nbformat": 4,
 "nbformat_minor": 5
}
