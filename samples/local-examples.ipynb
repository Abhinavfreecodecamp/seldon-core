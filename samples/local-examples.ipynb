{
 "cells": [
  {
   "cell_type": "markdown",
   "id": "lesbian-springer",
   "metadata": {},
   "source": [
    "# Seldon V2 Non Kubernetes Local Examples\n",
    "\n",
    "\n",
    " * Build if needed and place `seldon` binary in your path\n",
    "   * run `make build-seldon` from operator folder and add bin folder to `PATH`\n",
    " * Run Seldon V2 `make deploy-local` from top level folder"
   ]
  },
  {
   "cell_type": "code",
   "execution_count": null,
   "id": "modular-digest",
   "metadata": {},
   "outputs": [],
   "source": [
    "!which seldon"
   ]
  },
  {
   "cell_type": "markdown",
   "id": "baking-farmer",
   "metadata": {},
   "source": [
    "## SKLearn Model"
   ]
  },
  {
   "cell_type": "code",
   "execution_count": null,
   "id": "8b4be911",
   "metadata": {},
   "outputs": [],
   "source": [
    "!cat ./models/sklearn-iris-gs.yaml"
   ]
  },
  {
   "cell_type": "code",
   "execution_count": null,
   "id": "checked-cream",
   "metadata": {},
   "outputs": [],
   "source": [
    "!seldon model load -f ./models/sklearn-iris-gs.yaml"
   ]
  },
  {
   "cell_type": "code",
   "execution_count": null,
   "id": "interracial-secret",
   "metadata": {},
   "outputs": [],
   "source": [
    "!seldon model status --model-name iris -w ModelAvailable | jq ."
   ]
  },
  {
   "cell_type": "code",
   "execution_count": null,
   "id": "upper-cholesterol",
   "metadata": {},
   "outputs": [],
   "source": [
    "!seldon model infer --model-name iris \\\n",
    "  '{\"inputs\": [{\"name\": \"predict\", \"shape\": [1, 4], \"datatype\": \"FP32\", \"data\": [[1, 2, 3, 4]]}]}' "
   ]
  },
  {
   "cell_type": "code",
   "execution_count": null,
   "id": "right-talent",
   "metadata": {},
   "outputs": [],
   "source": [
    "!seldon model infer --model-name iris --inference-mode grpc \\\n",
    "   '{\"model_name\":\"iris\",\"inputs\":[{\"name\":\"input\",\"contents\":{\"fp32_contents\":[1,2,3,4]},\"datatype\":\"FP32\",\"shape\":[1,4]}]}' | jq ."
   ]
  },
  {
   "cell_type": "code",
   "execution_count": null,
   "id": "ceramic-illness",
   "metadata": {},
   "outputs": [],
   "source": [
    "!seldon model unload --model-name iris"
   ]
  },
  {
   "cell_type": "markdown",
   "id": "30431134",
   "metadata": {},
   "source": [
    "## Tensorflow Model"
   ]
  },
  {
   "cell_type": "code",
   "execution_count": null,
   "id": "34165288",
   "metadata": {},
   "outputs": [],
   "source": [
    "!cat ./models/tfsimple1.yaml"
   ]
  },
  {
   "cell_type": "code",
   "execution_count": null,
   "id": "726f2dd0",
   "metadata": {},
   "outputs": [],
   "source": [
    "!seldon model load -f ./models/tfsimple1.yaml"
   ]
  },
  {
   "cell_type": "code",
   "execution_count": null,
   "id": "2d9b631f",
   "metadata": {},
   "outputs": [],
   "source": [
    "!seldon model status --model-name tfsimple1 -w ModelAvailable | jq ."
   ]
  },
  {
   "cell_type": "code",
   "execution_count": null,
   "id": "7abd240a",
   "metadata": {},
   "outputs": [],
   "source": [
    "!seldon model infer -m tfsimple1 \\\n",
    "    '{\"inputs\":[{\"name\":\"INPUT0\",\"data\":[1,2,3,4,5,6,7,8,9,10,11,12,13,14,15,16],\"datatype\":\"INT32\",\"shape\":[1,16]},{\"name\":\"INPUT1\",\"data\":[1,2,3,4,5,6,7,8,9,10,11,12,13,14,15,16],\"datatype\":\"INT32\",\"shape\":[1,16]}]}' | jq ."
   ]
  },
  {
   "cell_type": "code",
   "execution_count": null,
   "id": "f86c494a",
   "metadata": {},
   "outputs": [],
   "source": [
    "!seldon model infer -m tfsimple1 --inference-mode grpc \\\n",
    "    '{\"model_name\":\"tfsimple1\",\"inputs\":[{\"name\":\"INPUT0\",\"contents\":{\"int_contents\":[1,2,3,4,5,6,7,8,9,10,11,12,13,14,15,16]},\"datatype\":\"INT32\",\"shape\":[1,16]},{\"name\":\"INPUT1\",\"contents\":{\"int_contents\":[1,2,3,4,5,6,7,8,9,10,11,12,13,14,15,16]},\"datatype\":\"INT32\",\"shape\":[1,16]}]}' | jq ."
   ]
  },
  {
   "cell_type": "code",
   "execution_count": null,
   "id": "f7405940",
   "metadata": {},
   "outputs": [],
   "source": [
    "!seldon model unload --model-name tfsimple1"
   ]
  },
  {
   "cell_type": "markdown",
   "id": "amber-inclusion",
   "metadata": {},
   "source": [
    "## Experiment"
   ]
  },
  {
   "cell_type": "code",
   "execution_count": null,
   "id": "dfc5a4fd",
   "metadata": {},
   "outputs": [],
   "source": [
    "!cat ./experiments/sklearn1.yaml"
   ]
  },
  {
   "cell_type": "code",
   "execution_count": null,
   "id": "8837f315",
   "metadata": {},
   "outputs": [],
   "source": [
    "!cat ./experiments/sklearn2.yaml"
   ]
  },
  {
   "cell_type": "code",
   "execution_count": null,
   "id": "elect-samba",
   "metadata": {},
   "outputs": [],
   "source": [
    "!seldon model load -f ./experiments/sklearn1.yaml\n",
    "!seldon model load -f ./experiments/sklearn2.yaml"
   ]
  },
  {
   "cell_type": "code",
   "execution_count": null,
   "id": "floral-moisture",
   "metadata": {},
   "outputs": [],
   "source": [
    "!seldon model status --model-name iris | jq .\n",
    "!seldon model status --model-name iris2 | jq ."
   ]
  },
  {
   "cell_type": "code",
   "execution_count": null,
   "id": "10fe4447",
   "metadata": {},
   "outputs": [],
   "source": [
    "!cat ./experiments/ab-default-model.yaml "
   ]
  },
  {
   "cell_type": "code",
   "execution_count": null,
   "id": "differential-array",
   "metadata": {},
   "outputs": [],
   "source": [
    "!seldon experiment start -f ./experiments/ab-default-model.yaml "
   ]
  },
  {
   "cell_type": "code",
   "execution_count": null,
   "id": "overhead-banks",
   "metadata": {},
   "outputs": [],
   "source": [
    "!seldon experiment status -e experiment-sample -w | jq ."
   ]
  },
  {
   "cell_type": "code",
   "execution_count": null,
   "id": "finite-significance",
   "metadata": {},
   "outputs": [],
   "source": [
    "!seldon model infer --model-name iris -i 50 \\\n",
    "  '{\"inputs\": [{\"name\": \"predict\", \"shape\": [1, 4], \"datatype\": \"FP32\", \"data\": [[1, 2, 3, 4]]}]}' "
   ]
  },
  {
   "cell_type": "code",
   "execution_count": null,
   "id": "downtown-construction",
   "metadata": {},
   "outputs": [],
   "source": [
    "!seldon experiment stop -e experiment-sample"
   ]
  },
  {
   "cell_type": "code",
   "execution_count": null,
   "id": "077bbce8",
   "metadata": {},
   "outputs": [],
   "source": [
    "!seldon model unload --model-name iris\n",
    "!seldon model unload --model-name iris2"
   ]
  }
 ],
 "metadata": {
  "kernelspec": {
   "display_name": "Python 3 (ipykernel)",
   "language": "python",
   "name": "python3"
  },
  "language_info": {
   "codemirror_mode": {
    "name": "ipython",
    "version": 3
   },
   "file_extension": ".py",
   "mimetype": "text/x-python",
   "name": "python",
   "nbconvert_exporter": "python",
   "pygments_lexer": "ipython3",
   "version": "3.9.10"
  }
 },
 "nbformat": 4,
 "nbformat_minor": 5
}
