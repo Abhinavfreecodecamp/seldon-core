{
 "cells": [
  {
   "cell_type": "markdown",
   "id": "438f8364",
   "metadata": {},
   "source": [
    "# Python example\n",
    "\n",
    "We will test a simple Pipeline with a cifar10 image classification model using a large batch size. We assume a locally running Seldon."
   ]
  },
  {
   "cell_type": "code",
   "execution_count": null,
   "id": "138c1b53",
   "metadata": {},
   "outputs": [],
   "source": [
    "import requests\n",
    "import json\n",
    "from typing import Dict, List\n",
    "import numpy as np\n",
    "import os\n",
    "import tensorflow as tf\n",
    "tf.keras.backend.clear_session()"
   ]
  },
  {
   "cell_type": "code",
   "execution_count": null,
   "id": "9294d563",
   "metadata": {},
   "outputs": [],
   "source": [
    "train, test = tf.keras.datasets.cifar10.load_data()\n",
    "X_train, y_train = train\n",
    "X_test, y_test = test\n",
    "\n",
    "X_train = X_train.astype('float32') / 255\n",
    "X_test = X_test.astype('float32') / 255\n",
    "print(X_train.shape, y_train.shape, X_test.shape, y_test.shape)"
   ]
  },
  {
   "cell_type": "code",
   "execution_count": null,
   "id": "d9c4686f",
   "metadata": {},
   "outputs": [],
   "source": [
    "!cat ./models/cifar10.yaml"
   ]
  },
  {
   "cell_type": "code",
   "execution_count": null,
   "id": "4bddb7ed",
   "metadata": {},
   "outputs": [],
   "source": [
    "!seldon model load -f ./models/cifar10.yaml"
   ]
  },
  {
   "cell_type": "code",
   "execution_count": null,
   "id": "5d5c9181",
   "metadata": {},
   "outputs": [],
   "source": [
    "!seldon model status --model-name cifar10 -w ModelAvailable | jq ."
   ]
  },
  {
   "cell_type": "code",
   "execution_count": null,
   "id": "81375172",
   "metadata": {},
   "outputs": [],
   "source": [
    "!cat ./pipelines/cifar10.yaml"
   ]
  },
  {
   "cell_type": "code",
   "execution_count": null,
   "id": "45c6cda1",
   "metadata": {},
   "outputs": [],
   "source": [
    "!seldon pipeline load -f ./pipelines/cifar10.yaml"
   ]
  },
  {
   "cell_type": "code",
   "execution_count": null,
   "id": "755d5f84",
   "metadata": {},
   "outputs": [],
   "source": [
    "!seldon pipeline status -p cifar10-test -w PipelineReady| jq -M ."
   ]
  },
  {
   "cell_type": "code",
   "execution_count": null,
   "id": "838fca72",
   "metadata": {},
   "outputs": [],
   "source": [
    "headers = {\"Content-Type\": \"application/json\", \"seldon-model\":\"cifar10-test.pipeline\"}\n",
    "reqJson = json.loads('{\"inputs\":[{\"name\":\"input_1\",\"data\":[],\"datatype\":\"FP32\",\"shape\":[]}]}')\n",
    "url = \"http://0.0.0.0:9000/v2/models/cifar10/infer\""
   ]
  },
  {
   "cell_type": "code",
   "execution_count": null,
   "id": "a60c2151",
   "metadata": {},
   "outputs": [],
   "source": [
    "batchSz = 1000\n",
    "rows = X_train[0:0+batchSz]\n",
    "reqJson[\"inputs\"][0][\"data\"] = rows.flatten().tolist()\n",
    "reqJson[\"inputs\"][0][\"shape\"] = [batchSz, 32, 32, 3]"
   ]
  },
  {
   "cell_type": "code",
   "execution_count": null,
   "id": "60d15624",
   "metadata": {},
   "outputs": [],
   "source": [
    "response_raw = requests.post(url, json=reqJson, headers=headers)\n",
    "print(response_raw)\n",
    "print(response_raw.json())"
   ]
  },
  {
   "cell_type": "code",
   "execution_count": null,
   "id": "2b93057d",
   "metadata": {},
   "outputs": [],
   "source": [
    "!seldon pipeline unload -p cifar10-test\n",
    "!seldon model unload --model-name cifar10"
   ]
  },
  {
   "cell_type": "code",
   "execution_count": null,
   "id": "d5c62fae",
   "metadata": {},
   "outputs": [],
   "source": []
  }
 ],
 "metadata": {
  "kernelspec": {
   "display_name": "Python 3 (ipykernel)",
   "language": "python",
   "name": "python3"
  },
  "language_info": {
   "codemirror_mode": {
    "name": "ipython",
    "version": 3
   },
   "file_extension": ".py",
   "mimetype": "text/x-python",
   "name": "python",
   "nbconvert_exporter": "python",
   "pygments_lexer": "ipython3",
   "version": "3.9.10"
  }
 },
 "nbformat": 4,
 "nbformat_minor": 5
}
