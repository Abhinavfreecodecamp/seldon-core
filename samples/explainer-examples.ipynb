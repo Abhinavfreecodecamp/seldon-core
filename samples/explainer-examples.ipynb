{
 "cells": [
  {
   "cell_type": "markdown",
   "id": "8f9344b4",
   "metadata": {},
   "source": [
    "## Anchor Tabular Explainer for SKLearn Income Model"
   ]
  },
  {
   "cell_type": "code",
   "execution_count": 12,
   "id": "bed5b232",
   "metadata": {},
   "outputs": [
    {
     "name": "stdout",
     "output_type": "stream",
     "text": [
      "apiVersion: mlops.seldon.io/v1alpha1\r\n",
      "kind: Model\r\n",
      "metadata:\r\n",
      "  name: income\r\n",
      "spec:\r\n",
      "  storageUri: \"gs://seldon-models/scv2/examples/income/classifier\"\r\n",
      "  requirements:\r\n",
      "  - sklearn\r\n"
     ]
    }
   ],
   "source": [
    "!cat ./models/income.yaml"
   ]
  },
  {
   "cell_type": "code",
   "execution_count": 13,
   "id": "e65edf6d",
   "metadata": {},
   "outputs": [
    {
     "name": "stdout",
     "output_type": "stream",
     "text": [
      "{}\r\n"
     ]
    }
   ],
   "source": [
    "!seldon model load -f ./models/income.yaml"
   ]
  },
  {
   "cell_type": "code",
   "execution_count": 14,
   "id": "b1a65e4f",
   "metadata": {},
   "outputs": [
    {
     "name": "stdout",
     "output_type": "stream",
     "text": [
      "{}\r\n"
     ]
    }
   ],
   "source": [
    "!seldon model status income -w ModelAvailable"
   ]
  },
  {
   "cell_type": "code",
   "execution_count": 15,
   "id": "1729d991",
   "metadata": {},
   "outputs": [
    {
     "name": "stdout",
     "output_type": "stream",
     "text": [
      "{\r\n",
      "\t\"model_name\": \"income_1\",\r\n",
      "\t\"model_version\": \"1\",\r\n",
      "\t\"id\": \"fc0fce00-5454-493f-85c1-945e9bf6ed4f\",\r\n",
      "\t\"parameters\": {\r\n",
      "\t\t\"content_type\": null,\r\n",
      "\t\t\"headers\": null\r\n",
      "\t},\r\n",
      "\t\"outputs\": [\r\n",
      "\t\t{\r\n",
      "\t\t\t\"name\": \"predict\",\r\n",
      "\t\t\t\"shape\": [\r\n",
      "\t\t\t\t1\r\n",
      "\t\t\t],\r\n",
      "\t\t\t\"datatype\": \"INT64\",\r\n",
      "\t\t\t\"parameters\": null,\r\n",
      "\t\t\t\"data\": [\r\n",
      "\t\t\t\t0\r\n",
      "\t\t\t]\r\n",
      "\t\t}\r\n",
      "\t]\r\n",
      "}\r\n"
     ]
    }
   ],
   "source": [
    "!seldon model infer income \\\n",
    "  '{\"inputs\": [{\"name\": \"predict\", \"shape\": [1, 12], \"datatype\": \"FP32\", \"data\": [[47,4,1,1,1,3,4,1,0,0,40,9]]}]}' "
   ]
  },
  {
   "cell_type": "code",
   "execution_count": 16,
   "id": "843a5a70",
   "metadata": {},
   "outputs": [
    {
     "name": "stdout",
     "output_type": "stream",
     "text": [
      "apiVersion: mlops.seldon.io/v1alpha1\r\n",
      "kind: Model\r\n",
      "metadata:\r\n",
      "  name: income-explainer\r\n",
      "spec:\r\n",
      "  storageUri: \"gs://seldon-models/scv2/examples/income/explainer\"\r\n",
      "  explainer:\r\n",
      "    type: anchor_tabular\r\n",
      "    modelRef: income\r\n"
     ]
    }
   ],
   "source": [
    "!cat ./models/income-explainer.yaml"
   ]
  },
  {
   "cell_type": "code",
   "execution_count": 17,
   "id": "73de58f8",
   "metadata": {},
   "outputs": [
    {
     "name": "stdout",
     "output_type": "stream",
     "text": [
      "{}\r\n"
     ]
    }
   ],
   "source": [
    "!seldon model load -f ./models/income-explainer.yaml"
   ]
  },
  {
   "cell_type": "code",
   "execution_count": 18,
   "id": "10e50de8",
   "metadata": {},
   "outputs": [
    {
     "name": "stdout",
     "output_type": "stream",
     "text": [
      "{}\r\n"
     ]
    }
   ],
   "source": [
    "!seldon model status income-explainer -w ModelAvailable"
   ]
  },
  {
   "cell_type": "code",
   "execution_count": 19,
   "id": "6191c534",
   "metadata": {},
   "outputs": [
    {
     "name": "stdout",
     "output_type": "stream",
     "text": [
      "{\r\n",
      "\t\"model_name\": \"income-explainer_1\",\r\n",
      "\t\"model_version\": \"1\",\r\n",
      "\t\"id\": \"0109be60-4b40-41d5-aef7-106601fc8cf5\",\r\n",
      "\t\"parameters\": {\r\n",
      "\t\t\"content_type\": null,\r\n",
      "\t\t\"headers\": null\r\n",
      "\t},\r\n",
      "\t\"outputs\": [\r\n",
      "\t\t{\r\n",
      "\t\t\t\"name\": \"explanation\",\r\n",
      "\t\t\t\"shape\": [\r\n",
      "\t\t\t\t1\r\n",
      "\t\t\t],\r\n",
      "\t\t\t\"datatype\": \"BYTES\",\r\n",
      "\t\t\t\"parameters\": {\r\n",
      "\t\t\t\t\"content_type\": \"str\",\r\n",
      "\t\t\t\t\"headers\": null\r\n",
      "\t\t\t},\r\n",
      "\t\t\t\"data\": [\r\n",
      "\t\t\t\t\"{\\\"meta\\\": {\\\"name\\\": \\\"AnchorTabular\\\", \\\"type\\\": [\\\"blackbox\\\"], \\\"explanations\\\": [\\\"local\\\"], \\\"params\\\": {\\\"seed\\\": 1, \\\"disc_perc\\\": [25, 50, 75], \\\"threshold\\\": 0.95, \\\"delta\\\": 0.1, \\\"tau\\\": 0.15, \\\"batch_size\\\": 100, \\\"coverage_samples\\\": 10000, \\\"beam_size\\\": 1, \\\"stop_on_first\\\": false, \\\"max_anchor_size\\\": null, \\\"min_samples_start\\\": 100, \\\"n_covered_ex\\\": 10, \\\"binary_cache_size\\\": 10000, \\\"cache_margin\\\": 1000, \\\"verbose\\\": false, \\\"verbose_every\\\": 1, \\\"kwargs\\\": {}}, \\\"version\\\": \\\"0.8.0\\\"}, \\\"data\\\": {\\\"anchor\\\": [\\\"Marital Status = Never-Married\\\", \\\"Relationship = Own-child\\\", \\\"Capital Gain <= 0.00\\\"], \\\"precision\\\": 0.975609756097561, \\\"coverage\\\": 0.06853582554517133, \\\"raw\\\": {\\\"feature\\\": [3, 5, 8], \\\"mean\\\": [0.7866666666666666, 0.9232876712328767, 0.975609756097561], \\\"precision\\\": [0.7866666666666666, 0.9232876712328767, 0.975609756097561], \\\"coverage\\\": [0.3037383177570093, 0.07165109034267912, 0.06853582554517133], \\\"examples\\\": [{\\\"covered_true\\\": [[35, 4, 1, 1, 7, 5, 4, 0, 0, 0, 24, 4], [24, 4, 1, 1, 8, 3, 2, 0, 0, 0, 40, 9], [43, 4, 1, 1, 8, 0, 4, 1, 0, 0, 45, 9], [42, 6, 1, 1, 6, 0, 4, 1, 0, 0, 60, 9], [32, 2, 5, 1, 5, 0, 4, 1, 0, 0, 50, 9], [26, 4, 1, 1, 5, 3, 4, 0, 0, 0, 40, 9], [29, 4, 1, 1, 2, 1, 4, 1, 0, 0, 40, 9], [28, 4, 1, 1, 2, 1, 4, 1, 0, 0, 55, 9], [32, 4, 1, 1, 5, 1, 4, 0, 0, 0, 45, 9], [27, 4, 1, 1, 7, 3, 4, 0, 0, 0, 20, 9]], \\\"covered_false\\\": [[46, 6, 5, 1, 8, 0, 4, 1, 0, 0, 50, 9], [42, 6, 5, 1, 8, 0, 4, 1, 0, 0, 50, 9], [40, 4, 5, 1, 5, 1, 4, 0, 0, 0, 45, 9], [30, 4, 1, 1, 5, 5, 4, 0, 7688, 0, 50, 9], [52, 4, 5, 1, 5, 4, 4, 1, 15020, 0, 50, 9], [48, 4, 5, 1, 8, 1, 4, 1, 99999, 0, 50, 9], [40, 2, 1, 1, 5, 1, 4, 1, 0, 0, 50, 9], [44, 4, 5, 1, 8, 1, 4, 1, 14084, 0, 56, 9], [30, 4, 1, 1, 5, 5, 4, 0, 7688, 0, 50, 9], [43, 4, 1, 1, 8, 0, 4, 1, 0, 1977, 50, 9]], \\\"uncovered_true\\\": [], \\\"uncovered_false\\\": []}, {\\\"covered_true\\\": [[40, 6, 1, 1, 8, 3, 4, 1, 0, 0, 45, 9], [39, 4, 1, 1, 6, 3, 4, 1, 0, 0, 60, 9], [53, 4, 5, 1, 8, 3, 4, 1, 0, 0, 40, 9], [25, 4, 1, 1, 1, 3, 4, 0, 0, 0, 40, 9], [75, 6, 5, 1, 5, 3, 4, 0, 0, 0, 50, 9], [25, 4, 1, 1, 8, 3, 4, 1, 0, 0, 40, 9], [30, 4, 1, 1, 4, 3, 4, 1, 0, 0, 60, 4], [22, 4, 1, 1, 8, 3, 4, 0, 0, 0, 30, 9], [48, 4, 1, 1, 5, 3, 4, 1, 0, 0, 45, 1], [51, 4, 2, 1, 5, 3, 4, 1, 0, 0, 40, 9]], \\\"covered_false\\\": [[47, 6, 1, 1, 8, 3, 2, 1, 10520, 0, 45, 9], [44, 4, 1, 1, 5, 3, 4, 1, 7688, 0, 40, 9], [50, 4, 5, 1, 8, 3, 4, 1, 15024, 0, 65, 9], [32, 4, 1, 1, 6, 3, 2, 1, 15024, 0, 50, 9], [66, 4, 1, 1, 5, 3, 4, 1, 20051, 0, 40, 9], [49, 7, 2, 1, 8, 3, 4, 1, 0, 0, 50, 9], [78, 5, 1, 1, 8, 3, 4, 1, 9386, 0, 45, 9]], \\\"uncovered_true\\\": [], \\\"uncovered_false\\\": []}, {\\\"covered_true\\\": [[27, 4, 1, 1, 8, 3, 4, 1, 0, 0, 45, 9], [32, 2, 5, 1, 5, 3, 4, 0, 0, 0, 40, 9], [41, 4, 5, 1, 5, 3, 4, 1, 0, 0, 40, 9], [44, 4, 1, 1, 5, 3, 4, 1, 0, 0, 40, 9], [26, 4, 1, 1, 8, 3, 4, 1, 0, 0, 40, 9], [31, 4, 1, 1, 8, 3, 4, 0, 0, 0, 50, 9], [27, 4, 1, 1, 5, 3, 1, 1, 0, 0, 40, 9], [43, 4, 1, 1, 8, 3, 4, 0, 0, 0, 40, 9], [43, 4, 1, 1, 2, 3, 2, 1, 0, 0, 40, 9], [26, 7, 1, 1, 5, 3, 1, 1, 0, 0, 20, 1]], \\\"covered_false\\\": [], \\\"uncovered_true\\\": [], \\\"uncovered_false\\\": []}], \\\"all_precision\\\": 0, \\\"num_preds\\\": 1000000, \\\"success\\\": true, \\\"names\\\": [\\\"Marital Status = Never-Married\\\", \\\"Relationship = Own-child\\\", \\\"Capital Gain <= 0.00\\\"], \\\"prediction\\\": [0], \\\"instance\\\": [47.0, 4.0, 1.0, 1.0, 1.0, 3.0, 4.0, 1.0, 0.0, 0.0, 40.0, 9.0], \\\"instances\\\": [[47.0, 4.0, 1.0, 1.0, 1.0, 3.0, 4.0, 1.0, 0.0, 0.0, 40.0, 9.0]]}}}\"\r\n",
      "\t\t\t]\r\n",
      "\t\t}\r\n",
      "\t]\r\n",
      "}\r\n"
     ]
    }
   ],
   "source": [
    "!seldon model infer income-explainer \\\n",
    "  '{\"inputs\": [{\"name\": \"predict\", \"shape\": [1, 12], \"datatype\": \"FP32\", \"data\": [[47,4,1,1,1,3,4,1,0,0,40,9]]}]}'"
   ]
  },
  {
   "cell_type": "code",
   "execution_count": 20,
   "id": "a8d8b077",
   "metadata": {},
   "outputs": [
    {
     "name": "stdout",
     "output_type": "stream",
     "text": [
      "{}\r\n"
     ]
    }
   ],
   "source": [
    "!seldon model unload income-explainer"
   ]
  },
  {
   "cell_type": "code",
   "execution_count": 21,
   "id": "bce80764",
   "metadata": {},
   "outputs": [
    {
     "name": "stdout",
     "output_type": "stream",
     "text": [
      "{}\r\n"
     ]
    }
   ],
   "source": [
    "!seldon model unload income"
   ]
  },
  {
   "cell_type": "code",
   "execution_count": null,
   "id": "cc92f3fb",
   "metadata": {},
   "outputs": [],
   "source": []
  }
 ],
 "metadata": {
  "kernelspec": {
   "display_name": "Python 3 (ipykernel)",
   "language": "python",
   "name": "python3"
  },
  "language_info": {
   "codemirror_mode": {
    "name": "ipython",
    "version": 3
   },
   "file_extension": ".py",
   "mimetype": "text/x-python",
   "name": "python",
   "nbconvert_exporter": "python",
   "pygments_lexer": "ipython3",
   "version": "3.9.10"
  }
 },
 "nbformat": 4,
 "nbformat_minor": 5
}
