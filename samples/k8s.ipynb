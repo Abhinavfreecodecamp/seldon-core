{
 "cells": [
  {
   "cell_type": "markdown",
   "id": "impressed-accessory",
   "metadata": {},
   "source": [
    "# Seldon V2 Kubernetes Examples\n",
    "\n",
    " * Create a kubernetes cluster with local auth to it\n",
    " * Install Kafka - see `kafka/strimzi` folder\n",
    " * Build if needed and place `seldon` binary in your path\n",
    " * Install Seldon on Kubernetes\n",
    "   * Run `make deploy-k8s` from top level folder\n"
   ]
  },
  {
   "cell_type": "code",
   "execution_count": null,
   "id": "sunrise-commercial",
   "metadata": {},
   "outputs": [],
   "source": [
    "MESH_IP=!kubectl get svc seldon-mesh -n seldon-mesh -o jsonpath='{.status.loadBalancer.ingress[0].ip}'\n",
    "MESH_IP=MESH_IP[0]\n",
    "import os\n",
    "os.environ['MESH_IP'] = MESH_IP\n",
    "MESH_IP"
   ]
  },
  {
   "cell_type": "code",
   "execution_count": null,
   "id": "offensive-shield",
   "metadata": {},
   "outputs": [],
   "source": [
    "!which seldon"
   ]
  },
  {
   "cell_type": "markdown",
   "id": "speaking-bracelet",
   "metadata": {},
   "source": [
    "## Model"
   ]
  },
  {
   "cell_type": "code",
   "execution_count": null,
   "id": "operating-console",
   "metadata": {},
   "outputs": [],
   "source": [
    "!cat ./models/sklearn-iris-gs.yaml"
   ]
  },
  {
   "cell_type": "code",
   "execution_count": null,
   "id": "exempt-bumper",
   "metadata": {
    "scrolled": true
   },
   "outputs": [],
   "source": [
    "!kubectl create -f ./models/sklearn-iris-gs.yaml"
   ]
  },
  {
   "cell_type": "code",
   "execution_count": null,
   "id": "beneficial-logan",
   "metadata": {},
   "outputs": [],
   "source": [
    "!kubectl wait --for condition=ready --timeout=300s model --all -n seldon-mesh"
   ]
  },
  {
   "cell_type": "code",
   "execution_count": null,
   "id": "prepared-duration",
   "metadata": {},
   "outputs": [],
   "source": [
    "!kubectl get model iris -n seldon-mesh -o jsonpath='{.status}' | jq ."
   ]
  },
  {
   "cell_type": "code",
   "execution_count": null,
   "id": "67900afd",
   "metadata": {},
   "outputs": [],
   "source": [
    "!seldon model infer --model-name iris --inference-host ${MESH_IP} --inference-port 80 \\\n",
    "  '{\"inputs\": [{\"name\": \"predict\", \"shape\": [1, 4], \"datatype\": \"FP32\", \"data\": [[1, 2, 3, 4]]}]}' "
   ]
  },
  {
   "cell_type": "code",
   "execution_count": null,
   "id": "a1848c7d",
   "metadata": {},
   "outputs": [],
   "source": [
    "!seldon model infer --model-name iris --inference-mode grpc --inference-host ${MESH_IP} --inference-port 80 \\\n",
    "   '{\"model_name\":\"iris\",\"inputs\":[{\"name\":\"input\",\"contents\":{\"fp32_contents\":[1,2,3,4]},\"datatype\":\"FP32\",\"shape\":[1,4]}]}' | jq ."
   ]
  },
  {
   "cell_type": "code",
   "execution_count": null,
   "id": "attended-vanilla",
   "metadata": {
    "scrolled": true
   },
   "outputs": [],
   "source": [
    "!kubectl get server mlserver -n seldon-mesh -o jsonpath='{.status}' | jq ."
   ]
  },
  {
   "cell_type": "code",
   "execution_count": null,
   "id": "precious-development",
   "metadata": {},
   "outputs": [],
   "source": [
    "!kubectl delete -f ./models/sklearn-iris-gs.yaml"
   ]
  },
  {
   "cell_type": "markdown",
   "id": "lined-inspector",
   "metadata": {},
   "source": [
    "## Experiment"
   ]
  },
  {
   "cell_type": "code",
   "execution_count": null,
   "id": "daily-stretch",
   "metadata": {},
   "outputs": [],
   "source": [
    "!cat ./experiments/sklearn1.yaml"
   ]
  },
  {
   "cell_type": "code",
   "execution_count": null,
   "id": "experienced-egypt",
   "metadata": {},
   "outputs": [],
   "source": [
    "!cat ./experiments/sklearn2.yaml "
   ]
  },
  {
   "cell_type": "code",
   "execution_count": null,
   "id": "utility-sweden",
   "metadata": {},
   "outputs": [],
   "source": [
    "!kubectl create -f ./experiments/sklearn1.yaml\n",
    "!kubectl create -f ./experiments/sklearn2.yaml"
   ]
  },
  {
   "cell_type": "code",
   "execution_count": null,
   "id": "african-blair",
   "metadata": {},
   "outputs": [],
   "source": [
    "!kubectl wait --for condition=ready --timeout=300s model --all -n seldon-mesh"
   ]
  },
  {
   "cell_type": "code",
   "execution_count": null,
   "id": "trained-steering",
   "metadata": {},
   "outputs": [],
   "source": [
    "!cat ./experiments/ab-default-model.yaml "
   ]
  },
  {
   "cell_type": "code",
   "execution_count": null,
   "id": "saving-links",
   "metadata": {},
   "outputs": [],
   "source": [
    "!kubectl create -f ./experiments/ab-default-model.yaml "
   ]
  },
  {
   "cell_type": "code",
   "execution_count": null,
   "id": "finnish-rider",
   "metadata": {},
   "outputs": [],
   "source": [
    "!kubectl wait --for condition=ready --timeout=300s experiment --all -n seldon-mesh"
   ]
  },
  {
   "cell_type": "code",
   "execution_count": null,
   "id": "effective-athens",
   "metadata": {},
   "outputs": [],
   "source": [
    "!seldon model infer --inference-host ${MESH_IP} --inference-port 80 -i 50 --model-name iris \\\n",
    "  '{\"inputs\": [{\"name\": \"predict\", \"shape\": [1, 4], \"datatype\": \"FP32\", \"data\": [[1, 2, 3, 4]]}]}' "
   ]
  },
  {
   "cell_type": "code",
   "execution_count": null,
   "id": "widespread-middle",
   "metadata": {},
   "outputs": [],
   "source": [
    "!kubectl delete -f ./experiments/ab-default-model.yaml \n",
    "!kubectl delete -f ./experiments/sklearn1.yaml\n",
    "!kubectl delete -f ./experiments/sklearn2.yaml"
   ]
  },
  {
   "cell_type": "markdown",
   "id": "charged-affect",
   "metadata": {},
   "source": [
    "## Pipeline - smoke test - single model"
   ]
  },
  {
   "cell_type": "code",
   "execution_count": null,
   "id": "reflected-stranger",
   "metadata": {},
   "outputs": [],
   "source": [
    "!cat ./models/sklearn-iris-gs.yaml"
   ]
  },
  {
   "cell_type": "code",
   "execution_count": null,
   "id": "emotional-popularity",
   "metadata": {},
   "outputs": [],
   "source": [
    "!kubectl create -f ./models/sklearn-iris-gs.yaml"
   ]
  },
  {
   "cell_type": "code",
   "execution_count": null,
   "id": "suitable-michigan",
   "metadata": {},
   "outputs": [],
   "source": [
    "!kubectl wait --for condition=ready --timeout=300s model --all -n seldon-mesh"
   ]
  },
  {
   "cell_type": "code",
   "execution_count": null,
   "id": "turned-scholar",
   "metadata": {},
   "outputs": [],
   "source": [
    "!cat ./pipelines/iris.yaml"
   ]
  },
  {
   "cell_type": "code",
   "execution_count": null,
   "id": "b67d19b6",
   "metadata": {},
   "outputs": [],
   "source": [
    "!kubectl create -f ./pipelines/iris.yaml"
   ]
  },
  {
   "cell_type": "code",
   "execution_count": null,
   "id": "90beaadf",
   "metadata": {},
   "outputs": [],
   "source": [
    "!kubectl wait --for condition=ready --timeout=300s pipeline --all -n seldon-mesh"
   ]
  },
  {
   "cell_type": "code",
   "execution_count": null,
   "id": "5e61b2e3",
   "metadata": {},
   "outputs": [],
   "source": [
    "!seldon pipeline infer -p iris --inference-host ${MESH_IP} --inference-port 80 \\\n",
    "   '{\"inputs\": [{\"name\": \"predict\", \"shape\": [1, 4], \"datatype\": \"FP32\", \"data\": [[1, 2, 3, 4]]}]}' "
   ]
  },
  {
   "cell_type": "code",
   "execution_count": null,
   "id": "e976849f",
   "metadata": {},
   "outputs": [],
   "source": [
    "!kubectl delete -f ./pipelines/iris.yaml"
   ]
  },
  {
   "cell_type": "code",
   "execution_count": null,
   "id": "7c05c767",
   "metadata": {},
   "outputs": [],
   "source": [
    "!kubectl delete -f ./models/sklearn-iris-gs.yaml"
   ]
  },
  {
   "cell_type": "markdown",
   "id": "c4712c36",
   "metadata": {},
   "source": [
    "## Pipeline - model chain"
   ]
  },
  {
   "cell_type": "code",
   "execution_count": null,
   "id": "1b1f0a00",
   "metadata": {},
   "outputs": [],
   "source": [
    "!cat ./models/tfsimple1.yaml\n",
    "!cat ./models/tfsimple2.yaml"
   ]
  },
  {
   "cell_type": "code",
   "execution_count": null,
   "id": "776122d9",
   "metadata": {},
   "outputs": [],
   "source": [
    "!kubectl create -f ./models/tfsimple1.yaml\n",
    "!kubectl create -f ./models/tfsimple2.yaml"
   ]
  },
  {
   "cell_type": "code",
   "execution_count": null,
   "id": "2499e435",
   "metadata": {},
   "outputs": [],
   "source": [
    "!kubectl wait --for condition=ready --timeout=300s model --all -n seldon-mesh"
   ]
  },
  {
   "cell_type": "code",
   "execution_count": null,
   "id": "70c78cee",
   "metadata": {},
   "outputs": [],
   "source": [
    "!cat ./pipelines/tfsimples.yaml"
   ]
  },
  {
   "cell_type": "code",
   "execution_count": null,
   "id": "69033959",
   "metadata": {},
   "outputs": [],
   "source": [
    "!kubectl create -f ./pipelines/tfsimples.yaml"
   ]
  },
  {
   "cell_type": "code",
   "execution_count": null,
   "id": "1d6f2f47",
   "metadata": {},
   "outputs": [],
   "source": [
    "!kubectl wait --for condition=ready --timeout=300s pipeline --all -n seldon-mesh"
   ]
  },
  {
   "cell_type": "code",
   "execution_count": null,
   "id": "6fb5a35c",
   "metadata": {},
   "outputs": [],
   "source": [
    "!seldon pipeline infer -p tfsimples --inference-mode grpc --inference-host ${MESH_IP} --inference-port 80 \\\n",
    "    '{\"model_name\":\"simple\",\"inputs\":[{\"name\":\"INPUT0\",\"contents\":{\"int_contents\":[1,2,3,4,5,6,7,8,9,10,11,12,13,14,15,16]},\"datatype\":\"INT32\",\"shape\":[1,16]},{\"name\":\"INPUT1\",\"contents\":{\"int_contents\":[1,2,3,4,5,6,7,8,9,10,11,12,13,14,15,16]},\"datatype\":\"INT32\",\"shape\":[1,16]}]}' | jq ."
   ]
  },
  {
   "cell_type": "code",
   "execution_count": null,
   "id": "2487f322",
   "metadata": {},
   "outputs": [],
   "source": [
    "!kubectl delete -f ./pipelines/tfsimples.yaml"
   ]
  },
  {
   "cell_type": "code",
   "execution_count": null,
   "id": "58f3b20c",
   "metadata": {},
   "outputs": [],
   "source": [
    "!kubectl delete -f ./models/tfsimple1.yaml\n",
    "!kubectl delete -f ./models/tfsimple2.yaml"
   ]
  },
  {
   "cell_type": "markdown",
   "id": "92b3ea6b",
   "metadata": {},
   "source": [
    "## Pipeline - model join"
   ]
  },
  {
   "cell_type": "code",
   "execution_count": null,
   "id": "f3c791fc",
   "metadata": {},
   "outputs": [],
   "source": [
    "!cat ./models/tfsimple1.yaml\n",
    "!cat ./models/tfsimple2.yaml\n",
    "!cat ./models/tfsimple3.yaml"
   ]
  },
  {
   "cell_type": "code",
   "execution_count": null,
   "id": "779ebd6b",
   "metadata": {},
   "outputs": [],
   "source": [
    "!kubectl create -f ./models/tfsimple1.yaml\n",
    "!kubectl create -f ./models/tfsimple2.yaml\n",
    "!kubectl create -f ./models/tfsimple3.yaml"
   ]
  },
  {
   "cell_type": "code",
   "execution_count": null,
   "id": "79a7088d",
   "metadata": {},
   "outputs": [],
   "source": [
    "!kubectl wait --for condition=ready --timeout=300s model --all -n seldon-mesh"
   ]
  },
  {
   "cell_type": "code",
   "execution_count": null,
   "id": "c6a0e53e",
   "metadata": {},
   "outputs": [],
   "source": [
    "!cat ./pipelines/tfsimples-join.yaml"
   ]
  },
  {
   "cell_type": "code",
   "execution_count": null,
   "id": "1ff21deb",
   "metadata": {},
   "outputs": [],
   "source": [
    "!kubectl create -f ./pipelines/tfsimples-join.yaml"
   ]
  },
  {
   "cell_type": "code",
   "execution_count": null,
   "id": "9984ebf6",
   "metadata": {},
   "outputs": [],
   "source": [
    "!kubectl wait --for condition=ready --timeout=300s pipeline --all -n seldon-mesh"
   ]
  },
  {
   "cell_type": "code",
   "execution_count": null,
   "id": "06c0f069",
   "metadata": {},
   "outputs": [],
   "source": [
    "!seldon pipeline infer -p join --inference-mode grpc --inference-host ${MESH_IP} --inference-port 80 \\\n",
    "    '{\"model_name\":\"simple\",\"inputs\":[{\"name\":\"INPUT0\",\"contents\":{\"int_contents\":[1,2,3,4,5,6,7,8,9,10,11,12,13,14,15,16]},\"datatype\":\"INT32\",\"shape\":[1,16]},{\"name\":\"INPUT1\",\"contents\":{\"int_contents\":[1,2,3,4,5,6,7,8,9,10,11,12,13,14,15,16]},\"datatype\":\"INT32\",\"shape\":[1,16]}]}' | jq ."
   ]
  },
  {
   "cell_type": "code",
   "execution_count": null,
   "id": "cd63243f",
   "metadata": {},
   "outputs": [],
   "source": [
    "!kubectl delete -f ./pipelines/tfsimples-join.yaml"
   ]
  },
  {
   "cell_type": "code",
   "execution_count": null,
   "id": "a825bfe6",
   "metadata": {},
   "outputs": [],
   "source": [
    "!kubectl delete -f ./models/tfsimple1.yaml\n",
    "!kubectl delete -f ./models/tfsimple2.yaml\n",
    "!kubectl delete -f ./models/tfsimple3.yaml"
   ]
  },
  {
   "cell_type": "code",
   "execution_count": null,
   "id": "6cb8fd3e",
   "metadata": {},
   "outputs": [],
   "source": []
  }
 ],
 "metadata": {
  "kernelspec": {
   "display_name": "Python 3 (ipykernel)",
   "language": "python",
   "name": "python3"
  },
  "language_info": {
   "codemirror_mode": {
    "name": "ipython",
    "version": 3
   },
   "file_extension": ".py",
   "mimetype": "text/x-python",
   "name": "python",
   "nbconvert_exporter": "python",
   "pygments_lexer": "ipython3",
   "version": "3.9.10"
  }
 },
 "nbformat": 4,
 "nbformat_minor": 5
}
