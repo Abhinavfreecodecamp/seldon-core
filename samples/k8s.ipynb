{
 "cells": [
  {
   "cell_type": "markdown",
   "id": "impressed-accessory",
   "metadata": {},
   "source": [
    "# Seldon V2 Kubernetes Examples\n",
    "\n",
    " * Build if needed and place `seldon` binary in your path\n",
    " * Install Seldon on Kubernetes\n"
   ]
  },
  {
   "cell_type": "code",
   "execution_count": null,
   "id": "sunrise-commercial",
   "metadata": {},
   "outputs": [],
   "source": [
    "MESH_IP=!kubectl get svc seldon-mesh -n seldon-mesh -o jsonpath='{.status.loadBalancer.ingress[0].ip}'\n",
    "MESH_IP=MESH_IP[0]\n",
    "import os\n",
    "os.environ['MESH_IP'] = MESH_IP\n",
    "MESH_IP"
   ]
  },
  {
   "cell_type": "code",
   "execution_count": null,
   "id": "offensive-shield",
   "metadata": {},
   "outputs": [],
   "source": [
    "!which seldon"
   ]
  },
  {
   "cell_type": "markdown",
   "id": "speaking-bracelet",
   "metadata": {},
   "source": [
    "## Model"
   ]
  },
  {
   "cell_type": "code",
   "execution_count": null,
   "id": "operating-console",
   "metadata": {},
   "outputs": [],
   "source": [
    "!cat ./models/sklearn-iris-gs.yaml"
   ]
  },
  {
   "cell_type": "code",
   "execution_count": null,
   "id": "exempt-bumper",
   "metadata": {
    "scrolled": true
   },
   "outputs": [],
   "source": [
    "!kubectl create -f ./models/sklearn-iris-gs.yaml"
   ]
  },
  {
   "cell_type": "code",
   "execution_count": null,
   "id": "beneficial-logan",
   "metadata": {},
   "outputs": [],
   "source": [
    "!kubectl wait --for condition=ready --timeout=300s model --all -n seldon-mesh"
   ]
  },
  {
   "cell_type": "code",
   "execution_count": null,
   "id": "prepared-duration",
   "metadata": {},
   "outputs": [],
   "source": [
    "!kubectl get model iris -n seldon-mesh -o jsonpath='{.status}' | jq ."
   ]
  },
  {
   "cell_type": "code",
   "execution_count": null,
   "id": "accurate-patrol",
   "metadata": {
    "scrolled": true
   },
   "outputs": [],
   "source": [
    "!curl -v http://${MESH_IP}/v2/models/iris/infer -H \"Content-Type: application/json\" -H \"seldon-model: iris\"\\\n",
    "        -d '{\"inputs\": [{\"name\": \"predict\", \"shape\": [1, 4], \"datatype\": \"FP32\", \"data\": [[1, 2, 3, 4]]}]}'"
   ]
  },
  {
   "cell_type": "code",
   "execution_count": null,
   "id": "attended-vanilla",
   "metadata": {
    "scrolled": true
   },
   "outputs": [],
   "source": [
    "!kubectl get server mlserver -n seldon-mesh -o jsonpath='{.status}' | jq ."
   ]
  },
  {
   "cell_type": "code",
   "execution_count": null,
   "id": "precious-development",
   "metadata": {},
   "outputs": [],
   "source": [
    "!kubectl delete -f ./models/sklearn-iris-gs.yaml"
   ]
  },
  {
   "cell_type": "markdown",
   "id": "lined-inspector",
   "metadata": {},
   "source": [
    "## Experiment"
   ]
  },
  {
   "cell_type": "code",
   "execution_count": null,
   "id": "daily-stretch",
   "metadata": {},
   "outputs": [],
   "source": [
    "!cat ./experiments/sklearn1.yaml"
   ]
  },
  {
   "cell_type": "code",
   "execution_count": null,
   "id": "experienced-egypt",
   "metadata": {},
   "outputs": [],
   "source": [
    "!cat ./experiments/sklearn2.yaml "
   ]
  },
  {
   "cell_type": "code",
   "execution_count": null,
   "id": "utility-sweden",
   "metadata": {},
   "outputs": [],
   "source": [
    "!kubectl create -f ./experiments/sklearn1.yaml\n",
    "!kubectl create -f ./experiments/sklearn2.yaml"
   ]
  },
  {
   "cell_type": "code",
   "execution_count": null,
   "id": "african-blair",
   "metadata": {},
   "outputs": [],
   "source": [
    "!kubectl wait --for condition=ready --timeout=300s model --all -n seldon-mesh"
   ]
  },
  {
   "cell_type": "code",
   "execution_count": null,
   "id": "trained-steering",
   "metadata": {},
   "outputs": [],
   "source": [
    "!cat ./experiments/ab-default-model.yaml "
   ]
  },
  {
   "cell_type": "code",
   "execution_count": null,
   "id": "saving-links",
   "metadata": {},
   "outputs": [],
   "source": [
    "!kubectl create -f ./experiments/ab-default-model.yaml "
   ]
  },
  {
   "cell_type": "code",
   "execution_count": null,
   "id": "finnish-rider",
   "metadata": {},
   "outputs": [],
   "source": [
    "!kubectl wait --for condition=ready --timeout=300s experiment --all -n seldon-mesh"
   ]
  },
  {
   "cell_type": "code",
   "execution_count": null,
   "id": "effective-athens",
   "metadata": {},
   "outputs": [],
   "source": [
    "!seldon model infer --inference-host ${MESH_IP} --inference-port 80 -i 50 --model-name iris \\\n",
    "  '{\"inputs\": [{\"name\": \"predict\", \"shape\": [1, 4], \"datatype\": \"FP32\", \"data\": [[1, 2, 3, 4]]}]}' "
   ]
  },
  {
   "cell_type": "code",
   "execution_count": null,
   "id": "widespread-middle",
   "metadata": {},
   "outputs": [],
   "source": [
    "!kubectl delete -f ./experiments/ab-default-model.yaml \n",
    "!kubectl delete -f ./experiments/sklearn1.yaml\n",
    "!kubectl delete -f ./experiments/sklearn2.yaml"
   ]
  },
  {
   "cell_type": "markdown",
   "id": "charged-affect",
   "metadata": {},
   "source": [
    "## Pipeline (WIP)"
   ]
  },
  {
   "cell_type": "code",
   "execution_count": null,
   "id": "reflected-stranger",
   "metadata": {},
   "outputs": [],
   "source": [
    "!cat ./pipelines/example.yaml"
   ]
  },
  {
   "cell_type": "code",
   "execution_count": null,
   "id": "emotional-popularity",
   "metadata": {},
   "outputs": [],
   "source": [
    "!kubectl create -f ./pipelines/example.yaml"
   ]
  },
  {
   "cell_type": "code",
   "execution_count": null,
   "id": "suitable-michigan",
   "metadata": {},
   "outputs": [],
   "source": [
    "!kubectl delete -f ./pipelines/example.yaml"
   ]
  },
  {
   "cell_type": "code",
   "execution_count": null,
   "id": "turned-scholar",
   "metadata": {},
   "outputs": [],
   "source": []
  }
 ],
 "metadata": {
  "kernelspec": {
   "display_name": "Python 3",
   "language": "python",
   "name": "python3"
  },
  "language_info": {
   "codemirror_mode": {
    "name": "ipython",
    "version": 3
   },
   "file_extension": ".py",
   "mimetype": "text/x-python",
   "name": "python",
   "nbconvert_exporter": "python",
   "pygments_lexer": "ipython3",
   "version": "3.7.4"
  }
 },
 "nbformat": 4,
 "nbformat_minor": 5
}
