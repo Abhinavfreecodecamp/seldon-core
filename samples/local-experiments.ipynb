{
 "cells": [
  {
   "cell_type": "markdown",
   "id": "lesbian-springer",
   "metadata": {},
   "source": [
    "## Seldon V2 Non Kubernetes Local Experiment Examples\n"
   ]
  },
  {
   "cell_type": "markdown",
   "id": "amber-inclusion",
   "metadata": {},
   "source": [
    "### Model Experiment\n",
    "\n",
    "We will use two SKlearn Iris classification models to illustrate experiments."
   ]
  },
  {
   "cell_type": "code",
   "execution_count": 50,
   "id": "dfc5a4fd",
   "metadata": {
    "scrolled": false
   },
   "outputs": [
    {
     "name": "stdout",
     "output_type": "stream",
     "text": [
      "apiVersion: mlops.seldon.io/v1alpha1\r\n",
      "kind: Model\r\n",
      "metadata:\r\n",
      "  name: iris\r\n",
      "spec:\r\n",
      "  storageUri: \"gs://seldon-models/mlserver/iris\"\r\n",
      "  requirements:\r\n",
      "  - sklearn\r\n"
     ]
    }
   ],
   "source": [
    "!cat ./models/sklearn1.yaml"
   ]
  },
  {
   "cell_type": "code",
   "execution_count": 51,
   "id": "8837f315",
   "metadata": {},
   "outputs": [
    {
     "name": "stdout",
     "output_type": "stream",
     "text": [
      "apiVersion: mlops.seldon.io/v1alpha1\r\n",
      "kind: Model\r\n",
      "metadata:\r\n",
      "  name: iris2\r\n",
      "spec:\r\n",
      "  storageUri: \"gs://seldon-models/mlserver/iris\"\r\n",
      "  requirements:\r\n",
      "  - sklearn\r\n"
     ]
    }
   ],
   "source": [
    "!cat ./models/sklearn2.yaml"
   ]
  },
  {
   "cell_type": "markdown",
   "id": "359b456e",
   "metadata": {},
   "source": [
    "Load both models."
   ]
  },
  {
   "cell_type": "code",
   "execution_count": 226,
   "id": "elect-samba",
   "metadata": {},
   "outputs": [
    {
     "name": "stdout",
     "output_type": "stream",
     "text": [
      "{}\n",
      "{}\n"
     ]
    }
   ],
   "source": [
    "!seldon model load -f ./models/sklearn1.yaml\n",
    "!seldon model load -f ./models/sklearn2.yaml"
   ]
  },
  {
   "cell_type": "markdown",
   "id": "1aaa2b8f",
   "metadata": {},
   "source": [
    "Wait for both models to be ready."
   ]
  },
  {
   "cell_type": "code",
   "execution_count": 227,
   "id": "floral-moisture",
   "metadata": {},
   "outputs": [
    {
     "name": "stdout",
     "output_type": "stream",
     "text": [
      "{}\n",
      "{}\n"
     ]
    }
   ],
   "source": [
    "!seldon model status iris -w ModelAvailable\n",
    "!seldon model status iris2 -w ModelAvailable"
   ]
  },
  {
   "cell_type": "code",
   "execution_count": 228,
   "id": "0a7cfc57",
   "metadata": {},
   "outputs": [
    {
     "name": "stdout",
     "output_type": "stream",
     "text": [
      "map[:iris_1::50]\r\n"
     ]
    }
   ],
   "source": [
    "!seldon model infer iris -i 50 \\\n",
    "  '{\"inputs\": [{\"name\": \"predict\", \"shape\": [1, 4], \"datatype\": \"FP32\", \"data\": [[1, 2, 3, 4]]}]}' "
   ]
  },
  {
   "cell_type": "code",
   "execution_count": 229,
   "id": "570c4769",
   "metadata": {},
   "outputs": [
    {
     "name": "stdout",
     "output_type": "stream",
     "text": [
      "map[:iris2_1::50]\r\n"
     ]
    }
   ],
   "source": [
    "!seldon model infer iris2 -i 50 \\\n",
    "  '{\"inputs\": [{\"name\": \"predict\", \"shape\": [1, 4], \"datatype\": \"FP32\", \"data\": [[1, 2, 3, 4]]}]}' "
   ]
  },
  {
   "cell_type": "markdown",
   "id": "cf1ac158",
   "metadata": {},
   "source": [
    "Create an experiment that modifies the iris model to add a second model splitting traffic 50/50 between the two."
   ]
  },
  {
   "cell_type": "code",
   "execution_count": 230,
   "id": "10fe4447",
   "metadata": {},
   "outputs": [
    {
     "name": "stdout",
     "output_type": "stream",
     "text": [
      "apiVersion: mlops.seldon.io/v1alpha1\r\n",
      "kind: Experiment\r\n",
      "metadata:\r\n",
      "  name: experiment-sample\r\n",
      "spec:\r\n",
      "  default: iris\r\n",
      "  candidates:\r\n",
      "  - modelName: iris\r\n",
      "    weight: 50\r\n",
      "  - modelName: iris2\r\n",
      "    weight: 50\r\n"
     ]
    }
   ],
   "source": [
    "!cat ./experiments/ab-default-model.yaml "
   ]
  },
  {
   "cell_type": "markdown",
   "id": "0c9b215b",
   "metadata": {},
   "source": [
    "Start the experiment."
   ]
  },
  {
   "cell_type": "code",
   "execution_count": 231,
   "id": "differential-array",
   "metadata": {},
   "outputs": [
    {
     "name": "stdout",
     "output_type": "stream",
     "text": [
      "{}\r\n"
     ]
    }
   ],
   "source": [
    "!seldon experiment start -f ./experiments/ab-default-model.yaml "
   ]
  },
  {
   "cell_type": "markdown",
   "id": "727e4fd4",
   "metadata": {},
   "source": [
    "Wait for the experiment to be ready."
   ]
  },
  {
   "cell_type": "code",
   "execution_count": 232,
   "id": "overhead-banks",
   "metadata": {},
   "outputs": [
    {
     "name": "stdout",
     "output_type": "stream",
     "text": [
      "{\r\n",
      "  \"experimentName\": \"experiment-sample\",\r\n",
      "  \"active\": true,\r\n",
      "  \"candidatesReady\": true,\r\n",
      "  \"mirrorReady\": true,\r\n",
      "  \"statusDescription\": \"experiment active\",\r\n",
      "  \"kubernetesMeta\": {}\r\n",
      "}\r\n"
     ]
    }
   ],
   "source": [
    "!seldon experiment status experiment-sample -w | jq -M ."
   ]
  },
  {
   "cell_type": "markdown",
   "id": "efe293b0",
   "metadata": {},
   "source": [
    "Run a set of calls and record which route the traffic took. There should be roughly a 50/50 split."
   ]
  },
  {
   "cell_type": "code",
   "execution_count": 233,
   "id": "finite-significance",
   "metadata": {},
   "outputs": [
    {
     "name": "stdout",
     "output_type": "stream",
     "text": [
      "map[:iris2_1::20 :iris_1::30]\r\n"
     ]
    }
   ],
   "source": [
    "!seldon model infer iris -i 50 \\\n",
    "  '{\"inputs\": [{\"name\": \"predict\", \"shape\": [1, 4], \"datatype\": \"FP32\", \"data\": [[1, 2, 3, 4]]}]}' "
   ]
  },
  {
   "cell_type": "markdown",
   "id": "01ac708c",
   "metadata": {},
   "source": [
    "Show sticky session header `x-seldon-route` that is returned"
   ]
  },
  {
   "cell_type": "code",
   "execution_count": 237,
   "id": "85357805",
   "metadata": {},
   "outputs": [
    {
     "name": "stdout",
     "output_type": "stream",
     "text": [
      "Request header Content-Type:[application/json]\r\n",
      "Request header Seldon-Model:[iris]\r\n",
      "Response header Ce-Requestid:[c5dca540-ae36-4e25-bae2-1d7baa0ff5c8]\r\n",
      "Response header Date:[Sat, 20 Aug 2022 17:38:56 GMT]\r\n",
      "Response header X-Envoy-Upstream-Service-Time:[2]\r\n",
      "Response header X-Seldon-Route:[:iris_1:]\r\n",
      "Response header Ce-Id:[c5dca540-ae36-4e25-bae2-1d7baa0ff5c8]\r\n",
      "Response header Ce-Specversion:[0.3]\r\n",
      "Response header Server:[envoy]\r\n",
      "Response header Traceparent:[00-16b02e51bb04c2845156ff4968cc0623-7a9f354372a87ecc-01]\r\n",
      "Response header Content-Length:[228]\r\n",
      "Response header Content-Type:[application/json]\r\n",
      "Response header Ce-Endpoint:[iris_1]\r\n",
      "Response header Ce-Inferenceservicename:[mlserver]\r\n",
      "Response header Ce-Source:[io.seldon.serving.deployment.mlserver]\r\n",
      "Response header Ce-Type:[io.seldon.serving.inference.response]\r\n",
      "Response header Ce-Modelid:[iris_1]\r\n",
      "Response header X-Request-Id:[86e1ddab-b8dc-4204-9b53-1b09d521a377]\r\n",
      "{\r\n",
      "\t\"model_name\": \"iris_1\",\r\n",
      "\t\"model_version\": \"1\",\r\n",
      "\t\"id\": \"c5dca540-ae36-4e25-bae2-1d7baa0ff5c8\",\r\n",
      "\t\"parameters\": {\r\n",
      "\t\t\"content_type\": null,\r\n",
      "\t\t\"headers\": null\r\n",
      "\t},\r\n",
      "\t\"outputs\": [\r\n",
      "\t\t{\r\n",
      "\t\t\t\"name\": \"predict\",\r\n",
      "\t\t\t\"shape\": [\r\n",
      "\t\t\t\t1\r\n",
      "\t\t\t],\r\n",
      "\t\t\t\"datatype\": \"INT64\",\r\n",
      "\t\t\t\"parameters\": null,\r\n",
      "\t\t\t\"data\": [\r\n",
      "\t\t\t\t2\r\n",
      "\t\t\t]\r\n",
      "\t\t}\r\n",
      "\t]\r\n",
      "}\r\n"
     ]
    }
   ],
   "source": [
    "!seldon model infer iris --show-headers \\\n",
    "  '{\"inputs\": [{\"name\": \"predict\", \"shape\": [1, 4], \"datatype\": \"FP32\", \"data\": [[1, 2, 3, 4]]}]}' "
   ]
  },
  {
   "cell_type": "markdown",
   "id": "d7ca1665",
   "metadata": {},
   "source": [
    "Use sticky session key passed by last infer request to ensure same route is taken each time."
   ]
  },
  {
   "cell_type": "code",
   "execution_count": 238,
   "id": "1ffb00b4",
   "metadata": {},
   "outputs": [
    {
     "name": "stdout",
     "output_type": "stream",
     "text": [
      "map[:iris_1::50]\r\n"
     ]
    }
   ],
   "source": [
    "!seldon model infer iris -s -i 50 \\\n",
    "  '{\"inputs\": [{\"name\": \"predict\", \"shape\": [1, 4], \"datatype\": \"FP32\", \"data\": [[1, 2, 3, 4]]}]}' "
   ]
  },
  {
   "cell_type": "code",
   "execution_count": 239,
   "id": "81a10627",
   "metadata": {},
   "outputs": [
    {
     "name": "stdout",
     "output_type": "stream",
     "text": [
      "map[:iris_1::50]\r\n"
     ]
    }
   ],
   "source": [
    "!seldon model infer iris --inference-mode grpc -s -i 50\\\n",
    "   '{\"model_name\":\"iris\",\"inputs\":[{\"name\":\"input\",\"contents\":{\"fp32_contents\":[1,2,3,4]},\"datatype\":\"FP32\",\"shape\":[1,4]}]}' "
   ]
  },
  {
   "cell_type": "markdown",
   "id": "12ad0016",
   "metadata": {},
   "source": [
    "Stop the experiment"
   ]
  },
  {
   "cell_type": "code",
   "execution_count": 240,
   "id": "downtown-construction",
   "metadata": {},
   "outputs": [
    {
     "name": "stdout",
     "output_type": "stream",
     "text": [
      "{}\r\n"
     ]
    }
   ],
   "source": [
    "!seldon experiment stop experiment-sample"
   ]
  },
  {
   "cell_type": "markdown",
   "id": "9da648e8",
   "metadata": {},
   "source": [
    "Unload both models."
   ]
  },
  {
   "cell_type": "code",
   "execution_count": 241,
   "id": "077bbce8",
   "metadata": {},
   "outputs": [
    {
     "name": "stdout",
     "output_type": "stream",
     "text": [
      "{}\n",
      "{}\n"
     ]
    }
   ],
   "source": [
    "!seldon model unload iris\n",
    "!seldon model unload iris2"
   ]
  },
  {
   "cell_type": "markdown",
   "id": "819d5b28",
   "metadata": {},
   "source": [
    "### Pipeline Experiment"
   ]
  },
  {
   "cell_type": "code",
   "execution_count": 242,
   "id": "aee426cd",
   "metadata": {
    "scrolled": false
   },
   "outputs": [
    {
     "name": "stdout",
     "output_type": "stream",
     "text": [
      "apiVersion: mlops.seldon.io/v1alpha1\r\n",
      "kind: Model\r\n",
      "metadata:\r\n",
      "  name: add10\r\n",
      "spec:\r\n",
      "  storageUri: \"gs://seldon-models/triton/add10\"\r\n",
      "  requirements:\r\n",
      "  - triton\r\n",
      "  - python\r\n"
     ]
    }
   ],
   "source": [
    "!cat ./models/add10.yaml"
   ]
  },
  {
   "cell_type": "code",
   "execution_count": 243,
   "id": "3720658f",
   "metadata": {},
   "outputs": [
    {
     "name": "stdout",
     "output_type": "stream",
     "text": [
      "apiVersion: mlops.seldon.io/v1alpha1\r\n",
      "kind: Model\r\n",
      "metadata:\r\n",
      "  name: mul10\r\n",
      "spec:\r\n",
      "  storageUri: \"gs://seldon-models/triton/mul10\"\r\n",
      "  requirements:\r\n",
      "  - triton\r\n",
      "  - python\r\n"
     ]
    }
   ],
   "source": [
    "!cat ./models/mul10.yaml"
   ]
  },
  {
   "cell_type": "code",
   "execution_count": 244,
   "id": "e1a8c098",
   "metadata": {},
   "outputs": [
    {
     "name": "stdout",
     "output_type": "stream",
     "text": [
      "{}\n",
      "{}\n"
     ]
    }
   ],
   "source": [
    "!seldon model load -f ./models/add10.yaml\n",
    "!seldon model load -f ./models/mul10.yaml"
   ]
  },
  {
   "cell_type": "code",
   "execution_count": 245,
   "id": "46ac6ee1",
   "metadata": {},
   "outputs": [
    {
     "name": "stdout",
     "output_type": "stream",
     "text": [
      "{}\n",
      "{}\n"
     ]
    }
   ],
   "source": [
    "!seldon model status add10 -w ModelAvailable\n",
    "!seldon model status mul10 -w ModelAvailable"
   ]
  },
  {
   "cell_type": "code",
   "execution_count": 246,
   "id": "44cae93b",
   "metadata": {},
   "outputs": [
    {
     "name": "stdout",
     "output_type": "stream",
     "text": [
      "apiVersion: mlops.seldon.io/v1alpha1\r\n",
      "kind: Pipeline\r\n",
      "metadata:\r\n",
      "  name: pipeline-mul10\r\n",
      "spec:\r\n",
      "  steps:\r\n",
      "    - name: mul10\r\n",
      "  output:\r\n",
      "    steps:\r\n",
      "    - mul10\r\n"
     ]
    }
   ],
   "source": [
    "!cat ./pipelines/mul10.yaml"
   ]
  },
  {
   "cell_type": "code",
   "execution_count": 247,
   "id": "64780610",
   "metadata": {},
   "outputs": [
    {
     "name": "stdout",
     "output_type": "stream",
     "text": [
      "apiVersion: mlops.seldon.io/v1alpha1\r\n",
      "kind: Pipeline\r\n",
      "metadata:\r\n",
      "  name: pipeline-add10\r\n",
      "spec:\r\n",
      "  steps:\r\n",
      "    - name: add10\r\n",
      "  output:\r\n",
      "    steps:\r\n",
      "    - add10\r\n"
     ]
    }
   ],
   "source": [
    "!cat ./pipelines/add10.yaml"
   ]
  },
  {
   "cell_type": "code",
   "execution_count": 248,
   "id": "18bbd7e5",
   "metadata": {},
   "outputs": [
    {
     "name": "stdout",
     "output_type": "stream",
     "text": [
      "{}\n",
      "{}\n"
     ]
    }
   ],
   "source": [
    "!seldon pipeline load -f ./pipelines/add10.yaml\n",
    "!seldon pipeline load -f ./pipelines/mul10.yaml"
   ]
  },
  {
   "cell_type": "code",
   "execution_count": 249,
   "id": "2e82b63b",
   "metadata": {},
   "outputs": [
    {
     "name": "stdout",
     "output_type": "stream",
     "text": [
      "{\"pipelineName\":\"pipeline-add10\",\"versions\":[{\"pipeline\":{\"name\":\"pipeline-add10\",\"uid\":\"cc0hcueckehqk02vdf00\",\"version\":1,\"steps\":[{\"name\":\"add10\"}],\"output\":{\"steps\":[\"add10.outputs\"]},\"kubernetesMeta\":{}},\"state\":{\"pipelineVersion\":1,\"status\":\"PipelineReady\",\"reason\":\"Created pipeline\",\"lastChangeTimestamp\":\"2022-08-20T17:38:20.996143387Z\"}}]}\n",
      "{\"pipelineName\":\"pipeline-mul10\",\"versions\":[{\"pipeline\":{\"name\":\"pipeline-mul10\",\"uid\":\"cc0hcueckehqk02vdf0g\",\"version\":1,\"steps\":[{\"name\":\"mul10\"}],\"output\":{\"steps\":[\"mul10.outputs\"]},\"kubernetesMeta\":{}},\"state\":{\"pipelineVersion\":1,\"status\":\"PipelineReady\",\"reason\":\"Created pipeline\",\"lastChangeTimestamp\":\"2022-08-20T17:38:21.629812312Z\"}}]}\n"
     ]
    }
   ],
   "source": [
    "!seldon pipeline status pipeline-add10 -w PipelineReady \n",
    "!seldon pipeline status pipeline-mul10 -w PipelineReady "
   ]
  },
  {
   "cell_type": "code",
   "execution_count": 250,
   "id": "67c8cedd",
   "metadata": {},
   "outputs": [
    {
     "name": "stdout",
     "output_type": "stream",
     "text": [
      "{\"outputs\":[{\"name\":\"OUTPUT\",\"datatype\":\"FP32\",\"shape\":[\"4\"],\"contents\":{\"fp32Contents\":[11,12,13,14]}}],\"rawOutputContents\":[\"AAAwQQAAQEEAAFBBAABgQQ==\"]}\r\n"
     ]
    }
   ],
   "source": [
    "!seldon pipeline infer pipeline-add10 --inference-mode grpc \\\n",
    " '{\"model_name\":\"add10\",\"inputs\":[{\"name\":\"INPUT\",\"contents\":{\"fp32_contents\":[1,2,3,4]},\"datatype\":\"FP32\",\"shape\":[4]}]}' "
   ]
  },
  {
   "cell_type": "code",
   "execution_count": 251,
   "id": "a549a962",
   "metadata": {},
   "outputs": [
    {
     "name": "stdout",
     "output_type": "stream",
     "text": [
      "{\"outputs\":[{\"name\":\"OUTPUT\",\"datatype\":\"FP32\",\"shape\":[\"4\"],\"contents\":{\"fp32Contents\":[10,20,30,40]}}],\"rawOutputContents\":[\"AAAgQQAAoEEAAPBBAAAgQg==\"]}\r\n"
     ]
    }
   ],
   "source": [
    "!seldon pipeline infer pipeline-mul10 --inference-mode grpc \\\n",
    " '{\"model_name\":\"add10\",\"inputs\":[{\"name\":\"INPUT\",\"contents\":{\"fp32_contents\":[1,2,3,4]},\"datatype\":\"FP32\",\"shape\":[4]}]}' "
   ]
  },
  {
   "cell_type": "code",
   "execution_count": 252,
   "id": "1153547d",
   "metadata": {},
   "outputs": [
    {
     "name": "stdout",
     "output_type": "stream",
     "text": [
      "apiVersion: mlops.seldon.io/v1alpha1\r\n",
      "kind: Experiment\r\n",
      "metadata:\r\n",
      "  name: addmul10\r\n",
      "spec:\r\n",
      "  default: pipeline-add10\r\n",
      "  resourceType: pipeline\r\n",
      "  candidates:\r\n",
      "  - modelName: pipeline-add10\r\n",
      "    weight: 50\r\n",
      "  - modelName: pipeline-mul10\r\n",
      "    weight: 50\r\n"
     ]
    }
   ],
   "source": [
    "!cat ./experiments/addmul10.yaml"
   ]
  },
  {
   "cell_type": "code",
   "execution_count": 253,
   "id": "e3229c09",
   "metadata": {},
   "outputs": [
    {
     "name": "stdout",
     "output_type": "stream",
     "text": [
      "{}\r\n"
     ]
    }
   ],
   "source": [
    "!seldon experiment start -f ./experiments/addmul10.yaml "
   ]
  },
  {
   "cell_type": "code",
   "execution_count": 254,
   "id": "1c4dbd59",
   "metadata": {},
   "outputs": [
    {
     "name": "stdout",
     "output_type": "stream",
     "text": [
      "{\r\n",
      "  \"experimentName\": \"addmul10\",\r\n",
      "  \"active\": true,\r\n",
      "  \"candidatesReady\": true,\r\n",
      "  \"mirrorReady\": true,\r\n",
      "  \"statusDescription\": \"experiment active\",\r\n",
      "  \"kubernetesMeta\": {}\r\n",
      "}\r\n"
     ]
    }
   ],
   "source": [
    "!seldon experiment status addmul10 -w | jq -M ."
   ]
  },
  {
   "cell_type": "code",
   "execution_count": 255,
   "id": "20ba8a38",
   "metadata": {},
   "outputs": [
    {
     "name": "stdout",
     "output_type": "stream",
     "text": [
      "map[:add10_1::22 :mul10_1::28 :pipeline-add10.pipeline::22 :pipeline-mul10.pipeline::28]\r\n"
     ]
    }
   ],
   "source": [
    "!seldon pipeline infer pipeline-add10 -i 50 --inference-mode grpc \\\n",
    " '{\"model_name\":\"add10\",\"inputs\":[{\"name\":\"INPUT\",\"contents\":{\"fp32_contents\":[1,2,3,4]},\"datatype\":\"FP32\",\"shape\":[4]}]}' "
   ]
  },
  {
   "cell_type": "markdown",
   "id": "b928d9b7",
   "metadata": {},
   "source": [
    "Use sticky session key passed by last infer request to ensure same route is taken each time."
   ]
  },
  {
   "cell_type": "code",
   "execution_count": 256,
   "id": "2f2a3a27",
   "metadata": {},
   "outputs": [
    {
     "name": "stdout",
     "output_type": "stream",
     "text": [
      "Request metadata seldon-model:[pipeline-add10.pipeline]\r\n",
      "{\"outputs\":[{\"name\":\"OUTPUT\",\"datatype\":\"FP32\",\"shape\":[\"4\"],\"contents\":{\"fp32Contents\":[10,20,30,40]}}],\"rawOutputContents\":[\"AAAgQQAAoEEAAPBBAAAgQg==\"]}\r\n",
      "Response header x-forwarded-proto:[http]\r\n",
      "Response header x-request-id:[5f845705-26ca-4702-a384-bb0596859b42]\r\n",
      "Response header date:[Sat, 20 Aug 2022 17:39:36 GMT]\r\n",
      "Response header server:[envoy]\r\n",
      "Response header content-type:[application/grpc]\r\n",
      "Response header x-envoy-upstream-service-time:[12]\r\n",
      "Response header x-seldon-route:[:mul10_1: :pipeline-mul10.pipeline:]\r\n",
      "Response header x-envoy-expected-rq-timeout-ms:[60000]\r\n"
     ]
    }
   ],
   "source": [
    "!seldon pipeline infer pipeline-add10 --show-headers --inference-mode grpc \\\n",
    " '{\"model_name\":\"add10\",\"inputs\":[{\"name\":\"INPUT\",\"contents\":{\"fp32_contents\":[1,2,3,4]},\"datatype\":\"FP32\",\"shape\":[4]}]}' "
   ]
  },
  {
   "cell_type": "code",
   "execution_count": 257,
   "id": "082c6bb7",
   "metadata": {},
   "outputs": [
    {
     "name": "stdout",
     "output_type": "stream",
     "text": [
      "Request metadata x-seldon-route:[:mul10_1: :pipeline-mul10.pipeline:]\r\n",
      "Request metadata seldon-model:[pipeline-add10.pipeline]\r\n",
      "{\"outputs\":[{\"name\":\"OUTPUT\",\"datatype\":\"FP32\",\"shape\":[\"4\"],\"contents\":{\"fp32Contents\":[10,20,30,40]}}],\"rawOutputContents\":[\"AAAgQQAAoEEAAPBBAAAgQg==\"]}\r\n",
      "Response header x-envoy-expected-rq-timeout-ms:[60000]\r\n",
      "Response header x-seldon-route:[:mul10_1: :pipeline-mul10.pipeline:]\r\n",
      "Response header x-envoy-upstream-service-time:[11]\r\n",
      "Response header date:[Sat, 20 Aug 2022 17:39:39 GMT]\r\n",
      "Response header server:[envoy]\r\n",
      "Response header content-type:[application/grpc]\r\n",
      "Response header x-request-id:[b8433074-40ac-43f1-b785-38bbff9855f8]\r\n",
      "Response header x-forwarded-proto:[http]\r\n"
     ]
    }
   ],
   "source": [
    "!seldon pipeline infer pipeline-add10 -s --show-headers --inference-mode grpc \\\n",
    " '{\"model_name\":\"add10\",\"inputs\":[{\"name\":\"INPUT\",\"contents\":{\"fp32_contents\":[1,2,3,4]},\"datatype\":\"FP32\",\"shape\":[4]}]}' "
   ]
  },
  {
   "cell_type": "code",
   "execution_count": 258,
   "id": "d70f0acf",
   "metadata": {},
   "outputs": [
    {
     "name": "stdout",
     "output_type": "stream",
     "text": [
      "map[:mul10_1::50 :pipeline-mul10.pipeline::50]\r\n"
     ]
    }
   ],
   "source": [
    "!seldon pipeline infer pipeline-add10 -s -i 50 --inference-mode grpc \\\n",
    " '{\"model_name\":\"add10\",\"inputs\":[{\"name\":\"INPUT\",\"contents\":{\"fp32_contents\":[1,2,3,4]},\"datatype\":\"FP32\",\"shape\":[4]}]}' "
   ]
  },
  {
   "cell_type": "code",
   "execution_count": 259,
   "id": "dedfbed5",
   "metadata": {},
   "outputs": [
    {
     "name": "stdout",
     "output_type": "stream",
     "text": [
      "apiVersion: mlops.seldon.io/v1alpha1\r\n",
      "kind: Model\r\n",
      "metadata:\r\n",
      "  name: add20\r\n",
      "spec:\r\n",
      "  storageUri: \"gs://seldon-models/triton/add20\"\r\n",
      "  requirements:\r\n",
      "  - triton\r\n",
      "  - python\r\n"
     ]
    }
   ],
   "source": [
    "!cat ./models/add20.yaml"
   ]
  },
  {
   "cell_type": "code",
   "execution_count": 260,
   "id": "1436e721",
   "metadata": {},
   "outputs": [
    {
     "name": "stdout",
     "output_type": "stream",
     "text": [
      "{}\r\n"
     ]
    }
   ],
   "source": [
    "!seldon model load -f ./models/add20.yaml"
   ]
  },
  {
   "cell_type": "code",
   "execution_count": 261,
   "id": "9d010fd2",
   "metadata": {},
   "outputs": [
    {
     "name": "stdout",
     "output_type": "stream",
     "text": [
      "{}\r\n"
     ]
    }
   ],
   "source": [
    "!seldon model status add20 -w ModelAvailable"
   ]
  },
  {
   "cell_type": "code",
   "execution_count": 262,
   "id": "09094919",
   "metadata": {},
   "outputs": [
    {
     "name": "stdout",
     "output_type": "stream",
     "text": [
      "apiVersion: mlops.seldon.io/v1alpha1\r\n",
      "kind: Experiment\r\n",
      "metadata:\r\n",
      "  name: add1020\r\n",
      "spec:\r\n",
      "  default: add10\r\n",
      "  candidates:\r\n",
      "  - modelName: add10\r\n",
      "    weight: 50\r\n",
      "  - modelName: add20\r\n",
      "    weight: 50\r\n"
     ]
    }
   ],
   "source": [
    "!cat ./experiments/add1020.yaml"
   ]
  },
  {
   "cell_type": "code",
   "execution_count": 263,
   "id": "4547d936",
   "metadata": {},
   "outputs": [
    {
     "name": "stdout",
     "output_type": "stream",
     "text": [
      "{}\r\n"
     ]
    }
   ],
   "source": [
    "!seldon experiment start -f ./experiments/add1020.yaml"
   ]
  },
  {
   "cell_type": "code",
   "execution_count": 264,
   "id": "fba5dce6",
   "metadata": {},
   "outputs": [
    {
     "name": "stdout",
     "output_type": "stream",
     "text": [
      "{\r\n",
      "  \"experimentName\": \"add1020\",\r\n",
      "  \"active\": true,\r\n",
      "  \"candidatesReady\": true,\r\n",
      "  \"mirrorReady\": true,\r\n",
      "  \"statusDescription\": \"experiment active\",\r\n",
      "  \"kubernetesMeta\": {}\r\n",
      "}\r\n"
     ]
    }
   ],
   "source": [
    "!seldon experiment status add1020 -w | jq -M ."
   ]
  },
  {
   "cell_type": "code",
   "execution_count": 265,
   "id": "8f089362",
   "metadata": {},
   "outputs": [
    {
     "name": "stdout",
     "output_type": "stream",
     "text": [
      "map[:add10_1::26 :add20_1::24]\r\n"
     ]
    }
   ],
   "source": [
    "!seldon model infer add10 -i 50  --inference-mode grpc \\\n",
    "  '{\"model_name\":\"add10\",\"inputs\":[{\"name\":\"INPUT\",\"contents\":{\"fp32_contents\":[1,2,3,4]},\"datatype\":\"FP32\",\"shape\":[4]}]}' "
   ]
  },
  {
   "cell_type": "code",
   "execution_count": 266,
   "id": "66d7fa6d",
   "metadata": {},
   "outputs": [
    {
     "name": "stdout",
     "output_type": "stream",
     "text": [
      "map[:add10_1::16 :add20_1::29 :mul10_1::55 :pipeline-add10.pipeline::45 :pipeline-mul10.pipeline::55]\r\n"
     ]
    }
   ],
   "source": [
    "!seldon pipeline infer pipeline-add10 -i 100 --inference-mode grpc \\\n",
    " '{\"model_name\":\"add10\",\"inputs\":[{\"name\":\"INPUT\",\"contents\":{\"fp32_contents\":[1,2,3,4]},\"datatype\":\"FP32\",\"shape\":[4]}]}' "
   ]
  },
  {
   "cell_type": "code",
   "execution_count": 269,
   "id": "c0f22776",
   "metadata": {},
   "outputs": [
    {
     "name": "stdout",
     "output_type": "stream",
     "text": [
      "Request metadata seldon-model:[pipeline-add10.pipeline]\r\n",
      "{\"outputs\":[{\"name\":\"OUTPUT\",\"datatype\":\"FP32\",\"shape\":[\"4\"],\"contents\":{\"fp32Contents\":[10,20,30,40]}}],\"rawOutputContents\":[\"AAAgQQAAoEEAAPBBAAAgQg==\"]}\r\n",
      "Response header x-request-id:[0bb5f3b1-435c-4c38-a8d5-26ec90f4b708]\r\n",
      "Response header date:[Sat, 20 Aug 2022 17:40:20 GMT]\r\n",
      "Response header server:[envoy]\r\n",
      "Response header content-type:[application/grpc]\r\n",
      "Response header x-envoy-upstream-service-time:[9]\r\n",
      "Response header x-seldon-route:[:mul10_1: :pipeline-mul10.pipeline:]\r\n",
      "Response header x-envoy-expected-rq-timeout-ms:[60000]\r\n",
      "Response header x-forwarded-proto:[http]\r\n"
     ]
    }
   ],
   "source": [
    "!seldon pipeline infer pipeline-add10 --show-headers --inference-mode grpc \\\n",
    " '{\"model_name\":\"add10\",\"inputs\":[{\"name\":\"INPUT\",\"contents\":{\"fp32_contents\":[1,2,3,4]},\"datatype\":\"FP32\",\"shape\":[4]}]}' "
   ]
  },
  {
   "cell_type": "code",
   "execution_count": 270,
   "id": "774e4373",
   "metadata": {},
   "outputs": [
    {
     "name": "stdout",
     "output_type": "stream",
     "text": [
      "Request metadata seldon-model:[pipeline-add10.pipeline]\r\n",
      "Request metadata x-seldon-route:[:mul10_1: :pipeline-mul10.pipeline:]\r\n",
      "{\"outputs\":[{\"name\":\"OUTPUT\",\"datatype\":\"FP32\",\"shape\":[\"4\"],\"contents\":{\"fp32Contents\":[10,20,30,40]}}],\"rawOutputContents\":[\"AAAgQQAAoEEAAPBBAAAgQg==\"]}\r\n",
      "Response header x-envoy-upstream-service-time:[9]\r\n",
      "Response header x-envoy-expected-rq-timeout-ms:[60000]\r\n",
      "Response header x-seldon-route:[:mul10_1: :pipeline-mul10.pipeline:]\r\n",
      "Response header x-forwarded-proto:[http]\r\n",
      "Response header x-request-id:[11a1ba4a-5fd9-4a5c-a924-77262aee4eb2]\r\n",
      "Response header date:[Sat, 20 Aug 2022 17:40:23 GMT]\r\n",
      "Response header server:[envoy]\r\n",
      "Response header content-type:[application/grpc]\r\n"
     ]
    }
   ],
   "source": [
    "!seldon pipeline infer pipeline-add10 -s --show-headers --inference-mode grpc \\\n",
    " '{\"model_name\":\"add10\",\"inputs\":[{\"name\":\"INPUT\",\"contents\":{\"fp32_contents\":[1,2,3,4]},\"datatype\":\"FP32\",\"shape\":[4]}]}' "
   ]
  },
  {
   "cell_type": "code",
   "execution_count": 271,
   "id": "9f3f766e",
   "metadata": {},
   "outputs": [
    {
     "name": "stdout",
     "output_type": "stream",
     "text": [
      "{}\n",
      "{}\n",
      "{}\n",
      "{}\n",
      "{}\n",
      "{}\n",
      "{}\n"
     ]
    }
   ],
   "source": [
    "!seldon experiment stop addmul10\n",
    "!seldon experiment stop add1020\n",
    "!seldon pipeline unload pipeline-add10\n",
    "!seldon pipeline unload pipeline-mul10\n",
    "!seldon model unload add10\n",
    "!seldon model unload add20\n",
    "!seldon model unload mul10"
   ]
  },
  {
   "cell_type": "code",
   "execution_count": null,
   "id": "2aec7ac8",
   "metadata": {},
   "outputs": [],
   "source": []
  }
 ],
 "metadata": {
  "kernelspec": {
   "display_name": "Python 3 (ipykernel)",
   "language": "python",
   "name": "python3"
  },
  "language_info": {
   "codemirror_mode": {
    "name": "ipython",
    "version": 3
   },
   "file_extension": ".py",
   "mimetype": "text/x-python",
   "name": "python",
   "nbconvert_exporter": "python",
   "pygments_lexer": "ipython3",
   "version": "3.9.10"
  }
 },
 "nbformat": 4,
 "nbformat_minor": 5
}
