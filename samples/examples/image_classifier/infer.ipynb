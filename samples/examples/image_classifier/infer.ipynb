{
 "cells": [
  {
   "cell_type": "markdown",
   "id": "divine-tattoo",
   "metadata": {},
   "source": [
    "## CIFAR10 Image Classification Production Deployment\n",
    "\n",
    "![cifar10](demo.png)\n",
    "\n",
    "We show an image classifier (CIFAR10) with associated outlier and drift detectors using a Pipeline.\n",
    "\n",
    " * The model is a tensorflow [CIFAR10](https://www.cs.toronto.edu/~kriz/cifar.html) image classfier \n",
    " * The outlier detector is created from the [CIFAR10 VAE Outlier example](https://docs.seldon.io/projects/alibi-detect/en/stable/examples/od_vae_cifar10.html).\n",
    " * The drift detector is created from the [CIFAR10 KS Drift example](https://docs.seldon.io/projects/alibi-detect/en/stable/examples/cd_ks_cifar10.html)\n",
    " \n",
    "### Model Training (optional for notebook)\n",
    "\n",
    "Here we describe how we created the artifacts. This is not needed to run this notebook but will help you to apply these techniques to your own models.\n",
    "\n",
    "#### Outlier Detection Model\n",
    "\n",
    "Follow the Alibi-Detect outlier detector example [CIFAR10 VAE Outlier example](https://docs.seldon.io/projects/alibi-detect/en/stable/examples/od_vae_cifar10.html).\n",
    "\n",
    "Use the `save_detector` command to save the trained outlier detector as shown in the notebook.\n",
    "\n",
    "Create a MLServer model settings file: `model-settings.json`:\n",
    "\n",
    "```json\n",
    "{\n",
    "  \"name\": \"cifar10-outlier-detect\",\n",
    "  \"implementation\": \"mlserver_alibi_detect.AlibiDetectRuntime\",\n",
    "  \"parameters\": {\n",
    "    \"uri\": \"./\",\n",
    "    \"version\": \"v0.1.0\"\n",
    "  }\n",
    "}\n",
    "\n",
    "```\n",
    "\n",
    "Save to local or remote storage the directory. Here we saved to Google Storage:\n",
    "\n",
    "```bash\n",
    "gsutil ls -R gs://seldon-models/mlserver/alibi-detect/cifar10-outlier \n",
    "\n",
    "gs://seldon-models/mlserver/alibi-detect/cifar10-outlier/:\n",
    "gs://seldon-models/mlserver/alibi-detect/cifar10-outlier/\n",
    "gs://seldon-models/mlserver/alibi-detect/cifar10-outlier/OutlierVAE.dill\n",
    "gs://seldon-models/mlserver/alibi-detect/cifar10-outlier/meta.dill\n",
    "gs://seldon-models/mlserver/alibi-detect/cifar10-outlier/model-settings.json\n",
    "gs://seldon-models/mlserver/alibi-detect/cifar10-outlier/model/:\n",
    "gs://seldon-models/mlserver/alibi-detect/cifar10-outlier/model/checkpoint\n",
    "gs://seldon-models/mlserver/alibi-detect/cifar10-outlier/model/decoder_net.h5\n",
    "gs://seldon-models/mlserver/alibi-detect/cifar10-outlier/model/encoder_net.h5\n",
    "gs://seldon-models/mlserver/alibi-detect/cifar10-outlier/model/vae.ckpt.data-00000-of-00001\n",
    "gs://seldon-models/mlserver/alibi-detect/cifar10-outlier/model/vae.ckpt.index\n",
    "\n",
    "```\n",
    " \n",
    " ### Drift Detector\n",
    " \n",
    "Follow the Alibi-Detect drift detection example [CIFAR10 KS Drift example](https://docs.seldon.io/projects/alibi-detect/en/stable/examples/cd_ks_cifar10.html).\n",
    "\n",
    "Use the `save_detector` command to save the trained outlier detector as shown in the notebook.\n",
    "\n",
    "Create a MLServer model settings file: `model-settings.json`:\n",
    "\n",
    "```json\n",
    "{\n",
    "  \"name\": \"cifar10-drift\",\n",
    "  \"implementation\": \"mlserver_alibi_detect.AlibiDetectRuntime\",\n",
    "  \"parameters\": {\n",
    "    \"uri\": \"./\",\n",
    "    \"version\": \"v0.1.0\"\n",
    "  }\n",
    "}\n",
    "```\n",
    "\n",
    "Save to local or remote storage the directory. Here we saved to Google Storage:\n",
    "\n",
    "```bash\n",
    "gsutil ls -R gs://seldon-models/mlserver/alibi-detect/cifar10-drift \n",
    "\n",
    "gs://seldon-models/mlserver/alibi-detect/cifar10-drift/:\n",
    "gs://seldon-models/mlserver/alibi-detect/cifar10-drift/\n",
    "gs://seldon-models/mlserver/alibi-detect/cifar10-drift/KSDrift.dill\n",
    "gs://seldon-models/mlserver/alibi-detect/cifar10-drift/meta.dill\n",
    "gs://seldon-models/mlserver/alibi-detect/cifar10-drift/model-settings.json\n",
    "gs://seldon-models/mlserver/alibi-detect/cifar10-drift/model/:\n",
    "gs://seldon-models/mlserver/alibi-detect/cifar10-drift/model/encoder.h5\n",
    "\n",
    "```\n",
    " \n",
    " "
   ]
  },
  {
   "cell_type": "code",
   "execution_count": 1,
   "id": "experienced-richmond",
   "metadata": {},
   "outputs": [
    {
     "name": "stderr",
     "output_type": "stream",
     "text": [
      "2022-05-27 08:41:56.822108: W tensorflow/stream_executor/platform/default/dso_loader.cc:64] Could not load dynamic library 'libcudart.so.11.0'; dlerror: libcudart.so.11.0: cannot open shared object file: No such file or directory\n",
      "2022-05-27 08:41:56.822126: I tensorflow/stream_executor/cuda/cudart_stub.cc:29] Ignore above cudart dlerror if you do not have a GPU set up on your machine.\n"
     ]
    }
   ],
   "source": [
    "import requests\n",
    "import json\n",
    "from typing import Dict, List\n",
    "import numpy as np\n",
    "import os\n",
    "import tensorflow as tf\n",
    "from alibi_detect.utils.perturbation import apply_mask\n",
    "from alibi_detect.datasets import fetch_cifar10c\n",
    "import matplotlib.pyplot as plt\n",
    "tf.keras.backend.clear_session()"
   ]
  },
  {
   "cell_type": "code",
   "execution_count": 2,
   "id": "painted-cooler",
   "metadata": {},
   "outputs": [
    {
     "name": "stdout",
     "output_type": "stream",
     "text": [
      "(50000, 32, 32, 3) (50000, 1) (10000, 32, 32, 3) (10000, 1)\n"
     ]
    }
   ],
   "source": [
    "train, test = tf.keras.datasets.cifar10.load_data()\n",
    "X_train, y_train = train\n",
    "X_test, y_test = test\n",
    "\n",
    "X_train = X_train.astype('float32') / 255\n",
    "X_test = X_test.astype('float32') / 255\n",
    "print(X_train.shape, y_train.shape, X_test.shape, y_test.shape)"
   ]
  },
  {
   "cell_type": "code",
   "execution_count": 3,
   "id": "unexpected-craps",
   "metadata": {},
   "outputs": [
    {
     "data": {
      "text/plain": [
       "(50000, 32, 32, 3)"
      ]
     },
     "execution_count": 3,
     "metadata": {},
     "output_type": "execute_result"
    }
   ],
   "source": [
    "outliers = []\n",
    "for idx in range(0,X_train.shape[0]):\n",
    "    X_mask, mask = apply_mask(X_train[idx].reshape(1, 32, 32, 3),\n",
    "                                  mask_size=(12,12),\n",
    "                                  n_masks=1,\n",
    "                                  channels=[0,1,2],\n",
    "                                  mask_type='normal',\n",
    "                                  noise_distr=(0,1),\n",
    "                                  clip_rng=(0,1))\n",
    "    outliers.append(X_mask)\n",
    "X_outliers = np.vstack(outliers)\n",
    "X_outliers.shape"
   ]
  },
  {
   "cell_type": "code",
   "execution_count": 4,
   "id": "alternative-blocking",
   "metadata": {},
   "outputs": [],
   "source": [
    "corruption = ['gaussian_noise']\n",
    "X_corr, y_corr = fetch_cifar10c(corruption=corruption, severity=5, return_X_y=True)\n",
    "X_corr = X_corr.astype('float32') / 255"
   ]
  },
  {
   "cell_type": "code",
   "execution_count": 5,
   "id": "sustainable-temple",
   "metadata": {},
   "outputs": [],
   "source": [
    "reqJson = json.loads('{\"inputs\":[{\"name\":\"input_1\",\"data\":[],\"datatype\":\"FP32\",\"shape\":[]}]}')\n",
    "url = \"http://0.0.0.0:9000/v2/models/model/infer\""
   ]
  },
  {
   "cell_type": "code",
   "execution_count": 6,
   "id": "provincial-pixel",
   "metadata": {},
   "outputs": [],
   "source": [
    "def infer(resourceName: str, batchSz: int, requestType: str):\n",
    "    if requestType == \"outlier\":\n",
    "        rows = X_outliers[0:0+batchSz]\n",
    "    elif requestType == \"drift\":\n",
    "        rows = X_corr[0:0+batchSz]\n",
    "    else:\n",
    "        rows = X_train[0:0+batchSz]\n",
    "    reqJson[\"inputs\"][0][\"data\"] = rows.flatten().tolist()\n",
    "    reqJson[\"inputs\"][0][\"shape\"] = [batchSz, 32, 32, 3]\n",
    "    headers = {\"Content-Type\": \"application/json\", \"seldon-model\":resourceName}\n",
    "    response_raw = requests.post(url, json=reqJson, headers=headers)\n",
    "    print(response_raw)\n",
    "    print(response_raw.json())"
   ]
  },
  {
   "cell_type": "markdown",
   "id": "numerical-money",
   "metadata": {},
   "source": [
    "### Pipeline"
   ]
  },
  {
   "cell_type": "code",
   "execution_count": 36,
   "id": "close-people",
   "metadata": {},
   "outputs": [
    {
     "name": "stdout",
     "output_type": "stream",
     "text": [
      "apiVersion: mlops.seldon.io/v1alpha1\n",
      "kind: Model\n",
      "metadata:\n",
      "  name: cifar10\n",
      "  namespace: seldon-mesh\n",
      "spec:\n",
      "  storageUri: \"gs://seldon-models/triton/tf_cifar10\"\n",
      "  requirements:\n",
      "  - tensorflow\n",
      "---\n",
      "apiVersion: mlops.seldon.io/v1alpha1\n",
      "kind: Model\n",
      "metadata:\n",
      "  name: cifar10-outlier\n",
      "  namespace: seldon-mesh\n",
      "spec:\n",
      "  storageUri: \"gs://seldon-models/mlserver/alibi-detect/cifar10-outlier\"\n",
      "  requirements:\n",
      "    - mlserver\n",
      "    - alibi-detect\n",
      "---\n",
      "apiVersion: mlops.seldon.io/v1alpha1\n",
      "kind: Model\n",
      "metadata:\n",
      "  name: cifar10-drift\n",
      "  namespace: seldon-mesh\n",
      "spec:\n",
      "  storageUri: \"gs://seldon-models/mlserver/alibi-detect/cifar10-drift\"\n",
      "  requirements:\n",
      "    - mlserver\n",
      "    - alibi-detect\n"
     ]
    }
   ],
   "source": [
    "!cat ../../models/cifar10.yaml\n",
    "!echo \"---\"\n",
    "!cat ../../models/cifar10-outlier-detect.yaml\n",
    "!echo \"---\"\n",
    "!cat ../../models/cifar10-drift-detect.yaml"
   ]
  },
  {
   "cell_type": "code",
   "execution_count": 37,
   "id": "assumed-bolivia",
   "metadata": {},
   "outputs": [
    {
     "name": "stdout",
     "output_type": "stream",
     "text": [
      "{}\n",
      "{}\n",
      "{}\n"
     ]
    }
   ],
   "source": [
    "!seldon model load -f ../../models/cifar10.yaml\n",
    "!seldon model load -f ../../models/cifar10-outlier-detect.yaml\n",
    "!seldon model load -f ../../models/cifar10-drift-detect.yaml"
   ]
  },
  {
   "cell_type": "code",
   "execution_count": 38,
   "id": "specified-observer",
   "metadata": {},
   "outputs": [
    {
     "name": "stdout",
     "output_type": "stream",
     "text": [
      "\u001b[1;39m{}\u001b[0m\n",
      "\u001b[1;39m{}\u001b[0m\n",
      "\u001b[1;39m{}\u001b[0m\n"
     ]
    }
   ],
   "source": [
    "!seldon model status cifar10 -w ModelAvailable | jq .\n",
    "!seldon model status cifar10-outlier -w ModelAvailable | jq .\n",
    "!seldon model status cifar10-drift -w ModelAvailable | jq ."
   ]
  },
  {
   "cell_type": "code",
   "execution_count": 39,
   "id": "interior-tokyo",
   "metadata": {},
   "outputs": [
    {
     "name": "stdout",
     "output_type": "stream",
     "text": [
      "apiVersion: mlops.seldon.io/v1alpha1\r\n",
      "kind: Pipeline\r\n",
      "metadata:\r\n",
      "  name: cifar10-production\r\n",
      "  namespace: seldon-mesh\r\n",
      "spec:\r\n",
      "  steps:\r\n",
      "    - name: cifar10\r\n",
      "    - name: cifar10-outlier\r\n",
      "    - name: cifar10-drift\r\n",
      "      batch:\r\n",
      "        size: 20\r\n",
      "  output:\r\n",
      "    steps:\r\n",
      "    - cifar10\r\n",
      "    - cifar10-outlier.outputs.is_outlier\r\n"
     ]
    }
   ],
   "source": [
    "!cat ../../pipelines/cifar10.yaml"
   ]
  },
  {
   "cell_type": "code",
   "execution_count": 40,
   "id": "modified-weekly",
   "metadata": {},
   "outputs": [
    {
     "name": "stdout",
     "output_type": "stream",
     "text": [
      "{}\r\n"
     ]
    }
   ],
   "source": [
    "!seldon pipeline load -f ../../pipelines/cifar10.yaml"
   ]
  },
  {
   "cell_type": "code",
   "execution_count": 41,
   "id": "mechanical-receptor",
   "metadata": {},
   "outputs": [
    {
     "name": "stdout",
     "output_type": "stream",
     "text": [
      "{\r\n",
      "  \"pipelineName\": \"cifar10-production\",\r\n",
      "  \"versions\": [\r\n",
      "    {\r\n",
      "      \"pipeline\": {\r\n",
      "        \"name\": \"cifar10-production\",\r\n",
      "        \"uid\": \"ca88r1j2ekr7o49ljqkg\",\r\n",
      "        \"version\": 1,\r\n",
      "        \"steps\": [\r\n",
      "          {\r\n",
      "            \"name\": \"cifar10\"\r\n",
      "          },\r\n",
      "          {\r\n",
      "            \"name\": \"cifar10-drift\",\r\n",
      "            \"batch\": {\r\n",
      "              \"size\": 20\r\n",
      "            }\r\n",
      "          },\r\n",
      "          {\r\n",
      "            \"name\": \"cifar10-outlier\"\r\n",
      "          }\r\n",
      "        ],\r\n",
      "        \"output\": {\r\n",
      "          \"steps\": [\r\n",
      "            \"cifar10.outputs\",\r\n",
      "            \"cifar10-outlier.outputs.is_outlier\"\r\n",
      "          ]\r\n",
      "        },\r\n",
      "        \"kubernetesMeta\": {\r\n",
      "          \"namespace\": \"seldon-mesh\"\r\n",
      "        }\r\n",
      "      },\r\n",
      "      \"state\": {\r\n",
      "        \"pipelineVersion\": 1,\r\n",
      "        \"status\": \"PipelineReady\",\r\n",
      "        \"reason\": \"Created pipeline\",\r\n",
      "        \"lastChangeTimestamp\": \"2022-05-27T08:36:23.489134152Z\"\r\n",
      "      }\r\n",
      "    }\r\n",
      "  ]\r\n",
      "}\r\n"
     ]
    }
   ],
   "source": [
    "!seldon pipeline status cifar10-production -w PipelineReady| jq -M ."
   ]
  },
  {
   "cell_type": "code",
   "execution_count": 42,
   "id": "featured-abortion",
   "metadata": {},
   "outputs": [
    {
     "name": "stdout",
     "output_type": "stream",
     "text": [
      "<Response [200]>\n",
      "{'model_name': '', 'outputs': [{'data': None, 'name': 'fc10', 'shape': [20, 10], 'datatype': 'FP32'}, {'data': [1, 0, 0, 0, 0, 0, 0, 0, 0, 0, 0, 1, 0, 0, 0, 1, 0, 0, 0, 0], 'name': 'is_outlier', 'shape': [1, 20], 'datatype': 'INT64'}], 'rawOutputContents': ['1M3eMCFl3C/cUvA5KrBuP0Xg3jSP4Aw3uomJPdTueDAoMCEx6rwLL1u1rjrZcAs3o6htP2N/oTuhl+E7Bna8OQHG6TkQE0M3aDdsPel6jjZcLc82+rKNNiFiFTwwvR8/QKsUOLlYODm+MlU3OaxsNae7uz6jhyU1KYA0OBO6lTVRu3g/9GBsO5PPmTkLHu04hFAcOiNWgzddU8I8NA+CNfQAuTWWldAzJoHiPTiaYz97L0o40eYbOOw5fjnaVaA0r5sDNdkSgTKvbiA1Nj89NAlBjD6Eyzk/zY58OKIy7zh2MQA5XmvDNRQ5xzbrWwszxF3mMtLKqzLDAA855NtpP+kFgjS35as0EdmwPTeukzHv0KwxHQRCMdHlLzq9Myk4nyVaPzNBwT3kurA8dVkkOz/sGjuYRFE5eNnVPD8GKDhJm6E1lGNmM1QEZz6OIUQ/jwACOSgviTjYMgQ8PFLtNGmaFzW1J1Ez5h0qOCMUrTUKsw4+uldwPrzqgzwsjMY7qngaP6BNHDdvxqI518oDNwC6TjiV+481gd0hPqLJVj9lhoA6/agLOquEZzqryY42s27yOcapUjVeQAU4rgqzNbNP7T4k/jU8G5sAP8MnEzgdNLc8aoLcN2C6AzpLa4o44mihM05zZzMzXsw+x8cZP+MNWji1Hqo2MG6oOECFCzXUcJg1xYinMiSTFjO6AOUyGRrtOphZfz/laB04/GOWNWyFNDoo3Fc1tOUFNoxKwTLXVAwzhIKxMEsTfj/fCU47AASFO9vbMjH7JJ05bue1M5yKCTfJgOg2qiNTNtTeKjSMKYw84bJ6P8i2iDmiPB82ti5aOxpIsTQqZBs2f0pPM8uRBDDE5hkvuybWObuSfz9eB540YaZ2MpX4pDqQVNwwP0SRMCIBdzCWQbozMULkMe4+Qj97xXY+MZ4oOfsgmDT8CKM4k93RMxSuJTWmjgozSbhpNtpdNzWbgkE/9U14PoktHTrRefs4d9U7OpWQ2jXOYjY5EzY6NGhkITZ5CBI02cI5PwxYjD466Fc3XOG7N367STnPDno0JncBOIF46DE=']}\n"
     ]
    }
   ],
   "source": [
    "infer(\"cifar10-production.pipeline\",20, \"drift\")"
   ]
  },
  {
   "cell_type": "code",
   "execution_count": 43,
   "id": "herbal-scratch",
   "metadata": {},
   "outputs": [
    {
     "name": "stdout",
     "output_type": "stream",
     "text": [
      "---\n",
      "seldon.default.model.cifar10-drift.outputs\n",
      "{\"name\":\"is_drift\", \"datatype\":\"INT64\", \"shape\":[\"1\"], \"contents\":{\"int64Contents\":[\"1\"]}}\n"
     ]
    }
   ],
   "source": [
    "!seldon pipeline inspect cifar10-production.cifar10-drift.outputs.is_drift"
   ]
  },
  {
   "cell_type": "code",
   "execution_count": 44,
   "id": "1ec8c10c",
   "metadata": {},
   "outputs": [
    {
     "name": "stdout",
     "output_type": "stream",
     "text": [
      "<Response [200]>\n",
      "{'model_name': '', 'outputs': [{'data': None, 'name': 'fc10', 'shape': [1, 10], 'datatype': 'FP32'}, {'data': [1], 'name': 'is_outlier', 'shape': [1, 1], 'datatype': 'INT64'}], 'rawOutputContents': ['uGMYNZnyHTje30c1ozCjOyFeLTSlAMg2iLZ+P3hsiDOGenI11U+dNQ==']}\n"
     ]
    }
   ],
   "source": [
    "infer(\"cifar10-production.pipeline\",1, \"outlier\")"
   ]
  },
  {
   "cell_type": "code",
   "execution_count": 45,
   "id": "5fdefbc4",
   "metadata": {},
   "outputs": [
    {
     "name": "stdout",
     "output_type": "stream",
     "text": [
      "<Response [200]>\n",
      "{'model_name': '', 'outputs': [{'data': None, 'name': 'fc10', 'shape': [1, 10], 'datatype': 'FP32'}, {'data': [0], 'name': 'is_outlier', 'shape': [1, 1], 'datatype': 'INT64'}], 'rawOutputContents': ['JRx5MgYnrDCDAC802B7sPd4qOzQ1js82tXtiP3my0DFHup8zpZSiMQ==']}\n"
     ]
    }
   ],
   "source": [
    "infer(\"cifar10-production.pipeline\",1, \"ok\")"
   ]
  },
  {
   "cell_type": "code",
   "execution_count": 50,
   "id": "6e88dfda",
   "metadata": {},
   "outputs": [
    {
     "name": "stdout",
     "output_type": "stream",
     "text": [
      "---\r\n",
      "seldon.default.model.cifar10.outputs\r\n",
      "{\"modelName\":\"cifar10_1\", \"modelVersion\":\"1\", \"outputs\":[{\"name\":\"fc10\", \"datatype\":\"FP32\", \"shape\":[\"1\", \"10\"], \"contents\":{\"fp32Contents\":[1.4500107e-8, 1.2525738e-9, 1.6298331e-7, 0.115293205, 1.7431327e-7, 0.000006185636, 0.8847001, 6.0738867e-9, 7.437898e-8, 4.7317195e-9]}}], \"rawOutputContents\":[\"JRx5MgYnrDCDAC802B7sPd4qOzQ1js82tXtiP3my0DFHup8zpZSiMQ==\"]}\r\n"
     ]
    }
   ],
   "source": [
    "!seldon pipeline inspect cifar10-production.cifar10.outputs"
   ]
  },
  {
   "cell_type": "code",
   "execution_count": 34,
   "id": "increased-zealand",
   "metadata": {},
   "outputs": [
    {
     "name": "stdout",
     "output_type": "stream",
     "text": [
      "{}\r\n"
     ]
    }
   ],
   "source": [
    "!seldon pipeline unload cifar10-production"
   ]
  },
  {
   "cell_type": "code",
   "execution_count": 35,
   "id": "handled-continuity",
   "metadata": {},
   "outputs": [
    {
     "name": "stdout",
     "output_type": "stream",
     "text": [
      "{}\n",
      "{}\n",
      "{}\n"
     ]
    }
   ],
   "source": [
    "!seldon model unload cifar10\n",
    "!seldon model unload cifar10-outlier\n",
    "!seldon model unload cifar10-drift"
   ]
  },
  {
   "cell_type": "code",
   "execution_count": null,
   "id": "equipped-title",
   "metadata": {},
   "outputs": [],
   "source": []
  }
 ],
 "metadata": {
  "kernelspec": {
   "display_name": "Python 3 (ipykernel)",
   "language": "python",
   "name": "python3"
  },
  "language_info": {
   "codemirror_mode": {
    "name": "ipython",
    "version": 3
   },
   "file_extension": ".py",
   "mimetype": "text/x-python",
   "name": "python",
   "nbconvert_exporter": "python",
   "pygments_lexer": "ipython3",
   "version": "3.9.10"
  }
 },
 "nbformat": 4,
 "nbformat_minor": 5
}
