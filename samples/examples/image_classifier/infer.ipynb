{
 "cells": [
  {
   "cell_type": "markdown",
   "id": "divine-tattoo",
   "metadata": {},
   "source": [
    "# CIFAR10 Image Classification Production Deployment\n",
    "\n",
    " * The mode is a tensorflow [CIFAR10](https://www.cs.toronto.edu/~kriz/cifar.html) image classfier \n",
    " * The outlier detector is created from the [CIFAR10 VAE Outlier example](https://docs.seldon.io/projects/alibi-detect/en/stable/examples/od_vae_cifar10.html).\n",
    " * The drift detector is created from the [CIFAR10 KS Drift example](https://docs.seldon.io/projects/alibi-detect/en/stable/examples/cd_ks_cifar10.html)\n",
    " "
   ]
  },
  {
   "cell_type": "code",
   "execution_count": 1,
   "id": "experienced-richmond",
   "metadata": {},
   "outputs": [],
   "source": [
    "import requests\n",
    "import json\n",
    "from typing import Dict, List\n",
    "import numpy as np\n",
    "import os\n",
    "import tensorflow as tf\n",
    "from alibi_detect.utils.perturbation import apply_mask\n",
    "from alibi_detect.datasets import fetch_cifar10c\n",
    "import matplotlib.pyplot as plt\n",
    "tf.keras.backend.clear_session()"
   ]
  },
  {
   "cell_type": "code",
   "execution_count": 2,
   "id": "painted-cooler",
   "metadata": {},
   "outputs": [
    {
     "name": "stdout",
     "output_type": "stream",
     "text": [
      "(50000, 32, 32, 3) (50000, 1) (10000, 32, 32, 3) (10000, 1)\n"
     ]
    }
   ],
   "source": [
    "train, test = tf.keras.datasets.cifar10.load_data()\n",
    "X_train, y_train = train\n",
    "X_test, y_test = test\n",
    "\n",
    "X_train = X_train.astype('float32') / 255\n",
    "X_test = X_test.astype('float32') / 255\n",
    "print(X_train.shape, y_train.shape, X_test.shape, y_test.shape)"
   ]
  },
  {
   "cell_type": "code",
   "execution_count": 3,
   "id": "unexpected-craps",
   "metadata": {},
   "outputs": [
    {
     "data": {
      "text/plain": [
       "(50000, 32, 32, 3)"
      ]
     },
     "execution_count": 3,
     "metadata": {},
     "output_type": "execute_result"
    }
   ],
   "source": [
    "outliers = []\n",
    "for idx in range(0,X_train.shape[0]):\n",
    "    X_mask, mask = apply_mask(X_train[idx].reshape(1, 32, 32, 3),\n",
    "                                  mask_size=(12,12),\n",
    "                                  n_masks=1,\n",
    "                                  channels=[0,1,2],\n",
    "                                  mask_type='normal',\n",
    "                                  noise_distr=(0,1),\n",
    "                                  clip_rng=(0,1))\n",
    "    outliers.append(X_mask)\n",
    "X_outliers = np.vstack(outliers)\n",
    "X_outliers.shape"
   ]
  },
  {
   "cell_type": "code",
   "execution_count": 4,
   "id": "alternative-blocking",
   "metadata": {},
   "outputs": [],
   "source": [
    "corruption = ['gaussian_noise']\n",
    "X_corr, y_corr = fetch_cifar10c(corruption=corruption, severity=5, return_X_y=True)\n",
    "X_corr = X_corr.astype('float32') / 255"
   ]
  },
  {
   "cell_type": "code",
   "execution_count": 5,
   "id": "sustainable-temple",
   "metadata": {},
   "outputs": [],
   "source": [
    "reqJson = json.loads('{\"inputs\":[{\"name\":\"input_1\",\"data\":[],\"datatype\":\"FP32\",\"shape\":[]}]}')\n",
    "url = \"http://0.0.0.0:9000/v2/models/model/infer\""
   ]
  },
  {
   "cell_type": "code",
   "execution_count": 6,
   "id": "provincial-pixel",
   "metadata": {},
   "outputs": [],
   "source": [
    "def infer(resourceName: str, batchSz: int, requestType: str):\n",
    "    if requestType == \"outlier\":\n",
    "        rows = X_outliers[0:0+batchSz]\n",
    "    elif requestType == \"drift\":\n",
    "        rows = X_corr[0:0+batchSz]\n",
    "    else:\n",
    "        rows = X_train[0:0+batchSz]\n",
    "    reqJson[\"inputs\"][0][\"data\"] = rows.flatten().tolist()\n",
    "    reqJson[\"inputs\"][0][\"shape\"] = [batchSz, 32, 32, 3]\n",
    "    headers = {\"Content-Type\": \"application/json\", \"seldon-model\":resourceName}\n",
    "    response_raw = requests.post(url, json=reqJson, headers=headers)\n",
    "    print(response_raw)\n",
    "    print(response_raw.json())"
   ]
  },
  {
   "cell_type": "markdown",
   "id": "numerical-money",
   "metadata": {},
   "source": [
    "## Pipeline"
   ]
  },
  {
   "cell_type": "code",
   "execution_count": 19,
   "id": "close-people",
   "metadata": {},
   "outputs": [
    {
     "name": "stdout",
     "output_type": "stream",
     "text": [
      "apiVersion: mlops.seldon.io/v1alpha1\n",
      "kind: Model\n",
      "metadata:\n",
      "  name: cifar10\n",
      "  namespace: seldon-mesh\n",
      "spec:\n",
      "  storageUri: \"gs://seldon-models/triton/tf_cifar10\"\n",
      "  requirements:\n",
      "  - tensorflow\n",
      "---\n",
      "apiVersion: mlops.seldon.io/v1alpha1\n",
      "kind: Model\n",
      "metadata:\n",
      "  name: cifar10-outlier\n",
      "  namespace: seldon-mesh\n",
      "spec:\n",
      "  storageUri: \"gs://seldon-models/mlserver/alibi-detect/cifar10-outlier\"\n",
      "  requirements:\n",
      "    - mlserver\n",
      "    - alibi-detect\n",
      "---\n",
      "apiVersion: mlops.seldon.io/v1alpha1\n",
      "kind: Model\n",
      "metadata:\n",
      "  name: cifar10-drift\n",
      "  namespace: seldon-mesh\n",
      "spec:\n",
      "  storageUri: \"gs://seldon-models/mlserver/alibi-detect/cifar10-drift\"\n",
      "  requirements:\n",
      "    - mlserver\n",
      "    - alibi-detect\n"
     ]
    }
   ],
   "source": [
    "!cat ../../models/cifar10.yaml\n",
    "!echo \"---\"\n",
    "!cat ../../models/cifar10-outlier-detect.yaml\n",
    "!echo \"---\"\n",
    "!cat ../../models/cifar10-drift-detect.yaml"
   ]
  },
  {
   "cell_type": "code",
   "execution_count": 20,
   "id": "assumed-bolivia",
   "metadata": {},
   "outputs": [
    {
     "name": "stdout",
     "output_type": "stream",
     "text": [
      "{}\n",
      "{}\n",
      "{}\n"
     ]
    }
   ],
   "source": [
    "!seldon model load -f ../../models/cifar10.yaml\n",
    "!seldon model load -f ../../models/cifar10-outlier-detect.yaml\n",
    "!seldon model load -f ../../models/cifar10-drift-detect.yaml"
   ]
  },
  {
   "cell_type": "code",
   "execution_count": 21,
   "id": "specified-observer",
   "metadata": {},
   "outputs": [
    {
     "name": "stdout",
     "output_type": "stream",
     "text": [
      "\u001b[1;39m{}\u001b[0m\n",
      "\u001b[1;39m{}\u001b[0m\n",
      "\u001b[1;39m{}\u001b[0m\n"
     ]
    }
   ],
   "source": [
    "!seldon model status --model-name cifar10 -w ModelAvailable | jq .\n",
    "!seldon model status --model-name cifar10-outlier -w ModelAvailable | jq .\n",
    "!seldon model status --model-name cifar10-drift -w ModelAvailable | jq ."
   ]
  },
  {
   "cell_type": "code",
   "execution_count": 22,
   "id": "interior-tokyo",
   "metadata": {},
   "outputs": [
    {
     "name": "stdout",
     "output_type": "stream",
     "text": [
      "apiVersion: mlops.seldon.io/v1alpha1\r\n",
      "kind: Pipeline\r\n",
      "metadata:\r\n",
      "  name: cifar10-production\r\n",
      "  namespace: seldon-mesh\r\n",
      "spec:\r\n",
      "  steps:\r\n",
      "    - name: cifar10\r\n",
      "    - name: cifar10-outlier\r\n",
      "    - name: cifar10-drift\r\n",
      "      batch:\r\n",
      "        size: 20\r\n",
      "  output:\r\n",
      "    steps:\r\n",
      "    - cifar10\r\n",
      "    - cifar10-outlier.outputs.is_outlier\r\n"
     ]
    }
   ],
   "source": [
    "!cat ../../pipelines/cifar10.yaml"
   ]
  },
  {
   "cell_type": "code",
   "execution_count": 23,
   "id": "modified-weekly",
   "metadata": {},
   "outputs": [
    {
     "name": "stdout",
     "output_type": "stream",
     "text": [
      "{}\r\n"
     ]
    }
   ],
   "source": [
    "!seldon pipeline load -f ../../pipelines/cifar10.yaml"
   ]
  },
  {
   "cell_type": "code",
   "execution_count": 24,
   "id": "mechanical-receptor",
   "metadata": {},
   "outputs": [
    {
     "name": "stdout",
     "output_type": "stream",
     "text": [
      "{\r\n",
      "  \"pipelineName\": \"cifar10-production\",\r\n",
      "  \"versions\": [\r\n",
      "    {\r\n",
      "      \"pipeline\": {\r\n",
      "        \"name\": \"cifar10-production\",\r\n",
      "        \"steps\": [\r\n",
      "          {\r\n",
      "            \"name\": \"cifar10\"\r\n",
      "          },\r\n",
      "          {\r\n",
      "            \"name\": \"cifar10-drift\",\r\n",
      "            \"batch\": {\r\n",
      "              \"size\": 20\r\n",
      "            }\r\n",
      "          },\r\n",
      "          {\r\n",
      "            \"name\": \"cifar10-outlier\"\r\n",
      "          }\r\n",
      "        ],\r\n",
      "        \"output\": {\r\n",
      "          \"steps\": [\r\n",
      "            \"cifar10.outputs\",\r\n",
      "            \"cifar10-outlier.outputs.is_outlier\"\r\n",
      "          ]\r\n",
      "        },\r\n",
      "        \"kubernetesMeta\": {\r\n",
      "          \"namespace\": \"seldon-mesh\"\r\n",
      "        }\r\n",
      "      },\r\n",
      "      \"state\": {\r\n",
      "        \"pipelineVersion\": 1,\r\n",
      "        \"status\": \"PipelineReady\",\r\n",
      "        \"reason\": \"Created pipeline\",\r\n",
      "        \"lastChangeTimestamp\": \"2022-05-15T17:44:57.471002910Z\"\r\n",
      "      }\r\n",
      "    }\r\n",
      "  ]\r\n",
      "}\r\n"
     ]
    }
   ],
   "source": [
    "!seldon pipeline status -p cifar10-production -w PipelineReady| jq -M ."
   ]
  },
  {
   "cell_type": "code",
   "execution_count": 25,
   "id": "featured-abortion",
   "metadata": {},
   "outputs": [
    {
     "name": "stdout",
     "output_type": "stream",
     "text": [
      "<Response [200]>\n",
      "{'model_name': '', 'outputs': [{'data': None, 'name': 'fc10', 'shape': [20, 10], 'datatype': 'FP32'}, {'data': [1, 0, 0, 0, 0, 0, 0, 0, 0, 0, 0, 1, 0, 0, 0, 1, 0, 0, 0, 0], 'name': 'is_outlier', 'shape': [1, 20], 'datatype': 'INT64'}], 'rawOutputContents': ['1M3eMCFl3C/cUvA5KrBuP0Xg3jSP4Aw3uomJPdTueDAoMCEx6rwLL1u1rjrZcAs3o6htP2N/oTuhl+E7Bna8OQHG6TkQE0M3aDdsPel6jjZcLc82+rKNNiFiFTwwvR8/QKsUOLlYODm+MlU3OaxsNae7uz6jhyU1KYA0OBO6lTVRu3g/9GBsO5PPmTkLHu04hFAcOiNWgzddU8I8NA+CNfQAuTWWldAzJoHiPTiaYz97L0o40eYbOOw5fjnaVaA0r5sDNdkSgTKvbiA1Nj89NAlBjD6Eyzk/zY58OKIy7zh2MQA5XmvDNRQ5xzbrWwszxF3mMtLKqzLDAA855NtpP+kFgjS35as0EdmwPTeukzHv0KwxHQRCMdHlLzq9Myk4nyVaPzNBwT3kurA8dVkkOz/sGjuYRFE5eNnVPD8GKDhJm6E1lGNmM1QEZz6OIUQ/jwACOSgviTjYMgQ8PFLtNGmaFzW1J1Ez5h0qOCMUrTUKsw4+uldwPrzqgzwsjMY7qngaP6BNHDdvxqI518oDNwC6TjiV+481gd0hPqLJVj9lhoA6/agLOquEZzqryY42s27yOcapUjVeQAU4rgqzNbNP7T4k/jU8G5sAP8MnEzgdNLc8aoLcN2C6AzpLa4o44mihM05zZzMzXsw+x8cZP+MNWji1Hqo2MG6oOECFCzXUcJg1xYinMiSTFjO6AOUyGRrtOphZfz/laB04/GOWNWyFNDoo3Fc1tOUFNoxKwTLXVAwzhIKxMEsTfj/fCU47AASFO9vbMjH7JJ05bue1M5yKCTfJgOg2qiNTNtTeKjSMKYw84bJ6P8i2iDmiPB82ti5aOxpIsTQqZBs2f0pPM8uRBDDE5hkvuybWObuSfz9eB540YaZ2MpX4pDqQVNwwP0SRMCIBdzCWQbozMULkMe4+Qj97xXY+MZ4oOfsgmDT8CKM4k93RMxSuJTWmjgozSbhpNtpdNzWbgkE/9U14PoktHTrRefs4d9U7OpWQ2jXOYjY5EzY6NGhkITZ5CBI02cI5PwxYjD466Fc3XOG7N367STnPDno0JncBOIF46DE=']}\n"
     ]
    }
   ],
   "source": [
    "infer(\"cifar10-production.pipeline\",20, \"drift\")"
   ]
  },
  {
   "cell_type": "code",
   "execution_count": 26,
   "id": "herbal-scratch",
   "metadata": {},
   "outputs": [
    {
     "name": "stdout",
     "output_type": "stream",
     "text": [
      "seldon.default.model.cifar10-drift.outputs\r\n",
      "{\"name\":\"is_drift\",\"datatype\":\"INT64\",\"shape\":[\"1\"],\"contents\":{\"int64Contents\":[\"1\"]}}\r\n"
     ]
    }
   ],
   "source": [
    "!seldon pipeline inspect cifar10-production.cifar10-drift.outputs.is_drift"
   ]
  },
  {
   "cell_type": "code",
   "execution_count": 17,
   "id": "increased-zealand",
   "metadata": {},
   "outputs": [
    {
     "name": "stdout",
     "output_type": "stream",
     "text": [
      "{}\r\n"
     ]
    }
   ],
   "source": [
    "!seldon pipeline unload -p cifar10-production"
   ]
  },
  {
   "cell_type": "code",
   "execution_count": 18,
   "id": "handled-continuity",
   "metadata": {},
   "outputs": [
    {
     "name": "stdout",
     "output_type": "stream",
     "text": [
      "{}\n",
      "{}\n",
      "{}\n"
     ]
    }
   ],
   "source": [
    "!seldon model unload --model-name cifar10\n",
    "!seldon model unload --model-name cifar10-outlier\n",
    "!seldon model unload --model-name cifar10-drift"
   ]
  },
  {
   "cell_type": "code",
   "execution_count": null,
   "id": "equipped-title",
   "metadata": {},
   "outputs": [],
   "source": []
  }
 ],
 "metadata": {
  "kernelspec": {
   "display_name": "Python 3",
   "language": "python",
   "name": "python3"
  },
  "language_info": {
   "codemirror_mode": {
    "name": "ipython",
    "version": 3
   },
   "file_extension": ".py",
   "mimetype": "text/x-python",
   "name": "python",
   "nbconvert_exporter": "python",
   "pygments_lexer": "ipython3",
   "version": "3.7.4"
  }
 },
 "nbformat": 4,
 "nbformat_minor": 5
}
