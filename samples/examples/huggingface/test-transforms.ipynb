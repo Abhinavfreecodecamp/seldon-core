{
 "cells": [
  {
   "cell_type": "markdown",
   "id": "0484b0d1",
   "metadata": {},
   "source": [
    "# Test transforms\n",
    "\n",
    "We need transforms to change the input to the sentiment model and the output from the sentiment model to allow for easier integration with the Alibi Explain explainer. The input to the explainer will come from the output of the speech recognition model which returns a Dict so we extract the text and turn into a simple list. Similarly, the sentiment model returns a Dict so we convert to a simple binary classifer result."
   ]
  },
  {
   "cell_type": "code",
   "execution_count": 14,
   "id": "89e723ab",
   "metadata": {},
   "outputs": [],
   "source": [
    "import requests"
   ]
  },
  {
   "cell_type": "markdown",
   "id": "6e529edd",
   "metadata": {},
   "source": [
    "## Sentiment Input Transform\n",
    "\n",
    "run `mlserver start .` from the `sentiment-input-transform` folder.\n",
    "\n",
    "This code turns the Dict into a simple list of strings."
   ]
  },
  {
   "cell_type": "code",
   "execution_count": 9,
   "id": "d42e1952",
   "metadata": {},
   "outputs": [
    {
     "data": {
      "text/plain": [
       "{'model_name': 'sentiment',\n",
       " 'model_version': None,\n",
       " 'id': '52258223-b1bf-425f-88dd-d5edfe513b67',\n",
       " 'parameters': {'content_type': None, 'headers': None},\n",
       " 'outputs': [{'name': 'output-1',\n",
       "   'shape': [1],\n",
       "   'datatype': 'BYTES',\n",
       "   'parameters': {'content_type': 'str', 'headers': None},\n",
       "   'data': ['This is not amazing at all.']}]}"
      ]
     },
     "execution_count": 9,
     "metadata": {},
     "output_type": "execute_result"
    }
   ],
   "source": [
    "inference_request = {\n",
    "    \"inputs\": [\n",
    "        {\n",
    "          \"name\": \"predict\",\n",
    "          \"shape\": [1],\n",
    "          \"datatype\": \"BYTES\",\n",
    "          \"data\": ['{\"text\": \"This is not amazing at all.\"}'],\n",
    "        }\n",
    "    ]\n",
    "}\n",
    "\n",
    "requests.post(\"http://localhost:8080/v2/models/sentiment-input-transform/infer\", json=inference_request).json()"
   ]
  },
  {
   "cell_type": "markdown",
   "id": "62cb89d8",
   "metadata": {},
   "source": [
    "## Sentiment Output Transform\n",
    "\n",
    "run `mlserver start .` from the `sentiment-output-transform` folder.\n",
    "\n",
    "This code turns the Dict result from the sentiment model and returns a simple 1 or 0 classifier prediction."
   ]
  },
  {
   "cell_type": "code",
   "execution_count": 13,
   "id": "62546736",
   "metadata": {},
   "outputs": [
    {
     "data": {
      "text/plain": [
       "{'model_name': 'sentiments',\n",
       " 'model_version': None,\n",
       " 'id': 'a6937c55-05e7-4715-afb6-8b9d87b0fe1d',\n",
       " 'parameters': {'content_type': None, 'headers': None},\n",
       " 'outputs': [{'name': 'output-1',\n",
       "   'shape': [2],\n",
       "   'datatype': 'INT64',\n",
       "   'parameters': None,\n",
       "   'data': [1, 0]}]}"
      ]
     },
     "execution_count": 13,
     "metadata": {},
     "output_type": "execute_result"
    }
   ],
   "source": [
    "inference_request = {\n",
    "    \"inputs\": [\n",
    "        {\n",
    "          \"name\": \"predict\",\n",
    "          \"shape\": [1],\n",
    "          \"datatype\": \"BYTES\",\n",
    "          \"data\": ['{\"label\": \"POSITIVE\", \"score\":\"0.99\"}','{\"label\": \"NEGATIVE\", \"score\":\"0.99\"}'],\n",
    "        }\n",
    "    ]\n",
    "}\n",
    "\n",
    "requests.post(\"http://localhost:8080/v2/models/sentiment-output-transform/infer\", json=inference_request).json()"
   ]
  },
  {
   "cell_type": "code",
   "execution_count": null,
   "id": "eb3f5e4b",
   "metadata": {},
   "outputs": [],
   "source": []
  }
 ],
 "metadata": {
  "kernelspec": {
   "display_name": "Python 3 (ipykernel)",
   "language": "python",
   "name": "python3"
  },
  "language_info": {
   "codemirror_mode": {
    "name": "ipython",
    "version": 3
   },
   "file_extension": ".py",
   "mimetype": "text/x-python",
   "name": "python",
   "nbconvert_exporter": "python",
   "pygments_lexer": "ipython3",
   "version": "3.9.13"
  }
 },
 "nbformat": 4,
 "nbformat_minor": 5
}
