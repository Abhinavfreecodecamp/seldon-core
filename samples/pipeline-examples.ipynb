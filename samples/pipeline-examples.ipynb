{
 "cells": [
  {
   "cell_type": "markdown",
   "id": "lesbian-springer",
   "metadata": {},
   "source": [
    "# Seldon V2 Non Kubernetes Pipeline Examples\n",
    "\n",
    "\n",
    " * Build if needed and place `seldon` binary in your path\n",
    "    * run `make build-seldon` from operator folder and add bin folder to PATH\n",
    " * Run Seldon V2 `make deploy-local-triton` from top level folder"
   ]
  },
  {
   "cell_type": "code",
   "execution_count": null,
   "id": "modular-digest",
   "metadata": {},
   "outputs": [],
   "source": [
    "!which seldon"
   ]
  },
  {
   "cell_type": "markdown",
   "id": "running-antarctica",
   "metadata": {},
   "source": [
    "## Model Chaining"
   ]
  },
  {
   "cell_type": "code",
   "execution_count": null,
   "id": "0f2ab2a3",
   "metadata": {},
   "outputs": [],
   "source": [
    "!cat ./models/tfsimple1.yaml\n",
    "!cat ./models/tfsimple2.yaml"
   ]
  },
  {
   "cell_type": "code",
   "execution_count": null,
   "id": "f9e073d7",
   "metadata": {},
   "outputs": [],
   "source": [
    "!seldon model load -f ./models/tfsimple1.yaml \n",
    "!seldon model load -f ./models/tfsimple2.yaml "
   ]
  },
  {
   "cell_type": "code",
   "execution_count": null,
   "id": "997b4028",
   "metadata": {},
   "outputs": [],
   "source": [
    "!seldon model status --model-name tfsimple1 -w ModelAvailable | jq .\n",
    "!seldon model status --model-name tfsimple2 -w ModelAvailable | jq ."
   ]
  },
  {
   "cell_type": "code",
   "execution_count": null,
   "id": "3d017ede",
   "metadata": {},
   "outputs": [],
   "source": [
    "!cat ./pipelines/tfsimples.yaml"
   ]
  },
  {
   "cell_type": "code",
   "execution_count": null,
   "id": "following-winning",
   "metadata": {},
   "outputs": [],
   "source": [
    "!seldon pipeline load -f ./pipelines/tfsimples.yaml"
   ]
  },
  {
   "cell_type": "code",
   "execution_count": null,
   "id": "artistic-kentucky",
   "metadata": {},
   "outputs": [],
   "source": [
    "!seldon pipeline status -p tfsimples -w PipelineReady| jq ."
   ]
  },
  {
   "cell_type": "code",
   "execution_count": null,
   "id": "5c33133e",
   "metadata": {},
   "outputs": [],
   "source": [
    "!seldon pipeline infer -p tfsimples --inference-mode grpc \\\n",
    "    '{\"model_name\":\"simple\",\"inputs\":[{\"name\":\"INPUT0\",\"contents\":{\"int_contents\":[1,2,3,4,5,6,7,8,9,10,11,12,13,14,15,16]},\"datatype\":\"INT32\",\"shape\":[1,16]},{\"name\":\"INPUT1\",\"contents\":{\"int_contents\":[1,2,3,4,5,6,7,8,9,10,11,12,13,14,15,16]},\"datatype\":\"INT32\",\"shape\":[1,16]}]}' | jq ."
   ]
  },
  {
   "cell_type": "code",
   "execution_count": null,
   "id": "dimensional-hours",
   "metadata": {},
   "outputs": [],
   "source": [
    "!seldon pipeline unload -p tfsimples"
   ]
  },
  {
   "cell_type": "code",
   "execution_count": null,
   "id": "outside-inspiration",
   "metadata": {},
   "outputs": [],
   "source": [
    "!seldon model unload --model-name tfsimple1\n",
    "!seldon model unload --model-name tfsimple2"
   ]
  },
  {
   "cell_type": "markdown",
   "id": "fca716ed",
   "metadata": {},
   "source": [
    "## Model Join"
   ]
  },
  {
   "cell_type": "code",
   "execution_count": null,
   "id": "5e41768d",
   "metadata": {},
   "outputs": [],
   "source": [
    "!cat ./models/tfsimple1.yaml\n",
    "!cat ./models/tfsimple2.yaml\n",
    "!cat ./models/tfsimple3.yaml"
   ]
  },
  {
   "cell_type": "code",
   "execution_count": null,
   "id": "fcbc23cc",
   "metadata": {},
   "outputs": [],
   "source": [
    "!seldon model load -f ./models/tfsimple1.yaml \n",
    "!seldon model load -f ./models/tfsimple2.yaml \n",
    "!seldon model load -f ./models/tfsimple3.yaml "
   ]
  },
  {
   "cell_type": "code",
   "execution_count": null,
   "id": "f8bb2efb",
   "metadata": {},
   "outputs": [],
   "source": [
    "!seldon model status --model-name tfsimple1 -w ModelAvailable | jq .\n",
    "!seldon model status --model-name tfsimple2 -w ModelAvailable | jq .\n",
    "!seldon model status --model-name tfsimple3 -w ModelAvailable | jq ."
   ]
  },
  {
   "cell_type": "code",
   "execution_count": null,
   "id": "cd58ecba",
   "metadata": {},
   "outputs": [],
   "source": [
    "!cat ./pipelines/tfsimples-join.yaml"
   ]
  },
  {
   "cell_type": "code",
   "execution_count": null,
   "id": "ce9e163b",
   "metadata": {},
   "outputs": [],
   "source": [
    "!seldon pipeline load -f ./pipelines/tfsimples-join.yaml"
   ]
  },
  {
   "cell_type": "code",
   "execution_count": null,
   "id": "7593c77f",
   "metadata": {},
   "outputs": [],
   "source": [
    "!seldon pipeline status -p join -w PipelineReady | jq ."
   ]
  },
  {
   "cell_type": "code",
   "execution_count": null,
   "id": "2151ee4c",
   "metadata": {
    "scrolled": true
   },
   "outputs": [],
   "source": [
    "!seldon pipeline infer -p join --inference-mode grpc \\\n",
    "    '{\"model_name\":\"simple\",\"inputs\":[{\"name\":\"INPUT0\",\"contents\":{\"int_contents\":[1,2,3,4,5,6,7,8,9,10,11,12,13,14,15,16]},\"datatype\":\"INT32\",\"shape\":[1,16]},{\"name\":\"INPUT1\",\"contents\":{\"int_contents\":[1,2,3,4,5,6,7,8,9,10,11,12,13,14,15,16]},\"datatype\":\"INT32\",\"shape\":[1,16]}]}' | jq ."
   ]
  },
  {
   "cell_type": "code",
   "execution_count": null,
   "id": "06575cca",
   "metadata": {},
   "outputs": [],
   "source": [
    "!seldon pipeline unload -p join"
   ]
  },
  {
   "cell_type": "code",
   "execution_count": null,
   "id": "8bd56a9c",
   "metadata": {},
   "outputs": [],
   "source": [
    "!seldon model unload --model-name tfsimple1\n",
    "!seldon model unload --model-name tfsimple2\n",
    "!seldon model unload --model-name tfsimple3"
   ]
  },
  {
   "cell_type": "markdown",
   "id": "b6666e04",
   "metadata": {},
   "source": [
    "## Conditional"
   ]
  },
  {
   "cell_type": "code",
   "execution_count": null,
   "id": "e3a2c7f3",
   "metadata": {},
   "outputs": [],
   "source": [
    "!cat ./models/conditional.yaml\n",
    "!cat ./models/add10.yaml\n",
    "!cat ./models/mul10.yaml"
   ]
  },
  {
   "cell_type": "code",
   "execution_count": null,
   "id": "2104f9bf",
   "metadata": {},
   "outputs": [],
   "source": [
    "!seldon model load -f ./models/conditional.yaml \n",
    "!seldon model load -f ./models/add10.yaml \n",
    "!seldon model load -f ./models/mul10.yaml "
   ]
  },
  {
   "cell_type": "code",
   "execution_count": null,
   "id": "7af88e3a",
   "metadata": {},
   "outputs": [],
   "source": [
    "!seldon model status --model-name conditional -w ModelAvailable | jq .\n",
    "!seldon model status --model-name add10 -w ModelAvailable | jq .\n",
    "!seldon model status --model-name mul10 -w ModelAvailable | jq ."
   ]
  },
  {
   "cell_type": "code",
   "execution_count": null,
   "id": "f5bbe84d",
   "metadata": {},
   "outputs": [],
   "source": [
    "!cat ./pipelines/conditional.yaml"
   ]
  },
  {
   "cell_type": "code",
   "execution_count": null,
   "id": "829f9b18",
   "metadata": {},
   "outputs": [],
   "source": [
    "!seldon pipeline load -f ./pipelines/conditional.yaml"
   ]
  },
  {
   "cell_type": "code",
   "execution_count": null,
   "id": "ae202d26",
   "metadata": {},
   "outputs": [],
   "source": [
    "!seldon pipeline status -p tfsimple-conditional -w PipelineReady | jq ."
   ]
  },
  {
   "cell_type": "code",
   "execution_count": null,
   "id": "0d03d5fe",
   "metadata": {},
   "outputs": [],
   "source": [
    "!seldon pipeline infer -p tfsimple-conditional --inference-mode grpc \\\n",
    " '{\"model_name\":\"outlier\",\"inputs\":[{\"name\":\"CHOICE\",\"contents\":{\"int_contents\":[0]},\"datatype\":\"INT32\",\"shape\":[1]},{\"name\":\"INPUT0\",\"contents\":{\"fp32_contents\":[1,2,3,4]},\"datatype\":\"FP32\",\"shape\":[4]},{\"name\":\"INPUT1\",\"contents\":{\"fp32_contents\":[1,2,3,4]},\"datatype\":\"FP32\",\"shape\":[4]}]}' | jq ."
   ]
  },
  {
   "cell_type": "code",
   "execution_count": null,
   "id": "def4e8e1",
   "metadata": {},
   "outputs": [],
   "source": [
    "!seldon pipeline infer -p tfsimple-conditional --inference-mode grpc \\\n",
    " '{\"model_name\":\"outlier\",\"inputs\":[{\"name\":\"CHOICE\",\"contents\":{\"int_contents\":[1]},\"datatype\":\"INT32\",\"shape\":[1]},{\"name\":\"INPUT0\",\"contents\":{\"fp32_contents\":[1,2,3,4]},\"datatype\":\"FP32\",\"shape\":[4]},{\"name\":\"INPUT1\",\"contents\":{\"fp32_contents\":[1,2,3,4]},\"datatype\":\"FP32\",\"shape\":[4]}]}' | jq ."
   ]
  },
  {
   "cell_type": "code",
   "execution_count": null,
   "id": "3042fe42",
   "metadata": {},
   "outputs": [],
   "source": [
    "!seldon pipeline unload -p tfsimple-conditional"
   ]
  },
  {
   "cell_type": "code",
   "execution_count": null,
   "id": "3bda8710",
   "metadata": {},
   "outputs": [],
   "source": [
    "!seldon model unload --model-name conditional"
   ]
  },
  {
   "cell_type": "markdown",
   "id": "99cfda82",
   "metadata": {},
   "source": [
    "## Error\n",
    "An example which errors is arguments sum to greater than 100"
   ]
  },
  {
   "cell_type": "code",
   "execution_count": null,
   "id": "1f5f0f2e",
   "metadata": {},
   "outputs": [],
   "source": [
    "!cat ./models/outlier-error.yaml"
   ]
  },
  {
   "cell_type": "code",
   "execution_count": null,
   "id": "c7ee6e78",
   "metadata": {},
   "outputs": [],
   "source": [
    "!seldon model load -f ./models/outlier-error.yaml "
   ]
  },
  {
   "cell_type": "code",
   "execution_count": null,
   "id": "e06593e4",
   "metadata": {},
   "outputs": [],
   "source": [
    "!seldon model status --model-name outlier-error -w ModelAvailable | jq ."
   ]
  },
  {
   "cell_type": "code",
   "execution_count": null,
   "id": "5057243c",
   "metadata": {},
   "outputs": [],
   "source": [
    "!cat ./pipelines/outlier-error.yaml"
   ]
  },
  {
   "cell_type": "code",
   "execution_count": null,
   "id": "ee724055",
   "metadata": {},
   "outputs": [],
   "source": [
    "!seldon pipeline load -f ./pipelines/outlier-error.yaml"
   ]
  },
  {
   "cell_type": "code",
   "execution_count": null,
   "id": "338dfa4d",
   "metadata": {},
   "outputs": [],
   "source": [
    "!seldon pipeline status -p outlier-error -w PipelineReady | jq ."
   ]
  },
  {
   "cell_type": "code",
   "execution_count": null,
   "id": "64cb9160",
   "metadata": {},
   "outputs": [],
   "source": [
    "!seldon pipeline infer -p outlier-error --inference-mode grpc \\\n",
    "    '{\"model_name\":\"outlier\",\"inputs\":[{\"name\":\"INPUT0\",\"contents\":{\"fp32_contents\":[1,2,3,4]},\"datatype\":\"FP32\",\"shape\":[4]},{\"name\":\"INPUT1\",\"contents\":{\"fp32_contents\":[1,2,3,4]},\"datatype\":\"FP32\",\"shape\":[4]}]}' | jq ."
   ]
  },
  {
   "cell_type": "code",
   "execution_count": null,
   "id": "853da19a",
   "metadata": {},
   "outputs": [],
   "source": [
    "!seldon pipeline infer -p outlier-error --inference-mode grpc \\\n",
    "    '{\"model_name\":\"outlier\",\"inputs\":[{\"name\":\"INPUT0\",\"contents\":{\"fp32_contents\":[100,2,3,4]},\"datatype\":\"FP32\",\"shape\":[4]},{\"name\":\"INPUT1\",\"contents\":{\"fp32_contents\":[1,2,3,4]},\"datatype\":\"FP32\",\"shape\":[4]}]}' "
   ]
  },
  {
   "cell_type": "code",
   "execution_count": null,
   "id": "59b296c5",
   "metadata": {},
   "outputs": [],
   "source": [
    "!seldon pipeline unload -p outlier-error"
   ]
  },
  {
   "cell_type": "code",
   "execution_count": null,
   "id": "abe4aa67",
   "metadata": {},
   "outputs": [],
   "source": [
    "!seldon model unload --model-name outlier-error"
   ]
  },
  {
   "cell_type": "code",
   "execution_count": null,
   "id": "3a16a6dd",
   "metadata": {},
   "outputs": [],
   "source": []
  }
 ],
 "metadata": {
  "kernelspec": {
   "display_name": "Python 3 (ipykernel)",
   "language": "python",
   "name": "python3"
  },
  "language_info": {
   "codemirror_mode": {
    "name": "ipython",
    "version": 3
   },
   "file_extension": ".py",
   "mimetype": "text/x-python",
   "name": "python",
   "nbconvert_exporter": "python",
   "pygments_lexer": "ipython3",
   "version": "3.9.10"
  }
 },
 "nbformat": 4,
 "nbformat_minor": 5
}
