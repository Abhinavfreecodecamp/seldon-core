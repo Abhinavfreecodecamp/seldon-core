{
 "cells": [
  {
   "cell_type": "markdown",
   "id": "lesbian-springer",
   "metadata": {},
   "source": [
    "## Seldon V2 Non Kubernetes Pipeline Examples\n"
   ]
  },
  {
   "cell_type": "code",
   "execution_count": 1,
   "id": "modular-digest",
   "metadata": {},
   "outputs": [
    {
     "name": "stdout",
     "output_type": "stream",
     "text": [
      "/home/clive/work/scv2/seldon-core-v2/operator/bin/seldon\r\n"
     ]
    }
   ],
   "source": [
    "!which seldon"
   ]
  },
  {
   "cell_type": "markdown",
   "id": "running-antarctica",
   "metadata": {},
   "source": [
    "### Model Chaining"
   ]
  },
  {
   "cell_type": "code",
   "execution_count": 21,
   "id": "0f2ab2a3",
   "metadata": {},
   "outputs": [
    {
     "name": "stdout",
     "output_type": "stream",
     "text": [
      "apiVersion: mlops.seldon.io/v1alpha1\n",
      "kind: Model\n",
      "metadata:\n",
      "  name: tfsimple1\n",
      "  namespace: seldon-mesh\n",
      "spec:\n",
      "  storageUri: \"gs://seldon-models/triton/simple\"\n",
      "  requirements:\n",
      "  - tensorflow\n",
      "apiVersion: mlops.seldon.io/v1alpha1\n",
      "kind: Model\n",
      "metadata:\n",
      "  name: tfsimple2\n",
      "  namespace: seldon-mesh\n",
      "spec:\n",
      "  storageUri: \"gs://seldon-models/triton/simple\"\n",
      "  requirements:\n",
      "  - tensorflow\n"
     ]
    }
   ],
   "source": [
    "!cat ./models/tfsimple1.yaml\n",
    "!cat ./models/tfsimple2.yaml"
   ]
  },
  {
   "cell_type": "code",
   "execution_count": 22,
   "id": "f9e073d7",
   "metadata": {},
   "outputs": [
    {
     "name": "stdout",
     "output_type": "stream",
     "text": [
      "{}\n",
      "{}\n"
     ]
    }
   ],
   "source": [
    "!seldon model load -f ./models/tfsimple1.yaml \n",
    "!seldon model load -f ./models/tfsimple2.yaml "
   ]
  },
  {
   "cell_type": "code",
   "execution_count": 23,
   "id": "997b4028",
   "metadata": {},
   "outputs": [
    {
     "name": "stdout",
     "output_type": "stream",
     "text": [
      "{}\n",
      "{}\n"
     ]
    }
   ],
   "source": [
    "!seldon model status tfsimple1 -w ModelAvailable | jq -M .\n",
    "!seldon model status tfsimple2 -w ModelAvailable | jq -M ."
   ]
  },
  {
   "cell_type": "code",
   "execution_count": 24,
   "id": "3d017ede",
   "metadata": {},
   "outputs": [
    {
     "name": "stdout",
     "output_type": "stream",
     "text": [
      "apiVersion: mlops.seldon.io/v1alpha1\r\n",
      "kind: Pipeline\r\n",
      "metadata:\r\n",
      "  name: tfsimples\r\n",
      "  namespace: seldon-mesh\r\n",
      "spec:\r\n",
      "  steps:\r\n",
      "    - name: tfsimple1\r\n",
      "    - name: tfsimple2\r\n",
      "      inputs:\r\n",
      "      - tfsimple1\r\n",
      "      tensorMap:\r\n",
      "        tfsimple1.outputs.OUTPUT0: INPUT0\r\n",
      "        tfsimple1.outputs.OUTPUT1: INPUT1\r\n",
      "  output:\r\n",
      "    steps:\r\n",
      "    - tfsimple2\r\n"
     ]
    }
   ],
   "source": [
    "!cat ./pipelines/tfsimples.yaml"
   ]
  },
  {
   "cell_type": "code",
   "execution_count": 25,
   "id": "following-winning",
   "metadata": {},
   "outputs": [
    {
     "name": "stdout",
     "output_type": "stream",
     "text": [
      "{}\r\n"
     ]
    }
   ],
   "source": [
    "!seldon pipeline load -f ./pipelines/tfsimples.yaml"
   ]
  },
  {
   "cell_type": "code",
   "execution_count": 26,
   "id": "artistic-kentucky",
   "metadata": {},
   "outputs": [
    {
     "name": "stdout",
     "output_type": "stream",
     "text": [
      "{\r\n",
      "  \"pipelineName\": \"tfsimples\",\r\n",
      "  \"versions\": [\r\n",
      "    {\r\n",
      "      \"pipeline\": {\r\n",
      "        \"name\": \"tfsimples\",\r\n",
      "        \"uid\": \"ca7ilgvf0tu0up29t7sg\",\r\n",
      "        \"version\": 1,\r\n",
      "        \"steps\": [\r\n",
      "          {\r\n",
      "            \"name\": \"tfsimple1\"\r\n",
      "          },\r\n",
      "          {\r\n",
      "            \"name\": \"tfsimple2\",\r\n",
      "            \"inputs\": [\r\n",
      "              \"tfsimple1.outputs\"\r\n",
      "            ],\r\n",
      "            \"tensorMap\": {\r\n",
      "              \"tfsimple1.outputs.OUTPUT0\": \"INPUT0\",\r\n",
      "              \"tfsimple1.outputs.OUTPUT1\": \"INPUT1\"\r\n",
      "            }\r\n",
      "          }\r\n",
      "        ],\r\n",
      "        \"output\": {\r\n",
      "          \"steps\": [\r\n",
      "            \"tfsimple2.outputs\"\r\n",
      "          ]\r\n",
      "        },\r\n",
      "        \"kubernetesMeta\": {\r\n",
      "          \"namespace\": \"seldon-mesh\"\r\n",
      "        }\r\n",
      "      },\r\n",
      "      \"state\": {\r\n",
      "        \"pipelineVersion\": 1,\r\n",
      "        \"status\": \"PipelineReady\",\r\n",
      "        \"reason\": \"Created pipeline\",\r\n",
      "        \"lastChangeTimestamp\": \"2022-05-26T07:22:44.053717664Z\"\r\n",
      "      }\r\n",
      "    }\r\n",
      "  ]\r\n",
      "}\r\n"
     ]
    }
   ],
   "source": [
    "!seldon pipeline status tfsimples -w PipelineReady| jq -M ."
   ]
  },
  {
   "cell_type": "code",
   "execution_count": 27,
   "id": "87f10a5c",
   "metadata": {},
   "outputs": [
    {
     "name": "stdout",
     "output_type": "stream",
     "text": [
      "{\r\n",
      "  \"model_name\": \"\",\r\n",
      "  \"outputs\": [\r\n",
      "    {\r\n",
      "      \"data\": null,\r\n",
      "      \"name\": \"OUTPUT0\",\r\n",
      "      \"shape\": [\r\n",
      "        1,\r\n",
      "        16\r\n",
      "      ],\r\n",
      "      \"datatype\": \"INT32\"\r\n",
      "    },\r\n",
      "    {\r\n",
      "      \"data\": null,\r\n",
      "      \"name\": \"OUTPUT1\",\r\n",
      "      \"shape\": [\r\n",
      "        1,\r\n",
      "        16\r\n",
      "      ],\r\n",
      "      \"datatype\": \"INT32\"\r\n",
      "    }\r\n",
      "  ],\r\n",
      "  \"rawOutputContents\": [\r\n",
      "    \"AgAAAAQAAAAGAAAACAAAAAoAAAAMAAAADgAAABAAAAASAAAAFAAAABYAAAAYAAAAGgAAABwAAAAeAAAAIAAAAA==\",\r\n",
      "    \"AgAAAAQAAAAGAAAACAAAAAoAAAAMAAAADgAAABAAAAASAAAAFAAAABYAAAAYAAAAGgAAABwAAAAeAAAAIAAAAA==\"\r\n",
      "  ]\r\n",
      "}\r\n"
     ]
    }
   ],
   "source": [
    "!seldon pipeline infer tfsimples \\\n",
    "    '{\"inputs\":[{\"name\":\"INPUT0\",\"data\":[1,2,3,4,5,6,7,8,9,10,11,12,13,14,15,16],\"datatype\":\"INT32\",\"shape\":[1,16]},{\"name\":\"INPUT1\",\"data\":[1,2,3,4,5,6,7,8,9,10,11,12,13,14,15,16],\"datatype\":\"INT32\",\"shape\":[1,16]}]}' | jq -M ."
   ]
  },
  {
   "cell_type": "code",
   "execution_count": 28,
   "id": "5c33133e",
   "metadata": {},
   "outputs": [
    {
     "name": "stdout",
     "output_type": "stream",
     "text": [
      "{\r\n",
      "  \"outputs\": [\r\n",
      "    {\r\n",
      "      \"name\": \"OUTPUT0\",\r\n",
      "      \"datatype\": \"INT32\",\r\n",
      "      \"shape\": [\r\n",
      "        \"1\",\r\n",
      "        \"16\"\r\n",
      "      ],\r\n",
      "      \"contents\": {\r\n",
      "        \"intContents\": [\r\n",
      "          2,\r\n",
      "          4,\r\n",
      "          6,\r\n",
      "          8,\r\n",
      "          10,\r\n",
      "          12,\r\n",
      "          14,\r\n",
      "          16,\r\n",
      "          18,\r\n",
      "          20,\r\n",
      "          22,\r\n",
      "          24,\r\n",
      "          26,\r\n",
      "          28,\r\n",
      "          30,\r\n",
      "          32\r\n",
      "        ]\r\n",
      "      }\r\n",
      "    },\r\n",
      "    {\r\n",
      "      \"name\": \"OUTPUT1\",\r\n",
      "      \"datatype\": \"INT32\",\r\n",
      "      \"shape\": [\r\n",
      "        \"1\",\r\n",
      "        \"16\"\r\n",
      "      ],\r\n",
      "      \"contents\": {\r\n",
      "        \"intContents\": [\r\n",
      "          2,\r\n",
      "          4,\r\n",
      "          6,\r\n",
      "          8,\r\n",
      "          10,\r\n",
      "          12,\r\n",
      "          14,\r\n",
      "          16,\r\n",
      "          18,\r\n",
      "          20,\r\n",
      "          22,\r\n",
      "          24,\r\n",
      "          26,\r\n",
      "          28,\r\n",
      "          30,\r\n",
      "          32\r\n",
      "        ]\r\n",
      "      }\r\n",
      "    }\r\n",
      "  ],\r\n",
      "  \"rawOutputContents\": [\r\n",
      "    \"AgAAAAQAAAAGAAAACAAAAAoAAAAMAAAADgAAABAAAAASAAAAFAAAABYAAAAYAAAAGgAAABwAAAAeAAAAIAAAAA==\",\r\n",
      "    \"AgAAAAQAAAAGAAAACAAAAAoAAAAMAAAADgAAABAAAAASAAAAFAAAABYAAAAYAAAAGgAAABwAAAAeAAAAIAAAAA==\"\r\n",
      "  ]\r\n",
      "}\r\n"
     ]
    }
   ],
   "source": [
    "!seldon pipeline infer tfsimples --inference-mode grpc \\\n",
    "    '{\"model_name\":\"simple\",\"inputs\":[{\"name\":\"INPUT0\",\"contents\":{\"int_contents\":[1,2,3,4,5,6,7,8,9,10,11,12,13,14,15,16]},\"datatype\":\"INT32\",\"shape\":[1,16]},{\"name\":\"INPUT1\",\"contents\":{\"int_contents\":[1,2,3,4,5,6,7,8,9,10,11,12,13,14,15,16]},\"datatype\":\"INT32\",\"shape\":[1,16]}]}' | jq -M ."
   ]
  },
  {
   "cell_type": "code",
   "execution_count": 30,
   "id": "126144a5",
   "metadata": {},
   "outputs": [
    {
     "name": "stdout",
     "output_type": "stream",
     "text": [
      "---\n",
      "seldon.default.model.tfsimple1.inputs\n",
      "{\"inputs\":[{\"name\":\"INPUT0\", \"datatype\":\"INT32\", \"shape\":[\"1\", \"16\"], \"contents\":{\"intContents\":[1, 2, 3, 4, 5, 6, 7, 8, 9, 10, 11, 12, 13, 14, 15, 16]}}, {\"name\":\"INPUT1\", \"datatype\":\"INT32\", \"shape\":[\"1\", \"16\"], \"contents\":{\"intContents\":[1, 2, 3, 4, 5, 6, 7, 8, 9, 10, 11, 12, 13, 14, 15, 16]}}]}\n",
      "---\n",
      "seldon.default.model.tfsimple1.outputs\n",
      "{\"modelName\":\"tfsimple1_1\", \"modelVersion\":\"1\", \"outputs\":[{\"name\":\"OUTPUT0\", \"datatype\":\"INT32\", \"shape\":[\"1\", \"16\"], \"contents\":{\"intContents\":[2, 4, 6, 8, 10, 12, 14, 16, 18, 20, 22, 24, 26, 28, 30, 32]}}, {\"name\":\"OUTPUT1\", \"datatype\":\"INT32\", \"shape\":[\"1\", \"16\"], \"contents\":{\"intContents\":[0, 0, 0, 0, 0, 0, 0, 0, 0, 0, 0, 0, 0, 0, 0, 0]}}], \"rawOutputContents\":[\"AgAAAAQAAAAGAAAACAAAAAoAAAAMAAAADgAAABAAAAASAAAAFAAAABYAAAAYAAAAGgAAABwAAAAeAAAAIAAAAA==\", \"AAAAAAAAAAAAAAAAAAAAAAAAAAAAAAAAAAAAAAAAAAAAAAAAAAAAAAAAAAAAAAAAAAAAAAAAAAAAAAAAAAAAAA==\"]}\n",
      "---\n",
      "seldon.default.model.tfsimple2.inputs\n",
      "{\"inputs\":[{\"name\":\"INPUT0\", \"datatype\":\"INT32\", \"shape\":[\"1\", \"16\"], \"contents\":{\"intContents\":[2, 4, 6, 8, 10, 12, 14, 16, 18, 20, 22, 24, 26, 28, 30, 32]}}, {\"name\":\"INPUT1\", \"datatype\":\"INT32\", \"shape\":[\"1\", \"16\"], \"contents\":{\"intContents\":[0, 0, 0, 0, 0, 0, 0, 0, 0, 0, 0, 0, 0, 0, 0, 0]}}], \"rawInputContents\":[\"AgAAAAQAAAAGAAAACAAAAAoAAAAMAAAADgAAABAAAAASAAAAFAAAABYAAAAYAAAAGgAAABwAAAAeAAAAIAAAAA==\", \"AAAAAAAAAAAAAAAAAAAAAAAAAAAAAAAAAAAAAAAAAAAAAAAAAAAAAAAAAAAAAAAAAAAAAAAAAAAAAAAAAAAAAA==\"]}\n",
      "---\n",
      "seldon.default.model.tfsimple2.outputs\n",
      "{\"modelName\":\"tfsimple2_1\", \"modelVersion\":\"1\", \"outputs\":[{\"name\":\"OUTPUT0\", \"datatype\":\"INT32\", \"shape\":[\"1\", \"16\"], \"contents\":{\"intContents\":[2, 4, 6, 8, 10, 12, 14, 16, 18, 20, 22, 24, 26, 28, 30, 32]}}, {\"name\":\"OUTPUT1\", \"datatype\":\"INT32\", \"shape\":[\"1\", \"16\"], \"contents\":{\"intContents\":[2, 4, 6, 8, 10, 12, 14, 16, 18, 20, 22, 24, 26, 28, 30, 32]}}], \"rawOutputContents\":[\"AgAAAAQAAAAGAAAACAAAAAoAAAAMAAAADgAAABAAAAASAAAAFAAAABYAAAAYAAAAGgAAABwAAAAeAAAAIAAAAA==\", \"AgAAAAQAAAAGAAAACAAAAAoAAAAMAAAADgAAABAAAAASAAAAFAAAABYAAAAYAAAAGgAAABwAAAAeAAAAIAAAAA==\"]}\n",
      "---\n",
      "seldon.default.pipeline.tfsimples.inputs\n",
      "{\"modelName\":\"tfsimples\", \"inputs\":[{\"name\":\"INPUT0\", \"datatype\":\"INT32\", \"shape\":[\"1\", \"16\"], \"contents\":{\"intContents\":[1, 2, 3, 4, 5, 6, 7, 8, 9, 10, 11, 12, 13, 14, 15, 16]}}, {\"name\":\"INPUT1\", \"datatype\":\"INT32\", \"shape\":[\"1\", \"16\"], \"contents\":{\"intContents\":[1, 2, 3, 4, 5, 6, 7, 8, 9, 10, 11, 12, 13, 14, 15, 16]}}]}\n",
      "---\n",
      "seldon.default.pipeline.tfsimples.outputs\n",
      "{\"outputs\":[{\"name\":\"OUTPUT0\", \"datatype\":\"INT32\", \"shape\":[\"1\", \"16\"], \"contents\":{\"intContents\":[2, 4, 6, 8, 10, 12, 14, 16, 18, 20, 22, 24, 26, 28, 30, 32]}}, {\"name\":\"OUTPUT1\", \"datatype\":\"INT32\", \"shape\":[\"1\", \"16\"], \"contents\":{\"intContents\":[2, 4, 6, 8, 10, 12, 14, 16, 18, 20, 22, 24, 26, 28, 30, 32]}}], \"rawOutputContents\":[\"AgAAAAQAAAAGAAAACAAAAAoAAAAMAAAADgAAABAAAAASAAAAFAAAABYAAAAYAAAAGgAAABwAAAAeAAAAIAAAAA==\", \"AgAAAAQAAAAGAAAACAAAAAoAAAAMAAAADgAAABAAAAASAAAAFAAAABYAAAAYAAAAGgAAABwAAAAeAAAAIAAAAA==\"]}\n"
     ]
    }
   ],
   "source": [
    "!seldon pipeline inspect tfsimples"
   ]
  },
  {
   "cell_type": "code",
   "execution_count": 31,
   "id": "dimensional-hours",
   "metadata": {},
   "outputs": [
    {
     "name": "stdout",
     "output_type": "stream",
     "text": [
      "{}\r\n"
     ]
    }
   ],
   "source": [
    "!seldon pipeline unload tfsimples"
   ]
  },
  {
   "cell_type": "code",
   "execution_count": 32,
   "id": "outside-inspiration",
   "metadata": {},
   "outputs": [
    {
     "name": "stdout",
     "output_type": "stream",
     "text": [
      "{}\n",
      "{}\n"
     ]
    }
   ],
   "source": [
    "!seldon model unload tfsimple1\n",
    "!seldon model unload tfsimple2"
   ]
  },
  {
   "cell_type": "markdown",
   "id": "fca716ed",
   "metadata": {},
   "source": [
    "### Model Join"
   ]
  },
  {
   "cell_type": "code",
   "execution_count": 12,
   "id": "5e41768d",
   "metadata": {},
   "outputs": [
    {
     "name": "stdout",
     "output_type": "stream",
     "text": [
      "apiVersion: mlops.seldon.io/v1alpha1\n",
      "kind: Model\n",
      "metadata:\n",
      "  name: tfsimple1\n",
      "  namespace: seldon-mesh\n",
      "spec:\n",
      "  storageUri: \"gs://seldon-models/triton/simple\"\n",
      "  requirements:\n",
      "  - tensorflow\n",
      "apiVersion: mlops.seldon.io/v1alpha1\n",
      "kind: Model\n",
      "metadata:\n",
      "  name: tfsimple2\n",
      "  namespace: seldon-mesh\n",
      "spec:\n",
      "  storageUri: \"gs://seldon-models/triton/simple\"\n",
      "  requirements:\n",
      "  - tensorflow\n",
      "apiVersion: mlops.seldon.io/v1alpha1\n",
      "kind: Model\n",
      "metadata:\n",
      "  name: tfsimple3\n",
      "  namespace: seldon-mesh\n",
      "spec:\n",
      "  storageUri: \"gs://seldon-models/triton/simple\"\n",
      "  requirements:\n",
      "  - tensorflow\n"
     ]
    }
   ],
   "source": [
    "!cat ./models/tfsimple1.yaml\n",
    "!cat ./models/tfsimple2.yaml\n",
    "!cat ./models/tfsimple3.yaml"
   ]
  },
  {
   "cell_type": "code",
   "execution_count": 13,
   "id": "fcbc23cc",
   "metadata": {},
   "outputs": [
    {
     "name": "stdout",
     "output_type": "stream",
     "text": [
      "{}\n",
      "{}\n",
      "{}\n"
     ]
    }
   ],
   "source": [
    "!seldon model load -f ./models/tfsimple1.yaml \n",
    "!seldon model load -f ./models/tfsimple2.yaml \n",
    "!seldon model load -f ./models/tfsimple3.yaml "
   ]
  },
  {
   "cell_type": "code",
   "execution_count": 14,
   "id": "f8bb2efb",
   "metadata": {},
   "outputs": [
    {
     "name": "stdout",
     "output_type": "stream",
     "text": [
      "{}\n",
      "{}\n",
      "{}\n"
     ]
    }
   ],
   "source": [
    "!seldon model status tfsimple1 -w ModelAvailable | jq -M .\n",
    "!seldon model status tfsimple2 -w ModelAvailable | jq -M .\n",
    "!seldon model status tfsimple3 -w ModelAvailable | jq -M ."
   ]
  },
  {
   "cell_type": "code",
   "execution_count": 15,
   "id": "cd58ecba",
   "metadata": {},
   "outputs": [
    {
     "name": "stdout",
     "output_type": "stream",
     "text": [
      "apiVersion: mlops.seldon.io/v1alpha1\r\n",
      "kind: Pipeline\r\n",
      "metadata:\r\n",
      "  name: join\r\n",
      "  namespace: seldon-mesh\r\n",
      "spec:\r\n",
      "  steps:\r\n",
      "    - name: tfsimple1\r\n",
      "    - name: tfsimple2\r\n",
      "    - name: tfsimple3      \r\n",
      "      inputs:\r\n",
      "      - tfsimple1.outputs.OUTPUT0\r\n",
      "      - tfsimple2.outputs.OUTPUT1\r\n",
      "      tensorMap:\r\n",
      "        tfsimple1.outputs.OUTPUT0: INPUT0\r\n",
      "        tfsimple2.outputs.OUTPUT1: INPUT1\r\n",
      "  output:\r\n",
      "    steps:\r\n",
      "    - tfsimple3\r\n"
     ]
    }
   ],
   "source": [
    "!cat ./pipelines/tfsimples-join.yaml"
   ]
  },
  {
   "cell_type": "code",
   "execution_count": 16,
   "id": "ce9e163b",
   "metadata": {},
   "outputs": [
    {
     "name": "stdout",
     "output_type": "stream",
     "text": [
      "{}\r\n"
     ]
    }
   ],
   "source": [
    "!seldon pipeline load -f ./pipelines/tfsimples-join.yaml"
   ]
  },
  {
   "cell_type": "code",
   "execution_count": 17,
   "id": "7593c77f",
   "metadata": {},
   "outputs": [
    {
     "name": "stdout",
     "output_type": "stream",
     "text": [
      "{\r\n",
      "  \"pipelineName\": \"join\",\r\n",
      "  \"versions\": [\r\n",
      "    {\r\n",
      "      \"pipeline\": {\r\n",
      "        \"name\": \"join\",\r\n",
      "        \"uid\": \"ca7il2nf0tu0up29t7s0\",\r\n",
      "        \"version\": 1,\r\n",
      "        \"steps\": [\r\n",
      "          {\r\n",
      "            \"name\": \"tfsimple1\"\r\n",
      "          },\r\n",
      "          {\r\n",
      "            \"name\": \"tfsimple2\"\r\n",
      "          },\r\n",
      "          {\r\n",
      "            \"name\": \"tfsimple3\",\r\n",
      "            \"inputs\": [\r\n",
      "              \"tfsimple1.outputs.OUTPUT0\",\r\n",
      "              \"tfsimple2.outputs.OUTPUT1\"\r\n",
      "            ],\r\n",
      "            \"tensorMap\": {\r\n",
      "              \"tfsimple1.outputs.OUTPUT0\": \"INPUT0\",\r\n",
      "              \"tfsimple2.outputs.OUTPUT1\": \"INPUT1\"\r\n",
      "            }\r\n",
      "          }\r\n",
      "        ],\r\n",
      "        \"output\": {\r\n",
      "          \"steps\": [\r\n",
      "            \"tfsimple3.outputs\"\r\n",
      "          ]\r\n",
      "        },\r\n",
      "        \"kubernetesMeta\": {\r\n",
      "          \"namespace\": \"seldon-mesh\"\r\n",
      "        }\r\n",
      "      },\r\n",
      "      \"state\": {\r\n",
      "        \"pipelineVersion\": 1,\r\n",
      "        \"status\": \"PipelineReady\",\r\n",
      "        \"reason\": \"Created pipeline\",\r\n",
      "        \"lastChangeTimestamp\": \"2022-05-26T07:21:47.760782556Z\"\r\n",
      "      }\r\n",
      "    }\r\n",
      "  ]\r\n",
      "}\r\n"
     ]
    }
   ],
   "source": [
    "!seldon pipeline status join -w PipelineReady | jq -M ."
   ]
  },
  {
   "cell_type": "code",
   "execution_count": 18,
   "id": "2151ee4c",
   "metadata": {
    "scrolled": true
   },
   "outputs": [
    {
     "name": "stdout",
     "output_type": "stream",
     "text": [
      "{\r\n",
      "  \"outputs\": [\r\n",
      "    {\r\n",
      "      \"name\": \"OUTPUT0\",\r\n",
      "      \"datatype\": \"INT32\",\r\n",
      "      \"shape\": [\r\n",
      "        \"1\",\r\n",
      "        \"16\"\r\n",
      "      ],\r\n",
      "      \"contents\": {\r\n",
      "        \"intContents\": [\r\n",
      "          2,\r\n",
      "          4,\r\n",
      "          6,\r\n",
      "          8,\r\n",
      "          10,\r\n",
      "          12,\r\n",
      "          14,\r\n",
      "          16,\r\n",
      "          18,\r\n",
      "          20,\r\n",
      "          22,\r\n",
      "          24,\r\n",
      "          26,\r\n",
      "          28,\r\n",
      "          30,\r\n",
      "          32\r\n",
      "        ]\r\n",
      "      }\r\n",
      "    },\r\n",
      "    {\r\n",
      "      \"name\": \"OUTPUT1\",\r\n",
      "      \"datatype\": \"INT32\",\r\n",
      "      \"shape\": [\r\n",
      "        \"1\",\r\n",
      "        \"16\"\r\n",
      "      ],\r\n",
      "      \"contents\": {\r\n",
      "        \"intContents\": [\r\n",
      "          2,\r\n",
      "          4,\r\n",
      "          6,\r\n",
      "          8,\r\n",
      "          10,\r\n",
      "          12,\r\n",
      "          14,\r\n",
      "          16,\r\n",
      "          18,\r\n",
      "          20,\r\n",
      "          22,\r\n",
      "          24,\r\n",
      "          26,\r\n",
      "          28,\r\n",
      "          30,\r\n",
      "          32\r\n",
      "        ]\r\n",
      "      }\r\n",
      "    }\r\n",
      "  ],\r\n",
      "  \"rawOutputContents\": [\r\n",
      "    \"AgAAAAQAAAAGAAAACAAAAAoAAAAMAAAADgAAABAAAAASAAAAFAAAABYAAAAYAAAAGgAAABwAAAAeAAAAIAAAAA==\",\r\n",
      "    \"AgAAAAQAAAAGAAAACAAAAAoAAAAMAAAADgAAABAAAAASAAAAFAAAABYAAAAYAAAAGgAAABwAAAAeAAAAIAAAAA==\"\r\n",
      "  ]\r\n",
      "}\r\n"
     ]
    }
   ],
   "source": [
    "!seldon pipeline infer join --inference-mode grpc \\\n",
    "    '{\"model_name\":\"simple\",\"inputs\":[{\"name\":\"INPUT0\",\"contents\":{\"int_contents\":[1,2,3,4,5,6,7,8,9,10,11,12,13,14,15,16]},\"datatype\":\"INT32\",\"shape\":[1,16]},{\"name\":\"INPUT1\",\"contents\":{\"int_contents\":[1,2,3,4,5,6,7,8,9,10,11,12,13,14,15,16]},\"datatype\":\"INT32\",\"shape\":[1,16]}]}' | jq -M ."
   ]
  },
  {
   "cell_type": "code",
   "execution_count": 19,
   "id": "06575cca",
   "metadata": {},
   "outputs": [
    {
     "name": "stdout",
     "output_type": "stream",
     "text": [
      "{}\r\n"
     ]
    }
   ],
   "source": [
    "!seldon pipeline unload join"
   ]
  },
  {
   "cell_type": "code",
   "execution_count": 20,
   "id": "8bd56a9c",
   "metadata": {},
   "outputs": [
    {
     "name": "stdout",
     "output_type": "stream",
     "text": [
      "{}\n",
      "{}\n",
      "{}\n"
     ]
    }
   ],
   "source": [
    "!seldon model unload tfsimple1\n",
    "!seldon model unload tfsimple2\n",
    "!seldon model unload tfsimple3"
   ]
  },
  {
   "cell_type": "markdown",
   "id": "b6666e04",
   "metadata": {},
   "source": [
    "### Conditional"
   ]
  },
  {
   "cell_type": "code",
   "execution_count": 43,
   "id": "e3a2c7f3",
   "metadata": {},
   "outputs": [
    {
     "name": "stdout",
     "output_type": "stream",
     "text": [
      "apiVersion: mlops.seldon.io/v1alpha1\n",
      "kind: Model\n",
      "metadata:\n",
      "  name: conditional\n",
      "  namespace: seldon-mesh\n",
      "spec:\n",
      "  storageUri: \"gs://seldon-models/triton/conditional\"\n",
      "  requirements:\n",
      "  - triton\n",
      "  - python\n",
      "apiVersion: mlops.seldon.io/v1alpha1\n",
      "kind: Model\n",
      "metadata:\n",
      "  name: add10\n",
      "  namespace: seldon-mesh\n",
      "spec:\n",
      "  storageUri: \"gs://seldon-models/triton/add10\"\n",
      "  requirements:\n",
      "  - triton\n",
      "  - python\n",
      "apiVersion: mlops.seldon.io/v1alpha1\n",
      "kind: Model\n",
      "metadata:\n",
      "  name: mul10\n",
      "  namespace: seldon-mesh\n",
      "spec:\n",
      "  storageUri: \"gs://seldon-models/triton/mul10\"\n",
      "  requirements:\n",
      "  - triton\n",
      "  - python\n"
     ]
    }
   ],
   "source": [
    "!cat ./models/conditional.yaml\n",
    "!cat ./models/add10.yaml\n",
    "!cat ./models/mul10.yaml"
   ]
  },
  {
   "cell_type": "code",
   "execution_count": 44,
   "id": "2104f9bf",
   "metadata": {},
   "outputs": [
    {
     "name": "stdout",
     "output_type": "stream",
     "text": [
      "{}\n",
      "{}\n",
      "{}\n"
     ]
    }
   ],
   "source": [
    "!seldon model load -f ./models/conditional.yaml \n",
    "!seldon model load -f ./models/add10.yaml \n",
    "!seldon model load -f ./models/mul10.yaml "
   ]
  },
  {
   "cell_type": "code",
   "execution_count": 45,
   "id": "7af88e3a",
   "metadata": {},
   "outputs": [
    {
     "name": "stdout",
     "output_type": "stream",
     "text": [
      "{}\n",
      "{}\n",
      "{}\n"
     ]
    }
   ],
   "source": [
    "!seldon model status conditional -w ModelAvailable | jq -M .\n",
    "!seldon model status add10 -w ModelAvailable | jq -M .\n",
    "!seldon model status mul10 -w ModelAvailable | jq -M ."
   ]
  },
  {
   "cell_type": "code",
   "execution_count": 46,
   "id": "f5bbe84d",
   "metadata": {},
   "outputs": [
    {
     "name": "stdout",
     "output_type": "stream",
     "text": [
      "apiVersion: mlops.seldon.io/v1alpha1\r\n",
      "kind: Pipeline\r\n",
      "metadata:\r\n",
      "  name: tfsimple-conditional\r\n",
      "  namespace: seldon-mesh\r\n",
      "spec:\r\n",
      "  steps:\r\n",
      "  - name: conditional\r\n",
      "  - name: mul10\r\n",
      "    inputs:\r\n",
      "    - conditional.outputs.OUTPUT0\r\n",
      "    tensorMap:\r\n",
      "      conditional.outputs.OUTPUT0: INPUT\r\n",
      "  - name: add10\r\n",
      "    inputs:\r\n",
      "    - conditional.outputs.OUTPUT1\r\n",
      "    tensorMap:\r\n",
      "      conditional.outputs.OUTPUT1: INPUT\r\n",
      "  output:\r\n",
      "    steps:\r\n",
      "    - mul10\r\n",
      "    - add10\r\n",
      "    stepsJoin: any\r\n"
     ]
    }
   ],
   "source": [
    "!cat ./pipelines/conditional.yaml"
   ]
  },
  {
   "cell_type": "code",
   "execution_count": 47,
   "id": "829f9b18",
   "metadata": {},
   "outputs": [
    {
     "name": "stdout",
     "output_type": "stream",
     "text": [
      "{}\r\n"
     ]
    }
   ],
   "source": [
    "!seldon pipeline load -f ./pipelines/conditional.yaml"
   ]
  },
  {
   "cell_type": "code",
   "execution_count": 48,
   "id": "ae202d26",
   "metadata": {},
   "outputs": [
    {
     "name": "stdout",
     "output_type": "stream",
     "text": [
      "{\r\n",
      "  \"pipelineName\": \"tfsimple-conditional\",\r\n",
      "  \"versions\": [\r\n",
      "    {\r\n",
      "      \"pipeline\": {\r\n",
      "        \"name\": \"tfsimple-conditional\",\r\n",
      "        \"uid\": \"ca7j0t7f0tu0up29t7tg\",\r\n",
      "        \"version\": 1,\r\n",
      "        \"steps\": [\r\n",
      "          {\r\n",
      "            \"name\": \"add10\",\r\n",
      "            \"inputs\": [\r\n",
      "              \"conditional.outputs.OUTPUT1\"\r\n",
      "            ],\r\n",
      "            \"tensorMap\": {\r\n",
      "              \"conditional.outputs.OUTPUT1\": \"INPUT\"\r\n",
      "            }\r\n",
      "          },\r\n",
      "          {\r\n",
      "            \"name\": \"conditional\"\r\n",
      "          },\r\n",
      "          {\r\n",
      "            \"name\": \"mul10\",\r\n",
      "            \"inputs\": [\r\n",
      "              \"conditional.outputs.OUTPUT0\"\r\n",
      "            ],\r\n",
      "            \"tensorMap\": {\r\n",
      "              \"conditional.outputs.OUTPUT0\": \"INPUT\"\r\n",
      "            }\r\n",
      "          }\r\n",
      "        ],\r\n",
      "        \"output\": {\r\n",
      "          \"steps\": [\r\n",
      "            \"mul10.outputs\",\r\n",
      "            \"add10.outputs\"\r\n",
      "          ],\r\n",
      "          \"stepsJoin\": \"ANY\"\r\n",
      "        },\r\n",
      "        \"kubernetesMeta\": {\r\n",
      "          \"namespace\": \"seldon-mesh\"\r\n",
      "        }\r\n",
      "      },\r\n",
      "      \"state\": {\r\n",
      "        \"pipelineVersion\": 1,\r\n",
      "        \"status\": \"PipelineReady\",\r\n",
      "        \"reason\": \"Created pipeline\",\r\n",
      "        \"lastChangeTimestamp\": \"2022-05-26T08:01:03.383542144Z\"\r\n",
      "      }\r\n",
      "    }\r\n",
      "  ]\r\n",
      "}\r\n"
     ]
    }
   ],
   "source": [
    "!seldon pipeline status tfsimple-conditional -w PipelineReady | jq -M ."
   ]
  },
  {
   "cell_type": "code",
   "execution_count": 49,
   "id": "0d03d5fe",
   "metadata": {},
   "outputs": [
    {
     "name": "stdout",
     "output_type": "stream",
     "text": [
      "{\r\n",
      "  \"outputs\": [\r\n",
      "    {\r\n",
      "      \"name\": \"OUTPUT\",\r\n",
      "      \"datatype\": \"FP32\",\r\n",
      "      \"shape\": [\r\n",
      "        \"4\"\r\n",
      "      ],\r\n",
      "      \"contents\": {\r\n",
      "        \"fp32Contents\": [\r\n",
      "          10,\r\n",
      "          20,\r\n",
      "          30,\r\n",
      "          40\r\n",
      "        ]\r\n",
      "      }\r\n",
      "    }\r\n",
      "  ],\r\n",
      "  \"rawOutputContents\": [\r\n",
      "    \"AAAgQQAAoEEAAPBBAAAgQg==\"\r\n",
      "  ]\r\n",
      "}\r\n"
     ]
    }
   ],
   "source": [
    "!seldon pipeline infer tfsimple-conditional --inference-mode grpc \\\n",
    " '{\"model_name\":\"outlier\",\"inputs\":[{\"name\":\"CHOICE\",\"contents\":{\"int_contents\":[0]},\"datatype\":\"INT32\",\"shape\":[1]},{\"name\":\"INPUT0\",\"contents\":{\"fp32_contents\":[1,2,3,4]},\"datatype\":\"FP32\",\"shape\":[4]},{\"name\":\"INPUT1\",\"contents\":{\"fp32_contents\":[1,2,3,4]},\"datatype\":\"FP32\",\"shape\":[4]}]}' | jq -M ."
   ]
  },
  {
   "cell_type": "code",
   "execution_count": 50,
   "id": "def4e8e1",
   "metadata": {},
   "outputs": [
    {
     "name": "stdout",
     "output_type": "stream",
     "text": [
      "{\r\n",
      "  \"outputs\": [\r\n",
      "    {\r\n",
      "      \"name\": \"OUTPUT\",\r\n",
      "      \"datatype\": \"FP32\",\r\n",
      "      \"shape\": [\r\n",
      "        \"4\"\r\n",
      "      ],\r\n",
      "      \"contents\": {\r\n",
      "        \"fp32Contents\": [\r\n",
      "          11,\r\n",
      "          12,\r\n",
      "          13,\r\n",
      "          14\r\n",
      "        ]\r\n",
      "      }\r\n",
      "    }\r\n",
      "  ],\r\n",
      "  \"rawOutputContents\": [\r\n",
      "    \"AAAwQQAAQEEAAFBBAABgQQ==\"\r\n",
      "  ]\r\n",
      "}\r\n"
     ]
    }
   ],
   "source": [
    "!seldon pipeline infer tfsimple-conditional --inference-mode grpc \\\n",
    " '{\"model_name\":\"outlier\",\"inputs\":[{\"name\":\"CHOICE\",\"contents\":{\"int_contents\":[1]},\"datatype\":\"INT32\",\"shape\":[1]},{\"name\":\"INPUT0\",\"contents\":{\"fp32_contents\":[1,2,3,4]},\"datatype\":\"FP32\",\"shape\":[4]},{\"name\":\"INPUT1\",\"contents\":{\"fp32_contents\":[1,2,3,4]},\"datatype\":\"FP32\",\"shape\":[4]}]}' | jq -M ."
   ]
  },
  {
   "cell_type": "code",
   "execution_count": 51,
   "id": "3042fe42",
   "metadata": {},
   "outputs": [
    {
     "name": "stdout",
     "output_type": "stream",
     "text": [
      "{}\r\n"
     ]
    }
   ],
   "source": [
    "!seldon pipeline unload tfsimple-conditional"
   ]
  },
  {
   "cell_type": "code",
   "execution_count": 52,
   "id": "3bda8710",
   "metadata": {},
   "outputs": [
    {
     "name": "stdout",
     "output_type": "stream",
     "text": [
      "{}\n",
      "{}\n",
      "{}\n"
     ]
    }
   ],
   "source": [
    "!seldon model unload conditional\n",
    "!seldon model unload add10\n",
    "!seldon model unload mul10"
   ]
  },
  {
   "cell_type": "markdown",
   "id": "99cfda82",
   "metadata": {},
   "source": [
    "### Error\n",
    "An example which errors is arguments sum to greater than 100"
   ]
  },
  {
   "cell_type": "code",
   "execution_count": 53,
   "id": "1f5f0f2e",
   "metadata": {},
   "outputs": [
    {
     "name": "stdout",
     "output_type": "stream",
     "text": [
      "apiVersion: mlops.seldon.io/v1alpha1\r\n",
      "kind: Model\r\n",
      "metadata:\r\n",
      "  name: outlier-error\r\n",
      "  namespace: seldon-mesh\r\n",
      "spec:\r\n",
      "  storageUri: \"gs://seldon-models/triton/outlier\"\r\n",
      "  requirements:\r\n",
      "  - triton\r\n",
      "  - python\r\n"
     ]
    }
   ],
   "source": [
    "!cat ./models/outlier-error.yaml"
   ]
  },
  {
   "cell_type": "code",
   "execution_count": 54,
   "id": "c7ee6e78",
   "metadata": {},
   "outputs": [
    {
     "name": "stdout",
     "output_type": "stream",
     "text": [
      "{}\r\n"
     ]
    }
   ],
   "source": [
    "!seldon model load -f ./models/outlier-error.yaml "
   ]
  },
  {
   "cell_type": "code",
   "execution_count": 55,
   "id": "e06593e4",
   "metadata": {},
   "outputs": [
    {
     "name": "stdout",
     "output_type": "stream",
     "text": [
      "{}\r\n"
     ]
    }
   ],
   "source": [
    "!seldon model status outlier-error -w ModelAvailable | jq -M ."
   ]
  },
  {
   "cell_type": "code",
   "execution_count": 56,
   "id": "5057243c",
   "metadata": {},
   "outputs": [
    {
     "name": "stdout",
     "output_type": "stream",
     "text": [
      "apiVersion: mlops.seldon.io/v1alpha1\r\n",
      "kind: Pipeline\r\n",
      "metadata:\r\n",
      "  name: error\r\n",
      "spec:\r\n",
      "  steps:\r\n",
      "    - name: outlier-error\r\n",
      "  output:\r\n",
      "    steps:\r\n",
      "    - outlier-error\r\n"
     ]
    }
   ],
   "source": [
    "!cat ./pipelines/error.yaml"
   ]
  },
  {
   "cell_type": "code",
   "execution_count": 57,
   "id": "ee724055",
   "metadata": {},
   "outputs": [
    {
     "name": "stdout",
     "output_type": "stream",
     "text": [
      "{}\r\n"
     ]
    }
   ],
   "source": [
    "!seldon pipeline load -f ./pipelines/error.yaml"
   ]
  },
  {
   "cell_type": "code",
   "execution_count": 58,
   "id": "338dfa4d",
   "metadata": {},
   "outputs": [
    {
     "name": "stdout",
     "output_type": "stream",
     "text": [
      "{\r\n",
      "  \"pipelineName\": \"error\",\r\n",
      "  \"versions\": [\r\n",
      "    {\r\n",
      "      \"pipeline\": {\r\n",
      "        \"name\": \"error\",\r\n",
      "        \"uid\": \"ca7j80d12bqd6oapk540\",\r\n",
      "        \"version\": 1,\r\n",
      "        \"steps\": [\r\n",
      "          {\r\n",
      "            \"name\": \"outlier-error\"\r\n",
      "          }\r\n",
      "        ],\r\n",
      "        \"output\": {\r\n",
      "          \"steps\": [\r\n",
      "            \"outlier-error.outputs\"\r\n",
      "          ]\r\n",
      "        },\r\n",
      "        \"kubernetesMeta\": {}\r\n",
      "      },\r\n",
      "      \"state\": {\r\n",
      "        \"pipelineVersion\": 1,\r\n",
      "        \"status\": \"PipelineReady\",\r\n",
      "        \"reason\": \"Created pipeline\",\r\n",
      "        \"lastChangeTimestamp\": \"2022-05-26T08:02:09.701130089Z\"\r\n",
      "      }\r\n",
      "    }\r\n",
      "  ]\r\n",
      "}\r\n"
     ]
    }
   ],
   "source": [
    "!seldon pipeline status error -w PipelineReady | jq -M ."
   ]
  },
  {
   "cell_type": "code",
   "execution_count": 59,
   "id": "64cb9160",
   "metadata": {},
   "outputs": [
    {
     "name": "stdout",
     "output_type": "stream",
     "text": [
      "{\r\n",
      "  \"outputs\": [\r\n",
      "    {\r\n",
      "      \"name\": \"OUTPUT\",\r\n",
      "      \"datatype\": \"FP32\",\r\n",
      "      \"shape\": [\r\n",
      "        \"4\"\r\n",
      "      ],\r\n",
      "      \"contents\": {\r\n",
      "        \"fp32Contents\": [\r\n",
      "          10,\r\n",
      "          20,\r\n",
      "          30,\r\n",
      "          40\r\n",
      "        ]\r\n",
      "      }\r\n",
      "    }\r\n",
      "  ],\r\n",
      "  \"rawOutputContents\": [\r\n",
      "    \"AAAgQQAAoEEAAPBBAAAgQg==\"\r\n",
      "  ]\r\n",
      "}\r\n"
     ]
    }
   ],
   "source": [
    "!seldon pipeline infer error --inference-mode grpc \\\n",
    "    '{\"model_name\":\"outlier\",\"inputs\":[{\"name\":\"INPUT\",\"contents\":{\"fp32_contents\":[1,2,3,4]},\"datatype\":\"FP32\",\"shape\":[4]}]}' | jq -M ."
   ]
  },
  {
   "cell_type": "code",
   "execution_count": 60,
   "id": "853da19a",
   "metadata": {},
   "outputs": [
    {
     "name": "stdout",
     "output_type": "stream",
     "text": [
      "Error: rpc error: code = FailedPrecondition desc = rpc error: code = Internal desc = Failed to process the request(s) for model instance 'outlier-error_1_0', message: TritonModelException: Outlier. Input sums to greater than 100\r\n",
      "\r\n",
      "At:\r\n",
      "  /mnt/agent/models/outlier-error_1/1/model.py(108): execute\r\n",
      "\r\n",
      "Usage:\r\n",
      "  seldon pipeline infer <pipelineName> (data) [flags]\r\n",
      "\r\n",
      "Flags:\r\n",
      "  -f, --file-path string        inference payload file\r\n",
      "  -h, --help                    help for infer\r\n",
      "      --inference-host string   seldon inference host (default \"0.0.0.0:9000\")\r\n",
      "      --inference-mode string   inference mode rest or grpc (default \"rest\")\r\n",
      "  -i, --iterations int          inference iterations (default 1)\r\n",
      "\r\n",
      "Global Flags:\r\n",
      "  -r, --show-request    show request\r\n",
      "  -o, --show-response   show response (default true)\r\n",
      "\r\n",
      "rpc error: code = FailedPrecondition desc = rpc error: code = Internal desc = Failed to process the request(s) for model instance 'outlier-error_1_0', message: TritonModelException: Outlier. Input sums to greater than 100\r\n",
      "\r\n",
      "At:\r\n",
      "  /mnt/agent/models/outlier-error_1/1/model.py(108): execute\r\n",
      "\r\n"
     ]
    }
   ],
   "source": [
    "!seldon pipeline infer error --inference-mode grpc \\\n",
    "    '{\"model_name\":\"outlier\",\"inputs\":[{\"name\":\"INPUT\",\"contents\":{\"fp32_contents\":[100,2,3,4]},\"datatype\":\"FP32\",\"shape\":[4]}]}' "
   ]
  },
  {
   "cell_type": "code",
   "execution_count": 61,
   "id": "59b296c5",
   "metadata": {},
   "outputs": [
    {
     "name": "stdout",
     "output_type": "stream",
     "text": [
      "{}\r\n"
     ]
    }
   ],
   "source": [
    "!seldon pipeline unload error"
   ]
  },
  {
   "cell_type": "code",
   "execution_count": 62,
   "id": "abe4aa67",
   "metadata": {},
   "outputs": [
    {
     "name": "stdout",
     "output_type": "stream",
     "text": [
      "{}\r\n"
     ]
    }
   ],
   "source": [
    "!seldon model unload outlier-error"
   ]
  },
  {
   "cell_type": "markdown",
   "id": "7f18a8de",
   "metadata": {},
   "source": [
    "### Outlier\n",
    "An example runs only if no outlier"
   ]
  },
  {
   "cell_type": "code",
   "execution_count": 63,
   "id": "273d18bc",
   "metadata": {},
   "outputs": [
    {
     "name": "stdout",
     "output_type": "stream",
     "text": [
      "apiVersion: mlops.seldon.io/v1alpha1\n",
      "kind: Model\n",
      "metadata:\n",
      "  name: outlier-error\n",
      "  namespace: seldon-mesh\n",
      "spec:\n",
      "  storageUri: \"gs://seldon-models/triton/outlier\"\n",
      "  requirements:\n",
      "  - triton\n",
      "  - python\n",
      "apiVersion: mlops.seldon.io/v1alpha1\n",
      "kind: Model\n",
      "metadata:\n",
      "  name: add10\n",
      "  namespace: seldon-mesh\n",
      "spec:\n",
      "  storageUri: \"gs://seldon-models/triton/add10\"\n",
      "  requirements:\n",
      "  - triton\n",
      "  - python\n"
     ]
    }
   ],
   "source": [
    "!cat ./models/outlier-error.yaml\n",
    "!cat ./models/add10.yaml"
   ]
  },
  {
   "cell_type": "code",
   "execution_count": 64,
   "id": "e5db22c6",
   "metadata": {},
   "outputs": [
    {
     "name": "stdout",
     "output_type": "stream",
     "text": [
      "{}\n",
      "{}\n"
     ]
    }
   ],
   "source": [
    "!seldon model load -f ./models/outlier-error.yaml \n",
    "!seldon model load -f ./models/add10.yaml "
   ]
  },
  {
   "cell_type": "code",
   "execution_count": 66,
   "id": "4d46febb",
   "metadata": {},
   "outputs": [
    {
     "name": "stdout",
     "output_type": "stream",
     "text": [
      "{}\n",
      "{}\n"
     ]
    }
   ],
   "source": [
    "!seldon model status outlier-error -w ModelAvailable | jq -M .\n",
    "!seldon model status add10 -w ModelAvailable | jq -M ."
   ]
  },
  {
   "cell_type": "code",
   "execution_count": 67,
   "id": "3ce15ad7",
   "metadata": {},
   "outputs": [
    {
     "name": "stdout",
     "output_type": "stream",
     "text": [
      "apiVersion: mlops.seldon.io/v1alpha1\r\n",
      "kind: Pipeline\r\n",
      "metadata:\r\n",
      "  name: outlier\r\n",
      "spec:\r\n",
      "  steps:\r\n",
      "    - name: outlier-error\r\n",
      "    - name: add10\r\n",
      "      triggers:\r\n",
      "      - outlier-error\r\n",
      "  output:\r\n",
      "    steps:\r\n",
      "    - add10\r\n"
     ]
    }
   ],
   "source": [
    "!cat ./pipelines/outlier.yaml"
   ]
  },
  {
   "cell_type": "code",
   "execution_count": 68,
   "id": "ec2117d1",
   "metadata": {},
   "outputs": [
    {
     "name": "stdout",
     "output_type": "stream",
     "text": [
      "{}\r\n"
     ]
    }
   ],
   "source": [
    "!seldon pipeline load -f ./pipelines/outlier.yaml"
   ]
  },
  {
   "cell_type": "code",
   "execution_count": 69,
   "id": "13b1bb85",
   "metadata": {},
   "outputs": [
    {
     "name": "stdout",
     "output_type": "stream",
     "text": [
      "{\r\n",
      "  \"pipelineName\": \"outlier\",\r\n",
      "  \"versions\": [\r\n",
      "    {\r\n",
      "      \"pipeline\": {\r\n",
      "        \"name\": \"outlier\",\r\n",
      "        \"uid\": \"ca7j8bl12bqd6oapk54g\",\r\n",
      "        \"version\": 1,\r\n",
      "        \"steps\": [\r\n",
      "          {\r\n",
      "            \"name\": \"add10\",\r\n",
      "            \"triggers\": [\r\n",
      "              \"outlier-error.outputs\"\r\n",
      "            ]\r\n",
      "          },\r\n",
      "          {\r\n",
      "            \"name\": \"outlier-error\"\r\n",
      "          }\r\n",
      "        ],\r\n",
      "        \"output\": {\r\n",
      "          \"steps\": [\r\n",
      "            \"add10.outputs\"\r\n",
      "          ]\r\n",
      "        },\r\n",
      "        \"kubernetesMeta\": {}\r\n",
      "      },\r\n",
      "      \"state\": {\r\n",
      "        \"pipelineVersion\": 1,\r\n",
      "        \"status\": \"PipelineReady\",\r\n",
      "        \"reason\": \"Created pipeline\",\r\n",
      "        \"lastChangeTimestamp\": \"2022-05-26T08:02:54.862019439Z\"\r\n",
      "      }\r\n",
      "    }\r\n",
      "  ]\r\n",
      "}\r\n"
     ]
    }
   ],
   "source": [
    "!seldon pipeline status outlier -w PipelineReady | jq -M ."
   ]
  },
  {
   "cell_type": "code",
   "execution_count": 70,
   "id": "159156e1",
   "metadata": {},
   "outputs": [
    {
     "name": "stdout",
     "output_type": "stream",
     "text": [
      "{\r\n",
      "  \"outputs\": [\r\n",
      "    {\r\n",
      "      \"name\": \"OUTPUT\",\r\n",
      "      \"datatype\": \"FP32\",\r\n",
      "      \"shape\": [\r\n",
      "        \"4\"\r\n",
      "      ],\r\n",
      "      \"contents\": {\r\n",
      "        \"fp32Contents\": [\r\n",
      "          11,\r\n",
      "          12,\r\n",
      "          13,\r\n",
      "          14\r\n",
      "        ]\r\n",
      "      }\r\n",
      "    }\r\n",
      "  ],\r\n",
      "  \"rawOutputContents\": [\r\n",
      "    \"AAAwQQAAQEEAAFBBAABgQQ==\"\r\n",
      "  ]\r\n",
      "}\r\n"
     ]
    }
   ],
   "source": [
    "!seldon pipeline infer outlier --inference-mode grpc \\\n",
    "    '{\"model_name\":\"outlier\",\"inputs\":[{\"name\":\"INPUT\",\"contents\":{\"fp32_contents\":[1,2,3,4]},\"datatype\":\"FP32\",\"shape\":[4]}]}' | jq -M ."
   ]
  },
  {
   "cell_type": "code",
   "execution_count": 71,
   "id": "770ab019",
   "metadata": {},
   "outputs": [
    {
     "name": "stdout",
     "output_type": "stream",
     "text": [
      "Error: rpc error: code = FailedPrecondition desc = rpc error: code = Internal desc = Failed to process the request(s) for model instance 'outlier-error_1_0', message: TritonModelException: Outlier. Input sums to greater than 100\r\n",
      "\r\n",
      "At:\r\n",
      "  /mnt/agent/models/outlier-error_1/1/model.py(108): execute\r\n",
      "\r\n",
      "Usage:\r\n",
      "  seldon pipeline infer <pipelineName> (data) [flags]\r\n",
      "\r\n",
      "Flags:\r\n",
      "  -f, --file-path string        inference payload file\r\n",
      "  -h, --help                    help for infer\r\n",
      "      --inference-host string   seldon inference host (default \"0.0.0.0:9000\")\r\n",
      "      --inference-mode string   inference mode rest or grpc (default \"rest\")\r\n",
      "  -i, --iterations int          inference iterations (default 1)\r\n",
      "\r\n",
      "Global Flags:\r\n",
      "  -r, --show-request    show request\r\n",
      "  -o, --show-response   show response (default true)\r\n",
      "\r\n",
      "parse error: Invalid numeric literal at line 1, column 4\r\n"
     ]
    }
   ],
   "source": [
    "!seldon pipeline infer outlier --inference-mode grpc \\\n",
    "    '{\"model_name\":\"outlier\",\"inputs\":[{\"name\":\"INPUT\",\"contents\":{\"fp32_contents\":[100,2,3,4]},\"datatype\":\"FP32\",\"shape\":[4]}]}' | jq ."
   ]
  },
  {
   "cell_type": "code",
   "execution_count": 48,
   "id": "f27afc3e",
   "metadata": {},
   "outputs": [
    {
     "name": "stdout",
     "output_type": "stream",
     "text": [
      "{}\r\n"
     ]
    }
   ],
   "source": [
    "!seldon pipeline unload outlier"
   ]
  },
  {
   "cell_type": "code",
   "execution_count": 72,
   "id": "1ae2275c",
   "metadata": {},
   "outputs": [
    {
     "name": "stdout",
     "output_type": "stream",
     "text": [
      "{}\n",
      "{}\n"
     ]
    }
   ],
   "source": [
    "!seldon model unload outlier-error\n",
    "!seldon model unload add10"
   ]
  },
  {
   "cell_type": "markdown",
   "id": "9ec5d748",
   "metadata": {},
   "source": [
    "### Model Join with Trigger"
   ]
  },
  {
   "cell_type": "code",
   "execution_count": 79,
   "id": "dc0493d4",
   "metadata": {},
   "outputs": [
    {
     "name": "stdout",
     "output_type": "stream",
     "text": [
      "apiVersion: mlops.seldon.io/v1alpha1\n",
      "kind: Model\n",
      "metadata:\n",
      "  name: tfsimple1\n",
      "  namespace: seldon-mesh\n",
      "spec:\n",
      "  storageUri: \"gs://seldon-models/triton/simple\"\n",
      "  requirements:\n",
      "  - tensorflow\n",
      "apiVersion: mlops.seldon.io/v1alpha1\n",
      "kind: Model\n",
      "metadata:\n",
      "  name: tfsimple2\n",
      "  namespace: seldon-mesh\n",
      "spec:\n",
      "  storageUri: \"gs://seldon-models/triton/simple\"\n",
      "  requirements:\n",
      "  - tensorflow\n",
      "apiVersion: mlops.seldon.io/v1alpha1\n",
      "kind: Model\n",
      "metadata:\n",
      "  name: tfsimple3\n",
      "  namespace: seldon-mesh\n",
      "spec:\n",
      "  storageUri: \"gs://seldon-models/triton/simple\"\n",
      "  requirements:\n",
      "  - tensorflow\n",
      "apiVersion: mlops.seldon.io/v1alpha1\n",
      "kind: Model\n",
      "metadata:\n",
      "  name: check\n",
      "  namespace: seldon-mesh\n",
      "spec:\n",
      "  storageUri: \"gs://seldon-models/triton/check\"\n",
      "  requirements:\n",
      "  - triton\n",
      "  - python\n"
     ]
    }
   ],
   "source": [
    "!cat ./models/tfsimple1.yaml\n",
    "!cat ./models/tfsimple2.yaml\n",
    "!cat ./models/tfsimple3.yaml\n",
    "!cat ./models/check.yaml"
   ]
  },
  {
   "cell_type": "code",
   "execution_count": 80,
   "id": "8777c3d8",
   "metadata": {},
   "outputs": [
    {
     "name": "stdout",
     "output_type": "stream",
     "text": [
      "{}\n",
      "{}\n",
      "{}\n",
      "{}\n"
     ]
    }
   ],
   "source": [
    "!seldon model load -f ./models/tfsimple1.yaml \n",
    "!seldon model load -f ./models/tfsimple2.yaml \n",
    "!seldon model load -f ./models/tfsimple3.yaml \n",
    "!seldon model load -f ./models/check.yaml "
   ]
  },
  {
   "cell_type": "code",
   "execution_count": 81,
   "id": "e30fd9e1",
   "metadata": {},
   "outputs": [
    {
     "name": "stdout",
     "output_type": "stream",
     "text": [
      "{}\n",
      "{}\n",
      "{}\n",
      "{}\n"
     ]
    }
   ],
   "source": [
    "!seldon model status tfsimple1 -w ModelAvailable | jq -M .\n",
    "!seldon model status tfsimple2 -w ModelAvailable | jq -M .\n",
    "!seldon model status tfsimple3 -w ModelAvailable | jq -M .\n",
    "!seldon model status check -w ModelAvailable | jq -M ."
   ]
  },
  {
   "cell_type": "code",
   "execution_count": 82,
   "id": "3738341b",
   "metadata": {},
   "outputs": [
    {
     "name": "stdout",
     "output_type": "stream",
     "text": [
      "apiVersion: mlops.seldon.io/v1alpha1\r\n",
      "kind: Pipeline\r\n",
      "metadata:\r\n",
      "  name: joincheck\r\n",
      "  namespace: seldon-mesh\r\n",
      "spec:\r\n",
      "  steps:\r\n",
      "    - name: tfsimple1\r\n",
      "    - name: tfsimple2\r\n",
      "    - name: check\r\n",
      "      inputs:\r\n",
      "      - tfsimple1.outputs.OUTPUT0\r\n",
      "      tensorMap:\r\n",
      "        tfsimple1.outputs.OUTPUT0: INPUT\r\n",
      "    - name: tfsimple3      \r\n",
      "      inputs:\r\n",
      "      - tfsimple1.outputs.OUTPUT0\r\n",
      "      - tfsimple2.outputs.OUTPUT1\r\n",
      "      tensorMap:\r\n",
      "        tfsimple1.outputs.OUTPUT0: INPUT0\r\n",
      "        tfsimple2.outputs.OUTPUT1: INPUT1\r\n",
      "      triggers:\r\n",
      "      - check.outputs.OUTPUT\r\n",
      "  output:\r\n",
      "    steps:\r\n",
      "    - tfsimple3\r\n"
     ]
    }
   ],
   "source": [
    "!cat ./pipelines/tfsimples-join-outlier.yaml"
   ]
  },
  {
   "cell_type": "code",
   "execution_count": 83,
   "id": "d866cce1",
   "metadata": {},
   "outputs": [
    {
     "name": "stdout",
     "output_type": "stream",
     "text": [
      "{}\r\n"
     ]
    }
   ],
   "source": [
    "!seldon pipeline load -f ./pipelines/tfsimples-join-outlier.yaml"
   ]
  },
  {
   "cell_type": "code",
   "execution_count": 84,
   "id": "3a3289c7",
   "metadata": {},
   "outputs": [
    {
     "name": "stdout",
     "output_type": "stream",
     "text": [
      "{\r\n",
      "  \"pipelineName\": \"joincheck\",\r\n",
      "  \"versions\": [\r\n",
      "    {\r\n",
      "      \"pipeline\": {\r\n",
      "        \"name\": \"joincheck\",\r\n",
      "        \"uid\": \"ca7k0rb397m2ug7f9g8g\",\r\n",
      "        \"version\": 1,\r\n",
      "        \"steps\": [\r\n",
      "          {\r\n",
      "            \"name\": \"check\",\r\n",
      "            \"inputs\": [\r\n",
      "              \"tfsimple1.outputs.OUTPUT0\"\r\n",
      "            ],\r\n",
      "            \"tensorMap\": {\r\n",
      "              \"tfsimple1.outputs.OUTPUT0\": \"INPUT\"\r\n",
      "            }\r\n",
      "          },\r\n",
      "          {\r\n",
      "            \"name\": \"tfsimple1\"\r\n",
      "          },\r\n",
      "          {\r\n",
      "            \"name\": \"tfsimple2\"\r\n",
      "          },\r\n",
      "          {\r\n",
      "            \"name\": \"tfsimple3\",\r\n",
      "            \"inputs\": [\r\n",
      "              \"tfsimple1.outputs.OUTPUT0\",\r\n",
      "              \"tfsimple2.outputs.OUTPUT1\"\r\n",
      "            ],\r\n",
      "            \"tensorMap\": {\r\n",
      "              \"tfsimple1.outputs.OUTPUT0\": \"INPUT0\",\r\n",
      "              \"tfsimple2.outputs.OUTPUT1\": \"INPUT1\"\r\n",
      "            },\r\n",
      "            \"triggers\": [\r\n",
      "              \"check.outputs.OUTPUT\"\r\n",
      "            ]\r\n",
      "          }\r\n",
      "        ],\r\n",
      "        \"output\": {\r\n",
      "          \"steps\": [\r\n",
      "            \"tfsimple3.outputs\"\r\n",
      "          ]\r\n",
      "        },\r\n",
      "        \"kubernetesMeta\": {\r\n",
      "          \"namespace\": \"seldon-mesh\"\r\n",
      "        }\r\n",
      "      },\r\n",
      "      \"state\": {\r\n",
      "        \"pipelineVersion\": 1,\r\n",
      "        \"status\": \"PipelineReady\",\r\n",
      "        \"reason\": \"Created pipeline\",\r\n",
      "        \"lastChangeTimestamp\": \"2022-05-26T08:55:11.371796570Z\"\r\n",
      "      }\r\n",
      "    }\r\n",
      "  ]\r\n",
      "}\r\n"
     ]
    }
   ],
   "source": [
    "!seldon pipeline status joincheck -w PipelineReady | jq -M ."
   ]
  },
  {
   "cell_type": "code",
   "execution_count": 86,
   "id": "78da5cf9",
   "metadata": {
    "scrolled": true
   },
   "outputs": [
    {
     "name": "stdout",
     "output_type": "stream",
     "text": [
      "{\r\n",
      "  \"outputs\": [\r\n",
      "    {\r\n",
      "      \"name\": \"OUTPUT0\",\r\n",
      "      \"datatype\": \"INT32\",\r\n",
      "      \"shape\": [\r\n",
      "        \"1\",\r\n",
      "        \"16\"\r\n",
      "      ],\r\n",
      "      \"contents\": {\r\n",
      "        \"intContents\": [\r\n",
      "          2,\r\n",
      "          2,\r\n",
      "          2,\r\n",
      "          2,\r\n",
      "          2,\r\n",
      "          2,\r\n",
      "          2,\r\n",
      "          2,\r\n",
      "          2,\r\n",
      "          2,\r\n",
      "          2,\r\n",
      "          2,\r\n",
      "          2,\r\n",
      "          2,\r\n",
      "          2,\r\n",
      "          2\r\n",
      "        ]\r\n",
      "      }\r\n",
      "    },\r\n",
      "    {\r\n",
      "      \"name\": \"OUTPUT1\",\r\n",
      "      \"datatype\": \"INT32\",\r\n",
      "      \"shape\": [\r\n",
      "        \"1\",\r\n",
      "        \"16\"\r\n",
      "      ],\r\n",
      "      \"contents\": {\r\n",
      "        \"intContents\": [\r\n",
      "          2,\r\n",
      "          2,\r\n",
      "          2,\r\n",
      "          2,\r\n",
      "          2,\r\n",
      "          2,\r\n",
      "          2,\r\n",
      "          2,\r\n",
      "          2,\r\n",
      "          2,\r\n",
      "          2,\r\n",
      "          2,\r\n",
      "          2,\r\n",
      "          2,\r\n",
      "          2,\r\n",
      "          2\r\n",
      "        ]\r\n",
      "      }\r\n",
      "    }\r\n",
      "  ],\r\n",
      "  \"rawOutputContents\": [\r\n",
      "    \"AgAAAAIAAAACAAAAAgAAAAIAAAACAAAAAgAAAAIAAAACAAAAAgAAAAIAAAACAAAAAgAAAAIAAAACAAAAAgAAAA==\",\r\n",
      "    \"AgAAAAIAAAACAAAAAgAAAAIAAAACAAAAAgAAAAIAAAACAAAAAgAAAAIAAAACAAAAAgAAAAIAAAACAAAAAgAAAA==\"\r\n",
      "  ]\r\n",
      "}\r\n"
     ]
    }
   ],
   "source": [
    "!seldon pipeline infer joincheck --inference-mode grpc \\\n",
    "    '{\"model_name\":\"simple\",\"inputs\":[{\"name\":\"INPUT0\",\"contents\":{\"int_contents\":[1,1,1,1,1,1,1,1,1,1,1,1,1,1,1,1]},\"datatype\":\"INT32\",\"shape\":[1,16]},{\"name\":\"INPUT1\",\"contents\":{\"int_contents\":[1,1,1,1,1,1,1,1,1,1,1,1,1,1,1,1]},\"datatype\":\"INT32\",\"shape\":[1,16]}]}' | jq -M ."
   ]
  },
  {
   "cell_type": "code",
   "execution_count": 87,
   "id": "91710cce",
   "metadata": {
    "scrolled": true
   },
   "outputs": [
    {
     "name": "stdout",
     "output_type": "stream",
     "text": [
      "Error: rpc error: code = FailedPrecondition desc = rpc error: code = Internal desc = Failed to process the request(s) for model instance 'check_1_0', message: TritonModelException: Outlier. Input sums to greater than 100\r\n",
      "\r\n",
      "At:\r\n",
      "  /mnt/agent/models/check_1/1/model.py(107): execute\r\n",
      "\r\n",
      "Usage:\r\n",
      "  seldon pipeline infer <pipelineName> (data) [flags]\r\n",
      "\r\n",
      "Flags:\r\n",
      "  -f, --file-path string        inference payload file\r\n",
      "  -h, --help                    help for infer\r\n",
      "      --inference-host string   seldon inference host (default \"0.0.0.0:9000\")\r\n",
      "      --inference-mode string   inference mode rest or grpc (default \"rest\")\r\n",
      "  -i, --iterations int          inference iterations (default 1)\r\n",
      "\r\n",
      "Global Flags:\r\n",
      "  -r, --show-request    show request\r\n",
      "  -o, --show-response   show response (default true)\r\n",
      "\r\n",
      "parse error: Invalid numeric literal at line 1, column 4\r\n"
     ]
    }
   ],
   "source": [
    "!seldon pipeline infer joincheck --inference-mode grpc \\\n",
    "    '{\"model_name\":\"simple\",\"inputs\":[{\"name\":\"INPUT0\",\"contents\":{\"int_contents\":[1,2,3,4,5,6,7,8,9,10,11,12,13,14,15,16]},\"datatype\":\"INT32\",\"shape\":[1,16]},{\"name\":\"INPUT1\",\"contents\":{\"int_contents\":[1,2,3,4,5,6,7,8,9,10,11,12,13,14,15,16]},\"datatype\":\"INT32\",\"shape\":[1,16]}]}' | jq -M ."
   ]
  },
  {
   "cell_type": "code",
   "execution_count": 88,
   "id": "8ed3498e",
   "metadata": {},
   "outputs": [
    {
     "name": "stdout",
     "output_type": "stream",
     "text": [
      "{}\r\n"
     ]
    }
   ],
   "source": [
    "!seldon pipeline unload joincheck"
   ]
  },
  {
   "cell_type": "code",
   "execution_count": 89,
   "id": "27e38401",
   "metadata": {},
   "outputs": [
    {
     "name": "stdout",
     "output_type": "stream",
     "text": [
      "{}\n",
      "{}\n",
      "{}\n",
      "{}\n"
     ]
    }
   ],
   "source": [
    "!seldon model unload tfsimple1\n",
    "!seldon model unload tfsimple2\n",
    "!seldon model unload tfsimple3\n",
    "!seldon model unload check"
   ]
  },
  {
   "cell_type": "markdown",
   "id": "5ada5634",
   "metadata": {},
   "source": [
    "### Pipeline Input Tensors\n",
    "Access to indivudal tensors in pipeline inputs"
   ]
  },
  {
   "cell_type": "code",
   "execution_count": 90,
   "id": "baa2cb5f",
   "metadata": {},
   "outputs": [
    {
     "name": "stdout",
     "output_type": "stream",
     "text": [
      "apiVersion: mlops.seldon.io/v1alpha1\n",
      "kind: Model\n",
      "metadata:\n",
      "  name: mul10\n",
      "  namespace: seldon-mesh\n",
      "spec:\n",
      "  storageUri: \"gs://seldon-models/triton/mul10\"\n",
      "  requirements:\n",
      "  - triton\n",
      "  - python\n",
      "apiVersion: mlops.seldon.io/v1alpha1\n",
      "kind: Model\n",
      "metadata:\n",
      "  name: add10\n",
      "  namespace: seldon-mesh\n",
      "spec:\n",
      "  storageUri: \"gs://seldon-models/triton/add10\"\n",
      "  requirements:\n",
      "  - triton\n",
      "  - python\n"
     ]
    }
   ],
   "source": [
    "!cat ./models/mul10.yaml\n",
    "!cat ./models/add10.yaml"
   ]
  },
  {
   "cell_type": "code",
   "execution_count": 91,
   "id": "33692146",
   "metadata": {},
   "outputs": [
    {
     "name": "stdout",
     "output_type": "stream",
     "text": [
      "{}\n",
      "{}\n"
     ]
    }
   ],
   "source": [
    "!seldon model load -f ./models/mul10.yaml \n",
    "!seldon model load -f ./models/add10.yaml "
   ]
  },
  {
   "cell_type": "code",
   "execution_count": 92,
   "id": "e0493925",
   "metadata": {},
   "outputs": [
    {
     "name": "stdout",
     "output_type": "stream",
     "text": [
      "{}\n",
      "{}\n"
     ]
    }
   ],
   "source": [
    "!seldon model status mul10 -w ModelAvailable | jq -M .\n",
    "!seldon model status add10 -w ModelAvailable | jq -M ."
   ]
  },
  {
   "cell_type": "code",
   "execution_count": 93,
   "id": "c8d27ff3",
   "metadata": {},
   "outputs": [
    {
     "name": "stdout",
     "output_type": "stream",
     "text": [
      "apiVersion: mlops.seldon.io/v1alpha1\r\n",
      "kind: Pipeline\r\n",
      "metadata:\r\n",
      "  name: pipeline-inputs\r\n",
      "  namespace: seldon-mesh\r\n",
      "spec:\r\n",
      "  steps:\r\n",
      "  - name: mul10\r\n",
      "    inputs:\r\n",
      "    - pipeline-inputs.inputs.INPUT0\r\n",
      "    tensorMap:\r\n",
      "      pipeline-inputs.inputs.INPUT0: INPUT\r\n",
      "  - name: add10\r\n",
      "    inputs:\r\n",
      "    - pipeline-inputs.inputs.INPUT1\r\n",
      "    tensorMap:\r\n",
      "      pipeline-inputs.inputs.INPUT1: INPUT\r\n",
      "  output:\r\n",
      "    steps:\r\n",
      "    - mul10\r\n",
      "    - add10\r\n",
      "\r\n"
     ]
    }
   ],
   "source": [
    "!cat ./pipelines/pipeline-inputs.yaml"
   ]
  },
  {
   "cell_type": "code",
   "execution_count": 94,
   "id": "74768602",
   "metadata": {},
   "outputs": [
    {
     "name": "stdout",
     "output_type": "stream",
     "text": [
      "{}\r\n"
     ]
    }
   ],
   "source": [
    "!seldon pipeline load -f ./pipelines/pipeline-inputs.yaml"
   ]
  },
  {
   "cell_type": "code",
   "execution_count": 95,
   "id": "922b975e",
   "metadata": {},
   "outputs": [
    {
     "name": "stdout",
     "output_type": "stream",
     "text": [
      "{\r\n",
      "  \"pipelineName\": \"pipeline-inputs\",\r\n",
      "  \"versions\": [\r\n",
      "    {\r\n",
      "      \"pipeline\": {\r\n",
      "        \"name\": \"pipeline-inputs\",\r\n",
      "        \"uid\": \"ca7k1gj397m2ug7f9g90\",\r\n",
      "        \"version\": 1,\r\n",
      "        \"steps\": [\r\n",
      "          {\r\n",
      "            \"name\": \"add10\",\r\n",
      "            \"inputs\": [\r\n",
      "              \"pipeline-inputs.inputs.INPUT1\"\r\n",
      "            ],\r\n",
      "            \"tensorMap\": {\r\n",
      "              \"pipeline-inputs.inputs.INPUT1\": \"INPUT\"\r\n",
      "            }\r\n",
      "          },\r\n",
      "          {\r\n",
      "            \"name\": \"mul10\",\r\n",
      "            \"inputs\": [\r\n",
      "              \"pipeline-inputs.inputs.INPUT0\"\r\n",
      "            ],\r\n",
      "            \"tensorMap\": {\r\n",
      "              \"pipeline-inputs.inputs.INPUT0\": \"INPUT\"\r\n",
      "            }\r\n",
      "          }\r\n",
      "        ],\r\n",
      "        \"output\": {\r\n",
      "          \"steps\": [\r\n",
      "            \"mul10.outputs\",\r\n",
      "            \"add10.outputs\"\r\n",
      "          ]\r\n",
      "        },\r\n",
      "        \"kubernetesMeta\": {\r\n",
      "          \"namespace\": \"seldon-mesh\"\r\n",
      "        }\r\n",
      "      },\r\n",
      "      \"state\": {\r\n",
      "        \"pipelineVersion\": 1,\r\n",
      "        \"status\": \"PipelineReady\",\r\n",
      "        \"reason\": \"Created pipeline\",\r\n",
      "        \"lastChangeTimestamp\": \"2022-05-26T08:56:35.064213420Z\"\r\n",
      "      }\r\n",
      "    }\r\n",
      "  ]\r\n",
      "}\r\n"
     ]
    }
   ],
   "source": [
    "!seldon pipeline status pipeline-inputs -w PipelineReady | jq -M ."
   ]
  },
  {
   "cell_type": "code",
   "execution_count": 96,
   "id": "792680b5",
   "metadata": {},
   "outputs": [
    {
     "name": "stdout",
     "output_type": "stream",
     "text": [
      "{\r\n",
      "  \"outputs\": [\r\n",
      "    {\r\n",
      "      \"name\": \"OUTPUT\",\r\n",
      "      \"datatype\": \"FP32\",\r\n",
      "      \"shape\": [\r\n",
      "        \"4\"\r\n",
      "      ],\r\n",
      "      \"contents\": {\r\n",
      "        \"fp32Contents\": [\r\n",
      "          10,\r\n",
      "          20,\r\n",
      "          30,\r\n",
      "          40\r\n",
      "        ]\r\n",
      "      }\r\n",
      "    },\r\n",
      "    {\r\n",
      "      \"name\": \"OUTPUT\",\r\n",
      "      \"datatype\": \"FP32\",\r\n",
      "      \"shape\": [\r\n",
      "        \"4\"\r\n",
      "      ],\r\n",
      "      \"contents\": {\r\n",
      "        \"fp32Contents\": [\r\n",
      "          11,\r\n",
      "          12,\r\n",
      "          13,\r\n",
      "          14\r\n",
      "        ]\r\n",
      "      }\r\n",
      "    }\r\n",
      "  ],\r\n",
      "  \"rawOutputContents\": [\r\n",
      "    \"AAAgQQAAoEEAAPBBAAAgQg==\",\r\n",
      "    \"AAAwQQAAQEEAAFBBAABgQQ==\"\r\n",
      "  ]\r\n",
      "}\r\n"
     ]
    }
   ],
   "source": [
    "!seldon pipeline infer pipeline-inputs --inference-mode grpc \\\n",
    "    '{\"model_name\":\"pipeline\",\"inputs\":[{\"name\":\"INPUT0\",\"contents\":{\"fp32_contents\":[1,2,3,4]},\"datatype\":\"FP32\",\"shape\":[4]},{\"name\":\"INPUT1\",\"contents\":{\"fp32_contents\":[1,2,3,4]},\"datatype\":\"FP32\",\"shape\":[4]}]}' | jq -M ."
   ]
  },
  {
   "cell_type": "code",
   "execution_count": 97,
   "id": "d6fd0d45",
   "metadata": {},
   "outputs": [
    {
     "name": "stdout",
     "output_type": "stream",
     "text": [
      "{}\r\n"
     ]
    }
   ],
   "source": [
    "!seldon pipeline unload pipeline-inputs"
   ]
  },
  {
   "cell_type": "code",
   "execution_count": 98,
   "id": "3d5bb23c",
   "metadata": {},
   "outputs": [
    {
     "name": "stdout",
     "output_type": "stream",
     "text": [
      "{}\n",
      "{}\n"
     ]
    }
   ],
   "source": [
    "!seldon model unload mul10\n",
    "!seldon model unload add10"
   ]
  },
  {
   "cell_type": "code",
   "execution_count": null,
   "id": "3a16a6dd",
   "metadata": {},
   "outputs": [],
   "source": []
  }
 ],
 "metadata": {
  "kernelspec": {
   "display_name": "Python 3 (ipykernel)",
   "language": "python",
   "name": "python3"
  },
  "language_info": {
   "codemirror_mode": {
    "name": "ipython",
    "version": 3
   },
   "file_extension": ".py",
   "mimetype": "text/x-python",
   "name": "python",
   "nbconvert_exporter": "python",
   "pygments_lexer": "ipython3",
   "version": "3.9.10"
  }
 },
 "nbformat": 4,
 "nbformat_minor": 5
}
