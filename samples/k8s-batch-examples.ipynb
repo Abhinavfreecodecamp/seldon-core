{
 "cells": [
  {
   "cell_type": "markdown",
   "id": "3b70cb38-a0a0-4f0a-9d77-eafa92301338",
   "metadata": {},
   "source": [
    "### Seldon V2 Batch Examples"
   ]
  },
  {
   "cell_type": "code",
   "execution_count": 1,
   "id": "3d069ec2-50a0-4fd3-b65e-d178cb7b142d",
   "metadata": {},
   "outputs": [],
   "source": [
    "import os\n",
    "os.environ[\"NAMESPACE\"] = \"seldon\""
   ]
  },
  {
   "cell_type": "code",
   "execution_count": 2,
   "id": "93d79639-2651-4b83-bbcf-404e772f1f3e",
   "metadata": {},
   "outputs": [
    {
     "data": {
      "text/plain": [
       "'172.19.255.12'"
      ]
     },
     "execution_count": 2,
     "metadata": {},
     "output_type": "execute_result"
    }
   ],
   "source": [
    "MESH_IP=!kubectl get svc seldon-mesh -n ${NAMESPACE} -o jsonpath='{.status.loadBalancer.ingress[0].ip}'\n",
    "MESH_IP=MESH_IP[0]\n",
    "import os\n",
    "os.environ['MESH_IP'] = MESH_IP\n",
    "MESH_IP"
   ]
  },
  {
   "cell_type": "markdown",
   "id": "c1098488-4929-4df4-b3f9-8e448e87bcec",
   "metadata": {},
   "source": [
    "## Deploy Models and Pipelines"
   ]
  },
  {
   "cell_type": "code",
   "execution_count": 3,
   "id": "77169ee9-896f-4ee3-b154-b79997d71925",
   "metadata": {},
   "outputs": [
    {
     "name": "stdout",
     "output_type": "stream",
     "text": [
      "apiVersion: mlops.seldon.io/v1alpha1\n",
      "kind: Model\n",
      "metadata:\n",
      "  name: iris\n",
      "spec:\n",
      "  storageUri: \"gs://seldon-models/mlserver/iris\"\n",
      "  requirements:\n",
      "  - sklearn\n",
      "  memory: 100Ki\n"
     ]
    }
   ],
   "source": [
    "!cat models/sklearn-iris-gs.yaml"
   ]
  },
  {
   "cell_type": "code",
   "execution_count": 4,
   "id": "e5653b7f-b8f5-4f08-ac2c-a26775ddf027",
   "metadata": {},
   "outputs": [
    {
     "name": "stdout",
     "output_type": "stream",
     "text": [
      "apiVersion: mlops.seldon.io/v1alpha1\n",
      "kind: Pipeline\n",
      "metadata:\n",
      "  name: iris-pipeline\n",
      "spec:\n",
      "  steps:\n",
      "    - name: iris\n",
      "  output:\n",
      "    steps:\n",
      "    - iris\n"
     ]
    }
   ],
   "source": [
    "!cat pipelines/iris.yaml"
   ]
  },
  {
   "cell_type": "code",
   "execution_count": 5,
   "id": "3c51fc8b-3164-4e1a-8616-452f62d61d22",
   "metadata": {},
   "outputs": [
    {
     "name": "stdout",
     "output_type": "stream",
     "text": [
      "apiVersion: mlops.seldon.io/v1alpha1\n",
      "kind: Model\n",
      "metadata:\n",
      "  name: tfsimple1\n",
      "spec:\n",
      "  storageUri: \"gs://seldon-models/triton/simple\"\n",
      "  requirements:\n",
      "  - tensorflow\n",
      "  memory: 100Ki\n"
     ]
    }
   ],
   "source": [
    "!cat models/tfsimple1.yaml"
   ]
  },
  {
   "cell_type": "code",
   "execution_count": 6,
   "id": "992a0404-e1d6-4d55-a963-2cdebd42231c",
   "metadata": {},
   "outputs": [
    {
     "name": "stdout",
     "output_type": "stream",
     "text": [
      "apiVersion: mlops.seldon.io/v1alpha1\n",
      "kind: Pipeline\n",
      "metadata:\n",
      "  name: tfsimple\n",
      "spec:\n",
      "  steps:\n",
      "    - name: tfsimple1\n",
      "  output:\n",
      "    steps:\n",
      "    - tfsimple1\n"
     ]
    }
   ],
   "source": [
    "!cat pipelines/tfsimple.yaml"
   ]
  },
  {
   "cell_type": "code",
   "execution_count": 7,
   "id": "b4f7affb-5418-4209-b665-4478482ea3dd",
   "metadata": {},
   "outputs": [
    {
     "name": "stdout",
     "output_type": "stream",
     "text": [
      "model.mlops.seldon.io/iris unchanged\n",
      "pipeline.mlops.seldon.io/iris-pipeline unchanged\n",
      "model.mlops.seldon.io/tfsimple1 unchanged\n",
      "pipeline.mlops.seldon.io/tfsimple unchanged\n"
     ]
    }
   ],
   "source": [
    "!kubectl apply -f models/sklearn-iris-gs.yaml -n ${NAMESPACE}\n",
    "!kubectl apply -f pipelines/iris.yaml -n ${NAMESPACE}\n",
    "\n",
    "!kubectl apply -f models/tfsimple1.yaml -n ${NAMESPACE}\n",
    "!kubectl apply -f pipelines/tfsimple.yaml -n ${NAMESPACE}"
   ]
  },
  {
   "cell_type": "code",
   "execution_count": 8,
   "id": "66b6b1f3-08bc-4212-be47-9a1df0b18348",
   "metadata": {},
   "outputs": [
    {
     "name": "stdout",
     "output_type": "stream",
     "text": [
      "model.mlops.seldon.io/iris condition met\n",
      "model.mlops.seldon.io/tfsimple condition met\n",
      "model.mlops.seldon.io/tfsimple1 condition met\n",
      "pipeline.mlops.seldon.io/iris-pipeline condition met\n",
      "pipeline.mlops.seldon.io/tfsimple condition met\n",
      "pipeline.mlops.seldon.io/tfsimple-pipeline condition met\n",
      "model.mlops.seldon.io/tfsimple1 condition met\n",
      "pipeline.mlops.seldon.io/tfsimple condition met\n"
     ]
    }
   ],
   "source": [
    "!kubectl wait --for condition=ready --timeout=300s model --all -n ${NAMESPACE}\n",
    "!kubectl wait --for condition=ready --timeout=300s pipelines --all -n ${NAMESPACE}\n",
    "\n",
    "!kubectl wait --for condition=ready --timeout=300s model tfsimple1 -n ${NAMESPACE}\n",
    "!kubectl wait --for condition=ready --timeout=300s pipelines tfsimple -n ${NAMESPACE}"
   ]
  },
  {
   "cell_type": "markdown",
   "id": "2c8e501b-fd01-47f6-a211-7de81942d754",
   "metadata": {},
   "source": [
    "## Test Predictions"
   ]
  },
  {
   "cell_type": "code",
   "execution_count": 9,
   "id": "5b2678d3-a5cb-4b41-ad5b-3f29a7a1202d",
   "metadata": {},
   "outputs": [
    {
     "name": "stdout",
     "output_type": "stream",
     "text": [
      "{\n",
      "  \"model_name\": \"iris_1\",\n",
      "  \"model_version\": \"1\",\n",
      "  \"id\": \"5b88fb3f-b467-4c36-b172-0ca81ecfab2e\",\n",
      "  \"parameters\": {\n",
      "    \"content_type\": null,\n",
      "    \"headers\": null\n",
      "  },\n",
      "  \"outputs\": [\n",
      "    {\n",
      "      \"name\": \"predict\",\n",
      "      \"shape\": [\n",
      "        1\n",
      "      ],\n",
      "      \"datatype\": \"INT64\",\n",
      "      \"parameters\": null,\n",
      "      \"data\": [\n",
      "        2\n",
      "      ]\n",
      "    }\n",
      "  ]\n",
      "}\n"
     ]
    }
   ],
   "source": [
    "!seldon model infer iris --inference-host ${MESH_IP}:80 \\\n",
    "  '{\"inputs\": [{\"name\": \"predict\", \"shape\": [1, 4], \"datatype\": \"FP32\", \"data\": [[1, 2, 3, 4]]}]}' | jq -M ."
   ]
  },
  {
   "cell_type": "code",
   "execution_count": 10,
   "id": "31701fb2-1185-415c-a0f8-b05ab89ae2d2",
   "metadata": {},
   "outputs": [
    {
     "name": "stdout",
     "output_type": "stream",
     "text": [
      "{\n",
      "  \"model_name\": \"\",\n",
      "  \"outputs\": [\n",
      "    {\n",
      "      \"data\": [\n",
      "        2\n",
      "      ],\n",
      "      \"name\": \"predict\",\n",
      "      \"shape\": [\n",
      "        1\n",
      "      ],\n",
      "      \"datatype\": \"INT64\"\n",
      "    }\n",
      "  ]\n",
      "}\n"
     ]
    }
   ],
   "source": [
    "!seldon pipeline infer iris-pipeline --inference-host ${MESH_IP}:80 \\\n",
    "  '{\"inputs\": [{\"name\": \"predict\", \"shape\": [1, 4], \"datatype\": \"FP32\", \"data\": [[1, 2, 3, 4]]}]}' |  jq -M ."
   ]
  },
  {
   "cell_type": "code",
   "execution_count": 11,
   "id": "e7fd9ec3-fd25-48ad-bf5d-90231805cd01",
   "metadata": {},
   "outputs": [
    {
     "name": "stdout",
     "output_type": "stream",
     "text": [
      "\u001b[1;39m{\n",
      "  \u001b[0m\u001b[34;1m\"model_name\"\u001b[0m\u001b[1;39m: \u001b[0m\u001b[0;32m\"tfsimple_1\"\u001b[0m\u001b[1;39m,\n",
      "  \u001b[0m\u001b[34;1m\"model_version\"\u001b[0m\u001b[1;39m: \u001b[0m\u001b[0;32m\"1\"\u001b[0m\u001b[1;39m,\n",
      "  \u001b[0m\u001b[34;1m\"outputs\"\u001b[0m\u001b[1;39m: \u001b[0m\u001b[1;39m[\n",
      "    \u001b[1;39m{\n",
      "      \u001b[0m\u001b[34;1m\"name\"\u001b[0m\u001b[1;39m: \u001b[0m\u001b[0;32m\"OUTPUT0\"\u001b[0m\u001b[1;39m,\n",
      "      \u001b[0m\u001b[34;1m\"datatype\"\u001b[0m\u001b[1;39m: \u001b[0m\u001b[0;32m\"INT32\"\u001b[0m\u001b[1;39m,\n",
      "      \u001b[0m\u001b[34;1m\"shape\"\u001b[0m\u001b[1;39m: \u001b[0m\u001b[1;39m[\n",
      "        \u001b[0;39m1\u001b[0m\u001b[1;39m,\n",
      "        \u001b[0;39m16\u001b[0m\u001b[1;39m\n",
      "      \u001b[1;39m]\u001b[0m\u001b[1;39m,\n",
      "      \u001b[0m\u001b[34;1m\"data\"\u001b[0m\u001b[1;39m: \u001b[0m\u001b[1;39m[\n",
      "        \u001b[0;39m2\u001b[0m\u001b[1;39m,\n",
      "        \u001b[0;39m4\u001b[0m\u001b[1;39m,\n",
      "        \u001b[0;39m6\u001b[0m\u001b[1;39m,\n",
      "        \u001b[0;39m8\u001b[0m\u001b[1;39m,\n",
      "        \u001b[0;39m10\u001b[0m\u001b[1;39m,\n",
      "        \u001b[0;39m12\u001b[0m\u001b[1;39m,\n",
      "        \u001b[0;39m14\u001b[0m\u001b[1;39m,\n",
      "        \u001b[0;39m16\u001b[0m\u001b[1;39m,\n",
      "        \u001b[0;39m18\u001b[0m\u001b[1;39m,\n",
      "        \u001b[0;39m20\u001b[0m\u001b[1;39m,\n",
      "        \u001b[0;39m22\u001b[0m\u001b[1;39m,\n",
      "        \u001b[0;39m24\u001b[0m\u001b[1;39m,\n",
      "        \u001b[0;39m26\u001b[0m\u001b[1;39m,\n",
      "        \u001b[0;39m28\u001b[0m\u001b[1;39m,\n",
      "        \u001b[0;39m30\u001b[0m\u001b[1;39m,\n",
      "        \u001b[0;39m32\u001b[0m\u001b[1;39m\n",
      "      \u001b[1;39m]\u001b[0m\u001b[1;39m\n",
      "    \u001b[1;39m}\u001b[0m\u001b[1;39m\n",
      "  \u001b[1;39m]\u001b[0m\u001b[1;39m\n",
      "\u001b[1;39m}\u001b[0m\n"
     ]
    }
   ],
   "source": [
    "!seldon model infer tfsimple --inference-host ${MESH_IP}:80 \\\n",
    "  '{\"outputs\":[{\"name\":\"OUTPUT0\"}], \"inputs\":[{\"name\":\"INPUT0\",\"data\":[1,2,3,4,5,6,7,8,9,10,11,12,13,14,15,16],\"datatype\":\"INT32\",\"shape\":[1,16]},{\"name\":\"INPUT1\",\"data\":[1,2,3,4,5,6,7,8,9,10,11,12,13,14,15,16],\"datatype\":\"INT32\",\"shape\":[1,16]}]}' | jq ."
   ]
  },
  {
   "cell_type": "code",
   "execution_count": 12,
   "id": "9473915b-0ec4-457c-b304-1ba50e9cd78d",
   "metadata": {},
   "outputs": [
    {
     "name": "stdout",
     "output_type": "stream",
     "text": [
      "\u001b[1;39m{\n",
      "  \u001b[0m\u001b[34;1m\"model_name\"\u001b[0m\u001b[1;39m: \u001b[0m\u001b[0;32m\"\"\u001b[0m\u001b[1;39m,\n",
      "  \u001b[0m\u001b[34;1m\"outputs\"\u001b[0m\u001b[1;39m: \u001b[0m\u001b[1;39m[\n",
      "    \u001b[1;39m{\n",
      "      \u001b[0m\u001b[34;1m\"data\"\u001b[0m\u001b[1;39m: \u001b[0m\u001b[1;39m[\n",
      "        \u001b[0;39m2\u001b[0m\u001b[1;39m,\n",
      "        \u001b[0;39m4\u001b[0m\u001b[1;39m,\n",
      "        \u001b[0;39m6\u001b[0m\u001b[1;39m,\n",
      "        \u001b[0;39m8\u001b[0m\u001b[1;39m,\n",
      "        \u001b[0;39m10\u001b[0m\u001b[1;39m,\n",
      "        \u001b[0;39m12\u001b[0m\u001b[1;39m,\n",
      "        \u001b[0;39m14\u001b[0m\u001b[1;39m,\n",
      "        \u001b[0;39m16\u001b[0m\u001b[1;39m,\n",
      "        \u001b[0;39m18\u001b[0m\u001b[1;39m,\n",
      "        \u001b[0;39m20\u001b[0m\u001b[1;39m,\n",
      "        \u001b[0;39m22\u001b[0m\u001b[1;39m,\n",
      "        \u001b[0;39m24\u001b[0m\u001b[1;39m,\n",
      "        \u001b[0;39m26\u001b[0m\u001b[1;39m,\n",
      "        \u001b[0;39m28\u001b[0m\u001b[1;39m,\n",
      "        \u001b[0;39m30\u001b[0m\u001b[1;39m,\n",
      "        \u001b[0;39m32\u001b[0m\u001b[1;39m\n",
      "      \u001b[1;39m]\u001b[0m\u001b[1;39m,\n",
      "      \u001b[0m\u001b[34;1m\"name\"\u001b[0m\u001b[1;39m: \u001b[0m\u001b[0;32m\"OUTPUT0\"\u001b[0m\u001b[1;39m,\n",
      "      \u001b[0m\u001b[34;1m\"shape\"\u001b[0m\u001b[1;39m: \u001b[0m\u001b[1;39m[\n",
      "        \u001b[0;39m1\u001b[0m\u001b[1;39m,\n",
      "        \u001b[0;39m16\u001b[0m\u001b[1;39m\n",
      "      \u001b[1;39m]\u001b[0m\u001b[1;39m,\n",
      "      \u001b[0m\u001b[34;1m\"datatype\"\u001b[0m\u001b[1;39m: \u001b[0m\u001b[0;32m\"INT32\"\u001b[0m\u001b[1;39m\n",
      "    \u001b[1;39m}\u001b[0m\u001b[1;39m,\n",
      "    \u001b[1;39m{\n",
      "      \u001b[0m\u001b[34;1m\"data\"\u001b[0m\u001b[1;39m: \u001b[0m\u001b[1;39m[\n",
      "        \u001b[0;39m0\u001b[0m\u001b[1;39m,\n",
      "        \u001b[0;39m0\u001b[0m\u001b[1;39m,\n",
      "        \u001b[0;39m0\u001b[0m\u001b[1;39m,\n",
      "        \u001b[0;39m0\u001b[0m\u001b[1;39m,\n",
      "        \u001b[0;39m0\u001b[0m\u001b[1;39m,\n",
      "        \u001b[0;39m0\u001b[0m\u001b[1;39m,\n",
      "        \u001b[0;39m0\u001b[0m\u001b[1;39m,\n",
      "        \u001b[0;39m0\u001b[0m\u001b[1;39m,\n",
      "        \u001b[0;39m0\u001b[0m\u001b[1;39m,\n",
      "        \u001b[0;39m0\u001b[0m\u001b[1;39m,\n",
      "        \u001b[0;39m0\u001b[0m\u001b[1;39m,\n",
      "        \u001b[0;39m0\u001b[0m\u001b[1;39m,\n",
      "        \u001b[0;39m0\u001b[0m\u001b[1;39m,\n",
      "        \u001b[0;39m0\u001b[0m\u001b[1;39m,\n",
      "        \u001b[0;39m0\u001b[0m\u001b[1;39m,\n",
      "        \u001b[0;39m0\u001b[0m\u001b[1;39m\n",
      "      \u001b[1;39m]\u001b[0m\u001b[1;39m,\n",
      "      \u001b[0m\u001b[34;1m\"name\"\u001b[0m\u001b[1;39m: \u001b[0m\u001b[0;32m\"OUTPUT1\"\u001b[0m\u001b[1;39m,\n",
      "      \u001b[0m\u001b[34;1m\"shape\"\u001b[0m\u001b[1;39m: \u001b[0m\u001b[1;39m[\n",
      "        \u001b[0;39m1\u001b[0m\u001b[1;39m,\n",
      "        \u001b[0;39m16\u001b[0m\u001b[1;39m\n",
      "      \u001b[1;39m]\u001b[0m\u001b[1;39m,\n",
      "      \u001b[0m\u001b[34;1m\"datatype\"\u001b[0m\u001b[1;39m: \u001b[0m\u001b[0;32m\"INT32\"\u001b[0m\u001b[1;39m\n",
      "    \u001b[1;39m}\u001b[0m\u001b[1;39m\n",
      "  \u001b[1;39m]\u001b[0m\u001b[1;39m\n",
      "\u001b[1;39m}\u001b[0m\n"
     ]
    }
   ],
   "source": [
    "!seldon pipeline infer tfsimple-pipeline --inference-host ${MESH_IP}:80 \\\n",
    "  '{\"outputs\":[{\"name\":\"OUTPUT0\"}], \"inputs\":[{\"name\":\"INPUT0\",\"data\":[1,2,3,4,5,6,7,8,9,10,11,12,13,14,15,16],\"datatype\":\"INT32\",\"shape\":[1,16]},{\"name\":\"INPUT1\",\"data\":[1,2,3,4,5,6,7,8,9,10,11,12,13,14,15,16],\"datatype\":\"INT32\",\"shape\":[1,16]}]}' | jq ."
   ]
  },
  {
   "cell_type": "markdown",
   "id": "aecd8d62-2802-4e1d-bd1e-78978f3d4972",
   "metadata": {},
   "source": [
    "## MLServer Iris Batch Job"
   ]
  },
  {
   "cell_type": "code",
   "execution_count": 13,
   "id": "9e9bee26-3c1c-44b0-9889-587767cf933e",
   "metadata": {},
   "outputs": [
    {
     "name": "stdout",
     "output_type": "stream",
     "text": [
      "\u001b[1;39m{\n",
      "  \u001b[0m\u001b[34;1m\"inputs\"\u001b[0m\u001b[1;39m: \u001b[0m\u001b[1;39m[\n",
      "    \u001b[1;39m{\n",
      "      \u001b[0m\u001b[34;1m\"name\"\u001b[0m\u001b[1;39m: \u001b[0m\u001b[0;32m\"predict\"\u001b[0m\u001b[1;39m,\n",
      "      \u001b[0m\u001b[34;1m\"data\"\u001b[0m\u001b[1;39m: \u001b[0m\u001b[1;39m[\n",
      "        \u001b[0;39m0.38606369295833043\u001b[0m\u001b[1;39m,\n",
      "        \u001b[0;39m0.006894049558299753\u001b[0m\u001b[1;39m,\n",
      "        \u001b[0;39m0.6104082981607108\u001b[0m\u001b[1;39m,\n",
      "        \u001b[0;39m0.3958954239450676\u001b[0m\u001b[1;39m\n",
      "      \u001b[1;39m]\u001b[0m\u001b[1;39m,\n",
      "      \u001b[0m\u001b[34;1m\"datatype\"\u001b[0m\u001b[1;39m: \u001b[0m\u001b[0;32m\"FP64\"\u001b[0m\u001b[1;39m,\n",
      "      \u001b[0m\u001b[34;1m\"shape\"\u001b[0m\u001b[1;39m: \u001b[0m\u001b[1;39m[\n",
      "        \u001b[0;39m1\u001b[0m\u001b[1;39m,\n",
      "        \u001b[0;39m4\u001b[0m\u001b[1;39m\n",
      "      \u001b[1;39m]\u001b[0m\u001b[1;39m\n",
      "    \u001b[1;39m}\u001b[0m\u001b[1;39m\n",
      "  \u001b[1;39m]\u001b[0m\u001b[1;39m\n",
      "\u001b[1;39m}\u001b[0m\n"
     ]
    }
   ],
   "source": [
    "!cat batch-inputs/iris-input.txt | head -n 1 | jq ."
   ]
  },
  {
   "cell_type": "code",
   "execution_count": 14,
   "id": "a3b60a8f-80b5-4803-82b9-9d68605480d7",
   "metadata": {},
   "outputs": [
    {
     "name": "stdout",
     "output_type": "stream",
     "text": [
      "2022-10-10 08:40:18,854 [mlserver] INFO - Using asyncio event-loop policy: uvloop\n",
      "2022-10-10 08:40:18,857 [mlserver] INFO - Server url: 172.19.255.12\n",
      "2022-10-10 08:40:18,857 [mlserver] INFO - input file path: batch-inputs/iris-input.txt\n",
      "2022-10-10 08:40:18,857 [mlserver] INFO - output file path: /tmp/iris-output.txt\n",
      "2022-10-10 08:40:19,066 [mlserver] INFO - Time taken: 0.21 seconds\n"
     ]
    }
   ],
   "source": [
    "%%bash\n",
    "mlserver infer -u ${MESH_IP} -m iris -i batch-inputs/iris-input.txt -o /tmp/iris-output.txt --workers 5"
   ]
  },
  {
   "cell_type": "code",
   "execution_count": 15,
   "id": "d3b7ef85-6435-4041-9857-2f843091118a",
   "metadata": {},
   "outputs": [
    {
     "name": "stdout",
     "output_type": "stream",
     "text": [
      "2022-10-10 08:40:20,849 [mlserver] INFO - Using asyncio event-loop policy: uvloop\n",
      "2022-10-10 08:40:20,852 [mlserver] INFO - Server url: 172.19.255.12\n",
      "2022-10-10 08:40:20,852 [mlserver] INFO - input file path: batch-inputs/iris-input.txt\n",
      "2022-10-10 08:40:20,852 [mlserver] INFO - output file path: /tmp/iris-pipeline-output.txt\n",
      "2022-10-10 08:40:21,307 [mlserver] INFO - Time taken: 0.45 seconds\n"
     ]
    }
   ],
   "source": [
    "%%bash\n",
    "mlserver infer -u ${MESH_IP} -m iris-pipeline.pipeline -i batch-inputs/iris-input.txt -o /tmp/iris-pipeline-output.txt --workers 5"
   ]
  },
  {
   "cell_type": "code",
   "execution_count": 16,
   "id": "2fd223f2-9b91-47c2-99a6-e0f16879b44e",
   "metadata": {},
   "outputs": [
    {
     "name": "stdout",
     "output_type": "stream",
     "text": [
      "\u001b[1;39m{\n",
      "  \u001b[0m\u001b[34;1m\"model_name\"\u001b[0m\u001b[1;39m: \u001b[0m\u001b[0;32m\"iris_1\"\u001b[0m\u001b[1;39m,\n",
      "  \u001b[0m\u001b[34;1m\"model_version\"\u001b[0m\u001b[1;39m: \u001b[0m\u001b[0;32m\"1\"\u001b[0m\u001b[1;39m,\n",
      "  \u001b[0m\u001b[34;1m\"id\"\u001b[0m\u001b[1;39m: \u001b[0m\u001b[0;32m\"08359080-6fe2-4429-8c37-cc6276f4340b\"\u001b[0m\u001b[1;39m,\n",
      "  \u001b[0m\u001b[34;1m\"parameters\"\u001b[0m\u001b[1;39m: \u001b[0m\u001b[1;39m{\n",
      "    \u001b[0m\u001b[34;1m\"content_type\"\u001b[0m\u001b[1;39m: \u001b[0m\u001b[1;30mnull\u001b[0m\u001b[1;39m,\n",
      "    \u001b[0m\u001b[34;1m\"headers\"\u001b[0m\u001b[1;39m: \u001b[0m\u001b[1;30mnull\u001b[0m\u001b[1;39m,\n",
      "    \u001b[0m\u001b[34;1m\"batch_index\"\u001b[0m\u001b[1;39m: \u001b[0m\u001b[0;39m0\u001b[0m\u001b[1;39m\n",
      "  \u001b[1;39m}\u001b[0m\u001b[1;39m,\n",
      "  \u001b[0m\u001b[34;1m\"outputs\"\u001b[0m\u001b[1;39m: \u001b[0m\u001b[1;39m[\n",
      "    \u001b[1;39m{\n",
      "      \u001b[0m\u001b[34;1m\"name\"\u001b[0m\u001b[1;39m: \u001b[0m\u001b[0;32m\"predict\"\u001b[0m\u001b[1;39m,\n",
      "      \u001b[0m\u001b[34;1m\"shape\"\u001b[0m\u001b[1;39m: \u001b[0m\u001b[1;39m[\n",
      "        \u001b[0;39m1\u001b[0m\u001b[1;39m\n",
      "      \u001b[1;39m]\u001b[0m\u001b[1;39m,\n",
      "      \u001b[0m\u001b[34;1m\"datatype\"\u001b[0m\u001b[1;39m: \u001b[0m\u001b[0;32m\"INT64\"\u001b[0m\u001b[1;39m,\n",
      "      \u001b[0m\u001b[34;1m\"parameters\"\u001b[0m\u001b[1;39m: \u001b[0m\u001b[1;30mnull\u001b[0m\u001b[1;39m,\n",
      "      \u001b[0m\u001b[34;1m\"data\"\u001b[0m\u001b[1;39m: \u001b[0m\u001b[1;39m[\n",
      "        \u001b[0;39m0\u001b[0m\u001b[1;39m\n",
      "      \u001b[1;39m]\u001b[0m\u001b[1;39m\n",
      "    \u001b[1;39m}\u001b[0m\u001b[1;39m\n",
      "  \u001b[1;39m]\u001b[0m\u001b[1;39m\n",
      "\u001b[1;39m}\u001b[0m\n"
     ]
    }
   ],
   "source": [
    "!cat /tmp/iris-output.txt | head -n 1 | jq ."
   ]
  },
  {
   "cell_type": "code",
   "execution_count": 17,
   "id": "c14358ae-6206-4f67-84e6-2baa6a54c7db",
   "metadata": {},
   "outputs": [
    {
     "name": "stdout",
     "output_type": "stream",
     "text": [
      "\u001b[1;39m{\n",
      "  \u001b[0m\u001b[34;1m\"model_name\"\u001b[0m\u001b[1;39m: \u001b[0m\u001b[0;32m\"\"\u001b[0m\u001b[1;39m,\n",
      "  \u001b[0m\u001b[34;1m\"outputs\"\u001b[0m\u001b[1;39m: \u001b[0m\u001b[1;39m[\n",
      "    \u001b[1;39m{\n",
      "      \u001b[0m\u001b[34;1m\"data\"\u001b[0m\u001b[1;39m: \u001b[0m\u001b[1;39m[\n",
      "        \u001b[0;39m0\u001b[0m\u001b[1;39m\n",
      "      \u001b[1;39m]\u001b[0m\u001b[1;39m,\n",
      "      \u001b[0m\u001b[34;1m\"name\"\u001b[0m\u001b[1;39m: \u001b[0m\u001b[0;32m\"predict\"\u001b[0m\u001b[1;39m,\n",
      "      \u001b[0m\u001b[34;1m\"shape\"\u001b[0m\u001b[1;39m: \u001b[0m\u001b[1;39m[\n",
      "        \u001b[0;39m1\u001b[0m\u001b[1;39m\n",
      "      \u001b[1;39m]\u001b[0m\u001b[1;39m,\n",
      "      \u001b[0m\u001b[34;1m\"datatype\"\u001b[0m\u001b[1;39m: \u001b[0m\u001b[0;32m\"INT64\"\u001b[0m\u001b[1;39m\n",
      "    \u001b[1;39m}\u001b[0m\u001b[1;39m\n",
      "  \u001b[1;39m]\u001b[0m\u001b[1;39m,\n",
      "  \u001b[0m\u001b[34;1m\"parameters\"\u001b[0m\u001b[1;39m: \u001b[0m\u001b[1;39m{\n",
      "    \u001b[0m\u001b[34;1m\"batch_index\"\u001b[0m\u001b[1;39m: \u001b[0m\u001b[0;39m0\u001b[0m\u001b[1;39m\n",
      "  \u001b[1;39m}\u001b[0m\u001b[1;39m\n",
      "\u001b[1;39m}\u001b[0m\n"
     ]
    }
   ],
   "source": [
    "!cat /tmp/iris-pipeline-output.txt | head -n 1 | jq ."
   ]
  },
  {
   "cell_type": "markdown",
   "id": "b881fc4f-6e57-4164-9d8d-d174662a43ec",
   "metadata": {},
   "source": [
    "## Triton TFSimple Batch Job"
   ]
  },
  {
   "cell_type": "code",
   "execution_count": 18,
   "id": "5ae725ef-bf07-42f7-8c57-d4e99ae99a87",
   "metadata": {},
   "outputs": [
    {
     "name": "stdout",
     "output_type": "stream",
     "text": [
      "\u001b[1;39m{\n",
      "  \u001b[0m\u001b[34;1m\"inputs\"\u001b[0m\u001b[1;39m: \u001b[0m\u001b[1;39m[\n",
      "    \u001b[1;39m{\n",
      "      \u001b[0m\u001b[34;1m\"name\"\u001b[0m\u001b[1;39m: \u001b[0m\u001b[0;32m\"INPUT0\"\u001b[0m\u001b[1;39m,\n",
      "      \u001b[0m\u001b[34;1m\"data\"\u001b[0m\u001b[1;39m: \u001b[0m\u001b[1;39m[\n",
      "        \u001b[0;39m75\u001b[0m\u001b[1;39m,\n",
      "        \u001b[0;39m39\u001b[0m\u001b[1;39m,\n",
      "        \u001b[0;39m9\u001b[0m\u001b[1;39m,\n",
      "        \u001b[0;39m44\u001b[0m\u001b[1;39m,\n",
      "        \u001b[0;39m32\u001b[0m\u001b[1;39m,\n",
      "        \u001b[0;39m97\u001b[0m\u001b[1;39m,\n",
      "        \u001b[0;39m99\u001b[0m\u001b[1;39m,\n",
      "        \u001b[0;39m40\u001b[0m\u001b[1;39m,\n",
      "        \u001b[0;39m13\u001b[0m\u001b[1;39m,\n",
      "        \u001b[0;39m27\u001b[0m\u001b[1;39m,\n",
      "        \u001b[0;39m25\u001b[0m\u001b[1;39m,\n",
      "        \u001b[0;39m36\u001b[0m\u001b[1;39m,\n",
      "        \u001b[0;39m18\u001b[0m\u001b[1;39m,\n",
      "        \u001b[0;39m77\u001b[0m\u001b[1;39m,\n",
      "        \u001b[0;39m62\u001b[0m\u001b[1;39m,\n",
      "        \u001b[0;39m60\u001b[0m\u001b[1;39m\n",
      "      \u001b[1;39m]\u001b[0m\u001b[1;39m,\n",
      "      \u001b[0m\u001b[34;1m\"datatype\"\u001b[0m\u001b[1;39m: \u001b[0m\u001b[0;32m\"INT32\"\u001b[0m\u001b[1;39m,\n",
      "      \u001b[0m\u001b[34;1m\"shape\"\u001b[0m\u001b[1;39m: \u001b[0m\u001b[1;39m[\n",
      "        \u001b[0;39m1\u001b[0m\u001b[1;39m,\n",
      "        \u001b[0;39m16\u001b[0m\u001b[1;39m\n",
      "      \u001b[1;39m]\u001b[0m\u001b[1;39m\n",
      "    \u001b[1;39m}\u001b[0m\u001b[1;39m,\n",
      "    \u001b[1;39m{\n",
      "      \u001b[0m\u001b[34;1m\"name\"\u001b[0m\u001b[1;39m: \u001b[0m\u001b[0;32m\"INPUT1\"\u001b[0m\u001b[1;39m,\n",
      "      \u001b[0m\u001b[34;1m\"data\"\u001b[0m\u001b[1;39m: \u001b[0m\u001b[1;39m[\n",
      "        \u001b[0;39m39\u001b[0m\u001b[1;39m,\n",
      "        \u001b[0;39m7\u001b[0m\u001b[1;39m,\n",
      "        \u001b[0;39m14\u001b[0m\u001b[1;39m,\n",
      "        \u001b[0;39m58\u001b[0m\u001b[1;39m,\n",
      "        \u001b[0;39m13\u001b[0m\u001b[1;39m,\n",
      "        \u001b[0;39m88\u001b[0m\u001b[1;39m,\n",
      "        \u001b[0;39m98\u001b[0m\u001b[1;39m,\n",
      "        \u001b[0;39m66\u001b[0m\u001b[1;39m,\n",
      "        \u001b[0;39m97\u001b[0m\u001b[1;39m,\n",
      "        \u001b[0;39m57\u001b[0m\u001b[1;39m,\n",
      "        \u001b[0;39m49\u001b[0m\u001b[1;39m,\n",
      "        \u001b[0;39m3\u001b[0m\u001b[1;39m,\n",
      "        \u001b[0;39m49\u001b[0m\u001b[1;39m,\n",
      "        \u001b[0;39m63\u001b[0m\u001b[1;39m,\n",
      "        \u001b[0;39m37\u001b[0m\u001b[1;39m,\n",
      "        \u001b[0;39m12\u001b[0m\u001b[1;39m\n",
      "      \u001b[1;39m]\u001b[0m\u001b[1;39m,\n",
      "      \u001b[0m\u001b[34;1m\"datatype\"\u001b[0m\u001b[1;39m: \u001b[0m\u001b[0;32m\"INT32\"\u001b[0m\u001b[1;39m,\n",
      "      \u001b[0m\u001b[34;1m\"shape\"\u001b[0m\u001b[1;39m: \u001b[0m\u001b[1;39m[\n",
      "        \u001b[0;39m1\u001b[0m\u001b[1;39m,\n",
      "        \u001b[0;39m16\u001b[0m\u001b[1;39m\n",
      "      \u001b[1;39m]\u001b[0m\u001b[1;39m\n",
      "    \u001b[1;39m}\u001b[0m\u001b[1;39m\n",
      "  \u001b[1;39m]\u001b[0m\u001b[1;39m\n",
      "\u001b[1;39m}\u001b[0m\n"
     ]
    }
   ],
   "source": [
    "!cat batch-inputs/tfsimple-input.txt | head -n 1 | jq ."
   ]
  },
  {
   "cell_type": "code",
   "execution_count": 19,
   "id": "5c5f360a-0c2c-4759-b30d-6e907aa5c75e",
   "metadata": {},
   "outputs": [
    {
     "name": "stdout",
     "output_type": "stream",
     "text": [
      "2022-10-10 08:40:23,543 [mlserver] INFO - Using asyncio event-loop policy: uvloop\n",
      "2022-10-10 08:40:23,546 [mlserver] INFO - Server url: 172.19.255.12\n",
      "2022-10-10 08:40:23,546 [mlserver] INFO - input file path: batch-inputs/tfsimple-input.txt\n",
      "2022-10-10 08:40:23,546 [mlserver] INFO - output file path: /tmp/tfsimple-output.txt\n",
      "2022-10-10 08:40:23,733 [mlserver] INFO - Time taken: 0.19 seconds\n"
     ]
    }
   ],
   "source": [
    "%%bash\n",
    "mlserver infer -u ${MESH_IP} -m tfsimple -i batch-inputs/tfsimple-input.txt -o /tmp/tfsimple-output.txt --workers 5"
   ]
  },
  {
   "cell_type": "code",
   "execution_count": 20,
   "id": "753bc0ad-2fa0-47d8-a5cc-428cba326806",
   "metadata": {},
   "outputs": [
    {
     "name": "stdout",
     "output_type": "stream",
     "text": [
      "2022-10-10 08:40:25,397 [mlserver] INFO - Using asyncio event-loop policy: uvloop\n",
      "2022-10-10 08:40:25,400 [mlserver] INFO - Server url: 172.19.255.12\n",
      "2022-10-10 08:40:25,400 [mlserver] INFO - input file path: batch-inputs/tfsimple-input.txt\n",
      "2022-10-10 08:40:25,400 [mlserver] INFO - output file path: /tmp/tfsimple-pipeline-output.txt\n",
      "2022-10-10 08:40:25,752 [mlserver] INFO - Time taken: 0.35 seconds\n"
     ]
    }
   ],
   "source": [
    "%%bash\n",
    "mlserver infer -u ${MESH_IP} -m tfsimple-pipeline.pipeline -i batch-inputs/tfsimple-input.txt -o /tmp/tfsimple-pipeline-output.txt --workers 5"
   ]
  },
  {
   "cell_type": "code",
   "execution_count": 21,
   "id": "0f8a3641-c8a3-41c5-af4b-2647655fb10d",
   "metadata": {},
   "outputs": [
    {
     "name": "stdout",
     "output_type": "stream",
     "text": [
      "\u001b[1;39m{\n",
      "  \u001b[0m\u001b[34;1m\"id\"\u001b[0m\u001b[1;39m: \u001b[0m\u001b[0;32m\"168eef39-0510-4729-b8df-3d0ec063df55\"\u001b[0m\u001b[1;39m,\n",
      "  \u001b[0m\u001b[34;1m\"model_name\"\u001b[0m\u001b[1;39m: \u001b[0m\u001b[0;32m\"tfsimple_1\"\u001b[0m\u001b[1;39m,\n",
      "  \u001b[0m\u001b[34;1m\"model_version\"\u001b[0m\u001b[1;39m: \u001b[0m\u001b[0;32m\"1\"\u001b[0m\u001b[1;39m,\n",
      "  \u001b[0m\u001b[34;1m\"outputs\"\u001b[0m\u001b[1;39m: \u001b[0m\u001b[1;39m[\n",
      "    \u001b[1;39m{\n",
      "      \u001b[0m\u001b[34;1m\"name\"\u001b[0m\u001b[1;39m: \u001b[0m\u001b[0;32m\"OUTPUT0\"\u001b[0m\u001b[1;39m,\n",
      "      \u001b[0m\u001b[34;1m\"datatype\"\u001b[0m\u001b[1;39m: \u001b[0m\u001b[0;32m\"INT32\"\u001b[0m\u001b[1;39m,\n",
      "      \u001b[0m\u001b[34;1m\"shape\"\u001b[0m\u001b[1;39m: \u001b[0m\u001b[1;39m[\n",
      "        \u001b[0;39m1\u001b[0m\u001b[1;39m,\n",
      "        \u001b[0;39m16\u001b[0m\u001b[1;39m\n",
      "      \u001b[1;39m]\u001b[0m\u001b[1;39m,\n",
      "      \u001b[0m\u001b[34;1m\"parameters\"\u001b[0m\u001b[1;39m: \u001b[0m\u001b[1;39m{}\u001b[0m\u001b[1;39m,\n",
      "      \u001b[0m\u001b[34;1m\"data\"\u001b[0m\u001b[1;39m: \u001b[0m\u001b[1;39m[\n",
      "        \u001b[0;39m114\u001b[0m\u001b[1;39m,\n",
      "        \u001b[0;39m46\u001b[0m\u001b[1;39m,\n",
      "        \u001b[0;39m23\u001b[0m\u001b[1;39m,\n",
      "        \u001b[0;39m102\u001b[0m\u001b[1;39m,\n",
      "        \u001b[0;39m45\u001b[0m\u001b[1;39m,\n",
      "        \u001b[0;39m185\u001b[0m\u001b[1;39m,\n",
      "        \u001b[0;39m197\u001b[0m\u001b[1;39m,\n",
      "        \u001b[0;39m106\u001b[0m\u001b[1;39m,\n",
      "        \u001b[0;39m110\u001b[0m\u001b[1;39m,\n",
      "        \u001b[0;39m84\u001b[0m\u001b[1;39m,\n",
      "        \u001b[0;39m74\u001b[0m\u001b[1;39m,\n",
      "        \u001b[0;39m39\u001b[0m\u001b[1;39m,\n",
      "        \u001b[0;39m67\u001b[0m\u001b[1;39m,\n",
      "        \u001b[0;39m140\u001b[0m\u001b[1;39m,\n",
      "        \u001b[0;39m99\u001b[0m\u001b[1;39m,\n",
      "        \u001b[0;39m72\u001b[0m\u001b[1;39m\n",
      "      \u001b[1;39m]\u001b[0m\u001b[1;39m\n",
      "    \u001b[1;39m}\u001b[0m\u001b[1;39m,\n",
      "    \u001b[1;39m{\n",
      "      \u001b[0m\u001b[34;1m\"name\"\u001b[0m\u001b[1;39m: \u001b[0m\u001b[0;32m\"OUTPUT1\"\u001b[0m\u001b[1;39m,\n",
      "      \u001b[0m\u001b[34;1m\"datatype\"\u001b[0m\u001b[1;39m: \u001b[0m\u001b[0;32m\"INT32\"\u001b[0m\u001b[1;39m,\n",
      "      \u001b[0m\u001b[34;1m\"shape\"\u001b[0m\u001b[1;39m: \u001b[0m\u001b[1;39m[\n",
      "        \u001b[0;39m1\u001b[0m\u001b[1;39m,\n",
      "        \u001b[0;39m16\u001b[0m\u001b[1;39m\n",
      "      \u001b[1;39m]\u001b[0m\u001b[1;39m,\n",
      "      \u001b[0m\u001b[34;1m\"parameters\"\u001b[0m\u001b[1;39m: \u001b[0m\u001b[1;39m{}\u001b[0m\u001b[1;39m,\n",
      "      \u001b[0m\u001b[34;1m\"data\"\u001b[0m\u001b[1;39m: \u001b[0m\u001b[1;39m[\n",
      "        \u001b[0;39m36\u001b[0m\u001b[1;39m,\n",
      "        \u001b[0;39m32\u001b[0m\u001b[1;39m,\n",
      "        \u001b[0;39m-5\u001b[0m\u001b[1;39m,\n",
      "        \u001b[0;39m-14\u001b[0m\u001b[1;39m,\n",
      "        \u001b[0;39m19\u001b[0m\u001b[1;39m,\n",
      "        \u001b[0;39m9\u001b[0m\u001b[1;39m,\n",
      "        \u001b[0;39m1\u001b[0m\u001b[1;39m,\n",
      "        \u001b[0;39m-26\u001b[0m\u001b[1;39m,\n",
      "        \u001b[0;39m-84\u001b[0m\u001b[1;39m,\n",
      "        \u001b[0;39m-30\u001b[0m\u001b[1;39m,\n",
      "        \u001b[0;39m-24\u001b[0m\u001b[1;39m,\n",
      "        \u001b[0;39m33\u001b[0m\u001b[1;39m,\n",
      "        \u001b[0;39m-31\u001b[0m\u001b[1;39m,\n",
      "        \u001b[0;39m14\u001b[0m\u001b[1;39m,\n",
      "        \u001b[0;39m25\u001b[0m\u001b[1;39m,\n",
      "        \u001b[0;39m48\u001b[0m\u001b[1;39m\n",
      "      \u001b[1;39m]\u001b[0m\u001b[1;39m\n",
      "    \u001b[1;39m}\u001b[0m\u001b[1;39m\n",
      "  \u001b[1;39m]\u001b[0m\u001b[1;39m,\n",
      "  \u001b[0m\u001b[34;1m\"parameters\"\u001b[0m\u001b[1;39m: \u001b[0m\u001b[1;39m{\n",
      "    \u001b[0m\u001b[34;1m\"batch_index\"\u001b[0m\u001b[1;39m: \u001b[0m\u001b[0;39m0\u001b[0m\u001b[1;39m\n",
      "  \u001b[1;39m}\u001b[0m\u001b[1;39m\n",
      "\u001b[1;39m}\u001b[0m\n"
     ]
    }
   ],
   "source": [
    "!cat /tmp/tfsimple-output.txt | head -n 1 | jq ."
   ]
  },
  {
   "cell_type": "code",
   "execution_count": 22,
   "id": "d17f03fa-08bc-42aa-95e8-8427e609e045",
   "metadata": {},
   "outputs": [
    {
     "name": "stdout",
     "output_type": "stream",
     "text": [
      "\u001b[1;39m{\n",
      "  \u001b[0m\u001b[34;1m\"model_name\"\u001b[0m\u001b[1;39m: \u001b[0m\u001b[0;32m\"\"\u001b[0m\u001b[1;39m,\n",
      "  \u001b[0m\u001b[34;1m\"outputs\"\u001b[0m\u001b[1;39m: \u001b[0m\u001b[1;39m[\n",
      "    \u001b[1;39m{\n",
      "      \u001b[0m\u001b[34;1m\"data\"\u001b[0m\u001b[1;39m: \u001b[0m\u001b[1;39m[\n",
      "        \u001b[0;39m114\u001b[0m\u001b[1;39m,\n",
      "        \u001b[0;39m46\u001b[0m\u001b[1;39m,\n",
      "        \u001b[0;39m23\u001b[0m\u001b[1;39m,\n",
      "        \u001b[0;39m102\u001b[0m\u001b[1;39m,\n",
      "        \u001b[0;39m45\u001b[0m\u001b[1;39m,\n",
      "        \u001b[0;39m185\u001b[0m\u001b[1;39m,\n",
      "        \u001b[0;39m197\u001b[0m\u001b[1;39m,\n",
      "        \u001b[0;39m106\u001b[0m\u001b[1;39m,\n",
      "        \u001b[0;39m110\u001b[0m\u001b[1;39m,\n",
      "        \u001b[0;39m84\u001b[0m\u001b[1;39m,\n",
      "        \u001b[0;39m74\u001b[0m\u001b[1;39m,\n",
      "        \u001b[0;39m39\u001b[0m\u001b[1;39m,\n",
      "        \u001b[0;39m67\u001b[0m\u001b[1;39m,\n",
      "        \u001b[0;39m140\u001b[0m\u001b[1;39m,\n",
      "        \u001b[0;39m99\u001b[0m\u001b[1;39m,\n",
      "        \u001b[0;39m72\u001b[0m\u001b[1;39m\n",
      "      \u001b[1;39m]\u001b[0m\u001b[1;39m,\n",
      "      \u001b[0m\u001b[34;1m\"name\"\u001b[0m\u001b[1;39m: \u001b[0m\u001b[0;32m\"OUTPUT0\"\u001b[0m\u001b[1;39m,\n",
      "      \u001b[0m\u001b[34;1m\"shape\"\u001b[0m\u001b[1;39m: \u001b[0m\u001b[1;39m[\n",
      "        \u001b[0;39m1\u001b[0m\u001b[1;39m,\n",
      "        \u001b[0;39m16\u001b[0m\u001b[1;39m\n",
      "      \u001b[1;39m]\u001b[0m\u001b[1;39m,\n",
      "      \u001b[0m\u001b[34;1m\"datatype\"\u001b[0m\u001b[1;39m: \u001b[0m\u001b[0;32m\"INT32\"\u001b[0m\u001b[1;39m\n",
      "    \u001b[1;39m}\u001b[0m\u001b[1;39m,\n",
      "    \u001b[1;39m{\n",
      "      \u001b[0m\u001b[34;1m\"data\"\u001b[0m\u001b[1;39m: \u001b[0m\u001b[1;39m[\n",
      "        \u001b[0;39m36\u001b[0m\u001b[1;39m,\n",
      "        \u001b[0;39m32\u001b[0m\u001b[1;39m,\n",
      "        \u001b[0;39m-5\u001b[0m\u001b[1;39m,\n",
      "        \u001b[0;39m-14\u001b[0m\u001b[1;39m,\n",
      "        \u001b[0;39m19\u001b[0m\u001b[1;39m,\n",
      "        \u001b[0;39m9\u001b[0m\u001b[1;39m,\n",
      "        \u001b[0;39m1\u001b[0m\u001b[1;39m,\n",
      "        \u001b[0;39m-26\u001b[0m\u001b[1;39m,\n",
      "        \u001b[0;39m-84\u001b[0m\u001b[1;39m,\n",
      "        \u001b[0;39m-30\u001b[0m\u001b[1;39m,\n",
      "        \u001b[0;39m-24\u001b[0m\u001b[1;39m,\n",
      "        \u001b[0;39m33\u001b[0m\u001b[1;39m,\n",
      "        \u001b[0;39m-31\u001b[0m\u001b[1;39m,\n",
      "        \u001b[0;39m14\u001b[0m\u001b[1;39m,\n",
      "        \u001b[0;39m25\u001b[0m\u001b[1;39m,\n",
      "        \u001b[0;39m48\u001b[0m\u001b[1;39m\n",
      "      \u001b[1;39m]\u001b[0m\u001b[1;39m,\n",
      "      \u001b[0m\u001b[34;1m\"name\"\u001b[0m\u001b[1;39m: \u001b[0m\u001b[0;32m\"OUTPUT1\"\u001b[0m\u001b[1;39m,\n",
      "      \u001b[0m\u001b[34;1m\"shape\"\u001b[0m\u001b[1;39m: \u001b[0m\u001b[1;39m[\n",
      "        \u001b[0;39m1\u001b[0m\u001b[1;39m,\n",
      "        \u001b[0;39m16\u001b[0m\u001b[1;39m\n",
      "      \u001b[1;39m]\u001b[0m\u001b[1;39m,\n",
      "      \u001b[0m\u001b[34;1m\"datatype\"\u001b[0m\u001b[1;39m: \u001b[0m\u001b[0;32m\"INT32\"\u001b[0m\u001b[1;39m\n",
      "    \u001b[1;39m}\u001b[0m\u001b[1;39m\n",
      "  \u001b[1;39m]\u001b[0m\u001b[1;39m,\n",
      "  \u001b[0m\u001b[34;1m\"parameters\"\u001b[0m\u001b[1;39m: \u001b[0m\u001b[1;39m{\n",
      "    \u001b[0m\u001b[34;1m\"batch_index\"\u001b[0m\u001b[1;39m: \u001b[0m\u001b[0;39m0\u001b[0m\u001b[1;39m\n",
      "  \u001b[1;39m}\u001b[0m\u001b[1;39m\n",
      "\u001b[1;39m}\u001b[0m\n"
     ]
    }
   ],
   "source": [
    "!cat /tmp/tfsimple-pipeline-output.txt | head -n 1 | jq ."
   ]
  },
  {
   "cell_type": "markdown",
   "id": "bfd8d138-4825-4a06-a395-bfe332dbfb8e",
   "metadata": {},
   "source": [
    "## Cleanup"
   ]
  },
  {
   "cell_type": "code",
   "execution_count": 23,
   "id": "b8d20578-5e4a-445a-a947-f09c8327033c",
   "metadata": {},
   "outputs": [
    {
     "name": "stdout",
     "output_type": "stream",
     "text": [
      "model.mlops.seldon.io \"iris\" deleted\n",
      "pipeline.mlops.seldon.io \"iris-pipeline\" deleted\n"
     ]
    }
   ],
   "source": [
    "!kubectl delete -f models/sklearn-iris-gs.yaml -n ${NAMESPACE}\n",
    "!kubectl delete -f pipelines/iris.yaml -n ${NAMESPACE}"
   ]
  },
  {
   "cell_type": "code",
   "execution_count": 24,
   "id": "5de7287b-577f-409f-af56-03aac9ec1f2d",
   "metadata": {},
   "outputs": [
    {
     "name": "stdout",
     "output_type": "stream",
     "text": [
      "model.mlops.seldon.io \"tfsimple1\" deleted\n",
      "pipeline.mlops.seldon.io \"tfsimple\" deleted\n"
     ]
    }
   ],
   "source": [
    "!kubectl delete -f models/tfsimple1.yaml -n ${NAMESPACE}\n",
    "!kubectl delete -f pipelines/tfsimple.yaml -n ${NAMESPACE}"
   ]
  }
 ],
 "metadata": {
  "kernelspec": {
   "display_name": "mlserver-dev",
   "language": "python",
   "name": "mlserver-dev"
  },
  "language_info": {
   "codemirror_mode": {
    "name": "ipython",
    "version": 3
   },
   "file_extension": ".py",
   "mimetype": "text/x-python",
   "name": "python",
   "nbconvert_exporter": "python",
   "pygments_lexer": "ipython3",
   "version": "3.8.13"
  }
 },
 "nbformat": 4,
 "nbformat_minor": 5
}
