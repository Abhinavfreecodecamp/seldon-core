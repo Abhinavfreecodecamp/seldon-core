{
 "cells": [
  {
   "cell_type": "markdown",
   "id": "likely-coating",
   "metadata": {},
   "source": [
    "# Model Gateway Tests \n",
    "\n",
    "The model gateway provides a kafka to http bridge."
   ]
  },
  {
   "cell_type": "code",
   "execution_count": null,
   "id": "hindu-scroll",
   "metadata": {},
   "outputs": [],
   "source": [
    "!pip install kafka-python"
   ]
  },
  {
   "cell_type": "code",
   "execution_count": null,
   "id": "cheap-semiconductor",
   "metadata": {},
   "outputs": [],
   "source": [
    "from kafka import KafkaProducer\n",
    "def produceIrisJson():\n",
    "    value='{\"inputs\": [{\"name\": \"predict\", \"shape\": [1, 4], \"datatype\": \"FP32\", \"data\": [[1, 2, 3, 4]]}]}'\n",
    "    b=str.encode(value)\n",
    "    producer = KafkaProducer(bootstrap_servers=BROKER_IP+':9092')\n",
    "    producer.send(\"iris-in\",b)\n",
    "    producer.flush()\n",
    "    producer.close()"
   ]
  },
  {
   "cell_type": "code",
   "execution_count": null,
   "id": "brief-jewelry",
   "metadata": {},
   "outputs": [],
   "source": [
    "from kafka import KafkaConsumer\n",
    "\n",
    "def consumeIrisJson():\n",
    "    consumer = KafkaConsumer(\n",
    "         bootstrap_servers=[BROKER_IP+':9092'],\n",
    "         group_id='my-consumer-1',\n",
    "    )\n",
    "    consumer.subscribe(['iris-out'])\n",
    "    \n",
    "    try:\n",
    "        for msg in consumer:\n",
    "            print(msg.value)\n",
    "            break\n",
    "    finally:\n",
    "        consumer.close()\n"
   ]
  },
  {
   "cell_type": "code",
   "execution_count": null,
   "id": "raising-court",
   "metadata": {},
   "outputs": [],
   "source": [
    "import v2_dataplane_pb2 as v2\n",
    "from google.protobuf.json_format import Parse\n",
    "\n",
    "def produceIrisGrpc():\n",
    "    data = '{\"model_name\":\"iris\",\"inputs\":[{\"name\":\"input\",\"contents\":{\"fp32_contents\":[1,2,3,4]},\"datatype\":\"FP32\",\"shape\":[1,4]}]}'\n",
    "    msg = Parse(data,v2.ModelInferRequest())\n",
    "    b = msg.SerializeToString()\n",
    "    producer = KafkaProducer(bootstrap_servers=BROKER_IP+':9092')\n",
    "    producer.send(\"iris-in\",b)\n",
    "    producer.flush()\n",
    "    producer.close()"
   ]
  },
  {
   "cell_type": "code",
   "execution_count": null,
   "id": "seventh-archives",
   "metadata": {},
   "outputs": [],
   "source": [
    "from kafka import KafkaConsumer\n",
    "\n",
    "def consumeIrisGrpc():\n",
    "    consumer = KafkaConsumer(\n",
    "         bootstrap_servers=[BROKER_IP+':9092'],\n",
    "         group_id='my-consumer-1',\n",
    "    )\n",
    "    consumer.subscribe(['iris-out'])\n",
    "    \n",
    "    try:\n",
    "        for msg in consumer:\n",
    "            resp = v2.ModelInferResponse()\n",
    "            resp.ParseFromString(msg.value)\n",
    "            print(resp)\n",
    "            break\n",
    "   \n",
    "    finally:\n",
    "        consumer.close()"
   ]
  },
  {
   "cell_type": "markdown",
   "id": "classified-circular",
   "metadata": {},
   "source": [
    "# Model Gateway Local Test\n",
    "\n",
    "\n",
    "## Setup\n",
    "\n",
    "\n",
    "* `make start-all-mlserver`\n",
    "* Update the config file `config/agent.yaml` locally \n",
    "```\n",
    "kafka:\n",
    "  active: true\n",
    "  broker: \"kafka:29092\"\n",
    "```\n",
    "\n",
    "Note: Seems not to presently work with confluent-kafka with Docker compose kraft (no zookeeper) Kafka.\n",
    "\n"
   ]
  },
  {
   "cell_type": "code",
   "execution_count": null,
   "id": "gross-consortium",
   "metadata": {},
   "outputs": [],
   "source": [
    "BROKER_IP=\"0.0.0.0\""
   ]
  },
  {
   "cell_type": "code",
   "execution_count": null,
   "id": "quarterly-thesis",
   "metadata": {},
   "outputs": [],
   "source": [
    "!grpcurl -d '{\"model\":{ \\\n",
    "              \"meta\":{\"name\":\"iris\"},\\\n",
    "              \"modelSpec\":{\"uri\":\"gs://seldon-models/mlserver/iris\",\\\n",
    "                           \"requirements\":[\"sklearn\"],\\\n",
    "                           \"memoryBytes\":500},\\\n",
    "              \"deploymentSpec\":{\"replicas\":1},\\\n",
    "              \"streamSpec\":{\"inputTopic\":\"iris-in\",\"outputTopic\":\"iris-out\"}}}' \\\n",
    "         -plaintext \\\n",
    "         -import-path ../../apis \\\n",
    "         -proto ../../apis/mlops/scheduler/scheduler.proto  0.0.0.0:9004 seldon.mlops.scheduler.Scheduler/LoadModel"
   ]
  },
  {
   "cell_type": "code",
   "execution_count": null,
   "id": "agricultural-coupon",
   "metadata": {
    "scrolled": true
   },
   "outputs": [],
   "source": [
    "!grpcurl -d '{\"name\":\"mlserver\"}' \\\n",
    "         -plaintext \\\n",
    "         -proto ../apis/mlops/scheduler/scheduler.proto  0.0.0.0:9004 seldon.mlops.scheduler.Scheduler/ServerStatus"
   ]
  },
  {
   "cell_type": "code",
   "execution_count": null,
   "id": "lyric-logan",
   "metadata": {
    "scrolled": false
   },
   "outputs": [],
   "source": [
    "!curl -v http://0.0.0.0:9000/v2/models/iris/infer -H \"Content-Type: application/json\" -H \"seldon-model: iris\"\\\n",
    "        -d '{\"inputs\": [{\"name\": \"predict\", \"shape\": [1, 4], \"datatype\": \"FP32\", \"data\": [[1, 2, 3, 4]]}]}'"
   ]
  },
  {
   "cell_type": "code",
   "execution_count": null,
   "id": "celtic-disclaimer",
   "metadata": {},
   "outputs": [],
   "source": [
    "produceIrisJson()\n",
    "consumeIrisJson()"
   ]
  },
  {
   "cell_type": "code",
   "execution_count": null,
   "id": "allied-checklist",
   "metadata": {},
   "outputs": [],
   "source": [
    "produceIrisGrpc()\n",
    "consumeIrisGrpc()"
   ]
  },
  {
   "cell_type": "code",
   "execution_count": null,
   "id": "binary-symphony",
   "metadata": {},
   "outputs": [],
   "source": [
    "!grpcurl -d '{\"model\":{\"name\":\"iris\"}}' \\\n",
    "         -plaintext \\\n",
    "         -import-path ../../apis \\\n",
    "         -proto ../../apis/mlops/scheduler/scheduler.proto  0.0.0.0:9004 seldon.mlops.scheduler.Scheduler/UnloadModel"
   ]
  },
  {
   "cell_type": "markdown",
   "id": "rough-drilling",
   "metadata": {},
   "source": [
    "# Model Gateway K8S Test\n",
    "\n",
    "\n",
    "## Setup\n",
    "\n",
    "\n",
    "* Install on k8s\n",
    "* Update the config map seldon-agent \n",
    "```\n",
    "kafka:\n",
    "  active: true\n",
    "  broker: \"seldon-kafka-plain-bootstrap.kafka:9092\"\n",
    "```"
   ]
  },
  {
   "cell_type": "code",
   "execution_count": null,
   "id": "public-semester",
   "metadata": {},
   "outputs": [],
   "source": [
    "BROKER_IP=!kubectl get svc seldon-kafka-plain-bootstrap -n kafka -o jsonpath='{.status.loadBalancer.ingress[0].ip}'\n",
    "BROKER_IP=BROKER_IP[0]\n",
    "BROKER_IP"
   ]
  },
  {
   "cell_type": "code",
   "execution_count": null,
   "id": "satisfactory-pharmacology",
   "metadata": {},
   "outputs": [],
   "source": [
    "SCHEDULER_IP=!kubectl get svc seldon-scheduler -n seldon-mesh -o jsonpath='{.status.loadBalancer.ingress[0].ip}'\n",
    "SCHEDULER_IP=SCHEDULER_IP[0]\n",
    "import os\n",
    "os.environ['SCHEDULER_IP'] = SCHEDULER_IP\n",
    "SCHEDULER_IP"
   ]
  },
  {
   "cell_type": "code",
   "execution_count": null,
   "id": "fantastic-packaging",
   "metadata": {},
   "outputs": [],
   "source": [
    "MESH_IP=!kubectl get svc seldon-mesh -n seldon-mesh -o jsonpath='{.status.loadBalancer.ingress[0].ip}'\n",
    "MESH_IP=MESH_IP[0]\n",
    "import os\n",
    "os.environ['MESH_IP'] = MESH_IP\n",
    "MESH_IP"
   ]
  },
  {
   "cell_type": "code",
   "execution_count": null,
   "id": "smoking-recycling",
   "metadata": {},
   "outputs": [],
   "source": [
    "!grpcurl -d '{\"model\":{ \\\n",
    "              \"meta\":{\"name\":\"iris\"},\\\n",
    "              \"modelSpec\":{\"uri\":\"gs://seldon-models/mlserver/iris\",\\\n",
    "                           \"requirements\":[\"sklearn\"],\\\n",
    "                           \"memoryBytes\":500},\\\n",
    "              \"deploymentSpec\":{\"replicas\":1},\\\n",
    "              \"streamSpec\":{\"inputTopic\":\"iris-in\",\"outputTopic\":\"iris-out\"}}}' \\\n",
    "         -plaintext \\\n",
    "         -import-path ../../apis \\\n",
    "         -proto ../../apis/mlops/scheduler/scheduler.proto  ${SCHEDULER_IP}:9004 seldon.mlops.scheduler.Scheduler/LoadModel"
   ]
  },
  {
   "cell_type": "code",
   "execution_count": null,
   "id": "round-pressing",
   "metadata": {
    "scrolled": true
   },
   "outputs": [],
   "source": [
    "!grpcurl -d '{\"name\":\"mlserver\"}' \\\n",
    "         -plaintext \\\n",
    "         -proto ../apis/mlops/scheduler/scheduler.proto  ${SCHEDULER_IP}:9004 seldon.mlops.scheduler.Scheduler/ServerStatus"
   ]
  },
  {
   "cell_type": "code",
   "execution_count": null,
   "id": "enhanced-cosmetic",
   "metadata": {
    "scrolled": false
   },
   "outputs": [],
   "source": [
    "!curl -v http://${MESH_IP}:80/v2/models/iris/infer -H \"Content-Type: application/json\" -H \"seldon-model: iris\"\\\n",
    "        -d '{\"inputs\": [{\"name\": \"predict\", \"shape\": [1, 4], \"datatype\": \"FP32\", \"data\": [[1, 2, 3, 4]]}]}'"
   ]
  },
  {
   "cell_type": "code",
   "execution_count": null,
   "id": "judicial-bouquet",
   "metadata": {},
   "outputs": [],
   "source": [
    "produceIrisJson()\n",
    "consumeIrisJson()"
   ]
  },
  {
   "cell_type": "code",
   "execution_count": null,
   "id": "experienced-verification",
   "metadata": {},
   "outputs": [],
   "source": [
    "produceIrisGrpc()\n",
    "consumeIrisGrpc()"
   ]
  },
  {
   "cell_type": "code",
   "execution_count": null,
   "id": "toxic-filling",
   "metadata": {},
   "outputs": [],
   "source": [
    "!grpcurl -d '{\"model\":{\"name\":\"iris\"}}' \\\n",
    "         -plaintext \\\n",
    "         -import-path ../../apis \\\n",
    "         -proto ../../apis/mlops/scheduler/scheduler.proto  ${SCHEDULER_IP}:9004 seldon.mlops.scheduler.Scheduler/UnloadModel"
   ]
  },
  {
   "cell_type": "code",
   "execution_count": null,
   "id": "exclusive-cooper",
   "metadata": {},
   "outputs": [],
   "source": []
  }
 ],
 "metadata": {
  "kernelspec": {
   "display_name": "Python 3 (ipykernel)",
   "language": "python",
   "name": "python3"
  },
  "language_info": {
   "codemirror_mode": {
    "name": "ipython",
    "version": 3
   },
   "file_extension": ".py",
   "mimetype": "text/x-python",
   "name": "python",
   "nbconvert_exporter": "python",
   "pygments_lexer": "ipython3",
   "version": "3.9.10"
  }
 },
 "nbformat": 4,
 "nbformat_minor": 5
}
