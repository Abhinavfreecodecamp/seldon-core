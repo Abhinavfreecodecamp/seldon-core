{
 "cells": [
  {
   "cell_type": "markdown",
   "id": "colonial-devices",
   "metadata": {},
   "source": [
    "# Scheduler Local Test\n",
    "\n",
    "\n",
    "## Setup\n",
    "\n",
    "\n",
    "* `make start-scheduler` \n",
    "* `make start-envoy`\n",
    "* `make start-agent`\n",
    "* `make start-mlserver`\n",
    "* `make start-rclone`"
   ]
  },
  {
   "cell_type": "markdown",
   "id": "desperate-pendant",
   "metadata": {},
   "source": [
    "## No Auth Example"
   ]
  },
  {
   "cell_type": "code",
   "execution_count": 30,
   "id": "hidden-static",
   "metadata": {},
   "outputs": [
    {
     "name": "stdout",
     "output_type": "stream",
     "text": [
      "{\r\n",
      "  \r\n",
      "}\r\n"
     ]
    }
   ],
   "source": [
    "!grpcurl -d '{\"model\":{\"name\":\"iris\",\"version\":\"2\",\"uri\":\"gs://seldon-models/mlserver/iris\",\\\n",
    "         \"requirements\":[\"sklearn\"],\\\n",
    "         \"memoryBytes\":500,\\\n",
    "         \"replicas\":1}}' \\\n",
    "         -plaintext \\\n",
    "         -proto ../apis/mlops/scheduler/scheduler.proto  0.0.0.0:9004 seldon.mlops.scheduler.Scheduler/LoadModel"
   ]
  },
  {
   "cell_type": "code",
   "execution_count": 31,
   "id": "billion-vatican",
   "metadata": {
    "scrolled": true
   },
   "outputs": [
    {
     "name": "stdout",
     "output_type": "stream",
     "text": [
      "{\r\n",
      "  \"serverName\": \"mlserver\",\r\n",
      "  \"resources\": [\r\n",
      "    {\r\n",
      "      \"memory\": \"1000\",\r\n",
      "      \"availableMemoryBytes\": \"500\"\r\n",
      "    }\r\n",
      "  ]\r\n",
      "}\r\n"
     ]
    }
   ],
   "source": [
    "!grpcurl -d '{\"name\":\"mlserver\"}' \\\n",
    "         -plaintext \\\n",
    "         -proto ../apis/mlops/scheduler/scheduler.proto  0.0.0.0:9004 seldon.mlops.scheduler.Scheduler/ServerStatus"
   ]
  },
  {
   "cell_type": "code",
   "execution_count": 32,
   "id": "israeli-slovenia",
   "metadata": {
    "scrolled": false
   },
   "outputs": [
    {
     "name": "stdout",
     "output_type": "stream",
     "text": [
      "* Expire in 0 ms for 6 (transfer 0x55f5692114f0)\n",
      "*   Trying 0.0.0.0...\n",
      "* TCP_NODELAY set\n",
      "* Expire in 200 ms for 4 (transfer 0x55f5692114f0)\n",
      "* Connected to 0.0.0.0 (127.0.0.1) port 9000 (#0)\n",
      "> POST /v2/models/iris/infer HTTP/1.1\n",
      "> Host: iris\n",
      "> User-Agent: curl/7.64.0\n",
      "> Accept: */*\n",
      "> Content-Type: application/json\n",
      "> Content-Length: 94\n",
      "> \n",
      "* upload completely sent off: 94 out of 94 bytes\n",
      "< HTTP/1.1 200 OK\n",
      "< date: Mon, 08 Nov 2021 19:13:16 GMT\n",
      "< server: envoy\n",
      "< content-length: 199\n",
      "< content-type: application/json\n",
      "< x-envoy-upstream-service-time: 1054\n",
      "< \n",
      "* Connection #0 to host 0.0.0.0 left intact\n",
      "{\"model_name\":\"iris\",\"model_version\":\"v0.1.0\",\"id\":\"95b0c28e-964f-40e5-a0c5-4e654adde7af\",\"parameters\":null,\"outputs\":[{\"name\":\"predict\",\"shape\":[1],\"datatype\":\"INT64\",\"parameters\":null,\"data\":[2]}]}"
     ]
    }
   ],
   "source": [
    "!curl -v http://0.0.0.0:9000/v2/models/iris/infer -H \"Content-Type: application/json\" -H \"Host: iris\"\\\n",
    "        -d '{\"inputs\": [{\"name\": \"predict\", \"shape\": [1, 4], \"datatype\": \"FP32\", \"data\": [[1, 2, 3, 4]]}]}'"
   ]
  },
  {
   "cell_type": "code",
   "execution_count": 35,
   "id": "behind-native",
   "metadata": {},
   "outputs": [
    {
     "name": "stdout",
     "output_type": "stream",
     "text": [
      "{\r\n",
      "  \"modelName\": \"iris\",\r\n",
      "  \"modelVersion\": \"v0.1.0\",\r\n",
      "  \"outputs\": [\r\n",
      "    {\r\n",
      "      \"name\": \"predict\",\r\n",
      "      \"datatype\": \"INT64\",\r\n",
      "      \"shape\": [\r\n",
      "        \"1\"\r\n",
      "      ],\r\n",
      "      \"contents\": {\r\n",
      "        \"int64Contents\": [\r\n",
      "          \"2\"\r\n",
      "        ]\r\n",
      "      }\r\n",
      "    }\r\n",
      "  ]\r\n",
      "}\r\n"
     ]
    }
   ],
   "source": [
    "!cd ../v2 && \\\n",
    "    grpcurl -d '{\"model_name\":\"iris\",\"inputs\":[{\"name\":\"input\",\"contents\":{\"fp32_contents\":[1,2,3,4]},\"datatype\":\"FP32\",\"shape\":[1,4]}]}' \\\n",
    "        -plaintext \\\n",
    "        -proto grpc_service.proto \\\n",
    "        -rpc-header Seldon:iris \\\n",
    "        0.0.0.0:9000 inference.GRPCInferenceService/ModelInfer"
   ]
  },
  {
   "cell_type": "code",
   "execution_count": 21,
   "id": "scenic-thursday",
   "metadata": {},
   "outputs": [
    {
     "name": "stdout",
     "output_type": "stream",
     "text": [
      "{\r\n",
      "  \"modelName\": \"iris\",\r\n",
      "  \"version\": \"2\",\r\n",
      "  \"serverName\": \"mlserver\",\r\n",
      "  \"modelReplicaState\": {\r\n",
      "    \"0\": \"Loaded\"\r\n",
      "  }\r\n",
      "}\r\n"
     ]
    }
   ],
   "source": [
    "!grpcurl -d '{\"name\":\"iris\"}' \\\n",
    "         -plaintext \\\n",
    "         -proto ../apis/mlops/scheduler/scheduler.proto  0.0.0.0:9004 seldon.mlops.scheduler.Scheduler/ModelStatus"
   ]
  },
  {
   "cell_type": "code",
   "execution_count": 5,
   "id": "changing-application",
   "metadata": {
    "scrolled": false
   },
   "outputs": [
    {
     "name": "stdout",
     "output_type": "stream",
     "text": [
      "{\r\n",
      "  \"serverName\": \"mlserver\",\r\n",
      "  \"resources\": [\r\n",
      "    {\r\n",
      "      \"memory\": \"1000\",\r\n",
      "      \"availableMemory\": \"500\"\r\n",
      "    }\r\n",
      "  ]\r\n",
      "}\r\n"
     ]
    }
   ],
   "source": [
    "!grpcurl -d '{\"name\":\"mlserver\"}' \\\n",
    "         -plaintext \\\n",
    "         -proto ../apis/mlops/scheduler/scheduler.proto  0.0.0.0:9004 seldon.mlops.scheduler.Scheduler/ServerStatus"
   ]
  },
  {
   "cell_type": "code",
   "execution_count": 6,
   "id": "continuous-inquiry",
   "metadata": {},
   "outputs": [
    {
     "name": "stdout",
     "output_type": "stream",
     "text": [
      "{\r\n",
      "  \r\n",
      "}\r\n"
     ]
    }
   ],
   "source": [
    "!grpcurl -d '{\"name\":\"iris\"}' \\\n",
    "         -plaintext \\\n",
    "         -proto ../apis/mlops/scheduler/scheduler.proto  0.0.0.0:9004 seldon.mlops.scheduler.Scheduler/UnloadModel"
   ]
  },
  {
   "cell_type": "code",
   "execution_count": 72,
   "id": "round-world",
   "metadata": {},
   "outputs": [
    {
     "name": "stdout",
     "output_type": "stream",
     "text": [
      "{\r\n",
      "  \"modelName\": \"iris\",\r\n",
      "  \"version\": \"1\",\r\n",
      "  \"serverName\": \"mlserver\",\r\n",
      "  \"modelReplicaState\": {\r\n",
      "    \"0\": \"Loading\"\r\n",
      "  }\r\n",
      "}\r\n"
     ]
    }
   ],
   "source": [
    "!grpcurl -d '{\"name\":\"iris\"}' \\\n",
    "         -plaintext \\\n",
    "         -proto ../apis/mlops/scheduler/scheduler.proto  0.0.0.0:9004 seldon.mlops.scheduler.Scheduler/ModelStatus"
   ]
  },
  {
   "cell_type": "code",
   "execution_count": 8,
   "id": "leading-trade",
   "metadata": {
    "scrolled": false
   },
   "outputs": [
    {
     "name": "stdout",
     "output_type": "stream",
     "text": [
      "{\r\n",
      "  \"serverName\": \"mlserver\",\r\n",
      "  \"resources\": [\r\n",
      "    {\r\n",
      "      \"memory\": \"1000\",\r\n",
      "      \"availableMemory\": \"1000\"\r\n",
      "    }\r\n",
      "  ]\r\n",
      "}\r\n"
     ]
    }
   ],
   "source": [
    "!grpcurl -d '{\"name\":\"mlserver\"}' \\\n",
    "         -plaintext \\\n",
    "         -proto ../apis/mlops/scheduler/scheduler.proto  0.0.0.0:9004 seldon.mlops.scheduler.Scheduler/ServerStatus"
   ]
  },
  {
   "cell_type": "code",
   "execution_count": 9,
   "id": "excellent-great",
   "metadata": {},
   "outputs": [
    {
     "name": "stdout",
     "output_type": "stream",
     "text": [
      "* Expire in 0 ms for 6 (transfer 0x55ba0251a4f0)\r\n",
      "*   Trying 0.0.0.0...\r\n",
      "* TCP_NODELAY set\r\n",
      "* Expire in 200 ms for 4 (transfer 0x55ba0251a4f0)\r\n",
      "* Connected to 0.0.0.0 (127.0.0.1) port 9000 (#0)\r\n",
      "> POST /v2/models/iris/infer HTTP/1.1\r",
      "\r\n",
      "> Host: iris\r",
      "\r\n",
      "> User-Agent: curl/7.64.0\r",
      "\r\n",
      "> Accept: */*\r",
      "\r\n",
      "> Content-Type: application/json\r",
      "\r\n",
      "> Content-Length: 94\r",
      "\r\n",
      "> \r",
      "\r\n",
      "* upload completely sent off: 94 out of 94 bytes\r\n",
      "< HTTP/1.1 404 Not Found\r",
      "\r\n",
      "< date: Tue, 02 Nov 2021 08:56:47 GMT\r",
      "\r\n",
      "< server: envoy\r",
      "\r\n",
      "< connection: close\r",
      "\r\n",
      "< content-length: 0\r",
      "\r\n",
      "< \r",
      "\r\n",
      "* Closing connection 0\r\n"
     ]
    }
   ],
   "source": [
    "!curl -v http://0.0.0.0:9000/v2/models/iris/infer -H \"Content-Type: application/json\" -H \"Host: iris\"\\\n",
    "        -d '{\"inputs\": [{\"name\": \"predict\", \"shape\": [1, 4], \"datatype\": \"FP32\", \"data\": [[1, 2, 3, 4]]}]}'"
   ]
  },
  {
   "cell_type": "markdown",
   "id": "supported-length",
   "metadata": {},
   "source": [
    "## Inline RClone Config Example\n",
    "\n",
    "Before running this \n",
    "  * install minio in a kind cluster with Ansible.\n",
    "  * Update ip address for exposed minio ip address"
   ]
  },
  {
   "cell_type": "code",
   "execution_count": 91,
   "id": "accredited-queensland",
   "metadata": {},
   "outputs": [
    {
     "name": "stdout",
     "output_type": "stream",
     "text": [
      "\r\n"
     ]
    }
   ],
   "source": [
    "!grpcurl --format text -d '\\\n",
    "    model { \\\n",
    "     name: \"iris\" \\\n",
    "     version: \"1\" \\\n",
    "     uri: \"s3://models/iris\" \\\n",
    "     storageConfig: { \\\n",
    "           storageRcloneConfig: \"{\\\"type\\\":\\\"s3\\\",\\\"name\\\":\\\"s3\\\",\\\"parameters\\\":{\\\"provider\\\":\\\"minio\\\",\\\"env_auth\\\":\\\"false\\\",\\\"access_key_id\\\":\\\"minioadmin\\\",\\\"secret_access_key\\\":\\\"minioadmin\\\",\\\"endpoint\\\":\\\"http://172.18.255.1:9000\\\"}}\" \\\n",
    "     } \\\n",
    "     requirements: \"sklearn\" \\\n",
    "     memoryBytes: 500 \\\n",
    "     replicas: 1}' \\\n",
    "         -plaintext \\\n",
    "         -proto ../apis/mlops/scheduler/scheduler.proto  0.0.0.0:9004 seldon.mlops.scheduler.Scheduler/LoadModel"
   ]
  },
  {
   "cell_type": "code",
   "execution_count": 92,
   "id": "standing-breed",
   "metadata": {
    "scrolled": true
   },
   "outputs": [
    {
     "name": "stdout",
     "output_type": "stream",
     "text": [
      "{\r\n",
      "  \"serverName\": \"mlserver\",\r\n",
      "  \"resources\": [\r\n",
      "    {\r\n",
      "      \"memory\": \"1000\",\r\n",
      "      \"availableMemoryBytes\": \"500\"\r\n",
      "    }\r\n",
      "  ]\r\n",
      "}\r\n"
     ]
    }
   ],
   "source": [
    "!grpcurl -d '{\"name\":\"mlserver\"}' \\\n",
    "         -plaintext \\\n",
    "         -proto ../apis/mlops/scheduler/scheduler.proto  0.0.0.0:9004 seldon.mlops.scheduler.Scheduler/ServerStatus"
   ]
  },
  {
   "cell_type": "code",
   "execution_count": 93,
   "id": "italian-beast",
   "metadata": {
    "scrolled": false
   },
   "outputs": [
    {
     "name": "stdout",
     "output_type": "stream",
     "text": [
      "* Expire in 0 ms for 6 (transfer 0x55d0547274f0)\n",
      "*   Trying 0.0.0.0...\n",
      "* TCP_NODELAY set\n",
      "* Expire in 200 ms for 4 (transfer 0x55d0547274f0)\n",
      "* Connected to 0.0.0.0 (127.0.0.1) port 9000 (#0)\n",
      "> POST /v2/models/iris/infer HTTP/1.1\n",
      "> Host: iris\n",
      "> User-Agent: curl/7.64.0\n",
      "> Accept: */*\n",
      "> Content-Type: application/json\n",
      "> Content-Length: 94\n",
      "> \n",
      "* upload completely sent off: 94 out of 94 bytes\n",
      "< HTTP/1.1 200 OK\n",
      "< date: Wed, 24 Nov 2021 19:14:53 GMT\n",
      "< server: envoy\n",
      "< content-length: 199\n",
      "< content-type: application/json\n",
      "< x-envoy-upstream-service-time: 1389\n",
      "< \n",
      "* Connection #0 to host 0.0.0.0 left intact\n",
      "{\"model_name\":\"iris\",\"model_version\":\"v0.1.0\",\"id\":\"5e6a4f67-8c29-4039-9011-34541535386a\",\"parameters\":null,\"outputs\":[{\"name\":\"predict\",\"shape\":[1],\"datatype\":\"INT64\",\"parameters\":null,\"data\":[2]}]}"
     ]
    }
   ],
   "source": [
    "!curl -v http://0.0.0.0:9000/v2/models/iris/infer -H \"Content-Type: application/json\" -H \"Host: iris\"\\\n",
    "        -d '{\"inputs\": [{\"name\": \"predict\", \"shape\": [1, 4], \"datatype\": \"FP32\", \"data\": [[1, 2, 3, 4]]}]}'"
   ]
  },
  {
   "cell_type": "code",
   "execution_count": 94,
   "id": "continental-lingerie",
   "metadata": {},
   "outputs": [
    {
     "name": "stdout",
     "output_type": "stream",
     "text": [
      "{\r\n",
      "  \"modelName\": \"iris\",\r\n",
      "  \"modelVersion\": \"v0.1.0\",\r\n",
      "  \"outputs\": [\r\n",
      "    {\r\n",
      "      \"name\": \"predict\",\r\n",
      "      \"datatype\": \"INT64\",\r\n",
      "      \"shape\": [\r\n",
      "        \"1\"\r\n",
      "      ],\r\n",
      "      \"contents\": {\r\n",
      "        \"int64Contents\": [\r\n",
      "          \"2\"\r\n",
      "        ]\r\n",
      "      }\r\n",
      "    }\r\n",
      "  ]\r\n",
      "}\r\n"
     ]
    }
   ],
   "source": [
    "!cd ../v2 && \\\n",
    "    grpcurl -d '{\"model_name\":\"iris\",\"inputs\":[{\"name\":\"input\",\"contents\":{\"fp32_contents\":[1,2,3,4]},\"datatype\":\"FP32\",\"shape\":[1,4]}]}' \\\n",
    "        -plaintext \\\n",
    "        -proto grpc_service.proto \\\n",
    "        -rpc-header Seldon:iris \\\n",
    "        0.0.0.0:9000 inference.GRPCInferenceService/ModelInfer"
   ]
  },
  {
   "cell_type": "code",
   "execution_count": 95,
   "id": "meaning-ability",
   "metadata": {},
   "outputs": [
    {
     "name": "stdout",
     "output_type": "stream",
     "text": [
      "{\r\n",
      "  \r\n",
      "}\r\n"
     ]
    }
   ],
   "source": [
    "!grpcurl -d '{\"name\":\"iris\"}' \\\n",
    "         -plaintext \\\n",
    "         -proto ../apis/mlops/scheduler/scheduler.proto  0.0.0.0:9004 seldon.mlops.scheduler.Scheduler/UnloadModel"
   ]
  },
  {
   "cell_type": "markdown",
   "id": "offshore-oklahoma",
   "metadata": {},
   "source": [
    "## K8S Secret RClone Config Example\n"
   ]
  },
  {
   "cell_type": "code",
   "execution_count": 96,
   "id": "progressive-chester",
   "metadata": {},
   "outputs": [
    {
     "name": "stdout",
     "output_type": "stream",
     "text": [
      "Overwriting minio-secret.yaml\n"
     ]
    }
   ],
   "source": [
    "%%writefile minio-secret.yaml\n",
    "apiVersion: v1\n",
    "kind: Secret\n",
    "metadata:\n",
    "  name: minio-secret\n",
    "  namespace: seldon-mesh\n",
    "type: Opaque\n",
    "stringData:\n",
    "  s3: |\n",
    "    type: s3\n",
    "    name: s3\n",
    "    parameters:\n",
    "      provider: minio\n",
    "      env_auth: false\n",
    "      access_key_id: minioadmin\n",
    "      secret_access_key: minioadmin\n",
    "      endpoint: http://172.18.255.1:9000"
   ]
  },
  {
   "cell_type": "code",
   "execution_count": 97,
   "id": "resident-satisfaction",
   "metadata": {},
   "outputs": [
    {
     "name": "stdout",
     "output_type": "stream",
     "text": [
      "secret/minio-secret configured\r\n"
     ]
    }
   ],
   "source": [
    "!kubectl apply -f minio-secret.yaml"
   ]
  },
  {
   "cell_type": "code",
   "execution_count": 98,
   "id": "obvious-society",
   "metadata": {},
   "outputs": [
    {
     "name": "stdout",
     "output_type": "stream",
     "text": [
      "\r\n"
     ]
    }
   ],
   "source": [
    "!grpcurl --format text -d '\\\n",
    "    model { \\\n",
    "     name: \"iris\" \\\n",
    "     version: \"1\" \\\n",
    "     uri: \"s3://models/iris\" \\\n",
    "     storageConfig: { \\\n",
    "      storageSecretName: \"minio-secret\" \\\n",
    "      } \\\n",
    "     requirements: \"sklearn\" \\\n",
    "     memoryBytes: 500 \\\n",
    "     replicas: 1}' \\\n",
    "         -plaintext \\\n",
    "         -proto ../apis/mlops/scheduler/scheduler.proto  0.0.0.0:9004 seldon.mlops.scheduler.Scheduler/LoadModel"
   ]
  },
  {
   "cell_type": "code",
   "execution_count": 99,
   "id": "external-checklist",
   "metadata": {
    "scrolled": true
   },
   "outputs": [
    {
     "name": "stdout",
     "output_type": "stream",
     "text": [
      "{\r\n",
      "  \"serverName\": \"mlserver\",\r\n",
      "  \"resources\": [\r\n",
      "    {\r\n",
      "      \"memory\": \"1000\",\r\n",
      "      \"availableMemoryBytes\": \"500\"\r\n",
      "    }\r\n",
      "  ]\r\n",
      "}\r\n"
     ]
    }
   ],
   "source": [
    "!grpcurl -d '{\"name\":\"mlserver\"}' \\\n",
    "         -plaintext \\\n",
    "         -proto ../apis/mlops/scheduler/scheduler.proto  0.0.0.0:9004 seldon.mlops.scheduler.Scheduler/ServerStatus"
   ]
  },
  {
   "cell_type": "code",
   "execution_count": 100,
   "id": "enormous-contributor",
   "metadata": {
    "scrolled": false
   },
   "outputs": [
    {
     "name": "stdout",
     "output_type": "stream",
     "text": [
      "* Expire in 0 ms for 6 (transfer 0x55b9717594f0)\n",
      "*   Trying 0.0.0.0...\n",
      "* TCP_NODELAY set\n",
      "* Expire in 200 ms for 4 (transfer 0x55b9717594f0)\n",
      "* Connected to 0.0.0.0 (127.0.0.1) port 9000 (#0)\n",
      "> POST /v2/models/iris/infer HTTP/1.1\n",
      "> Host: iris\n",
      "> User-Agent: curl/7.64.0\n",
      "> Accept: */*\n",
      "> Content-Type: application/json\n",
      "> Content-Length: 94\n",
      "> \n",
      "* upload completely sent off: 94 out of 94 bytes\n",
      "< HTTP/1.1 200 OK\n",
      "< date: Wed, 24 Nov 2021 19:15:17 GMT\n",
      "< server: envoy\n",
      "< content-length: 199\n",
      "< content-type: application/json\n",
      "< x-envoy-upstream-service-time: 1348\n",
      "< \n",
      "* Connection #0 to host 0.0.0.0 left intact\n",
      "{\"model_name\":\"iris\",\"model_version\":\"v0.1.0\",\"id\":\"c168d690-8aa3-47d9-a726-39122980d94d\",\"parameters\":null,\"outputs\":[{\"name\":\"predict\",\"shape\":[1],\"datatype\":\"INT64\",\"parameters\":null,\"data\":[2]}]}"
     ]
    }
   ],
   "source": [
    "!curl -v http://0.0.0.0:9000/v2/models/iris/infer -H \"Content-Type: application/json\" -H \"Host: iris\"\\\n",
    "        -d '{\"inputs\": [{\"name\": \"predict\", \"shape\": [1, 4], \"datatype\": \"FP32\", \"data\": [[1, 2, 3, 4]]}]}'"
   ]
  },
  {
   "cell_type": "code",
   "execution_count": 101,
   "id": "alpha-annex",
   "metadata": {},
   "outputs": [
    {
     "name": "stdout",
     "output_type": "stream",
     "text": [
      "{\r\n",
      "  \"modelName\": \"iris\",\r\n",
      "  \"modelVersion\": \"v0.1.0\",\r\n",
      "  \"outputs\": [\r\n",
      "    {\r\n",
      "      \"name\": \"predict\",\r\n",
      "      \"datatype\": \"INT64\",\r\n",
      "      \"shape\": [\r\n",
      "        \"1\"\r\n",
      "      ],\r\n",
      "      \"contents\": {\r\n",
      "        \"int64Contents\": [\r\n",
      "          \"2\"\r\n",
      "        ]\r\n",
      "      }\r\n",
      "    }\r\n",
      "  ]\r\n",
      "}\r\n"
     ]
    }
   ],
   "source": [
    "!cd ../v2 && \\\n",
    "    grpcurl -d '{\"model_name\":\"iris\",\"inputs\":[{\"name\":\"input\",\"contents\":{\"fp32_contents\":[1,2,3,4]},\"datatype\":\"FP32\",\"shape\":[1,4]}]}' \\\n",
    "        -plaintext \\\n",
    "        -proto grpc_service.proto \\\n",
    "        -rpc-header Seldon:iris \\\n",
    "        0.0.0.0:9000 inference.GRPCInferenceService/ModelInfer"
   ]
  },
  {
   "cell_type": "code",
   "execution_count": 90,
   "id": "narrow-pillow",
   "metadata": {},
   "outputs": [
    {
     "name": "stdout",
     "output_type": "stream",
     "text": [
      "{\r\n",
      "  \r\n",
      "}\r\n"
     ]
    }
   ],
   "source": [
    "!grpcurl -d '{\"name\":\"iris\"}' \\\n",
    "         -plaintext \\\n",
    "         -proto ../apis/mlops/scheduler/scheduler.proto  0.0.0.0:9004 seldon.mlops.scheduler.Scheduler/UnloadModel"
   ]
  },
  {
   "cell_type": "code",
   "execution_count": null,
   "id": "promising-sword",
   "metadata": {},
   "outputs": [],
   "source": []
  }
 ],
 "metadata": {
  "kernelspec": {
   "display_name": "Python 3",
   "language": "python",
   "name": "python3"
  },
  "language_info": {
   "codemirror_mode": {
    "name": "ipython",
    "version": 3
   },
   "file_extension": ".py",
   "mimetype": "text/x-python",
   "name": "python",
   "nbconvert_exporter": "python",
   "pygments_lexer": "ipython3",
   "version": "3.7.4"
  }
 },
 "nbformat": 4,
 "nbformat_minor": 5
}
