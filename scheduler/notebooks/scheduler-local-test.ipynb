{
 "cells": [
  {
   "cell_type": "markdown",
   "id": "pressed-queen",
   "metadata": {},
   "source": [
    "# Scheduler Local Test\n",
    "\n",
    "\n",
    "## Setup\n",
    "\n",
    "\n",
    "* `make start-scheduler` \n",
    "* `make start-envoy`\n",
    "* `make start-agent`\n",
    "* `make start-mlserver`\n",
    "* `make start-rclone`"
   ]
  },
  {
   "cell_type": "markdown",
   "id": "bright-karaoke",
   "metadata": {},
   "source": [
    "## No Auth Example"
   ]
  },
  {
   "cell_type": "code",
   "execution_count": 21,
   "id": "regional-complexity",
   "metadata": {},
   "outputs": [
    {
     "name": "stdout",
     "output_type": "stream",
     "text": [
      "{\r\n",
      "  \r\n",
      "}\r\n"
     ]
    }
   ],
   "source": [
    "!grpcurl -d '{\"model\":{ \\\n",
    "              \"meta\":{\"name\":\"iris\"},\\\n",
    "              \"modelSpec\":{\"uri\":\"gs://seldon-models/mlserver/iris\",\\\n",
    "                           \"requirements\":[\"sklearn\"],\\\n",
    "                           \"memoryBytes\":500},\\\n",
    "              \"deploymentSpec\":{\"replicas\":1}}}' \\\n",
    "         -plaintext \\\n",
    "         -import-path ../../apis \\\n",
    "         -proto ../../apis/mlops/scheduler/scheduler.proto  0.0.0.0:9004 seldon.mlops.scheduler.Scheduler/LoadModel"
   ]
  },
  {
   "cell_type": "code",
   "execution_count": 22,
   "id": "advance-compatibility",
   "metadata": {
    "scrolled": true
   },
   "outputs": [
    {
     "name": "stdout",
     "output_type": "stream",
     "text": [
      "{\r\n",
      "  \"serverName\": \"mlserver\",\r\n",
      "  \"resources\": [\r\n",
      "    {\r\n",
      "      \"totalMemoryBytes\": \"1000000\",\r\n",
      "      \"availableMemoryBytes\": \"999500\",\r\n",
      "      \"numLoadedModels\": 1\r\n",
      "    }\r\n",
      "  ],\r\n",
      "  \"expectedReplicas\": -1,\r\n",
      "  \"availableReplicas\": 1,\r\n",
      "  \"numLoadedModelReplicas\": 1\r\n",
      "}\r\n"
     ]
    }
   ],
   "source": [
    "!grpcurl -d '{\"name\":\"mlserver\"}' \\\n",
    "         -plaintext \\\n",
    "         -proto ../apis/mlops/scheduler/scheduler.proto  0.0.0.0:9004 seldon.mlops.scheduler.Scheduler/ServerStatus"
   ]
  },
  {
   "cell_type": "code",
   "execution_count": 23,
   "id": "ambient-tribune",
   "metadata": {},
   "outputs": [
    {
     "name": "stdout",
     "output_type": "stream",
     "text": [
      "{\r\n",
      "  \"modelName\": \"iris\",\r\n",
      "  \"versions\": [\r\n",
      "    {\r\n",
      "      \"version\": 1,\r\n",
      "      \"serverName\": \"mlserver\",\r\n",
      "      \"modelReplicaState\": {\r\n",
      "        \"0\": {\r\n",
      "          \"state\": \"Available\",\r\n",
      "          \"lastChangeTimestamp\": \"2022-02-13T12:14:21.647882142Z\"\r\n",
      "        }\r\n",
      "      },\r\n",
      "      \"state\": {\r\n",
      "        \"state\": \"ModelAvailable\",\r\n",
      "        \"availableReplicas\": 1,\r\n",
      "        \"lastChangeTimestamp\": \"2022-02-13T12:14:21.647882142Z\"\r\n",
      "      }\r\n",
      "    }\r\n",
      "  ]\r\n",
      "}\r\n"
     ]
    }
   ],
   "source": [
    "!grpcurl -d '{\"model\":{\"name\":\"iris\"}}' \\\n",
    "         -plaintext \\\n",
    "         -import-path ../../apis \\\n",
    "         -proto ../../apis/mlops/scheduler/scheduler.proto  0.0.0.0:9004 seldon.mlops.scheduler.Scheduler/ModelStatus"
   ]
  },
  {
   "cell_type": "code",
   "execution_count": 24,
   "id": "typical-given",
   "metadata": {
    "scrolled": false
   },
   "outputs": [
    {
     "name": "stdout",
     "output_type": "stream",
     "text": [
      "* Expire in 0 ms for 6 (transfer 0x55e1cefa54f0)\n",
      "*   Trying 0.0.0.0...\n",
      "* TCP_NODELAY set\n",
      "* Expire in 200 ms for 4 (transfer 0x55e1cefa54f0)\n",
      "* Connected to 0.0.0.0 (127.0.0.1) port 9000 (#0)\n",
      "> POST /v2/models/iris/infer HTTP/1.1\n",
      "> Host: 0.0.0.0:9000\n",
      "> User-Agent: curl/7.64.0\n",
      "> Accept: */*\n",
      "> Content-Type: application/json\n",
      "> seldon-model: iris\n",
      "> Content-Length: 94\n",
      "> \n",
      "* upload completely sent off: 94 out of 94 bytes\n",
      "< HTTP/1.1 200 OK\n",
      "< content-length: 194\n",
      "< content-type: application/json\n",
      "< date: Sun, 13 Feb 2022 12:14:20 GMT\n",
      "< server: envoy\n",
      "< x-envoy-upstream-service-time: 1116\n",
      "< \n",
      "* Connection #0 to host 0.0.0.0 left intact\n",
      "{\"model_name\":\"iris\",\"model_version\":\"1\",\"id\":\"7fbeb872-1cc5-465c-b9a5-3ed15a93b8cd\",\"parameters\":null,\"outputs\":[{\"name\":\"predict\",\"shape\":[1],\"datatype\":\"INT64\",\"parameters\":null,\"data\":[2]}]}"
     ]
    }
   ],
   "source": [
    "!curl -v http://0.0.0.0:9000/v2/models/iris/infer -H \"Content-Type: application/json\" -H \"seldon-model: iris\"\\\n",
    "        -d '{\"inputs\": [{\"name\": \"predict\", \"shape\": [1, 4], \"datatype\": \"FP32\", \"data\": [[1, 2, 3, 4]]}]}'"
   ]
  },
  {
   "cell_type": "code",
   "execution_count": 25,
   "id": "single-colleague",
   "metadata": {},
   "outputs": [
    {
     "name": "stdout",
     "output_type": "stream",
     "text": [
      "* Expire in 0 ms for 6 (transfer 0x55ea58c034f0)\r\n",
      "*   Trying 0.0.0.0...\r\n",
      "* TCP_NODELAY set\r\n",
      "* Expire in 200 ms for 4 (transfer 0x55ea58c034f0)\r\n",
      "* Connected to 0.0.0.0 (127.0.0.1) port 9000 (#0)\r\n",
      "> GET /v2/health/live HTTP/1.1\r",
      "\r\n",
      "> Host: 0.0.0.0:9000\r",
      "\r\n",
      "> User-Agent: curl/7.64.0\r",
      "\r\n",
      "> Accept: */*\r",
      "\r\n",
      "> seldon-model: iris\r",
      "\r\n",
      "> \r",
      "\r\n",
      "< HTTP/1.1 200 OK\r",
      "\r\n",
      "< date: Sun, 13 Feb 2022 12:14:20 GMT\r",
      "\r\n",
      "< server: envoy\r",
      "\r\n",
      "< x-envoy-upstream-service-time: 1\r",
      "\r\n",
      "< transfer-encoding: chunked\r",
      "\r\n",
      "< \r",
      "\r\n",
      "* Connection #0 to host 0.0.0.0 left intact\r\n"
     ]
    }
   ],
   "source": [
    "!curl -v http://0.0.0.0:9000/v2/health/live -H \"seldon-model: iris\""
   ]
  },
  {
   "cell_type": "code",
   "execution_count": 26,
   "id": "particular-spider",
   "metadata": {},
   "outputs": [
    {
     "name": "stdout",
     "output_type": "stream",
     "text": [
      "* Expire in 0 ms for 6 (transfer 0x562a194ce4f0)\r\n",
      "*   Trying 0.0.0.0...\r\n",
      "* TCP_NODELAY set\r\n",
      "* Expire in 200 ms for 4 (transfer 0x562a194ce4f0)\r\n",
      "* Connected to 0.0.0.0 (127.0.0.1) port 9000 (#0)\r\n",
      "> GET /v2/models/iris HTTP/1.1\r",
      "\r\n",
      "> Host: 0.0.0.0:9000\r",
      "\r\n",
      "> User-Agent: curl/7.64.0\r",
      "\r\n",
      "> Accept: */*\r",
      "\r\n",
      "> seldon-model: iris\r",
      "\r\n",
      "> \r",
      "\r\n",
      "< HTTP/1.1 200 OK\r",
      "\r\n",
      "< content-length: 103\r",
      "\r\n",
      "< content-type: application/json\r",
      "\r\n",
      "< date: Sun, 13 Feb 2022 12:14:20 GMT\r",
      "\r\n",
      "< server: envoy\r",
      "\r\n",
      "< x-envoy-upstream-service-time: 3\r",
      "\r\n",
      "< \r",
      "\r\n",
      "* Connection #0 to host 0.0.0.0 left intact\r\n",
      "{\"name\":\"iris\",\"versions\":[],\"platform\":\"\",\"inputs\":[],\"outputs\":[],\"parameters\":{\"content_type\":null}}"
     ]
    }
   ],
   "source": [
    "!curl -v http://0.0.0.0:9000/v2/models/iris -H \"seldon-model: iris\""
   ]
  },
  {
   "cell_type": "code",
   "execution_count": 27,
   "id": "latin-concept",
   "metadata": {},
   "outputs": [
    {
     "name": "stdout",
     "output_type": "stream",
     "text": [
      "{\r\n",
      "  \"modelName\": \"iris\",\r\n",
      "  \"modelVersion\": \"1\",\r\n",
      "  \"outputs\": [\r\n",
      "    {\r\n",
      "      \"name\": \"predict\",\r\n",
      "      \"datatype\": \"INT64\",\r\n",
      "      \"shape\": [\r\n",
      "        \"1\"\r\n",
      "      ],\r\n",
      "      \"contents\": {\r\n",
      "        \"int64Contents\": [\r\n",
      "          \"2\"\r\n",
      "        ]\r\n",
      "      }\r\n",
      "    }\r\n",
      "  ]\r\n",
      "}\r\n"
     ]
    }
   ],
   "source": [
    "!cd ../v2 && \\\n",
    "    grpcurl -d '{\"model_name\":\"iris\",\"inputs\":[{\"name\":\"input\",\"contents\":{\"fp32_contents\":[1,2,3,4]},\"datatype\":\"FP32\",\"shape\":[1,4]}]}' \\\n",
    "        -plaintext \\\n",
    "        -proto grpc_service.proto \\\n",
    "        -rpc-header seldon-model:iris \\\n",
    "        0.0.0.0:9000 inference.GRPCInferenceService/ModelInfer"
   ]
  },
  {
   "cell_type": "code",
   "execution_count": 8,
   "id": "according-uzbekistan",
   "metadata": {},
   "outputs": [
    {
     "name": "stdout",
     "output_type": "stream",
     "text": [
      "{\r\n",
      "  \"modelName\": \"iris\",\r\n",
      "  \"versions\": [\r\n",
      "    {\r\n",
      "      \"version\": 1,\r\n",
      "      \"serverName\": \"mlserver\",\r\n",
      "      \"modelReplicaState\": {\r\n",
      "        \"0\": {\r\n",
      "          \"state\": \"Available\",\r\n",
      "          \"lastChangeTimestamp\": \"2022-02-13T12:04:14.746100795Z\"\r\n",
      "        }\r\n",
      "      },\r\n",
      "      \"state\": {\r\n",
      "        \"state\": \"ModelAvailable\",\r\n",
      "        \"availableReplicas\": 1,\r\n",
      "        \"lastChangeTimestamp\": \"2022-02-13T12:04:14.746100795Z\"\r\n",
      "      }\r\n",
      "    }\r\n",
      "  ]\r\n",
      "}\r\n"
     ]
    }
   ],
   "source": [
    "!grpcurl -d '{\"model\":{\"name\":\"iris\"}}' \\\n",
    "         -plaintext \\\n",
    "         -import-path ../../apis \\\n",
    "         -proto ../../apis/mlops/scheduler/scheduler.proto  0.0.0.0:9004 seldon.mlops.scheduler.Scheduler/ModelStatus"
   ]
  },
  {
   "cell_type": "code",
   "execution_count": 9,
   "id": "occupational-sellers",
   "metadata": {
    "scrolled": false
   },
   "outputs": [
    {
     "name": "stdout",
     "output_type": "stream",
     "text": [
      "{\r\n",
      "  \"serverName\": \"mlserver\",\r\n",
      "  \"resources\": [\r\n",
      "    {\r\n",
      "      \"totalMemoryBytes\": \"1000000\",\r\n",
      "      \"availableMemoryBytes\": \"999500\",\r\n",
      "      \"numLoadedModels\": 1\r\n",
      "    }\r\n",
      "  ],\r\n",
      "  \"expectedReplicas\": -1,\r\n",
      "  \"availableReplicas\": 1,\r\n",
      "  \"numLoadedModelReplicas\": 1\r\n",
      "}\r\n"
     ]
    }
   ],
   "source": [
    "!grpcurl -d '{\"name\":\"mlserver\"}' \\\n",
    "         -plaintext \\\n",
    "         -import-path ../../apis \\\n",
    "         -proto ../../apis/mlops/scheduler/scheduler.proto  0.0.0.0:9004 seldon.mlops.scheduler.Scheduler/ServerStatus"
   ]
  },
  {
   "cell_type": "code",
   "execution_count": 10,
   "id": "moving-court",
   "metadata": {},
   "outputs": [
    {
     "name": "stdout",
     "output_type": "stream",
     "text": [
      "{\r\n",
      "  \r\n",
      "}\r\n"
     ]
    }
   ],
   "source": [
    "!grpcurl -d '{\"model\":{\"name\":\"iris\"}}' \\\n",
    "         -plaintext \\\n",
    "         -import-path ../../apis \\\n",
    "         -proto ../../apis/mlops/scheduler/scheduler.proto  0.0.0.0:9004 seldon.mlops.scheduler.Scheduler/UnloadModel"
   ]
  },
  {
   "cell_type": "code",
   "execution_count": 13,
   "id": "intense-skating",
   "metadata": {},
   "outputs": [
    {
     "name": "stdout",
     "output_type": "stream",
     "text": [
      "{\r\n",
      "  \"modelName\": \"iris\",\r\n",
      "  \"versions\": [\r\n",
      "    {\r\n",
      "      \"version\": 1,\r\n",
      "      \"serverName\": \"mlserver\",\r\n",
      "      \"modelReplicaState\": {\r\n",
      "        \"0\": {\r\n",
      "          \"state\": \"Unloaded\",\r\n",
      "          \"lastChangeTimestamp\": \"2022-02-05T19:05:49.098781166Z\"\r\n",
      "        }\r\n",
      "      },\r\n",
      "      \"state\": {\r\n",
      "        \"state\": \"ModelTerminated\",\r\n",
      "        \"lastChangeTimestamp\": \"2022-02-05T19:05:49.098781166Z\"\r\n",
      "      }\r\n",
      "    }\r\n",
      "  ],\r\n",
      "  \"deleted\": true\r\n",
      "}\r\n"
     ]
    }
   ],
   "source": [
    "!grpcurl -d '{\"model\":{\"name\":\"iris\"}}' \\\n",
    "         -plaintext \\\n",
    "         -import-path ../../apis \\\n",
    "         -proto ../../apis/mlops/scheduler/scheduler.proto  0.0.0.0:9004 seldon.mlops.scheduler.Scheduler/ModelStatus"
   ]
  },
  {
   "cell_type": "code",
   "execution_count": 14,
   "id": "periodic-history",
   "metadata": {
    "scrolled": false
   },
   "outputs": [
    {
     "name": "stdout",
     "output_type": "stream",
     "text": [
      "{\r\n",
      "  \"serverName\": \"mlserver\",\r\n",
      "  \"resources\": [\r\n",
      "    {\r\n",
      "      \"totalMemoryBytes\": \"1000000\",\r\n",
      "      \"availableMemoryBytes\": \"1000000\"\r\n",
      "    }\r\n",
      "  ],\r\n",
      "  \"expectedReplicas\": -1,\r\n",
      "  \"availableReplicas\": 1\r\n",
      "}\r\n"
     ]
    }
   ],
   "source": [
    "!grpcurl -d '{\"name\":\"mlserver\"}' \\\n",
    "         -plaintext \\\n",
    "         -import-path ../../apis \\\n",
    "         -proto ../../apis/mlops/scheduler/scheduler.proto  0.0.0.0:9004 seldon.mlops.scheduler.Scheduler/ServerStatus"
   ]
  },
  {
   "cell_type": "code",
   "execution_count": 15,
   "id": "toxic-copper",
   "metadata": {
    "scrolled": true
   },
   "outputs": [
    {
     "name": "stdout",
     "output_type": "stream",
     "text": [
      "* Expire in 0 ms for 6 (transfer 0x55cdc967e4f0)\r\n",
      "*   Trying 0.0.0.0...\r\n",
      "* TCP_NODELAY set\r\n",
      "* Expire in 200 ms for 4 (transfer 0x55cdc967e4f0)\r\n",
      "* Connected to 0.0.0.0 (127.0.0.1) port 9000 (#0)\r\n",
      "> POST /v2/models/iris/infer HTTP/1.1\r",
      "\r\n",
      "> Host: 0.0.0.0:9000\r",
      "\r\n",
      "> User-Agent: curl/7.64.0\r",
      "\r\n",
      "> Accept: */*\r",
      "\r\n",
      "> Content-Type: application/json\r",
      "\r\n",
      "> seldon-model: iris\r",
      "\r\n",
      "> Content-Length: 94\r",
      "\r\n",
      "> \r",
      "\r\n",
      "* upload completely sent off: 94 out of 94 bytes\r\n",
      "< HTTP/1.1 404 Not Found\r",
      "\r\n",
      "< date: Sat, 05 Feb 2022 19:05:56 GMT\r",
      "\r\n",
      "< server: envoy\r",
      "\r\n",
      "< connection: close\r",
      "\r\n",
      "< content-length: 0\r",
      "\r\n",
      "< \r",
      "\r\n",
      "* Closing connection 0\r\n"
     ]
    }
   ],
   "source": [
    "!curl -v http://0.0.0.0:9000/v2/models/iris/infer -H \"Content-Type: application/json\" -H \"seldon-model: iris\"\\\n",
    "        -d '{\"inputs\": [{\"name\": \"predict\", \"shape\": [1, 4], \"datatype\": \"FP32\", \"data\": [[1, 2, 3, 4]]}]}'"
   ]
  },
  {
   "cell_type": "markdown",
   "id": "arbitrary-grenada",
   "metadata": {},
   "source": [
    "## Inline RClone Config Example\n",
    "\n",
    "Before running this \n",
    "  * install minio in a kind cluster with Ansible.\n",
    "  * Update ip address for exposed minio ip address in example below\n",
    "  \n",
    "Create rclone.conf changing the ip address for minio as appropriate\n",
    "\n",
    "```\n",
    "[s3]\n",
    "type = s3\n",
    "provider = minio\n",
    "env_auth = false\n",
    "access_key_id = minioadmin\n",
    "secret_access_key = minioadmin\n",
    "endpoint = http://172.18.255.1:9000\n",
    "```\n",
    "  \n",
    " Copy iris model to minio\n",
    " \n",
    " ```\n",
    " rclone --config ./rclone.conf copy mlrepo/iris s3://test\n",
    " ```"
   ]
  },
  {
   "cell_type": "code",
   "execution_count": 26,
   "id": "recorded-scroll",
   "metadata": {},
   "outputs": [
    {
     "name": "stdout",
     "output_type": "stream",
     "text": [
      "\r\n"
     ]
    }
   ],
   "source": [
    "!grpcurl --format text -d '\\\n",
    "         model { \\\n",
    "            meta: { name:\"iris\"},\\\n",
    "            modelSpec: {uri:\"s3://models/iris\",\\\n",
    "                        storageConfig: { \\\n",
    "                        storageRcloneConfig: \"{\\\"type\\\":\\\"s3\\\",\\\"name\\\":\\\"s3\\\",\\\"parameters\\\":{\\\"provider\\\":\\\"minio\\\",\\\"env_auth\\\":\\\"false\\\",\\\"access_key_id\\\":\\\"minioadmin\\\",\\\"secret_access_key\\\":\\\"minioadmin\\\",\\\"endpoint\\\":\\\"http://172.18.255.2:9000\\\"}}\" \\\n",
    "     } \\\n",
    "                        requirements:[\"sklearn\"],\\\n",
    "                        memoryBytes:500},\\\n",
    "            deploymentSpec:{replicas:1}}' \\\n",
    "         -plaintext \\\n",
    "         -import-path ../../apis \\\n",
    "         -proto ../../apis/mlops/scheduler/scheduler.proto  0.0.0.0:9004 seldon.mlops.scheduler.Scheduler/LoadModel"
   ]
  },
  {
   "cell_type": "code",
   "execution_count": 27,
   "id": "strategic-dietary",
   "metadata": {},
   "outputs": [
    {
     "name": "stdout",
     "output_type": "stream",
     "text": [
      "{\r\n",
      "  \"modelName\": \"iris\",\r\n",
      "  \"versions\": [\r\n",
      "    {\r\n",
      "      \"version\": 1,\r\n",
      "      \"serverName\": \"mlserver\",\r\n",
      "      \"modelReplicaState\": {\r\n",
      "        \"0\": {\r\n",
      "          \"state\": \"Available\",\r\n",
      "          \"lastChangeTimestamp\": \"2022-01-30T14:49:21.375104993Z\"\r\n",
      "        }\r\n",
      "      },\r\n",
      "      \"state\": {\r\n",
      "        \"state\": \"ModelAvailable\",\r\n",
      "        \"availableReplicas\": 1,\r\n",
      "        \"lastChangeTimestamp\": \"2022-01-30T14:49:21.375104993Z\"\r\n",
      "      }\r\n",
      "    }\r\n",
      "  ]\r\n",
      "}\r\n"
     ]
    }
   ],
   "source": [
    "!grpcurl -d '{\"model\":{\"name\":\"iris\"}}' \\\n",
    "         -plaintext \\\n",
    "         -import-path ../../apis \\\n",
    "         -proto ../../apis/mlops/scheduler/scheduler.proto  0.0.0.0:9004 seldon.mlops.scheduler.Scheduler/ModelStatus"
   ]
  },
  {
   "cell_type": "code",
   "execution_count": 28,
   "id": "alert-robinson",
   "metadata": {
    "scrolled": true
   },
   "outputs": [
    {
     "name": "stdout",
     "output_type": "stream",
     "text": [
      "{\r\n",
      "  \"serverName\": \"mlserver\",\r\n",
      "  \"resources\": [\r\n",
      "    {\r\n",
      "      \"totalMemoryBytes\": \"1000\",\r\n",
      "      \"availableMemoryBytes\": \"500\",\r\n",
      "      \"numLoadedModels\": 1\r\n",
      "    }\r\n",
      "  ],\r\n",
      "  \"expectedReplicas\": -1,\r\n",
      "  \"availableReplicas\": 1,\r\n",
      "  \"numLoadedModelReplicas\": 1\r\n",
      "}\r\n"
     ]
    }
   ],
   "source": [
    "!grpcurl -d '{\"name\":\"mlserver\"}' \\\n",
    "         -plaintext \\\n",
    "         -import-path ../../apis \\\n",
    "         -proto ../../apis/mlops/scheduler/scheduler.proto  0.0.0.0:9004 seldon.mlops.scheduler.Scheduler/ServerStatus"
   ]
  },
  {
   "cell_type": "code",
   "execution_count": 29,
   "id": "mechanical-treatment",
   "metadata": {
    "scrolled": false
   },
   "outputs": [
    {
     "name": "stdout",
     "output_type": "stream",
     "text": [
      "* Expire in 0 ms for 6 (transfer 0x5619429f24f0)\n",
      "*   Trying 0.0.0.0...\n",
      "* TCP_NODELAY set\n",
      "* Expire in 200 ms for 4 (transfer 0x5619429f24f0)\n",
      "* Connected to 0.0.0.0 (127.0.0.1) port 9000 (#0)\n",
      "> POST /v2/models/iris/infer HTTP/1.1\n",
      "> Host: 0.0.0.0:9000\n",
      "> User-Agent: curl/7.64.0\n",
      "> Accept: */*\n",
      "> Content-Type: application/json\n",
      "> seldon-model: iris\n",
      "> Content-Length: 94\n",
      "> \n",
      "* upload completely sent off: 94 out of 94 bytes\n",
      "< HTTP/1.1 200 OK\n",
      "< date: Sun, 30 Jan 2022 14:49:27 GMT\n",
      "< server: envoy\n",
      "< content-length: 194\n",
      "< content-type: application/json\n",
      "< x-envoy-upstream-service-time: 1166\n",
      "< \n",
      "* Connection #0 to host 0.0.0.0 left intact\n",
      "{\"model_name\":\"iris\",\"model_version\":\"1\",\"id\":\"32dbaf78-de99-4407-beab-50e3b0060dde\",\"parameters\":null,\"outputs\":[{\"name\":\"predict\",\"shape\":[1],\"datatype\":\"INT64\",\"parameters\":null,\"data\":[2]}]}"
     ]
    }
   ],
   "source": [
    "!curl -v http://0.0.0.0:9000/v2/models/iris/infer -H \"Content-Type: application/json\" -H \"seldon-model: iris\"\\\n",
    "        -d '{\"inputs\": [{\"name\": \"predict\", \"shape\": [1, 4], \"datatype\": \"FP32\", \"data\": [[1, 2, 3, 4]]}]}'"
   ]
  },
  {
   "cell_type": "code",
   "execution_count": 31,
   "id": "signed-brain",
   "metadata": {},
   "outputs": [
    {
     "name": "stdout",
     "output_type": "stream",
     "text": [
      "{\r\n",
      "  \"modelName\": \"iris\",\r\n",
      "  \"modelVersion\": \"1\",\r\n",
      "  \"outputs\": [\r\n",
      "    {\r\n",
      "      \"name\": \"predict\",\r\n",
      "      \"datatype\": \"INT64\",\r\n",
      "      \"shape\": [\r\n",
      "        \"1\"\r\n",
      "      ],\r\n",
      "      \"contents\": {\r\n",
      "        \"int64Contents\": [\r\n",
      "          \"2\"\r\n",
      "        ]\r\n",
      "      }\r\n",
      "    }\r\n",
      "  ]\r\n",
      "}\r\n"
     ]
    }
   ],
   "source": [
    "!cd ../v2 && \\\n",
    "    grpcurl -d '{\"model_name\":\"iris\",\"inputs\":[{\"name\":\"input\",\"contents\":{\"fp32_contents\":[1,2,3,4]},\"datatype\":\"FP32\",\"shape\":[1,4]}]}' \\\n",
    "        -plaintext \\\n",
    "        -proto grpc_service.proto \\\n",
    "        -rpc-header seldon-model:iris \\\n",
    "        0.0.0.0:9000 inference.GRPCInferenceService/ModelInfer"
   ]
  },
  {
   "cell_type": "code",
   "execution_count": 28,
   "id": "harmful-alarm",
   "metadata": {},
   "outputs": [
    {
     "name": "stdout",
     "output_type": "stream",
     "text": [
      "{\r\n",
      "  \r\n",
      "}\r\n"
     ]
    }
   ],
   "source": [
    "!grpcurl -d '{\"model\":{\"name\":\"iris\"}}' \\\n",
    "         -plaintext \\\n",
    "         -import-path ../../apis \\\n",
    "         -proto ../../apis/mlops/scheduler/scheduler.proto  0.0.0.0:9004 seldon.mlops.scheduler.Scheduler/UnloadModel"
   ]
  },
  {
   "cell_type": "markdown",
   "id": "monetary-approach",
   "metadata": {},
   "source": [
    "## Multiple Version Example"
   ]
  },
  {
   "cell_type": "code",
   "execution_count": 63,
   "id": "compact-doctrine",
   "metadata": {},
   "outputs": [
    {
     "name": "stdout",
     "output_type": "stream",
     "text": [
      "{\r\n",
      "  \r\n",
      "}\r\n"
     ]
    }
   ],
   "source": [
    "!grpcurl -d '{\"model\":{ \\\n",
    "              \"meta\":{\"name\":\"iris\"},\\\n",
    "              \"modelSpec\":{\"uri\":\"gs://seldon-models/mlserver/iris-multi-version\",\\\n",
    "                           \"artifactVersion\":1,\\\n",
    "                           \"requirements\":[\"sklearn\"],\\\n",
    "                           \"memoryBytes\":500},\\\n",
    "              \"deploymentSpec\":{\"replicas\":1}}}' \\\n",
    "         -plaintext \\\n",
    "         -import-path ../../apis \\\n",
    "         -proto ../../apis/mlops/scheduler/scheduler.proto  0.0.0.0:9004 seldon.mlops.scheduler.Scheduler/LoadModel"
   ]
  },
  {
   "cell_type": "code",
   "execution_count": 64,
   "id": "prescription-consistency",
   "metadata": {
    "scrolled": true
   },
   "outputs": [
    {
     "name": "stdout",
     "output_type": "stream",
     "text": [
      "{\r\n",
      "  \"serverName\": \"mlserver\",\r\n",
      "  \"resources\": [\r\n",
      "    {\r\n",
      "      \"totalMemoryBytes\": \"1000000\",\r\n",
      "      \"availableMemoryBytes\": \"999500\",\r\n",
      "      \"numLoadedModels\": 1\r\n",
      "    }\r\n",
      "  ],\r\n",
      "  \"expectedReplicas\": -1,\r\n",
      "  \"availableReplicas\": 1,\r\n",
      "  \"numLoadedModelReplicas\": 1\r\n",
      "}\r\n"
     ]
    }
   ],
   "source": [
    "!grpcurl -d '{\"name\":\"mlserver\"}' \\\n",
    "         -plaintext \\\n",
    "         -proto ../apis/mlops/scheduler/scheduler.proto  0.0.0.0:9004 seldon.mlops.scheduler.Scheduler/ServerStatus"
   ]
  },
  {
   "cell_type": "code",
   "execution_count": 65,
   "id": "certain-pitch",
   "metadata": {
    "scrolled": false
   },
   "outputs": [
    {
     "name": "stdout",
     "output_type": "stream",
     "text": [
      "* Expire in 0 ms for 6 (transfer 0x559d7973f4f0)\n",
      "*   Trying 0.0.0.0...\n",
      "* TCP_NODELAY set\n",
      "* Expire in 200 ms for 4 (transfer 0x559d7973f4f0)\n",
      "* Connected to 0.0.0.0 (127.0.0.1) port 9000 (#0)\n",
      "> POST /v2/models/iris/infer HTTP/1.1\n",
      "> Host: 0.0.0.0:9000\n",
      "> User-Agent: curl/7.64.0\n",
      "> Accept: */*\n",
      "> Content-Type: application/json\n",
      "> seldon-model: iris\n",
      "> Content-Length: 94\n",
      "> \n",
      "* upload completely sent off: 94 out of 94 bytes\n",
      "< HTTP/1.1 200 OK\n",
      "< content-length: 194\n",
      "< content-type: application/json\n",
      "< date: Sat, 05 Feb 2022 19:08:25 GMT\n",
      "< server: envoy\n",
      "< x-envoy-upstream-service-time: 1185\n",
      "< \n",
      "* Connection #0 to host 0.0.0.0 left intact\n",
      "{\"model_name\":\"iris\",\"model_version\":\"1\",\"id\":\"4a610b92-3271-437e-b2da-de77c86c1a99\",\"parameters\":null,\"outputs\":[{\"name\":\"predict\",\"shape\":[1],\"datatype\":\"INT64\",\"parameters\":null,\"data\":[2]}]}"
     ]
    }
   ],
   "source": [
    "!curl -v http://0.0.0.0:9000/v2/models/iris/infer -H \"Content-Type: application/json\" -H \"seldon-model: iris\"\\\n",
    "        -d '{\"inputs\": [{\"name\": \"predict\", \"shape\": [1, 4], \"datatype\": \"FP32\", \"data\": [[1, 2, 3, 4]]}]}'"
   ]
  },
  {
   "cell_type": "code",
   "execution_count": 66,
   "id": "sonic-kingston",
   "metadata": {},
   "outputs": [
    {
     "name": "stdout",
     "output_type": "stream",
     "text": [
      "{\r\n",
      "  \r\n",
      "}\r\n"
     ]
    }
   ],
   "source": [
    "!grpcurl -d '{\"model\":{ \\\n",
    "              \"meta\":{\"name\":\"iris\"},\\\n",
    "              \"modelSpec\":{\"uri\":\"gs://seldon-models/mlserver/iris-multi-version\",\\\n",
    "                           \"artifactVersion\":2,\\\n",
    "                           \"requirements\":[\"sklearn\"],\\\n",
    "                           \"memoryBytes\":500},\\\n",
    "              \"deploymentSpec\":{\"replicas\":1}}}' \\\n",
    "         -plaintext \\\n",
    "         -import-path ../../apis \\\n",
    "         -proto ../../apis/mlops/scheduler/scheduler.proto  0.0.0.0:9004 seldon.mlops.scheduler.Scheduler/LoadModel"
   ]
  },
  {
   "cell_type": "code",
   "execution_count": 67,
   "id": "secondary-traffic",
   "metadata": {
    "scrolled": true
   },
   "outputs": [
    {
     "name": "stdout",
     "output_type": "stream",
     "text": [
      "{\r\n",
      "  \"serverName\": \"mlserver\",\r\n",
      "  \"resources\": [\r\n",
      "    {\r\n",
      "      \"totalMemoryBytes\": \"1000000\",\r\n",
      "      \"availableMemoryBytes\": \"999500\"\r\n",
      "    }\r\n",
      "  ],\r\n",
      "  \"expectedReplicas\": -1,\r\n",
      "  \"availableReplicas\": 1\r\n",
      "}\r\n"
     ]
    }
   ],
   "source": [
    "!grpcurl -d '{\"name\":\"mlserver\"}' \\\n",
    "         -plaintext \\\n",
    "         -proto ../apis/mlops/scheduler/scheduler.proto  0.0.0.0:9004 seldon.mlops.scheduler.Scheduler/ServerStatus"
   ]
  },
  {
   "cell_type": "code",
   "execution_count": 68,
   "id": "corresponding-yellow",
   "metadata": {
    "scrolled": false
   },
   "outputs": [
    {
     "name": "stdout",
     "output_type": "stream",
     "text": [
      "* Expire in 0 ms for 6 (transfer 0x564dd40594f0)\n",
      "*   Trying 0.0.0.0...\n",
      "* TCP_NODELAY set\n",
      "* Expire in 200 ms for 4 (transfer 0x564dd40594f0)\n",
      "* Connected to 0.0.0.0 (127.0.0.1) port 9000 (#0)\n",
      "> POST /v2/models/iris/infer HTTP/1.1\n",
      "> Host: 0.0.0.0:9000\n",
      "> User-Agent: curl/7.64.0\n",
      "> Accept: */*\n",
      "> Content-Type: application/json\n",
      "> seldon-model: iris\n",
      "> Content-Length: 94\n",
      "> \n",
      "* upload completely sent off: 94 out of 94 bytes\n",
      "< HTTP/1.1 200 OK\n",
      "< content-length: 194\n",
      "< content-type: application/json\n",
      "< date: Sat, 05 Feb 2022 19:08:25 GMT\n",
      "< server: envoy\n",
      "< x-envoy-upstream-service-time: 1190\n",
      "< \n",
      "* Connection #0 to host 0.0.0.0 left intact\n",
      "{\"model_name\":\"iris\",\"model_version\":\"2\",\"id\":\"20999165-7749-4c37-b73c-b73178078cd3\",\"parameters\":null,\"outputs\":[{\"name\":\"predict\",\"shape\":[1],\"datatype\":\"INT64\",\"parameters\":null,\"data\":[2]}]}"
     ]
    }
   ],
   "source": [
    "!curl -v http://0.0.0.0:9000/v2/models/iris/infer -H \"Content-Type: application/json\" -H \"seldon-model: iris\"\\\n",
    "        -d '{\"inputs\": [{\"name\": \"predict\", \"shape\": [1, 4], \"datatype\": \"FP32\", \"data\": [[1, 2, 3, 4]]}]}'"
   ]
  },
  {
   "cell_type": "code",
   "execution_count": 69,
   "id": "enormous-briefs",
   "metadata": {},
   "outputs": [
    {
     "name": "stdout",
     "output_type": "stream",
     "text": [
      "{\r\n",
      "  \"modelName\": \"iris\",\r\n",
      "  \"modelVersion\": \"2\",\r\n",
      "  \"outputs\": [\r\n",
      "    {\r\n",
      "      \"name\": \"predict\",\r\n",
      "      \"datatype\": \"INT64\",\r\n",
      "      \"shape\": [\r\n",
      "        \"1\"\r\n",
      "      ],\r\n",
      "      \"contents\": {\r\n",
      "        \"int64Contents\": [\r\n",
      "          \"2\"\r\n",
      "        ]\r\n",
      "      }\r\n",
      "    }\r\n",
      "  ]\r\n",
      "}\r\n"
     ]
    }
   ],
   "source": [
    "!cd ../v2 && \\\n",
    "    grpcurl -d '{\"model_name\":\"iris\",\"inputs\":[{\"name\":\"input\",\"contents\":{\"fp32_contents\":[1,2,3,4]},\"datatype\":\"FP32\",\"shape\":[1,4]}]}' \\\n",
    "        -plaintext \\\n",
    "        -proto grpc_service.proto \\\n",
    "        -rpc-header seldon-model:iris \\\n",
    "        0.0.0.0:9000 inference.GRPCInferenceService/ModelInfer"
   ]
  },
  {
   "cell_type": "code",
   "execution_count": 70,
   "id": "voluntary-stage",
   "metadata": {},
   "outputs": [
    {
     "name": "stdout",
     "output_type": "stream",
     "text": [
      "{\r\n",
      "  \"modelName\": \"iris\",\r\n",
      "  \"versions\": [\r\n",
      "    {\r\n",
      "      \"version\": 1,\r\n",
      "      \"serverName\": \"mlserver\",\r\n",
      "      \"modelReplicaState\": {\r\n",
      "        \"0\": {\r\n",
      "          \"state\": \"Unloaded\",\r\n",
      "          \"lastChangeTimestamp\": \"2022-02-05T19:08:32.621936225Z\"\r\n",
      "        }\r\n",
      "      },\r\n",
      "      \"state\": {\r\n",
      "        \"state\": \"ModelTerminated\",\r\n",
      "        \"lastChangeTimestamp\": \"2022-02-05T19:08:32.621936225Z\"\r\n",
      "      }\r\n",
      "    },\r\n",
      "    {\r\n",
      "      \"version\": 2,\r\n",
      "      \"serverName\": \"mlserver\",\r\n",
      "      \"modelReplicaState\": {\r\n",
      "        \"0\": {\r\n",
      "          \"state\": \"Available\",\r\n",
      "          \"lastChangeTimestamp\": \"2022-02-05T19:08:32.615596084Z\"\r\n",
      "        }\r\n",
      "      },\r\n",
      "      \"state\": {\r\n",
      "        \"state\": \"ModelAvailable\",\r\n",
      "        \"availableReplicas\": 1,\r\n",
      "        \"lastChangeTimestamp\": \"2022-02-05T19:08:32.615596084Z\"\r\n",
      "      }\r\n",
      "    }\r\n",
      "  ]\r\n",
      "}\r\n"
     ]
    }
   ],
   "source": [
    "!grpcurl -d '{\"model\":{\"name\":\"iris\"},\"allVersions\":true}' \\\n",
    "         -plaintext \\\n",
    "         -proto ../apis/mlops/scheduler/scheduler.proto  0.0.0.0:9004 seldon.mlops.scheduler.Scheduler/ModelStatus"
   ]
  },
  {
   "cell_type": "code",
   "execution_count": 60,
   "id": "proof-buffalo",
   "metadata": {},
   "outputs": [
    {
     "name": "stdout",
     "output_type": "stream",
     "text": [
      "{\r\n",
      "  \r\n",
      "}\r\n"
     ]
    }
   ],
   "source": [
    "!grpcurl -d '{\"model\":{\"name\":\"iris\"}}' \\\n",
    "         -plaintext \\\n",
    "         -proto ../apis/mlops/scheduler/scheduler.proto  0.0.0.0:9004 seldon.mlops.scheduler.Scheduler/UnloadModel"
   ]
  },
  {
   "cell_type": "code",
   "execution_count": 61,
   "id": "protective-replica",
   "metadata": {},
   "outputs": [
    {
     "name": "stdout",
     "output_type": "stream",
     "text": [
      "{\r\n",
      "  \"modelName\": \"iris\",\r\n",
      "  \"versions\": [\r\n",
      "    {\r\n",
      "      \"version\": 2,\r\n",
      "      \"serverName\": \"mlserver\",\r\n",
      "      \"modelReplicaState\": {\r\n",
      "        \"0\": {\r\n",
      "          \"state\": \"Unloaded\",\r\n",
      "          \"lastChangeTimestamp\": \"2022-02-05T19:08:14.265948682Z\"\r\n",
      "        }\r\n",
      "      },\r\n",
      "      \"state\": {\r\n",
      "        \"state\": \"ModelTerminated\",\r\n",
      "        \"lastChangeTimestamp\": \"2022-02-05T19:08:14.265948682Z\"\r\n",
      "      }\r\n",
      "    }\r\n",
      "  ],\r\n",
      "  \"deleted\": true\r\n",
      "}\r\n"
     ]
    }
   ],
   "source": [
    "!grpcurl -d '{\"model\":{\"name\":\"iris\"}}' \\\n",
    "         -plaintext \\\n",
    "         -proto ../apis/mlops/scheduler/scheduler.proto  0.0.0.0:9004 seldon.mlops.scheduler.Scheduler/ModelStatus"
   ]
  },
  {
   "cell_type": "code",
   "execution_count": 62,
   "id": "interracial-credit",
   "metadata": {
    "scrolled": false
   },
   "outputs": [
    {
     "name": "stdout",
     "output_type": "stream",
     "text": [
      "{\r\n",
      "  \"serverName\": \"mlserver\",\r\n",
      "  \"resources\": [\r\n",
      "    {\r\n",
      "      \"totalMemoryBytes\": \"1000000\",\r\n",
      "      \"availableMemoryBytes\": \"1000000\"\r\n",
      "    }\r\n",
      "  ],\r\n",
      "  \"expectedReplicas\": -1,\r\n",
      "  \"availableReplicas\": 1\r\n",
      "}\r\n"
     ]
    }
   ],
   "source": [
    "!grpcurl -d '{\"name\":\"mlserver\"}' \\\n",
    "         -plaintext \\\n",
    "         -proto ../apis/mlops/scheduler/scheduler.proto  0.0.0.0:9004 seldon.mlops.scheduler.Scheduler/ServerStatus"
   ]
  },
  {
   "cell_type": "code",
   "execution_count": 40,
   "id": "elect-chambers",
   "metadata": {
    "scrolled": true
   },
   "outputs": [
    {
     "name": "stdout",
     "output_type": "stream",
     "text": [
      "* Expire in 0 ms for 6 (transfer 0x55c1d47f14f0)\r\n",
      "*   Trying 0.0.0.0...\r\n",
      "* TCP_NODELAY set\r\n",
      "* Expire in 200 ms for 4 (transfer 0x55c1d47f14f0)\r\n",
      "* Connected to 0.0.0.0 (127.0.0.1) port 9000 (#0)\r\n",
      "> POST /v2/models/iris/infer HTTP/1.1\r",
      "\r\n",
      "> Host: 0.0.0.0:9000\r",
      "\r\n",
      "> User-Agent: curl/7.64.0\r",
      "\r\n",
      "> Accept: */*\r",
      "\r\n",
      "> Content-Type: application/json\r",
      "\r\n",
      "> seldon-model: iris\r",
      "\r\n",
      "> Content-Length: 94\r",
      "\r\n",
      "> \r",
      "\r\n",
      "* upload completely sent off: 94 out of 94 bytes\r\n",
      "< HTTP/1.1 404 Not Found\r",
      "\r\n",
      "< date: Sat, 05 Feb 2022 19:07:13 GMT\r",
      "\r\n",
      "< server: envoy\r",
      "\r\n",
      "< connection: close\r",
      "\r\n",
      "< content-length: 0\r",
      "\r\n",
      "< \r",
      "\r\n",
      "* Closing connection 0\r\n"
     ]
    }
   ],
   "source": [
    "!curl -v http://0.0.0.0:9000/v2/models/iris/infer -H \"Content-Type: application/json\" -H \"seldon-model: iris\"\\\n",
    "        -d '{\"inputs\": [{\"name\": \"predict\", \"shape\": [1, 4], \"datatype\": \"FP32\", \"data\": [[1, 2, 3, 4]]}]}'"
   ]
  },
  {
   "cell_type": "code",
   "execution_count": null,
   "id": "foster-question",
   "metadata": {},
   "outputs": [],
   "source": []
  }
 ],
 "metadata": {
  "kernelspec": {
   "display_name": "Python 3",
   "language": "python",
   "name": "python3"
  },
  "language_info": {
   "codemirror_mode": {
    "name": "ipython",
    "version": 3
   },
   "file_extension": ".py",
   "mimetype": "text/x-python",
   "name": "python",
   "nbconvert_exporter": "python",
   "pygments_lexer": "ipython3",
   "version": "3.7.4"
  }
 },
 "nbformat": 4,
 "nbformat_minor": 5
}
