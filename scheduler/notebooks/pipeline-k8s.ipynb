{
 "cells": [
  {
   "cell_type": "code",
   "execution_count": 1,
   "id": "reported-andrews",
   "metadata": {},
   "outputs": [
    {
     "data": {
      "text/plain": [
       "'172.18.255.2'"
      ]
     },
     "execution_count": 1,
     "metadata": {},
     "output_type": "execute_result"
    }
   ],
   "source": [
    "SCHEDULER_IP=!kubectl get svc seldon-scheduler -n seldon-mesh -o jsonpath='{.status.loadBalancer.ingress[0].ip}'\n",
    "SCHEDULER_IP=SCHEDULER_IP[0]\n",
    "import os\n",
    "os.environ['SCHEDULER_IP'] = SCHEDULER_IP\n",
    "SCHEDULER_IP"
   ]
  },
  {
   "cell_type": "code",
   "execution_count": 3,
   "id": "split-excerpt",
   "metadata": {},
   "outputs": [
    {
     "name": "stdout",
     "output_type": "stream",
     "text": [
      "apiVersion: mlops.seldon.io/v1alpha1\r\n",
      "kind: Pipeline\r\n",
      "metadata:\r\n",
      "  name: example\r\n",
      "spec:\r\n",
      "  steps:\r\n",
      "    - name: a\r\n",
      "    - name: b\r\n",
      "      inputs:\r\n",
      "      - a\r\n",
      "    - name: c\r\n",
      "      inputs:\r\n",
      "      - b\r\n",
      "  output:\r\n",
      "    inputs:\r\n",
      "    - c\r\n"
     ]
    }
   ],
   "source": [
    "!cat ../../operator/samples/pipelines/example.yaml"
   ]
  },
  {
   "cell_type": "code",
   "execution_count": 4,
   "id": "horizontal-mouse",
   "metadata": {},
   "outputs": [
    {
     "name": "stdout",
     "output_type": "stream",
     "text": [
      "pipeline.mlops.seldon.io/example created\r\n"
     ]
    }
   ],
   "source": [
    "!kubectl create -f ../../operator/samples/pipelines/example.yaml"
   ]
  },
  {
   "cell_type": "code",
   "execution_count": null,
   "id": "designing-integrity",
   "metadata": {},
   "outputs": [],
   "source": [
    "!kubectl delete -f ../../operator/samples/pipelines/example.yaml"
   ]
  },
  {
   "cell_type": "code",
   "execution_count": null,
   "id": "varying-capital",
   "metadata": {},
   "outputs": [],
   "source": []
  }
 ],
 "metadata": {
  "kernelspec": {
   "display_name": "Python 3",
   "language": "python",
   "name": "python3"
  },
  "language_info": {
   "codemirror_mode": {
    "name": "ipython",
    "version": 3
   },
   "file_extension": ".py",
   "mimetype": "text/x-python",
   "name": "python",
   "nbconvert_exporter": "python",
   "pygments_lexer": "ipython3",
   "version": "3.7.4"
  }
 },
 "nbformat": 4,
 "nbformat_minor": 5
}
