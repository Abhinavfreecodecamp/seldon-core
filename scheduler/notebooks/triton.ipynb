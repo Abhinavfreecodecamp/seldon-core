{
 "cells": [
  {
   "cell_type": "markdown",
   "id": "spoken-chick",
   "metadata": {},
   "source": [
    "# Triton Testing\n",
    "\n",
    "## Local Setup\n",
    "\n",
    "\n",
    "* `make start-scheduler` \n",
    "* `make start-envoy`\n",
    "* `make start-triton-agent`\n",
    "* `make start-triton`\n",
    "* `make start-rclone`"
   ]
  },
  {
   "cell_type": "code",
   "execution_count": 1,
   "id": "legislative-ancient",
   "metadata": {},
   "outputs": [
    {
     "name": "stdout",
     "output_type": "stream",
     "text": [
      "{\r\n",
      "  \r\n",
      "}\r\n"
     ]
    }
   ],
   "source": [
    "!grpcurl -d '{\"model\":{ \\\n",
    "              \"meta\":{\"name\":\"iris\"},\\\n",
    "              \"modelSpec\":{\"uri\":\"gs://seldon-models/triton/simple\",\\\n",
    "                           \"requirements\":[\"tensorflow\"],\\\n",
    "                           \"memoryBytes\":500},\\\n",
    "              \"deploymentSpec\":{\"replicas\":1}}}' \\\n",
    "         -plaintext \\\n",
    "         -import-path ../../apis \\\n",
    "         -proto ../../apis/mlops/scheduler/scheduler.proto  0.0.0.0:9004 seldon.mlops.scheduler.Scheduler/LoadModel"
   ]
  },
  {
   "cell_type": "code",
   "execution_count": 2,
   "id": "advanced-expansion",
   "metadata": {},
   "outputs": [
    {
     "name": "stdout",
     "output_type": "stream",
     "text": [
      "{\r\n",
      "  \"modelName\": \"iris\",\r\n",
      "  \"versions\": [\r\n",
      "    {\r\n",
      "      \"version\": 1,\r\n",
      "      \"serverName\": \"triton\",\r\n",
      "      \"modelReplicaState\": {\r\n",
      "        \"0\": {\r\n",
      "          \"state\": \"Available\",\r\n",
      "          \"lastChangeTimestamp\": \"2022-01-14T17:58:20.387312101Z\"\r\n",
      "        }\r\n",
      "      },\r\n",
      "      \"state\": {\r\n",
      "        \"state\": \"ModelAvailable\",\r\n",
      "        \"availableReplicas\": 1,\r\n",
      "        \"lastChangeTimestamp\": \"2022-01-14T17:58:20.387312101Z\"\r\n",
      "      }\r\n",
      "    }\r\n",
      "  ]\r\n",
      "}\r\n"
     ]
    }
   ],
   "source": [
    "!grpcurl -d '{\"model\":{\"name\":\"iris\"}}' \\\n",
    "         -plaintext \\\n",
    "         -import-path ../../apis \\\n",
    "         -proto ../../apis/mlops/scheduler/scheduler.proto  0.0.0.0:9004 seldon.mlops.scheduler.Scheduler/ModelStatus"
   ]
  },
  {
   "cell_type": "code",
   "execution_count": 3,
   "id": "conditional-court",
   "metadata": {},
   "outputs": [
    {
     "name": "stdout",
     "output_type": "stream",
     "text": [
      "* Expire in 0 ms for 6 (transfer 0x55d809a724f0)\r\n",
      "*   Trying 0.0.0.0...\r\n",
      "* TCP_NODELAY set\r\n",
      "* Expire in 200 ms for 4 (transfer 0x55d809a724f0)\r\n",
      "* Connected to 0.0.0.0 (127.0.0.1) port 9000 (#0)\r\n",
      "> POST /v2/models/iris/infer HTTP/1.1\r",
      "\r\n",
      "> Host: iris\r",
      "\r\n",
      "> User-Agent: curl/7.64.0\r",
      "\r\n",
      "> Accept: */*\r",
      "\r\n",
      "> Content-Type: application/json\r",
      "\r\n",
      "> Content-Length: 212\r",
      "\r\n",
      "> \r",
      "\r\n",
      "* upload completely sent off: 212 out of 212 bytes\r\n",
      "< HTTP/1.1 200 OK\r",
      "\r\n",
      "< content-type: application/json\r",
      "\r\n",
      "< content-length: 253\r",
      "\r\n",
      "< x-envoy-upstream-service-time: 3\r",
      "\r\n",
      "< date: Fri, 14 Jan 2022 18:01:32 GMT\r",
      "\r\n",
      "< server: envoy\r",
      "\r\n",
      "< \r",
      "\r\n",
      "* Connection #0 to host 0.0.0.0 left intact\r\n",
      "{\"model_name\":\"iris\",\"model_version\":\"1\",\"outputs\":[{\"name\":\"OUTPUT0\",\"datatype\":\"INT32\",\"shape\":[1,16],\"data\":[2,4,6,8,10,12,14,16,18,20,22,24,26,28,30,32]},{\"name\":\"OUTPUT1\",\"datatype\":\"INT32\",\"shape\":[1,16],\"data\":[0,0,0,0,0,0,0,0,0,0,0,0,0,0,0,0]}]}"
     ]
    }
   ],
   "source": [
    "!curl -v http://0.0.0.0:9000/v2/models/iris/infer -H \"Content-Type: application/json\" -H \"Host: iris\"\\\n",
    "        -d '{\"inputs\":[{\"name\":\"INPUT0\",\"data\":[1,2,3,4,5,6,7,8,9,10,11,12,13,14,15,16],\"datatype\":\"INT32\",\"shape\":[1,16]},{\"name\":\"INPUT1\",\"data\":[1,2,3,4,5,6,7,8,9,10,11,12,13,14,15,16],\"datatype\":\"INT32\",\"shape\":[1,16]}]}'"
   ]
  },
  {
   "cell_type": "code",
   "execution_count": 4,
   "id": "amateur-history",
   "metadata": {
    "scrolled": true
   },
   "outputs": [
    {
     "name": "stdout",
     "output_type": "stream",
     "text": [
      "{\r\n",
      "  \"modelName\": \"iris\",\r\n",
      "  \"modelVersion\": \"1\",\r\n",
      "  \"outputs\": [\r\n",
      "    {\r\n",
      "      \"name\": \"OUTPUT0\",\r\n",
      "      \"datatype\": \"INT32\",\r\n",
      "      \"shape\": [\r\n",
      "        \"1\",\r\n",
      "        \"16\"\r\n",
      "      ]\r\n",
      "    },\r\n",
      "    {\r\n",
      "      \"name\": \"OUTPUT1\",\r\n",
      "      \"datatype\": \"INT32\",\r\n",
      "      \"shape\": [\r\n",
      "        \"1\",\r\n",
      "        \"16\"\r\n",
      "      ]\r\n",
      "    }\r\n",
      "  ],\r\n",
      "  \"rawOutputContents\": [\r\n",
      "    \"AgAAAAQAAAAGAAAACAAAAAoAAAAMAAAADgAAABAAAAASAAAAFAAAABYAAAAYAAAAGgAAABwAAAAeAAAAIAAAAA==\",\r\n",
      "    \"AAAAAAAAAAAAAAAAAAAAAAAAAAAAAAAAAAAAAAAAAAAAAAAAAAAAAAAAAAAAAAAAAAAAAAAAAAAAAAAAAAAAAA==\"\r\n",
      "  ]\r\n",
      "}\r\n"
     ]
    }
   ],
   "source": [
    "!cd ../v2 && \\\n",
    "    grpcurl -d '{\"model_name\":\"iris\",\"inputs\":[{\"name\":\"INPUT0\",\"contents\":{\"int_contents\":[1,2,3,4,5,6,7,8,9,10,11,12,13,14,15,16]},\"datatype\":\"INT32\",\"shape\":[1,16]},{\"name\":\"INPUT1\",\"contents\":{\"int_contents\":[1,2,3,4,5,6,7,8,9,10,11,12,13,14,15,16]},\"datatype\":\"INT32\",\"shape\":[1,16]}]}' \\\n",
    "        -plaintext \\\n",
    "        -proto grpc_service.proto \\\n",
    "        -rpc-header Seldon:iris \\\n",
    "        0.0.0.0:9000 inference.GRPCInferenceService/ModelInfer"
   ]
  },
  {
   "cell_type": "code",
   "execution_count": 5,
   "id": "pleasant-senator",
   "metadata": {},
   "outputs": [
    {
     "name": "stdout",
     "output_type": "stream",
     "text": [
      "{\r\n",
      "  \r\n",
      "}\r\n"
     ]
    }
   ],
   "source": [
    "!grpcurl -d '{\"model\":{\"name\":\"iris\"}}' \\\n",
    "         -plaintext \\\n",
    "         -import-path ../../apis \\\n",
    "         -proto ../../apis/mlops/scheduler/scheduler.proto  0.0.0.0:9004 seldon.mlops.scheduler.Scheduler/UnloadModel"
   ]
  },
  {
   "cell_type": "markdown",
   "id": "incorporate-tattoo",
   "metadata": {},
   "source": [
    "#  K8S Test\n",
    "\n",
    "Assumes you have a Kind cluster running with metallb. No other dependencies required.\n",
    "You can use [Seldon Ansible Kind Playbook](https://github.com/SeldonIO/ansible-k8s-collection/blob/master/playbooks/kind.yaml)\n",
    "\n",
    "## Setup\n",
    "\n",
    "* `make kind-image-install-all`\n",
    "* `make deploy` \n"
   ]
  },
  {
   "cell_type": "code",
   "execution_count": 21,
   "id": "flush-picking",
   "metadata": {},
   "outputs": [],
   "source": [
    "SCHEDULER_IP=!kubectl get svc seldon-scheduler -n seldon-mesh -o jsonpath='{.status.loadBalancer.ingress[0].ip}'\n",
    "SCHEDULER_IP=SCHEDULER_IP[0]\n",
    "import os\n",
    "os.environ['SCHEDULER_IP'] = SCHEDULER_IP"
   ]
  },
  {
   "cell_type": "code",
   "execution_count": 22,
   "id": "verified-covering",
   "metadata": {},
   "outputs": [],
   "source": [
    "MESH_IP=!kubectl get svc seldon-mesh -n seldon-mesh -o jsonpath='{.status.loadBalancer.ingress[0].ip}'\n",
    "MESH_IP=MESH_IP[0]\n",
    "import os\n",
    "os.environ['MESH_IP'] = MESH_IP"
   ]
  },
  {
   "cell_type": "code",
   "execution_count": 23,
   "id": "expected-invasion",
   "metadata": {},
   "outputs": [
    {
     "name": "stdout",
     "output_type": "stream",
     "text": [
      "{\r\n",
      "  \r\n",
      "}\r\n"
     ]
    }
   ],
   "source": [
    "!grpcurl -d '{\"model\":{ \\\n",
    "              \"meta\":{\"name\":\"iris\"},\\\n",
    "              \"modelSpec\":{\"uri\":\"gs://seldon-models/triton/simple\",\\\n",
    "                           \"requirements\":[\"tensorflow\"],\\\n",
    "                           \"memoryBytes\":500},\\\n",
    "              \"deploymentSpec\":{\"replicas\":1}}}' \\\n",
    "         -plaintext \\\n",
    "         -import-path ../../apis \\\n",
    "         -proto ../../apis/mlops/scheduler/scheduler.proto  ${SCHEDULER_IP}:9004 seldon.mlops.scheduler.Scheduler/LoadModel"
   ]
  },
  {
   "cell_type": "code",
   "execution_count": 24,
   "id": "ruled-universe",
   "metadata": {},
   "outputs": [
    {
     "name": "stdout",
     "output_type": "stream",
     "text": [
      "{\r\n",
      "  \"modelName\": \"iris\",\r\n",
      "  \"versions\": [\r\n",
      "    {\r\n",
      "      \"version\": 1,\r\n",
      "      \"serverName\": \"triton\",\r\n",
      "      \"modelReplicaState\": {\r\n",
      "        \"0\": {\r\n",
      "          \"state\": \"Available\",\r\n",
      "          \"lastChangeTimestamp\": \"2021-12-26T11:50:57.925237238Z\"\r\n",
      "        }\r\n",
      "      },\r\n",
      "      \"state\": {\r\n",
      "        \"state\": \"ModelAvailable\",\r\n",
      "        \"availableReplicas\": 1,\r\n",
      "        \"lastChangeTimestamp\": \"2021-12-26T11:50:57.925237238Z\"\r\n",
      "      }\r\n",
      "    }\r\n",
      "  ]\r\n",
      "}\r\n"
     ]
    }
   ],
   "source": [
    "!grpcurl -d '{\"model\":{\"name\":\"iris\"}}' \\\n",
    "         -plaintext \\\n",
    "         -import-path ../../apis \\\n",
    "         -proto ../../apis/mlops/scheduler/scheduler.proto  ${SCHEDULER_IP}:9004 seldon.mlops.scheduler.Scheduler/ModelStatus"
   ]
  },
  {
   "cell_type": "code",
   "execution_count": 25,
   "id": "therapeutic-april",
   "metadata": {},
   "outputs": [
    {
     "name": "stdout",
     "output_type": "stream",
     "text": [
      "* Expire in 0 ms for 6 (transfer 0x5580a59fc4f0)\r\n",
      "*   Trying 172.18.255.3...\r\n",
      "* TCP_NODELAY set\r\n",
      "* Expire in 200 ms for 4 (transfer 0x5580a59fc4f0)\r\n",
      "* Connected to 172.18.255.3 (172.18.255.3) port 80 (#0)\r\n",
      "> POST /v2/models/iris/infer HTTP/1.1\r",
      "\r\n",
      "> Host: iris\r",
      "\r\n",
      "> User-Agent: curl/7.64.0\r",
      "\r\n",
      "> Accept: */*\r",
      "\r\n",
      "> Content-Type: application/json\r",
      "\r\n",
      "> Content-Length: 212\r",
      "\r\n",
      "> \r",
      "\r\n",
      "* upload completely sent off: 212 out of 212 bytes\r\n",
      "< HTTP/1.1 200 OK\r",
      "\r\n",
      "< content-type: application/json\r",
      "\r\n",
      "< content-length: 253\r",
      "\r\n",
      "< x-envoy-upstream-service-time: 4\r",
      "\r\n",
      "< date: Sun, 26 Dec 2021 11:51:45 GMT\r",
      "\r\n",
      "< server: envoy\r",
      "\r\n",
      "< \r",
      "\r\n",
      "* Connection #0 to host 172.18.255.3 left intact\r\n",
      "{\"model_name\":\"iris\",\"model_version\":\"1\",\"outputs\":[{\"name\":\"OUTPUT0\",\"datatype\":\"INT32\",\"shape\":[1,16],\"data\":[2,4,6,8,10,12,14,16,18,20,22,24,26,28,30,32]},{\"name\":\"OUTPUT1\",\"datatype\":\"INT32\",\"shape\":[1,16],\"data\":[0,0,0,0,0,0,0,0,0,0,0,0,0,0,0,0]}]}"
     ]
    }
   ],
   "source": [
    "!curl -v http://${MESH_IP}/v2/models/iris/infer -H \"Content-Type: application/json\" -H \"Host: iris\"\\\n",
    "        -d '{\"inputs\":[{\"name\":\"INPUT0\",\"data\":[1,2,3,4,5,6,7,8,9,10,11,12,13,14,15,16],\"datatype\":\"INT32\",\"shape\":[1,16]},{\"name\":\"INPUT1\",\"data\":[1,2,3,4,5,6,7,8,9,10,11,12,13,14,15,16],\"datatype\":\"INT32\",\"shape\":[1,16]}]}'"
   ]
  },
  {
   "cell_type": "code",
   "execution_count": 27,
   "id": "dynamic-hughes",
   "metadata": {},
   "outputs": [
    {
     "name": "stdout",
     "output_type": "stream",
     "text": [
      "{\r\n",
      "  \"modelName\": \"iris\",\r\n",
      "  \"modelVersion\": \"1\",\r\n",
      "  \"outputs\": [\r\n",
      "    {\r\n",
      "      \"name\": \"OUTPUT0\",\r\n",
      "      \"datatype\": \"INT32\",\r\n",
      "      \"shape\": [\r\n",
      "        \"1\",\r\n",
      "        \"16\"\r\n",
      "      ]\r\n",
      "    },\r\n",
      "    {\r\n",
      "      \"name\": \"OUTPUT1\",\r\n",
      "      \"datatype\": \"INT32\",\r\n",
      "      \"shape\": [\r\n",
      "        \"1\",\r\n",
      "        \"16\"\r\n",
      "      ]\r\n",
      "    }\r\n",
      "  ],\r\n",
      "  \"rawOutputContents\": [\r\n",
      "    \"AgAAAAQAAAAGAAAACAAAAAoAAAAMAAAADgAAABAAAAASAAAAFAAAABYAAAAYAAAAGgAAABwAAAAeAAAAIAAAAA==\",\r\n",
      "    \"AAAAAAAAAAAAAAAAAAAAAAAAAAAAAAAAAAAAAAAAAAAAAAAAAAAAAAAAAAAAAAAAAAAAAAAAAAAAAAAAAAAAAA==\"\r\n",
      "  ]\r\n",
      "}\r\n"
     ]
    }
   ],
   "source": [
    "!cd ../v2 && \\\n",
    "    grpcurl -d '{\"model_name\":\"iris\",\"inputs\":[{\"name\":\"INPUT0\",\"contents\":{\"int_contents\":[1,2,3,4,5,6,7,8,9,10,11,12,13,14,15,16]},\"datatype\":\"INT32\",\"shape\":[1,16]},{\"name\":\"INPUT1\",\"contents\":{\"int_contents\":[1,2,3,4,5,6,7,8,9,10,11,12,13,14,15,16]},\"datatype\":\"INT32\",\"shape\":[1,16]}]}' \\\n",
    "        -plaintext \\\n",
    "        -proto grpc_service.proto \\\n",
    "        -rpc-header Seldon:iris \\\n",
    "        ${MESH_IP}:80 inference.GRPCInferenceService/ModelInfer"
   ]
  },
  {
   "cell_type": "code",
   "execution_count": 28,
   "id": "floral-turkey",
   "metadata": {},
   "outputs": [
    {
     "name": "stdout",
     "output_type": "stream",
     "text": [
      "{\r\n",
      "  \r\n",
      "}\r\n"
     ]
    }
   ],
   "source": [
    "!grpcurl -d '{\"model\":{\"name\":\"iris\"}}' \\\n",
    "         -plaintext \\\n",
    "         -import-path ../../apis \\\n",
    "         -proto ../../apis/mlops/scheduler/scheduler.proto  ${SCHEDULER_IP}:9004 seldon.mlops.scheduler.Scheduler/UnloadModel"
   ]
  },
  {
   "cell_type": "code",
   "execution_count": null,
   "id": "fossil-plant",
   "metadata": {},
   "outputs": [],
   "source": []
  }
 ],
 "metadata": {
  "kernelspec": {
   "display_name": "Python 3",
   "language": "python",
   "name": "python3"
  },
  "language_info": {
   "codemirror_mode": {
    "name": "ipython",
    "version": 3
   },
   "file_extension": ".py",
   "mimetype": "text/x-python",
   "name": "python",
   "nbconvert_exporter": "python",
   "pygments_lexer": "ipython3",
   "version": "3.7.4"
  }
 },
 "nbformat": 4,
 "nbformat_minor": 5
}
