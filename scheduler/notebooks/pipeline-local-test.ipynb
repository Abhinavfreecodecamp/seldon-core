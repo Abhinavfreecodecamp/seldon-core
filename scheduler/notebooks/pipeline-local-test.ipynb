{
 "cells": [
  {
   "cell_type": "markdown",
   "id": "excellent-shower",
   "metadata": {},
   "source": [
    "# Pipeline Local Test\n"
   ]
  },
  {
   "cell_type": "markdown",
   "id": "active-appraisal",
   "metadata": {},
   "source": [
    "To test pipeline status updates run in a separate terminal\n",
    "\n",
    "```bash\n",
    "grpcurl -d '{\"subscriberName\":\"foo\"}' -plaintext -import-path ../../apis -proto ../../apis/mlops/scheduler/scheduler.proto  0.0.0.0:9004 seldon.mlops.scheduler.Scheduler/SubscribePipelineStatus\n",
    "```"
   ]
  },
  {
   "cell_type": "code",
   "execution_count": null,
   "id": "pending-poverty",
   "metadata": {},
   "outputs": [],
   "source": [
    "!grpcurl -d '{\"pipeline\":{ \\\n",
    "              \"name\": \"pipeline1\",\\\n",
    "              \"steps\": [\\\n",
    "                 {\"name\":\"a\"}, \\\n",
    "                 {\"name\":\"b\",\"inputs\":[\"a\"]} \\\n",
    "              ], \\\n",
    "              \"output\":{\"inputs\":\"b\"}}}' \\\n",
    "         -plaintext \\\n",
    "         -import-path ../../apis \\\n",
    "         -proto ../../apis/mlops/scheduler/scheduler.proto  0.0.0.0:9004 seldon.mlops.scheduler.Scheduler/LoadPipeline"
   ]
  },
  {
   "cell_type": "code",
   "execution_count": null,
   "id": "certified-planner",
   "metadata": {},
   "outputs": [],
   "source": [
    "!grpcurl -d '{\"name\":\"pipeline1\",\"allVersions\":true}' \\\n",
    "         -plaintext \\\n",
    "         -import-path ../../apis \\\n",
    "         -proto ../../apis/mlops/scheduler/scheduler.proto  0.0.0.0:9004 seldon.mlops.scheduler.Scheduler/PipelineStatus"
   ]
  },
  {
   "cell_type": "code",
   "execution_count": null,
   "id": "funded-blink",
   "metadata": {},
   "outputs": [],
   "source": [
    "!grpcurl -d '{\"pipeline\":{ \\\n",
    "              \"name\": \"pipeline1\",\\\n",
    "              \"steps\": [\\\n",
    "                 {\"name\":\"a\"}, \\\n",
    "                 {\"name\":\"b\",\"inputs\":[\"a\"]}, \\\n",
    "                 {\"name\":\"c\",\"inputs\":[\"b\"]} \\\n",
    "              ], \\\n",
    "              \"output\":{\"inputs\":\"c\"}}}' \\\n",
    "         -plaintext \\\n",
    "         -import-path ../../apis \\\n",
    "         -proto ../../apis/mlops/scheduler/scheduler.proto  0.0.0.0:9004 seldon.mlops.scheduler.Scheduler/LoadPipeline"
   ]
  },
  {
   "cell_type": "code",
   "execution_count": null,
   "id": "demanding-pitch",
   "metadata": {},
   "outputs": [],
   "source": [
    "!grpcurl -d '{\"name\":\"pipeline1\",\"allVersions\":true}' \\\n",
    "         -plaintext \\\n",
    "         -import-path ../../apis \\\n",
    "         -proto ../../apis/mlops/scheduler/scheduler.proto  0.0.0.0:9004 seldon.mlops.scheduler.Scheduler/PipelineStatus"
   ]
  },
  {
   "cell_type": "code",
   "execution_count": null,
   "id": "daily-chemistry",
   "metadata": {
    "scrolled": true
   },
   "outputs": [],
   "source": [
    "!grpcurl -d '{\"name\":\"pipeline1\"}' \\\n",
    "         -plaintext \\\n",
    "         -import-path ../../apis \\\n",
    "         -proto ../../apis/mlops/scheduler/scheduler.proto  0.0.0.0:9004 seldon.mlops.scheduler.Scheduler/UnloadPipeline"
   ]
  },
  {
   "cell_type": "code",
   "execution_count": null,
   "id": "transparent-marriage",
   "metadata": {
    "scrolled": true
   },
   "outputs": [],
   "source": [
    "!grpcurl -d '{\"name\":\"pipeline1\",\"allVersions\":true}' \\\n",
    "         -plaintext \\\n",
    "         -import-path ../../apis \\\n",
    "         -proto ../../apis/mlops/scheduler/scheduler.proto  0.0.0.0:9004 seldon.mlops.scheduler.Scheduler/PipelineStatus"
   ]
  },
  {
   "cell_type": "code",
   "execution_count": null,
   "id": "official-rehabilitation",
   "metadata": {},
   "outputs": [],
   "source": []
  }
 ],
 "metadata": {
  "kernelspec": {
   "display_name": "Python 3",
   "language": "python",
   "name": "python3"
  },
  "language_info": {
   "codemirror_mode": {
    "name": "ipython",
    "version": 3
   },
   "file_extension": ".py",
   "mimetype": "text/x-python",
   "name": "python",
   "nbconvert_exporter": "python",
   "pygments_lexer": "ipython3",
   "version": "3.7.4"
  }
 },
 "nbformat": 4,
 "nbformat_minor": 5
}
