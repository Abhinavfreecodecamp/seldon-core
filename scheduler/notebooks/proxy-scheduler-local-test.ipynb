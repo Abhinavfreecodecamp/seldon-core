{
 "cells": [
  {
   "cell_type": "markdown",
   "id": "forced-trading",
   "metadata": {},
   "source": [
    "# Proxy Scheduler Local Test\n",
    "\n",
    "\n",
    "## Setup\n",
    "\n",
    "\n",
    "* `make start-proxy` \n",
    "* `make start-mlserver`\n",
    "* `make start-rclone`\n",
    "* `make start-agent`"
   ]
  },
  {
   "cell_type": "markdown",
   "id": "virgin-guide",
   "metadata": {},
   "source": [
    "## No Auth Example"
   ]
  },
  {
   "cell_type": "code",
   "execution_count": 17,
   "id": "unusual-mills",
   "metadata": {},
   "outputs": [
    {
     "name": "stdout",
     "output_type": "stream",
     "text": [
      "{\r\n",
      "  \r\n",
      "}\r\n"
     ]
    }
   ],
   "source": [
    "!grpcurl -d '{\"request\": {\"model\":{\"name\":\"iris\",\"version\":\"2\",\"uri\":\"gs://seldon-models/mlserver/iris\",\\\n",
    "         \"requirements\":[\"sklearn\"],\\\n",
    "         \"memoryBytes\":500,\\\n",
    "         \"replicas\":1}}}' \\\n",
    "         -plaintext \\\n",
    "         -import-path ../apis/mlops/proxy \\\n",
    "         -import-path ../apis/mlops/scheduler \\\n",
    "         -proto proxy.proto  0.0.0.0:8100 seldon.mlops.proxy.SchedulerProxy/LoadModel"
   ]
  }
 ],
 "metadata": {
  "kernelspec": {
   "display_name": "Python 3 (ipykernel)",
   "language": "python",
   "name": "python3"
  },
  "language_info": {
   "codemirror_mode": {
    "name": "ipython",
    "version": 3
   },
   "file_extension": ".py",
   "mimetype": "text/x-python",
   "name": "python",
   "nbconvert_exporter": "python",
   "pygments_lexer": "ipython3",
   "version": "3.9.5"
  }
 },
 "nbformat": 4,
 "nbformat_minor": 5
}
