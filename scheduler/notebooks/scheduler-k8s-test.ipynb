{
 "cells": [
  {
   "cell_type": "markdown",
   "id": "offshore-offense",
   "metadata": {},
   "source": [
    "# Scheduler K8S Test\n",
    "\n",
    "Assumes you have a Kind cluster running with metallb. No other dependencies required.\n",
    "You can use [Seldon Ansible Kind Playbook](https://github.com/SeldonIO/ansible-k8s-collection/blob/master/playbooks/kind.yaml)\n",
    "\n",
    "## Setup\n",
    "\n",
    "* `make kind-image-install-all`\n",
    "* `make deploy` \n"
   ]
  },
  {
   "cell_type": "code",
   "execution_count": 241,
   "id": "second-microphone",
   "metadata": {},
   "outputs": [],
   "source": [
    "SCHEDULER_IP=!kubectl get svc seldon-scheduler -n seldon-mesh -o jsonpath='{.status.loadBalancer.ingress[0].ip}'\n",
    "SCHEDULER_IP=SCHEDULER_IP[0]\n",
    "import os\n",
    "os.environ['SCHEDULER_IP'] = SCHEDULER_IP"
   ]
  },
  {
   "cell_type": "code",
   "execution_count": 242,
   "id": "amateur-fundamentals",
   "metadata": {},
   "outputs": [],
   "source": [
    "MESH_IP=!kubectl get svc seldon-mesh -n seldon-mesh -o jsonpath='{.status.loadBalancer.ingress[0].ip}'\n",
    "MESH_IP=MESH_IP[0]\n",
    "import os\n",
    "os.environ['MESH_IP'] = MESH_IP"
   ]
  },
  {
   "cell_type": "markdown",
   "id": "following-stanley",
   "metadata": {},
   "source": [
    "## No Auth Example"
   ]
  },
  {
   "cell_type": "code",
   "execution_count": 152,
   "id": "welcome-worst",
   "metadata": {},
   "outputs": [
    {
     "name": "stdout",
     "output_type": "stream",
     "text": [
      "{\r\n",
      "  \r\n",
      "}\r\n"
     ]
    }
   ],
   "source": [
    "!grpcurl -d '{\"model\":{ \\\n",
    "              \"meta\":{\"name\":\"iris\"},\\\n",
    "              \"modelSpec\":{\"uri\":\"gs://seldon-models/mlserver/iris\",\\\n",
    "                           \"requirements\":[\"sklearn\"],\\\n",
    "                           \"memoryBytes\":50000},\\\n",
    "              \"deploymentSpec\":{\"replicas\":2}}}' \\\n",
    "         -plaintext \\\n",
    "         -import-path ../../apis \\\n",
    "         -proto ../../apis/mlops/scheduler/scheduler.proto  ${SCHEDULER_IP}:9004 seldon.mlops.scheduler.Scheduler/LoadModel"
   ]
  },
  {
   "cell_type": "code",
   "execution_count": 153,
   "id": "protective-asthma",
   "metadata": {
    "scrolled": true
   },
   "outputs": [
    {
     "name": "stdout",
     "output_type": "stream",
     "text": [
      "{\r\n",
      "  \"modelName\": \"iris\",\r\n",
      "  \"versions\": [\r\n",
      "    {\r\n",
      "      \"version\": 1,\r\n",
      "      \"serverName\": \"mlserver\",\r\n",
      "      \"modelReplicaState\": {\r\n",
      "        \"1\": {\r\n",
      "          \"state\": \"Available\",\r\n",
      "          \"lastChangeTimestamp\": \"2021-12-24T19:11:11.756546197Z\"\r\n",
      "        },\r\n",
      "        \"2\": {\r\n",
      "          \"state\": \"Available\",\r\n",
      "          \"lastChangeTimestamp\": \"2021-12-24T19:11:11.756629528Z\"\r\n",
      "        }\r\n",
      "      },\r\n",
      "      \"state\": {\r\n",
      "        \"state\": \"ModelAvailable\",\r\n",
      "        \"availableReplicas\": 2,\r\n",
      "        \"lastChangeTimestamp\": \"2021-12-24T19:11:11.756629528Z\"\r\n",
      "      }\r\n",
      "    }\r\n",
      "  ]\r\n",
      "}\r\n"
     ]
    }
   ],
   "source": [
    "!grpcurl -d '{\"model\":{\"name\":\"iris\"}}' \\\n",
    "         -plaintext \\\n",
    "         -import-path ../../apis \\\n",
    "         -proto ../../apis/mlops/scheduler/scheduler.proto  ${SCHEDULER_IP}:9004 seldon.mlops.scheduler.Scheduler/ModelStatus"
   ]
  },
  {
   "cell_type": "code",
   "execution_count": 154,
   "id": "experienced-threshold",
   "metadata": {
    "scrolled": true
   },
   "outputs": [
    {
     "name": "stdout",
     "output_type": "stream",
     "text": [
      "* Expire in 0 ms for 6 (transfer 0x55f00ce8b4f0)\n",
      "*   Trying 172.18.255.3...\n",
      "* TCP_NODELAY set\n",
      "* Expire in 200 ms for 4 (transfer 0x55f00ce8b4f0)\n",
      "* Connected to 172.18.255.3 (172.18.255.3) port 80 (#0)\n",
      "> POST /v2/models/iris/infer HTTP/1.1\n",
      "> Host: iris\n",
      "> User-Agent: curl/7.64.0\n",
      "> Accept: */*\n",
      "> Content-Type: application/json\n",
      "> Content-Length: 94\n",
      "> \n",
      "* upload completely sent off: 94 out of 94 bytes\n",
      "< HTTP/1.1 200 OK\n",
      "< date: Fri, 24 Dec 2021 19:11:20 GMT\n",
      "< server: envoy\n",
      "< content-length: 194\n",
      "< content-type: application/json\n",
      "< x-envoy-upstream-service-time: 1132\n",
      "< \n",
      "* Connection #0 to host 172.18.255.3 left intact\n",
      "{\"model_name\":\"iris\",\"model_version\":\"1\",\"id\":\"8c68aa5a-8dbb-4f8f-be8b-5b80434d77b9\",\"parameters\":null,\"outputs\":[{\"name\":\"predict\",\"shape\":[1],\"datatype\":\"INT64\",\"parameters\":null,\"data\":[2]}]}"
     ]
    }
   ],
   "source": [
    "!curl -v http://${MESH_IP}/v2/models/iris/infer -H \"Content-Type: application/json\" -H \"Host: iris\"\\\n",
    "        -d '{\"inputs\": [{\"name\": \"predict\", \"shape\": [1, 4], \"datatype\": \"FP32\", \"data\": [[1, 2, 3, 4]]}]}'"
   ]
  },
  {
   "cell_type": "code",
   "execution_count": 155,
   "id": "single-throw",
   "metadata": {},
   "outputs": [
    {
     "name": "stdout",
     "output_type": "stream",
     "text": [
      "{\r\n",
      "  \"modelName\": \"iris\",\r\n",
      "  \"modelVersion\": \"1\",\r\n",
      "  \"outputs\": [\r\n",
      "    {\r\n",
      "      \"name\": \"predict\",\r\n",
      "      \"datatype\": \"INT64\",\r\n",
      "      \"shape\": [\r\n",
      "        \"1\"\r\n",
      "      ],\r\n",
      "      \"contents\": {\r\n",
      "        \"int64Contents\": [\r\n",
      "          \"2\"\r\n",
      "        ]\r\n",
      "      }\r\n",
      "    }\r\n",
      "  ]\r\n",
      "}\r\n"
     ]
    }
   ],
   "source": [
    "!cd ../v2 && \\\n",
    "    grpcurl -d '{\"model_name\":\"iris\",\"inputs\":[{\"name\":\"input\",\"contents\":{\"fp32_contents\":[1,2,3,4]},\"datatype\":\"FP32\",\"shape\":[1,4]}]}' \\\n",
    "        -plaintext \\\n",
    "        -proto grpc_service.proto \\\n",
    "        -rpc-header Seldon:iris \\\n",
    "       ${MESH_IP}:80 inference.GRPCInferenceService/ModelInfer"
   ]
  },
  {
   "cell_type": "code",
   "execution_count": 156,
   "id": "secure-column",
   "metadata": {
    "scrolled": false
   },
   "outputs": [
    {
     "name": "stdout",
     "output_type": "stream",
     "text": [
      "{\r\n",
      "  \"serverName\": \"mlserver\",\r\n",
      "  \"resources\": [\r\n",
      "    {\r\n",
      "      \"memory\": \"100000\",\r\n",
      "      \"availableMemoryBytes\": \"50000\"\r\n",
      "    },\r\n",
      "    {\r\n",
      "      \"memory\": \"100000\",\r\n",
      "      \"availableMemoryBytes\": \"50000\"\r\n",
      "    },\r\n",
      "    {\r\n",
      "      \"memory\": \"100000\",\r\n",
      "      \"availableMemoryBytes\": \"100000\"\r\n",
      "    }\r\n",
      "  ]\r\n",
      "}\r\n"
     ]
    }
   ],
   "source": [
    "!grpcurl -d '{\"name\":\"mlserver\"}' \\\n",
    "         -plaintext \\\n",
    "         -import-path ../../apis \\\n",
    "         -proto ../../apis/mlops/scheduler/scheduler.proto  ${SCHEDULER_IP}:9004 seldon.mlops.scheduler.Scheduler/ServerStatus"
   ]
  },
  {
   "cell_type": "code",
   "execution_count": 157,
   "id": "mysterious-masters",
   "metadata": {},
   "outputs": [
    {
     "name": "stdout",
     "output_type": "stream",
     "text": [
      "{\r\n",
      "  \r\n",
      "}\r\n"
     ]
    }
   ],
   "source": [
    "!grpcurl -d '{\"model\":{\"name\":\"iris\"}}' \\\n",
    "         -plaintext \\\n",
    "         -import-path ../../apis \\\n",
    "         -proto ../../apis/mlops/scheduler/scheduler.proto  ${SCHEDULER_IP}:9004 seldon.mlops.scheduler.Scheduler/UnloadModel"
   ]
  },
  {
   "cell_type": "code",
   "execution_count": 158,
   "id": "civil-visit",
   "metadata": {},
   "outputs": [
    {
     "name": "stdout",
     "output_type": "stream",
     "text": [
      "* Expire in 0 ms for 6 (transfer 0x55e7e994c4f0)\r\n",
      "*   Trying 172.18.255.3...\r\n",
      "* TCP_NODELAY set\r\n",
      "* Expire in 200 ms for 4 (transfer 0x55e7e994c4f0)\r\n",
      "* Connected to 172.18.255.3 (172.18.255.3) port 80 (#0)\r\n",
      "> POST /v2/models/iris/infer HTTP/1.1\r",
      "\r\n",
      "> Host: iris\r",
      "\r\n",
      "> User-Agent: curl/7.64.0\r",
      "\r\n",
      "> Accept: */*\r",
      "\r\n",
      "> Content-Type: application/json\r",
      "\r\n",
      "> Content-Length: 94\r",
      "\r\n",
      "> \r",
      "\r\n",
      "* upload completely sent off: 94 out of 94 bytes\r\n",
      "< HTTP/1.1 404 Not Found\r",
      "\r\n",
      "< date: Fri, 24 Dec 2021 19:11:49 GMT\r",
      "\r\n",
      "< server: envoy\r",
      "\r\n",
      "< connection: close\r",
      "\r\n",
      "< content-length: 0\r",
      "\r\n",
      "< \r",
      "\r\n",
      "* Closing connection 0\r\n"
     ]
    }
   ],
   "source": [
    "!curl -v http://${MESH_IP}/v2/models/iris/infer -H \"Content-Type: application/json\" -H \"Host: iris\"\\\n",
    "        -d '{\"inputs\": [{\"name\": \"predict\", \"shape\": [1, 4], \"datatype\": \"FP32\", \"data\": [[1, 2, 3, 4]]}]}'"
   ]
  },
  {
   "cell_type": "code",
   "execution_count": 159,
   "id": "disturbed-princeton",
   "metadata": {},
   "outputs": [
    {
     "name": "stdout",
     "output_type": "stream",
     "text": [
      "ERROR:\r\n",
      "  Code: FailedPrecondition\r\n",
      "  Message: Failed to find model iris\r\n"
     ]
    }
   ],
   "source": [
    "!grpcurl -d '{\"model\":{\"name\":\"iris\"}}' \\\n",
    "         -plaintext \\\n",
    "         -import-path ../../apis \\\n",
    "         -proto ../../apis/mlops/scheduler/scheduler.proto  ${SCHEDULER_IP}:9004 seldon.mlops.scheduler.Scheduler/ModelStatus"
   ]
  },
  {
   "cell_type": "code",
   "execution_count": 160,
   "id": "cheap-toilet",
   "metadata": {
    "scrolled": false
   },
   "outputs": [
    {
     "name": "stdout",
     "output_type": "stream",
     "text": [
      "{\r\n",
      "  \"serverName\": \"mlserver\",\r\n",
      "  \"resources\": [\r\n",
      "    {\r\n",
      "      \"memory\": \"100000\",\r\n",
      "      \"availableMemoryBytes\": \"100000\"\r\n",
      "    },\r\n",
      "    {\r\n",
      "      \"memory\": \"100000\",\r\n",
      "      \"availableMemoryBytes\": \"100000\"\r\n",
      "    },\r\n",
      "    {\r\n",
      "      \"memory\": \"100000\",\r\n",
      "      \"availableMemoryBytes\": \"100000\"\r\n",
      "    }\r\n",
      "  ]\r\n",
      "}\r\n"
     ]
    }
   ],
   "source": [
    "!grpcurl -d '{\"name\":\"mlserver\"}' \\\n",
    "         -plaintext \\\n",
    "         -import-path ../../apis \\\n",
    "         -proto ../../apis/mlops/scheduler/scheduler.proto  ${SCHEDULER_IP}:9004 seldon.mlops.scheduler.Scheduler/ServerStatus"
   ]
  },
  {
   "cell_type": "markdown",
   "id": "tender-resolution",
   "metadata": {},
   "source": [
    "## Auth Preparation - Prepare Minio with Iris Model\n",
    "\n",
    "Install minio in a kind cluster with Ansible.\n",
    "\n",
    "Create rclone.conf changing the ip address for minio as appropriate\n",
    "\n",
    "```\n",
    "[s3]\n",
    "type = s3\n",
    "provider = minio\n",
    "env_auth = false\n",
    "access_key_id = minioadmin\n",
    "secret_access_key = minioadmin\n",
    "endpoint = http://172.18.255.1:9000\n",
    "```\n",
    "  \n",
    " Copy iris model to minio\n",
    " \n",
    " ```\n",
    " rclone --config ./rclone.conf copy mlrepo/iris s3://test\n",
    " ```"
   ]
  },
  {
   "cell_type": "markdown",
   "id": "according-desert",
   "metadata": {},
   "source": [
    "## Inline RClone Config Example\n",
    "\n",
    "Before running this \n",
    "  * Update ip address for exposed minio ip address in example below\n",
    "  \n"
   ]
  },
  {
   "cell_type": "code",
   "execution_count": 161,
   "id": "silent-profit",
   "metadata": {},
   "outputs": [
    {
     "name": "stdout",
     "output_type": "stream",
     "text": [
      "\r\n"
     ]
    }
   ],
   "source": [
    "!grpcurl --format text -d '\\\n",
    "         model { \\\n",
    "            meta: { name:\"iris\"},\\\n",
    "            modelSpec: {uri:\"s3://models/iris\",\\\n",
    "                        storageConfig: { \\\n",
    "                        storageRcloneConfig: \"{\\\"type\\\":\\\"s3\\\",\\\"name\\\":\\\"s3\\\",\\\"parameters\\\":{\\\"provider\\\":\\\"minio\\\",\\\"env_auth\\\":\\\"false\\\",\\\"access_key_id\\\":\\\"minioadmin\\\",\\\"secret_access_key\\\":\\\"minioadmin\\\",\\\"endpoint\\\":\\\"http://172.18.255.1:9000\\\"}}\" \\\n",
    "     } \\\n",
    "                        requirements:[\"sklearn\"],\\\n",
    "                        memoryBytes:500},\\\n",
    "            deploymentSpec:{replicas:1}}' \\\n",
    "         -plaintext \\\n",
    "         -import-path ../../apis \\\n",
    "         -proto ../../apis/mlops/scheduler/scheduler.proto  ${SCHEDULER_IP}:9004 seldon.mlops.scheduler.Scheduler/LoadModel"
   ]
  },
  {
   "cell_type": "code",
   "execution_count": 162,
   "id": "breeding-barcelona",
   "metadata": {},
   "outputs": [
    {
     "name": "stdout",
     "output_type": "stream",
     "text": [
      "{\r\n",
      "  \"serverName\": \"mlserver\",\r\n",
      "  \"resources\": [\r\n",
      "    {\r\n",
      "      \"memory\": \"100000\",\r\n",
      "      \"availableMemoryBytes\": \"99500\"\r\n",
      "    },\r\n",
      "    {\r\n",
      "      \"memory\": \"100000\",\r\n",
      "      \"availableMemoryBytes\": \"100000\"\r\n",
      "    },\r\n",
      "    {\r\n",
      "      \"memory\": \"100000\",\r\n",
      "      \"availableMemoryBytes\": \"100000\"\r\n",
      "    }\r\n",
      "  ]\r\n",
      "}\r\n"
     ]
    }
   ],
   "source": [
    "!grpcurl -d '{\"name\":\"mlserver\"}' \\\n",
    "         -plaintext \\\n",
    "         -import-path ../../apis \\\n",
    "         -proto ../../apis/mlops/scheduler/scheduler.proto  ${SCHEDULER_IP}:9004 seldon.mlops.scheduler.Scheduler/ServerStatus"
   ]
  },
  {
   "cell_type": "code",
   "execution_count": 163,
   "id": "supreme-fraction",
   "metadata": {
    "scrolled": true
   },
   "outputs": [
    {
     "name": "stdout",
     "output_type": "stream",
     "text": [
      "* Expire in 0 ms for 6 (transfer 0x55aeb90b84f0)\n",
      "*   Trying 172.18.255.3...\n",
      "* TCP_NODELAY set\n",
      "* Expire in 200 ms for 4 (transfer 0x55aeb90b84f0)\n",
      "* Connected to 172.18.255.3 (172.18.255.3) port 80 (#0)\n",
      "> POST /v2/models/iris/infer HTTP/1.1\n",
      "> Host: iris\n",
      "> User-Agent: curl/7.64.0\n",
      "> Accept: */*\n",
      "> Content-Type: application/json\n",
      "> Content-Length: 94\n",
      "> \n",
      "* upload completely sent off: 94 out of 94 bytes\n",
      "< HTTP/1.1 200 OK\n",
      "< date: Fri, 24 Dec 2021 19:12:00 GMT\n",
      "< server: envoy\n",
      "< content-length: 194\n",
      "< content-type: application/json\n",
      "< x-envoy-upstream-service-time: 1015\n",
      "< \n",
      "* Connection #0 to host 172.18.255.3 left intact\n",
      "{\"model_name\":\"iris\",\"model_version\":\"1\",\"id\":\"506618dc-9b16-44c2-b160-0b82e9c78e4d\",\"parameters\":null,\"outputs\":[{\"name\":\"predict\",\"shape\":[1],\"datatype\":\"INT64\",\"parameters\":null,\"data\":[2]}]}"
     ]
    }
   ],
   "source": [
    "!curl -v http://${MESH_IP}/v2/models/iris/infer -H \"Content-Type: application/json\" -H \"Host: iris\"\\\n",
    "        -d '{\"inputs\": [{\"name\": \"predict\", \"shape\": [1, 4], \"datatype\": \"FP32\", \"data\": [[1, 2, 3, 4]]}]}'"
   ]
  },
  {
   "cell_type": "code",
   "execution_count": 164,
   "id": "cardiac-november",
   "metadata": {},
   "outputs": [
    {
     "name": "stdout",
     "output_type": "stream",
     "text": [
      "{\r\n",
      "  \"modelName\": \"iris\",\r\n",
      "  \"modelVersion\": \"1\",\r\n",
      "  \"outputs\": [\r\n",
      "    {\r\n",
      "      \"name\": \"predict\",\r\n",
      "      \"datatype\": \"INT64\",\r\n",
      "      \"shape\": [\r\n",
      "        \"1\"\r\n",
      "      ],\r\n",
      "      \"contents\": {\r\n",
      "        \"int64Contents\": [\r\n",
      "          \"2\"\r\n",
      "        ]\r\n",
      "      }\r\n",
      "    }\r\n",
      "  ]\r\n",
      "}\r\n"
     ]
    }
   ],
   "source": [
    "!cd ../v2 && \\\n",
    "    grpcurl -d '{\"model_name\":\"iris\",\"inputs\":[{\"name\":\"input\",\"contents\":{\"fp32_contents\":[1,2,3,4]},\"datatype\":\"FP32\",\"shape\":[1,4]}]}' \\\n",
    "        -plaintext \\\n",
    "        -proto grpc_service.proto \\\n",
    "        -rpc-header Seldon:iris \\\n",
    "       ${MESH_IP}:80 inference.GRPCInferenceService/ModelInfer"
   ]
  },
  {
   "cell_type": "code",
   "execution_count": 165,
   "id": "inappropriate-protocol",
   "metadata": {},
   "outputs": [
    {
     "name": "stdout",
     "output_type": "stream",
     "text": [
      "{\r\n",
      "  \r\n",
      "}\r\n"
     ]
    }
   ],
   "source": [
    "!grpcurl -d '{\"model\":{\"name\":\"iris\"}}' \\\n",
    "         -plaintext \\\n",
    "         -import-path ../../apis \\\n",
    "         -proto ../../apis/mlops/scheduler/scheduler.proto  ${SCHEDULER_IP}:9004 seldon.mlops.scheduler.Scheduler/UnloadModel"
   ]
  },
  {
   "cell_type": "markdown",
   "id": "stunning-investing",
   "metadata": {},
   "source": [
    "## K8S Secret RClone Config Example\n",
    "\n",
    " * Update endpoint for minio below"
   ]
  },
  {
   "cell_type": "code",
   "execution_count": 166,
   "id": "capital-bloom",
   "metadata": {},
   "outputs": [
    {
     "name": "stdout",
     "output_type": "stream",
     "text": [
      "Overwriting minio-secret.yaml\n"
     ]
    }
   ],
   "source": [
    "%%writefile minio-secret.yaml\n",
    "apiVersion: v1\n",
    "kind: Secret\n",
    "metadata:\n",
    "  name: minio-secret\n",
    "  namespace: seldon-mesh\n",
    "type: Opaque\n",
    "stringData:\n",
    "  s3: |\n",
    "    type: s3\n",
    "    name: s3\n",
    "    parameters:\n",
    "      provider: minio\n",
    "      env_auth: false\n",
    "      access_key_id: minioadmin\n",
    "      secret_access_key: minioadmin\n",
    "      endpoint: http://minio.minio-system:9000"
   ]
  },
  {
   "cell_type": "code",
   "execution_count": 167,
   "id": "aware-assessment",
   "metadata": {},
   "outputs": [
    {
     "name": "stdout",
     "output_type": "stream",
     "text": [
      "secret/minio-secret configured\r\n"
     ]
    }
   ],
   "source": [
    "!kubectl apply -f minio-secret.yaml"
   ]
  },
  {
   "cell_type": "code",
   "execution_count": 168,
   "id": "needed-grammar",
   "metadata": {},
   "outputs": [
    {
     "name": "stdout",
     "output_type": "stream",
     "text": [
      "\r\n"
     ]
    }
   ],
   "source": [
    "!grpcurl --format text -d '\\\n",
    "         model { \\\n",
    "            meta: { name:\"iris\"\\\n",
    "                    kubernetesMeta: {namespace: \"seldon-mesh\"}},\\\n",
    "            modelSpec: {uri:\"s3://models/iris\",\\\n",
    "                        storageConfig: { \\\n",
    "                          storageSecretName: \"minio-secret\" \\\n",
    "                         } \\\n",
    "                        requirements:[\"sklearn\"],\\\n",
    "                        memoryBytes:500},\\\n",
    "            deploymentSpec:{replicas:1}}' \\\n",
    "         -plaintext \\\n",
    "         -import-path ../../apis \\\n",
    "         -proto ../../apis/mlops/scheduler/scheduler.proto  ${SCHEDULER_IP}:9004 seldon.mlops.scheduler.Scheduler/LoadModel"
   ]
  },
  {
   "cell_type": "code",
   "execution_count": 169,
   "id": "unlikely-eating",
   "metadata": {
    "scrolled": true
   },
   "outputs": [
    {
     "name": "stdout",
     "output_type": "stream",
     "text": [
      "{\r\n",
      "  \"serverName\": \"mlserver\",\r\n",
      "  \"resources\": [\r\n",
      "    {\r\n",
      "      \"memory\": \"100000\",\r\n",
      "      \"availableMemoryBytes\": \"99500\"\r\n",
      "    },\r\n",
      "    {\r\n",
      "      \"memory\": \"100000\",\r\n",
      "      \"availableMemoryBytes\": \"100000\"\r\n",
      "    },\r\n",
      "    {\r\n",
      "      \"memory\": \"100000\",\r\n",
      "      \"availableMemoryBytes\": \"100000\"\r\n",
      "    }\r\n",
      "  ]\r\n",
      "}\r\n"
     ]
    }
   ],
   "source": [
    "!grpcurl -d '{\"name\":\"mlserver\"}' \\\n",
    "         -plaintext \\\n",
    "         -import-path ../../apis \\\n",
    "         -proto ../../apis/mlops/scheduler/scheduler.proto  ${SCHEDULER_IP}:9004 seldon.mlops.scheduler.Scheduler/ServerStatus"
   ]
  },
  {
   "cell_type": "code",
   "execution_count": 170,
   "id": "behavioral-factor",
   "metadata": {
    "scrolled": true
   },
   "outputs": [
    {
     "name": "stdout",
     "output_type": "stream",
     "text": [
      "* Expire in 0 ms for 6 (transfer 0x563c9b4be4f0)\n",
      "*   Trying 172.18.255.3...\n",
      "* TCP_NODELAY set\n",
      "* Expire in 200 ms for 4 (transfer 0x563c9b4be4f0)\n",
      "* Connected to 172.18.255.3 (172.18.255.3) port 80 (#0)\n",
      "> POST /v2/models/iris/infer HTTP/1.1\n",
      "> Host: iris\n",
      "> User-Agent: curl/7.64.0\n",
      "> Accept: */*\n",
      "> Content-Type: application/json\n",
      "> Content-Length: 94\n",
      "> \n",
      "* upload completely sent off: 94 out of 94 bytes\n",
      "< HTTP/1.1 200 OK\n",
      "< date: Fri, 24 Dec 2021 19:12:24 GMT\n",
      "< server: envoy\n",
      "< content-length: 194\n",
      "< content-type: application/json\n",
      "< x-envoy-upstream-service-time: 1223\n",
      "< \n",
      "* Connection #0 to host 172.18.255.3 left intact\n",
      "{\"model_name\":\"iris\",\"model_version\":\"1\",\"id\":\"8a9c59bb-fb53-4bf5-8812-ce4e86bcf1fb\",\"parameters\":null,\"outputs\":[{\"name\":\"predict\",\"shape\":[1],\"datatype\":\"INT64\",\"parameters\":null,\"data\":[2]}]}"
     ]
    }
   ],
   "source": [
    "!curl -v http://${MESH_IP}/v2/models/iris/infer -H \"Content-Type: application/json\" -H \"Host: iris\"\\\n",
    "        -d '{\"inputs\": [{\"name\": \"predict\", \"shape\": [1, 4], \"datatype\": \"FP32\", \"data\": [[1, 2, 3, 4]]}]}'"
   ]
  },
  {
   "cell_type": "code",
   "execution_count": 171,
   "id": "organizational-wisdom",
   "metadata": {},
   "outputs": [
    {
     "name": "stdout",
     "output_type": "stream",
     "text": [
      "{\r\n",
      "  \"modelName\": \"iris\",\r\n",
      "  \"modelVersion\": \"1\",\r\n",
      "  \"outputs\": [\r\n",
      "    {\r\n",
      "      \"name\": \"predict\",\r\n",
      "      \"datatype\": \"INT64\",\r\n",
      "      \"shape\": [\r\n",
      "        \"1\"\r\n",
      "      ],\r\n",
      "      \"contents\": {\r\n",
      "        \"int64Contents\": [\r\n",
      "          \"2\"\r\n",
      "        ]\r\n",
      "      }\r\n",
      "    }\r\n",
      "  ]\r\n",
      "}\r\n"
     ]
    }
   ],
   "source": [
    "!cd ../v2 && \\\n",
    "    grpcurl -d '{\"model_name\":\"iris\",\"inputs\":[{\"name\":\"input\",\"contents\":{\"fp32_contents\":[1,2,3,4]},\"datatype\":\"FP32\",\"shape\":[1,4]}]}' \\\n",
    "        -plaintext \\\n",
    "        -proto grpc_service.proto \\\n",
    "        -rpc-header Seldon:iris \\\n",
    "       ${MESH_IP}:80 inference.GRPCInferenceService/ModelInfer"
   ]
  },
  {
   "cell_type": "code",
   "execution_count": 172,
   "id": "swedish-annual",
   "metadata": {},
   "outputs": [
    {
     "name": "stdout",
     "output_type": "stream",
     "text": [
      "{\r\n",
      "  \r\n",
      "}\r\n"
     ]
    }
   ],
   "source": [
    "!grpcurl -d '{\"model\":{\"name\":\"iris\"}}' \\\n",
    "         -plaintext \\\n",
    "         -import-path ../../apis \\\n",
    "         -proto ../../apis/mlops/scheduler/scheduler.proto  ${SCHEDULER_IP}:9004 seldon.mlops.scheduler.Scheduler/UnloadModel"
   ]
  },
  {
   "cell_type": "markdown",
   "id": "tropical-texas",
   "metadata": {},
   "source": [
    "## Using Agent ConfigMap\n",
    "\n",
    " * Edit the AgentConfig map to include the `minio-secret` as one of the rclone defaults, e.g.:\n",
    " \n",
    " ```\n",
    " apiVersion: v1\n",
    "kind: ConfigMap\n",
    "metadata:\n",
    "  name: seldon-agent\n",
    "data:\n",
    "  agent.json: |-\n",
    "    {\n",
    "       \"rclone\" : {\n",
    "           \"config_secrets\": [\"seldon-rclone-gs-public\",\"minio-secret\"]\n",
    "       },\n",
    "    }\n",
    "\n",
    " ```"
   ]
  },
  {
   "cell_type": "code",
   "execution_count": 173,
   "id": "foster-trace",
   "metadata": {},
   "outputs": [
    {
     "name": "stdout",
     "output_type": "stream",
     "text": [
      "Overwriting minio-secret.yaml\n"
     ]
    }
   ],
   "source": [
    "%%writefile minio-secret.yaml\n",
    "apiVersion: v1\n",
    "kind: Secret\n",
    "metadata:\n",
    "  name: minio-secret\n",
    "  namespace: seldon-mesh\n",
    "type: Opaque\n",
    "stringData:\n",
    "  s3: |\n",
    "    type: s3\n",
    "    name: s3\n",
    "    parameters:\n",
    "      provider: minio\n",
    "      env_auth: false\n",
    "      access_key_id: minioadmin\n",
    "      secret_access_key: minioadmin\n",
    "      endpoint: http://minio.minio-system:9000"
   ]
  },
  {
   "cell_type": "code",
   "execution_count": 174,
   "id": "vocal-bracelet",
   "metadata": {},
   "outputs": [
    {
     "name": "stdout",
     "output_type": "stream",
     "text": [
      "secret/minio-secret configured\r\n"
     ]
    }
   ],
   "source": [
    "!kubectl apply -f minio-secret.yaml"
   ]
  },
  {
   "cell_type": "code",
   "execution_count": 175,
   "id": "powered-analyst",
   "metadata": {},
   "outputs": [
    {
     "name": "stdout",
     "output_type": "stream",
     "text": [
      "\r\n"
     ]
    }
   ],
   "source": [
    "!grpcurl --format text -d '\\\n",
    "         model { \\\n",
    "            meta: { name:\"iris\"\\\n",
    "                    kubernetesMeta: {namespace: \"seldon-mesh\"}},\\\n",
    "            modelSpec: {uri:\"s3://models/iris\",\\\n",
    "                        requirements:[\"sklearn\"],\\\n",
    "                        memoryBytes:500},\\\n",
    "            deploymentSpec:{replicas:1}}' \\\n",
    "         -plaintext \\\n",
    "         -import-path ../../apis \\\n",
    "         -proto ../../apis/mlops/scheduler/scheduler.proto   ${SCHEDULER_IP}:9004 seldon.mlops.scheduler.Scheduler/LoadModel"
   ]
  },
  {
   "cell_type": "code",
   "execution_count": 176,
   "id": "spectacular-short",
   "metadata": {},
   "outputs": [
    {
     "name": "stdout",
     "output_type": "stream",
     "text": [
      "{\r\n",
      "  \"modelName\": \"iris\",\r\n",
      "  \"versions\": [\r\n",
      "    {\r\n",
      "      \"version\": 1,\r\n",
      "      \"serverName\": \"mlserver\",\r\n",
      "      \"kubernetesMeta\": {\r\n",
      "        \"namespace\": \"seldon-mesh\"\r\n",
      "      },\r\n",
      "      \"modelReplicaState\": {\r\n",
      "        \"1\": {\r\n",
      "          \"state\": \"Available\",\r\n",
      "          \"lastChangeTimestamp\": \"2021-12-24T19:13:00.389439933Z\"\r\n",
      "        }\r\n",
      "      },\r\n",
      "      \"state\": {\r\n",
      "        \"state\": \"ModelAvailable\",\r\n",
      "        \"availableReplicas\": 1,\r\n",
      "        \"lastChangeTimestamp\": \"2021-12-24T19:13:00.389439933Z\"\r\n",
      "      }\r\n",
      "    }\r\n",
      "  ]\r\n",
      "}\r\n"
     ]
    }
   ],
   "source": [
    "!grpcurl -d '{\"model\":{\"name\":\"iris\"}}' \\\n",
    "         -plaintext \\\n",
    "         -import-path ../../apis \\\n",
    "         -proto ../../apis/mlops/scheduler/scheduler.proto  ${SCHEDULER_IP}:9004 seldon.mlops.scheduler.Scheduler/ModelStatus"
   ]
  },
  {
   "cell_type": "code",
   "execution_count": 177,
   "id": "royal-zimbabwe",
   "metadata": {
    "scrolled": true
   },
   "outputs": [
    {
     "name": "stdout",
     "output_type": "stream",
     "text": [
      "{\r\n",
      "  \"serverName\": \"mlserver\",\r\n",
      "  \"resources\": [\r\n",
      "    {\r\n",
      "      \"memory\": \"100000\",\r\n",
      "      \"availableMemoryBytes\": \"99500\"\r\n",
      "    },\r\n",
      "    {\r\n",
      "      \"memory\": \"100000\",\r\n",
      "      \"availableMemoryBytes\": \"100000\"\r\n",
      "    },\r\n",
      "    {\r\n",
      "      \"memory\": \"100000\",\r\n",
      "      \"availableMemoryBytes\": \"100000\"\r\n",
      "    }\r\n",
      "  ]\r\n",
      "}\r\n"
     ]
    }
   ],
   "source": [
    "!grpcurl -d '{\"name\":\"mlserver\"}' \\\n",
    "         -plaintext \\\n",
    "         -import-path ../../apis \\\n",
    "         -proto ../../apis/mlops/scheduler/scheduler.proto  ${SCHEDULER_IP}:9004 seldon.mlops.scheduler.Scheduler/ServerStatus"
   ]
  },
  {
   "cell_type": "code",
   "execution_count": 178,
   "id": "graduate-welding",
   "metadata": {
    "scrolled": true
   },
   "outputs": [
    {
     "name": "stdout",
     "output_type": "stream",
     "text": [
      "* Expire in 0 ms for 6 (transfer 0x558e737214f0)\n",
      "*   Trying 172.18.255.3...\n",
      "* TCP_NODELAY set\n",
      "* Expire in 200 ms for 4 (transfer 0x558e737214f0)\n",
      "* Connected to 172.18.255.3 (172.18.255.3) port 80 (#0)\n",
      "> POST /v2/models/iris/infer HTTP/1.1\n",
      "> Host: iris\n",
      "> User-Agent: curl/7.64.0\n",
      "> Accept: */*\n",
      "> Content-Type: application/json\n",
      "> Content-Length: 94\n",
      "> \n",
      "* upload completely sent off: 94 out of 94 bytes\n",
      "< HTTP/1.1 200 OK\n",
      "< date: Fri, 24 Dec 2021 19:13:05 GMT\n",
      "< server: envoy\n",
      "< content-length: 194\n",
      "< content-type: application/json\n",
      "< x-envoy-upstream-service-time: 1326\n",
      "< \n",
      "* Connection #0 to host 172.18.255.3 left intact\n",
      "{\"model_name\":\"iris\",\"model_version\":\"1\",\"id\":\"5dbe5286-ea10-4c22-87cb-b6d549862119\",\"parameters\":null,\"outputs\":[{\"name\":\"predict\",\"shape\":[1],\"datatype\":\"INT64\",\"parameters\":null,\"data\":[2]}]}"
     ]
    }
   ],
   "source": [
    "!curl -v http://${MESH_IP}/v2/models/iris/infer -H \"Content-Type: application/json\" -H \"Host: iris\"\\\n",
    "        -d '{\"inputs\": [{\"name\": \"predict\", \"shape\": [1, 4], \"datatype\": \"FP32\", \"data\": [[1, 2, 3, 4]]}]}'"
   ]
  },
  {
   "cell_type": "code",
   "execution_count": 179,
   "id": "about-china",
   "metadata": {},
   "outputs": [
    {
     "name": "stdout",
     "output_type": "stream",
     "text": [
      "{\r\n",
      "  \"modelName\": \"iris\",\r\n",
      "  \"modelVersion\": \"1\",\r\n",
      "  \"outputs\": [\r\n",
      "    {\r\n",
      "      \"name\": \"predict\",\r\n",
      "      \"datatype\": \"INT64\",\r\n",
      "      \"shape\": [\r\n",
      "        \"1\"\r\n",
      "      ],\r\n",
      "      \"contents\": {\r\n",
      "        \"int64Contents\": [\r\n",
      "          \"2\"\r\n",
      "        ]\r\n",
      "      }\r\n",
      "    }\r\n",
      "  ]\r\n",
      "}\r\n"
     ]
    }
   ],
   "source": [
    "!cd ../v2 && \\\n",
    "    grpcurl -d '{\"model_name\":\"iris\",\"inputs\":[{\"name\":\"input\",\"contents\":{\"fp32_contents\":[1,2,3,4]},\"datatype\":\"FP32\",\"shape\":[1,4]}]}' \\\n",
    "        -plaintext \\\n",
    "        -proto grpc_service.proto \\\n",
    "        -rpc-header Seldon:iris \\\n",
    "       ${MESH_IP}:80 inference.GRPCInferenceService/ModelInfer"
   ]
  },
  {
   "cell_type": "code",
   "execution_count": 180,
   "id": "alternate-keeping",
   "metadata": {},
   "outputs": [
    {
     "name": "stdout",
     "output_type": "stream",
     "text": [
      "{\r\n",
      "  \r\n",
      "}\r\n"
     ]
    }
   ],
   "source": [
    "!grpcurl -d '{\"model\":{\"name\":\"iris\"}}' \\\n",
    "         -plaintext \\\n",
    "         -import-path ../../apis \\\n",
    "         -proto ../../apis/mlops/scheduler/scheduler.proto  ${SCHEDULER_IP}:9004 seldon.mlops.scheduler.Scheduler/UnloadModel"
   ]
  },
  {
   "cell_type": "markdown",
   "id": "satisfied-elephant",
   "metadata": {},
   "source": [
    "## Kubernetes Resource Example\n",
    "\n",
    "Do as above for scheduler setup.\n",
    "\n",
    "Operator Setup: from operator folder run\n",
    "\n",
    " * `make kind-image-load`\n",
    " * `make deploy`"
   ]
  },
  {
   "cell_type": "code",
   "execution_count": 290,
   "id": "stock-trainer",
   "metadata": {},
   "outputs": [
    {
     "name": "stdout",
     "output_type": "stream",
     "text": [
      "model.mlops.seldon.io/iris created\r\n"
     ]
    }
   ],
   "source": [
    "!kubectl create -f ../../operator/samples/models/sklearn-iris-gs.yaml"
   ]
  },
  {
   "cell_type": "code",
   "execution_count": 291,
   "id": "genuine-indiana",
   "metadata": {},
   "outputs": [
    {
     "name": "stdout",
     "output_type": "stream",
     "text": [
      "model.mlops.seldon.io/iris condition met\r\n"
     ]
    }
   ],
   "source": [
    "!kubectl wait --for condition=ready --timeout=300s model --all -n seldon-mesh"
   ]
  },
  {
   "cell_type": "code",
   "execution_count": 282,
   "id": "positive-jerusalem",
   "metadata": {},
   "outputs": [
    {
     "name": "stdout",
     "output_type": "stream",
     "text": [
      "{\r\n",
      "  \"modelName\": \"iris\",\r\n",
      "  \"versions\": [\r\n",
      "    {\r\n",
      "      \"version\": 1,\r\n",
      "      \"serverName\": \"mlserver\",\r\n",
      "      \"kubernetesMeta\": {\r\n",
      "        \"namespace\": \"seldon-mesh\",\r\n",
      "        \"generation\": \"1\"\r\n",
      "      },\r\n",
      "      \"modelReplicaState\": {\r\n",
      "        \"2\": {\r\n",
      "          \"state\": \"Available\",\r\n",
      "          \"lastChangeTimestamp\": \"2021-12-25T10:51:22.788771514Z\"\r\n",
      "        }\r\n",
      "      },\r\n",
      "      \"state\": {\r\n",
      "        \"state\": \"ModelAvailable\",\r\n",
      "        \"availableReplicas\": 1,\r\n",
      "        \"lastChangeTimestamp\": \"2021-12-25T10:51:22.788771514Z\"\r\n",
      "      }\r\n",
      "    }\r\n",
      "  ]\r\n",
      "}\r\n"
     ]
    }
   ],
   "source": [
    "!grpcurl -d '{\"model\":{\"name\":\"iris\"}}' \\\n",
    "         -plaintext \\\n",
    "         -import-path ../../apis \\\n",
    "         -proto ../../apis/mlops/scheduler/scheduler.proto  ${SCHEDULER_IP}:9004 seldon.mlops.scheduler.Scheduler/ModelStatus"
   ]
  },
  {
   "cell_type": "code",
   "execution_count": 283,
   "id": "known-accuracy",
   "metadata": {
    "scrolled": true
   },
   "outputs": [
    {
     "name": "stdout",
     "output_type": "stream",
     "text": [
      "* Expire in 0 ms for 6 (transfer 0x55656cb904f0)\n",
      "*   Trying 172.18.255.3...\n",
      "* TCP_NODELAY set\n",
      "* Expire in 200 ms for 4 (transfer 0x55656cb904f0)\n",
      "* Connected to 172.18.255.3 (172.18.255.3) port 80 (#0)\n",
      "> POST /v2/models/iris/infer HTTP/1.1\n",
      "> Host: iris\n",
      "> User-Agent: curl/7.64.0\n",
      "> Accept: */*\n",
      "> Content-Type: application/json\n",
      "> Content-Length: 94\n",
      "> \n",
      "* upload completely sent off: 94 out of 94 bytes\n",
      "< HTTP/1.1 200 OK\n",
      "< date: Sat, 25 Dec 2021 10:51:24 GMT\n",
      "< server: envoy\n",
      "< content-length: 194\n",
      "< content-type: application/json\n",
      "< x-envoy-upstream-service-time: 1066\n",
      "< \n",
      "* Connection #0 to host 172.18.255.3 left intact\n",
      "{\"model_name\":\"iris\",\"model_version\":\"1\",\"id\":\"f93f06c2-bf21-490f-9a21-e9a81157dfcb\",\"parameters\":null,\"outputs\":[{\"name\":\"predict\",\"shape\":[1],\"datatype\":\"INT64\",\"parameters\":null,\"data\":[2]}]}"
     ]
    }
   ],
   "source": [
    "!curl -v http://${MESH_IP}/v2/models/iris/infer -H \"Content-Type: application/json\" -H \"Host: iris\"\\\n",
    "        -d '{\"inputs\": [{\"name\": \"predict\", \"shape\": [1, 4], \"datatype\": \"FP32\", \"data\": [[1, 2, 3, 4]]}]}'"
   ]
  },
  {
   "cell_type": "code",
   "execution_count": 284,
   "id": "framed-kentucky",
   "metadata": {},
   "outputs": [
    {
     "name": "stdout",
     "output_type": "stream",
     "text": [
      "{\r\n",
      "  \"modelName\": \"iris\",\r\n",
      "  \"modelVersion\": \"1\",\r\n",
      "  \"outputs\": [\r\n",
      "    {\r\n",
      "      \"name\": \"predict\",\r\n",
      "      \"datatype\": \"INT64\",\r\n",
      "      \"shape\": [\r\n",
      "        \"1\"\r\n",
      "      ],\r\n",
      "      \"contents\": {\r\n",
      "        \"int64Contents\": [\r\n",
      "          \"2\"\r\n",
      "        ]\r\n",
      "      }\r\n",
      "    }\r\n",
      "  ]\r\n",
      "}\r\n"
     ]
    }
   ],
   "source": [
    "!cd ../v2 && \\\n",
    "    grpcurl -d '{\"model_name\":\"iris\",\"inputs\":[{\"name\":\"input\",\"contents\":{\"fp32_contents\":[1,2,3,4]},\"datatype\":\"FP32\",\"shape\":[1,4]}]}' \\\n",
    "        -plaintext \\\n",
    "        -proto grpc_service.proto \\\n",
    "        -rpc-header Seldon:iris \\\n",
    "       ${MESH_IP}:80 inference.GRPCInferenceService/ModelInfer"
   ]
  },
  {
   "cell_type": "code",
   "execution_count": 292,
   "id": "diagnostic-breathing",
   "metadata": {
    "scrolled": false
   },
   "outputs": [
    {
     "name": "stdout",
     "output_type": "stream",
     "text": [
      "model.mlops.seldon.io \"iris\" deleted\r\n"
     ]
    }
   ],
   "source": [
    "!kubectl delete -f ../../operator/samples/models/sklearn-iris-gs.yaml"
   ]
  },
  {
   "cell_type": "markdown",
   "id": "greatest-pharmacology",
   "metadata": {},
   "source": [
    "# Versions Test"
   ]
  },
  {
   "cell_type": "code",
   "execution_count": 204,
   "id": "generic-lemon",
   "metadata": {},
   "outputs": [
    {
     "name": "stdout",
     "output_type": "stream",
     "text": [
      "{\r\n",
      "  \r\n",
      "}\r\n"
     ]
    }
   ],
   "source": [
    "!grpcurl -d '{\"model\":{ \\\n",
    "              \"meta\":{\"name\":\"iris\"},\\\n",
    "              \"modelSpec\":{\"uri\":\"gs://seldon-models/mlserver/iris\",\\\n",
    "                           \"requirements\":[\"sklearn\"],\\\n",
    "                           \"memoryBytes\":50000},\\\n",
    "              \"deploymentSpec\":{\"replicas\":2}}}' \\\n",
    "         -plaintext \\\n",
    "         -import-path ../../apis \\\n",
    "         -proto ../../apis/mlops/scheduler/scheduler.proto  ${SCHEDULER_IP}:9004 seldon.mlops.scheduler.Scheduler/LoadModel"
   ]
  },
  {
   "cell_type": "code",
   "execution_count": 205,
   "id": "documented-person",
   "metadata": {
    "scrolled": true
   },
   "outputs": [
    {
     "name": "stdout",
     "output_type": "stream",
     "text": [
      "{\r\n",
      "  \"modelName\": \"iris\",\r\n",
      "  \"versions\": [\r\n",
      "    {\r\n",
      "      \"version\": 1,\r\n",
      "      \"serverName\": \"mlserver\",\r\n",
      "      \"modelReplicaState\": {\r\n",
      "        \"0\": {\r\n",
      "          \"state\": \"Available\",\r\n",
      "          \"lastChangeTimestamp\": \"2021-12-24T19:22:53.134882821Z\"\r\n",
      "        },\r\n",
      "        \"2\": {\r\n",
      "          \"state\": \"Available\",\r\n",
      "          \"lastChangeTimestamp\": \"2021-12-24T19:22:53.134770245Z\"\r\n",
      "        }\r\n",
      "      },\r\n",
      "      \"state\": {\r\n",
      "        \"state\": \"ModelAvailable\",\r\n",
      "        \"availableReplicas\": 2,\r\n",
      "        \"lastChangeTimestamp\": \"2021-12-24T19:22:53.134882821Z\"\r\n",
      "      }\r\n",
      "    }\r\n",
      "  ]\r\n",
      "}\r\n"
     ]
    }
   ],
   "source": [
    "!grpcurl -d '{\"model\":{\"name\":\"iris\"}}' \\\n",
    "         -plaintext \\\n",
    "         -proto ../apis/mlops/scheduler/scheduler.proto  ${SCHEDULER_IP}:9004 seldon.mlops.scheduler.Scheduler/ModelStatus"
   ]
  },
  {
   "cell_type": "code",
   "execution_count": 206,
   "id": "frequent-islam",
   "metadata": {
    "scrolled": true
   },
   "outputs": [
    {
     "name": "stdout",
     "output_type": "stream",
     "text": [
      "* Expire in 0 ms for 6 (transfer 0x55aa3d3d64f0)\n",
      "*   Trying 172.18.255.3...\n",
      "* TCP_NODELAY set\n",
      "* Expire in 200 ms for 4 (transfer 0x55aa3d3d64f0)\n",
      "* Connected to 172.18.255.3 (172.18.255.3) port 80 (#0)\n",
      "> POST /v2/models/iris/infer HTTP/1.1\n",
      "> Host: iris\n",
      "> User-Agent: curl/7.64.0\n",
      "> Accept: */*\n",
      "> Content-Type: application/json\n",
      "> Content-Length: 94\n",
      "> \n",
      "* upload completely sent off: 94 out of 94 bytes\n",
      "< HTTP/1.1 200 OK\n",
      "< date: Fri, 24 Dec 2021 19:22:55 GMT\n",
      "< server: envoy\n",
      "< content-length: 194\n",
      "< content-type: application/json\n",
      "< x-envoy-upstream-service-time: 1082\n",
      "< \n",
      "* Connection #0 to host 172.18.255.3 left intact\n",
      "{\"model_name\":\"iris\",\"model_version\":\"1\",\"id\":\"84a3e9a5-c96a-45bf-bdc7-a6a399f22949\",\"parameters\":null,\"outputs\":[{\"name\":\"predict\",\"shape\":[1],\"datatype\":\"INT64\",\"parameters\":null,\"data\":[2]}]}"
     ]
    }
   ],
   "source": [
    "!curl -v http://${MESH_IP}/v2/models/iris/infer -H \"Content-Type: application/json\" -H \"Host: iris\"\\\n",
    "        -d '{\"inputs\": [{\"name\": \"predict\", \"shape\": [1, 4], \"datatype\": \"FP32\", \"data\": [[1, 2, 3, 4]]}]}'"
   ]
  },
  {
   "cell_type": "code",
   "execution_count": 207,
   "id": "blocked-field",
   "metadata": {},
   "outputs": [
    {
     "name": "stdout",
     "output_type": "stream",
     "text": [
      "{\r\n",
      "  \"modelName\": \"iris\",\r\n",
      "  \"modelVersion\": \"1\",\r\n",
      "  \"outputs\": [\r\n",
      "    {\r\n",
      "      \"name\": \"predict\",\r\n",
      "      \"datatype\": \"INT64\",\r\n",
      "      \"shape\": [\r\n",
      "        \"1\"\r\n",
      "      ],\r\n",
      "      \"contents\": {\r\n",
      "        \"int64Contents\": [\r\n",
      "          \"2\"\r\n",
      "        ]\r\n",
      "      }\r\n",
      "    }\r\n",
      "  ]\r\n",
      "}\r\n"
     ]
    }
   ],
   "source": [
    "!cd ../v2 && \\\n",
    "    grpcurl -d '{\"model_name\":\"iris\",\"inputs\":[{\"name\":\"input\",\"contents\":{\"fp32_contents\":[1,2,3,4]},\"datatype\":\"FP32\",\"shape\":[1,4]}]}' \\\n",
    "        -plaintext \\\n",
    "        -proto grpc_service.proto \\\n",
    "        -rpc-header Seldon:iris \\\n",
    "       ${MESH_IP}:80 inference.GRPCInferenceService/ModelInfer"
   ]
  },
  {
   "cell_type": "code",
   "execution_count": 208,
   "id": "relative-mainland",
   "metadata": {
    "scrolled": false
   },
   "outputs": [
    {
     "name": "stdout",
     "output_type": "stream",
     "text": [
      "{\r\n",
      "  \"serverName\": \"mlserver\",\r\n",
      "  \"resources\": [\r\n",
      "    {\r\n",
      "      \"memory\": \"100000\",\r\n",
      "      \"availableMemoryBytes\": \"50000\"\r\n",
      "    },\r\n",
      "    {\r\n",
      "      \"memory\": \"100000\",\r\n",
      "      \"availableMemoryBytes\": \"100000\"\r\n",
      "    },\r\n",
      "    {\r\n",
      "      \"memory\": \"100000\",\r\n",
      "      \"availableMemoryBytes\": \"50000\"\r\n",
      "    }\r\n",
      "  ]\r\n",
      "}\r\n"
     ]
    }
   ],
   "source": [
    "!grpcurl -d '{\"name\":\"mlserver\"}' \\\n",
    "         -plaintext \\\n",
    "         -proto ../apis/mlops/scheduler/scheduler.proto  ${SCHEDULER_IP}:9004 seldon.mlops.scheduler.Scheduler/ServerStatus"
   ]
  },
  {
   "cell_type": "code",
   "execution_count": 209,
   "id": "instructional-guinea",
   "metadata": {},
   "outputs": [
    {
     "name": "stdout",
     "output_type": "stream",
     "text": [
      "{\r\n",
      "  \r\n",
      "}\r\n"
     ]
    }
   ],
   "source": [
    "!grpcurl -d '{\"model\":{ \\\n",
    "              \"meta\":{\"name\":\"iris\"},\\\n",
    "              \"modelSpec\":{\"uri\":\"gs://seldon-models/mlserver/iris\",\\\n",
    "                           \"requirements\":[\"sklearn\"],\\\n",
    "                           \"memoryBytes\":20000},\\\n",
    "              \"deploymentSpec\":{\"replicas\":1}}}' \\\n",
    "         -plaintext \\\n",
    "         -import-path ../../apis \\\n",
    "         -proto ../../apis/mlops/scheduler/scheduler.proto  ${SCHEDULER_IP}:9004 seldon.mlops.scheduler.Scheduler/LoadModel"
   ]
  },
  {
   "cell_type": "code",
   "execution_count": 210,
   "id": "composed-framework",
   "metadata": {
    "scrolled": true
   },
   "outputs": [
    {
     "name": "stdout",
     "output_type": "stream",
     "text": [
      "{\r\n",
      "  \"modelName\": \"iris\",\r\n",
      "  \"versions\": [\r\n",
      "    {\r\n",
      "      \"version\": 1,\r\n",
      "      \"serverName\": \"mlserver\",\r\n",
      "      \"modelReplicaState\": {\r\n",
      "        \"0\": {\r\n",
      "          \"state\": \"Unloaded\",\r\n",
      "          \"lastChangeTimestamp\": \"2021-12-24T19:23:02.626285043Z\"\r\n",
      "        },\r\n",
      "        \"2\": {\r\n",
      "          \"state\": \"Unloaded\",\r\n",
      "          \"lastChangeTimestamp\": \"2021-12-24T19:23:02.622571235Z\"\r\n",
      "        }\r\n",
      "      },\r\n",
      "      \"state\": {\r\n",
      "        \"state\": \"ModelTerminated\",\r\n",
      "        \"lastChangeTimestamp\": \"2021-12-24T19:23:02.626285043Z\"\r\n",
      "      }\r\n",
      "    },\r\n",
      "    {\r\n",
      "      \"version\": 2,\r\n",
      "      \"serverName\": \"mlserver\",\r\n",
      "      \"modelReplicaState\": {\r\n",
      "        \"1\": {\r\n",
      "          \"state\": \"Available\",\r\n",
      "          \"lastChangeTimestamp\": \"2021-12-24T19:23:02.626877637Z\"\r\n",
      "        }\r\n",
      "      },\r\n",
      "      \"state\": {\r\n",
      "        \"state\": \"ModelAvailable\",\r\n",
      "        \"availableReplicas\": 1,\r\n",
      "        \"lastChangeTimestamp\": \"2021-12-24T19:23:02.626877637Z\"\r\n",
      "      }\r\n",
      "    }\r\n",
      "  ]\r\n",
      "}\r\n"
     ]
    }
   ],
   "source": [
    "!grpcurl -d '{\"model\":{\"name\":\"iris\"},\"allVersions\":true}' \\\n",
    "         -plaintext \\\n",
    "         -proto ../apis/mlops/scheduler/scheduler.proto  ${SCHEDULER_IP}:9004 seldon.mlops.scheduler.Scheduler/ModelStatus"
   ]
  },
  {
   "cell_type": "code",
   "execution_count": 211,
   "id": "comparative-ecuador",
   "metadata": {
    "scrolled": true
   },
   "outputs": [
    {
     "name": "stdout",
     "output_type": "stream",
     "text": [
      "* Expire in 0 ms for 6 (transfer 0x55ebc489a4f0)\n",
      "*   Trying 172.18.255.3...\n",
      "* TCP_NODELAY set\n",
      "* Expire in 200 ms for 4 (transfer 0x55ebc489a4f0)\n",
      "* Connected to 172.18.255.3 (172.18.255.3) port 80 (#0)\n",
      "> POST /v2/models/iris/infer HTTP/1.1\n",
      "> Host: iris\n",
      "> User-Agent: curl/7.64.0\n",
      "> Accept: */*\n",
      "> Content-Type: application/json\n",
      "> Content-Length: 94\n",
      "> \n",
      "* upload completely sent off: 94 out of 94 bytes\n",
      "< HTTP/1.1 200 OK\n",
      "< date: Fri, 24 Dec 2021 19:23:05 GMT\n",
      "< server: envoy\n",
      "< content-length: 194\n",
      "< content-type: application/json\n",
      "< x-envoy-upstream-service-time: 1066\n",
      "< \n",
      "* Connection #0 to host 172.18.255.3 left intact\n",
      "{\"model_name\":\"iris\",\"model_version\":\"2\",\"id\":\"c9b04a7b-3351-43d0-9427-de69a7cbcffd\",\"parameters\":null,\"outputs\":[{\"name\":\"predict\",\"shape\":[1],\"datatype\":\"INT64\",\"parameters\":null,\"data\":[2]}]}"
     ]
    }
   ],
   "source": [
    "!curl -v http://${MESH_IP}/v2/models/iris/infer -H \"Content-Type: application/json\" -H \"Host: iris\"\\\n",
    "        -d '{\"inputs\": [{\"name\": \"predict\", \"shape\": [1, 4], \"datatype\": \"FP32\", \"data\": [[1, 2, 3, 4]]}]}'"
   ]
  },
  {
   "cell_type": "code",
   "execution_count": 212,
   "id": "disciplinary-album",
   "metadata": {},
   "outputs": [
    {
     "name": "stdout",
     "output_type": "stream",
     "text": [
      "{\r\n",
      "  \"modelName\": \"iris\",\r\n",
      "  \"modelVersion\": \"2\",\r\n",
      "  \"outputs\": [\r\n",
      "    {\r\n",
      "      \"name\": \"predict\",\r\n",
      "      \"datatype\": \"INT64\",\r\n",
      "      \"shape\": [\r\n",
      "        \"1\"\r\n",
      "      ],\r\n",
      "      \"contents\": {\r\n",
      "        \"int64Contents\": [\r\n",
      "          \"2\"\r\n",
      "        ]\r\n",
      "      }\r\n",
      "    }\r\n",
      "  ]\r\n",
      "}\r\n"
     ]
    }
   ],
   "source": [
    "!cd ../v2 && \\\n",
    "    grpcurl -d '{\"model_name\":\"iris\",\"inputs\":[{\"name\":\"input\",\"contents\":{\"fp32_contents\":[1,2,3,4]},\"datatype\":\"FP32\",\"shape\":[1,4]}]}' \\\n",
    "        -plaintext \\\n",
    "        -proto grpc_service.proto \\\n",
    "        -rpc-header Seldon:iris \\\n",
    "       ${MESH_IP}:80 inference.GRPCInferenceService/ModelInfer"
   ]
  },
  {
   "cell_type": "code",
   "execution_count": 213,
   "id": "random-relevance",
   "metadata": {
    "scrolled": false
   },
   "outputs": [
    {
     "name": "stdout",
     "output_type": "stream",
     "text": [
      "{\r\n",
      "  \"serverName\": \"mlserver\",\r\n",
      "  \"resources\": [\r\n",
      "    {\r\n",
      "      \"memory\": \"100000\",\r\n",
      "      \"availableMemoryBytes\": \"100000\"\r\n",
      "    },\r\n",
      "    {\r\n",
      "      \"memory\": \"100000\",\r\n",
      "      \"availableMemoryBytes\": \"80000\"\r\n",
      "    },\r\n",
      "    {\r\n",
      "      \"memory\": \"100000\",\r\n",
      "      \"availableMemoryBytes\": \"100000\"\r\n",
      "    }\r\n",
      "  ]\r\n",
      "}\r\n"
     ]
    }
   ],
   "source": [
    "!grpcurl -d '{\"name\":\"mlserver\"}' \\\n",
    "         -plaintext \\\n",
    "         -proto ../apis/mlops/scheduler/scheduler.proto  ${SCHEDULER_IP}:9004 seldon.mlops.scheduler.Scheduler/ServerStatus"
   ]
  },
  {
   "cell_type": "code",
   "execution_count": 214,
   "id": "beautiful-upgrade",
   "metadata": {},
   "outputs": [
    {
     "name": "stdout",
     "output_type": "stream",
     "text": [
      "{\r\n",
      "  \r\n",
      "}\r\n"
     ]
    }
   ],
   "source": [
    "!grpcurl -d '{\"model\":{\"name\":\"iris\"}}' \\\n",
    "         -plaintext \\\n",
    "         -proto ../apis/mlops/scheduler/scheduler.proto  ${SCHEDULER_IP}:9004 seldon.mlops.scheduler.Scheduler/UnloadModel"
   ]
  },
  {
   "cell_type": "code",
   "execution_count": 215,
   "id": "nuclear-yesterday",
   "metadata": {},
   "outputs": [
    {
     "name": "stdout",
     "output_type": "stream",
     "text": [
      "* Expire in 0 ms for 6 (transfer 0x55b4a31ab4f0)\r\n",
      "*   Trying 172.18.255.3...\r\n",
      "* TCP_NODELAY set\r\n",
      "* Expire in 200 ms for 4 (transfer 0x55b4a31ab4f0)\r\n",
      "* Connected to 172.18.255.3 (172.18.255.3) port 80 (#0)\r\n",
      "> POST /v2/models/iris/infer HTTP/1.1\r",
      "\r\n",
      "> Host: iris\r",
      "\r\n",
      "> User-Agent: curl/7.64.0\r",
      "\r\n",
      "> Accept: */*\r",
      "\r\n",
      "> Content-Type: application/json\r",
      "\r\n",
      "> Content-Length: 94\r",
      "\r\n",
      "> \r",
      "\r\n",
      "* upload completely sent off: 94 out of 94 bytes\r\n",
      "< HTTP/1.1 404 Not Found\r",
      "\r\n",
      "< date: Fri, 24 Dec 2021 19:23:15 GMT\r",
      "\r\n",
      "< server: envoy\r",
      "\r\n",
      "< connection: close\r",
      "\r\n",
      "< content-length: 0\r",
      "\r\n",
      "< \r",
      "\r\n",
      "* Closing connection 0\r\n"
     ]
    }
   ],
   "source": [
    "!curl -v http://${MESH_IP}/v2/models/iris/infer -H \"Content-Type: application/json\" -H \"Host: iris\"\\\n",
    "        -d '{\"inputs\": [{\"name\": \"predict\", \"shape\": [1, 4], \"datatype\": \"FP32\", \"data\": [[1, 2, 3, 4]]}]}'"
   ]
  },
  {
   "cell_type": "code",
   "execution_count": 216,
   "id": "japanese-arcade",
   "metadata": {},
   "outputs": [
    {
     "name": "stdout",
     "output_type": "stream",
     "text": [
      "ERROR:\r\n",
      "  Code: FailedPrecondition\r\n",
      "  Message: Failed to find model iris\r\n"
     ]
    }
   ],
   "source": [
    "!grpcurl -d '{\"model\":{\"name\":\"iris\"},\"allVersions\":true}' \\\n",
    "         -plaintext \\\n",
    "         -proto ../apis/mlops/scheduler/scheduler.proto  ${SCHEDULER_IP}:9004 seldon.mlops.scheduler.Scheduler/ModelStatus"
   ]
  },
  {
   "cell_type": "code",
   "execution_count": 217,
   "id": "enabling-sleeping",
   "metadata": {
    "scrolled": false
   },
   "outputs": [
    {
     "name": "stdout",
     "output_type": "stream",
     "text": [
      "{\r\n",
      "  \"serverName\": \"mlserver\",\r\n",
      "  \"resources\": [\r\n",
      "    {\r\n",
      "      \"memory\": \"100000\",\r\n",
      "      \"availableMemoryBytes\": \"100000\"\r\n",
      "    },\r\n",
      "    {\r\n",
      "      \"memory\": \"100000\",\r\n",
      "      \"availableMemoryBytes\": \"100000\"\r\n",
      "    },\r\n",
      "    {\r\n",
      "      \"memory\": \"100000\",\r\n",
      "      \"availableMemoryBytes\": \"100000\"\r\n",
      "    }\r\n",
      "  ]\r\n",
      "}\r\n"
     ]
    }
   ],
   "source": [
    "!grpcurl -d '{\"name\":\"mlserver\"}' \\\n",
    "         -plaintext \\\n",
    "         -proto ../apis/mlops/scheduler/scheduler.proto  ${SCHEDULER_IP}:9004 seldon.mlops.scheduler.Scheduler/ServerStatus"
   ]
  },
  {
   "cell_type": "code",
   "execution_count": null,
   "id": "wanted-party",
   "metadata": {},
   "outputs": [],
   "source": []
  }
 ],
 "metadata": {
  "kernelspec": {
   "display_name": "Python 3",
   "language": "python",
   "name": "python3"
  },
  "language_info": {
   "codemirror_mode": {
    "name": "ipython",
    "version": 3
   },
   "file_extension": ".py",
   "mimetype": "text/x-python",
   "name": "python",
   "nbconvert_exporter": "python",
   "pygments_lexer": "ipython3",
   "version": "3.7.4"
  }
 },
 "nbformat": 4,
 "nbformat_minor": 5
}
