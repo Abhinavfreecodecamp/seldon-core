{
 "cells": [
  {
   "cell_type": "markdown",
   "id": "forced-trading",
   "metadata": {},
   "source": [
    "# Agent Over-Commit Test\n",
    "\n",
    "\n",
    "## Setup\n",
    "\n",
    "\n",
    "* `make start-proxy`\n",
    "* `make start-rclone`\n",
    "* `make start-agent`\n",
    "* `make start-mlserver`"
   ]
  },
  {
   "cell_type": "code",
   "execution_count": null,
   "id": "unusual-mills",
   "metadata": {},
   "outputs": [],
   "source": [
    "%%bash\n",
    "for i in {1..10}; \n",
    "do\n",
    "\n",
    "echo \"loading model iris$i\"\n",
    "\n",
    "data='{\"request\": { \n",
    "            \"model\":{ \n",
    "                \"meta\": {\"name\":\"iris'\"$i\"'\"}, \n",
    "                \"modelSpec\" : { \n",
    "                    \"uri\":\"gs://seldon-models/sa/mlrepo/iris'\"$i\"'\", \n",
    "                    \"requirements\":[\"sklearn\"],  \n",
    "                    \"memoryBytes\":65}, \n",
    "                \"deploymentSpec\": {\"replicas\":1} \n",
    "                } \n",
    "            },\n",
    "            \"version\":1 \n",
    "        }'\n",
    "\n",
    "grpcurl -d \"$data\" \\\n",
    "-plaintext \\\n",
    "-import-path ../../apis/ \\\n",
    "-proto ../../apis/mlops/proxy/proxy.proto  0.0.0.0:8100 seldon.mlops.proxy.SchedulerProxy/LoadModel\n",
    "\n",
    "\n",
    "done"
   ]
  },
  {
   "cell_type": "code",
   "execution_count": null,
   "id": "sunset-theta",
   "metadata": {
    "scrolled": true
   },
   "outputs": [],
   "source": [
    "%%bash\n",
    "grpcurl -d '{}' \\\n",
    "         -plaintext \\\n",
    "         -import-path ../../apis/ \\\n",
    "         -proto ../apis/mlops/agent_debug/agent_debug.proto  0.0.0.0:7777 seldon.mlops.agent_debug.AgentDebugService/ReplicaStatus"
   ]
  },
  {
   "cell_type": "code",
   "execution_count": null,
   "id": "naval-geography",
   "metadata": {
    "scrolled": true
   },
   "outputs": [],
   "source": [
    "%%bash\n",
    "for i in {1..10}; \n",
    "do\n",
    "\n",
    "time curl -v http://0.0.0.0:9999/v2/models/iris$i/infer -H \"Content-Type: application/json\" -H \"Host: iris\"\\\n",
    "        -d '{\"inputs\": [{\"name\": \"predict\", \"shape\": [1, 4], \"datatype\": \"FP32\", \"data\": [[1, 2, 3, 4]]}]}'\n",
    "\n",
    "done"
   ]
  },
  {
   "cell_type": "code",
   "execution_count": null,
   "id": "795748a3",
   "metadata": {},
   "outputs": [],
   "source": [
    "%%bash\n",
    "\n",
    "grpcurl -d '{\"model_name\":\"iris\",\"inputs\":[{\"name\":\"input\",\"contents\":{\"fp32_contents\":[1,2,3,4]},\"datatype\":\"FP32\",\"shape\":[1,4]}]}' \\\n",
    "        -plaintext \\\n",
    "        -import-path ../../apis/mlops/v2_dataplane/ \\\n",
    "        -proto v2_dataplane.proto \\\n",
    "        -rpc-header seldon-model:iris2 \\\n",
    "        0.0.0.0:9998 inference.GRPCInferenceService/ModelInfer"
   ]
  },
  {
   "cell_type": "code",
   "execution_count": null,
   "id": "4b6359c6",
   "metadata": {
    "scrolled": false
   },
   "outputs": [],
   "source": [
    "%%bash\n",
    "for i in {1..10}; \n",
    "do \n",
    "\n",
    "for j in {1..10};\n",
    "do\n",
    "echo iris$j\n",
    "time curl http://0.0.0.0:9999/v2/models/iris$j/infer -H \"Content-Type: application/json\" -H \"Host: iris\"\\\n",
    "        -d '{\"inputs\": [{\"name\": \"predict\", \"shape\": [1, 4], \"datatype\": \"FP32\", \"data\": [[1, 2, 3, 4]]}]}' &\n",
    "done\n",
    "\n",
    "done\n"
   ]
  },
  {
   "cell_type": "code",
   "execution_count": null,
   "id": "7257bad3",
   "metadata": {},
   "outputs": [],
   "source": [
    "%%bash\n",
    "\n",
    "for i in {3..8}; \n",
    "do\n",
    "\n",
    "echo \"loading model iris$i\"\n",
    "\n",
    "data='{\"request\": { \n",
    "            \"model\":{ \n",
    "                \"meta\": {\"name\":\"iris'\"$i\"'\"}, \n",
    "                \"modelSpec\" : { \n",
    "                    \"uri\":\"gs://seldon-models/sa/mlrepo/iris'\"$i\"'\", \n",
    "                    \"requirements\":[\"sklearn\"],  \n",
    "                    \"memoryBytes\":65}, \n",
    "                \"deploymentSpec\": {\"replicas\":1} \n",
    "                } \n",
    "            },\n",
    "            \"version\":2 \n",
    "        }'\n",
    "\n",
    "grpcurl -d \"$data\" \\\n",
    "-plaintext \\\n",
    "-import-path ../../apis/ \\\n",
    "-proto ../../apis/mlops/proxy/proxy.proto  0.0.0.0:8100 seldon.mlops.proxy.SchedulerProxy/LoadModel\n",
    "\n",
    "done"
   ]
  },
  {
   "cell_type": "code",
   "execution_count": null,
   "id": "entire-black",
   "metadata": {},
   "outputs": [],
   "source": [
    "!grpcurl -d '{\"model\": {\"name\" : \"iris4\"}}' \\\n",
    "         -plaintext \\\n",
    "         -import-path ../../apis/ \\\n",
    "         -proto ../../apis/mlops/proxy/proxy.proto  0.0.0.0:8100 seldon.mlops.proxy.SchedulerProxy/UnloadModel"
   ]
  },
  {
   "cell_type": "code",
   "execution_count": null,
   "id": "suburban-victim",
   "metadata": {},
   "outputs": [],
   "source": []
  }
 ],
 "metadata": {
  "kernelspec": {
   "display_name": "Python 3 (ipykernel)",
   "language": "python",
   "name": "python3"
  },
  "language_info": {
   "codemirror_mode": {
    "name": "ipython",
    "version": 3
   },
   "file_extension": ".py",
   "mimetype": "text/x-python",
   "name": "python",
   "nbconvert_exporter": "python",
   "pygments_lexer": "ipython3",
   "version": "3.8.12"
  }
 },
 "nbformat": 4,
 "nbformat_minor": 5
}
