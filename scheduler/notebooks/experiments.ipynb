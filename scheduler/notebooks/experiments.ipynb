{
 "cells": [
  {
   "cell_type": "markdown",
   "id": "incident-soundtrack",
   "metadata": {},
   "source": [
    "# Experiments Local Test\n",
    "\n"
   ]
  },
  {
   "cell_type": "code",
   "execution_count": null,
   "id": "stone-ceramic",
   "metadata": {},
   "outputs": [],
   "source": [
    "import json\n",
    "from collections import defaultdict"
   ]
  },
  {
   "cell_type": "code",
   "execution_count": null,
   "id": "psychological-report",
   "metadata": {
    "scrolled": false
   },
   "outputs": [],
   "source": [
    "def testJson(model, iterations):\n",
    "    cnts = defaultdict(int)\n",
    "    %env model=$model\n",
    "    for i in range(iterations):\n",
    "        res = !curl -s http://0.0.0.0:9000/v2/models/${model}/infer -H \"Content-Type: application/json\" -H \"seldon-model: ${model}\"\\\n",
    "            -d '{\"inputs\": [{\"name\": \"predict\", \"shape\": [1, 4], \"datatype\": \"FP32\", \"data\": [[1, 2, 3, 4]]}]}'\n",
    "        res = json.loads(res[0])\n",
    "        cnts[res[\"model_name\"]] += 1\n",
    "    for name,cnt in cnts.items():\n",
    "        print(name,cnt)"
   ]
  },
  {
   "cell_type": "code",
   "execution_count": null,
   "id": "recorded-clause",
   "metadata": {},
   "outputs": [],
   "source": [
    "def testGrpc(model, iterations):\n",
    "    cnts = defaultdict(int)\n",
    "    %env model=$model\n",
    "    for i in range(iterations):\n",
    "        res = !grpcurl -d '{\"model_name\":\"iris\",\"inputs\":[{\"name\":\"input\",\"contents\":{\"fp32_contents\":[1,2,3,4]},\"datatype\":\"FP32\",\"shape\":[1,4]}]}' \\\n",
    "              -plaintext \\\n",
    "              -import-path ../../apis \\\n",
    "              -proto ../../apis/mlops/v2_dataplane/v2_dataplane.proto \\\n",
    "              -rpc-header \"seldon-model: ${model}\" \\\n",
    "              0.0.0.0:9000 inference.GRPCInferenceService/ModelInfer\n",
    "        res = json.loads(''.join(res))\n",
    "        cnts[res[\"modelName\"]] += 1       \n",
    "    for name,cnt in cnts.items():\n",
    "        print(name,cnt)"
   ]
  },
  {
   "cell_type": "markdown",
   "id": "smart-bloom",
   "metadata": {},
   "source": [
    "## Experiment baseline for iris model to test iris2"
   ]
  },
  {
   "cell_type": "code",
   "execution_count": null,
   "id": "listed-nowhere",
   "metadata": {},
   "outputs": [],
   "source": [
    "!grpcurl -d '{\"model\":{ \\\n",
    "              \"meta\":{\"name\":\"iris\"},\\\n",
    "              \"modelSpec\":{\"uri\":\"gs://seldon-models/mlserver/iris\",\\\n",
    "                           \"requirements\":[\"sklearn\"],\\\n",
    "                           \"memoryBytes\":500},\\\n",
    "              \"deploymentSpec\":{\"replicas\":1}}}' \\\n",
    "         -plaintext \\\n",
    "         -import-path ../../apis \\\n",
    "         -proto ../../apis/mlops/scheduler/scheduler.proto  0.0.0.0:9004 seldon.mlops.scheduler.Scheduler/LoadModel"
   ]
  },
  {
   "cell_type": "code",
   "execution_count": null,
   "id": "charged-pilot",
   "metadata": {
    "scrolled": true
   },
   "outputs": [],
   "source": [
    "!grpcurl -d '{\"name\":\"mlserver\"}' \\\n",
    "         -plaintext \\\n",
    "         -proto ../apis/mlops/scheduler/scheduler.proto  0.0.0.0:9004 seldon.mlops.scheduler.Scheduler/ServerStatus"
   ]
  },
  {
   "cell_type": "code",
   "execution_count": null,
   "id": "processed-newton",
   "metadata": {},
   "outputs": [],
   "source": [
    "!grpcurl -d '{\"model\":{ \\\n",
    "              \"meta\":{\"name\":\"iris2\"},\\\n",
    "              \"modelSpec\":{\"uri\":\"gs://seldon-models/mlserver/iris\",\\\n",
    "                           \"requirements\":[\"sklearn\"],\\\n",
    "                           \"memoryBytes\":500},\\\n",
    "              \"deploymentSpec\":{\"replicas\":1}}}' \\\n",
    "         -plaintext \\\n",
    "         -import-path ../../apis \\\n",
    "         -proto ../../apis/mlops/scheduler/scheduler.proto  0.0.0.0:9004 seldon.mlops.scheduler.Scheduler/LoadModel"
   ]
  },
  {
   "cell_type": "code",
   "execution_count": null,
   "id": "alike-bundle",
   "metadata": {
    "scrolled": true
   },
   "outputs": [],
   "source": [
    "!grpcurl -d '{\"name\":\"mlserver\"}' \\\n",
    "         -plaintext \\\n",
    "         -proto ../apis/mlops/scheduler/scheduler.proto  0.0.0.0:9004 seldon.mlops.scheduler.Scheduler/ServerStatus"
   ]
  },
  {
   "cell_type": "code",
   "execution_count": null,
   "id": "quick-baptist",
   "metadata": {},
   "outputs": [],
   "source": [
    "!grpcurl -d '{\"name\":\"exp1\", \\\n",
    "               \"baseline\":{\"modelName\":\"iris\",\"weight\":50}, \\\n",
    "                \"candidates\":[{\"modelName\":\"iris2\",\"weight\":50}]}' \\\n",
    "         -plaintext \\\n",
    "         -import-path ../../apis \\\n",
    "         -proto ../../apis/mlops/scheduler/scheduler.proto  0.0.0.0:9004 seldon.mlops.scheduler.Scheduler/StartExperiment"
   ]
  },
  {
   "cell_type": "code",
   "execution_count": null,
   "id": "suburban-pregnancy",
   "metadata": {},
   "outputs": [],
   "source": [
    "testJson(\"iris\",50)"
   ]
  },
  {
   "cell_type": "code",
   "execution_count": null,
   "id": "mathematical-philip",
   "metadata": {},
   "outputs": [],
   "source": [
    "testGrpc(\"iris\",50)"
   ]
  },
  {
   "cell_type": "code",
   "execution_count": null,
   "id": "suspected-sydney",
   "metadata": {},
   "outputs": [],
   "source": [
    "!grpcurl -d '{\"name\":\"exp1\"}' \\\n",
    "         -plaintext \\\n",
    "         -import-path ../../apis \\\n",
    "         -proto ../../apis/mlops/scheduler/scheduler.proto  0.0.0.0:9004 seldon.mlops.scheduler.Scheduler/StopExperiment"
   ]
  },
  {
   "cell_type": "code",
   "execution_count": null,
   "id": "domestic-harris",
   "metadata": {},
   "outputs": [],
   "source": [
    "testJson(\"iris\", 50)"
   ]
  },
  {
   "cell_type": "code",
   "execution_count": null,
   "id": "growing-samba",
   "metadata": {},
   "outputs": [],
   "source": [
    "!grpcurl -d '{\"model\":{\"name\":\"iris\"}}' \\\n",
    "         -plaintext \\\n",
    "         -import-path ../../apis \\\n",
    "         -proto ../../apis/mlops/scheduler/scheduler.proto  0.0.0.0:9004 seldon.mlops.scheduler.Scheduler/UnloadModel"
   ]
  },
  {
   "cell_type": "code",
   "execution_count": null,
   "id": "conscious-feedback",
   "metadata": {},
   "outputs": [],
   "source": [
    "!grpcurl -d '{\"model\":{\"name\":\"iris2\"}}' \\\n",
    "         -plaintext \\\n",
    "         -import-path ../../apis \\\n",
    "         -proto ../../apis/mlops/scheduler/scheduler.proto  0.0.0.0:9004 seldon.mlops.scheduler.Scheduler/UnloadModel"
   ]
  },
  {
   "cell_type": "markdown",
   "id": "certain-improvement",
   "metadata": {},
   "source": [
    "## Experiment over two iris models"
   ]
  },
  {
   "cell_type": "code",
   "execution_count": null,
   "id": "isolated-weekend",
   "metadata": {},
   "outputs": [],
   "source": [
    "def testExperimentJson(experiment, iterations):\n",
    "    cnts = defaultdict(int)\n",
    "    %env model=$experiment\n",
    "    for i in range(iterations):\n",
    "        res = !curl -s http://0.0.0.0:9000/v2/models/exp1/infer -H \"Content-Type: application/json\" -H \"seldon-model: ${model}.experiment\"\\\n",
    "            -d '{\"inputs\": [{\"name\": \"predict\", \"shape\": [1, 4], \"datatype\": \"FP32\", \"data\": [[1, 2, 3, 4]]}]}'\n",
    "        res = json.loads(res[0])\n",
    "        cnts[res[\"model_name\"]] += 1\n",
    "    for name,cnt in cnts.items():\n",
    "        print(name,cnt)"
   ]
  },
  {
   "cell_type": "code",
   "execution_count": null,
   "id": "universal-marriage",
   "metadata": {},
   "outputs": [],
   "source": [
    "def testExperimentGrpc(experiment, iterations):\n",
    "    cnts = defaultdict(int)\n",
    "    %env model=$experiment\n",
    "    for i in range(iterations):\n",
    "        res = !grpcurl -d '{\"model_name\":\"exp1\",\"inputs\":[{\"name\":\"input\",\"contents\":{\"fp32_contents\":[1,2,3,4]},\"datatype\":\"FP32\",\"shape\":[1,4]}]}' \\\n",
    "              -plaintext \\\n",
    "              -import-path ../../apis \\\n",
    "              -proto ../../apis/mlops/v2_dataplane/v2_dataplane.proto \\\n",
    "              -rpc-header \"seldon-model:${model}.experiment\" \\\n",
    "              0.0.0.0:9000 inference.GRPCInferenceService/ModelInfer\n",
    "        res = json.loads(''.join(res))\n",
    "        cnts[res[\"modelName\"]] += 1       \n",
    "    for name,cnt in cnts.items():\n",
    "        print(name,cnt)"
   ]
  },
  {
   "cell_type": "code",
   "execution_count": null,
   "id": "tribal-constitutional",
   "metadata": {},
   "outputs": [],
   "source": [
    "!grpcurl -d '{\"model\":{ \\\n",
    "              \"meta\":{\"name\":\"iris\"},\\\n",
    "              \"modelSpec\":{\"uri\":\"gs://seldon-models/mlserver/iris\",\\\n",
    "                           \"requirements\":[\"sklearn\"],\\\n",
    "                           \"memoryBytes\":500},\\\n",
    "              \"deploymentSpec\":{\"replicas\":1}}}' \\\n",
    "         -plaintext \\\n",
    "         -import-path ../../apis \\\n",
    "         -proto ../../apis/mlops/scheduler/scheduler.proto  0.0.0.0:9004 seldon.mlops.scheduler.Scheduler/LoadModel"
   ]
  },
  {
   "cell_type": "code",
   "execution_count": null,
   "id": "peaceful-silicon",
   "metadata": {},
   "outputs": [],
   "source": [
    "!grpcurl -d '{\"model\":{ \\\n",
    "              \"meta\":{\"name\":\"iris2\"},\\\n",
    "              \"modelSpec\":{\"uri\":\"gs://seldon-models/mlserver/iris\",\\\n",
    "                           \"requirements\":[\"sklearn\"],\\\n",
    "                           \"memoryBytes\":500},\\\n",
    "              \"deploymentSpec\":{\"replicas\":1}}}' \\\n",
    "         -plaintext \\\n",
    "         -import-path ../../apis \\\n",
    "         -proto ../../apis/mlops/scheduler/scheduler.proto  0.0.0.0:9004 seldon.mlops.scheduler.Scheduler/LoadModel"
   ]
  },
  {
   "cell_type": "code",
   "execution_count": null,
   "id": "allied-reunion",
   "metadata": {
    "scrolled": true
   },
   "outputs": [],
   "source": [
    "!grpcurl -d '{\"name\":\"mlserver\"}' \\\n",
    "         -plaintext \\\n",
    "         -proto ../apis/mlops/scheduler/scheduler.proto  0.0.0.0:9004 seldon.mlops.scheduler.Scheduler/ServerStatus"
   ]
  },
  {
   "cell_type": "code",
   "execution_count": null,
   "id": "electoral-intention",
   "metadata": {},
   "outputs": [],
   "source": [
    "!grpcurl -d '{\"name\":\"exp1\", \\\n",
    "                \"candidates\":[{\"modelName\":\"iris\",\"weight\":50},{\"modelName\":\"iris2\",\"weight\":50}]}' \\\n",
    "         -plaintext \\\n",
    "         -import-path ../../apis \\\n",
    "         -proto ../../apis/mlops/scheduler/scheduler.proto  0.0.0.0:9004 seldon.mlops.scheduler.Scheduler/StartExperiment"
   ]
  },
  {
   "cell_type": "code",
   "execution_count": null,
   "id": "expressed-pizza",
   "metadata": {},
   "outputs": [],
   "source": [
    "testExperimentJson(\"exp1\", 50)"
   ]
  },
  {
   "cell_type": "code",
   "execution_count": null,
   "id": "superb-chuck",
   "metadata": {},
   "outputs": [],
   "source": [
    "testExperimentGrpc(\"exp1\", 50)"
   ]
  },
  {
   "cell_type": "code",
   "execution_count": null,
   "id": "acute-cover",
   "metadata": {},
   "outputs": [],
   "source": [
    "!grpcurl -d '{\"name\":\"exp1\"}' \\\n",
    "         -plaintext \\\n",
    "         -import-path ../../apis \\\n",
    "         -proto ../../apis/mlops/scheduler/scheduler.proto  0.0.0.0:9004 seldon.mlops.scheduler.Scheduler/StopExperiment"
   ]
  },
  {
   "cell_type": "code",
   "execution_count": null,
   "id": "valid-western",
   "metadata": {},
   "outputs": [],
   "source": [
    "!grpcurl -d '{\"model\":{\"name\":\"iris\"}}' \\\n",
    "         -plaintext \\\n",
    "         -import-path ../../apis \\\n",
    "         -proto ../../apis/mlops/scheduler/scheduler.proto  0.0.0.0:9004 seldon.mlops.scheduler.Scheduler/UnloadModel"
   ]
  },
  {
   "cell_type": "code",
   "execution_count": null,
   "id": "impressive-security",
   "metadata": {},
   "outputs": [],
   "source": [
    "!grpcurl -d '{\"model\":{\"name\":\"iris2\"}}' \\\n",
    "         -plaintext \\\n",
    "         -import-path ../../apis \\\n",
    "         -proto ../../apis/mlops/scheduler/scheduler.proto  0.0.0.0:9004 seldon.mlops.scheduler.Scheduler/UnloadModel"
   ]
  },
  {
   "cell_type": "markdown",
   "id": "active-prompt",
   "metadata": {},
   "source": [
    "## Test Baseline Experiment created before models"
   ]
  },
  {
   "cell_type": "code",
   "execution_count": null,
   "id": "meaningful-agent",
   "metadata": {},
   "outputs": [],
   "source": [
    "!grpcurl -d '{\"name\":\"exp1\", \\\n",
    "               \"baseline\":{\"modelName\":\"iris\",\"weight\":50}, \\\n",
    "                \"candidates\":[{\"modelName\":\"iris2\",\"weight\":50}]}' \\\n",
    "         -plaintext \\\n",
    "         -import-path ../../apis \\\n",
    "         -proto ../../apis/mlops/scheduler/scheduler.proto  0.0.0.0:9004 seldon.mlops.scheduler.Scheduler/StartExperiment"
   ]
  },
  {
   "cell_type": "code",
   "execution_count": null,
   "id": "impaired-alignment",
   "metadata": {},
   "outputs": [],
   "source": [
    "!grpcurl -d '{\"model\":{ \\\n",
    "              \"meta\":{\"name\":\"iris\"},\\\n",
    "              \"modelSpec\":{\"uri\":\"gs://seldon-models/mlserver/iris\",\\\n",
    "                           \"requirements\":[\"sklearn\"],\\\n",
    "                           \"memoryBytes\":500},\\\n",
    "              \"deploymentSpec\":{\"replicas\":1}}}' \\\n",
    "         -plaintext \\\n",
    "         -import-path ../../apis \\\n",
    "         -proto ../../apis/mlops/scheduler/scheduler.proto  0.0.0.0:9004 seldon.mlops.scheduler.Scheduler/LoadModel"
   ]
  },
  {
   "cell_type": "code",
   "execution_count": null,
   "id": "immune-dutch",
   "metadata": {},
   "outputs": [],
   "source": [
    "!grpcurl -d '{\"model\":{ \\\n",
    "              \"meta\":{\"name\":\"iris2\"},\\\n",
    "              \"modelSpec\":{\"uri\":\"gs://seldon-models/mlserver/iris\",\\\n",
    "                           \"requirements\":[\"sklearn\"],\\\n",
    "                           \"memoryBytes\":500},\\\n",
    "              \"deploymentSpec\":{\"replicas\":1}}}' \\\n",
    "         -plaintext \\\n",
    "         -import-path ../../apis \\\n",
    "         -proto ../../apis/mlops/scheduler/scheduler.proto  0.0.0.0:9004 seldon.mlops.scheduler.Scheduler/LoadModel"
   ]
  },
  {
   "cell_type": "code",
   "execution_count": null,
   "id": "featured-relations",
   "metadata": {},
   "outputs": [],
   "source": [
    "testJson(\"iris\", 50)"
   ]
  },
  {
   "cell_type": "code",
   "execution_count": null,
   "id": "middle-blind",
   "metadata": {},
   "outputs": [],
   "source": [
    "testGrpc(\"iris\", 50)"
   ]
  },
  {
   "cell_type": "code",
   "execution_count": null,
   "id": "bottom-software",
   "metadata": {},
   "outputs": [],
   "source": [
    "!grpcurl -d '{\"name\":\"exp1\"}' \\\n",
    "         -plaintext \\\n",
    "         -import-path ../../apis \\\n",
    "         -proto ../../apis/mlops/scheduler/scheduler.proto  0.0.0.0:9004 seldon.mlops.scheduler.Scheduler/StopExperiment"
   ]
  },
  {
   "cell_type": "code",
   "execution_count": null,
   "id": "italian-treat",
   "metadata": {},
   "outputs": [],
   "source": [
    "!grpcurl -d '{\"model\":{\"name\":\"iris\"}}' \\\n",
    "         -plaintext \\\n",
    "         -import-path ../../apis \\\n",
    "         -proto ../../apis/mlops/scheduler/scheduler.proto  0.0.0.0:9004 seldon.mlops.scheduler.Scheduler/UnloadModel"
   ]
  },
  {
   "cell_type": "code",
   "execution_count": null,
   "id": "defined-drove",
   "metadata": {},
   "outputs": [],
   "source": [
    "!grpcurl -d '{\"model\":{\"name\":\"iris2\"}}' \\\n",
    "         -plaintext \\\n",
    "         -import-path ../../apis \\\n",
    "         -proto ../../apis/mlops/scheduler/scheduler.proto  0.0.0.0:9004 seldon.mlops.scheduler.Scheduler/UnloadModel"
   ]
  },
  {
   "cell_type": "markdown",
   "id": "multiple-liberty",
   "metadata": {},
   "source": [
    "## Test Standalone Experiment created before models"
   ]
  },
  {
   "cell_type": "code",
   "execution_count": null,
   "id": "furnished-phenomenon",
   "metadata": {},
   "outputs": [],
   "source": [
    "!grpcurl -d '{\"name\":\"exp1\", \\\n",
    "                \"candidates\":[{\"modelName\":\"iris\",\"weight\":50},{\"modelName\":\"iris2\",\"weight\":50}]}' \\\n",
    "         -plaintext \\\n",
    "         -import-path ../../apis \\\n",
    "         -proto ../../apis/mlops/scheduler/scheduler.proto  0.0.0.0:9004 seldon.mlops.scheduler.Scheduler/StartExperiment"
   ]
  },
  {
   "cell_type": "code",
   "execution_count": null,
   "id": "roman-enterprise",
   "metadata": {},
   "outputs": [],
   "source": [
    "!grpcurl -d '{\"model\":{ \\\n",
    "              \"meta\":{\"name\":\"iris\"},\\\n",
    "              \"modelSpec\":{\"uri\":\"gs://seldon-models/mlserver/iris\",\\\n",
    "                           \"requirements\":[\"sklearn\"],\\\n",
    "                           \"memoryBytes\":500},\\\n",
    "              \"deploymentSpec\":{\"replicas\":1}}}' \\\n",
    "         -plaintext \\\n",
    "         -import-path ../../apis \\\n",
    "         -proto ../../apis/mlops/scheduler/scheduler.proto  0.0.0.0:9004 seldon.mlops.scheduler.Scheduler/LoadModel"
   ]
  },
  {
   "cell_type": "code",
   "execution_count": null,
   "id": "quantitative-tradition",
   "metadata": {},
   "outputs": [],
   "source": [
    "!grpcurl -d '{\"model\":{ \\\n",
    "              \"meta\":{\"name\":\"iris2\"},\\\n",
    "              \"modelSpec\":{\"uri\":\"gs://seldon-models/mlserver/iris\",\\\n",
    "                           \"requirements\":[\"sklearn\"],\\\n",
    "                           \"memoryBytes\":500},\\\n",
    "              \"deploymentSpec\":{\"replicas\":1}}}' \\\n",
    "         -plaintext \\\n",
    "         -import-path ../../apis \\\n",
    "         -proto ../../apis/mlops/scheduler/scheduler.proto  0.0.0.0:9004 seldon.mlops.scheduler.Scheduler/LoadModel"
   ]
  },
  {
   "cell_type": "code",
   "execution_count": null,
   "id": "infrared-electric",
   "metadata": {},
   "outputs": [],
   "source": [
    "testJson(\"iris\", 50)"
   ]
  },
  {
   "cell_type": "code",
   "execution_count": null,
   "id": "peaceful-calcium",
   "metadata": {},
   "outputs": [],
   "source": [
    "testExperimentJson(\"exp1\", 50)"
   ]
  },
  {
   "cell_type": "code",
   "execution_count": null,
   "id": "statutory-marathon",
   "metadata": {},
   "outputs": [],
   "source": [
    "!grpcurl -d '{\"name\":\"exp1\"}' \\\n",
    "         -plaintext \\\n",
    "         -import-path ../../apis \\\n",
    "         -proto ../../apis/mlops/scheduler/scheduler.proto  0.0.0.0:9004 seldon.mlops.scheduler.Scheduler/StopExperiment"
   ]
  },
  {
   "cell_type": "code",
   "execution_count": null,
   "id": "accredited-click",
   "metadata": {},
   "outputs": [],
   "source": [
    "!grpcurl -d '{\"model\":{\"name\":\"iris\"}}' \\\n",
    "         -plaintext \\\n",
    "         -import-path ../../apis \\\n",
    "         -proto ../../apis/mlops/scheduler/scheduler.proto  0.0.0.0:9004 seldon.mlops.scheduler.Scheduler/UnloadModel"
   ]
  },
  {
   "cell_type": "code",
   "execution_count": null,
   "id": "stylish-control",
   "metadata": {},
   "outputs": [],
   "source": [
    "!grpcurl -d '{\"model\":{\"name\":\"iris2\"}}' \\\n",
    "         -plaintext \\\n",
    "         -import-path ../../apis \\\n",
    "         -proto ../../apis/mlops/scheduler/scheduler.proto  0.0.0.0:9004 seldon.mlops.scheduler.Scheduler/UnloadModel"
   ]
  },
  {
   "cell_type": "markdown",
   "id": "equivalent-roberts",
   "metadata": {},
   "source": [
    "## Change Experiment"
   ]
  },
  {
   "cell_type": "code",
   "execution_count": null,
   "id": "accepting-fabric",
   "metadata": {},
   "outputs": [],
   "source": [
    "!grpcurl -d '{\"model\":{ \\\n",
    "              \"meta\":{\"name\":\"iris\"},\\\n",
    "              \"modelSpec\":{\"uri\":\"gs://seldon-models/mlserver/iris\",\\\n",
    "                           \"requirements\":[\"sklearn\"],\\\n",
    "                           \"memoryBytes\":500},\\\n",
    "              \"deploymentSpec\":{\"replicas\":1}}}' \\\n",
    "         -plaintext \\\n",
    "         -import-path ../../apis \\\n",
    "         -proto ../../apis/mlops/scheduler/scheduler.proto  0.0.0.0:9004 seldon.mlops.scheduler.Scheduler/LoadModel"
   ]
  },
  {
   "cell_type": "code",
   "execution_count": null,
   "id": "municipal-connection",
   "metadata": {},
   "outputs": [],
   "source": [
    "!grpcurl -d '{\"model\":{ \\\n",
    "              \"meta\":{\"name\":\"iris2\"},\\\n",
    "              \"modelSpec\":{\"uri\":\"gs://seldon-models/mlserver/iris\",\\\n",
    "                           \"requirements\":[\"sklearn\"],\\\n",
    "                           \"memoryBytes\":500},\\\n",
    "              \"deploymentSpec\":{\"replicas\":1}}}' \\\n",
    "         -plaintext \\\n",
    "         -import-path ../../apis \\\n",
    "         -proto ../../apis/mlops/scheduler/scheduler.proto  0.0.0.0:9004 seldon.mlops.scheduler.Scheduler/LoadModel"
   ]
  },
  {
   "cell_type": "code",
   "execution_count": null,
   "id": "human-verse",
   "metadata": {},
   "outputs": [],
   "source": [
    "!grpcurl -d '{\"model\":{ \\\n",
    "              \"meta\":{\"name\":\"iris3\"},\\\n",
    "              \"modelSpec\":{\"uri\":\"gs://seldon-models/mlserver/iris\",\\\n",
    "                           \"requirements\":[\"sklearn\"],\\\n",
    "                           \"memoryBytes\":500},\\\n",
    "              \"deploymentSpec\":{\"replicas\":1}}}' \\\n",
    "         -plaintext \\\n",
    "         -import-path ../../apis \\\n",
    "         -proto ../../apis/mlops/scheduler/scheduler.proto  0.0.0.0:9004 seldon.mlops.scheduler.Scheduler/LoadModel"
   ]
  },
  {
   "cell_type": "code",
   "execution_count": null,
   "id": "technical-anaheim",
   "metadata": {
    "scrolled": true
   },
   "outputs": [],
   "source": [
    "!grpcurl -d '{\"name\":\"mlserver\"}' \\\n",
    "         -plaintext \\\n",
    "         -proto ../apis/mlops/scheduler/scheduler.proto  0.0.0.0:9004 seldon.mlops.scheduler.Scheduler/ServerStatus"
   ]
  },
  {
   "cell_type": "code",
   "execution_count": null,
   "id": "hollow-neutral",
   "metadata": {},
   "outputs": [],
   "source": [
    "!grpcurl -d '{\"name\":\"exp1\", \\\n",
    "               \"baseline\":{\"modelName\":\"iris\",\"weight\":50}, \\\n",
    "                \"candidates\":[{\"modelName\":\"iris2\",\"weight\":50}]}' \\\n",
    "         -plaintext \\\n",
    "         -import-path ../../apis \\\n",
    "         -proto ../../apis/mlops/scheduler/scheduler.proto  0.0.0.0:9004 seldon.mlops.scheduler.Scheduler/StartExperiment"
   ]
  },
  {
   "cell_type": "code",
   "execution_count": null,
   "id": "moral-xerox",
   "metadata": {},
   "outputs": [],
   "source": [
    "testJson(\"iris\", 50)"
   ]
  },
  {
   "cell_type": "code",
   "execution_count": null,
   "id": "catholic-assistant",
   "metadata": {},
   "outputs": [],
   "source": [
    "testJson(\"iris2\", 50)"
   ]
  },
  {
   "cell_type": "code",
   "execution_count": null,
   "id": "proprietary-australia",
   "metadata": {},
   "outputs": [],
   "source": [
    "!grpcurl -d '{\"name\":\"exp1\", \\\n",
    "               \"baseline\":{\"modelName\":\"iris2\",\"weight\":50}, \\\n",
    "                \"candidates\":[{\"modelName\":\"iris3\",\"weight\":50}]}' \\\n",
    "         -plaintext \\\n",
    "         -import-path ../../apis \\\n",
    "         -proto ../../apis/mlops/scheduler/scheduler.proto  0.0.0.0:9004 seldon.mlops.scheduler.Scheduler/StartExperiment"
   ]
  },
  {
   "cell_type": "code",
   "execution_count": null,
   "id": "consistent-collect",
   "metadata": {},
   "outputs": [],
   "source": [
    "testJson(\"iris\", 50)"
   ]
  },
  {
   "cell_type": "code",
   "execution_count": null,
   "id": "occasional-acrobat",
   "metadata": {},
   "outputs": [],
   "source": [
    "testJson(\"iris2\", 50)"
   ]
  },
  {
   "cell_type": "code",
   "execution_count": null,
   "id": "spatial-engine",
   "metadata": {},
   "outputs": [],
   "source": [
    "!grpcurl -d '{\"name\":\"exp1\"}' \\\n",
    "         -plaintext \\\n",
    "         -import-path ../../apis \\\n",
    "         -proto ../../apis/mlops/scheduler/scheduler.proto  0.0.0.0:9004 seldon.mlops.scheduler.Scheduler/StopExperiment"
   ]
  },
  {
   "cell_type": "code",
   "execution_count": null,
   "id": "streaming-palmer",
   "metadata": {},
   "outputs": [],
   "source": [
    "!grpcurl -d '{\"model\":{\"name\":\"iris\"}}' \\\n",
    "         -plaintext \\\n",
    "         -import-path ../../apis \\\n",
    "         -proto ../../apis/mlops/scheduler/scheduler.proto  0.0.0.0:9004 seldon.mlops.scheduler.Scheduler/UnloadModel"
   ]
  },
  {
   "cell_type": "code",
   "execution_count": null,
   "id": "equivalent-number",
   "metadata": {},
   "outputs": [],
   "source": [
    "!grpcurl -d '{\"model\":{\"name\":\"iris2\"}}' \\\n",
    "         -plaintext \\\n",
    "         -import-path ../../apis \\\n",
    "         -proto ../../apis/mlops/scheduler/scheduler.proto  0.0.0.0:9004 seldon.mlops.scheduler.Scheduler/UnloadModel"
   ]
  },
  {
   "cell_type": "code",
   "execution_count": null,
   "id": "divine-table",
   "metadata": {},
   "outputs": [],
   "source": [
    "!grpcurl -d '{\"model\":{\"name\":\"iris3\"}}' \\\n",
    "         -plaintext \\\n",
    "         -import-path ../../apis \\\n",
    "         -proto ../../apis/mlops/scheduler/scheduler.proto  0.0.0.0:9004 seldon.mlops.scheduler.Scheduler/UnloadModel"
   ]
  },
  {
   "cell_type": "code",
   "execution_count": null,
   "id": "athletic-assessment",
   "metadata": {},
   "outputs": [],
   "source": []
  }
 ],
 "metadata": {
  "kernelspec": {
   "display_name": "Python 3",
   "language": "python",
   "name": "python3"
  },
  "language_info": {
   "codemirror_mode": {
    "name": "ipython",
    "version": 3
   },
   "file_extension": ".py",
   "mimetype": "text/x-python",
   "name": "python",
   "nbconvert_exporter": "python",
   "pygments_lexer": "ipython3",
   "version": "3.7.4"
  }
 },
 "nbformat": 4,
 "nbformat_minor": 5
}
