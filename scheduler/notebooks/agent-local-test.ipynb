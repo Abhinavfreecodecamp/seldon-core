{
 "cells": [
  {
   "cell_type": "markdown",
   "id": "configured-scheme",
   "metadata": {},
   "source": [
    "# Agent Local Test\n",
    "\n",
    "Setup\n",
    " * `make start-agent`\n",
    " * `make start-rclone`\n",
    " * `make start-mlserver`"
   ]
  },
  {
   "cell_type": "code",
   "execution_count": 5,
   "id": "restricted-gauge",
   "metadata": {},
   "outputs": [
    {
     "name": "stdout",
     "output_type": "stream",
     "text": [
      "{\r\n",
      "  \"event\": \"LOADED\"\r\n",
      "}\r\n"
     ]
    }
   ],
   "source": [
    "!grpcurl -d '{\"modelName\":\"iris\",\"storageURI\":\"gs://seldon-models/mlserver/iris\"}' \\\n",
    "         -plaintext \\\n",
    "         -import-path ../../apis \\\n",
    "         -proto ../../apis/mlops/agent/agent.proto  0.0.0.0:9005 seldon.mlops.agent.Agent/LoadModel"
   ]
  },
  {
   "cell_type": "code",
   "execution_count": 17,
   "id": "ruled-comment",
   "metadata": {},
   "outputs": [
    {
     "name": "stdout",
     "output_type": "stream",
     "text": [
      "{\"model_name\":\"iris\",\"model_version\":\"v0.1.0\",\"id\":\"503a98c7-505a-4aa2-b2d6-d1abc098b2b9\",\"parameters\":null,\"outputs\":[{\"name\":\"predict\",\"shape\":[1],\"datatype\":\"INT64\",\"parameters\":null,\"data\":[2]}]}"
     ]
    }
   ],
   "source": [
    "!curl http://0.0.0.0:8080/v2/models/iris/infer -H \"Content-Type: application/json\" \\\n",
    "        -d '{\"inputs\": [{\"name\": \"predict\", \"shape\": [1, 4], \"datatype\": \"FP32\", \"data\": [[1, 2, 3, 4]]}]}'"
   ]
  },
  {
   "cell_type": "code",
   "execution_count": 18,
   "id": "fluid-lawyer",
   "metadata": {},
   "outputs": [
    {
     "name": "stdout",
     "output_type": "stream",
     "text": [
      "{\r\n",
      "  \"event\": \"UNLOADED\"\r\n",
      "}\r\n"
     ]
    }
   ],
   "source": [
    "!grpcurl -d '{\"modelName\":\"iris\"}' \\\n",
    "         -plaintext \\\n",
    "         -import-path ../../apis \\\n",
    "         -proto ../../apis/mlops/agent/agent.proto  0.0.0.0:9005 seldon.mlops.agent.Agent/UnloadModel"
   ]
  },
  {
   "cell_type": "code",
   "execution_count": 19,
   "id": "assumed-gravity",
   "metadata": {},
   "outputs": [
    {
     "name": "stdout",
     "output_type": "stream",
     "text": [
      "{\"error\":\"Model iris not found\"}"
     ]
    }
   ],
   "source": [
    "!curl http://0.0.0.0:8080/v2/models/iris/infer -H \"Content-Type: application/json\" \\\n",
    "        -d '{\"inputs\": [{\"name\": \"predict\", \"shape\": [1, 4], \"datatype\": \"FP32\", \"data\": [[1, 2, 3, 4]]}]}'"
   ]
  },
  {
   "cell_type": "code",
   "execution_count": null,
   "id": "coral-adrian",
   "metadata": {},
   "outputs": [],
   "source": []
  }
 ],
 "metadata": {
  "kernelspec": {
   "display_name": "Python 3",
   "language": "python",
   "name": "python3"
  },
  "language_info": {
   "codemirror_mode": {
    "name": "ipython",
    "version": 3
   },
   "file_extension": ".py",
   "mimetype": "text/x-python",
   "name": "python",
   "nbconvert_exporter": "python",
   "pygments_lexer": "ipython3",
   "version": "3.7.4"
  }
 },
 "nbformat": 4,
 "nbformat_minor": 5
}
